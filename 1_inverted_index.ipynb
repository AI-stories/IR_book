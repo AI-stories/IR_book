{
 "cells": [
  {
   "attachments": {},
   "cell_type": "markdown",
   "metadata": {},
   "source": [
    "# The inverted index"
   ]
  },
  {
   "attachments": {},
   "cell_type": "markdown",
   "metadata": {},
   "source": [
    "The inverted index is an efficient way of representing *terms* in a collection of *documents*. It maps each term to a sequence of documents that contain that term. Let us look at an example of a few popular books\n",
    "\n",
    "| Book title | text |\n",
    "|------------|------|\n",
    "| Harry Potter | Mr. and Mrs. Dursley, of number four, Privet Drive, were proud to say that they were perfectly normal, thank you very much. They were the last people you’d expect to be involved in anything strange or mysterious, because they just didn’t hold with such nonsense. |\n",
    "| Da Vinci Code | Robert Langdon awoke slowly. A telephone was ringing in the darkness—a tinny, unfamiliar ring.|\n",
    "| Brave New World | A squat grey building of only thirty-four stories. Over the main entrance the words, CENTRAL LONDON HATCHERY AND CONDITIONING CENTRE, and, in a shield, the World State's motto, COMMUNITY, IDENTITY, STABILITY.|\n",
    "| Norwegian Woods | I was 37 then, strapped in my seat as the huge 747 plunged through dense cloud cover on approach to Hamburg airport. Cold November rains drenched the earth, lending everything the gloomy air of a Flemish landscape. |\n",
    "| The English patient | She stands up in the garden where she has been working and looks into the distance. She has sensed a shift in the weather.|\n",
    "\n",
    "A first step is to a so-called *term coincidence matrix*, where for each term in the vocabulary we count how often that term appears in each document. \n",
    "\n",
    "|   | Harry Potter | Da Vinci Code | Brave New World | Norwegian Woods | The English Patient |\n",
    "|---|--------------|---------------|-----------------|-----------------|---------------------|\n",
    "|the|3              |1              |2                  |4              | 4                  | \n",
    "|of|1               |0              |1              |1              | 0                     |\n",
    "|and|1              |0              |1              |1              | 2                     |\n",
    "|main|0             |0                 |1           |0              | 0                     |\n",
    "|...|...|...|...|...|...|\n"
   ]
  },
  {
   "attachments": {},
   "cell_type": "markdown",
   "metadata": {},
   "source": [
    "This representation is however not so efficient as it is very sparse: Although common words like _the_, _of_, and _and_ appear in every book, many words are more rare. _Dursley_ appears only in Harry Potter and _Hamburg_ only in Norwegian Woods. In fact, in the above example out of the 108 unique words, 93 words can only be found in one the five books. In this example we dealt with 5 documents that are relatively short, but in practice we usually deal with collections of dozens to thousands of documents each with dozens to hundreds of pages. Saving all the data in the form of a term coincidence matrix like above is then not so efficient. Not only do we need a lot of memory to save it, we waste a lot of memory on storing lots of zeros. \n",
    "\n",
    "In information retrieval we are more interested in documents that contain certain terms, than documents that do not. One popular approach, if not *the* most popular approach, dealing with this problem is to create an _inverted index_, sometimes also called a hash or lookup table. The vocabulary is now used as an _index_ and for each term we only store the book titles that contain the term. "
   ]
  },
  {
   "cell_type": "code",
   "execution_count": 2,
   "metadata": {},
   "outputs": [],
   "source": [
    "from collections import Counter, defaultdict"
   ]
  },
  {
   "cell_type": "code",
   "execution_count": 3,
   "metadata": {},
   "outputs": [
    {
     "name": "stdout",
     "output_type": "stream",
     "text": [
      "[3, 1, 2, 4, 4]\n",
      "[1, 0, 1, 1, 0]\n",
      "[1, 0, 0, 1, 2]\n",
      "[0, 0, 1, 0, 0]\n"
     ]
    }
   ],
   "source": [
    "doc_labels = [\n",
    "    \"Harry Potter\",\n",
    "    \"Da Vinci Code\",\n",
    "    \"Brave New World\",\n",
    "    \"Norwegian Woods\",\n",
    "    \"The English patient\",\n",
    "]\n",
    "docs = [\n",
    "    \"Mr. and Mrs. Dursley, of number four, Privet Drive, were proud to say that they were perfectly normal, thank you very much. They were the last people you’d expect to be involved in anything strange or mysterious, because they just didn’t hold with such nonsense.\",\n",
    "    \"Robert Langdon awoke slowly. A telephone was ringing in the darkness—a tinny, unfamiliar ring.\",\n",
    "    \"A squat grey building of only thirty-four stories. Over the main entrance the words, CENTRAL LONDON HATCHERY AND CONDITIONING CENTRE, and, in a shield, the World State's motto, COMMUNITY, IDENTITY, STABILITY.\",\n",
    "    \"I was 37 then, strapped in my seat as the huge 747 plunged through dense cloud cover on approach to Hamburg airport. Cold November rains drenched the earth, lending everything the gloomy air of a Flemish landscape\",\n",
    "    \"She stands up in the garden where she has been working and looks into the distance. She has sensed a shift in the weather.\",\n",
    "]\n",
    "all_terms = []\n",
    "for doc in docs:\n",
    "    doc = doc.replace(\".\", \"\").replace(\",\", \"\")\n",
    "    terms = doc.split(\" \")\n",
    "    all_terms += terms\n",
    "\n",
    "vocab = set(all_terms)\n",
    "coincidence_matrix = defaultdict(lambda: [0, 0, 0, 0, 0])\n",
    "for i, doc in enumerate(docs):\n",
    "    for term in vocab:\n",
    "        if term in doc:\n",
    "            coincidence_matrix[term][i] = doc.count(term)\n",
    "print(coincidence_matrix[\"the\"])\n",
    "print(coincidence_matrix[\"of\"])\n",
    "print(coincidence_matrix[\"and\"])\n",
    "print(coincidence_matrix[\"main\"])"
   ]
  },
  {
   "cell_type": "code",
   "execution_count": 4,
   "metadata": {},
   "outputs": [
    {
     "data": {
      "text/plain": [
       "396"
      ]
     },
     "execution_count": 4,
     "metadata": {},
     "output_type": "execute_result"
    }
   ],
   "source": [
    "import numpy as np\n",
    "\n",
    "np.sum(np.array(list(coincidence_matrix.values())) == 0)"
   ]
  },
  {
   "cell_type": "code",
   "execution_count": 12,
   "metadata": {},
   "outputs": [
    {
     "data": {
      "text/plain": [
       "dict_values([[1, 0, 0, 0, 0], [1, 0, 1, 0, 0], [1, 0, 0, 0, 0], [1, 0, 0, 0, 0], [1, 0, 0, 0, 0], [1, 0, 0, 0, 0], [1, 0, 0, 0, 0], [2, 0, 0, 0, 0], [1, 0, 0, 0, 0], [1, 0, 0, 0, 0], [1, 0, 0, 0, 0], [3, 0, 0, 0, 0], [1, 0, 0, 0, 0], [1, 0, 0, 0, 0], [1, 0, 0, 0, 0], [1, 0, 0, 1, 2], [2, 0, 0, 0, 0], [3, 5, 2, 4, 4], [1, 0, 0, 0, 0], [2, 0, 1, 1, 1], [1, 0, 0, 0, 0], [9, 7, 3, 14, 8], [1, 0, 0, 0, 0], [1, 0, 0, 0, 0], [1, 0, 0, 0, 0], [2, 0, 0, 0, 0], [1, 0, 0, 0, 0], [1, 0, 0, 0, 0], [1, 0, 0, 0, 0], [1, 0, 0, 0, 0], [1, 0, 0, 0, 0], [3, 1, 2, 4, 4], [1, 2, 1, 1, 0], [3, 1, 0, 1, 1], [1, 0, 0, 2, 0], [1, 0, 0, 0, 0], [1, 0, 0, 0, 0], [1, 0, 0, 0, 0], [1, 1, 0, 2, 2], [1, 0, 1, 1, 0], [1, 0, 0, 0, 0], [1, 0, 0, 0, 0], [1, 0, 0, 1, 0], [1, 0, 0, 0, 0], [2, 0, 2, 1, 1], [0, 1, 0, 0, 0], [0, 1, 0, 0, 0], [0, 1, 0, 0, 0], [0, 1, 0, 0, 0], [0, 1, 0, 1, 0], [0, 1, 0, 0, 0], [0, 1, 0, 0, 0], [0, 1, 0, 0, 0], [0, 2, 0, 0, 0], [0, 1, 0, 0, 0], [0, 1, 0, 0, 0], [0, 1, 1, 0, 0], [0, 0, 1, 0, 0], [0, 0, 1, 0, 0], [0, 0, 1, 0, 0], [0, 0, 1, 0, 0], [0, 0, 1, 0, 0], [0, 0, 1, 0, 0], [0, 0, 1, 0, 0], [0, 0, 1, 0, 0], [0, 0, 1, 0, 0], [0, 0, 1, 0, 0], [0, 0, 0, 2, 0], [0, 0, 0, 1, 0], [0, 0, 0, 1, 0], [0, 0, 0, 1, 0], [0, 0, 0, 1, 0], [0, 0, 0, 1, 0], [0, 0, 0, 1, 0], [0, 0, 0, 1, 0], [0, 0, 0, 1, 0], [0, 0, 0, 1, 0], [0, 0, 0, 1, 0], [0, 0, 0, 1, 0], [0, 0, 0, 1, 0], [0, 0, 0, 1, 0], [0, 0, 0, 1, 0], [0, 0, 0, 1, 0], [0, 0, 0, 1, 0], [0, 0, 0, 1, 0], [0, 0, 0, 1, 0], [0, 0, 0, 1, 0], [0, 0, 0, 1, 0], [0, 0, 0, 1, 0], [0, 0, 0, 1, 0], [0, 0, 0, 1, 0], [0, 0, 0, 1, 0], [0, 0, 0, 1, 0], [0, 0, 0, 0, 1], [0, 0, 0, 0, 1], [0, 0, 0, 0, 1], [0, 0, 0, 0, 1], [0, 0, 0, 0, 1], [0, 0, 0, 0, 1], [0, 0, 0, 0, 1], [0, 0, 0, 0, 2], [0, 0, 0, 0, 1], [0, 0, 0, 0, 1], [0, 0, 0, 0, 1], [0, 0, 0, 0, 1], [0, 0, 0, 0, 2], [0, 0, 0, 0, 1], [0, 0, 0, 0, 1]])"
      ]
     },
     "execution_count": 12,
     "metadata": {},
     "output_type": "execute_result"
    }
   ],
   "source": [
    "coincidence_matrix.values()"
   ]
  },
  {
   "cell_type": "code",
   "execution_count": 15,
   "metadata": {},
   "outputs": [
    {
     "data": {
      "text/plain": [
       "108.0"
      ]
     },
     "execution_count": 15,
     "metadata": {},
     "output_type": "execute_result"
    }
   ],
   "source": [
    "sum([93.0, 5.0, 2.0, 5.0, 3.0])"
   ]
  },
  {
   "cell_type": "code",
   "execution_count": 17,
   "metadata": {},
   "outputs": [
    {
     "data": {
      "text/plain": [
       "0.26666666666666666"
      ]
     },
     "execution_count": 17,
     "metadata": {},
     "output_type": "execute_result"
    }
   ],
   "source": [
    "zeros = np.sum(np.array(list(coincidence_matrix.values())) == 0)\n",
    "non_zeros = np.sum(np.array(list(coincidence_matrix.values())) != 0)\n",
    "\n",
    "non_zeros / (zeros + non_zeros)"
   ]
  },
  {
   "cell_type": "code",
   "execution_count": 14,
   "metadata": {},
   "outputs": [
    {
     "data": {
      "text/plain": [
       "(array([93.,  5.,  2.,  5.,  3.]),\n",
       " array([0.5, 1.5, 2.5, 3.5, 4.5, 5.5]),\n",
       " <BarContainer object of 5 artists>)"
      ]
     },
     "execution_count": 14,
     "metadata": {},
     "output_type": "execute_result"
    },
    {
     "data": {
      "image/png": "[encoded data removed]",
      "text/plain": [
       "<Figure size 640x480 with 1 Axes>"
      ]
     },
     "metadata": {},
     "output_type": "display_data"
    }
   ],
   "source": [
    "counts = np.sum(np.array(list(coincidence_matrix.values())) != 0, axis=1)\n",
    "plt.hist(counts, bins=np.arange(0.5, 6.5))"
   ]
  },
  {
   "cell_type": "code",
   "execution_count": 11,
   "metadata": {},
   "outputs": [
    {
     "data": {
      "text/plain": [
       "(array([96.,  7.,  3.,  0.,  1.,  0.,  0.,  0.,  0.,  1.]),\n",
       " array([ 0.5,  1.5,  2.5,  3.5,  4.5,  5.5,  6.5,  7.5,  8.5,  9.5, 10.5]),\n",
       " <BarContainer object of 10 artists>)"
      ]
     },
     "execution_count": 11,
     "metadata": {},
     "output_type": "execute_result"
    },
    {
     "data": {
      "image/png": "[encoded data removed]",
      "text/plain": [
       "<Figure size 640x480 with 1 Axes>"
      ]
     },
     "metadata": {},
     "output_type": "display_data"
    }
   ],
   "source": [
    "from collections import Counter, defaultdict\n",
    "import matplotlib.pyplot as plt\n",
    "\n",
    "counts = list(Counter(all_terms).values())\n",
    "plt.hist(counts, bins=np.arange(0.5, 11.5))"
   ]
  },
  {
   "cell_type": "code",
   "execution_count": null,
   "metadata": {},
   "outputs": [],
   "source": []
  }
 ],
 "metadata": {
  "kernelspec": {
   "display_name": "datascience",
   "language": "python",
   "name": "python3"
  },
  "language_info": {
   "codemirror_mode": {
    "name": "ipython",
    "version": 3
   },
   "file_extension": ".py",
   "mimetype": "text/x-python",
   "name": "python",
   "nbconvert_exporter": "python",
   "pygments_lexer": "ipython3",
   "version": "3.8.13"
  },
  "orig_nbformat": 4,
  "vscode": {
   "interpreter": {
    "hash": "95593162a9e11259e08a3a648c99548f4f07c7e700ab08e6a007c732daff6e87"
   }
  }
 },
 "nbformat": 4,
 "nbformat_minor": 2
}
