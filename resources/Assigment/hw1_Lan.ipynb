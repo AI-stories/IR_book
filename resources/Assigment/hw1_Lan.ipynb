{
 "cells": [
  {
   "cell_type": "markdown",
   "metadata": {
    "deletable": false,
    "editable": false,
    "nbgrader": {
     "cell_type": "markdown",
     "checksum": "1bba455de8bc2825ca70469169bbadaa",
     "grade": false,
     "grade_id": "cell-c9cd9e550239e812",
     "locked": true,
     "schema_version": 3,
     "solution": false,
     "task": false
    }
   },
   "source": [
    "# Homework 1 (Total Points: 250) <a class=\"anchor\" id=\"top\"></a>\n",
    "\n",
    "\n",
    "**Submission instructions**:\n",
    "- The cells with the `# YOUR CODE HERE` denote that these sections are graded and you need to add your implementation.\n",
    "- For Part 1: You can use the `nltk`, `NumPy`, and `matplotlib` libraries here. Other libraries, e.g., `gensim` or `scikit-learn`, may not be used. For Part 2: `gensim` is allowed in addition to the imported libraries in the next code cell\n",
    "- Please use Python 3.6.5 and `pip install -r requirements.txt` to avoid version issues.\n",
    "- The notebook you submit has to have the student ids, separated by underscores (E.g., `12341234_12341234_12341234_hw1.ipynb`).\n",
    "- This will be parsed by a regexp, **so please double check your filename**.\n",
    "- Only one member of each group has to submit the file (**please do not compress the .ipynb file when you will submit it**) to canvas.\n",
    "- **Make sure to check that your notebook runs before submission**. A quick way to do this is to restart the kernel and run all the cells.  \n",
    "- Do not change the number of arugments in the given functions.\n",
    "- **Please do not delete/add new cells**. Removing cells **will** lead to grade deduction. \n",
    "- Note, that you are not allowed to use Google Colab.\n",
    "\n",
    "\n",
    "**Learning Goals**:\n",
    "- [Part 1, Term-based matching](#part1) (165 points):\n",
    "    - Learn how to load a dataset and process it.\n",
    "    - Learn how to implement several standard IR methods (TF-IDF, BM25, QL) and understand their weaknesses & strengths.\n",
    "    - Learn how to evaluate IR methods.\n",
    "- [Part 2, Semantic-based matching](#part2) (85 points):\n",
    "    - Learn how to implement vector-space retrieval methods (LSI, LDA).\n",
    "    - Learn how to use LSI and LDA for re-ranking.\n",
    "\n",
    "    \n",
    "**Resources**: \n",
    "- **Part 1**: Sections 2.3, 4.1, 4.2, 4.3, 5.3, 5.6, 5.7, 6.2, 7, 8 of [Search Engines: Information Retrieval in Practice](https://ciir.cs.umass.edu/downloads/SEIRiP.pdf)\n",
    "- **Part 2**: [LSI - Chapter 18](https://nlp.stanford.edu/IR-book/pdf/18lsi.pdf) from [Introduction to Information Retrieval](https://nlp.stanford.edu/IR-book/) book and the [original LDA paper](https://jmlr.org/papers/volume3/blei03a/blei03a.pdf)"
   ]
  },
  {
   "cell_type": "code",
   "execution_count": 1,
   "metadata": {
    "deletable": false,
    "editable": false,
    "nbgrader": {
     "cell_type": "code",
     "checksum": "c55bfe94ff1f564dd595547e516c4c6e",
     "grade": false,
     "grade_id": "cell-f5357fabdb9660e3",
     "locked": true,
     "schema_version": 3,
     "solution": false,
     "task": false
    }
   },
   "outputs": [],
   "source": [
    "# imports \n",
    "# TODO: Ensure that no additional library is imported in the notebook. \n",
    "# TODO: Only the standard library and the following libraries are allowed:\n",
    "# TODO: You can also use unlisted classes from these libraries or standard libraries (such as defaultdict, Counter, ...).\n",
    "\n",
    "import os\n",
    "import zipfile\n",
    "from functools import partial\n",
    "\n",
    "import nltk\n",
    "import requests\n",
    "import numpy as np\n",
    "from tqdm import tqdm\n",
    "\n",
    "import matplotlib.pyplot as plt\n",
    "from matplotlib.pyplot import cm\n",
    "\n",
    "from ipywidgets import widgets\n",
    "from IPython.display import display, HTML\n",
    "#from IPython.html import widgets\n",
    "from collections import namedtuple\n",
    "\n",
    "%matplotlib inline"
   ]
  },
  {
   "cell_type": "markdown",
   "metadata": {
    "deletable": false,
    "editable": false,
    "nbgrader": {
     "cell_type": "markdown",
     "checksum": "c8328f758ca5b69f76eee03dbbdd4715",
     "grade": false,
     "grade_id": "cell-7428e12ed184408b",
     "locked": true,
     "schema_version": 3,
     "solution": false,
     "task": false
    }
   },
   "source": [
    "\n",
    "# Part 1: Term-based Matching (165 points) <a class=\"anchor\" id=\"part1\"></a>\n",
    "\n",
    "[Back to top](#top)\n",
    "\n",
    "In the first part, we will learn the basics of IR from loading and preprocessing the material, to implementing some well known search algorithms, to evaluating the ranking performance of the implemented algorithms. We will be using the CACM dataset throughout the assignment. The CACM dataset is a collection of titles and abstracts from the journal CACM (Communication of the ACM).\n",
    "\n",
    "Table of contents:\n",
    "- [Section 1: Text Processing](#text_processing) (5 points)\n",
    "- [Section 2: Indexing](#indexing) (10 points)\n",
    "- [Section 3: Ranking](#ranking) (80 points)\n",
    "- [Section 4: Evaluation](#evaluation) (40 points)\n",
    "- [Section 5: Analysis](#analysis) (30 points)\n"
   ]
  },
  {
   "cell_type": "markdown",
   "metadata": {
    "deletable": false,
    "editable": false,
    "nbgrader": {
     "cell_type": "markdown",
     "checksum": "4e3f938065183dc743aa8254b96b4f5e",
     "grade": false,
     "grade_id": "cell-4b24825cf4ae55ec",
     "locked": true,
     "schema_version": 3,
     "solution": false,
     "task": false
    }
   },
   "source": [
    "---\n",
    "## Section 1: Text Processing (5 points)<a class=\"anchor\" id=\"text_processing\"></a>\n",
    "\n",
    "[Back to Part 1](#part1)\n",
    "\n",
    "In this section, we will load the dataset and learn how to clean up the data to make it usable for an IR system. \n",
    "First, go through the implementation of the following functions:\n",
    "- `read_cacm_docs`: Reads in the CACM documents.\n",
    "- `read_queries`: Reads in the CACM queries.\n",
    "- `load_stopwords`: Loads the stopwords.\n",
    "\n",
    "The points of this section are earned for the following implementations:\n",
    "- `tokenize` (3 points): Tokenizes the input text.\n",
    "- `stem_token` (2 points): Stems the given token. \n",
    "\n",
    "We are using the [CACM dataset](http://ir.dcs.gla.ac.uk/resources/test_collections/cacm/), which is a small, classic IR dataset, composed of a collection of titles and abstracts from the journal CACM. It comes with relevance judgements for queries, so we can evaluate our IR system. \n"
   ]
  },
  {
   "cell_type": "markdown",
   "metadata": {
    "deletable": false,
    "editable": false,
    "nbgrader": {
     "cell_type": "markdown",
     "checksum": "0155d897c7016389d73d160921947a6f",
     "grade": false,
     "grade_id": "cell-45651364e7af6d5a",
     "locked": true,
     "schema_version": 3,
     "solution": false,
     "task": false
    }
   },
   "source": [
    "---\n",
    "### 1.1 Read the CACM documents\n",
    "\n",
    "\n",
    "The following cell downloads the dataset and unzips it to a local directory."
   ]
  },
  {
   "cell_type": "code",
   "execution_count": 2,
   "metadata": {
    "deletable": false,
    "editable": false,
    "nbgrader": {
     "cell_type": "code",
     "checksum": "4d43c9ad6e77cc01ce4cef0c34824930",
     "grade": false,
     "grade_id": "cell-bbc3030bb3fe7e02",
     "locked": true,
     "schema_version": 3,
     "solution": false,
     "task": false
    }
   },
   "outputs": [],
   "source": [
    "def download_dataset():\n",
    "    folder_path = os.environ.get(\"IR1_DATA_PATH\")\n",
    "    if not folder_path:\n",
    "        folder_path = \"./datasets/\"\n",
    "    os.makedirs(folder_path, exist_ok=True)\n",
    "    \n",
    "    file_location = os.path.join(folder_path, \"cacm.zip\")\n",
    "    \n",
    "    # download file if it doesn't exist\n",
    "    if not os.path.exists(file_location):\n",
    "        \n",
    "        url = \"https://surfdrive.surf.nl/files/index.php/s/M0FGJpX2p8wDwxR/download\"\n",
    "\n",
    "        with open(file_location, \"wb\") as handle:\n",
    "            print(f\"Downloading file from {url} to {file_location}\")\n",
    "            response = requests.get(url, stream=True)\n",
    "            for data in tqdm(response.iter_content()):\n",
    "                handle.write(data)\n",
    "            print(\"Finished downloading file\")\n",
    "    \n",
    "    if not os.path.exists(os.path.join(folder_path, \"train.txt\")):\n",
    "        \n",
    "        # unzip file\n",
    "        with zipfile.ZipFile(file_location, 'r') as zip_ref:\n",
    "            zip_ref.extractall(folder_path)\n",
    "        \n",
    "download_dataset()"
   ]
  },
  {
   "cell_type": "markdown",
   "metadata": {
    "deletable": false,
    "editable": false,
    "nbgrader": {
     "cell_type": "markdown",
     "checksum": "31609b0d61d0c74cbd69bc43e47c23be",
     "grade": false,
     "grade_id": "cell-a7dd9a9bf98ede05",
     "locked": true,
     "schema_version": 3,
     "solution": false,
     "task": false
    }
   },
   "source": [
    "---\n",
    "\n",
    "You can see a brief description of each file in the dataset by looking at the README file:"
   ]
  },
  {
   "cell_type": "code",
   "execution_count": 3,
   "metadata": {
    "deletable": false,
    "editable": false,
    "nbgrader": {
     "cell_type": "code",
     "checksum": "cb3c9a2b8b2bf4fd5b7446b0c4c00f43",
     "grade": false,
     "grade_id": "cell-9b6ff1a17124711f",
     "locked": true,
     "schema_version": 3,
     "solution": false,
     "task": false
    }
   },
   "outputs": [
    {
     "name": "stdout",
     "output_type": "stream",
     "text": [
      "Files in this directory with sizes:\n",
      "          0 Jun 19 21:01 README\n",
      "\n",
      "    2187734 Jun 19 20:55 cacm.all              text of documents\n",
      "        626 Jun 19 20:58 cite.info             key to citation info\n",
      "                                                (the X sections in cacm.all)\n",
      "       2668 Jun 19 20:55 common_words           stop words used by smart\n",
      "       2194 Jun 19 20:55 make_coll*             shell script to make collection\n",
      "       1557 Jun 19 20:55 make_coll_term*        ditto (both useless without\n",
      "                                                smart system)\n",
      "       9948 Jun 19 20:55 qrels.text             relation giving\n",
      "                                                    qid did 0 0\n",
      "                                                to indicate dument did is\n",
      "                                                relevant to query qid\n",
      "      13689 Jun 19 20:55 query.text             Original text of the query\n",
      "\n"
     ]
    }
   ],
   "source": [
    "##### Read the README file \n",
    "with open (\"./datasets/README\",\"r\") as file:\n",
    "    readme = file.read()\n",
    "    print(readme)\n",
    "#####"
   ]
  },
  {
   "cell_type": "markdown",
   "metadata": {
    "deletable": false,
    "editable": false,
    "nbgrader": {
     "cell_type": "markdown",
     "checksum": "6e2712c4c4632bf7486a532f7f18074d",
     "grade": false,
     "grade_id": "cell-73351431869fda76",
     "locked": true,
     "schema_version": 3,
     "solution": false,
     "task": false
    }
   },
   "source": [
    "---\n",
    "We are interested in 4 files:\n",
    "- `cacm.all` : Contains the text for all documents. Note that some documents do not have abstracts available\n",
    "- `query.text` : The text of all queries\n",
    "- `qrels.text` : The relevance judgements\n",
    "- `common_words` : A list of common words. This may be used as a collection of stopwords"
   ]
  },
  {
   "cell_type": "code",
   "execution_count": 4,
   "metadata": {
    "deletable": false,
    "editable": false,
    "nbgrader": {
     "cell_type": "code",
     "checksum": "f1162c15177eb4ffe466531d03cff4a2",
     "grade": false,
     "grade_id": "cell-b44dd14079f278ca",
     "locked": true,
     "schema_version": 3,
     "solution": false,
     "task": false
    }
   },
   "outputs": [
    {
     "name": "stdout",
     "output_type": "stream",
     "text": [
      ".I 1\n",
      ".T\n",
      "Preliminary Report-International Algebraic Language\n",
      ".B\n",
      "CACM December, 1958\n",
      ".A\n",
      "Perlis, A. J.\n",
      "Samelson,K.\n",
      ".N\n",
      "CA581203 JB March 22, 1978  8:28 PM\n",
      ".X\n",
      "100\t5\t1\n",
      "123\t5\t1\n",
      "164\t5\t1\n",
      "1\t5\t1\n",
      "1\t5\t1\n",
      "1\t5\t1\n",
      "205\t5\t1\n",
      "210\t5\t1\n",
      "214\t5\t1\n",
      "1982\t5\t1\n",
      "398\t5\t1\n",
      "642\t5\t1\n",
      "669\t5\t1\n",
      "1\t6\t1\n",
      "1\t6\t1\n",
      "1\t6\t1\n",
      "1\t6\t1\n",
      "1\t6\t1\n",
      "1\t6\t1\n",
      "1\t6\t1\n",
      "1\t6\t1\n",
      "1\t6\t1\n",
      "1\t6\t1\n",
      "165\t6\t1\n",
      "196\t6\t1\n",
      "196\t6\t1\n",
      "1273\t6\t1\n",
      "1883\t6\t1\n",
      "324\t6\t1\n",
      "43\t6\t1\n",
      "53\t6\t1\n",
      "91\t6\t1\n",
      "410\t6\t1\n",
      "3184\t6\t1\n",
      "\n"
     ]
    }
   ],
   "source": [
    "##### The first 45 lines of the CACM dataset forms the first record\n",
    "# We are interested only in 3 fields. \n",
    "# 1. the '.I' field, which is the document id\n",
    "# 2. the '.T' field (the title) and\n",
    "# 3. the '.W' field (the abstract, which may be absent)\n",
    "with open (\"./datasets/cacm.all\",\"r\") as file:\n",
    "    cacm_all = \"\".join(file.readlines()[:45])\n",
    "    print(cacm_all)\n",
    "#####"
   ]
  },
  {
   "cell_type": "markdown",
   "metadata": {
    "deletable": false,
    "editable": false,
    "nbgrader": {
     "cell_type": "markdown",
     "checksum": "250b413baccd8efb186bb46a34ae0060",
     "grade": false,
     "grade_id": "cell-c4bf2e263ec553d8",
     "locked": true,
     "schema_version": 3,
     "solution": false,
     "task": false
    }
   },
   "source": [
    "---\n",
    "\n",
    "The following function reads the `cacm.all` file. Note that each document has a variable number of lines. The `.I` field denotes a new document:"
   ]
  },
  {
   "cell_type": "code",
   "execution_count": 5,
   "metadata": {
    "deletable": false,
    "editable": false,
    "nbgrader": {
     "cell_type": "code",
     "checksum": "57d757e6a7a6938740dc899022b4f291",
     "grade": false,
     "grade_id": "cell-b736116eb419c624",
     "locked": true,
     "schema_version": 3,
     "solution": false,
     "task": false
    }
   },
   "outputs": [],
   "source": [
    "def read_cacm_docs(root_folder = \"./datasets/\"):\n",
    "    \"\"\"\n",
    "        Reads in the CACM documents. The dataset is assumed to be in the folder \"./datasets/\" by default\n",
    "        Returns: A list of 2-tuples: (doc_id, document), where 'document' is a single string created by \n",
    "            appending the title and abstract (separated by a \"\\n\"). \n",
    "            In case the record doesn't have an abstract, the document is composed only by the title\n",
    "    \"\"\"\n",
    "    with open(os.path.join(root_folder, \"cacm.all\")) as reader:\n",
    "        lines = reader.readlines()\n",
    "    \n",
    "    doc_id, title, abstract = None, None, None\n",
    "    \n",
    "    docs = []\n",
    "    line_idx = 0\n",
    "    while line_idx < len(lines):\n",
    "        line = lines[line_idx]\n",
    "        if line.startswith(\".I\"):\n",
    "            if doc_id is not None:\n",
    "                docs.append((doc_id, title, abstract))\n",
    "                doc_id, title, abstract = None, None, None\n",
    "            \n",
    "            doc_id = line.split()[-1]\n",
    "            line_idx += 1\n",
    "        elif line.startswith(\".T\"):\n",
    "            # start at next line\n",
    "            line_idx += 1\n",
    "            temp_lines = []\n",
    "            # read till next '.'\n",
    "            while not lines[line_idx].startswith(\".\"):\n",
    "                temp_lines.append(lines[line_idx].strip(\"\\n\"))\n",
    "                line_idx += 1\n",
    "            title = \"\\n\".join(temp_lines).strip(\"\\n\")\n",
    "        elif line.startswith(\".W\"):\n",
    "            # start at next line\n",
    "            line_idx += 1\n",
    "            temp_lines = []\n",
    "            # read till next '.'\n",
    "            while not lines[line_idx].startswith(\".\"):\n",
    "                temp_lines.append(lines[line_idx].strip(\"\\n\"))\n",
    "                line_idx += 1\n",
    "            abstract = \"\\n\".join(temp_lines).strip(\"\\n\")\n",
    "        else:\n",
    "            line_idx += 1\n",
    "    \n",
    "    docs.append((doc_id, title, abstract))\n",
    "    \n",
    "    p_docs = []\n",
    "    for (did, t, a) in docs:\n",
    "        if a is None:\n",
    "            a = \"\"\n",
    "        p_docs.append((did, t + \"\\n\" + a))\n",
    "    return p_docs\n"
   ]
  },
  {
   "cell_type": "code",
   "execution_count": 6,
   "metadata": {
    "deletable": false,
    "editable": false,
    "nbgrader": {
     "cell_type": "code",
     "checksum": "2f81930fcd89670b6e20e2255e1f2369",
     "grade": false,
     "grade_id": "cell-a1c43818e0d3fd79",
     "locked": true,
     "schema_version": 3,
     "solution": false,
     "task": false
    }
   },
   "outputs": [],
   "source": [
    "##### Function check\n",
    "docs = read_cacm_docs()\n",
    "\n",
    "assert isinstance(docs, list)\n",
    "assert len(docs) == 3204, \"There should be exactly 3204 documents\"\n",
    "\n",
    "unzipped_docs = list(zip(*docs))\n",
    "assert np.sum(np.array(list(map(int,unzipped_docs[0])))) == 5134410\n",
    "\n",
    "##### "
   ]
  },
  {
   "cell_type": "markdown",
   "metadata": {
    "deletable": false,
    "editable": false,
    "nbgrader": {
     "cell_type": "markdown",
     "checksum": "25fd3cfaf2137c56002b850699b3c9d3",
     "grade": false,
     "grade_id": "cell-5ed2ddc91f73c60e",
     "locked": true,
     "schema_version": 3,
     "solution": false,
     "task": false
    }
   },
   "source": [
    "---\n",
    "### 1.2 Read the CACM queries\n",
    "\n",
    "Next, let us read the queries. They are formatted similarly:"
   ]
  },
  {
   "cell_type": "code",
   "execution_count": 7,
   "metadata": {
    "deletable": false,
    "editable": false,
    "nbgrader": {
     "cell_type": "code",
     "checksum": "5d26c0908e758acb9968b84056b1060a",
     "grade": false,
     "grade_id": "cell-5c7e8e7c4fc2757f",
     "locked": true,
     "schema_version": 3,
     "solution": false,
     "task": false
    }
   },
   "outputs": [
    {
     "name": "stderr",
     "output_type": "stream",
     "text": [
      "'head' is not recognized as an internal or external command,\n",
      "operable program or batch file.\n"
     ]
    }
   ],
   "source": [
    "##### The first 15 lines of 'query.text' has 2 queries\n",
    "# We are interested only in 2 fields. \n",
    "# 1. the '.I' - the query id\n",
    "# 2. the '.W' - the query\n",
    "!head -15 ./datasets/query.text\n",
    "#####"
   ]
  },
  {
   "cell_type": "markdown",
   "metadata": {
    "deletable": false,
    "editable": false,
    "nbgrader": {
     "cell_type": "markdown",
     "checksum": "8f19f311a660f30e3f86cb0f7037d54a",
     "grade": false,
     "grade_id": "cell-88e293507d2dcef6",
     "locked": true,
     "schema_version": 3,
     "solution": false,
     "task": false
    }
   },
   "source": [
    "---\n",
    "\n",
    "The following function reads the `query.text` file:"
   ]
  },
  {
   "cell_type": "code",
   "execution_count": 8,
   "metadata": {
    "deletable": false,
    "editable": false,
    "nbgrader": {
     "cell_type": "code",
     "checksum": "e3fbb193211007672849487f5cff1664",
     "grade": false,
     "grade_id": "cell-433e3ad5d0e2572a",
     "locked": true,
     "schema_version": 3,
     "solution": false,
     "task": false
    }
   },
   "outputs": [],
   "source": [
    "def read_queries(root_folder = \"./datasets/\"):\n",
    "    \"\"\"\n",
    "        Reads in the CACM queries. The dataset is assumed to be in the folder \"./datasets/\" by default\n",
    "        Returns: A list of 2-tuples: (query_id, query)\n",
    "    \"\"\"\n",
    "    with open(os.path.join(root_folder, \"query.text\")) as reader:\n",
    "        lines = reader.readlines()\n",
    "    \n",
    "    query_id, query = None, None\n",
    "    \n",
    "    queries = []\n",
    "    line_idx = 0\n",
    "    while line_idx < len(lines):\n",
    "        line = lines[line_idx]\n",
    "        if line.startswith(\".I\"):\n",
    "            if query_id is not None:\n",
    "                queries.append((query_id, query))\n",
    "                query_id, query = None, None\n",
    "    \n",
    "            query_id = line.split()[-1]\n",
    "            line_idx += 1\n",
    "        elif line.startswith(\".W\"):\n",
    "            # start at next line\n",
    "            line_idx += 1\n",
    "            temp_lines = []\n",
    "            # read till next '.'\n",
    "            while not lines[line_idx].startswith(\".\"):\n",
    "                temp_lines.append(lines[line_idx].strip(\"\\n\"))\n",
    "                line_idx += 1\n",
    "            query = \"\\n\".join(temp_lines).strip(\"\\n\")\n",
    "        else:\n",
    "            line_idx += 1\n",
    "    \n",
    "    queries.append((query_id, query))\n",
    "    return queries\n"
   ]
  },
  {
   "cell_type": "code",
   "execution_count": 9,
   "metadata": {
    "deletable": false,
    "editable": false,
    "nbgrader": {
     "cell_type": "code",
     "checksum": "a897b9771b54f447be3418d7246fc4a0",
     "grade": false,
     "grade_id": "cell-6ec540abce66c598",
     "locked": true,
     "schema_version": 3,
     "solution": false,
     "task": false
    }
   },
   "outputs": [],
   "source": [
    "##### Function check\n",
    "queries = read_queries()\n",
    "\n",
    "assert isinstance(queries, list)\n",
    "assert len(queries) == 64 and all([q[1] is not None for q in queries]), \"There should be exactly 64 queries\"\n",
    "\n",
    "unzipped_queries = list(zip(*queries))\n",
    "assert np.sum(np.array(list(map(int,unzipped_queries[0])))) == 2080\n",
    "\n",
    "##### "
   ]
  },
  {
   "cell_type": "markdown",
   "metadata": {
    "deletable": false,
    "editable": false,
    "nbgrader": {
     "cell_type": "markdown",
     "checksum": "a300c41912ac63b239070b4c15c9f5c5",
     "grade": false,
     "grade_id": "cell-1c31569491d7b782",
     "locked": true,
     "schema_version": 3,
     "solution": false,
     "task": false
    }
   },
   "source": [
    "---\n",
    "### 1.3 Read the stop words\n",
    "\n",
    "We use the common words stored in `common_words`:"
   ]
  },
  {
   "cell_type": "code",
   "execution_count": 10,
   "metadata": {
    "deletable": false,
    "editable": false,
    "nbgrader": {
     "cell_type": "code",
     "checksum": "1ad6f5bae6a792504c1c8513ae5751ad",
     "grade": false,
     "grade_id": "cell-34bdb63461418a96",
     "locked": true,
     "schema_version": 3,
     "solution": false,
     "task": false
    }
   },
   "outputs": [
    {
     "name": "stderr",
     "output_type": "stream",
     "text": [
      "'head' is not recognized as an internal or external command,\n",
      "operable program or batch file.\n"
     ]
    }
   ],
   "source": [
    "##### Read the stop words file \n",
    "!head ./datasets/common_words\n",
    "##### Read the README file "
   ]
  },
  {
   "cell_type": "markdown",
   "metadata": {
    "deletable": false,
    "editable": false,
    "nbgrader": {
     "cell_type": "markdown",
     "checksum": "6d0fe612e770213b6397c2179b07a966",
     "grade": false,
     "grade_id": "cell-4744bde0338895d8",
     "locked": true,
     "schema_version": 3,
     "solution": false,
     "task": false
    }
   },
   "source": [
    "---\n",
    "\n",
    "The following function reads the `common_words` file (For better coverage, we try to keep them in lowercase):"
   ]
  },
  {
   "cell_type": "code",
   "execution_count": 11,
   "metadata": {
    "deletable": false,
    "editable": false,
    "nbgrader": {
     "cell_type": "code",
     "checksum": "9409713fd26eb0c33587e190638997c4",
     "grade": false,
     "grade_id": "cell-7357aa40f64e5bcb",
     "locked": true,
     "schema_version": 3,
     "solution": false,
     "task": false
    }
   },
   "outputs": [],
   "source": [
    "def load_stopwords(root_folder = \"./datasets/\"):\n",
    "    \"\"\"\n",
    "        Loads the stopwords. The dataset is assumed to be in the folder \"./datasets/\" by default\n",
    "        Output: A set of stopwords\n",
    "    \"\"\"\n",
    "    with open(os.path.join(root_folder, \"common_words\")) as reader:\n",
    "        lines = reader.readlines()\n",
    "    stopwords = set([l.strip().lower() for l in lines])\n",
    "    return stopwords\n"
   ]
  },
  {
   "cell_type": "code",
   "execution_count": 12,
   "metadata": {
    "deletable": false,
    "editable": false,
    "nbgrader": {
     "cell_type": "code",
     "checksum": "f1c8153c3c38133bc2db6e7b076ad470",
     "grade": false,
     "grade_id": "cell-2ca3ac162004de97",
     "locked": true,
     "schema_version": 3,
     "solution": false,
     "task": false
    }
   },
   "outputs": [],
   "source": [
    "##### Function check\n",
    "stopwords = load_stopwords()\n",
    "\n",
    "assert isinstance(stopwords, set)\n",
    "assert len(stopwords) == 428, \"There should be exactly 428 stop words\"\n",
    "\n",
    "assert np.sum(np.array(list(map(len,stopwords)))) == 2234\n",
    "\n",
    "##### \n"
   ]
  },
  {
   "cell_type": "markdown",
   "metadata": {
    "deletable": false,
    "editable": false,
    "nbgrader": {
     "cell_type": "markdown",
     "checksum": "92c1191e9e7291dcf0d70dc67b907a65",
     "grade": false,
     "grade_id": "cell-134b72872f4300cb",
     "locked": true,
     "schema_version": 3,
     "solution": false,
     "task": false
    }
   },
   "source": [
    "---\n",
    "### 1.4 Tokenization (3 points)\n",
    "\n",
    "We can now write some basic text processing functions. \n",
    "A first step is to tokenize the text. \n",
    "\n",
    "**Note**: Use the  `WordPunctTokenizer` available in the `nltk` library:"
   ]
  },
  {
   "cell_type": "code",
   "execution_count": 13,
   "metadata": {},
   "outputs": [],
   "source": [
    "import nltk\n",
    "from nltk.tokenize import wordpunct_tokenize"
   ]
  },
  {
   "cell_type": "code",
   "execution_count": 14,
   "metadata": {
    "deletable": false,
    "nbgrader": {
     "cell_type": "code",
     "checksum": "3f5564d3c75bf22fbf832b3a9b938f37",
     "grade": false,
     "grade_id": "cell-322be4c9499bdc4b",
     "locked": false,
     "schema_version": 3,
     "solution": true,
     "task": false
    }
   },
   "outputs": [],
   "source": [
    "# TODO: Implement this! (4 points)\n",
    "def tokenize(text):\n",
    "    \"\"\"\n",
    "        Tokenizes the input text. Use the WordPunctTokenizer\n",
    "        Input: text - a string\n",
    "        Output: a list of tokens\n",
    "    \"\"\"\n",
    "    # YOUR CODE HERE\n",
    "    tokenize = wordpunct_tokenize(text)\n",
    "    return tokenize\n",
    "    raise NotImplementedError()"
   ]
  },
  {
   "cell_type": "code",
   "execution_count": 15,
   "metadata": {
    "deletable": false,
    "editable": false,
    "nbgrader": {
     "cell_type": "code",
     "checksum": "e15af22c4d8ae0a3f9dac43bef7097ec",
     "grade": true,
     "grade_id": "cell-7fbf48bf7541a622",
     "locked": true,
     "points": 3,
     "schema_version": 3,
     "solution": false,
     "task": false
    }
   },
   "outputs": [
    {
     "name": "stdout",
     "output_type": "stream",
     "text": [
      "['the', 'quick', 'brown', 'fox', 'jumps', 'over', 'the', 'lazy', 'dog']\n"
     ]
    }
   ],
   "source": [
    "##### Function check\n",
    "text = \"the quick brown fox jumps over the lazy dog\"\n",
    "tokens = tokenize(text)\n",
    "\n",
    "assert isinstance(tokens, list)\n",
    "assert len(tokens) == 9\n",
    "\n",
    "print(tokens)\n",
    "# output: ['the', 'quick', 'brown', 'fox', 'jumps', 'over', 'the', 'lazy', 'dog']\n",
    "#####"
   ]
  },
  {
   "cell_type": "markdown",
   "metadata": {
    "deletable": false,
    "editable": false,
    "nbgrader": {
     "cell_type": "markdown",
     "checksum": "34210618bff4cb47aad2f03cb4b9854c",
     "grade": false,
     "grade_id": "cell-fd1b98ae61b697ca",
     "locked": true,
     "schema_version": 3,
     "solution": false,
     "task": false
    }
   },
   "source": [
    "---\n",
    "### 1.5 Stemming (2 points)\n",
    "\n",
    "Write a function to stem tokens. \n",
    "Again, you can use the nltk library for this:"
   ]
  },
  {
   "cell_type": "code",
   "execution_count": 16,
   "metadata": {},
   "outputs": [],
   "source": [
    "from nltk.stem import PorterStemmer\n",
    "porter_stemmer = PorterStemmer()"
   ]
  },
  {
   "cell_type": "code",
   "execution_count": 17,
   "metadata": {
    "deletable": false,
    "nbgrader": {
     "cell_type": "code",
     "checksum": "1c4a6aa979d66158c7b6b992af43293a",
     "grade": false,
     "grade_id": "cell-e3f6c8e3f874b28d",
     "locked": false,
     "schema_version": 3,
     "solution": true,
     "task": false
    }
   },
   "outputs": [],
   "source": [
    "# TODO: Implement this! (3 points)\n",
    "def stem_token(token):\n",
    "    \"\"\"\n",
    "        Stems the given token using the PorterStemmer from the nltk library\n",
    "        Input: a single token\n",
    "        Output: the stem of the token\n",
    "    \"\"\"\n",
    "    # YOUR CODE HERE\n",
    "    stem_token = porter_stemmer.stem(token)\n",
    "    return stem_token\n",
    "    raise NotImplementedError()"
   ]
  },
  {
   "cell_type": "code",
   "execution_count": 18,
   "metadata": {
    "deletable": false,
    "editable": false,
    "nbgrader": {
     "cell_type": "code",
     "checksum": "9363b4f09b556d424d9c895d4ab57b1c",
     "grade": true,
     "grade_id": "cell-cd6863e6ee6ed205",
     "locked": true,
     "points": 2,
     "schema_version": 3,
     "solution": false,
     "task": false
    }
   },
   "outputs": [],
   "source": [
    "##### Function check\n",
    "\n",
    "assert stem_token('owned') == 'own'\n",
    "assert stem_token('itemization') == 'item'\n",
    "#####"
   ]
  },
  {
   "cell_type": "markdown",
   "metadata": {
    "deletable": false,
    "editable": false,
    "nbgrader": {
     "cell_type": "markdown",
     "checksum": "0b311d014146da6afa1d39542fab9869",
     "grade": false,
     "grade_id": "cell-47c9f90498699110",
     "locked": true,
     "schema_version": 3,
     "solution": false,
     "task": false
    }
   },
   "source": [
    "---\n",
    "### 1.6 Summary\n",
    "\n",
    "The following function puts it all together. Given an input string, this functions tokenizes and processes it according to the flags that you set."
   ]
  },
  {
   "cell_type": "code",
   "execution_count": 19,
   "metadata": {
    "deletable": false,
    "editable": false,
    "nbgrader": {
     "cell_type": "code",
     "checksum": "2ff2d215ee8e0039c5a91fd3de12e6bd",
     "grade": false,
     "grade_id": "cell-dd0d3f46b30801da",
     "locked": true,
     "schema_version": 3,
     "solution": false,
     "task": false
    }
   },
   "outputs": [],
   "source": [
    "#### Putting it all together\n",
    "def process_text(text, stem=False, remove_stopwords=False, lowercase_text=False):\n",
    "    \n",
    "    tokens = []\n",
    "    for token in tokenize(text):\n",
    "        if remove_stopwords and token.lower() in stopwords:\n",
    "            continue\n",
    "        if stem:\n",
    "            token = stem_token(token)\n",
    "        if lowercase_text:\n",
    "            token = token.lower()\n",
    "        tokens.append(token)\n",
    "\n",
    "    return tokens\n",
    "#### "
   ]
  },
  {
   "cell_type": "code",
   "execution_count": 20,
   "metadata": {},
   "outputs": [
    {
     "data": {
      "text/plain": [
       "['the', 'quick', 'brown', 'fox', 'jumps', 'over', 'the', 'lazy', 'dog']"
      ]
     },
     "execution_count": 20,
     "metadata": {},
     "output_type": "execute_result"
    }
   ],
   "source": [
    "process_text(text, stem=False, remove_stopwords=False, lowercase_text=False)"
   ]
  },
  {
   "cell_type": "markdown",
   "metadata": {
    "deletable": false,
    "editable": false,
    "nbgrader": {
     "cell_type": "markdown",
     "checksum": "02d433b18eb43654fa4306a7bf55b190",
     "grade": false,
     "grade_id": "cell-8d885bfd2edd43ae",
     "locked": true,
     "schema_version": 3,
     "solution": false,
     "task": false
    }
   },
   "source": [
    "---\n",
    "\n",
    "Let's create two sets of preprocessed documents.\n",
    "We can process the documents and queries according to these two configurations:"
   ]
  },
  {
   "cell_type": "code",
   "execution_count": 21,
   "metadata": {
    "deletable": false,
    "editable": false,
    "nbgrader": {
     "cell_type": "code",
     "checksum": "dbe4ca667be6842fdcf512fbcad50c7f",
     "grade": false,
     "grade_id": "cell-d427365ee0fb21d8",
     "locked": true,
     "schema_version": 3,
     "solution": false,
     "task": false
    }
   },
   "outputs": [],
   "source": [
    "# In this configuration:\n",
    "# Don't preprocess the text, except to tokenize \n",
    "config_1 = {\n",
    "  \"stem\": False,\n",
    "  \"remove_stopwords\" : False,\n",
    "  \"lowercase_text\": True\n",
    "} \n",
    "\n",
    "\n",
    "# In this configuration:\n",
    "# Preprocess the text, stem and remove stopwords\n",
    "config_2 = {\n",
    "  \"stem\": True,\n",
    "  \"remove_stopwords\" : True,\n",
    "  \"lowercase_text\": True, \n",
    "} \n",
    "\n",
    "####\n",
    "doc_repr_1 = []\n",
    "doc_repr_2 = []\n",
    "for (doc_id, document) in docs:\n",
    "    doc_repr_1.append((doc_id, process_text(document, **config_1)))\n",
    "    doc_repr_2.append((doc_id, process_text(document, **config_2)))\n",
    "\n",
    "####"
   ]
  },
  {
   "cell_type": "markdown",
   "metadata": {
    "deletable": false,
    "editable": false,
    "nbgrader": {
     "cell_type": "markdown",
     "checksum": "b60589aac19e80941d860d9b3f1e9a16",
     "grade": false,
     "grade_id": "cell-b1c102db61ae7495",
     "locked": true,
     "schema_version": 3,
     "solution": false,
     "task": false
    }
   },
   "source": [
    "--- \n",
    "\n",
    "## Section 2: Indexing (10 points)<a class=\"anchor\" id=\"indexing\"></a>\n",
    "\n",
    "[Back to Part 1](#part1)\n",
    "\n",
    "\n",
    "\n",
    "A retrieval function usually takes in a query document pair, and scores a query against a document.  Our document set is quite small - just a few thousand documents. However, consider a web-scale dataset with a few million documents. In such a scenario, it would become infeasible to score every query and document pair. In such a case, we can build an inverted index. From Wikipedia:\n",
    "\n",
    "> ... , an inverted index (also referred to as a postings file or inverted file) is a database index storing a mapping from content, such as words or numbers, to its locations in a table, .... The purpose of an inverted index is to allow fast full-text searches, at a cost of increased processing when a document is added to the database. ...\n",
    "\n",
    "\n",
    "Consider a simple inverted index, which maps from word to document. This can improve the performance of a retrieval system significantly. In this assignment, we consider a *simple* inverted index, which maps a word to a set of documents. In practice, however, more complex indices might be used.  \n"
   ]
  },
  {
   "cell_type": "markdown",
   "metadata": {
    "deletable": false,
    "editable": false,
    "nbgrader": {
     "cell_type": "markdown",
     "checksum": "710fd943f45523ac36fcb887cc0d4d39",
     "grade": false,
     "grade_id": "cell-fa373192c1b7bb95",
     "locked": true,
     "schema_version": 3,
     "solution": false,
     "task": false
    }
   },
   "source": [
    "### 2.1 Term Frequency-index (10 points)\n",
    "In this assignment, we will be using an index created in memory since our dataset is tiny. To get started, build a simple index that maps each `token` to a list of `(doc_id, count)` where `count` is the count of the `token` in `doc_id`.\n",
    "For consistency, build this index using a python dictionary.\n",
    "    \n",
    "Now, implement a function to build an index:"
   ]
  },
  {
   "cell_type": "code",
   "execution_count": 22,
   "metadata": {},
   "outputs": [
    {
     "data": {
      "text/plain": [
       "False"
      ]
     },
     "execution_count": 22,
     "metadata": {},
     "output_type": "execute_result"
    }
   ],
   "source": [
    "'computer' in doc_repr_2"
   ]
  },
  {
   "cell_type": "code",
   "execution_count": 23,
   "metadata": {
    "deletable": false,
    "nbgrader": {
     "cell_type": "code",
     "checksum": "d4e8c6b658c469379d5fe511de05b536",
     "grade": false,
     "grade_id": "cell-077599b87e953209",
     "locked": false,
     "schema_version": 3,
     "solution": true,
     "task": false
    }
   },
   "outputs": [],
   "source": [
    "# TODO: Implement this! (10 points)\n",
    "def build_tf_index(documents):\n",
    "    \"\"\"\n",
    "        Build an inverted index (with counts). The output is a dictionary which takes in a token\n",
    "        and returns a list of (doc_id, count) where 'count' is the count of the 'token' in 'doc_id'\n",
    "        Input: a list of documents - (doc_id, tokens) \n",
    "        Output: An inverted index implemented within a python dictionary: [token] -> [(doc_id, token_count)]\n",
    "    \"\"\"\n",
    "    # YOUR CODE HERE\n",
    "    build_tf_dict = defaultdict(tuple)\n",
    "    for doc_id, tokens  in documents:\n",
    "        for token in set(tokens):\n",
    "            token_count = tokens.count(token)\n",
    "            if token not in build_tf_dict:\n",
    "                build_tf_dict[token] = []\n",
    "            build_tf_dict[token].append((doc_id, token_count))\n",
    "    return build_tf_dict\n",
    "    raise NotImplementedError()"
   ]
  },
  {
   "cell_type": "markdown",
   "metadata": {
    "deletable": false,
    "editable": false,
    "nbgrader": {
     "cell_type": "markdown",
     "checksum": "15e7041b4323d2a290322de538ff7670",
     "grade": false,
     "grade_id": "cell-093aebfa504f96f2",
     "locked": true,
     "schema_version": 3,
     "solution": false,
     "task": false
    }
   },
   "source": [
    "---\n",
    "Now we can build indexed documents and preprocess the queries based on the two configurations:"
   ]
  },
  {
   "cell_type": "code",
   "execution_count": 24,
   "metadata": {},
   "outputs": [],
   "source": [
    "from collections import defaultdict"
   ]
  },
  {
   "cell_type": "code",
   "execution_count": 25,
   "metadata": {
    "deletable": false,
    "editable": false,
    "nbgrader": {
     "cell_type": "code",
     "checksum": "e27540c1d8d77a3779a05f557f3f40c6",
     "grade": false,
     "grade_id": "cell-b2ff1676348b90a8",
     "locked": true,
     "schema_version": 3,
     "solution": false,
     "task": false
    }
   },
   "outputs": [],
   "source": [
    "#### Indexed documents based on the two configs\n",
    "\n",
    "# Create the 2 indices\n",
    "tf_index_1 = build_tf_index(doc_repr_1)\n",
    "tf_index_2 = build_tf_index(doc_repr_2)\n",
    "\n",
    "# This function returns the tf_index of the corresponding config\n",
    "def get_index(index_set):\n",
    "    assert index_set in {1, 2}\n",
    "    return {\n",
    "        1: tf_index_1,\n",
    "        2: tf_index_2\n",
    "    }[index_set]\n",
    "\n",
    "####\n",
    "#### Preprocessed query based on the two configs\n",
    "\n",
    "# This function preprocesses the text given the index set, according to the specified config\n",
    "def preprocess_query(text, index_set):\n",
    "    assert index_set in {1, 2}\n",
    "    if index_set == 1:\n",
    "        return process_text(text, **config_1)\n",
    "    elif index_set == 2:\n",
    "        return process_text(text, **config_2)\n",
    "\n",
    "#### "
   ]
  },
  {
   "cell_type": "code",
   "execution_count": 26,
   "metadata": {
    "deletable": false,
    "editable": false,
    "nbgrader": {
     "cell_type": "code",
     "checksum": "f0cbc8703e1248cd6edf03f9019b69db",
     "grade": true,
     "grade_id": "cell-fc7c7232d5d2ee46",
     "locked": true,
     "points": 5,
     "schema_version": 3,
     "solution": false,
     "task": false
    }
   },
   "outputs": [
    {
     "name": "stdout",
     "output_type": "stream",
     "text": [
      "sample tf index for computer: [('4', 1), ('7', 1), ('10', 1), ('13', 1), ('19', 1), ('22', 1), ('23', 1), ('37', 1), ('40', 3), ('41', 1)]\n",
      "sample tf index for examples: [('111', 1), ('320', 1), ('644', 1), ('691', 1), ('727', 1), ('848', 1), ('892', 1), ('893', 1), ('1049', 1), ('1051', 1)]\n"
     ]
    }
   ],
   "source": [
    "##### Function check\n",
    "\n",
    "assert isinstance(tf_index_1, dict)\n",
    "\n",
    "assert isinstance(tf_index_1['computer'], list)\n",
    "print('sample tf index for computer:', tf_index_1['computer'][:10])\n",
    "\n",
    "assert isinstance(tf_index_1['examples'], list)\n",
    "print('sample tf index for examples:', tf_index_1['examples'][:10])\n",
    "#### "
   ]
  },
  {
   "cell_type": "code",
   "execution_count": 27,
   "metadata": {
    "deletable": false,
    "editable": false,
    "nbgrader": {
     "cell_type": "code",
     "checksum": "d49b8ac36815d9a5cb4bed838ab53a50",
     "grade": true,
     "grade_id": "cell-ff06bd11204db250",
     "locked": true,
     "points": 5,
     "schema_version": 3,
     "solution": false,
     "task": false
    }
   },
   "outputs": [
    {
     "name": "stdout",
     "output_type": "stream",
     "text": [
      "sample tf index for computer: [('4', 1), ('7', 1), ('10', 1), ('13', 1), ('19', 1), ('22', 1), ('23', 1), ('37', 1), ('40', 3), ('41', 1)]\n"
     ]
    },
    {
     "ename": "AssertionError",
     "evalue": "",
     "output_type": "error",
     "traceback": [
      "\u001b[1;31m---------------------------------------------------------------------------\u001b[0m",
      "\u001b[1;31mAssertionError\u001b[0m                            Traceback (most recent call last)",
      "\u001b[1;32mC:\\TEMP/ipykernel_15376/2829228907.py\u001b[0m in \u001b[0;36m<module>\u001b[1;34m\u001b[0m\n\u001b[0;32m      6\u001b[0m \u001b[0mprint\u001b[0m\u001b[1;33m(\u001b[0m\u001b[1;34m'sample tf index for computer:'\u001b[0m\u001b[1;33m,\u001b[0m \u001b[0mtf_index_1\u001b[0m\u001b[1;33m[\u001b[0m\u001b[1;34m'computer'\u001b[0m\u001b[1;33m]\u001b[0m\u001b[1;33m[\u001b[0m\u001b[1;33m:\u001b[0m\u001b[1;36m10\u001b[0m\u001b[1;33m]\u001b[0m\u001b[1;33m)\u001b[0m\u001b[1;33m\u001b[0m\u001b[1;33m\u001b[0m\u001b[0m\n\u001b[0;32m      7\u001b[0m \u001b[1;33m\u001b[0m\u001b[0m\n\u001b[1;32m----> 8\u001b[1;33m \u001b[1;32massert\u001b[0m \u001b[0misinstance\u001b[0m\u001b[1;33m(\u001b[0m\u001b[0mtf_index_2\u001b[0m\u001b[1;33m[\u001b[0m\u001b[1;34m'examples'\u001b[0m\u001b[1;33m]\u001b[0m\u001b[1;33m,\u001b[0m \u001b[0mlist\u001b[0m\u001b[1;33m)\u001b[0m\u001b[1;33m\u001b[0m\u001b[1;33m\u001b[0m\u001b[0m\n\u001b[0m\u001b[0;32m      9\u001b[0m \u001b[0mprint\u001b[0m\u001b[1;33m(\u001b[0m\u001b[1;34m'sample tf index for examples:'\u001b[0m\u001b[1;33m,\u001b[0m \u001b[0mtf_index_2\u001b[0m\u001b[1;33m[\u001b[0m\u001b[1;34m'examples'\u001b[0m\u001b[1;33m]\u001b[0m\u001b[1;33m[\u001b[0m\u001b[1;33m:\u001b[0m\u001b[1;36m10\u001b[0m\u001b[1;33m]\u001b[0m\u001b[1;33m)\u001b[0m\u001b[1;33m\u001b[0m\u001b[1;33m\u001b[0m\u001b[0m\n\u001b[0;32m     10\u001b[0m \u001b[1;31m####\u001b[0m\u001b[1;33m\u001b[0m\u001b[1;33m\u001b[0m\u001b[0m\n",
      "\u001b[1;31mAssertionError\u001b[0m: "
     ]
    }
   ],
   "source": [
    "##### Function check\n",
    "\n",
    "assert isinstance(tf_index_2, dict)\n",
    "\n",
    "assert isinstance(tf_index_2['computer'], list)\n",
    "print('sample tf index for computer:', tf_index_1['computer'][:10])\n",
    "\n",
    "assert isinstance(tf_index_2['examples'], list)\n",
    "print('sample tf index for examples:', tf_index_2['examples'][:10])\n",
    "#### "
   ]
  },
  {
   "cell_type": "markdown",
   "metadata": {
    "deletable": false,
    "editable": false,
    "nbgrader": {
     "cell_type": "markdown",
     "checksum": "880b2ef3ca405f2af6e0667d2dc7a600",
     "grade": false,
     "grade_id": "cell-89eba71f04310291",
     "locked": true,
     "schema_version": 3,
     "solution": false,
     "task": false
    }
   },
   "source": [
    "\n",
    "---\n",
    "## Section 3: Ranking  (80 points) <a class=\"anchor\" id=\"ranking\"></a>\n",
    "\n",
    "[Back to Part 1](#part1)\n",
    "\n",
    "Now that we have cleaned and processed our dataset, we can start building simple IR systems. \n",
    "\n",
    "For now, we consider *simple* IR systems, which involve computing scores from the tokens present in the document/query. More advanced methods are covered in later assignments.\n",
    "\n",
    "We will implement the following methods in this section:\n",
    "- [Section 3.1: Bag of Words](#bow) (10 points)\n",
    "- [Section 3.2: TF-IDF](#tfidf) (15 points)\n",
    "- [Section 3.3: Query Likelihood Model](#qlm) (35 points)\n",
    "- [Section 3.4: BM25](#bm25) (20 points)\n",
    "\n",
    "*All search functions should be able to handle multiple words queries.*\n",
    "\n",
    "**Scoring policy:**\n",
    "Your implementations in this section are scored based on the expected performance of your ranking functions.\n",
    "You will get a full mark if your implementation meets the expected performance (measured by some evaluation metric).\n",
    "Otherwise, you may get partial credit.\n",
    "For example, if your *Bag of words* ranking function has 60% of expected performance, you will get 6 out of 10."
   ]
  },
  {
   "cell_type": "markdown",
   "metadata": {
    "deletable": false,
    "editable": false,
    "nbgrader": {
     "cell_type": "markdown",
     "checksum": "6c74e5061917358300c6e8085ec07864",
     "grade": false,
     "grade_id": "cell-3daf70a60e393adf",
     "locked": true,
     "schema_version": 3,
     "solution": false,
     "task": false
    }
   },
   "source": [
    "--- \n",
    "\n",
    "### Section 3.1: Bag of Words (10 points)<a class=\"anchor\" id=\"bow\"></a>\n",
    "\n",
    "Probably the simplest IR model is the Bag of Words (BOW) model.\n",
    "Implement a function that scores and ranks all the documents against a query using this model.   \n",
    "\n",
    "- For consistency, you should use the count of the token and **not** the binary indicator.\n",
    "- Use `float` type for the scores (even though the scores are integers in this case).\n",
    "- No normalization of the scores is necessary, as the ordering is what we are interested in.\n",
    "- If two documents have the same score, they can have any ordering: you are not required to disambiguate.\n"
   ]
  },
  {
   "cell_type": "code",
   "execution_count": 28,
   "metadata": {
    "deletable": false,
    "nbgrader": {
     "cell_type": "code",
     "checksum": "fee4640e22bfc4f05eb958a675ef40e7",
     "grade": false,
     "grade_id": "cell-de9cf0459c4b9324",
     "locked": false,
     "schema_version": 3,
     "solution": true,
     "task": false
    }
   },
   "outputs": [],
   "source": [
    "# TODO: Implement this! (10 points)\n",
    "from collections import defaultdict\n",
    "def bow_search(query, index_set):\n",
    "    \"\"\"\n",
    "        Perform a search over all documents with the given query. \n",
    "        Note: You have to use the `get_index` function created in the previous cells\n",
    "        Input: \n",
    "            query - a (unprocessed) query\n",
    "            index_set - the index to use\n",
    "        Output: a list of (document_id, score), sorted in descending relevance to the given query. \n",
    "    \"\"\"\n",
    "    index = get_index(index_set)\n",
    "    processed_query = preprocess_query(query, index_set)\n",
    "    \n",
    "    \n",
    "    # YOUR CODE HERE\n",
    "    low_search = []\n",
    "    score = 0\n",
    "    groupdict = defaultdict(float)\n",
    "    for token in processed_query:\n",
    "        for doc_id, count in index[token]:\n",
    "            groupdict[doc_id]+= count\n",
    "    low_search = sorted(groupdict.items(), key = lambda x : x[1], reverse = True)\n",
    "    return low_search\n",
    "    raise NotImplementedError()"
   ]
  },
  {
   "cell_type": "code",
   "execution_count": 29,
   "metadata": {},
   "outputs": [
    {
     "data": {
      "text/plain": [
       "()"
      ]
     },
     "execution_count": 29,
     "metadata": {},
     "output_type": "execute_result"
    }
   ],
   "source": [
    "get_index(1)['bag']"
   ]
  },
  {
   "cell_type": "code",
   "execution_count": 30,
   "metadata": {},
   "outputs": [
    {
     "data": {
      "text/plain": [
       "['how', 'to', 'implement', 'bag', 'of', 'words', 'search']"
      ]
     },
     "execution_count": 30,
     "metadata": {},
     "output_type": "execute_result"
    }
   ],
   "source": [
    "preprocess_query(\"how to implement bag of words search\", 1)"
   ]
  },
  {
   "cell_type": "code",
   "execution_count": 31,
   "metadata": {
    "deletable": false,
    "editable": false,
    "nbgrader": {
     "cell_type": "code",
     "checksum": "613524fbbf02b1d122c6611a71fbf11b",
     "grade": true,
     "grade_id": "cell-9f6aceae6dd9125f",
     "locked": true,
     "points": 2,
     "schema_version": 3,
     "solution": false,
     "task": false
    }
   },
   "outputs": [],
   "source": [
    "#### Function check\n",
    "\n",
    "test_bow = bow_search(\"how to implement bag of words search\", index_set=1)[:5]\n",
    "assert isinstance(test_bow, list)\n",
    "assert len(test_bow[0]) == 2\n",
    "assert isinstance(test_bow[0][0], str)\n",
    "assert isinstance(test_bow[0][1], float)\n",
    "\n",
    "#### "
   ]
  },
  {
   "cell_type": "code",
   "execution_count": 32,
   "metadata": {
    "deletable": false,
    "editable": false,
    "nbgrader": {
     "cell_type": "code",
     "checksum": "9af20897659edb62fe77598483590500",
     "grade": true,
     "grade_id": "cell-4eed3abf233d9b58",
     "locked": true,
     "points": 2,
     "schema_version": 3,
     "solution": false,
     "task": false
    }
   },
   "outputs": [
    {
     "name": "stdout",
     "output_type": "stream",
     "text": [
      "BOW Results:\n",
      "Rank 0(1.3e+01): On Computing The Fast Fourier Transform\\nCooley an...\n",
      "Rank 1(1.2e+01): Variable Length Tree Structures Having Minimum Ave...\n",
      "Rank 2(1.1e+01): A Modular Computer Sharing System\\nAn alternative ...\n",
      "Rank 3(1e+01): PEEKABIT, Computer Offspring of Punched\\nCard PEEK...\n",
      "Rank 4(9.0): Computer Simulation-Discussion of the\\nTechnique a...\n"
     ]
    }
   ],
   "source": [
    "\n",
    "docs_by_id = dict(docs)\n",
    "def print_results(docs, len_limit=50):    \n",
    "    for i, (doc_id, score) in enumerate(docs):\n",
    "        doc_content = docs_by_id[doc_id].strip().replace(\"\\n\", \"\\\\n\")[:len_limit] + \"...\"\n",
    "        print(f\"Rank {i}({score:.2}): {doc_content}\")\n",
    "\n",
    "test_bow_2 = bow_search(\"computer search word\", index_set=2)[:5]\n",
    "print(f\"BOW Results:\")\n",
    "print_results(test_bow_2)\n"
   ]
  },
  {
   "cell_type": "code",
   "execution_count": 33,
   "metadata": {
    "deletable": false,
    "editable": false,
    "nbgrader": {
     "cell_type": "code",
     "checksum": "3c9c8b16c8e7d1032f101e9da8a6e845",
     "grade": true,
     "grade_id": "cell-4d65a2d7090c466c",
     "locked": true,
     "points": 3,
     "schema_version": 3,
     "solution": false,
     "task": false
    }
   },
   "outputs": [
    {
     "name": "stdout",
     "output_type": "stream",
     "text": [
      "BOW Results:\n",
      "Rank 0(9.0): CURRICULUM 68 -- Recommendations for Academic\\nPro...\n",
      "Rank 1(9.0): Variable Length Tree Structures Having Minimum Ave...\n",
      "Rank 2(7.0): Computer Formulation of the Equations of Motion Us...\n",
      "Rank 3(7.0): The Effects of Multiplexing on a Computer-Communic...\n",
      "Rank 4(6.0): Optimizing Bit-time Computer Simulation\\nA major c...\n"
     ]
    }
   ],
   "source": [
    "\n",
    "test_bow_1 = bow_search(\"computer search word\", index_set=1)[:5]\n",
    "print(f\"BOW Results:\")\n",
    "print_results(test_bow_1)\n"
   ]
  },
  {
   "cell_type": "code",
   "execution_count": 34,
   "metadata": {
    "deletable": false,
    "editable": false,
    "nbgrader": {
     "cell_type": "code",
     "checksum": "b7e593847aa4202ae45ec061fb18ad73",
     "grade": true,
     "grade_id": "cell-dedf36ab5853ce20",
     "locked": true,
     "points": 3,
     "schema_version": 3,
     "solution": false,
     "task": false
    }
   },
   "outputs": [
    {
     "name": "stdout",
     "output_type": "stream",
     "text": [
      "top-5 docs for index1: ('1771', '1936', '1543', '2535', '678')\n",
      "top-5 docs for index2: ('1525', '1936', '1844', '1700', '1366')\n"
     ]
    }
   ],
   "source": [
    "print('top-5 docs for index1:', list(zip(*test_bow_1[:5]))[0])\n",
    "print('top-5 docs for index2:', list(zip(*test_bow_2[:5]))[0])\n"
   ]
  },
  {
   "cell_type": "markdown",
   "metadata": {
    "deletable": false,
    "editable": false,
    "nbgrader": {
     "cell_type": "markdown",
     "checksum": "b04352ee0716dfdf094b8cdb6f32e984",
     "grade": false,
     "grade_id": "cell-a5c09c79ac1f2871",
     "locked": true,
     "schema_version": 3,
     "solution": false,
     "task": false
    }
   },
   "source": [
    "\n",
    "---\n",
    "\n",
    "### Section 3.2: TF-IDF (15 points) <a class=\"anchor\" id=\"tfidf\"></a>\n",
    "\n",
    "Before we implement the tf-idf scoring functions, let's first write a function to compute the document frequencies of all words.  \n",
    "\n",
    "#### 3.2.1 Document frequency (5 points)\n",
    "Compute the document frequencies of all tokens in the collection. \n",
    "Your code should return a dictionary with tokens as its keys and the number of documents containing the token as values.\n",
    "For consistency, the values should have `int` type."
   ]
  },
  {
   "cell_type": "code",
   "execution_count": 35,
   "metadata": {
    "deletable": false,
    "nbgrader": {
     "cell_type": "code",
     "checksum": "5c53263cf4c0b0ffcaae08b91fc364cc",
     "grade": false,
     "grade_id": "cell-9a2369f32e864b8a",
     "locked": false,
     "schema_version": 3,
     "solution": true,
     "task": false
    }
   },
   "outputs": [],
   "source": [
    "# TODO: Implement this! (5 points)\n",
    "def compute_df(documents):\n",
    "    \"\"\"\n",
    "        Compute the document frequency of all terms in the vocabulary\n",
    "        Input: A list of documents\n",
    "        Output: A dictionary with {token: document frequency (int)}\n",
    "    \"\"\"\n",
    "    # YOUR CODE HERE\n",
    "    df_dict = {}\n",
    "    for document in documents:\n",
    "        document_unique = set(document)\n",
    "        for token in document_unique:\n",
    "            if token not in df_dict:\n",
    "                df_dict[token] = 1\n",
    "            else:\n",
    "                df_dict[token] += 1\n",
    "    return df_dict\n",
    "\n",
    "    raise NotImplementedError()\n"
   ]
  },
  {
   "cell_type": "code",
   "execution_count": 36,
   "metadata": {
    "deletable": false,
    "editable": false,
    "nbgrader": {
     "cell_type": "code",
     "checksum": "154985511d7925c5793a1f97dea81880",
     "grade": false,
     "grade_id": "cell-4c3bddd0b73ac90e",
     "locked": true,
     "schema_version": 3,
     "solution": false,
     "task": false
    }
   },
   "outputs": [],
   "source": [
    "#### Compute df based on the two configs\n",
    "\n",
    "# get the document frequencies of each document\n",
    "df_1 = compute_df([d[1] for d in doc_repr_1])\n",
    "df_2 = compute_df([d[1] for d in doc_repr_2])\n",
    "\n",
    "def get_df(index_set):\n",
    "    assert index_set in {1, 2}\n",
    "    return {\n",
    "        1: df_1,\n",
    "        2: df_2\n",
    "    }[index_set]\n",
    "####"
   ]
  },
  {
   "cell_type": "code",
   "execution_count": 37,
   "metadata": {
    "deletable": false,
    "editable": false,
    "nbgrader": {
     "cell_type": "code",
     "checksum": "110cc180068cf3f77c682ee3de2a117c",
     "grade": true,
     "grade_id": "cell-79e8a6db1e5fc46f",
     "locked": true,
     "points": 5,
     "schema_version": 3,
     "solution": false,
     "task": false
    }
   },
   "outputs": [
    {
     "name": "stdout",
     "output_type": "stream",
     "text": [
      "597\n",
      "11\n"
     ]
    }
   ],
   "source": [
    "#### Function check\n",
    "\n",
    "print(df_1['computer'])\n",
    "print(df_2['computer'])\n",
    "####"
   ]
  },
  {
   "cell_type": "markdown",
   "metadata": {
    "deletable": false,
    "editable": false,
    "nbgrader": {
     "cell_type": "markdown",
     "checksum": "d0d577668fa51b80aeab6e67209ae73b",
     "grade": false,
     "grade_id": "cell-52f6acc487e1b96d",
     "locked": true,
     "schema_version": 3,
     "solution": false,
     "task": false
    }
   },
   "source": [
    "---\n",
    "#### 3.2.2 TF-IDF search (10 points)\n",
    "Next, implement a function that computes a tf-idf score, given a query.\n",
    "Use the following formulas for TF and IDF:\n",
    "\n",
    "$$ TF=\\log (1 + f_{d,t}) $$\n",
    "\n",
    "$$ IDF=\\log (\\frac{N}{n_t})$$\n",
    "\n",
    "where $f_{d,t}$ is the frequency of token $t$ in document $d$, $N$ is the number of total documents and $n_t$ is the number of documents containing token $t$.\n",
    "\n",
    "**Note:** your implementation will be auto-graded assuming you have used the above formulas.\n"
   ]
  },
  {
   "cell_type": "code",
   "execution_count": 38,
   "metadata": {
    "deletable": false,
    "nbgrader": {
     "cell_type": "code",
     "checksum": "3534c44b4a3419ca1db98eebe7115dc1",
     "grade": false,
     "grade_id": "cell-2fb5ba34b2994cd9",
     "locked": false,
     "schema_version": 3,
     "solution": true,
     "task": false
    }
   },
   "outputs": [],
   "source": [
    "# TODO: Implement this! (10 points)\n",
    "def tfidf_search(query, index_set):\n",
    "    \"\"\"\n",
    "        Perform a search over all documents with the given query using tf-idf. \n",
    "        Note #1: You have to use the `get_index` (and the `get_df`) function created in the previous cells\n",
    "        Input: \n",
    "            query - a (unprocessed) query\n",
    "            index_set - the index to use\n",
    "        Output: a list of (document_id, score), sorted in descending relevance to the given query \n",
    "    \"\"\"\n",
    "    index = get_index(index_set)\n",
    "    df = get_df(index_set)\n",
    "    processed_query = preprocess_query(query, index_set)    \n",
    "    N = len(docs)\n",
    "    # YOUR CODE HERE\n",
    "    TF_IDF_list = []\n",
    "    groups = defaultdict(float)\n",
    "    for token_q in processed_query:\n",
    "        try:\n",
    "            n = len(index[token_q]) \n",
    "            for doc_id, count in index[token_q]:\n",
    "                TF_IDF = np.log((1 + count))*np.log((N/n))\n",
    "                groups[doc_id] += TF_IDF\n",
    "                \n",
    "                \n",
    "        except:\n",
    "            # print(\"The word \" + token_q + \" is not in any document\")\n",
    "            pass\n",
    "    \n",
    "    final_list = sorted(groups.items(), key=lambda x: x[1], reverse = True)\n",
    "    return final_list\n",
    "    raise NotImplementedError()"
   ]
  },
  {
   "cell_type": "code",
   "execution_count": 39,
   "metadata": {
    "deletable": false,
    "editable": false,
    "nbgrader": {
     "cell_type": "code",
     "checksum": "7b66a514663d898694b09a23a597312b",
     "grade": true,
     "grade_id": "cell-bc68aeeacf42beb3",
     "locked": true,
     "points": 2,
     "schema_version": 3,
     "solution": false,
     "task": false
    }
   },
   "outputs": [],
   "source": [
    "\n",
    "#### Function check\n",
    "test_tfidf = tfidf_search(\"how to implement tf idf search\", index_set=1)[:5]\n",
    "assert isinstance(test_tfidf, list)\n",
    "assert len(test_tfidf[0]) == 2\n",
    "assert isinstance(test_tfidf[0][0], str)\n",
    "assert isinstance(test_tfidf[0][1], float)\n",
    "\n",
    "####"
   ]
  },
  {
   "cell_type": "code",
   "execution_count": 40,
   "metadata": {
    "deletable": false,
    "editable": false,
    "nbgrader": {
     "cell_type": "code",
     "checksum": "98fb1326cf4bf7983ae237ca8a9105f9",
     "grade": true,
     "grade_id": "cell-c7702fa8179fadb9",
     "locked": true,
     "points": 2,
     "schema_version": 3,
     "solution": false,
     "task": false
    }
   },
   "outputs": [
    {
     "name": "stdout",
     "output_type": "stream",
     "text": [
      "TFIDF Results:\n",
      "Rank 0(1.3e+01): PEEKABIT, Computer Offspring of Punched\\nCard PEEK...\n",
      "Rank 1(9.8): Variable Length Tree Structures Having Minimum Ave...\n",
      "Rank 2(8.2): A Stochastic Approach to the Grammatical Coding of...\n",
      "Rank 3(8.1): Full Table Quadratic Searching for Scatter Storage...\n",
      "Rank 4(7.6): Use of Tree Structures for Processing Files\\nIn da...\n"
     ]
    }
   ],
   "source": [
    "\n",
    "test_tfidf_2 = tfidf_search(\"computer word search\", index_set=2)[:5]\n",
    "print(f\"TFIDF Results:\")\n",
    "print_results(test_tfidf_2)\n"
   ]
  },
  {
   "cell_type": "code",
   "execution_count": 41,
   "metadata": {
    "deletable": false,
    "editable": false,
    "nbgrader": {
     "cell_type": "code",
     "checksum": "733b5b67be5e53989f5b763ce5e52ee9",
     "grade": true,
     "grade_id": "cell-3284f50ac29abbaa",
     "locked": true,
     "points": 3,
     "schema_version": 3,
     "solution": false,
     "task": false
    }
   },
   "outputs": [
    {
     "name": "stdout",
     "output_type": "stream",
     "text": [
      "TFIDF Results:\n",
      "Rank 0(9.4): Variable Length Tree Structures Having Minimum Ave...\n",
      "Rank 1(7.4): On the Feasibility of Voice Input to\\nan On-line C...\n",
      "Rank 2(7.3): Median Split Trees: A Fast Lookup Technique for Fr...\n",
      "Rank 3(7.0): Execution Time Requirements for Encipherment Progr...\n",
      "Rank 4(7.0): Storage and Search Properties of a Tree-Organized ...\n"
     ]
    }
   ],
   "source": [
    "\n",
    "test_tfidf_1 = tfidf_search(\"computer word search\", index_set=1)[:5]\n",
    "print(f\"TFIDF Results:\")\n",
    "print_results(test_tfidf_1)\n"
   ]
  },
  {
   "cell_type": "code",
   "execution_count": 42,
   "metadata": {
    "deletable": false,
    "editable": false,
    "nbgrader": {
     "cell_type": "code",
     "checksum": "e0edb37a5ae807a2de85d578c87ccb78",
     "grade": true,
     "grade_id": "cell-d908c80a3155354b",
     "locked": true,
     "points": 3,
     "schema_version": 3,
     "solution": false,
     "task": false
    }
   },
   "outputs": [
    {
     "name": "stdout",
     "output_type": "stream",
     "text": [
      "top-5 docs for index1 with BOW search: ('1771', '1936', '1543', '2535', '678')\n",
      "top-5 docs for index2 with BOW search: ('1525', '1936', '1844', '1700', '1366')\n",
      "top-5 docs for index1 with TF-IDF search: ('1936', '2054', '3041', '2620', '944')\n",
      "top-5 docs for index2 with TF-IDF search: ('1700', '1936', '1235', '2018', '849')\n"
     ]
    }
   ],
   "source": [
    "\n",
    "print('top-5 docs for index1 with BOW search:', list(zip(*test_bow_1[:5]))[0])\n",
    "print('top-5 docs for index2 with BOW search:', list(zip(*test_bow_2[:5]))[0])\n",
    "print('top-5 docs for index1 with TF-IDF search:', list(zip(*test_tfidf_1[:5]))[0])\n",
    "print('top-5 docs for index2 with TF-IDF search:', list(zip(*test_tfidf_2[:5]))[0])\n",
    "\n"
   ]
  },
  {
   "cell_type": "markdown",
   "metadata": {
    "deletable": false,
    "editable": false,
    "nbgrader": {
     "cell_type": "markdown",
     "checksum": "cdffc83f0eaea937cf64a212e7e9af8d",
     "grade": false,
     "grade_id": "cell-f5d923459ba21733",
     "locked": true,
     "schema_version": 3,
     "solution": false,
     "task": false
    }
   },
   "source": [
    "--- \n",
    "\n",
    "### Section 3.3: Query Likelihood Model (35 points) <a class=\"anchor\" id=\"qlm\"></a>\n",
    "\n",
    "In this section, you will implement a simple query likelihood model. \n",
    "\n",
    "\n",
    "#### 3.3.1 Naive QL (15 points)\n",
    "\n",
    "First, let us implement a naive version of a QL model, assuming a multinomial unigram language model (with a uniform prior over the documents). \n",
    "\n"
   ]
  },
  {
   "cell_type": "code",
   "execution_count": 43,
   "metadata": {
    "deletable": false,
    "editable": false,
    "nbgrader": {
     "cell_type": "code",
     "checksum": "b7ae2b7d818b428b4638c1c9206d2aca",
     "grade": false,
     "grade_id": "cell-98505778f7b68e7f",
     "locked": true,
     "schema_version": 3,
     "solution": false,
     "task": false
    }
   },
   "outputs": [],
   "source": [
    "#### Document length for normalization\n",
    "\n",
    "def doc_lengths(documents):\n",
    "    doc_lengths = {doc_id:len(doc) for (doc_id, doc) in documents}\n",
    "    return doc_lengths\n",
    "\n",
    "doc_lengths_1 = doc_lengths(doc_repr_1)\n",
    "doc_lengths_2 = doc_lengths(doc_repr_2)\n",
    "\n",
    "def get_doc_lengths(index_set):\n",
    "    assert index_set in {1, 2}\n",
    "    return {\n",
    "        1: doc_lengths_1,\n",
    "        2: doc_lengths_2\n",
    "    }[index_set]\n",
    "####"
   ]
  },
  {
   "cell_type": "code",
   "execution_count": 44,
   "metadata": {
    "deletable": false,
    "nbgrader": {
     "cell_type": "code",
     "checksum": "cedd08303a914243fefdb6b876977ca1",
     "grade": false,
     "grade_id": "cell-8bcf2b804d636c2e",
     "locked": false,
     "schema_version": 3,
     "solution": true,
     "task": false
    }
   },
   "outputs": [],
   "source": [
    "# TODO: Implement this! (15 points)\n",
    "def naive_ql_search(query, index_set):\n",
    "    \"\"\"\n",
    "        Perform a search over all documents with the given query using a naive QL model. \n",
    "        Note #1: You have to use the `get_index` (and get_doc_lengths) function created in the previous cells\n",
    "        Input: \n",
    "            query - a (unprocessed) query\n",
    "            index_set - the index to use\n",
    "        Output: a list of (document_id, score), sorted in descending relevance to the given query \n",
    "    \"\"\"\n",
    "    index = get_index(index_set)\n",
    "    doc_lengths = get_doc_lengths(index_set)\n",
    "    processed_query = preprocess_query(query, index_set)\n",
    "    # YOUR CODE HERE\n",
    "    final_list = []\n",
    "    token_list = []\n",
    "    count = 0\n",
    "    for token in processed_query:\n",
    "        count += 1\n",
    "        list_of_scores = []\n",
    "        if token in index:\n",
    "            for doc_id, token_appearance in index[token]:\n",
    "                list_of_scores.append((doc_id, (token_appearance/doc_lengths[doc_id])))\n",
    "        \n",
    "            if count <= 1:\n",
    "                token_list = list_of_scores\n",
    "            else:\n",
    "                for doc_id, score in token_list:\n",
    "                    for doc_id_q, score_q in list_of_scores:\n",
    "                        if doc_id == doc_id_q:\n",
    "                            final_list.append((doc_id, (score * score_q)))\n",
    "                token_list = final_list\n",
    "                final_list = []\n",
    "            \n",
    "        \n",
    "    token_list = sorted(token_list, key=lambda x: x[1], reverse = True)\n",
    "    \n",
    "    # YOUR CODE HERE\n",
    "    list_of_scores = sorted(list_of_scores, key=lambda x: x[1], reverse = True)\n",
    "    return token_list"
   ]
  },
  {
   "cell_type": "code",
   "execution_count": 45,
   "metadata": {
    "deletable": false,
    "editable": false,
    "nbgrader": {
     "cell_type": "code",
     "checksum": "b550d15bdad28354c336020a00c33d56",
     "grade": true,
     "grade_id": "cell-5a83ac12ecde8578",
     "locked": true,
     "points": 3,
     "schema_version": 3,
     "solution": false,
     "task": false
    }
   },
   "outputs": [
    {
     "name": "stdout",
     "output_type": "stream",
     "text": [
      "Naive QL Results:\n",
      "Rank 0(0.2): A Report Writer For COBOL...\n",
      "Rank 1(0.2): A CRT Report Generating System...\n",
      "Rank 2(0.17): Preliminary Report-International Algebraic Languag...\n",
      "Rank 3(0.17): Supplement to the ALGOL 60 Report...\n",
      "Rank 4(0.14): ALGOL Sub-Committee Report - Extensions...\n"
     ]
    }
   ],
   "source": [
    "#### Function check\n",
    "test_naiveql = naive_ql_search(\"report\", index_set=1)[:5]\n",
    "print(f\"Naive QL Results:\")\n",
    "print_results(test_naiveql)\n",
    "####"
   ]
  },
  {
   "cell_type": "code",
   "execution_count": 46,
   "metadata": {
    "deletable": false,
    "editable": false,
    "nbgrader": {
     "cell_type": "code",
     "checksum": "799df1d81c63fe90edbb6c218fc707fb",
     "grade": true,
     "grade_id": "cell-80f4bf2137f997bb",
     "locked": true,
     "points": 2,
     "schema_version": 3,
     "solution": false,
     "task": false
    }
   },
   "outputs": [],
   "source": [
    "#### Please do not change this. This cell is used for grading."
   ]
  },
  {
   "cell_type": "code",
   "execution_count": 47,
   "metadata": {
    "deletable": false,
    "editable": false,
    "nbgrader": {
     "cell_type": "code",
     "checksum": "875a4a517d27e20625d41783cebec118",
     "grade": true,
     "grade_id": "cell-5ce2993458a8ce51",
     "locked": true,
     "points": 3,
     "schema_version": 3,
     "solution": false,
     "task": false
    }
   },
   "outputs": [],
   "source": [
    "#### Please do not change this. This cell is used for grading."
   ]
  },
  {
   "cell_type": "code",
   "execution_count": 48,
   "metadata": {
    "deletable": false,
    "editable": false,
    "nbgrader": {
     "cell_type": "code",
     "checksum": "d5c4e1c3852e71a46f32825b122f1b71",
     "grade": true,
     "grade_id": "cell-7753bdb54e292f3d",
     "locked": true,
     "points": 3,
     "schema_version": 3,
     "solution": false,
     "task": false
    }
   },
   "outputs": [],
   "source": [
    "#### Please do not change this. This cell is used for grading."
   ]
  },
  {
   "cell_type": "code",
   "execution_count": 49,
   "metadata": {
    "deletable": false,
    "editable": false,
    "nbgrader": {
     "cell_type": "code",
     "checksum": "c4d4332d4356e89ce0240f6b80e1899a",
     "grade": true,
     "grade_id": "cell-54e476e2f96e64bb",
     "locked": true,
     "points": 4,
     "schema_version": 3,
     "solution": false,
     "task": false
    }
   },
   "outputs": [],
   "source": [
    "#### Please do not change this. This cell is used for grading."
   ]
  },
  {
   "cell_type": "markdown",
   "metadata": {
    "deletable": false,
    "editable": false,
    "nbgrader": {
     "cell_type": "markdown",
     "checksum": "8d739dc91a22bd48897f603885f95a74",
     "grade": false,
     "grade_id": "cell-5414dfd69dab8b94",
     "locked": true,
     "schema_version": 3,
     "solution": false,
     "task": false
    }
   },
   "source": [
    "---\n",
    "#### 3.3.2 QL (20 points)\n",
    "Now, let's implement a QL model that handles the issues with the naive version. In particular, you will implement a QL model with Jelinek-Mercer Smoothing. That means an interpolated score is computed per word - one term is the same as the previous naive version, and the second term comes from a unigram language model. In addition, you should accumulate the scores by summing the **log** (smoothed) probability which leads to better numerical stability."
   ]
  },
  {
   "cell_type": "code",
   "execution_count": 50,
   "metadata": {
    "deletable": false,
    "nbgrader": {
     "cell_type": "code",
     "checksum": "b8c6abf937ad333e628f1db891f2e29e",
     "grade": false,
     "grade_id": "cell-bb1f506409771257",
     "locked": false,
     "schema_version": 3,
     "solution": true,
     "task": false
    }
   },
   "outputs": [],
   "source": [
    "# TODO: Implement this! (20 points)\n",
    "\n",
    "# YOUR CODE HERE\n",
    "from collections import defaultdict\n",
    "\n",
    "def QueryFrequencyCollection(doc_lengths, processed_query, index):\n",
    "    smoothing = 0.1\n",
    "    total_word_count_documents = 0\n",
    "    for count in doc_lengths:\n",
    "        total_word_count_documents += doc_lengths[count]\n",
    "\n",
    "    total_query_appearance = 0 \n",
    "    for token in processed_query:\n",
    "      if token in index:\n",
    "        for doc_id, token_appearance in index[token]:\n",
    "            total_query_appearance += token_appearance\n",
    "\n",
    "    query_collection_frequency = (1-smoothing) * (total_query_appearance/total_word_count_documents)\n",
    "    return query_collection_frequency\n",
    "\n",
    "def ql_search(query, index_set):\n",
    "    \"\"\"\n",
    "        Perform a search over all documents with the given query using a QL model \n",
    "        with Jelinek-Mercer Smoothing (set smoothing=0.1). \n",
    "        \n",
    "        \n",
    "        Note #1: You have to use the `get_index` (and get_doc_lengths) function created in the previous cells\n",
    "        Note #2: You might have to create some variables beforehand and use them in this function\n",
    "        \n",
    "        \n",
    "        Input: \n",
    "            query - a (unprocessed) query\n",
    "            index_set - the index to use\n",
    "        Output: a list of (document_id, score), sorted in descending relevance to the given query \n",
    "    \"\"\"\n",
    "    index = get_index(index_set)\n",
    "    doc_lengths = get_doc_lengths(index_set)\n",
    "    processed_query = preprocess_query(query, index_set)\n",
    "    \n",
    "    # YOUR CODE HERE\n",
    "    smoothing = 0.1\n",
    "    groupdict = defaultdict(float)\n",
    "    count = -1\n",
    "    for token in processed_query:\n",
    "      count += 1\n",
    "      if token in index:\n",
    "        for doc_id, token_appearance in index[token]:\n",
    "            if doc_id not in groupdict:\n",
    "                groupdict[doc_id] += (np.log(((smoothing * (token_appearance/doc_lengths[doc_id]))+ QueryFrequencyCollection(doc_lengths, processed_query, index))) + count * (np.log(QueryFrequencyCollection(doc_lengths, processed_query, index))))\n",
    "            else: \n",
    "                groupdict[doc_id] += np.log(((smoothing * (token_appearance/doc_lengths[doc_id]))+ QueryFrequencyCollection(doc_lengths, processed_query, index)))\n",
    "        for doc in groupdict:\n",
    "            if doc not in (doc_id for doc_id, score in index[token]):\n",
    "                groupdict[doc] += np.log(QueryFrequencyCollection(doc_lengths, processed_query, index))\n",
    "            \n",
    "    ql_search = sorted(groupdict.items(), key = lambda x : x[1], reverse = True)\n",
    "    \n",
    "    return ql_search\n",
    "    "
   ]
  },
  {
   "cell_type": "code",
   "execution_count": 51,
   "metadata": {
    "deletable": false,
    "editable": false,
    "nbgrader": {
     "cell_type": "code",
     "checksum": "0b12a7f3355193a257fd9f5f69a66562",
     "grade": true,
     "grade_id": "cell-850e9d6369bcec32",
     "locked": true,
     "points": 4,
     "schema_version": 3,
     "solution": false,
     "task": false
    }
   },
   "outputs": [
    {
     "name": "stdout",
     "output_type": "stream",
     "text": [
      "Rank 0(-3.9): A Report Writer For COBOL...\n",
      "Rank 1(-3.9): A CRT Report Generating System...\n",
      "Rank 2(-4.1): Preliminary Report-International Algebraic Languag...\n",
      "Rank 3(-4.1): Supplement to the ALGOL 60 Report...\n",
      "Rank 4(-4.2): ALGOL Sub-Committee Report - Extensions...\n",
      "\n",
      "Rank 0(-3.7e+01): A Report Writer For COBOL...\n",
      "Rank 1(-3.7e+01): A CRT Report Generating System...\n",
      "Rank 2(-3.9e+01): Preliminary Report-International Algebraic Languag...\n",
      "Rank 3(-3.9e+01): Supplement to the ALGOL 60 Report...\n",
      "Rank 4(-4e+01): ALGOL Sub-Committee Report - Extensions...\n"
     ]
    }
   ],
   "source": [
    "#### Function check\n",
    "test_ql_results = ql_search(\"report\", index_set=1)[:5]\n",
    "print_results(test_ql_results)\n",
    "print()\n",
    "test_ql_results_long = ql_search(\"report \" * 10, index_set=1)[:5]\n",
    "print_results(test_ql_results_long)\n",
    "####"
   ]
  },
  {
   "cell_type": "code",
   "execution_count": 52,
   "metadata": {
    "deletable": false,
    "editable": false,
    "nbgrader": {
     "cell_type": "code",
     "checksum": "e40be645140389c115849856145f5b59",
     "grade": true,
     "grade_id": "cell-958cdcf6fd6899b7",
     "locked": true,
     "points": 3,
     "schema_version": 3,
     "solution": false,
     "task": false
    }
   },
   "outputs": [],
   "source": [
    "#### Please do not change this. This cell is used for grading."
   ]
  },
  {
   "cell_type": "code",
   "execution_count": 53,
   "metadata": {
    "deletable": false,
    "editable": false,
    "nbgrader": {
     "cell_type": "code",
     "checksum": "41d4aff001df17e7963ba79b45810b30",
     "grade": true,
     "grade_id": "cell-384dc23a0c251f6e",
     "locked": true,
     "points": 4,
     "schema_version": 3,
     "solution": false,
     "task": false
    }
   },
   "outputs": [],
   "source": [
    "#### Please do not change this. This cell is used for grading."
   ]
  },
  {
   "cell_type": "code",
   "execution_count": 54,
   "metadata": {
    "deletable": false,
    "editable": false,
    "nbgrader": {
     "cell_type": "code",
     "checksum": "893e8c5a073abc8ebb763d267b91bc02",
     "grade": true,
     "grade_id": "cell-7218966cba5097cc",
     "locked": true,
     "points": 4,
     "schema_version": 3,
     "solution": false,
     "task": false
    }
   },
   "outputs": [],
   "source": [
    "#### Please do not change this. This cell is used for grading."
   ]
  },
  {
   "cell_type": "code",
   "execution_count": 55,
   "metadata": {
    "deletable": false,
    "editable": false,
    "nbgrader": {
     "cell_type": "code",
     "checksum": "f99cb6f8b1f5830aaed8f06712ff846e",
     "grade": true,
     "grade_id": "cell-481ab073259ae53f",
     "locked": true,
     "points": 5,
     "schema_version": 3,
     "solution": false,
     "task": false
    }
   },
   "outputs": [],
   "source": [
    "#### Please do not change this. This cell is used for grading."
   ]
  },
  {
   "cell_type": "markdown",
   "metadata": {
    "deletable": false,
    "editable": false,
    "nbgrader": {
     "cell_type": "markdown",
     "checksum": "c02f14705d679579b1aa9f78f54779d5",
     "grade": false,
     "grade_id": "cell-f44088bfdac1dc90",
     "locked": true,
     "schema_version": 3,
     "solution": false,
     "task": false
    }
   },
   "source": [
    "--- \n",
    "\n",
    "### Section 3.4: BM25 (20 points) <a class=\"anchor\" id=\"bm25\"></a>\n",
    "\n",
    "In this section, we will implement the BM25 scoring function. \n"
   ]
  },
  {
   "cell_type": "code",
   "execution_count": 56,
   "metadata": {
    "deletable": false,
    "nbgrader": {
     "cell_type": "code",
     "checksum": "e57efe06ea92af1c83784a42eb3d86e0",
     "grade": false,
     "grade_id": "cell-15640fc9b5d00a3c",
     "locked": false,
     "schema_version": 3,
     "solution": true,
     "task": false
    }
   },
   "outputs": [],
   "source": [
    "# TODO: Implement this! (20 points)\n",
    "def bm25_search(query, index_set):\n",
    "    \"\"\"\n",
    "        Perform a search over all documents with the given query using BM25. Use k_1 = 1.5 and b = 0.75\n",
    "        Note #1: You have to use the `get_index` (and `get_doc_lengths`) function created in the previous cells\n",
    "        Note #2: You might have to create some variables beforehand and use them in this function\n",
    "        \n",
    "        Input: \n",
    "            query - a (unprocessed) query\n",
    "            index_set - the index to use\n",
    "        Output: a list of (document_id, score), sorted in descending relevance to the given query \n",
    "    \"\"\"\n",
    "    \n",
    "    index = get_index(index_set)\n",
    "    df = get_df(index_set)\n",
    "    doc_lengths = get_doc_lengths(index_set)\n",
    "    processed_query = preprocess_query(query, index_set)\n",
    "    \n",
    "    # YOUR CODE HERE\n",
    "\n",
    "    total_word_count_documents = 0\n",
    "    for count in doc_lengths:\n",
    "        total_word_count_documents += doc_lengths[count]\n",
    "    doc_len_average = total_word_count_documents/len(doc_lengths)\n",
    "    N = len(docs)\n",
    "    b = 0.75\n",
    "    k_1 = 1.5\n",
    "    groupdict = defaultdict(float)\n",
    "    \n",
    "    for token in processed_query:\n",
    "      if token in index:\n",
    "        n = len(index[token]) \n",
    "        IDF = np.log((N/n))\n",
    "        for doc_id, TF in index[token]:\n",
    "            above_dividing_line = (k_1+1)*TF\n",
    "            below_dividing_line = k_1*((1-b)+b*(doc_lengths[doc_id]/doc_len_average))+TF\n",
    "            BM25 = IDF*(above_dividing_line/below_dividing_line)\n",
    "            groupdict[doc_id] += BM25\n",
    "    \n",
    "    BM25_final = sorted(groupdict.items(), key = lambda x : x[1], reverse = True)\n",
    "    \n",
    "    return BM25_final\n",
    "    raise NotImplementedError()"
   ]
  },
  {
   "cell_type": "code",
   "execution_count": 57,
   "metadata": {
    "deletable": false,
    "editable": false,
    "nbgrader": {
     "cell_type": "code",
     "checksum": "4be9de5d4e94637960d83725422bea6c",
     "grade": true,
     "grade_id": "cell-d10536bca72c74b1",
     "locked": true,
     "points": 3,
     "schema_version": 3,
     "solution": false,
     "task": false
    }
   },
   "outputs": [
    {
     "name": "stdout",
     "output_type": "stream",
     "text": [
      "Rank 0(6.7): A Report Writer For COBOL...\n",
      "Rank 1(6.7): A CRT Report Generating System...\n",
      "Rank 2(6.6): Preliminary Report-International Algebraic Languag...\n",
      "Rank 3(6.6): Supplement to the ALGOL 60 Report...\n",
      "Rank 4(6.5): ALGOL Sub-Committee Report - Extensions...\n"
     ]
    }
   ],
   "source": [
    "#### Function check\n",
    "test_bm25_results = bm25_search(\"report\", index_set=1)[:5]\n",
    "print_results(test_bm25_results)\n",
    "####"
   ]
  },
  {
   "cell_type": "code",
   "execution_count": 58,
   "metadata": {
    "deletable": false,
    "editable": false,
    "nbgrader": {
     "cell_type": "code",
     "checksum": "31b550d6a46ae4f8ede88788799ac2b9",
     "grade": true,
     "grade_id": "cell-60f6ec5052712d79",
     "locked": true,
     "points": 5,
     "schema_version": 3,
     "solution": false,
     "task": false
    }
   },
   "outputs": [],
   "source": [
    "#### Please do not change this. This cell is used for grading."
   ]
  },
  {
   "cell_type": "code",
   "execution_count": 59,
   "metadata": {
    "deletable": false,
    "editable": false,
    "nbgrader": {
     "cell_type": "code",
     "checksum": "3da2ec16bfe781916e71755d65aa2983",
     "grade": true,
     "grade_id": "cell-5d17524043a5abcc",
     "locked": true,
     "points": 5,
     "schema_version": 3,
     "solution": false,
     "task": false
    }
   },
   "outputs": [],
   "source": [
    "#### Please do not change this. This cell is used for grading."
   ]
  },
  {
   "cell_type": "code",
   "execution_count": 60,
   "metadata": {
    "deletable": false,
    "editable": false,
    "nbgrader": {
     "cell_type": "code",
     "checksum": "e7b563d54fa84c20909c0ae107010541",
     "grade": true,
     "grade_id": "cell-ff8e704eda1184e3",
     "locked": true,
     "points": 3,
     "schema_version": 3,
     "solution": false,
     "task": false
    }
   },
   "outputs": [],
   "source": [
    "#### Please do not change this. This cell is used for grading."
   ]
  },
  {
   "cell_type": "code",
   "execution_count": 61,
   "metadata": {
    "deletable": false,
    "editable": false,
    "nbgrader": {
     "cell_type": "code",
     "checksum": "b013f90974b396630a8831d6f1d7e5f7",
     "grade": true,
     "grade_id": "cell-a52310500a2543cb",
     "locked": true,
     "points": 4,
     "schema_version": 3,
     "solution": false,
     "task": false
    }
   },
   "outputs": [],
   "source": [
    "#### Please do not change this. This cell is used for grading."
   ]
  },
  {
   "cell_type": "markdown",
   "metadata": {
    "deletable": false,
    "editable": false,
    "nbgrader": {
     "cell_type": "markdown",
     "checksum": "8fcf67cb7d5e8b26cb9bf1f0aa42c847",
     "grade": false,
     "grade_id": "cell-8b2b412c81d62f2d",
     "locked": true,
     "schema_version": 3,
     "solution": false,
     "task": false
    }
   },
   "source": [
    "\n",
    "---\n",
    "\n",
    "### 3.5. Test Your Functions\n",
    "\n",
    "The widget below allows you to play with the search functions you've written so far. Use this to test your search functions and ensure that they work as expected."
   ]
  },
  {
   "cell_type": "code",
   "execution_count": 62,
   "metadata": {
    "deletable": false,
    "editable": false,
    "nbgrader": {
     "cell_type": "code",
     "checksum": "dfeb204b390acc0794dbdcac92b0cf2c",
     "grade": false,
     "grade_id": "cell-c9c2bb76354e8d97",
     "locked": true,
     "schema_version": 3,
     "solution": false,
     "task": false
    }
   },
   "outputs": [],
   "source": [
    "#### Highlighter function\n",
    "# class for results\n",
    "ResultRow = namedtuple(\"ResultRow\", [\"doc_id\", \"snippet\", \"score\"])\n",
    "# doc_id -> doc\n",
    "docs_by_id = dict((d[0], d[1]) for d in docs)\n",
    "\n",
    "def highlight_text(document, query, tol=17):\n",
    "    import re\n",
    "    tokens = tokenize(query)\n",
    "    regex = \"|\".join(f\"(\\\\b{t}\\\\b)\" for t in tokens)\n",
    "    regex = re.compile(regex, flags=re.IGNORECASE)\n",
    "    output = \"\"\n",
    "    i = 0\n",
    "    for m in regex.finditer(document):\n",
    "        start_idx = max(0, m.start() - tol)\n",
    "        end_idx = min(len(document), m.end() + tol)\n",
    "        output += \"\".join([\"...\",\n",
    "                        document[start_idx:m.start()],\n",
    "                        \"<strong>\",\n",
    "                        document[m.start():m.end()],\n",
    "                        \"</strong>\",\n",
    "                        document[m.end():end_idx],\n",
    "                        \"...\"])\n",
    "    return output.replace(\"\\n\", \" \")\n",
    "\n",
    "\n",
    "def make_results(query, search_fn, index_set):\n",
    "    results = []\n",
    "    for doc_id, score in search_fn(query, index_set):\n",
    "        highlight = highlight_text(docs_by_id[doc_id], query)\n",
    "        if len(highlight.strip()) == 0:\n",
    "            highlight = docs_by_id[doc_id]\n",
    "        results.append(ResultRow(doc_id, highlight, score))\n",
    "    return results\n",
    "####"
   ]
  },
  {
   "cell_type": "code",
   "execution_count": 63,
   "metadata": {},
   "outputs": [
    {
     "data": {
      "application/vnd.jupyter.widget-view+json": {
       "model_id": "a6139693d1784b13add71e995f8b6124",
       "version_major": 2,
       "version_minor": 0
      },
      "text/plain": [
       "Text(value='', description='Search Bar')"
      ]
     },
     "metadata": {},
     "output_type": "display_data"
    }
   ],
   "source": [
    "# TODO: Set this to the function you want to test!\n",
    "# this function should take in a query (string)\n",
    "# and return a sorted list of (doc_id, score) \n",
    "# with the most relevant document in the first position\n",
    "search_fn = bm25_search\n",
    "index_set = 1\n",
    "\n",
    "text = widgets.Text(description=\"Search Bar\", width=200)\n",
    "display(text)\n",
    "\n",
    "def handle_submit(sender):\n",
    "    print(f\"Searching for: '{sender.value}'\")\n",
    "    \n",
    "    results = make_results(sender.value, search_fn, index_set)\n",
    "    \n",
    "    # display only the top 5\n",
    "    results = results[:5]\n",
    "    \n",
    "    body = \"\"\n",
    "    for idx, r in enumerate(results):\n",
    "        body += f\"<li>Document #{r.doc_id}({r.score}): {r.snippet}</li>\"\n",
    "    display(HTML(f\"<ul>{body}</ul>\"))\n",
    "    \n",
    "\n",
    "text.on_submit(handle_submit)"
   ]
  },
  {
   "cell_type": "markdown",
   "metadata": {
    "deletable": false,
    "editable": false,
    "nbgrader": {
     "cell_type": "markdown",
     "checksum": "019b1ff878dc6339dd068e2d48d19904",
     "grade": false,
     "grade_id": "cell-8d46fe8e4f3d8cdb",
     "locked": true,
     "schema_version": 3,
     "solution": false,
     "task": false
    }
   },
   "source": [
    "---\n",
    "\n",
    "## Section 4: Evaluation (40 points) <a class=\"anchor\" id=\"evaluation\"></a>\n",
    "\n",
    "[Back to Part 1](#part1)\n",
    "\n",
    "In order to analyze the effectiveness of retrieval algorithms, we first have to learn how to evaluate such a system. In particular, we will work with offline evaluation metrics. These metrics are computed on a dataset with known relevance judgements.\n",
    "\n",
    "Implement the following evaluation metrics. \n",
    "\n",
    "1. Precision (7 points)\n",
    "2. Recall (7 points)\n",
    "3. Mean Average Precision (13 points)\n",
    "4. Expected Reciprocal Rank (13 points)"
   ]
  },
  {
   "cell_type": "markdown",
   "metadata": {
    "deletable": false,
    "editable": false,
    "nbgrader": {
     "cell_type": "markdown",
     "checksum": "e46f54c7f81d88bbc950b0fae14c4ca5",
     "grade": false,
     "grade_id": "cell-3419fd3bc663d7cc",
     "locked": true,
     "schema_version": 3,
     "solution": false,
     "task": false
    }
   },
   "source": [
    "---\n",
    "### 4.1 Read relevance labels\n",
    "\n",
    "Let's take a look at the `qrels.text` file, which contains the ground truth relevance scores. The relevance labels for CACM are binary - either 0 or 1. \n"
   ]
  },
  {
   "cell_type": "code",
   "execution_count": 64,
   "metadata": {
    "deletable": false,
    "editable": false,
    "nbgrader": {
     "cell_type": "code",
     "checksum": "6c11025f5a222796f2882c73c1634799",
     "grade": false,
     "grade_id": "cell-6b738366059dde9e",
     "locked": true,
     "schema_version": 3,
     "solution": false,
     "task": false
    }
   },
   "outputs": [
    {
     "name": "stderr",
     "output_type": "stream",
     "text": [
      "'head' is not recognized as an internal or external command,\n",
      "operable program or batch file.\n"
     ]
    }
   ],
   "source": [
    "!head ./datasets/qrels.text"
   ]
  },
  {
   "cell_type": "markdown",
   "metadata": {
    "deletable": false,
    "editable": false,
    "nbgrader": {
     "cell_type": "markdown",
     "checksum": "7ce95245c1597183320d7254afde5c8e",
     "grade": false,
     "grade_id": "cell-10e16bff2753ffbb",
     "locked": true,
     "schema_version": 3,
     "solution": false,
     "task": false
    }
   },
   "source": [
    "---\n",
    "\n",
    "The first column is the query_id and the second column is the document_id. We can safely ignore the 3rd and 4th columns."
   ]
  },
  {
   "cell_type": "code",
   "execution_count": 65,
   "metadata": {},
   "outputs": [
    {
     "name": "stdout",
     "output_type": "stream",
     "text": [
      "['01 1410  0 0\\n', '01 1572  0 0\\n', '01 1605  0 0\\n', '01 2020  0 0\\n', '01 2358  0 0\\n', '02 2434  0 0\\n', '02 2863  0 0\\n', '02 3078  0 0\\n', '03 1134  0 0\\n', '03 1613  0 0\\n']\n"
     ]
    }
   ],
   "source": [
    "with open (\"./datasets/qrels.text\",\"r\") as file:\n",
    "    print(file.readlines()[:10])\n",
    "#####"
   ]
  },
  {
   "cell_type": "code",
   "execution_count": 66,
   "metadata": {},
   "outputs": [
    {
     "data": {
      "text/plain": [
       "array([[1.000e+00, 1.410e+03, 0.000e+00, 0.000e+00],\n",
       "       [1.000e+00, 1.572e+03, 0.000e+00, 0.000e+00],\n",
       "       [1.000e+00, 1.605e+03, 0.000e+00, 0.000e+00],\n",
       "       ...,\n",
       "       [6.300e+01, 3.075e+03, 0.000e+00, 0.000e+00],\n",
       "       [6.300e+01, 3.156e+03, 0.000e+00, 0.000e+00],\n",
       "       [6.400e+01, 2.651e+03, 0.000e+00, 0.000e+00]])"
      ]
     },
     "execution_count": 66,
     "metadata": {},
     "output_type": "execute_result"
    }
   ],
   "source": [
    "my_data = np.loadtxt(\"./datasets/qrels.text\")\n",
    "my_data"
   ]
  },
  {
   "cell_type": "code",
   "execution_count": 64,
   "metadata": {},
   "outputs": [],
   "source": [
    "def read_qrels(root_folder = \"./datasets/\"):\n",
    "    \"\"\"\n",
    "        Reads the qrels.text file. \n",
    "        Output: A dictionary: query_id -> [list of relevant documents]\n",
    "    \"\"\"\n",
    "    with open(os.path.join(root_folder, \"qrels.text\")) as reader:\n",
    "        lines = reader.readlines()\n",
    "    \n",
    "    from collections import defaultdict\n",
    "    relevant_docs = defaultdict(set)\n",
    "    for line in lines:\n",
    "        query_id, doc_id, _, _ = line.split()\n",
    "        relevant_docs[str(int(query_id))].add(doc_id)\n",
    "    return relevant_docs"
   ]
  },
  {
   "cell_type": "code",
   "execution_count": 67,
   "metadata": {
    "deletable": false,
    "nbgrader": {
     "cell_type": "code",
     "checksum": "000c6d59dce08dba0ba1e8d691dbbc2e",
     "grade": false,
     "grade_id": "cell-ee5253a4ef602fce",
     "locked": false,
     "schema_version": 3,
     "solution": true,
     "task": false
    }
   },
   "outputs": [],
   "source": [
    "# YOUR CODE HERE\n",
    "def read_qrels():\n",
    "    my_data = np.loadtxt(\"./datasets/qrels.text\")\n",
    "    qrel_dict = defaultdict(list)\n",
    "    for query_id,value,_,_ in my_data:\n",
    "        qrel_dict[str(int(query_id))].append(str(int(value)))\n",
    "    return qrel_dict\n",
    "    raise NotImplementedError()"
   ]
  },
  {
   "cell_type": "code",
   "execution_count": 65,
   "metadata": {
    "deletable": false,
    "editable": false,
    "nbgrader": {
     "cell_type": "code",
     "checksum": "d60caeba85c2a97d2211184a5ae91fd1",
     "grade": false,
     "grade_id": "cell-72215605fbe24f65",
     "locked": true,
     "schema_version": 3,
     "solution": false,
     "task": false
    }
   },
   "outputs": [],
   "source": [
    "#### Function check\n",
    "qrels = read_qrels()\n",
    "\n",
    "assert len(qrels) == 52, \"There should be 52 queries with relevance judgements\"\n",
    "assert sum(len(j) for j in qrels.values()) == 796, \"There should be a total of 796 Relevance Judgements\"\n",
    "\n",
    "assert np.min(np.array([len(j) for j in qrels.values()])) == 1\n",
    "assert np.max(np.array([len(j) for j in qrels.values()])) == 51\n",
    "\n",
    "####"
   ]
  },
  {
   "cell_type": "markdown",
   "metadata": {
    "deletable": false,
    "editable": false,
    "nbgrader": {
     "cell_type": "markdown",
     "checksum": "6c9e7428a52e291a2cdf92a379730d4c",
     "grade": false,
     "grade_id": "cell-176a6fb2939d0420",
     "locked": true,
     "schema_version": 3,
     "solution": false,
     "task": false
    }
   },
   "source": [
    "---\n",
    "**Note:** For a given query `query_id`, you can assume that documents *not* in `qrels[query_id]` are not relevant to `query_id`. \n"
   ]
  },
  {
   "cell_type": "markdown",
   "metadata": {
    "deletable": false,
    "editable": false,
    "nbgrader": {
     "cell_type": "markdown",
     "checksum": "b26a818c7b4f7ad490e00b35ea0edd69",
     "grade": false,
     "grade_id": "cell-bd8341b72cdd89bb",
     "locked": true,
     "schema_version": 3,
     "solution": false,
     "task": false
    }
   },
   "source": [
    "---\n",
    "### 4.2 Precision (7 points)\n",
    "Implement the `precision@k` metric:"
   ]
  },
  {
   "cell_type": "code",
   "execution_count": 66,
   "metadata": {
    "deletable": false,
    "nbgrader": {
     "cell_type": "code",
     "checksum": "43dea1979ebdec24ffcfeff71c670433",
     "grade": false,
     "grade_id": "cell-494bd0cce108ed67",
     "locked": false,
     "schema_version": 3,
     "solution": true,
     "task": false
    }
   },
   "outputs": [],
   "source": [
    "# TODO: Implement this! (7 points)\n",
    "def precision_k(results, relevant_docs, k):\n",
    "    \"\"\"\n",
    "        Compute Precision@K\n",
    "        Input: \n",
    "            results: A sorted list of 2-tuples (document_id, score), \n",
    "                    with the most relevant document in the first position\n",
    "            relevant_docs: A set of relevant documents. \n",
    "            k: the cut-off\n",
    "        Output: Precision@K\n",
    "    \"\"\"\n",
    "    if len(results) ==0:\n",
    "        return 0\n",
    "    if k > len(results):\n",
    "        k = len(results)\n",
    "    # YOUR CODE HERE\n",
    "    count = 0\n",
    "    for doc_id,score in results[:k]:\n",
    "        if doc_id in relevant_docs:\n",
    "            count +=1\n",
    "    return count/k\n",
    "    raise NotImplementedError()"
   ]
  },
  {
   "cell_type": "code",
   "execution_count": 67,
   "metadata": {
    "deletable": false,
    "editable": false,
    "nbgrader": {
     "cell_type": "code",
     "checksum": "9222e35582b1840ffb60fd02fb0b60c3",
     "grade": true,
     "grade_id": "cell-e7ff0d91c319ca64",
     "locked": true,
     "points": 7,
     "schema_version": 3,
     "solution": false,
     "task": false
    }
   },
   "outputs": [
    {
     "name": "stdout",
     "output_type": "stream",
     "text": [
      "query: What articles exist which deal with TSS (Time Sharing System), an\n",
      "operating system for IBM computers?\n",
      "precision@10 = 0.2\n"
     ]
    }
   ],
   "source": [
    "\n",
    "#### Function check\n",
    "qid = queries[0][0]\n",
    "qtext = queries[0][1]\n",
    "print(f'query:{qtext}')\n",
    "results = bm25_search(qtext, 2)\n",
    "precision = precision_k(results, qrels[qid], 10)\n",
    "print(f'precision@10 = {precision}')\n",
    "####"
   ]
  },
  {
   "cell_type": "code",
   "execution_count": 68,
   "metadata": {},
   "outputs": [
    {
     "data": {
      "text/plain": [
       "{'1410', '1572', '1605', '2020', '2358'}"
      ]
     },
     "execution_count": 68,
     "metadata": {},
     "output_type": "execute_result"
    }
   ],
   "source": [
    "qrels[qid]"
   ]
  },
  {
   "cell_type": "code",
   "execution_count": 69,
   "metadata": {},
   "outputs": [
    {
     "data": {
      "text/plain": [
       "[('2371', 19.703092008853293),\n",
       " ('1938', 19.477828658694506),\n",
       " ('1071', 18.669613885817743),\n",
       " ('1410', 17.383157810948507),\n",
       " ('1519', 16.895859439063116),\n",
       " ('2319', 16.82137830821305),\n",
       " ('1572', 15.911780442202822),\n",
       " ('2535', 15.207409592104334),\n",
       " ('2989', 14.999389417388763),\n",
       " ('2151', 14.439356813293713)]"
      ]
     },
     "execution_count": 69,
     "metadata": {},
     "output_type": "execute_result"
    }
   ],
   "source": [
    "results[:10]"
   ]
  },
  {
   "cell_type": "markdown",
   "metadata": {
    "deletable": false,
    "editable": false,
    "nbgrader": {
     "cell_type": "markdown",
     "checksum": "8fd3b3998197c7097a40348500affb68",
     "grade": false,
     "grade_id": "cell-afd95f865bc7191e",
     "locked": true,
     "schema_version": 3,
     "solution": false,
     "task": false
    }
   },
   "source": [
    "---\n",
    "### 4.3 Recall (7 points)\n",
    "Implement the `recall@k` metric:"
   ]
  },
  {
   "cell_type": "code",
   "execution_count": 70,
   "metadata": {
    "deletable": false,
    "nbgrader": {
     "cell_type": "code",
     "checksum": "b2020e5741ae03b3fe35817ed8f4ccaa",
     "grade": false,
     "grade_id": "cell-c323fc8c3f8a7cf8",
     "locked": false,
     "schema_version": 3,
     "solution": true,
     "task": false
    }
   },
   "outputs": [],
   "source": [
    "# TODO: Implement this! (7 points)\n",
    "def recall_k(results, relevant_docs, k):\n",
    "    \"\"\"\n",
    "        Compute Recall@K\n",
    "        Input: \n",
    "            results: A sorted list of 2-tuples (document_id, score), with the most relevant document in the first position\n",
    "            relevant_docs: A set of relevant documents. \n",
    "            k: the cut-off\n",
    "        Output: Recall@K\n",
    "    \"\"\"\n",
    "\n",
    "    # YOUR CODE HERE\n",
    "    if len(relevant_docs) == 0:\n",
    "        return 0\n",
    "    if k > len(results):\n",
    "        k = len(results)\n",
    "    count = 0\n",
    "    for doc_id,score in results[:k]:\n",
    "        if doc_id in relevant_docs:\n",
    "            count += 1\n",
    "    return count/len(relevant_docs)\n",
    "    raise NotImplementedError()"
   ]
  },
  {
   "cell_type": "code",
   "execution_count": 71,
   "metadata": {
    "deletable": false,
    "editable": false,
    "nbgrader": {
     "cell_type": "code",
     "checksum": "56b6e0b8522f8b2dffbfb3206b2efa84",
     "grade": true,
     "grade_id": "cell-b25172161aef165c",
     "locked": true,
     "points": 7,
     "schema_version": 3,
     "solution": false,
     "task": false
    }
   },
   "outputs": [
    {
     "name": "stdout",
     "output_type": "stream",
     "text": [
      "query: SETL, Very High Level Languages\n",
      "recall@10 = 0.3157894736842105\n"
     ]
    }
   ],
   "source": [
    "#### Function check\n",
    "qid = queries[10][0]\n",
    "qtext = queries[10][1]\n",
    "print(f'query:{qtext}')\n",
    "results = bm25_search(qtext, 2)\n",
    "recall = recall_k(results, qrels[qid], 10)\n",
    "print(f'recall@10 = {recall}')\n",
    "####"
   ]
  },
  {
   "cell_type": "markdown",
   "metadata": {
    "deletable": false,
    "editable": false,
    "nbgrader": {
     "cell_type": "markdown",
     "checksum": "b3d3c7bd1cd977cd07ef5df7d3fbf159",
     "grade": false,
     "grade_id": "cell-77fd2e7a39a74739",
     "locked": true,
     "schema_version": 3,
     "solution": false,
     "task": false
    }
   },
   "source": [
    "---\n",
    "### 4.4 Mean Average Precision (13 points)\n",
    "Implement the `map` metric:"
   ]
  },
  {
   "cell_type": "code",
   "execution_count": 72,
   "metadata": {
    "deletable": false,
    "nbgrader": {
     "cell_type": "code",
     "checksum": "aae2c62f2ffd76f5b6c004e9519b9f14",
     "grade": false,
     "grade_id": "cell-e50925fa9093a30d",
     "locked": false,
     "schema_version": 3,
     "solution": true,
     "task": false
    }
   },
   "outputs": [],
   "source": [
    "# TODO: Implement this! (12 points)\n",
    "def average_precision(results, relevant_docs):\n",
    "    \"\"\"\n",
    "        Compute Average Precision (for a single query - the results are \n",
    "        averaged across queries to get MAP in the next few cells)\n",
    "        Hint: You can use the recall_k and precision_k functions here!\n",
    "        Input: \n",
    "            results: A sorted list of 2-tuples (document_id, score), with the most \n",
    "                    relevant document in the first position\n",
    "            relevant_docs: A set of relevant documents. \n",
    "        Output: Average Precision\n",
    "    \"\"\"\n",
    "    # YOUR CODE HERE\n",
    "    AP = 0\n",
    "    result_doc_ids = [doc_id for doc_id,score in results]\n",
    "    for doc_id in relevant_docs:\n",
    "        k_d = result_doc_ids.index(doc_id)+1\n",
    "        AP += precision_k(results, relevant_docs,k_d)/len(relevant_docs)\n",
    "    return AP\n"
   ]
  },
  {
   "cell_type": "code",
   "execution_count": 73,
   "metadata": {
    "deletable": false,
    "editable": false,
    "nbgrader": {
     "cell_type": "code",
     "checksum": "3b00e147c2fa146fa59f179b7c9cab75",
     "grade": true,
     "grade_id": "cell-8a1f7ec98571e58b",
     "locked": true,
     "points": 13,
     "schema_version": 3,
     "solution": false,
     "task": false
    }
   },
   "outputs": [
    {
     "name": "stdout",
     "output_type": "stream",
     "text": [
      "query: computational complexity, intractability, class-complete reductions,\n",
      "algorithms and efficiency\n",
      "MAP = 0.11651580568558344\n"
     ]
    }
   ],
   "source": [
    "#### Function check\n",
    "qid = queries[20][0]\n",
    "qtext = queries[20][1]\n",
    "print(f'query:{qtext}')\n",
    "results = bm25_search(qtext, 2)\n",
    "mean_ap = average_precision(results, qrels[qid])\n",
    "print(f'MAP = {mean_ap}')\n",
    "####"
   ]
  },
  {
   "cell_type": "markdown",
   "metadata": {
    "deletable": false,
    "editable": false,
    "nbgrader": {
     "cell_type": "markdown",
     "checksum": "36f85f45ef52d9467ba9a717d6d99ff2",
     "grade": false,
     "grade_id": "cell-1da18f0fe6f6d7be",
     "locked": true,
     "schema_version": 3,
     "solution": false,
     "task": false
    }
   },
   "source": [
    "---\n",
    "### 4.5 Expected Reciprocal Rank (13 points)\n",
    "Implement the `err` metric:"
   ]
  },
  {
   "cell_type": "code",
   "execution_count": 74,
   "metadata": {
    "deletable": false,
    "nbgrader": {
     "cell_type": "code",
     "checksum": "9ac94db728e23ea1f5dc0d509473c6fb",
     "grade": false,
     "grade_id": "cell-64262889f9b267ea",
     "locked": false,
     "schema_version": 3,
     "solution": true,
     "task": false
    }
   },
   "outputs": [],
   "source": [
    "# TODO: Implement this! (12 points)\n",
    "def err(results, relevant_docs):\n",
    "    \"\"\"\n",
    "        Compute the expected reciprocal rank.\n",
    "        Hint: https://dl.acm.org/doi/pdf/10.1145/1645953.1646033?download=true\n",
    "        Input: \n",
    "            results: A sorted list of 2-tuples (document_id, score), with the most \n",
    "                    relevant document in the first position\n",
    "            relevant_docs: A set of relevant documents. \n",
    "        Output: ERR\n",
    "        \n",
    "    \"\"\"\n",
    "    ERR = 0    \n",
    "    Rr = []\n",
    "    for result in results:\n",
    "        if result[0] in relevant_docs:\n",
    "            Rr.append(0.5)\n",
    "        else:\n",
    "            Rr.append(0)\n",
    "    \n",
    "    # YOUR CODE HERE\n",
    "    for k in range(1,len(results)+1):\n",
    "        ERR += 1/k*Rr[k-1]*np.prod([1-Rq for Rq in Rr[:k-1]])\n",
    "    return ERR\n",
    " "
   ]
  },
  {
   "cell_type": "code",
   "execution_count": 75,
   "metadata": {
    "deletable": false,
    "editable": false,
    "nbgrader": {
     "cell_type": "code",
     "checksum": "b7d201de0990b69d5f38704668665d87",
     "grade": true,
     "grade_id": "cell-071e3970ff1afae4",
     "locked": true,
     "points": 13,
     "schema_version": 3,
     "solution": false,
     "task": false
    }
   },
   "outputs": [
    {
     "name": "stdout",
     "output_type": "stream",
     "text": [
      "query: I'd like to find articles describing the use of singular value decomposition\n",
      "in digital image processing.  Applications include finding approximations\n",
      "to the original image and restoring images that are subject to noise. An\n",
      "article on the subject is H.C. Andrews and C.L. Patterson \"Outer product\n",
      "expansions and their uses in digital image processing\", American Mathematical\n",
      "Monthly, vol. 82.\n",
      "ERR = 0.625\n"
     ]
    }
   ],
   "source": [
    "#### Function check\n",
    "qid = queries[30][0]\n",
    "qtext = queries[30][1]\n",
    "print(f'query:{qtext}')\n",
    "results = bm25_search(qtext, 2)\n",
    "ERR = err(results, qrels[qid])\n",
    "print(f'ERR = {ERR}')\n",
    "####"
   ]
  },
  {
   "cell_type": "markdown",
   "metadata": {
    "deletable": false,
    "editable": false,
    "nbgrader": {
     "cell_type": "markdown",
     "checksum": "5bd94caf77cfa5f34675df758d91002d",
     "grade": false,
     "grade_id": "cell-43709a765f353946",
     "locked": true,
     "schema_version": 3,
     "solution": false,
     "task": false
    }
   },
   "source": [
    "---\n",
    "### 4.6 Evaluate Search Functions\n",
    "\n",
    "Let's define some metrics@k using [partial functions](https://docs.python.org/3/library/functools.html#functools.partial)"
   ]
  },
  {
   "cell_type": "code",
   "execution_count": 76,
   "metadata": {
    "deletable": false,
    "editable": false,
    "nbgrader": {
     "cell_type": "code",
     "checksum": "49ccc158e5fb7340ace55e90eeb9d62a",
     "grade": false,
     "grade_id": "cell-dab560e18e340da8",
     "locked": true,
     "schema_version": 3,
     "solution": false,
     "task": false
    }
   },
   "outputs": [],
   "source": [
    "#### metrics@k functions\n",
    "\n",
    "recall_at_1 = partial(recall_k, k=1)\n",
    "recall_at_5 = partial(recall_k, k=5)\n",
    "recall_at_10 = partial(recall_k, k=10)\n",
    "precision_at_1 = partial(precision_k, k=1)\n",
    "precision_at_5 = partial(precision_k, k=5)\n",
    "precision_at_10 = partial(precision_k, k=10)\n",
    "\n",
    "\n",
    "list_of_metrics = [\n",
    "    (\"ERR\", err),\n",
    "    (\"MAP\", average_precision),\n",
    "    (\"Recall@1\",recall_at_1),\n",
    "    (\"Recall@5\", recall_at_5),\n",
    "    (\"Recall@10\", recall_at_10),\n",
    "    (\"Precision@1\", precision_at_1),\n",
    "    (\"Precision@5\", precision_at_5),\n",
    "    (\"Precision@10\", precision_at_10)]\n",
    "####"
   ]
  },
  {
   "cell_type": "markdown",
   "metadata": {
    "deletable": false,
    "editable": false,
    "nbgrader": {
     "cell_type": "markdown",
     "checksum": "fb541002c03221b453b8936290020ea5",
     "grade": false,
     "grade_id": "cell-580a2bdc66d03b47",
     "locked": true,
     "schema_version": 3,
     "solution": false,
     "task": false
    }
   },
   "source": [
    "---\n",
    "\n",
    "The following function evaluates a `search_fn` using the `metric_fn`. Note that the final number is averaged over all the queries"
   ]
  },
  {
   "cell_type": "code",
   "execution_count": 77,
   "metadata": {},
   "outputs": [],
   "source": [
    "#### Evaluate a search function\n",
    "\n",
    "list_of_search_fns = [\n",
    "    (\"BOW\", bow_search),\n",
    "    (\"TF-IDF\", tfidf_search),\n",
    "    (\"NaiveQL\", naive_ql_search),\n",
    "    (\"QL\", ql_search),\n",
    "    (\"BM25\", bm25_search)\n",
    "]\n",
    "\n",
    "def evaluate_search_fn(search_fn, metric_fns, index_set=None):\n",
    "    # build a dict query_id -> query \n",
    "    queries_by_id = dict((q[0], q[1]) for q in queries)\n",
    "    \n",
    "    metrics = {}\n",
    "    for metric, metric_fn in metric_fns:\n",
    "        metrics[metric] = np.zeros(len(qrels), dtype=np.float32)\n",
    "    \n",
    "    for i, (query_id, relevant_docs) in enumerate(qrels.items()):\n",
    "        query = queries_by_id[query_id]\n",
    "        if index_set:\n",
    "            results = search_fn(query, index_set)\n",
    "        else:\n",
    "            results = search_fn(query)\n",
    "        \n",
    "        for metric, metric_fn in metric_fns:\n",
    "            metrics[metric][i] = metric_fn(results, relevant_docs)\n",
    "\n",
    "    \n",
    "    \n",
    "    final_dict = {}\n",
    "    for metric, metric_vals in metrics.items():\n",
    "        final_dict[metric] = metric_vals.mean()\n",
    "    \n",
    "    return final_dict\n",
    "####"
   ]
  },
  {
   "cell_type": "markdown",
   "metadata": {
    "deletable": false,
    "editable": false,
    "nbgrader": {
     "cell_type": "markdown",
     "checksum": "6ea67534f74a8f81e1f504794f641709",
     "grade": false,
     "grade_id": "cell-b156d83a0649cbb4",
     "locked": true,
     "schema_version": 3,
     "solution": false,
     "task": false
    }
   },
   "source": [
    "## Section 5: Analysis (30 points) <a class=\"anchor\" id=\"analysis\"></a>\n",
    "\n",
    "[Back to Part 1](#part1)\n",
    "\n",
    "In the final section of Part1, we will compare the different term-based IR algorithms and different preprocessing configurations and analyze their advantages and disadvantages.\n",
    "\n",
    "### Section 5.1: Plot (20 points)\n",
    "\n",
    "First, gather the results. The results should consider the index set, the different search functions and different metrics. Plot the results in bar charts, per metric, with clear labels.\n",
    "\n",
    "**Rubric:**\n",
    "- Each Metric is plotted: 7 points\n",
    "- Each Method is plotted: 7 points\n",
    "- Clear titles, x label, y labels and legends (if applicable): 6 points"
   ]
  },
  {
   "cell_type": "code",
   "execution_count": 78,
   "metadata": {
    "deletable": false,
    "nbgrader": {
     "cell_type": "code",
     "checksum": "7e2588a925d13ddf588abe8311dc9cfc",
     "grade": true,
     "grade_id": "cell-46fda42a25863a04",
     "locked": false,
     "points": 20,
     "schema_version": 3,
     "solution": true,
     "task": false
    }
   },
   "outputs": [
    {
     "ename": "NotImplementedError",
     "evalue": "",
     "output_type": "error",
     "traceback": [
      "\u001b[1;31m---------------------------------------------------------------------------\u001b[0m",
      "\u001b[1;31mNotImplementedError\u001b[0m                       Traceback (most recent call last)",
      "\u001b[1;32mC:\\TEMP/ipykernel_15376/1067236896.py\u001b[0m in \u001b[0;36m<module>\u001b[1;34m\u001b[0m\n\u001b[0;32m      1\u001b[0m \u001b[1;31m# YOUR CODE HERE\u001b[0m\u001b[1;33m\u001b[0m\u001b[1;33m\u001b[0m\u001b[0m\n\u001b[1;32m----> 2\u001b[1;33m \u001b[1;32mraise\u001b[0m \u001b[0mNotImplementedError\u001b[0m\u001b[1;33m(\u001b[0m\u001b[1;33m)\u001b[0m\u001b[1;33m\u001b[0m\u001b[1;33m\u001b[0m\u001b[0m\n\u001b[0m",
      "\u001b[1;31mNotImplementedError\u001b[0m: "
     ]
    }
   ],
   "source": [
    "# YOUR CODE HERE\n",
    "raise NotImplementedError()"
   ]
  },
  {
   "cell_type": "markdown",
   "metadata": {
    "deletable": false,
    "editable": false,
    "nbgrader": {
     "cell_type": "markdown",
     "checksum": "e88c444a0acf4e398c65e289169b75f7",
     "grade": false,
     "grade_id": "cell-8aabe3bcf265deb0",
     "locked": true,
     "points": 10,
     "schema_version": 3,
     "solution": false,
     "task": true
    }
   },
   "source": [
    "---\n",
    "### Section 5.2: Summary (10 points)\n",
    "Write a summary of what you observe in the results.\n",
    "Your summary should compare results across the 2 indices and the methods being used. State what you expected to see in the results, followed by either supporting evidence *or* justify why the results did not support your expectations.      "
   ]
  },
  {
   "cell_type": "markdown",
   "metadata": {},
   "source": [
    "Write your answer here!"
   ]
  },
  {
   "cell_type": "markdown",
   "metadata": {
    "deletable": false,
    "editable": false,
    "nbgrader": {
     "cell_type": "markdown",
     "checksum": "b3eb77be74eecca205fc7b47316d1627",
     "grade": false,
     "grade_id": "cell-bb60dd5c092d0f2e",
     "locked": true,
     "schema_version": 3,
     "solution": false,
     "task": false
    }
   },
   "source": [
    "---\n",
    "---\n",
    "# Part 2: Semantic-based Matching (85 points) <a class=\"anchor\" id=\"part2\"></a>\n",
    "\n",
    "[Back to top](#top)\n",
    "\n",
    "We will now experiment with methods that go beyond lexical methods like TF-IDF, which operate at the word level and are high dimensional and sparse, and look at methods which constructs low dimensional dense representations of queries and documents. \n",
    "\n",
    "Since these low-dimensional methods have a higher time complexity, they are typically used in conjunction with methods like BM-25. That is, instead of searching through potentially million documents to find matches using low dimensional vectors, a list of K documents are retrieved using BM25, and then **re-ranked** using the other method. This is the method that is going to be applied in the following exercises. \n",
    "\n",
    "LSI/LDA takes documents that are similar on a semantic level - for instance, if they are describing the same topic - and projects them into nearby vectors, despite having low lexical overlap.\n",
    "\n",
    "In this assignment, you will use `gensim` to create LSI/LDA models and use them in re-ranking. \n",
    "\n",
    "**Note**: The following exercises only uses `doc_repr_2` and `config_2`\n",
    "\n",
    "Table of contents:\n",
    "- [Section 6: LSI](#lsi) (15 points)\n",
    "- [Section 7: LDA](#lda) (10 points)\n",
    "- [Section 8: Word2Vec/Doc2Vec](#2vec) (20 points)\n",
    "- [Section 8: Re-ranking](#reranking) (10 points)\n",
    "- [Section 9: Re-ranking Evaluation](#reranking_eval) (30 points)"
   ]
  },
  {
   "cell_type": "markdown",
   "metadata": {
    "deletable": false,
    "editable": false,
    "nbgrader": {
     "cell_type": "markdown",
     "checksum": "f7c7b2cab82f576ed0acf836ca57171c",
     "grade": false,
     "grade_id": "cell-6b2c81e7a8abd180",
     "locked": true,
     "schema_version": 3,
     "solution": false,
     "task": false
    }
   },
   "source": [
    "---\n",
    "## Section 6: Latent Semantic Indexing (LSI) (15 points) <a class=\"anchor\" id=\"lsi\"></a>\n",
    "\n",
    "[Back to Part 2](#part2)\n",
    "\n",
    "LSI is one of the methods to embed the queries and documents into vectors. It is based on a method similar to Principal Component Analysis (PCA) for obtaining a dense concept matrix out of the sparse term-document matrix.\n",
    "\n",
    "See [wikipedia](https://en.wikipedia.org/wiki/Latent_semantic_analysis), particularly [#Mathematics_of_LSI](https://en.wikipedia.org/wiki/Latent_semantic_analysis#Mathematics_of_LSI)."
   ]
  },
  {
   "cell_type": "code",
   "execution_count": null,
   "metadata": {},
   "outputs": [],
   "source": [
    "#!pip install gensim"
   ]
  },
  {
   "cell_type": "code",
   "execution_count": 89,
   "metadata": {
    "deletable": false,
    "editable": false,
    "nbgrader": {
     "cell_type": "code",
     "checksum": "c17ee75319cb517e2bf48ec3d9efc329",
     "grade": false,
     "grade_id": "cell-59913daee47f680d",
     "locked": true,
     "schema_version": 3,
     "solution": false,
     "task": false
    }
   },
   "outputs": [],
   "source": [
    "from gensim.corpora import Dictionary\n",
    "from gensim.models import LdaModel, LsiModel, Word2Vec\n",
    "from gensim.models.doc2vec import Doc2Vec, TaggedDocument\n",
    "from gensim import downloader as g_downloader\n",
    "# gensim uses logging, so set it up \n",
    "import logging\n",
    "logging.basicConfig(format='%(asctime)s : %(levelname)s : %(message)s', level=logging.INFO)"
   ]
  },
  {
   "cell_type": "markdown",
   "metadata": {
    "deletable": false,
    "editable": false,
    "nbgrader": {
     "cell_type": "markdown",
     "checksum": "5fce140c546759b54a9fc060901ae77c",
     "grade": false,
     "grade_id": "cell-3644faff4976598a",
     "locked": true,
     "schema_version": 3,
     "solution": false,
     "task": false
    }
   },
   "source": [
    "---\n",
    "### Section 6.1: Cosine Similarity (5 points)<a class=\"anchor\" id=\"cosing_sim\"></a>\n",
    "Before we begin, let us first define our method of similarity for the LSI model, the cosine similarity:\n",
    "\n",
    "$$\\text{similarity} = \\cos(\\theta) = {\\mathbf{A} \\cdot \\mathbf{B} \\over \\|\\mathbf{A}\\| \\|\\mathbf{B}\\|} = \\frac{ \\sum\\limits_{i=1}^{n}{A_i  B_i} }{ \\sqrt{\\sum\\limits_{i=1}^{n}{A_i^2}}  \\sqrt{\\sum\\limits_{i=1}^{n}{B_i^2}} }$$\n",
    "\n",
    "Since we are using gensim, the types of vectors returned by their classes are of the form defined below (they are not just simple vectors):"
   ]
  },
  {
   "cell_type": "code",
   "execution_count": 82,
   "metadata": {
    "deletable": false,
    "editable": false,
    "nbgrader": {
     "cell_type": "code",
     "checksum": "4e340e1a1d546f430c018fd0760e707a",
     "grade": false,
     "grade_id": "cell-3995a50f951314d5",
     "locked": true,
     "schema_version": 3,
     "solution": false,
     "task": false
    }
   },
   "outputs": [],
   "source": [
    "# 1, 2, 3 are either latent dimensions (LSI), or topics (LDA)\n",
    "# The second value in each tuple is a number (LSI) or a probability (LDA)  \n",
    "example_vec_1 = [(1, 0.2), (2, 0.3), (3, 0.4)]\n",
    "example_vec_2 = [(1, 0.2), (2, 0.7), (3, 0.4)]"
   ]
  },
  {
   "cell_type": "markdown",
   "metadata": {
    "deletable": false,
    "editable": false,
    "nbgrader": {
     "cell_type": "markdown",
     "checksum": "20832fd4f579f49ae204b0efee02edd1",
     "grade": false,
     "grade_id": "cell-5e54d581858dc8f7",
     "locked": true,
     "schema_version": 3,
     "solution": false,
     "task": false
    }
   },
   "source": [
    "---\n",
    "**Implementation (2+3 points):**\n",
    "Now, implement the `dot product` operation on these types of vectors and using this operator, implement the `cosine similarity` (don't forget: two functions to implement!):"
   ]
  },
  {
   "cell_type": "code",
   "execution_count": 90,
   "metadata": {
    "deletable": false,
    "nbgrader": {
     "cell_type": "code",
     "checksum": "06a712ee75fc213a21c5f0067fd8fe28",
     "grade": false,
     "grade_id": "cell-0e8189f5f93de33f",
     "locked": false,
     "schema_version": 3,
     "solution": true,
     "task": false
    }
   },
   "outputs": [],
   "source": [
    "# TODO: Implement this! (2 points)\n",
    "def dot(vec_1,vec_2): \n",
    "    \"\"\"\n",
    "        vec_1 and vec_2 are of the form: [(int, float), (int, float), ...]\n",
    "        Return the dot product of two such vectors, computed only on the floats\n",
    "        You can assume that the lengths of the vectors are the same, and the dimensions are aligned \n",
    "            i.e you won't get: vec_1 = [(1, 0.2)] ; vec_2 = [(2, 0.3)] \n",
    "                                (dimensions are unaligned and lengths are different)\n",
    "    \"\"\"\n",
    "    # YOUR CODE HERE\n",
    "    try:\n",
    "        dotproduct = sum(vec_1[i][1]*vec_2[i][1] for i in range(len(vec_1)))\n",
    "        \n",
    "    except:\n",
    "        print(f\"len(vec_1) = {len(vec_1)}\")\n",
    "        print(f\"len(vec_2) = {len(vec_2)}\")\n",
    "        print(f\"i = {i}\")\n",
    "        print(f\"len(vec_1[i])={len(vec_1[i])}\")\n",
    "        dotproduct = 0\n",
    "    return dotproduct\n",
    "    \n",
    "\n",
    "# TODO: Implement this! (3 points)\n",
    "def cosine_sim(vec_1, vec_2):\n",
    "    # YOUR CODE HERE\n",
    "    if (len(vec_1) == 0) or (len(vec_2)==0):\n",
    "        cosine_sim = 0\n",
    "    elif  dot(vec_1,vec_2)==0:\n",
    "        cosine_sim = 0\n",
    "    else:\n",
    "        cosine_sim = dot(vec_1,vec_2)/(np.sqrt(dot(vec_1, vec_1))*np.sqrt(dot(vec_2,vec_2)))\n",
    "#         print(dot(vec_1,vec_2), dot(vec_1,vec_1), dot(vec_2,vec_2))\n",
    "    return cosine_sim\n",
    "    raise NotImplementedError()"
   ]
  },
  {
   "cell_type": "code",
   "execution_count": 92,
   "metadata": {
    "deletable": false,
    "editable": false,
    "nbgrader": {
     "cell_type": "code",
     "checksum": "d22a4a7325ba7815a808390388f534a1",
     "grade": true,
     "grade_id": "cell-b25d04ed6b79fd35",
     "locked": true,
     "points": 2,
     "schema_version": 3,
     "solution": false,
     "task": false
    }
   },
   "outputs": [
    {
     "name": "stdout",
     "output_type": "stream",
     "text": [
      "vectors: ([(1, 0.2), (2, 0.3), (3, 0.4)], [(1, 0.2), (2, 0.7), (3, 0.4)])\n",
      "dot product = 0.41000000000000003\n",
      "cosine similarity = 0.9165587597202866\n"
     ]
    }
   ],
   "source": [
    "##### Function check\n",
    "print(f'vectors: {(example_vec_1,example_vec_2)}')\n",
    "print(f'dot product = {dot(example_vec_1,example_vec_2)}')\n",
    "print(f'cosine similarity = {cosine_sim(example_vec_1,example_vec_2)}')\n",
    "##### "
   ]
  },
  {
   "cell_type": "code",
   "execution_count": 97,
   "metadata": {
    "deletable": false,
    "editable": false,
    "nbgrader": {
     "cell_type": "code",
     "checksum": "0744131724ce76b1b3f163b4bae5f700",
     "grade": true,
     "grade_id": "cell-ae3c4466866ace77",
     "locked": true,
     "points": 3,
     "schema_version": 3,
     "solution": false,
     "task": false
    }
   },
   "outputs": [],
   "source": [
    "#### Please do not change this. This cell is used for grading."
   ]
  },
  {
   "cell_type": "markdown",
   "metadata": {
    "deletable": false,
    "editable": false,
    "nbgrader": {
     "cell_type": "markdown",
     "checksum": "9b123f599f9ea372d14676e23f1c6a52",
     "grade": false,
     "grade_id": "cell-4b2534067c44fcdf",
     "locked": true,
     "schema_version": 3,
     "solution": false,
     "task": false
    }
   },
   "source": [
    "---\n",
    "### Section 6.2: LSI Retrieval (10 points)<a class=\"anchor\" id=\"lsi_retrieval\"></a>\n",
    "LSI retrieval is simply ranking the documents based on their cosine similarity to the query vector.\n",
    "First, let's write a parent class for vector-based retrieval models:"
   ]
  },
  {
   "cell_type": "code",
   "execution_count": 105,
   "metadata": {
    "deletable": false,
    "editable": false,
    "nbgrader": {
     "cell_type": "code",
     "checksum": "ecc111d58182570e2252b8ef5d6b02af",
     "grade": false,
     "grade_id": "cell-937936cea18711ee",
     "locked": true,
     "schema_version": 3,
     "solution": false,
     "task": false
    }
   },
   "outputs": [],
   "source": [
    "class VectorSpaceRetrievalModel:\n",
    "    \"\"\"\n",
    "        Parent class for Dense Vector Retrieval models\n",
    "    \"\"\"\n",
    "    def __init__(self, doc_repr):\n",
    "        \"\"\"\n",
    "            document_collection: \n",
    "                [\n",
    "                    (doc_id_1, [token 1, token 2, ...]), \n",
    "                    (doc_id_2, [token 1, token 2, ....]) \n",
    "                    ...\n",
    "                ]\n",
    "\n",
    "        \"\"\"\n",
    "        self.doc_repr = doc_repr\n",
    "        self.documents = [_[1] for _ in self.doc_repr]\n",
    "        \n",
    "        # construct a dictionary\n",
    "        self.dictionary = Dictionary(self.documents)\n",
    "        # Filter out words that occur less than 20 documents, or more than 50% of the documents.\n",
    "        self.dictionary.filter_extremes(no_below=10)\n",
    "        self.corpus = [self.dictionary.doc2bow(doc) for doc in self.documents]\n",
    "    \n",
    "        # Make a index to word dictionary.\n",
    "        temp = self.dictionary[0]  # This is only to \"load\" the dictionary.\n",
    "        self.id2word = self.dictionary.id2token\n",
    "        \n",
    "        # this is set by the train_model function\n",
    "        self.model = None\n",
    "        \n",
    "        \n",
    "    def vectorize_documents(self):\n",
    "        \"\"\"\n",
    "            Returns a doc_id -> vector dictionary\n",
    "        \"\"\"\n",
    "        vectors = {}\n",
    "        for (doc_id, _), cc in zip(self.doc_repr, self.corpus):\n",
    "            vectors[doc_id] = self.model[cc]\n",
    "        return vectors\n",
    "\n",
    "    def vectorize_query(self, query):\n",
    "        # Note the use of config_2 here!\n",
    "        query = process_text(query, **config_2)\n",
    "        query_vector = self.dictionary.doc2bow(query)\n",
    "        return self.model[query_vector]\n",
    "    \n",
    "    def train_model(self):\n",
    "        \"\"\"\n",
    "            Trains a model and sets the 'self.model' variable. \n",
    "            Make sure to use the variables created in the __init__ method.\n",
    "            e.g the variables which may be useful: {corpus, dictionary, id2word}\n",
    "        \"\"\"\n",
    "        raise NotImplementedError()"
   ]
  },
  {
   "cell_type": "markdown",
   "metadata": {
    "deletable": false,
    "editable": false,
    "nbgrader": {
     "cell_type": "markdown",
     "checksum": "ff161eefd9b81b768cd6361bc1a502b0",
     "grade": false,
     "grade_id": "cell-704a18c2f80cd60c",
     "locked": true,
     "schema_version": 3,
     "solution": false,
     "task": false
    }
   },
   "source": [
    "---\n",
    "**Implementation (5 points):**\n",
    "Implement the `train_model` method in the following class (note that this is only one line of code in `gensim`!). Ensure that the parameters defined in the `__init__` method are not changed, and are *used in the `train_method` function*. Normally, the hyperaparameter space will be searched using grid search / other methods - in this assignment we have provided the hyperparameters for you.\n",
    "\n",
    "The last two lines of code train an LSI model on the list of documents which have been stemmed, lower-cased and have stopwords removed. "
   ]
  },
  {
   "cell_type": "code",
   "execution_count": 106,
   "metadata": {
    "deletable": false,
    "nbgrader": {
     "cell_type": "code",
     "checksum": "0e90eedc27c248bc1ae050518a46a46c",
     "grade": false,
     "grade_id": "cell-307682c9089f15d6",
     "locked": false,
     "schema_version": 3,
     "solution": true,
     "task": false
    }
   },
   "outputs": [],
   "source": [
    "# TODO: Implement this! (5 points)\n",
    "class LsiRetrievalModel(VectorSpaceRetrievalModel):\n",
    "    def __init__(self, doc_repr):\n",
    "        super().__init__(doc_repr)\n",
    "        \n",
    "        self.num_topics = 100\n",
    "        self.chunksize = 2000\n",
    "    \n",
    "    def train_model(self):\n",
    "        # YOUR CODE HERE\n",
    "        self.model = LsiModel(corpus = self.corpus, num_topics=self.num_topics, chunksize=self.chunksize,id2word = self.id2word)\n"
   ]
  },
  {
   "cell_type": "code",
   "execution_count": 107,
   "metadata": {
    "deletable": false,
    "editable": false,
    "nbgrader": {
     "cell_type": "code",
     "checksum": "00399cfe13d60cb4beed1271e36004b0",
     "grade": true,
     "grade_id": "cell-5ce512650c1b2dfb",
     "locked": true,
     "points": 0,
     "schema_version": 3,
     "solution": false,
     "task": false
    }
   },
   "outputs": [
    {
     "name": "stderr",
     "output_type": "stream",
     "text": [
      "2022-02-24 23:26:03,749 : INFO : adding document #0 to Dictionary(0 unique tokens: [])\n",
      "2022-02-24 23:26:03,866 : INFO : built Dictionary(5937 unique tokens: ['-', 'algebra', 'intern', 'languag', 'preliminari']...) from 3204 documents (total 115969 corpus positions)\n",
      "2022-02-24 23:26:03,866 : INFO : Dictionary lifecycle event {'msg': \"built Dictionary(5937 unique tokens: ['-', 'algebra', 'intern', 'languag', 'preliminari']...) from 3204 documents (total 115969 corpus positions)\", 'datetime': '2022-02-24T23:26:03.866433', 'gensim': '4.1.2', 'python': '3.9.7 (default, Sep 16 2021, 16:59:28) [MSC v.1916 64 bit (AMD64)]', 'platform': 'Windows-10-10.0.19042-SP0', 'event': 'created'}\n",
      "2022-02-24 23:26:03,874 : INFO : discarding 4740 tokens: [('repeat', 8), ('glossari', 7), ('inspect', 8), ('uncol', 2), ('rung', 9), ('secant', 2), ('.', 1603), ('acceler', 6), ('diverg', 3), ('induc', 9)]...\n",
      "2022-02-24 23:26:03,874 : INFO : keeping 1197 tokens which were in no less than 10 and no more than 1602 (=50.0%) documents\n",
      "2022-02-24 23:26:03,882 : INFO : resulting dictionary: Dictionary(1197 unique tokens: ['-', 'algebra', 'intern', 'languag', 'preliminari']...)\n",
      "2022-02-24 23:26:03,970 : INFO : using serial LSI version on this node\n",
      "2022-02-24 23:26:03,970 : INFO : updating model with new documents\n",
      "2022-02-24 23:26:03,970 : INFO : preparing a new chunk of documents\n",
      "2022-02-24 23:26:03,992 : INFO : using 100 extra samples and 2 power iterations\n",
      "2022-02-24 23:26:03,994 : INFO : 1st phase: constructing (1197, 200) action matrix\n",
      "2022-02-24 23:26:04,016 : INFO : orthonormalizing (1197, 200) action matrix\n",
      "2022-02-24 23:26:04,202 : INFO : 2nd phase: running dense svd on (200, 2000) matrix\n",
      "2022-02-24 23:26:04,354 : INFO : computing the final decomposition\n",
      "2022-02-24 23:26:04,354 : INFO : keeping 100 factors (discarding 13.475% of energy spectrum)\n",
      "2022-02-24 23:26:04,367 : INFO : processed documents up to #2000\n",
      "2022-02-24 23:26:04,367 : INFO : topic #0(152.127): 0.741*\",\" + 0.342*\"-\" + 0.211*\"system\" + 0.204*\"program\" + 0.192*\"comput\" + 0.146*\"(\" + 0.127*\"languag\" + 0.108*\")\" + 0.084*\"gener\" + 0.083*\"data\"\n",
      "2022-02-24 23:26:04,367 : INFO : topic #1(60.600): -0.607*\"(\" + -0.434*\")\" + -0.366*\"algorithm\" + -0.300*\"-\" + 0.237*\",\" + 0.213*\"system\" + 0.132*\"comput\" + -0.096*\"[\" + 0.093*\"program\" + -0.084*\"])\"\n",
      "2022-02-24 23:26:04,367 : INFO : topic #2(57.438): 0.744*\"-\" + -0.452*\",\" + 0.263*\"system\" + -0.214*\"(\" + -0.166*\")\" + 0.107*\"time\" + 0.105*\"program\" + -0.094*\"algorithm\" + 0.068*\"comput\" + 0.067*\"share\"\n",
      "2022-02-24 23:26:04,367 : INFO : topic #3(48.370): -0.483*\"system\" + -0.375*\"program\" + -0.367*\"comput\" + 0.363*\"-\" + 0.308*\",\" + -0.212*\"(\" + -0.168*\")\" + -0.147*\"algorithm\" + 0.144*\"languag\" + -0.119*\"time\"\n",
      "2022-02-24 23:26:04,375 : INFO : topic #4(45.710): -0.489*\"comput\" + 0.475*\"languag\" + 0.428*\"program\" + -0.238*\"method\" + -0.141*\"problem\" + 0.121*\"system\" + 0.109*\")\" + -0.107*\"equat\" + -0.100*\"algorithm\" + 0.099*\"(\"\n",
      "2022-02-24 23:26:04,375 : INFO : preparing a new chunk of documents\n",
      "2022-02-24 23:26:04,383 : INFO : using 100 extra samples and 2 power iterations\n",
      "2022-02-24 23:26:04,391 : INFO : 1st phase: constructing (1197, 200) action matrix\n",
      "2022-02-24 23:26:04,408 : INFO : orthonormalizing (1197, 200) action matrix\n",
      "2022-02-24 23:26:04,618 : INFO : 2nd phase: running dense svd on (200, 1204) matrix\n",
      "2022-02-24 23:26:04,754 : INFO : computing the final decomposition\n",
      "2022-02-24 23:26:04,754 : INFO : keeping 100 factors (discarding 14.040% of energy spectrum)\n",
      "2022-02-24 23:26:04,760 : INFO : merging projections: (1197, 100) + (1197, 100)\n",
      "2022-02-24 23:26:04,833 : INFO : keeping 100 factors (discarding 8.171% of energy spectrum)\n",
      "2022-02-24 23:26:04,834 : INFO : processed documents up to #3204\n",
      "2022-02-24 23:26:04,834 : INFO : topic #0(225.136): 0.759*\",\" + 0.337*\"-\" + 0.196*\"system\" + 0.186*\"program\" + 0.166*\"comput\" + 0.139*\"(\" + 0.103*\")\" + 0.103*\"algorithm\" + 0.099*\"languag\" + 0.087*\"time\"\n",
      "2022-02-24 23:26:04,834 : INFO : topic #1(87.805): 0.613*\"-\" + -0.399*\",\" + 0.399*\"(\" + 0.326*\"algorithm\" + 0.293*\")\" + -0.129*\"system\" + -0.107*\"program\" + 0.085*\"method\" + 0.077*\"time\" + 0.062*\"1\"\n",
      "2022-02-24 23:26:04,842 : INFO : topic #2(81.909): 0.550*\"-\" + -0.434*\"(\" + 0.355*\"system\" + -0.321*\")\" + -0.291*\",\" + -0.266*\"algorithm\" + 0.146*\"program\" + 0.123*\"comput\" + 0.078*\"time\" + -0.064*\"[\"\n",
      "2022-02-24 23:26:04,842 : INFO : topic #3(72.432): -0.693*\"program\" + 0.339*\",\" + 0.279*\"-\" + -0.251*\"(\" + -0.221*\"system\" + -0.214*\"languag\" + -0.204*\")\" + -0.160*\"comput\" + -0.099*\"data\" + -0.056*\"execut\"\n",
      "2022-02-24 23:26:04,842 : INFO : topic #4(68.523): -0.673*\"system\" + 0.453*\"program\" + 0.254*\"languag\" + 0.212*\"-\" + -0.179*\"comput\" + -0.165*\"(\" + -0.121*\")\" + -0.115*\"model\" + 0.101*\",\" + -0.098*\"algorithm\"\n",
      "2022-02-24 23:26:04,842 : INFO : LsiModel lifecycle event {'msg': 'trained LsiModel(num_terms=1197, num_topics=100, decay=1.0, chunksize=2000) in 0.87s', 'datetime': '2022-02-24T23:26:04.842420', 'gensim': '4.1.2', 'python': '3.9.7 (default, Sep 16 2021, 16:59:28) [MSC v.1916 64 bit (AMD64)]', 'platform': 'Windows-10-10.0.19042-SP0', 'event': 'created'}\n"
     ]
    },
    {
     "data": {
      "text/plain": [
       "[(0, 0.015214171824388709),\n",
       " (1, -0.016260614693461902),\n",
       " (2, -0.00018706281924318674),\n",
       " (3, -0.0017969213459921333),\n",
       " (4, -0.009360232811087117),\n",
       " (5, -0.0046950822866186435),\n",
       " (6, 0.027033515836837756),\n",
       " (7, 0.016582744750843696),\n",
       " (8, -0.031804226069788916),\n",
       " (9, -0.0005972071557664594),\n",
       " (10, 0.0022831483883935092),\n",
       " (11, -0.017615012237629558),\n",
       " (12, -0.00015866991357975195),\n",
       " (13, 0.0015843732371912068),\n",
       " (14, 0.0040871319681521565),\n",
       " (15, 0.0052121066744386935),\n",
       " (16, 0.005641757358931401),\n",
       " (17, 0.0025362968686693),\n",
       " (18, -0.015860409320067166),\n",
       " (19, 0.02039385871306793),\n",
       " (20, -0.010864682978953126),\n",
       " (21, -0.01429567687314274),\n",
       " (22, 0.04744771341623354),\n",
       " (23, 0.026235586898176278),\n",
       " (24, -0.00804618393643454),\n",
       " (25, -0.011578458258038306),\n",
       " (26, 0.005421099615020847),\n",
       " (27, 0.07516204710769087),\n",
       " (28, -0.06359206839242207),\n",
       " (29, 0.03403526600524501),\n",
       " (30, 0.040448656723177656),\n",
       " (31, 0.047938447653548856),\n",
       " (32, -0.07451843019386781),\n",
       " (33, 0.04759049492572485),\n",
       " (34, -0.02192846425994799),\n",
       " (35, 0.0617276410230692),\n",
       " (36, 0.03921392529052649),\n",
       " (37, -0.0062478016107427245),\n",
       " (38, -0.05798915493126622),\n",
       " (39, 0.026380572114818993),\n",
       " (40, -0.0432716085763577),\n",
       " (41, -0.03086612787643951),\n",
       " (42, 0.02768875617568206),\n",
       " (43, 0.01665723527108953),\n",
       " (44, 0.025049210556549358),\n",
       " (45, 0.05521603687182337),\n",
       " (46, -0.013396256229832065),\n",
       " (47, 0.009683864877454889),\n",
       " (48, 0.019382786508118192),\n",
       " (49, 0.0333335063488117),\n",
       " (50, 0.018484227767126347),\n",
       " (51, 0.05320306340370794),\n",
       " (52, -0.011883659954754322),\n",
       " (53, -0.001626935739394507),\n",
       " (54, 0.0426591610476688),\n",
       " (55, 0.021123307887841808),\n",
       " (56, -0.009492482199424303),\n",
       " (57, -0.011287499611045297),\n",
       " (58, 0.008299717089813217),\n",
       " (59, 0.04854139186322899),\n",
       " (60, -0.009009795099819893),\n",
       " (61, -0.042992320414996024),\n",
       " (62, -0.018120111377121502),\n",
       " (63, 0.048652833058128786),\n",
       " (64, -0.041419212943237665),\n",
       " (65, 0.054366548540371595),\n",
       " (66, -0.00015499817040465127),\n",
       " (67, -0.05497604714120848),\n",
       " (68, -0.00048599117330536123),\n",
       " (69, -0.04528578112717534),\n",
       " (70, -0.06393444874391972),\n",
       " (71, -0.015779889155825167),\n",
       " (72, -0.0012379524325237864),\n",
       " (73, -0.08969907139682302),\n",
       " (74, -0.03364271034595501),\n",
       " (75, 0.028044161049623224),\n",
       " (76, 0.020783976859759423),\n",
       " (77, 0.03400323432068531),\n",
       " (78, 0.048020101838213404),\n",
       " (79, 0.023866831117415672),\n",
       " (80, -0.02431588987563715),\n",
       " (81, -0.005319669669096428),\n",
       " (82, 0.05707798506349989),\n",
       " (83, -0.019681712852330408),\n",
       " (84, 0.023998731632723595),\n",
       " (85, -0.024876348744447503),\n",
       " (86, 0.036402300602877226),\n",
       " (87, -0.020941466158831024),\n",
       " (88, -0.044730835077002),\n",
       " (89, -0.07499665593558857),\n",
       " (90, -0.09225351356513287),\n",
       " (91, 0.0024779769018747786),\n",
       " (92, 0.010992239200504843),\n",
       " (93, -0.03633614228603099),\n",
       " (94, 0.03571979771785917),\n",
       " (95, 0.016127325503699032),\n",
       " (96, -0.02565193657992315),\n",
       " (97, -0.015966659544976135),\n",
       " (98, 0.010011367082251253),\n",
       " (99, 0.0012580971296214539)]"
      ]
     },
     "execution_count": 107,
     "metadata": {},
     "output_type": "execute_result"
    }
   ],
   "source": [
    "##### Function check\n",
    "lsi = LsiRetrievalModel(doc_repr_2)\n",
    "lsi.train_model()\n",
    "\n",
    "# you can now get an LSI vector for a given query in the following way:\n",
    "lsi.vectorize_query(\"report\")\n",
    "##### "
   ]
  },
  {
   "cell_type": "markdown",
   "metadata": {
    "deletable": false,
    "editable": false,
    "nbgrader": {
     "cell_type": "markdown",
     "checksum": "7116bb9f576c5bb04934e1d59c51d729",
     "grade": false,
     "grade_id": "cell-4c5eeb557b4fca2f",
     "locked": true,
     "points": 5,
     "schema_version": 3,
     "solution": false,
     "task": true
    }
   },
   "source": [
    "\\#### Please do not change this. This cell is used for grading."
   ]
  },
  {
   "cell_type": "markdown",
   "metadata": {
    "deletable": false,
    "editable": false,
    "nbgrader": {
     "cell_type": "markdown",
     "checksum": "26e2ff3c413745e633d99f66c041d6b1",
     "grade": false,
     "grade_id": "cell-c4e50296cd17a555",
     "locked": true,
     "schema_version": 3,
     "solution": false,
     "task": false
    }
   },
   "source": [
    "---\n",
    "**Implementation (5 points):**\n",
    " Next, implement a basic ranking class for vector space retrieval (used for all semantic methods): "
   ]
  },
  {
   "cell_type": "code",
   "execution_count": 108,
   "metadata": {
    "deletable": false,
    "nbgrader": {
     "cell_type": "code",
     "checksum": "1a8389d2f0635c3405e2b0b27ed9f327",
     "grade": false,
     "grade_id": "cell-250515d288e80cdc",
     "locked": false,
     "schema_version": 3,
     "solution": true,
     "task": false
    }
   },
   "outputs": [],
   "source": [
    "# TODO: Implement this! (5 points)\n",
    "class DenseRetrievalRanker:\n",
    "    def __init__(self, vsrm, similarity_fn):\n",
    "        \"\"\"\n",
    "            vsrm: instance of `VectorSpaceRetrievalModel`\n",
    "            similarity_fn: function instance that takes in two vectors \n",
    "                            and returns a similarity score e.g cosine_sim defined earlier\n",
    "        \"\"\"\n",
    "        self.vsrm = vsrm \n",
    "        self.vectorized_documents = self.vsrm.vectorize_documents()\n",
    "        self.similarity_fn = similarity_fn\n",
    "    \n",
    "    def _compute_sim(self, query_vector):\n",
    "        \"\"\"\n",
    "            Compute the similarity of `query_vector` to documents in \n",
    "            `self.vectorized_documents` using `self.similarity_fn`\n",
    "            Returns a list of (doc_id, score) tuples\n",
    "        \"\"\"\n",
    "        # YOUR CODE HERE\n",
    "        sim_list = []\n",
    "        for doc_id, doc_vec in self.vectorized_documents.items():\n",
    "            if len(doc_vec) == 0:\n",
    "                score=0\n",
    "            else:\n",
    "                score = self.similarity_fn(query_vector,doc_vec)\n",
    "            sim_list.append((doc_id, score))\n",
    "        return sim_list\n",
    "            \n",
    "        raise NotImplementedError()\n",
    "    \n",
    "    def search(self, query):\n",
    "        scores = self._compute_sim(self.vsrm.vectorize_query(query))\n",
    "        scores.sort(key=lambda _:-_[1])\n",
    "        return scores "
   ]
  },
  {
   "cell_type": "code",
   "execution_count": 109,
   "metadata": {
    "deletable": false,
    "editable": false,
    "nbgrader": {
     "cell_type": "code",
     "checksum": "f237dd1ef6c1783c06797f4b514421f5",
     "grade": true,
     "grade_id": "cell-b73068b3e77a8e31",
     "locked": true,
     "points": 0,
     "schema_version": 3,
     "solution": false,
     "task": false
    }
   },
   "outputs": [
    {
     "data": {
      "text/plain": [
       "[('599', 0.789805962841011),\n",
       " ('947', 0.5810156106936248),\n",
       " ('53', 0.4928299269839834),\n",
       " ('1339', 0.45195314153925575),\n",
       " ('3160', 0.44256795664997217)]"
      ]
     },
     "execution_count": 109,
     "metadata": {},
     "output_type": "execute_result"
    }
   ],
   "source": [
    "##### Function check\n",
    "drm_lsi = DenseRetrievalRanker(lsi, cosine_sim)\n",
    "drm_lsi.search(\"report\")[:5]\n",
    "##### "
   ]
  },
  {
   "cell_type": "markdown",
   "metadata": {
    "deletable": false,
    "editable": false,
    "nbgrader": {
     "cell_type": "markdown",
     "checksum": "5b3f19fdcaa585d263706d5a26038799",
     "grade": false,
     "grade_id": "cell-034c755a6502b868",
     "locked": true,
     "points": 5,
     "schema_version": 3,
     "solution": false,
     "task": true
    }
   },
   "source": [
    "\\#### Please do not change this. This cell is used for grading."
   ]
  },
  {
   "cell_type": "markdown",
   "metadata": {
    "deletable": false,
    "editable": false,
    "nbgrader": {
     "cell_type": "markdown",
     "checksum": "dcafef6e037033c46304b914f7c78bdf",
     "grade": false,
     "grade_id": "cell-d1df23f497d5ed6b",
     "locked": true,
     "schema_version": 3,
     "solution": false,
     "task": false
    }
   },
   "source": [
    "---\n",
    "Now, you can test your LSI model in the following cell: try finding queries which are lexically different to documents, but semantically similar - does LSI work well for these queries?!"
   ]
  },
  {
   "cell_type": "code",
   "execution_count": 110,
   "metadata": {
    "deletable": false,
    "editable": false,
    "nbgrader": {
     "cell_type": "code",
     "checksum": "11734bc7674377b340ad51297a8e8bb5",
     "grade": false,
     "grade_id": "cell-efd1d08dfc04ec3e",
     "locked": true,
     "schema_version": 3,
     "solution": false,
     "task": false
    }
   },
   "outputs": [
    {
     "data": {
      "application/vnd.jupyter.widget-view+json": {
       "model_id": "c55b2245fdc5490e8e054d09ede2b073",
       "version_major": 2,
       "version_minor": 0
      },
      "text/plain": [
       "Text(value='', description='Search Bar')"
      ]
     },
     "metadata": {},
     "output_type": "display_data"
    }
   ],
   "source": [
    "# test your LSI model\n",
    "search_fn = drm_lsi.search\n",
    "\n",
    "text = widgets.Text(description=\"Search Bar\", width=200)\n",
    "display(text)\n",
    "\n",
    "def make_results_2(query, search_fn):\n",
    "    results = []\n",
    "    for doc_id, score in search_fn(query):\n",
    "        highlight = highlight_text(docs_by_id[doc_id], query)\n",
    "        if len(highlight.strip()) == 0:\n",
    "            highlight = docs_by_id[doc_id]\n",
    "        results.append(ResultRow(doc_id, highlight, score))\n",
    "    return results\n",
    "\n",
    "def handle_submit_2(sender):\n",
    "    print(f\"Searching for: '{sender.value}' (SEARCH FN: {search_fn})\")\n",
    "    \n",
    "    results = make_results_2(sender.value, search_fn)\n",
    "    \n",
    "    # display only the top 5\n",
    "    results = results[:5]\n",
    "    \n",
    "    body = \"\"\n",
    "    for idx, r in enumerate(results):\n",
    "        body += f\"<li>Document #{r.doc_id}({r.score}): {r.snippet}</li>\"\n",
    "    display(HTML(f\"<ul>{body}</ul>\"))\n",
    "    \n",
    "\n",
    "text.on_submit(handle_submit_2)"
   ]
  },
  {
   "cell_type": "markdown",
   "metadata": {
    "deletable": false,
    "editable": false,
    "nbgrader": {
     "cell_type": "markdown",
     "checksum": "d074ce1ca48384cdda78742741c938be",
     "grade": false,
     "grade_id": "cell-3a86cef264d8f6cf",
     "locked": true,
     "schema_version": 3,
     "solution": false,
     "task": false
    }
   },
   "source": [
    "---\n",
    "## Section 7: Latent Dirichlet Allocation (LDA) (10 points) <a class=\"anchor\" id=\"lda\"></a>\n",
    "\n",
    "[Back to Part 2](#part2)\n",
    "\n",
    "The specifics of LDA is out of the scope of this assignment, but we will use the `gensim` implementation to perform search using LDA over our small document collection. The key thing to remember is that LDA, unlike LSI, outputs a topic **distribution**, not a vector. With that in mind, let's first define a similarity measure.\n"
   ]
  },
  {
   "cell_type": "markdown",
   "metadata": {
    "deletable": false,
    "editable": false,
    "nbgrader": {
     "cell_type": "markdown",
     "checksum": "db01092373b18f0c9dfed1bb17db4ad9",
     "grade": false,
     "grade_id": "cell-6b78ad22c2d60ba7",
     "locked": true,
     "schema_version": 3,
     "solution": false,
     "task": false
    }
   },
   "source": [
    "---\n",
    "### Section 7.1: Jenson-Shannon divergence (5 points) <a class=\"anchor\" id=\"js_sim\"></a>\n",
    "\n",
    "The Jenson-Shannon divergence is a symmetric and finite measure on two probability distributions (unlike the KL, which is neither). For identical distributions, the JSD is equal to 0, and since our code uses 0 as irrelevant and higher scores as relevant, we use `(1 - JSD)` as the score or 'similarity' in our setup\n",
    "\n",
    "**Note**: the JSD is bounded to \\[0,1\\] only if we use log base 2. So please ensure that you're using `np.log2` instead of `np.log`"
   ]
  },
  {
   "cell_type": "code",
   "execution_count": null,
   "metadata": {
    "deletable": false,
    "nbgrader": {
     "cell_type": "code",
     "checksum": "a579e6cd7a24a3516bc9a84528b392d3",
     "grade": false,
     "grade_id": "cell-d2376a85a4841e98",
     "locked": false,
     "schema_version": 3,
     "solution": true,
     "task": false
    }
   },
   "outputs": [],
   "source": [
    "## TODO: Implement this! (5 points)\n",
    "def jenson_shannon_divergence(vec_1, vec_2, assert_prob=False):\n",
    "    \"\"\"\n",
    "        Computes the Jensen-Shannon divergence between two probability distributions. \n",
    "        NOTE: DO NOT RETURN 1 - JSD here, that is handled by the next function which is already implemented! \n",
    "        The inputs are *gensim* vectors - same as the vectors for the cosine_sim function\n",
    "        assert_prob is a flag that checks if the inputs are proper probability distributions \n",
    "            i.e they sum to 1 and are positive - use this to check your inputs if needed. \n",
    "                (This is optional to implement, but recommended - \n",
    "                you can the default to False to save a few ms off the runtime)\n",
    "    \"\"\"\n",
    "    # YOUR CODE HERE\n",
    "    raise NotImplementedError()\n",
    "\n",
    "def jenson_shannon_sim(vec_1, vec_2, assert_prob=False):\n",
    "    return 1 - jenson_shannon_divergence(vec_1, vec_2)\n",
    "\n"
   ]
  },
  {
   "cell_type": "code",
   "execution_count": null,
   "metadata": {
    "deletable": false,
    "editable": false,
    "nbgrader": {
     "cell_type": "code",
     "checksum": "ab340aa941c9fb5c89b3fd0a9139e246",
     "grade": true,
     "grade_id": "cell-487c6d2933f38053",
     "locked": true,
     "points": 5,
     "schema_version": 3,
     "solution": false,
     "task": false
    }
   },
   "outputs": [],
   "source": [
    "##### Function check\n",
    "vec_1 = [(1, 0.3), (2, 0.4), (3, 0.3)]\n",
    "vec_2 = [(1, 0.1), (2, 0.7), (3, 0.2)]\n",
    "jenson_shannon_sim(vec_1, vec_2, assert_prob=True)\n",
    "##### "
   ]
  },
  {
   "cell_type": "markdown",
   "metadata": {
    "deletable": false,
    "editable": false,
    "nbgrader": {
     "cell_type": "markdown",
     "checksum": "0a1583a5f23e3390038331cce67f5d8e",
     "grade": false,
     "grade_id": "cell-4535cc67a50b80fa",
     "locked": true,
     "schema_version": 3,
     "solution": false,
     "task": false
    }
   },
   "source": [
    "---\n",
    "### Section 7.2: LDA retrieval (5 points) <a class=\"anchor\" id=\"lda_ret\"></a>\n",
    "\n",
    "Implement the `train_model` method in the following class (note that this is only one line of code in `gensim`!). Ensure that the parameters defined in the `__init__` method are not changed, and are *used in the `train_method` function*. You do not need to set this. Normally, the hyperaparameter space will be searched using grid search / other methods. Note that training the LDA model might take some time\n",
    "\n",
    "The last two lines of code train an LDA model on the list of documents which have been stemmed, lower-cased and have stopwords removed. "
   ]
  },
  {
   "cell_type": "code",
   "execution_count": null,
   "metadata": {
    "deletable": false,
    "nbgrader": {
     "cell_type": "code",
     "checksum": "27de8e4fa85536bb396b73bfc51b3f50",
     "grade": false,
     "grade_id": "cell-021a48dff4a8bb91",
     "locked": false,
     "schema_version": 3,
     "solution": true,
     "task": false
    }
   },
   "outputs": [],
   "source": [
    "# TODO: Implement this! (5 points)\n",
    "class LdaRetrievalModel(VectorSpaceRetrievalModel):\n",
    "    def __init__(self, doc_repr):\n",
    "        super().__init__(doc_repr)\n",
    "        \n",
    "        # use these parameters in the train_model method\n",
    "        self.num_topics = 100\n",
    "        self.chunksize = 2000\n",
    "        self.passes = 20\n",
    "        self.iterations = 400\n",
    "        self.eval_every = 10\n",
    "        # this is need to get full vectors\n",
    "        self.minimum_probability=0.0\n",
    "        self.alpha='auto'\n",
    "        self.eta='auto'\n",
    "    \n",
    "    \n",
    "    def train_model(self):\n",
    "        # YOUR CODE HERE\n",
    "        raise NotImplementedError()"
   ]
  },
  {
   "cell_type": "code",
   "execution_count": null,
   "metadata": {
    "deletable": false,
    "editable": false,
    "nbgrader": {
     "cell_type": "code",
     "checksum": "be70fcb8098d0b6ce64cd2a10e6a05b7",
     "grade": true,
     "grade_id": "cell-86750b715f0345fd",
     "locked": true,
     "points": 0,
     "schema_version": 3,
     "solution": false,
     "task": false
    }
   },
   "outputs": [],
   "source": [
    "##### Function check\n",
    "lda = LdaRetrievalModel(doc_repr_2)\n",
    "lda.train_model()\n",
    "\n",
    "# you can now get an LDA vector for a given query in the following way:\n",
    "lda.vectorize_query(\"report\")\n",
    "##### "
   ]
  },
  {
   "cell_type": "markdown",
   "metadata": {
    "deletable": false,
    "editable": false,
    "nbgrader": {
     "cell_type": "markdown",
     "checksum": "32d83b6ea79ca3ddb789a7f8805a1b25",
     "grade": false,
     "grade_id": "cell-0e24b727d5908c0e",
     "locked": true,
     "points": 5,
     "schema_version": 3,
     "solution": false,
     "task": true
    }
   },
   "source": [
    "\\#### Please do not change this. This cell is used for grading."
   ]
  },
  {
   "cell_type": "markdown",
   "metadata": {
    "deletable": false,
    "editable": false,
    "nbgrader": {
     "cell_type": "markdown",
     "checksum": "114a934f0b9ce696e6cf09d3b8da6a3d",
     "grade": false,
     "grade_id": "cell-b1bffcb970b18aeb",
     "locked": true,
     "schema_version": 3,
     "solution": false,
     "task": false
    }
   },
   "source": [
    "---\n",
    "Now we can use the `DenseRetrievalModel` class to obtain an LDA search function.\n",
    "You can test your LDA model in the following cell: Try finding queries which are lexically different to documents, but semantically similar - does LDA work well for these queries?!"
   ]
  },
  {
   "cell_type": "code",
   "execution_count": null,
   "metadata": {},
   "outputs": [],
   "source": [
    "drm_lda = DenseRetrievalRanker(lda, jenson_shannon_sim)\n",
    "\n",
    "# test your LDA model\n",
    "search_fn = drm_lda.search\n",
    "\n",
    "text = widgets.Text(description=\"Search Bar\", width=200)\n",
    "display(text)\n",
    "\n",
    "\n",
    "text.on_submit(handle_submit_2)"
   ]
  },
  {
   "cell_type": "markdown",
   "metadata": {
    "deletable": false,
    "editable": false,
    "nbgrader": {
     "cell_type": "markdown",
     "checksum": "9d7f15863b655119b45f4d89354e5661",
     "grade": false,
     "grade_id": "cell-190cd0854b2791cc",
     "locked": true,
     "schema_version": 3,
     "solution": false,
     "task": false
    }
   },
   "source": [
    "## Section 8: Word2Vec/Doc2Vec (20 points) <a class=\"anchor\" id=\"2vec\"></a>\n",
    "\n",
    "[Back to Part 2](#part2)\n",
    "\n",
    "We will implement two other methods here, the Word2Vec model and the Doc2Vec model, also using `gensim`. Word2Vec creates representations of words, not documents, so the word level vectors need to be aggregated to obtain a representation for the document. Here, we will simply take the mean of the vectors. \n",
    "\n",
    "\n",
    "A drawback of these models is that they need a lot of training data. Our dataset is tiny, so in addition to using a model trained on the data, we will also use a pre-trained model for Word2Vec (this will be automatically downloaded).     \n",
    "\n",
    "*Note*:\n",
    "1. The code in vectorize_documents / vectorize_query should return gensim-like vectors i.e `[(dim, val), .. (dim, val)]`. \n",
    "2. For Word2Vec: You should also handle the following two cases: (a) A word in the query is not present in the vocabulary of the model and (b) none of the words in the query are present in the model - you can return 0 scores for all documents in this case. For either of these, you can check if a `word` is present in the vocab by using `word in self.model`\n"
   ]
  },
  {
   "cell_type": "code",
   "execution_count": 122,
   "metadata": {
    "deletable": false,
    "nbgrader": {
     "cell_type": "code",
     "checksum": "83ab733608ed14c29c09b36b4e1b6daa",
     "grade": false,
     "grade_id": "cell-2b73759f9baf688f",
     "locked": false,
     "schema_version": 3,
     "solution": true,
     "task": false
    }
   },
   "outputs": [
    {
     "name": "stderr",
     "output_type": "stream",
     "text": [
      "2022-02-24 23:34:51,758 : INFO : adding document #0 to Dictionary(0 unique tokens: [])\n",
      "2022-02-24 23:34:51,868 : INFO : built Dictionary(5937 unique tokens: ['-', 'algebra', 'intern', 'languag', 'preliminari']...) from 3204 documents (total 115969 corpus positions)\n",
      "2022-02-24 23:34:51,868 : INFO : Dictionary lifecycle event {'msg': \"built Dictionary(5937 unique tokens: ['-', 'algebra', 'intern', 'languag', 'preliminari']...) from 3204 documents (total 115969 corpus positions)\", 'datetime': '2022-02-24T23:34:51.868727', 'gensim': '4.1.2', 'python': '3.9.7 (default, Sep 16 2021, 16:59:28) [MSC v.1916 64 bit (AMD64)]', 'platform': 'Windows-10-10.0.19042-SP0', 'event': 'created'}\n",
      "2022-02-24 23:34:51,876 : INFO : discarding 4740 tokens: [('repeat', 8), ('glossari', 7), ('inspect', 8), ('uncol', 2), ('rung', 9), ('secant', 2), ('.', 1603), ('acceler', 6), ('diverg', 3), ('induc', 9)]...\n",
      "2022-02-24 23:34:51,876 : INFO : keeping 1197 tokens which were in no less than 10 and no more than 1602 (=50.0%) documents\n",
      "2022-02-24 23:34:51,876 : INFO : resulting dictionary: Dictionary(1197 unique tokens: ['-', 'algebra', 'intern', 'languag', 'preliminari']...)\n",
      "2022-02-24 23:34:51,940 : INFO : collecting all words and their counts\n",
      "2022-02-24 23:34:51,940 : INFO : PROGRESS: at sentence #0, processed 0 words, keeping 0 word types\n",
      "2022-02-24 23:34:51,964 : INFO : collected 5937 word types from a corpus of 115969 raw words and 3204 sentences\n",
      "2022-02-24 23:34:51,964 : INFO : Creating a fresh vocabulary\n",
      "2022-02-24 23:34:51,972 : INFO : Word2Vec lifecycle event {'msg': 'effective_min_count=5 retains 2069 unique words (34.8492504631969%% of original 5937, drops 3868)', 'datetime': '2022-02-24T23:34:51.972671', 'gensim': '4.1.2', 'python': '3.9.7 (default, Sep 16 2021, 16:59:28) [MSC v.1916 64 bit (AMD64)]', 'platform': 'Windows-10-10.0.19042-SP0', 'event': 'prepare_vocab'}\n",
      "2022-02-24 23:34:51,972 : INFO : Word2Vec lifecycle event {'msg': 'effective_min_count=5 leaves 109261 word corpus (94.21569557381714%% of original 115969, drops 6708)', 'datetime': '2022-02-24T23:34:51.972671', 'gensim': '4.1.2', 'python': '3.9.7 (default, Sep 16 2021, 16:59:28) [MSC v.1916 64 bit (AMD64)]', 'platform': 'Windows-10-10.0.19042-SP0', 'event': 'prepare_vocab'}\n",
      "2022-02-24 23:34:51,988 : INFO : deleting the raw counts dictionary of 5937 items\n",
      "2022-02-24 23:34:51,988 : INFO : sample=0.001 downsamples 44 most-common words\n",
      "2022-02-24 23:34:51,988 : INFO : Word2Vec lifecycle event {'msg': 'downsampling leaves estimated 84994.13994831842 word corpus (77.8%% of prior 109261)', 'datetime': '2022-02-24T23:34:51.988674', 'gensim': '4.1.2', 'python': '3.9.7 (default, Sep 16 2021, 16:59:28) [MSC v.1916 64 bit (AMD64)]', 'platform': 'Windows-10-10.0.19042-SP0', 'event': 'prepare_vocab'}\n",
      "2022-02-24 23:34:52,012 : INFO : estimated required memory for 2069 words and 100 dimensions: 2689700 bytes\n",
      "2022-02-24 23:34:52,012 : INFO : resetting layer weights\n",
      "2022-02-24 23:34:52,012 : INFO : Word2Vec lifecycle event {'update': False, 'trim_rule': 'None', 'datetime': '2022-02-24T23:34:52.012682', 'gensim': '4.1.2', 'python': '3.9.7 (default, Sep 16 2021, 16:59:28) [MSC v.1916 64 bit (AMD64)]', 'platform': 'Windows-10-10.0.19042-SP0', 'event': 'build_vocab'}\n",
      "2022-02-24 23:34:52,012 : INFO : Word2Vec lifecycle event {'msg': 'training model with 3 workers on 2069 vocabulary and 100 features, using sg=0 hs=0 sample=0.001 negative=5 window=5 shrink_windows=True', 'datetime': '2022-02-24T23:34:52.012682', 'gensim': '4.1.2', 'python': '3.9.7 (default, Sep 16 2021, 16:59:28) [MSC v.1916 64 bit (AMD64)]', 'platform': 'Windows-10-10.0.19042-SP0', 'event': 'train'}\n",
      "2022-02-24 23:34:52,073 : INFO : worker thread finished; awaiting finish of 2 more threads\n",
      "2022-02-24 23:34:52,073 : INFO : worker thread finished; awaiting finish of 1 more threads\n",
      "2022-02-24 23:34:52,081 : INFO : worker thread finished; awaiting finish of 0 more threads\n",
      "2022-02-24 23:34:52,081 : INFO : EPOCH - 1 : training on 115969 raw words (84934 effective words) took 0.1s, 1373994 effective words/s\n",
      "2022-02-24 23:34:52,137 : INFO : worker thread finished; awaiting finish of 2 more threads\n",
      "2022-02-24 23:34:52,137 : INFO : worker thread finished; awaiting finish of 1 more threads\n",
      "2022-02-24 23:34:52,145 : INFO : worker thread finished; awaiting finish of 0 more threads\n",
      "2022-02-24 23:34:52,145 : INFO : EPOCH - 2 : training on 115969 raw words (85083 effective words) took 0.1s, 1441371 effective words/s\n",
      "2022-02-24 23:34:52,201 : INFO : worker thread finished; awaiting finish of 2 more threads\n",
      "2022-02-24 23:34:52,201 : INFO : worker thread finished; awaiting finish of 1 more threads\n",
      "2022-02-24 23:34:52,201 : INFO : worker thread finished; awaiting finish of 0 more threads\n",
      "2022-02-24 23:34:52,201 : INFO : EPOCH - 3 : training on 115969 raw words (85132 effective words) took 0.1s, 1616552 effective words/s\n",
      "2022-02-24 23:34:52,257 : INFO : worker thread finished; awaiting finish of 2 more threads\n",
      "2022-02-24 23:34:52,257 : INFO : worker thread finished; awaiting finish of 1 more threads\n",
      "2022-02-24 23:34:52,257 : INFO : worker thread finished; awaiting finish of 0 more threads\n",
      "2022-02-24 23:34:52,265 : INFO : EPOCH - 4 : training on 115969 raw words (85005 effective words) took 0.1s, 1534433 effective words/s\n",
      "2022-02-24 23:34:52,318 : INFO : worker thread finished; awaiting finish of 2 more threads\n",
      "2022-02-24 23:34:52,322 : INFO : worker thread finished; awaiting finish of 1 more threads\n",
      "2022-02-24 23:34:52,324 : INFO : worker thread finished; awaiting finish of 0 more threads\n",
      "2022-02-24 23:34:52,324 : INFO : EPOCH - 5 : training on 115969 raw words (84933 effective words) took 0.1s, 1540888 effective words/s\n",
      "2022-02-24 23:34:52,325 : INFO : Word2Vec lifecycle event {'msg': 'training on 579845 raw words (425087 effective words) took 0.3s, 1382933 effective words/s', 'datetime': '2022-02-24T23:34:52.325491', 'gensim': '4.1.2', 'python': '3.9.7 (default, Sep 16 2021, 16:59:28) [MSC v.1916 64 bit (AMD64)]', 'platform': 'Windows-10-10.0.19042-SP0', 'event': 'train'}\n",
      "2022-02-24 23:34:52,326 : INFO : Word2Vec lifecycle event {'params': 'Word2Vec(vocab=2069, vector_size=100, alpha=0.025)', 'datetime': '2022-02-24T23:34:52.326019', 'gensim': '4.1.2', 'python': '3.9.7 (default, Sep 16 2021, 16:59:28) [MSC v.1916 64 bit (AMD64)]', 'platform': 'Windows-10-10.0.19042-SP0', 'event': 'created'}\n"
     ]
    },
    {
     "data": {
      "text/plain": [
       "[(1, 0.11395513),\n",
       " (2, 0.39738598),\n",
       " (3, 0.20529655),\n",
       " (4, -0.16155307),\n",
       " (5, 0.04736504),\n",
       " (6, -0.5123265),\n",
       " (7, 0.20847611),\n",
       " (8, 0.76765716),\n",
       " (9, -0.27235645),\n",
       " (10, -0.2670314),\n",
       " (11, -0.046529353),\n",
       " (12, -0.75808495),\n",
       " (13, 0.3137651),\n",
       " (14, -0.057403944),\n",
       " (15, 0.019755676),\n",
       " (16, -0.11884372),\n",
       " (17, 0.08825442),\n",
       " (18, -0.13203251),\n",
       " (19, 0.05221149),\n",
       " (20, -0.7086658),\n",
       " (21, 0.05424906),\n",
       " (22, 0.292877),\n",
       " (23, 0.10149432),\n",
       " (24, -0.031773407),\n",
       " (25, -0.09654813),\n",
       " (26, 0.1403811),\n",
       " (27, -0.16696799),\n",
       " (28, -0.16391571),\n",
       " (29, -0.26808977),\n",
       " (30, -0.06551937),\n",
       " (31, 0.38465512),\n",
       " (32, -0.09746298),\n",
       " (33, 0.4182319),\n",
       " (34, -0.3871804),\n",
       " (35, -0.19834174),\n",
       " (36, 0.15683573),\n",
       " (37, -0.027720882),\n",
       " (38, -0.46578056),\n",
       " (39, -0.27170727),\n",
       " (40, -0.63745075),\n",
       " (41, 0.16100706),\n",
       " (42, -0.3360983),\n",
       " (43, -0.28373888),\n",
       " (44, -0.050139807),\n",
       " (45, 0.38947546),\n",
       " (46, -0.12063869),\n",
       " (47, -0.3509882),\n",
       " (48, 0.13697433),\n",
       " (49, 0.028904427),\n",
       " (50, 0.19407132),\n",
       " (51, 0.18942378),\n",
       " (52, -0.3761664),\n",
       " (53, -0.2661815),\n",
       " (54, 0.20252058),\n",
       " (55, -0.28875363),\n",
       " (56, 0.10892202),\n",
       " (57, 0.155358),\n",
       " (58, -0.24857806),\n",
       " (59, -0.37386453),\n",
       " (60, 0.16925357),\n",
       " (61, -0.12403674),\n",
       " (62, 0.09569651),\n",
       " (63, 0.0689241),\n",
       " (64, -0.086612426),\n",
       " (65, -0.57264626),\n",
       " (66, 0.3512048),\n",
       " (67, -0.056503203),\n",
       " (68, 0.22284368),\n",
       " (69, -0.45918947),\n",
       " (70, 0.041608684),\n",
       " (71, -0.24413899),\n",
       " (72, 0.17054418),\n",
       " (73, 0.599212),\n",
       " (74, -0.033133104),\n",
       " (75, 0.1895109),\n",
       " (76, 0.33371106),\n",
       " (77, 0.26539844),\n",
       " (78, -0.0146746235),\n",
       " (79, -0.51089114),\n",
       " (80, 0.32368395),\n",
       " (81, -0.30259815),\n",
       " (82, 0.07370646),\n",
       " (83, -0.26421386),\n",
       " (84, 0.3138145),\n",
       " (85, 0.16114645),\n",
       " (86, 0.26067886),\n",
       " (87, -0.056935478),\n",
       " (88, 0.22130924),\n",
       " (89, 0.504819),\n",
       " (90, 0.35998505),\n",
       " (91, 0.22616681),\n",
       " (92, 0.43673688),\n",
       " (93, -0.17418204),\n",
       " (94, 0.25897604),\n",
       " (95, 0.7089977),\n",
       " (96, 0.71331215),\n",
       " (97, 0.023090234),\n",
       " (98, -0.49291685),\n",
       " (99, 0.15040678),\n",
       " (100, -0.034247186)]"
      ]
     },
     "execution_count": 122,
     "metadata": {},
     "output_type": "execute_result"
    }
   ],
   "source": [
    "# TODO: Implement this! (10 points)\n",
    "class W2VRetrievalModel(VectorSpaceRetrievalModel):\n",
    "    def __init__(self, doc_repr):\n",
    "        super().__init__(doc_repr)\n",
    "        \n",
    "        # the dimensionality of the vectors\n",
    "        self.size = 100 \n",
    "        self.min_count = 1\n",
    "    \n",
    "    def train_model(self):\n",
    "        \"\"\"\n",
    "        Trains the W2V model\n",
    "        \"\"\"\n",
    "        # YOUR CODE HERE\n",
    "        sentences= []\n",
    "        for doc_id, tokens in self.doc_repr:\n",
    "            sentences.append(tokens)\n",
    "        self.model = Word2Vec(sentences = sentences)\n",
    "        \n",
    "        \n",
    "    def vectorize_documents(self):\n",
    "        \"\"\"\n",
    "            Returns a doc_id -> vector dictionary\n",
    "        \"\"\"\n",
    "        # YOUR CODE HERE\n",
    "        vectordict = {}\n",
    "        for doc_id,tokens in self.doc_repr:\n",
    "            vector = None\n",
    "            for token in tokens:\n",
    "                if token in self.model.wv:  \n",
    "                    if vector is None:\n",
    "                        vector = self.model.wv[token]\n",
    "                    else:\n",
    "                        vector += self.model.wv[token]\n",
    "                    vector = vector/len(tokens)\n",
    "                else:\n",
    "                    pass\n",
    "                \n",
    "            if vector is None:\n",
    "                vector = [0]*self.model.vector_size\n",
    "            vector =  [(i+1, vector[i]) for i in range(len(vector))]\n",
    "            \n",
    "            vectordict[doc_id] = vector\n",
    "        return vectordict\n",
    "\n",
    "    def vectorize_query(self, query):\n",
    "        \"\"\"\n",
    "        Vectorizes the query using the W2V model\n",
    "        \"\"\"\n",
    "        query = process_text(query, **config_2)\n",
    "        # YOUR CODE HERE\n",
    "        vector = None\n",
    "        \n",
    "        for token in query:\n",
    "            if token in self.model.wv:\n",
    "                if vector is None:\n",
    "                    vector = self.model.wv[token]\n",
    "                else:\n",
    "                    vector =+ self.model.wv[token]\n",
    "                vector = vector/len(query)\n",
    "            else:\n",
    "                pass\n",
    "        if vector is None:\n",
    "            vector = [0]*self.model.vector_size\n",
    "        vector =  [(i+1, vector[i]) for i in range(len(vector))]\n",
    "        return vector\n",
    "    \n",
    "    \n",
    "class W2VPretrainedRetrievalModel(W2VRetrievalModel):\n",
    "    def __init__(self, doc_repr):\n",
    "        super().__init__(doc_repr)\n",
    "        self.model_name = \"word2vec-google-news-300\"\n",
    "        self.size = 300\n",
    "    \n",
    "    def train_model(self):\n",
    "        \"\"\"\n",
    "        Loads the pretrained model\n",
    "        \"\"\"\n",
    "        self.model = g_downloader.load(self.model_name)\n",
    "        \n",
    "    def vectorize_documents(self):\n",
    "        \"\"\"\n",
    "            Returns a doc_id -> vector dictionary\n",
    "        \"\"\"\n",
    "        # YOUR CODE HERE\n",
    "        vectordict = {}\n",
    "        for doc_id,tokens in self.doc_repr:\n",
    "            vector = None\n",
    "            for token in tokens:\n",
    "                if token in self.model:  \n",
    "                    if vector is None:\n",
    "                        vector = self.model.word_vec(token)\n",
    "                    else:\n",
    "                        vector += self.model.word_vec(token)\n",
    "                    vector = vector/len(tokens)\n",
    "                else:\n",
    "                    pass\n",
    "                \n",
    "            if vector is None:\n",
    "                vector = [0]*self.model.vector_size\n",
    "            \n",
    "            vector =  [(i+1, vector[i]) for i in range(len(vector))]\n",
    "            \n",
    "            vectordict[doc_id] = vector\n",
    "        return vectordict\n",
    "\n",
    "    def vectorize_query(self, query):\n",
    "        \"\"\"\n",
    "        Vectorizes the query using the W2V model\n",
    "        \"\"\"\n",
    "        query = process_text(query, **config_2)\n",
    "        # YOUR CODE HERE\n",
    "        vector = None\n",
    "        \n",
    "        for token in query:\n",
    "            if token in self.model:\n",
    "                if vector is None:\n",
    "                    vector = self.model.word_vec(token)\n",
    "                else:\n",
    "                    vector =+ self.model.word_vec(token)\n",
    "                vector = vector/len(query)\n",
    "            else:\n",
    "                pass\n",
    "        if vector is None:\n",
    "            vector = [0]*self.model.vector_size\n",
    "        \n",
    "        vector =  [(i+1, vector[i]) for i in range(len(vector))]\n",
    "        return vector\n",
    "\n",
    "w2v = W2VRetrievalModel(doc_repr_2)\n",
    "w2v.train_model()\n",
    "\n",
    "# you can now get a W2V vector for a given query in the following way:\n",
    "w2v.vectorize_query(\"report\")"
   ]
  },
  {
   "cell_type": "code",
   "execution_count": 123,
   "metadata": {
    "deletable": false,
    "editable": false,
    "nbgrader": {
     "cell_type": "code",
     "checksum": "f92b5c5a8c6c4b80652b94223209ab0b",
     "grade": true,
     "grade_id": "cell-b31c0f8d214b8bdf",
     "locked": true,
     "points": 0,
     "schema_version": 3,
     "solution": false,
     "task": false
    }
   },
   "outputs": [],
   "source": [
    "assert len(w2v.vectorize_query(\"report\")) == 100\n",
    "assert len(w2v.vectorize_query(\"this is a sentence that is not mellifluous\")) == 100\n"
   ]
  },
  {
   "cell_type": "markdown",
   "metadata": {
    "deletable": false,
    "editable": false,
    "nbgrader": {
     "cell_type": "markdown",
     "checksum": "8dfaabebcb06f308a7ca61fdc5d369e7",
     "grade": false,
     "grade_id": "cell-c2614fa067386384",
     "locked": true,
     "points": 8,
     "schema_version": 3,
     "solution": false,
     "task": true
    }
   },
   "source": [
    "\\#### Please do not change this. This cell is used for grading."
   ]
  },
  {
   "cell_type": "code",
   "execution_count": 124,
   "metadata": {},
   "outputs": [
    {
     "name": "stderr",
     "output_type": "stream",
     "text": [
      "2022-02-24 23:34:56,710 : INFO : adding document #0 to Dictionary(0 unique tokens: [])\n",
      "2022-02-24 23:34:56,812 : INFO : built Dictionary(5937 unique tokens: ['-', 'algebra', 'intern', 'languag', 'preliminari']...) from 3204 documents (total 115969 corpus positions)\n",
      "2022-02-24 23:34:56,812 : INFO : Dictionary lifecycle event {'msg': \"built Dictionary(5937 unique tokens: ['-', 'algebra', 'intern', 'languag', 'preliminari']...) from 3204 documents (total 115969 corpus positions)\", 'datetime': '2022-02-24T23:34:56.812371', 'gensim': '4.1.2', 'python': '3.9.7 (default, Sep 16 2021, 16:59:28) [MSC v.1916 64 bit (AMD64)]', 'platform': 'Windows-10-10.0.19042-SP0', 'event': 'created'}\n",
      "2022-02-24 23:34:56,820 : INFO : discarding 4740 tokens: [('repeat', 8), ('glossari', 7), ('inspect', 8), ('uncol', 2), ('rung', 9), ('secant', 2), ('.', 1603), ('acceler', 6), ('diverg', 3), ('induc', 9)]...\n",
      "2022-02-24 23:34:56,820 : INFO : keeping 1197 tokens which were in no less than 10 and no more than 1602 (=50.0%) documents\n",
      "2022-02-24 23:34:56,828 : INFO : resulting dictionary: Dictionary(1197 unique tokens: ['-', 'algebra', 'intern', 'languag', 'preliminari']...)\n",
      "2022-02-24 23:34:56,971 : INFO : loading projection weights from C:\\Users\\lcu1812/gensim-data\\word2vec-google-news-300\\word2vec-google-news-300.gz\n",
      "2022-02-24 23:35:45,676 : INFO : KeyedVectors lifecycle event {'msg': 'loaded (3000000, 300) matrix of type float32 from C:\\\\Users\\\\lcu1812/gensim-data\\\\word2vec-google-news-300\\\\word2vec-google-news-300.gz', 'binary': True, 'encoding': 'utf8', 'datetime': '2022-02-24T23:35:45.676095', 'gensim': '4.1.2', 'python': '3.9.7 (default, Sep 16 2021, 16:59:28) [MSC v.1916 64 bit (AMD64)]', 'platform': 'Windows-10-10.0.19042-SP0', 'event': 'load_word2vec_format'}\n",
      "C:\\TEMP/ipykernel_7988/3106528121.py:118: DeprecationWarning: Call to deprecated `word_vec` (Use get_vector instead).\n",
      "  vector = self.model.word_vec(token)\n"
     ]
    },
    {
     "data": {
      "text/plain": [
       "[(1, -0.14257812),\n",
       " (2, -0.1640625),\n",
       " (3, -0.09033203),\n",
       " (4, -0.11230469),\n",
       " (5, 0.100097656),\n",
       " (6, -0.041259766),\n",
       " (7, 0.048828125),\n",
       " (8, -0.13671875),\n",
       " (9, 0.19628906),\n",
       " (10, -0.13476562),\n",
       " (11, -0.017578125),\n",
       " (12, 0.032226562),\n",
       " (13, 0.095214844),\n",
       " (14, -0.10595703),\n",
       " (15, -0.16992188),\n",
       " (16, 0.041015625),\n",
       " (17, -0.26367188),\n",
       " (18, -0.0063171387),\n",
       " (19, -0.17773438),\n",
       " (20, -0.24023438),\n",
       " (21, 0.3515625),\n",
       " (22, -0.012207031),\n",
       " (23, -0.16210938),\n",
       " (24, -0.12060547),\n",
       " (25, 0.04321289),\n",
       " (26, 0.10986328),\n",
       " (27, 0.052490234),\n",
       " (28, 0.17871094),\n",
       " (29, -0.14550781),\n",
       " (30, 0.13769531),\n",
       " (31, -0.08203125),\n",
       " (32, -0.28320312),\n",
       " (33, -0.10888672),\n",
       " (34, -0.2890625),\n",
       " (35, 0.072265625),\n",
       " (36, -0.04736328),\n",
       " (37, 0.040283203),\n",
       " (38, 0.067871094),\n",
       " (39, 0.11669922),\n",
       " (40, 0.000831604),\n",
       " (41, 0.068359375),\n",
       " (42, 0.12011719),\n",
       " (43, -0.088378906),\n",
       " (44, 0.33789062),\n",
       " (45, -0.044677734),\n",
       " (46, -0.030151367),\n",
       " (47, 0.0076904297),\n",
       " (48, -0.021118164),\n",
       " (49, -0.25390625),\n",
       " (50, 0.14941406),\n",
       " (51, 0.3984375),\n",
       " (52, 0.021606445),\n",
       " (53, -0.02319336),\n",
       " (54, 0.0063476562),\n",
       " (55, 0.008239746),\n",
       " (56, -0.16894531),\n",
       " (57, 0.037353516),\n",
       " (58, -0.06347656),\n",
       " (59, 0.1171875),\n",
       " (60, -0.1484375),\n",
       " (61, -0.07861328),\n",
       " (62, 0.36914062),\n",
       " (63, -0.22460938),\n",
       " (64, 0.17382812),\n",
       " (65, 0.0138549805),\n",
       " (66, 0.1875),\n",
       " (67, -0.10107422),\n",
       " (68, 0.037841797),\n",
       " (69, 0.0021209717),\n",
       " (70, -0.05126953),\n",
       " (71, 0.096191406),\n",
       " (72, -0.057128906),\n",
       " (73, 0.10595703),\n",
       " (74, -0.020996094),\n",
       " (75, 0.16113281),\n",
       " (76, 0.09765625),\n",
       " (77, 0.038330078),\n",
       " (78, 0.21972656),\n",
       " (79, 0.10644531),\n",
       " (80, 0.0859375),\n",
       " (81, 0.1796875),\n",
       " (82, -0.08300781),\n",
       " (83, -0.033203125),\n",
       " (84, 0.041015625),\n",
       " (85, -0.064941406),\n",
       " (86, 0.019897461),\n",
       " (87, 0.13378906),\n",
       " (88, -0.09765625),\n",
       " (89, -0.19335938),\n",
       " (90, -0.23535156),\n",
       " (91, 0.19042969),\n",
       " (92, 0.0024871826),\n",
       " (93, -0.01574707),\n",
       " (94, 0.032226562),\n",
       " (95, -0.21972656),\n",
       " (96, -0.091308594),\n",
       " (97, 0.021240234),\n",
       " (98, 0.15820312),\n",
       " (99, 0.29882812),\n",
       " (100, -0.328125),\n",
       " (101, 0.057373047),\n",
       " (102, -0.04638672),\n",
       " (103, 0.11328125),\n",
       " (104, -0.1015625),\n",
       " (105, 0.18066406),\n",
       " (106, -0.025146484),\n",
       " (107, -0.16601562),\n",
       " (108, -0.096191406),\n",
       " (109, 0.018798828),\n",
       " (110, -0.19433594),\n",
       " (111, 0.14941406),\n",
       " (112, -0.056640625),\n",
       " (113, -0.106933594),\n",
       " (114, -0.15039062),\n",
       " (115, -0.17578125),\n",
       " (116, 0.11279297),\n",
       " (117, 0.049316406),\n",
       " (118, 0.21972656),\n",
       " (119, 0.31835938),\n",
       " (120, 0.15722656),\n",
       " (121, -0.29296875),\n",
       " (122, 0.10498047),\n",
       " (123, -0.296875),\n",
       " (124, -0.013427734),\n",
       " (125, 0.09082031),\n",
       " (126, 0.012573242),\n",
       " (127, -0.051513672),\n",
       " (128, -0.12890625),\n",
       " (129, 0.014465332),\n",
       " (130, 0.12060547),\n",
       " (131, -0.10107422),\n",
       " (132, -0.111328125),\n",
       " (133, 0.063964844),\n",
       " (134, -0.052978516),\n",
       " (135, -0.04321289),\n",
       " (136, -0.012939453),\n",
       " (137, -0.02758789),\n",
       " (138, -0.09716797),\n",
       " (139, -0.20214844),\n",
       " (140, 0.123046875),\n",
       " (141, -0.04248047),\n",
       " (142, 0.17382812),\n",
       " (143, -0.013671875),\n",
       " (144, 0.1015625),\n",
       " (145, -0.0009384155),\n",
       " (146, -0.03564453),\n",
       " (147, 0.30078125),\n",
       " (148, -0.068359375),\n",
       " (149, -0.056152344),\n",
       " (150, 0.037597656),\n",
       " (151, 0.06591797),\n",
       " (152, 0.040283203),\n",
       " (153, 0.0119018555),\n",
       " (154, 0.096191406),\n",
       " (155, 0.3671875),\n",
       " (156, -0.27929688),\n",
       " (157, -0.052001953),\n",
       " (158, -0.106933594),\n",
       " (159, -0.13476562),\n",
       " (160, -0.046142578),\n",
       " (161, 0.25),\n",
       " (162, 0.0056762695),\n",
       " (163, -0.014404297),\n",
       " (164, -0.03100586),\n",
       " (165, -0.060302734),\n",
       " (166, 0.10595703),\n",
       " (167, 0.37890625),\n",
       " (168, 0.05883789),\n",
       " (169, 0.123046875),\n",
       " (170, -0.115234375),\n",
       " (171, 0.14941406),\n",
       " (172, -0.1640625),\n",
       " (173, -0.23339844),\n",
       " (174, -0.07763672),\n",
       " (175, 0.026733398),\n",
       " (176, -0.021118164),\n",
       " (177, 0.19433594),\n",
       " (178, -0.056152344),\n",
       " (179, -0.006439209),\n",
       " (180, -0.16992188),\n",
       " (181, -0.118652344),\n",
       " (182, -0.06738281),\n",
       " (183, -0.068847656),\n",
       " (184, -0.08691406),\n",
       " (185, -0.1015625),\n",
       " (186, 0.014160156),\n",
       " (187, -0.20117188),\n",
       " (188, 0.09814453),\n",
       " (189, -0.010253906),\n",
       " (190, 0.1875),\n",
       " (191, 0.19628906),\n",
       " (192, -0.22070312),\n",
       " (193, -0.19628906),\n",
       " (194, -0.07373047),\n",
       " (195, 0.06640625),\n",
       " (196, -0.13378906),\n",
       " (197, 0.18359375),\n",
       " (198, -0.20019531),\n",
       " (199, 0.19824219),\n",
       " (200, 0.05029297),\n",
       " (201, 0.029907227),\n",
       " (202, 0.017700195),\n",
       " (203, -0.19335938),\n",
       " (204, -0.096191406),\n",
       " (205, -0.10253906),\n",
       " (206, 0.21289062),\n",
       " (207, -0.029907227),\n",
       " (208, 0.14355469),\n",
       " (209, 0.041015625),\n",
       " (210, -0.21191406),\n",
       " (211, 0.20800781),\n",
       " (212, 0.13769531),\n",
       " (213, -0.01965332),\n",
       " (214, 0.014953613),\n",
       " (215, -0.09765625),\n",
       " (216, 0.24316406),\n",
       " (217, 0.080078125),\n",
       " (218, 0.08251953),\n",
       " (219, 0.09863281),\n",
       " (220, 0.056884766),\n",
       " (221, 0.04248047),\n",
       " (222, 0.068847656),\n",
       " (223, -0.03540039),\n",
       " (224, -0.076171875),\n",
       " (225, -0.00016117096),\n",
       " (226, -0.07519531),\n",
       " (227, 0.22460938),\n",
       " (228, 0.15136719),\n",
       " (229, 0.10058594),\n",
       " (230, 0.10986328),\n",
       " (231, 0.023803711),\n",
       " (232, 0.088378906),\n",
       " (233, 0.061767578),\n",
       " (234, -0.107910156),\n",
       " (235, 0.06225586),\n",
       " (236, 0.0034332275),\n",
       " (237, 0.080566406),\n",
       " (238, 0.106933594),\n",
       " (239, 0.08886719),\n",
       " (240, -0.23730469),\n",
       " (241, 0.064941406),\n",
       " (242, 0.010192871),\n",
       " (243, -0.088378906),\n",
       " (244, -0.33203125),\n",
       " (245, 0.0046691895),\n",
       " (246, 0.21289062),\n",
       " (247, 0.0859375),\n",
       " (248, 0.020385742),\n",
       " (249, 0.045654297),\n",
       " (250, 0.1484375),\n",
       " (251, 0.11816406),\n",
       " (252, 0.055664062),\n",
       " (253, -0.17285156),\n",
       " (254, -0.125),\n",
       " (255, -0.025390625),\n",
       " (256, -0.31835938),\n",
       " (257, 0.03112793),\n",
       " (258, 0.0859375),\n",
       " (259, -0.041992188),\n",
       " (260, 0.15625),\n",
       " (261, 0.16113281),\n",
       " (262, 0.19824219),\n",
       " (263, -0.100097656),\n",
       " (264, 0.203125),\n",
       " (265, 0.12890625),\n",
       " (266, 0.23339844),\n",
       " (267, -0.26757812),\n",
       " (268, 0.05517578),\n",
       " (269, 0.048828125),\n",
       " (270, 0.072265625),\n",
       " (271, 0.24414062),\n",
       " (272, 0.24414062),\n",
       " (273, 0.056884766),\n",
       " (274, -0.0546875),\n",
       " (275, -0.033691406),\n",
       " (276, -0.12060547),\n",
       " (277, 0.03491211),\n",
       " (278, -0.14550781),\n",
       " (279, 0.087402344),\n",
       " (280, -0.08300781),\n",
       " (281, 0.017211914),\n",
       " (282, 0.14355469),\n",
       " (283, -0.122558594),\n",
       " (284, 0.1796875),\n",
       " (285, 0.13085938),\n",
       " (286, -0.16503906),\n",
       " (287, 0.012756348),\n",
       " (288, 0.16015625),\n",
       " (289, -0.03112793),\n",
       " (290, 0.08203125),\n",
       " (291, 0.17382812),\n",
       " (292, -0.16796875),\n",
       " (293, 0.13085938),\n",
       " (294, 0.08544922),\n",
       " (295, -0.2109375),\n",
       " (296, -0.13085938),\n",
       " (297, -0.028930664),\n",
       " (298, -0.10546875),\n",
       " (299, 0.084472656),\n",
       " (300, -0.14160156)]"
      ]
     },
     "execution_count": 124,
     "metadata": {},
     "output_type": "execute_result"
    }
   ],
   "source": [
    "w2v_pretrained = W2VPretrainedRetrievalModel(doc_repr_2)\n",
    "w2v_pretrained.train_model()\n",
    "\n",
    "# you can now get an W2V vector for a given query in the following way:\n",
    "w2v_pretrained.vectorize_query(\"report\")"
   ]
  },
  {
   "cell_type": "code",
   "execution_count": 128,
   "metadata": {
    "deletable": false,
    "editable": false,
    "nbgrader": {
     "cell_type": "code",
     "checksum": "0822845afb5eafe5ddb1ffeaa4f4942a",
     "grade": true,
     "grade_id": "cell-1b1466f8ce516f42",
     "locked": true,
     "points": 2,
     "schema_version": 3,
     "solution": false,
     "task": false
    }
   },
   "outputs": [
    {
     "name": "stdout",
     "output_type": "stream",
     "text": [
      "300\n"
     ]
    },
    {
     "name": "stderr",
     "output_type": "stream",
     "text": [
      "C:\\TEMP/ipykernel_7988/3106528121.py:118: DeprecationWarning: Call to deprecated `word_vec` (Use get_vector instead).\n",
      "  vector = self.model.word_vec(token)\n"
     ]
    }
   ],
   "source": [
    "##### Function check\n",
    "\n",
    "print(len(w2v_pretrained.vectorize_query(\"report\")))\n",
    "#####"
   ]
  },
  {
   "cell_type": "code",
   "execution_count": 140,
   "metadata": {},
   "outputs": [
    {
     "data": {
      "application/vnd.jupyter.widget-view+json": {
       "model_id": "c172cc94c3834a3f941ac7138bdc6fb2",
       "version_major": 2,
       "version_minor": 0
      },
      "text/plain": [
       "Text(value='', description='Search Bar')"
      ]
     },
     "metadata": {},
     "output_type": "display_data"
    },
    {
     "name": "stdout",
     "output_type": "stream",
     "text": [
      "Searching for: 'hi' (SEARCH FN: <bound method DenseRetrievalRanker.search of <__main__.DenseRetrievalRanker object at 0x000002B7BC1C9340>>)\n"
     ]
    },
    {
     "data": {
      "text/html": [
       "<ul><li>Document #1(0): Preliminary Report-International Algebraic Language\n",
       "</li><li>Document #2(0): Extraction of Roots by Repeated Subtractions for Digital Computers\n",
       "</li><li>Document #3(0): Techniques Department on Matrix Program Schemes\n",
       "</li><li>Document #4(0): Glossary of Computer Engineering and Programming Terminology\n",
       "</li><li>Document #5(0): Two Square-Root Approximations\n",
       "</li></ul>"
      ],
      "text/plain": [
       "<IPython.core.display.HTML object>"
      ]
     },
     "metadata": {},
     "output_type": "display_data"
    },
    {
     "name": "stdout",
     "output_type": "stream",
     "text": [
      "Searching for: 'preliminary report' (SEARCH FN: <bound method DenseRetrievalRanker.search of <__main__.DenseRetrievalRanker object at 0x000002B7BC1C9340>>)\n"
     ]
    },
    {
     "data": {
      "text/html": [
       "<ul><li>Document #2583(0.9997607278848314): ...ation Systems: A <strong>Report</strong> from Stanley Hou...</li><li>Document #947(0.9996915893014062): ... to the ALGOL 60 <strong>Report</strong> ...</li><li>Document #382(0.9992949076955451): Statistical Programs at the University of North Carolina\n",
       "</li><li>Document #41(0.9992455830834307): Some Notes on Computer Research in Eastern Europe\n",
       "</li><li>Document #725(0.9990822958227629): Group Participation Computer Demonstration\n",
       "</li></ul>"
      ],
      "text/plain": [
       "<IPython.core.display.HTML object>"
      ]
     },
     "metadata": {},
     "output_type": "display_data"
    },
    {
     "name": "stdout",
     "output_type": "stream",
     "text": [
      "Searching for: 'preliminary report for love' (SEARCH FN: <bound method DenseRetrievalRanker.search of <__main__.DenseRetrievalRanker object at 0x000002B7BC1C9340>>)\n"
     ]
    },
    {
     "data": {
      "text/html": [
       "<ul><li>Document #2583(0.9997607288590289): ...Guidelines <strong>for</strong> Humanizing Compu......ation Systems: A <strong>Report</strong> from Stanley Hou...</li><li>Document #947(0.999691582269423): ... to the ALGOL 60 <strong>Report</strong> ...</li><li>Document #382(0.9992949062201149): Statistical Programs at the University of North Carolina\n",
       "</li><li>Document #41(0.9992455687674171): Some Notes on Computer Research in Eastern Europe\n",
       "</li><li>Document #725(0.999082290573257): Group Participation Computer Demonstration\n",
       "</li></ul>"
      ],
      "text/plain": [
       "<IPython.core.display.HTML object>"
      ]
     },
     "metadata": {},
     "output_type": "display_data"
    },
    {
     "name": "stdout",
     "output_type": "stream",
     "text": [
      "Searching for: 'how to get rich fast' (SEARCH FN: <bound method DenseRetrievalRanker.search of <__main__.DenseRetrievalRanker object at 0x000002B7BC1C9340>>)\n"
     ]
    },
    {
     "data": {
      "text/html": [
       "<ul><li>Document #395(0.9993390910461979): Multiple-Precision Division \n",
       "</li><li>Document #447(0.9992194786830535): Certification of the Calculation of Easter\n",
       "</li><li>Document #880(0.9991484055091011): Newton Interpolation with Backward Divided Differences\n",
       "</li><li>Document #33(0.9990941149416488): A Programmed Binary Counter For The IBM Type 650 Calculator\n",
       "</li><li>Document #3159(0.9990673249021523): Further Remark on Stably Updating Mean and Standard Deviation Estimates\n",
       "</li></ul>"
      ],
      "text/plain": [
       "<IPython.core.display.HTML object>"
      ]
     },
     "metadata": {},
     "output_type": "display_data"
    }
   ],
   "source": [
    "drm_w2v = DenseRetrievalRanker(w2v, cosine_sim)\n",
    "\n",
    "# test your LDA model\n",
    "search_fn = drm_w2v.search\n",
    "\n",
    "text = widgets.Text(description=\"Search Bar\", width=200)\n",
    "display(text)\n",
    "\n",
    "\n",
    "text.on_submit(handle_submit_2)"
   ]
  },
  {
   "cell_type": "code",
   "execution_count": 127,
   "metadata": {},
   "outputs": [
    {
     "name": "stderr",
     "output_type": "stream",
     "text": [
      "C:\\TEMP/ipykernel_7988/3106528121.py:92: DeprecationWarning: Call to deprecated `word_vec` (Use get_vector instead).\n",
      "  vector = self.model.word_vec(token)\n",
      "C:\\TEMP/ipykernel_7988/3106528121.py:94: DeprecationWarning: Call to deprecated `word_vec` (Use get_vector instead).\n",
      "  vector += self.model.word_vec(token)\n"
     ]
    },
    {
     "data": {
      "application/vnd.jupyter.widget-view+json": {
       "model_id": "eee43ecb70264446b4b5f70649866d86",
       "version_major": 2,
       "version_minor": 0
      },
      "text/plain": [
       "Text(value='', description='Search Bar')"
      ]
     },
     "metadata": {},
     "output_type": "display_data"
    },
    {
     "name": "stdout",
     "output_type": "stream",
     "text": [
      "Searching for: 'hi' (SEARCH FN: <bound method DenseRetrievalRanker.search of <__main__.DenseRetrievalRanker object at 0x000002B7BC1C9340>>)\n"
     ]
    },
    {
     "data": {
      "text/html": [
       "<ul><li>Document #1(0): Preliminary Report-International Algebraic Language\n",
       "</li><li>Document #2(0): Extraction of Roots by Repeated Subtractions for Digital Computers\n",
       "</li><li>Document #3(0): Techniques Department on Matrix Program Schemes\n",
       "</li><li>Document #4(0): Glossary of Computer Engineering and Programming Terminology\n",
       "</li><li>Document #5(0): Two Square-Root Approximations\n",
       "</li></ul>"
      ],
      "text/plain": [
       "<IPython.core.display.HTML object>"
      ]
     },
     "metadata": {},
     "output_type": "display_data"
    },
    {
     "name": "stdout",
     "output_type": "stream",
     "text": [
      "Searching for: 'how to get rich fast' (SEARCH FN: <bound method DenseRetrievalRanker.search of <__main__.DenseRetrievalRanker object at 0x000002B7BC1C9340>>)\n"
     ]
    },
    {
     "data": {
      "text/html": [
       "<ul><li>Document #395(0.9993390910461979): Multiple-Precision Division \n",
       "</li><li>Document #447(0.9992194786830535): Certification of the Calculation of Easter\n",
       "</li><li>Document #880(0.9991484055091011): Newton Interpolation with Backward Divided Differences\n",
       "</li><li>Document #33(0.9990941149416488): A Programmed Binary Counter For The IBM Type 650 Calculator\n",
       "</li><li>Document #3159(0.9990673249021523): Further Remark on Stably Updating Mean and Standard Deviation Estimates\n",
       "</li></ul>"
      ],
      "text/plain": [
       "<IPython.core.display.HTML object>"
      ]
     },
     "metadata": {},
     "output_type": "display_data"
    }
   ],
   "source": [
    "drm_w2v_pretrained = DenseRetrievalRanker(w2v_pretrained, cosine_sim)\n",
    "\n",
    "# test your LDA model\n",
    "search_fn = drm_w2v_pretrained.search\n",
    "\n",
    "text = widgets.Text(description=\"Search Bar\", width=200)\n",
    "display(text)\n",
    "\n",
    "\n",
    "text.on_submit(handle_submit_2)"
   ]
  },
  {
   "cell_type": "markdown",
   "metadata": {
    "deletable": false,
    "editable": false,
    "nbgrader": {
     "cell_type": "markdown",
     "checksum": "51b778984fd60757974f51047c61eb15",
     "grade": false,
     "grade_id": "cell-b92f701cbc706108",
     "locked": true,
     "schema_version": 3,
     "solution": false,
     "task": false
    }
   },
   "source": [
    "**Implementation (10 points):**\n",
    "For Doc2Vec, you will need to create a list of `TaggedDocument` instead of using the `self.corpus` or `self.documents` variable. Use the document id as the 'tag'.\n",
    "  "
   ]
  },
  {
   "cell_type": "code",
   "execution_count": 143,
   "metadata": {},
   "outputs": [
    {
     "data": {
      "text/plain": [
       "[TaggedDocument(words=['preliminari', 'report', '-', 'intern', 'algebra', 'languag'], tags=['1']),\n",
       " TaggedDocument(words=['extract', 'root', 'repeat', 'subtract', 'digit', 'comput'], tags=['2']),\n",
       " TaggedDocument(words=['techniqu', 'depart', 'matrix', 'program', 'scheme'], tags=['3']),\n",
       " TaggedDocument(words=['glossari', 'comput', 'engin', 'program', 'terminolog'], tags=['4']),\n",
       " TaggedDocument(words=['squar', '-', 'root', 'approxim'], tags=['5']),\n",
       " TaggedDocument(words=['comput', 'inspect', 'procedur'], tags=['6']),\n",
       " TaggedDocument(words=['glossari', 'comput', 'engin', 'program', 'terminolog'], tags=['7']),\n",
       " TaggedDocument(words=['equival', 'transform', 'program', 'scheme'], tags=['8']),\n",
       " TaggedDocument(words=['propos', 'uncol'], tags=['9']),\n",
       " TaggedDocument(words=['glossari', 'comput', 'engin', 'program', 'terminolog'], tags=['10']),\n",
       " TaggedDocument(words=['problem', 'program', 'commun', 'chang', 'machin', 'propos', 'solut', '-', 'part', '2'], tags=['11']),\n",
       " TaggedDocument(words=['error', 'estim', 'rung', '-', 'kutta', 'procedur'], tags=['12']),\n",
       " TaggedDocument(words=['glossari', 'comput', 'engin', 'program', 'terminolog'], tags=['13']),\n",
       " TaggedDocument(words=['problem', 'program', 'commun', 'chang', 'machin', 'propos', 'solut', '(', 'part', '1', ')'], tags=['14']),\n",
       " TaggedDocument(words=['recurs', 'curv', 'fit', 'techniqu'], tags=['15']),\n",
       " TaggedDocument(words=['secant', 'modif', 'newton', \"'\", 'method'], tags=['16']),\n",
       " TaggedDocument(words=['program', 'arithmet', 'oper'], tags=['17']),\n",
       " TaggedDocument(words=['simpl', 'automat', 'code', 'system'], tags=['18']),\n",
       " TaggedDocument(words=['glossari', 'comput', 'engin', 'program', 'terminolog'], tags=['19']),\n",
       " TaggedDocument(words=['acceler', 'converg', 'iter', 'process', 'techniqu', 'discuss', ',', 'appli', 'iter', 'procedur', 'solut', 'equat', ',', 'acceler', 'rate', 'converg', 'iter', 'converg', 'induc', 'converg', 'iter', 'diverg', '.', 'illustr', '.'], tags=['20']),\n",
       " TaggedDocument(words=['algebra', 'formul', 'flow', 'diagram'], tags=['21']),\n",
       " TaggedDocument(words=['unusu', 'applic', 'depart', '--', 'automat', 'implement', 'comput', 'logic'], tags=['22']),\n",
       " TaggedDocument(words=['binari', 'truth', '-', 'function', 'oper', 'decim', 'comput', 'extract', 'command'], tags=['23']),\n",
       " TaggedDocument(words=['improv', 'decim', 'redund', 'check'], tags=['24']),\n",
       " TaggedDocument(words=['gener', 'purpos', 'program', 'system'], tags=['25']),\n",
       " TaggedDocument(words=['subroutin', 'method', 'calcul', 'logarithm'], tags=['26']),\n",
       " TaggedDocument(words=['note', 'empir', 'bound', 'gener', 'bessel', 'function'], tags=['27']),\n",
       " TaggedDocument(words=['request', 'method', 'program'], tags=['28']),\n",
       " TaggedDocument(words=['need', 'algorithm'], tags=['29']),\n",
       " TaggedDocument(words=['algorithm', 'analyz', 'logic', 'statement', 'produc', 'truth', 'function', 'tabl'], tags=['30']),\n",
       " TaggedDocument(words=['ibm', '704', 'code', '-', 'nundrum'], tags=['31']),\n",
       " TaggedDocument(words=['variabl', '-', 'width', 'tabl', 'binari', '-', 'search', 'facil'], tags=['32']),\n",
       " TaggedDocument(words=['program', 'binari', 'counter', 'ibm', 'type', '650', 'calcul'], tags=['33']),\n",
       " TaggedDocument(words=['tabl', 'automat', 'comput'], tags=['34']),\n",
       " TaggedDocument(words=['machin', 'method', 'squar', '-', 'root', 'comput'], tags=['35']),\n",
       " TaggedDocument(words=['queue', 'network', 'simul', 'ibm', '650', 'burrough', '220'], tags=['36']),\n",
       " TaggedDocument(words=['impact', 'comput', 'develop'], tags=['37']),\n",
       " TaggedDocument(words=['propos', 'interpret', 'algol'], tags=['38']),\n",
       " TaggedDocument(words=['secant', 'method', 'simultan', 'nonlinear', 'equat', 'procedur', 'simultan', 'solut', 'system', '-', 'necessarili', '-', 'linear', 'equat', ',', 'gener', 'secant', 'method', 'singl', 'function', 'variabl', ',', '.'], tags=['39']),\n",
       " TaggedDocument(words=['finger', 'fist', '?', '(', 'choic', 'decim', 'binari', 'represent', ')', 'binari', 'number', 'system', 'offer', 'advantag', 'decim', 'represent', 'high', '-', 'perform', ',', 'gener', '-', 'purpos', 'comput', '.', 'greater', 'simplic', 'binari', 'arithmet', 'unit', 'greater', 'compact', 'binari', 'number', 'contribut', 'directli', 'arithmet', 'speed', '.', 'obviou', 'import', 'binari', 'address', 'instruct', 'format', 'increas', 'perform', '.', 'binari', 'address', 'essenti', 'power', 'oper', 'practic', 'decim', 'instruct', 'format', '.', 'hand', ',', 'decim', 'number', 'essenti', 'commun', 'man', 'comput', '.', 'applic', 'requir', 'process', 'larg', 'volum', 'inher', 'decim', 'input', 'output', 'data', ',', 'time', 'decim', '-', 'binari', 'convers', 'need', 'pure', 'binari', 'comput', 'signific', '.', 'slower', 'decim', 'adder', 'take', 'time', 'fast', 'binari', 'adder', 'addit', 'convers', '.', 'care', 'review', 'signific', 'decim', 'binari', 'address', 'binari', 'decim', 'data', 'arithmet', ',', 'supplement', 'effici', 'convers', 'instruct', '.'], tags=['40']),\n",
       " TaggedDocument(words=['note', 'comput', 'research', 'eastern', 'europ'], tags=['41']),\n",
       " TaggedDocument(words=['method', 'comput', 'squar', 'root', 'divis'], tags=['42']),\n",
       " TaggedDocument(words=['techniqu', 'handl', 'macro', 'instruct'], tags=['43']),\n",
       " TaggedDocument(words=['runcibl', '-', 'algebra', 'translat', 'limit', 'comput'], tags=['44']),\n",
       " TaggedDocument(words=['flow', 'outlin', '-', 'substitut', 'flow', 'chart'], tags=['45']),\n",
       " TaggedDocument(words=['multiprogram', 'stretch', ':', 'feasibl', 'consider', 'tendenc', 'increas', 'parallel', 'comput', 'note', '.', 'exploit', 'parallel', 'present', 'number', 'problem', 'machin', 'design', 'program', 'system', '.', 'minimum', 'requir', 'success', 'concurr', 'execut', 'independ', 'problem', 'program', 'discuss', '.', 'requir', 'met', 'stretch', 'system', 'care', 'balanc', 'combin', 'built', '-', 'program', 'logic', '.', 'techniqu', 'place', 'burden', 'program', 'logic', 'system', 'program', '(', 'supervisori', 'program', 'compil', ')', 'problem', 'program', '.'], tags=['46']),\n",
       " TaggedDocument(words=['russian', 'visit', '.', '.', 'comput'], tags=['47']),\n",
       " TaggedDocument(words=['shift', '-', 'regist', 'code', 'index', 'applic', 'commun', 'shift', '-', 'regist', 'code', '=', '10', 'call', '64', 'wireless', 'telemet', 'station', 'fix', 'cyclic', 'order', '.', 'high', 'degre', 'redund', ',', 'permit', 'singl', '-', 'error', 'correct', 'code', '(\"', 'minimum', '-', 'distanc', '-', '\"', 'code', ')', '64', '10', '-', 'bit', 'code', 'word', 'employ', 'station', 'identif', 'code', '.', 'embed', 'shift', '-', 'regist', 'code', 'period', '1023', 'permit', 'code', 'employ', 'punctuat', ',', 'telemet', 'station', 'receiv', 'simpli', 'put', 'receiv', 'zero', 'shift', 'regist', '.', 'time', 'code', 'combin', 'aris', 'identifi', 'station', '(', 'bar', 'tuitou', 'error', 'combin', 'low', 'probabl', ')', 'call', '.', 'commun', 'describ', 'properti', 'applic', 'code', 'detail', 'find', 'employ', 'ural', ',', 'soviet', '-', 'built', 'drum', 'comput', 'donat', 'indian', 'statist', 'institut', 'unit', 'nation', 'technic', 'aid', 'administr', '(', 'untaa', ').'], tags=['48']),\n",
       " TaggedDocument(words=['scientif', 'busi', 'applic', '(', 'oracl', 'curv', 'plotter', ')'], tags=['49']),\n",
       " TaggedDocument(words=['statist', 'program', 'ibm', '650', '-', 'part', 'ii'], tags=['50']),\n",
       " TaggedDocument(words=['construct', 'micro', '-', 'flowchart'], tags=['51']),\n",
       " TaggedDocument(words=['effici', 'method', 'gener', 'uniformli', 'distribut', 'point', 'surfac', '-', 'dimension', 'sphere', '(', 'corrigendum', ')'], tags=['52']),\n",
       " TaggedDocument(words=['recommend', 'share', 'algol', 'committe'], tags=['53']),\n",
       " TaggedDocument(words=['sale', ',', 'simpl', 'algebra', 'languag', 'engin'], tags=['54']),\n",
       " TaggedDocument(words=['algebra', 'translat'], tags=['55']),\n",
       " TaggedDocument(words=['propos', 'standard', 'flow', 'chart', 'symbol'], tags=['56']),\n",
       " TaggedDocument(words=['.', '.', '.', '.', '.', 'comput', 'center'], tags=['57']),\n",
       " TaggedDocument(words=['lem', '-', '1', ',', 'small', 'size', 'gener', 'purpos', 'digit', 'comput', 'magnet', '(', 'ferrit', ')', 'element', 'paper', 'examin', 'question', 'develop', 'construct', 'gener', 'purpos', 'digit', 'comput', 'contactless', 'magnet', '(', 'ferrit', ')', 'capacit', '\"', 'dezu', '\"', '(', 'long', 'durat', 'capacit', 'memori', ')', 'element', ',', 'develop', 'laboratori', 'electr', 'model', 'vinityi', 'sssr', ',', 'supervis', 'professor', '.', '.', 'gutenmach', '.'], tags=['58']),\n",
       " TaggedDocument(words=['survey', 'progress', 'trend', 'develop', 'automat', 'data', 'process', 'busi', 'manag', 'control', 'system', 'feder', 'govern', ',', 'decemb', '1957', '-', 'iii'], tags=['59']),\n",
       " TaggedDocument(words=['alpha', 'vector', 'transform', 'system', 'linear', 'constraint'], tags=['60']),\n",
       " TaggedDocument(words=['ibm', '709', 'tape', 'matrix', 'compil'], tags=['61']),\n",
       " TaggedDocument(words=['multi', '-', 'dimension', '-', 'squar', 'polynomi', 'curv', 'fit'], tags=['62']),\n",
       " TaggedDocument(words=['octal', 'diagram', 'binari', 'concept', 'applic', 'comput', 'design', 'logic', 'paper', 'date', 'back', 'genesi', 'binari', 'concept', 'circa', '5000', 'year', 'ago', ',', 'octal', 'diagram', '4800', 'year', 'ago', ',', 'deriv', 'chines', 'ancient', '.', 'analyz', 'applic', 'binari', 'triniti', 'octal', 'diagram', 'modern', 'electron', '-', 'digit', '-', 'comput', 'design', 'logic', '.'], tags=['63']),\n",
       " TaggedDocument(words=['remark', 'algol', 'symbol', 'manipul'], tags=['64']),\n",
       " TaggedDocument(words=['algol', '-', 'committe', 'report', '-', 'extens'], tags=['65']),\n",
       " TaggedDocument(words=['propos', 'gener', 'card', 'code', '256', 'charact'], tags=['66']),\n",
       " TaggedDocument(words=['central', '-', 'european', 'comput'], tags=['67']),\n",
       " TaggedDocument(words=['role', 'univers', 'comput', ',', 'data', 'process', 'relat', 'field', 'studi', 'made', 'univers', 'program', 'unit', 'state', 'field', 'comput', ',', 'data', 'process', ',', 'oper', 'research', ',', 'close', 'relat', 'field', '.', 'univers', 'polici', ',', 'organ', ',', 'administr', ',', 'faculti', ',', 'student', ',', 'research', ',', 'curricula', ',', 'equip', ',', 'financ', 'investig', '.', 'integr', 'univers', 'program', 'recommend', 'reflect', 'convict', 'present', 'activ', 'relat', 'comput', 'develop', 'disciplin', 'legitim', 'provinc', 'univers', 'scholar', '.', 'detail', 'recommend', 'graduat', 'school', '\"', 'comput', 'scienc', '\"', '.'], tags=['68']),\n",
       " TaggedDocument(words=['statist', 'program', 'ibm', '650', '-', 'part', 'collect', 'descript', 'statist', 'program', 'univers', 'comput', 'center', 'ibm', '650', \"'\", '.'], tags=['69']),\n",
       " TaggedDocument(words=['construct', 'set', 'test', 'matric', 'paper', 'develop', 'equat', 'properti', 'set', 'test', 'matric', 'determin', 'accuraci', 'routin', 'find', 'invers', ',', 'determin', '/', 'eigenvalu', 'matrix', '.'], tags=['70']),\n",
       " TaggedDocument(words=['propos', 'feasibl', 'program', 'system', 'paper', 'propos', 'design', 'program', 'facil', '(', 'involv', 'digit', 'comput', 'program', ')', 'assist', 'prepar', 'larg', '-', 'scale', 'real', '-', 'time', 'program', '.', 'facil', 'capabl', 'prepar', 'program', 'varieti', 'machin', 'characterist', 'similar', 'facil', \"'\", 'comput', '.', 'basic', 'assumpt', 'random', '-', 'access', 'storag', 'avoid', 'necess', 'segment', 'construct', 'program', 'fashion', 'trivial', '.', 'assumpt', 'unrealist', ',', 'intend', 'provid', 'opportun', 'concentr', 'aspect', 'program', 'construct', '.', 'program', 'system', 'stress', 'discoveri', 'sourc', 'program', 'statement', 'error', ',', 'attempt', 'construct', 'object', 'program', '.', 'comput', 'characterist', 'advoc', 'program', 'interrupt', 'scheme', ',', 'larg', 'set', 'charact', ',', 'indirect', 'address', '.'], tags=['71']),\n",
       " TaggedDocument(words=['educ', 'program', 'comput'], tags=['72']),\n",
       " TaggedDocument(words=['real', 'time', 'data', 'assimil'], tags=['73']),\n",
       " TaggedDocument(words=['high', '-', 'speed', 'sort', 'procedur'], tags=['74']),\n",
       " TaggedDocument(words=['paramet', 'estim', 'simpl', 'nonlinear', 'model'], tags=['75']),\n",
       " TaggedDocument(words=['binari', 'convers', ',', 'fix', 'decim', 'precis', ',', 'decim', 'fraction'], tags=['76']),\n",
       " TaggedDocument(words=['gat', 'construct', 'translat'], tags=['77']),\n",
       " TaggedDocument(words=['remark', 'practic', 'solut', 'characterist', 'problem', 'paper', 'concern', 'practic', 'solut', 'characterist', 'problem', 'ordinari', 'differenti', 'equat', '.', 'appar', 'sequenti', 'comput', ',', 'digit', 'analog', ',', 'solv', 'initi', 'problem', ',', 'boundari', 'problem', ',', 'mathemat', 'process', 'found', 'compens', 'machin', \"'\", 'inadequaci', '.', '(', 'compens', 'machin', 'imperfect', ',', 'cours', ',', 'normal', 'activ', 'numer', 'analyst', '.)', 'number', 'paper', 'appli', 'devic', 'problem', '.', 'purpos', 'note', 'establish', 'mathemat', 'framework', 'model', 'practic', 'procedur', 'assist', 'extens', 'idea', 'problem', '.'], tags=['78']),\n",
       " TaggedDocument(words=['program', 'machin', 'extend', 'address', 'calcul', 'mechan'], tags=['79']),\n",
       " TaggedDocument(words=['techniqu', 'comput', 'critic', 'rotat', 'speed', 'flexibl', 'shaft', 'automat', 'comput'], tags=['80']),\n",
       " TaggedDocument(words=['norc', 'high', '-', 'speed', 'printer'], tags=['81']),\n",
       " TaggedDocument(words=['handl', 'identifi', 'intern', 'symbol', 'languag', 'processor', 'substitut', 'comput', '-', 'orient', 'symbol', 'programm', '-', 'orient', 'symbol', 'languag', 'processor', 'examin', 'feasibl', 'method', 'present', '.'], tags=['82']),\n",
       " TaggedDocument(words=['visit', 'comput', 'center', 'soviet', 'union'], tags=['83']),\n",
       " TaggedDocument(words=['survey', 'progress', 'trend', 'develop', 'automat', 'data', 'process', 'busi', 'manag', 'control', 'system', 'feder', 'govern', ',', 'decemb', '1957', '-', 'ii', '(', 'part', '2', 'ca590406', ')'], tags=['84']),\n",
       " TaggedDocument(words=['error', 'analysi', 'float', 'point', 'arithmet'], tags=['85']),\n",
       " TaggedDocument(words=['survey', 'progress', 'trend', 'develop', 'automat', 'data', 'process', 'busi', 'manag', 'control', 'system', 'feder', 'govern', ',', 'decemb', '1957'], tags=['86']),\n",
       " TaggedDocument(words=['note', 'method', 'gener', 'point', 'uniformli', '-', 'dimension', 'sphere'], tags=['87']),\n",
       " TaggedDocument(words=['effici', 'method', 'gener', 'uniformli', 'distribut', 'point', 'surfac', '-', 'dimension', 'sphere'], tags=['88']),\n",
       " TaggedDocument(words=['routin', 'find', 'solut', 'simultan', 'linear', 'equat', 'polynomi', 'coeffici'], tags=['89']),\n",
       " TaggedDocument(words=['binari', 'arithmet', 'discret', 'variabl', 'word', 'length', 'serial', 'comput'], tags=['90']),\n",
       " TaggedDocument(words=['mathemat', 'procedur', 'machin', 'divis'], tags=['91']),\n",
       " TaggedDocument(words=['checklist', 'intellig', 'program', 'system', 'remark', 'variat', 'exist', 'degre', 'sophist', 'program', 'system', '.', 'manifest', 'jungl', 'assort', 'devic', 'reproduc', 'limit', 'human', 'decis', 'procedur', '.', 'attempt', 'made', 'begin', 'systemat', 'classif', 'devic', 'educ', 'comput', 'take', 'decis', '-', 'make', 'function', 'human', 'oper', ',', 'demonstr', 'feasibl', 'date', 'highli', 'desir', 'futur', '.'], tags=['92']),\n",
       " TaggedDocument(words=['formula', 'comput', 'orient', 'languag', 'techniqu', 'shown', 'enabl', 'comput', 'translat', 'simpl', 'algebra', 'formula', 'address', 'comput', 'code', '.'], tags=['93']),\n",
       " TaggedDocument(words=['iter', 'method', 'fit', 'logist', 'curv', 'iter', 'method', 'find', 'logist', 'curv', 'squar', 'fit', 'set', '-', 'dimension', 'point', '.'], tags=['94']),\n",
       " TaggedDocument(words=['elimin', 'special', 'function', 'differenti', 'equat', 'set', 'ordinari', 'differenti', 'equat', 'mathemat', 'function', 'requir', 'subroutin', 'numer', 'solut', 'electron', 'comput', ',', 'tabular', 'data', 'numer', 'solut', 'hand', 'calcul', 'function', 'gener', 'analog', 'method', 'appli', 'expand', 'equival', 'set', 'equat', 'function', '.', 'practic', 'function', 'satisfi', 'suffici', 'simpl', 'differenti', 'equat', '.', 'function', 'elimin', 'procedur', 'trigonometr', ',', 'invers', 'trigonometr', ',', 'exponenti', ',', 'transcendent', 'function', '.'], tags=['95']),\n",
       " TaggedDocument(words=['comput', 'radiat', 'integr', 'rel', 'merit', 'cost', 'way', 'evalu', 'typic', 'radiat', 'integr', 'spheric', 'bessel', 'function', 'investig', '.', 'method', 'desk', 'machin', 'evalu', 'finit', 'seri', ',', 'integr', 'differenti', 'equat', 'reev', 'electron', 'analog', 'comput', 'litton', '40', 'ibm', '704', 'comput', '.', 'result', 'gener', 'applic', 'equat', 'separ', 'helmholtz', 'wave', 'equat', '.'], tags=['96']),\n",
       " TaggedDocument(words=['signal', 'corp', 'research', 'develop', 'automat', 'program', 'digit', 'comput'], tags=['97']),\n",
       " TaggedDocument(words=['arithmet', 'translat', '-', 'compil', 'ibm', 'fortran', 'automat', 'code', 'system'], tags=['98']),\n",
       " TaggedDocument(words=['modif', 'intern', 'algebra', 'languag'], tags=['99']),\n",
       " TaggedDocument(words=['recurs', 'subscript', 'compil', 'list', '-', 'type', 'memori'], tags=['100']),\n",
       " TaggedDocument(words=['nuclear', 'reactor', 'code'], tags=['101']),\n",
       " TaggedDocument(words=['comparison', '650', 'program', 'method'], tags=['102']),\n",
       " TaggedDocument(words=['cope', '(', 'consol', 'oper', 'profici', 'examin', ')*', 'year', 'electron', 'comput', 'sophist', ',', 'program', 'process', 'complex', '.', ',', 'depend', 'comput', 'skill', 'experi', 'oper', 'increas', '.', 'time', ',', 'select', 'train', 'qualifi', 'oper', 'grow', 'difficult', '.', 'meet', 'need', 'quick', ',', 'accur', ',', 'uniform', 'oper', 'test', 'train', 'aid', ',', 'author', 'develop', 'cope', '(', 'consol', 'oper', 'profici', 'examin', '),', 'outlin', '.', 'examin', 'program', 'specif', 'ibm', '705', 'model', 'ii', 'tape', 'record', 'coordin', ',', 'similar', 'program', 'develop', 'comput', '.'], tags=['103']),\n",
       " TaggedDocument(words=['digit', 'simul', 'discret', 'flow', 'system', '*', 'discret', 'flow', 'system', 'discuss', 'character', 'movement', 'randomli', 'arriv', 'item', 'interact', 'channel', '.', 'program', 'digit', 'comput', 'simul', 'system', 'util', 'techniqu', 'common', 'approach', 'physic', 'problem', '.', 'princip', 'portion', 'paper', 'discuss', 'simul', 'studi', 'illustr', 'program', 'problem', 'involv', '.', 'extens', 'packag', '-', 'handl', 'plant', ',', 'object', 'optim', 'paramet', 'storag', 'capac', 'process', 'rate', '.', ',', 'air', 'traffic', 'flow', 'control', 'procedur', 'simul', 'compar', 'effect', 'altern', 'control', 'decis', '.'], tags=['104']),\n",
       " TaggedDocument(words=['method', 'word', 'invers', 'ibm', '709'], tags=['105']),\n",
       " TaggedDocument(words=['method', 'overlap', 'erasur', 'list', 'import', 'properti', 'newel', '-', 'shaw', '-', 'simon', 'scheme', 'comput', 'storag', 'list', 'data', 'multipl', 'occurr', 'need', 'store', 'place', 'comput', '.', ',', 'list', '\"', 'overlap', '.\"', 'unfortun', ',', 'overlap', 'pose', 'problem', 'subsequ', 'erasur', '.', 'list', 'longer', 'need', ',', 'desir', 'eras', 'part', 'overlap', 'list', '.', 'lisp', ',', 'mccarthi', 'employ', 'eleg', 'ineffici', 'solut', 'problem', '.', 'present', 'paper', 'describ', 'gener', 'method', 'enabl', 'effici', 'erasur', '.', 'method', 'employ', 'interspers', 'refer', 'count', 'describ', 'extent', 'overlap', '.'], tags=['106']),\n",
       " TaggedDocument(words=['multipl', 'precis', 'arithmet'], tags=['107']),\n",
       " TaggedDocument(words=['program', 'error', 'correct', 'project', 'mercuri'], tags=['108']),\n",
       " TaggedDocument(words=['note', 'approxim', '^'], tags=['109']),\n",
       " TaggedDocument(words=['fibonaccian', 'search'], tags=['110']),\n",
       " TaggedDocument(words=['program', 'numer', 'solut', 'polynomi', 'equat', 'numer', 'techniqu', 'present', 'comput', 'root', 'polynomi', 'equat', '.', 'appli', 'recommend', 'scale', 'invers', 'rule', ',', 'basic', 'bairstow', 'newton', '-', 'raphson', 'iter', 'techniqu', 'appli', 'great', 'reliabl', '.', 'high', 'degre', 'accuraci', 'rapid', 'converg', 'realiz', '.', 'numer', 'exampl', 'shown', 'illustr', 'pitfal', 'show', 'circumv', 'applic', 'recommend', 'procedur', '.'], tags=['111']),\n",
       " TaggedDocument(words=['numer', 'solut', 'polynomi', 'equat', '(', 'algorithm', '30', ')'], tags=['112']),\n",
       " TaggedDocument(words=['survey', 'code', 'charact', 'represent'], tags=['113']),\n",
       " TaggedDocument(words=['survey', 'punch', 'card', 'code'], tags=['114']),\n",
       " TaggedDocument(words=['optim', ':', 'structur'], tags=['115']),\n",
       " TaggedDocument(words=['sumador', 'chino', 'recent', 'motor', 'trip', 'mexico', ',', 'writer', 'came', 'ad', 'devic', 'refer', 'sumador', 'chino', '(', 'chines', 'adder', ').', 'survey', 'literatur', 'histori', 'mathemat', 'instrument', 'calcul', 'uncov', 'refer', 'devic', '.', 'purpos', 'commun', 'enlist', 'help', 'member', 'bring', 'light', 'known', 'concern', 'evolut', 'present', 'statu', 'sumador', 'chino', '.'], tags=['116']),\n",
       " TaggedDocument(words=['estim', 'rel', 'effici', 'intern', 'sort', 'method'], tags=['117']),\n",
       " TaggedDocument(words=['charact', 'scan', 'ibm', '7070'], tags=['118']),\n",
       " TaggedDocument(words=['note', 'eigenvalu', 'comput'], tags=['119']),\n",
       " TaggedDocument(words=['simpl', 'techniqu', 'code', 'differenti', 'equat'], tags=['120']),\n",
       " TaggedDocument(words=['-', 'comput', 'control', 'label'], tags=['121']),\n",
       " TaggedDocument(words=['squar', 'fit', 'great', 'circl', 'point', 'sphere'], tags=['122']),\n",
       " TaggedDocument(words=['compil', 'comput', 'neliac', 'neliac', ',', 'compil', 'base', 'algol', ',', 'develop', '.', '.', 'navi', 'electron', 'laboratori', ',', 'san', 'diego', ',', 'california', ',', '\"', 'boot', '-', 'strap', '\"', 'compil', 'remington', 'rand', 'univac', 'countess', 'comput', '.', 'compil', 'gener', 'version', ',', 'run', 'countess', 'program', ',', 'gener', 'machin', 'code', 'control', 'data', 'corpor', 'cdc', '-', '1604', '.', 'version', 'neliac', 'accept', 'essenti', 'ident', 'input', 'languag', '.'], tags=['123']),\n",
       " TaggedDocument(words=['algorithm', 'assign', 'problem', 'assign', 'problem', 'formul', 'briefli', 'discuss', '.', 'effici', 'algorithm', 'solut', 'present', 'algol', 'code', '.', 'empir', 'relat', 'solut', 'time', 'size', 'problem', ',', 'base', 'extens', 'experi', 'carri', 'digit', 'comput', '.'], tags=['124']),\n",
       " TaggedDocument(words=['polynomi', 'transform', '(', 'algorithm', '29', ')'], tags=['125']),\n",
       " TaggedDocument(words=['squar', 'fit', 'orthogon', 'polynomi', '(', 'algorithm', '28', ')'], tags=['126']),\n",
       " TaggedDocument(words=['assign', '(', 'algorithm', '27', ')'], tags=['127']),\n",
       " TaggedDocument(words=['rootfind', 'iii', '(', 'algorithm', '26', ')'], tags=['128']),\n",
       " TaggedDocument(words=['rootfind', 'ii', '(', 'algorithm', '15', ')'], tags=['129']),\n",
       " TaggedDocument(words=['real', 'zero', 'arbitrari', 'function', '(', 'algorithm', '25', ')'], tags=['130']),\n",
       " TaggedDocument(words=['solut', 'tri', '-', 'diagon', 'linear', 'equat', '(', 'algorithm', '24', ')'], tags=['131']),\n",
       " TaggedDocument(words=['math', 'sort', '(', 'algorithm', '23', ')'], tags=['132']),\n",
       " TaggedDocument(words=['riccati', '-', 'bessel', 'function', 'kind', '(', 'algorithm', '22', ')'], tags=['133']),\n",
       " TaggedDocument(words=['bessel', 'function', 'set', 'integ', 'order', '(', 'algorithm', '21', ')'], tags=['134']),\n",
       " TaggedDocument(words=['digit', 'comput', 'univers', '-', 'iv'], tags=['135']),\n",
       " TaggedDocument(words=['note', 'calcul', 'interest'], tags=['136']),\n",
       " TaggedDocument(words=['evalu', 'number', 'express', 'string', 'english', 'word'], tags=['137']),\n",
       " TaggedDocument(words=['thought', 'reconcil', 'charact', 'set', 'propos', '(', 'corrigenda', ')'], tags=['138']),\n",
       " TaggedDocument(words=['binomi', 'coeffici', '(', 'algorithm', '19', ')'], tags=['139']),\n",
       " TaggedDocument(words=['crout', 'pivot', '(', 'algorithm', '16', ')'], tags=['140']),\n",
       " TaggedDocument(words=['thought', 'parallel', 'process'], tags=['141']),\n",
       " TaggedDocument(words=['comment', 'techniqu', 'count'], tags=['142']),\n",
       " TaggedDocument(words=['list', 'comput', 'system', 'program', 'ibm', '650', ',', 'datatron', '205', ',', 'univac', 'ss', '-', '80'], tags=['143']),\n",
       " TaggedDocument(words=['number', '-', 'digit', 'shorthand', 'present', 'commun', 'system', 'transmit', 'singl', 'charact', 'group', 'code', 'puls', 'simpl', 'termin', 'equip', '.', 'english', 'word', 'form', 'spars', 'set', 'alphabet', 'combin', ',', 'present', 'method', 'ineffici', 'comput', 'system', 'substitut', 'termin', '.', 'numer', 'represent', 'entir', 'word', 'common', 'phrase', '(', 'charact', '-', '-', 'charact', 'represent', ')', 'requir', 'approxim', '-', 'present', 'transmiss', 'time', '.', 'save', 'reflect', 'cost', '.', 'benefit', 'accru', 'code', 'languag', 'translat', 'scheme', '.', 'provis', 'made', 'transmiss', 'pure', 'numer', '/', 'binari', 'stream', ',', 'singl', 'charact', '-', 'transmiss', 'non', '-', 'dictionari', 'word', 'name', 'peopl', 'place', '.'], tags=['144']),\n",
       " TaggedDocument(words=['automat', 'grader', 'program', 'class'], tags=['145']),\n",
       " TaggedDocument(words=['comput', 'engin', 'classroom', 'instruct', 'april', '29', '-', '30', ',', 'comput', 'committe', 'colleg', 'engin', ',', 'univers', 'michigan', ',', 'act', 'steer', 'committe', 'ford', 'foundat', 'project', 'comput', 'engin', 'educ', ',', 'held', 'special', 'confer', 'discuss', 'time', 'topic', 'pertin', 'ford', 'project', '.', 'report', 'condens', 'transcript', 'key', 'idea', 'offer', 'confer', 'attende', 'select', 'topic', '.'], tags=['146']),\n",
       " TaggedDocument(words=['report', 'confer', 'univers', 'comput', 'center', 'director'], tags=['147']),\n",
       " TaggedDocument(words=['digit', 'comput', 'univers', '-', 'iii'], tags=['148']),\n",
       " TaggedDocument(words=['decis', 'rule', 'improv', 'effici', 'solv', 'linear', 'program', 'problem', 'simplex', 'algorithm'], tags=['149']),\n",
       " TaggedDocument(words=['ration', 'interpol', 'continu', 'fraction', '(', 'algorithm', '18', ')'], tags=['150']),\n",
       " TaggedDocument(words=['trdiag', '(', 'algorithm', '17', ')'], tags=['151']),\n",
       " TaggedDocument(words=['crout', 'pivot', '(', 'algorithm', '16', ')'], tags=['152']),\n",
       " TaggedDocument(words=['comment', 'fortran', 'user'], tags=['153']),\n",
       " TaggedDocument(words=['rapidli', 'converg', 'express', 'evalu', '^'], tags=['154']),\n",
       " TaggedDocument(words=['trie', 'memori'], tags=['155']),\n",
       " TaggedDocument(words=['introductori', 'problem', 'symbol', 'manipul', 'student'], tags=['156']),\n",
       " TaggedDocument(words=['digit', 'comput', 'univers', '-', 'ii'], tags=['157']),\n",
       " TaggedDocument(words=['rootfind', 'ii', '(', 'algorithm', '15', ')'], tags=['158']),\n",
       " TaggedDocument(words=['rootfind', '(', 'algorithm', '2', ')'], tags=['159']),\n",
       " TaggedDocument(words=['rootfind', 'ii', '(', 'algorithm', '15', ')'], tags=['160']),\n",
       " TaggedDocument(words=['abbrevi', 'word', 'systemat', '(', 'corrigendum', ')'], tags=['161']),\n",
       " TaggedDocument(words=['variant', 'techniqu', 'count'], tags=['162']),\n",
       " TaggedDocument(words=['count', 'ibm', '7090'], tags=['163']),\n",
       " TaggedDocument(words=['short', 'studi', 'notat', 'effici'], tags=['164']),\n",
       " TaggedDocument(words=['neliac', '-', 'dialect', 'algol'], tags=['165']),\n",
       " TaggedDocument(words=['program', 'compat', 'famili', 'close', 'relat', 'digit', 'comput'], tags=['166']),\n",
       " TaggedDocument(words=['combin', 'algol', 'statement', 'analysi', 'valid', 'check'], tags=['167']),\n",
       " TaggedDocument(words=['multiprogram', 'schedul', 'part', '3', '4', 'schedul', 'algorithm', 'extern', 'constraint'], tags=['168']),\n",
       " TaggedDocument(words=['multilingu', 'terminolog', 'project'], tags=['169']),\n",
       " TaggedDocument(words=['thought', 'reconcil', 'charact', 'set', 'propos'], tags=['170']),\n",
       " TaggedDocument(words=['digit', 'comput', 'univers', '(', 'part', ')'], tags=['171']),\n",
       " TaggedDocument(words=['complex', 'exponenti', 'integr', '(', 'algorithm', '13', ')'], tags=['172']),\n",
       " TaggedDocument(words=['atla', 'concept', 'larg', 'comput', 'design'], tags=['173']),\n",
       " TaggedDocument(words=['interv', 'estim', 'time', 'state', 'total', 'time', 'ratio', 'doubleexponenti', 'process'], tags=['174']),\n",
       " TaggedDocument(words=['solut', 'simultan', 'ordinari', 'differenti', 'equat', 'gener', 'purpos', 'digit', 'comput'], tags=['175']),\n",
       " TaggedDocument(words=['symbol', 'manipul', 'thread', 'list', '(', 'corrigendum', ')'], tags=['176']),\n",
       " TaggedDocument(words=['solut', 'polynomi', 'equat', 'bairstow', 'hitchcock', 'method', ',', '.', '.', 'grau', 'commun', 'acm', ',', 'februari', ',', '1960', '(', 'algorithm', ')'], tags=['177']),\n",
       " TaggedDocument(words=['rootfind', '(', 'algorithm', ')'], tags=['178']),\n",
       " TaggedDocument(words=['evalu', 'legendr', 'polynomi', 'pn', '(', ')', 'recurs', '(', 'algorithm', ')'], tags=['179']),\n",
       " TaggedDocument(words=['evalu', 'laguerr', 'polynomi', 'ln', '(', ')', 'recurs', '(', 'algorithm', ')'], tags=['180']),\n",
       " TaggedDocument(words=['evalu', 'hermit', 'polynomi', 'hn', '(', ')', 'recurs', '(', 'algorithm', ')'], tags=['181']),\n",
       " TaggedDocument(words=['evalu', 'chebyshev', 'polynomi', 'tn', '(', ')', 'recurs', '(', 'algorithm', ')'], tags=['182']),\n",
       " TaggedDocument(words=['convers', 'float', 'point', 'represent'], tags=['183']),\n",
       " TaggedDocument(words=['short', 'method', 'measur', 'error', '-', 'squar', 'power', 'seri'], tags=['184']),\n",
       " TaggedDocument(words=['multiprogram', 'schedul', 'part', '1', '2', '.', 'introduct', 'theori', '*', 'order', 'exploit', 'fulli', 'fast', 'comput', 'possess', 'simultan', 'process', 'abil', ',', 'larg', 'extent', 'schedul', 'workload', '.', 'schedul', 'routin', 'capabl', 'extrem', 'rapid', 'execut', 'prove', '-', 'defeat', '.', 'construct', 'schedul', 'entail', 'determin', 'program', 'run', 'concurr', 'sequenti', 'respect', '.', 'concis', 'schedul', 'algorithm', 'tend', 'minim', 'time', 'execut', 'entir', 'pend', 'workload', '(', 'subset', '),', 'subject', 'extern', 'constraint', 'preced', ',', 'urgenc', ',', '.', 'algorithm', 'applic', 'wide', 'class', 'machin', '.'], tags=['185']),\n",
       " TaggedDocument(words=['algorithm', 'defin', 'algol', 'assign', 'statement', '(', 'addendum', ')'], tags=['186']),\n",
       " TaggedDocument(words=['compil', 'connect'], tags=['187']),\n",
       " TaggedDocument(words=['depart', 'comput', 'mathemat', 'moscow', 'state', 'univers'], tags=['188']),\n",
       " TaggedDocument(words=['futur', 'automat', 'digit', 'comput'], tags=['189']),\n",
       " TaggedDocument(words=['bendix', '-', '20', 'system'], tags=['190']),\n",
       " TaggedDocument(words=['abbrevi', 'word', 'systemat'], tags=['191']),\n",
       " TaggedDocument(words=['techniqu', 'count', 'binari', 'comput'], tags=['192']),\n",
       " TaggedDocument(words=['start', 'automat', 'storag', 'assign'], tags=['193']),\n",
       " TaggedDocument(words=['divisionless', 'comput', 'squar', 'root', 'continu', 'squar'], tags=['194']),\n",
       " TaggedDocument(words=['code', '?'], tags=['195']),\n",
       " TaggedDocument(words=['report', 'algorithm', 'languag', 'algol', '60'], tags=['196']),\n",
       " TaggedDocument(words=['imaginari', 'number', 'system'], tags=['197']),\n",
       " TaggedDocument(words=['high', '-', 'speed', 'multipl', 'process', 'digit', 'comput'], tags=['198']),\n",
       " TaggedDocument(words=['euclidian', 'algorithm', '(', 'algorithm', '7', ')'], tags=['199']),\n",
       " TaggedDocument(words=['bessel', 'function', ',', 'asymptot', 'expans', '(', 'algorithm', '6', ')'], tags=['200']),\n",
       " TaggedDocument(words=['bessel', 'funtion', ',', 'seri', 'expans', '(', 'algorithm', '5', ')'], tags=['201']),\n",
       " TaggedDocument(words=['control', 'system', 'logic', 'block', 'diagnosi', 'data', 'load', 'paper', 'describ', 'section', 'integr', 'diagnost', 'monitor', 'system', 'facilit', 'check', 'section', 'instruct', 'subroutin', 'object', 'program', '.', 'method', 'diagnost', 'oper', 'format', 'similar', 'comput', 'program', 'make', 'system', 'conveni', 'simpl', 'understand', '.', 'paper', 'describ', 'number', 'diagnost', 'featur', 'includ', 'system', '.'], tags=['202']),\n",
       " TaggedDocument(words=['decod', 'combin', 'integ', 'time'], tags=['203']),\n",
       " TaggedDocument(words=['prove', 'theorem', 'pattern', 'recognit'], tags=['204']),\n",
       " TaggedDocument(words=['macro', 'instruct', 'extens', 'compil', 'languag', 'macroinstruct', 'compil', 'construct', 'small', 'set', 'function', 'made', 'extrem', 'power', '.', ',', 'condit', 'assembl', ',', 'nest', 'definit', ',', 'parenthet', 'notat', 'serv', 'make', 'compil', 'capabl', 'accept', 'gener', 'extens', 'ground', 'languag', '.'], tags=['205']),\n",
       " TaggedDocument(words=['symbol', 'manipul', 'xtran'], tags=['206']),\n",
       " TaggedDocument(words=['syntact', 'semant', 'augment', 'algol'], tags=['207']),\n",
       " TaggedDocument(words=['introduct', 'inform', 'process', 'languag'], tags=['208']),\n",
       " TaggedDocument(words=['symbol', 'manipul', 'thread', 'list'], tags=['209']),\n",
       " TaggedDocument(words=['recurs', 'function', 'symbol', 'express', 'comput', 'machin', ',', 'part'], tags=['210']),\n",
       " TaggedDocument(words=['share', 'standard', 'flow', 'chart', 'symbol'], tags=['211']),\n",
       " TaggedDocument(words=['bisect', 'routin', '(', 'algorithm', '4', ')'], tags=['212']),\n",
       " TaggedDocument(words=['numer', 'invers', 'laplac', 'transform'], tags=['213']),\n",
       " TaggedDocument(words=['algorithm', 'defin', 'algol', 'assign', 'statement'], tags=['214']),\n",
       " TaggedDocument(words=['execut', 'oper', '-', 'fourth', 'mode', 'instruct', 'sequenc'], tags=['215']),\n",
       " TaggedDocument(words=['note', 'abacu', 'number', 'convers'], tags=['216']),\n",
       " TaggedDocument(words=['soviet', 'comput', 'technolog', '-', '1959'], tags=['217']),\n",
       " TaggedDocument(words=['comput', 'prepar', 'poetri', 'concord'], tags=['218']),\n",
       " TaggedDocument(words=['marriag', '-', 'problem'], tags=['219']),\n",
       " TaggedDocument(words=['method', 'comput', 'squar', 'root', 'divis'], tags=['220']),\n",
       " TaggedDocument(words=['basic', 'side', 'tape', 'label'], tags=['221']),\n",
       " TaggedDocument(words=['code', 'isomorph', 'code', 'extern', 'symbol', 'symbol', 'intern', 'comput', 'carri', 'relev', 'inform', 'properti', 'preserv', ',', 'form', 'easili', 'dealt', '.', 'case', 'point', 'present', '.'], tags=['222']),\n",
       " TaggedDocument(words=['selfciph', ':', 'program'], tags=['223']),\n",
       " TaggedDocument(words=['sequenti', 'formula', 'translat', 'syntax', 'algorithm', 'languag', 'algol', 'conveni', 'sequenc', 'state', 'element', 'call', 'cellar', '.', 'transit', 'control', 'admiss', 'state', '-', 'symbol', 'pair', 'repres', 'transit', 'matrix', '.', 'descript', 'syntax', 'furnish', 'time', 'extrem', 'simpl', 'rule', 'translat', 'machin', 'program', 'statement', 'algorithm', 'languag', '.', 'sequenti', 'treatment', ',', ',', 'feasibl', 'case', 'optim', 'process', 'recurs', 'address', 'calcul', '.'], tags=['224']),\n",
       " TaggedDocument(words=['techniquefor', 'handl', 'macro', 'instruct', '(', 'corrigendum', ')'], tags=['225']),\n",
       " TaggedDocument(words=['solut', 'polynomi', 'equat', 'bairstow', '-', 'hitchcock', 'method', '(', 'algorithm', '3', ')'], tags=['226']),\n",
       " TaggedDocument(words=['rootfind', '(', 'algorithm', '2', ')'], tags=['227']),\n",
       " TaggedDocument(words=['quadi', '(', 'algorithm', '1', ')'], tags=['228']),\n",
       " TaggedDocument(words=['terminolog', 'propos'], tags=['229']),\n",
       " TaggedDocument(words=['propos', 'charact', 'code', 'compat'], tags=['230']),\n",
       " TaggedDocument(words=['propos', 'set', 'public', 'standard', 'acm'], tags=['231']),\n",
       " TaggedDocument(words=['high', '-', 'speed', 'sort', 'procedur'], tags=['232']),\n",
       " TaggedDocument(words=['abstract', '-', 'addit', 'nuclear', 'reactor', 'code'], tags=['233']),\n",
       " TaggedDocument(words=['sap', '-', 'assembl', 'program', 'ibm', '650'], tags=['234']),\n",
       " TaggedDocument(words=['think', 'piec'], tags=['235']),\n",
       " TaggedDocument(words=['soviet', 'cybernet', 'comput', 'articl', 'record', 'observ', 'soviet', 'research', 'technolog', 'cybernet', 'comput', 'scienc', ',', 'made', 'author', 'visit', 'soviet', 'union', 'deleg', 'ifac', 'congress', 'automat', 'control', 'held', 'moscow', 'summer', '1960', '.'], tags=['236']),\n",
       " TaggedDocument(words=['comput', 'product', 'peek', '-', '-', 'boo', 'sheet'], tags=['237']),\n",
       " TaggedDocument(words=['simul', 'analysi', 'biochem', 'system'], tags=['238']),\n",
       " TaggedDocument(words=['ineffici', 'boolean', 'function', 'inform', 'retriev', 'system'], tags=['239']),\n",
       " TaggedDocument(words=['process', 'magnet', 'tape', 'variabl', 'block'], tags=['240']),\n",
       " TaggedDocument(words=['machin', 'calcul', 'moment', 'probabl', 'distribut', 'method', 'present', 'calcul', 'machin', 'moment', 'probabl', 'distribut', ',', 'necessit', 'addit', 'refer', 'memori', 'moment', ',', 'minimum', 'multipl', ',', '2n', 'addit', ',', '2n', 'refer', 'memori', 'requir', 'straightforward', 'method', '(', 'number', 'entri', 'probabl', 'distribut', ').', 'method', 'directli', 'applic', 'tabul', 'distribut', 'exist', ',', 'comput', 'repeat', 'convolut', ';', 'case', 'conserv', 'time', 'accuraci', '.'], tags=['241']),\n",
       " TaggedDocument(words=['note', 'geometr', 'weight', 'check', 'digit', 'verif', 'note', 'describ', 'method', 'util', 'geometr', 'weight', 'modulu', '11', 'check', 'digit', 'comput', 'multipl', 'divis', '.', 'addit', 'attempt', 'made', 'show', 'limit', 'system', '.'], tags=['242']),\n",
       " TaggedDocument(words=['-', 'dimension', 'code', 'detect', 'correct', 'multipl', 'error', 'paper', 'introduc', 'famili', 'code', 'detect', 'correct', 'multipl', 'error', 'binari', '-', 'code', 'messag', '.', 'messag', 'arrang', '(', 'conceptu', ')', 'multidimension', 'rectangular', 'array', '.', 'process', 'encod', 'error', 'detect', 'base', 'pariti', 'evalu', 'prescrib', 'dimens', 'array', '.', 'effect', 'code', 'increas', 'introduc', '\"', 'system', 'check', 'bit', '\",', 'essenti', 'pariti', 'check', 'pariti', 'bit', '.', '-', 'dimension', 'code', 'discuss', 'paper', 'pariti', 'evalu', 'horizont', ',', 'vertic', ',', 'main', 'diagon', '.', ',', 'famili', 'code', 'restrict', 'dimens', ',', 'evidenc', 'discuss', 'minnick', 'ashenhurst', 'similar', 'multidimension', 'singl', '-', 'bit', 'select', 'plan', 'purpos', '[', '6', '].', '-', 'dimension', 'code', ',', 'correct', 'detect', 'error', ',', 'develop', ';', 'extens', 'higher', '-', 'dimension', 'code', 'greater', 'correct', 'power', 'straightforward', '.'], tags=['243']),\n",
       " TaggedDocument(words=['incomplet', 'ellipt', 'integr', '(', 'algorithm', '73', ')'], tags=['244']),\n",
       " TaggedDocument(words=['set', 'associ', 'legendr', 'polynomi', 'kind', '(', 'algorithm', '62', ')'], tags=['245']),\n",
       " TaggedDocument(words=['-', 'squar', 'fit', 'orthogon', 'polynomi', '(', 'algorithm', '28', ')'], tags=['246']),\n",
       " TaggedDocument(words=['incomplet', 'ellipt', 'integr', '(', 'algorithm', '73', ')'], tags=['247']),\n",
       " TaggedDocument(words=['proprietari', 'mathemat', 'program', '?-', 'impress', 'panel', 'discuss', 'panel', 'discuss', '\"', 'proprietari', 'mathemat', 'program', '?\"', 'sponsor', 'special', 'interest', 'committe', 'mathemat', 'program', 'acm', 'hall', 'discuss', '/', 'septemb', '7th', '16th', 'nation', 'acm', 'meet', 'lo', 'angel', '.', 'note', 'consist', 'sole', 'impress', 'garner', 'moder', 'panel', 'necessarili', 'repres', 'posit', 'panelist', 'particip', 'discuss', '.'], tags=['248']),\n",
       " TaggedDocument(words=['specif', 'languag', 'mechan', 'languag', 'processor', '*-', 'baker', \"'\", 'dozen'], tags=['249']),\n",
       " TaggedDocument(words=['engin', 'applic', 'logic', '-', 'structur', 'tabl'], tags=['250']),\n",
       " TaggedDocument(words=['ballist', 'cam', 'design', 'paper', 'present', 'digit', 'comput', 'program', 'rapid', 'calcul', 'manufactur', 'data', 'essenti', 'design', 'preproduct', 'cam', 'util', 'ballist', 'comput', 'tank', 'fire', 'control', 'system', '.', 'cam', 'profil', 'gener', 'introduc', 'superelev', 'angl', 'requir', 'tank', 'main', 'armament', 'type', 'ammunit', '.'], tags=['251']),\n",
       " TaggedDocument(words=['program', 'duplex', 'comput', 'system', 'paper', 'describ', 'method', 'duplex', '-', 'comput', 'program', 'comput', 'militari', 'defens', 'system', '.', 'method', 'combin', 'special', 'program', 'basic', 'data', 'process', 'program', 'packag', '.', 'duplex', 'oper', 'system', 'greater', 'reliabl', '.', 'achiev', 'requir', 'level', 'integr', ',', 'comput', 'similar', 'process', 'input', 'continu', 'cross', '-', 'check', 'intermedi', 'final', 'result', '.'], tags=['252']),\n",
       " TaggedDocument(words=['program', 'ray', '-', 'chaudhuri', \"'\", 'algorithm', 'minimum', 'cover', 'abstract', 'complex'], tags=['253']),\n",
       " TaggedDocument(words=['smalgol', '-', '61', 'prior', '1961', 'western', 'joint', 'comput', 'confer', ',', 'peopl', 'joint', 'user', 'group', 'express', 'interest', 'defin', '\"', 'smalgol', '\"', 'languag', '.', 'algol', 'languag', 'compil', 'small', 'size', 'comput', '.', 'preliminari', 'report', 'result', '.', 'acm', 'nation', 'confer', 'month', 'later', ',', 'consid', 'counter', 'propos', ',', 'final', 'version', 'agre', 'subcommitte', '.', 'recommend', 'subcommitte', 'standard', 'subset', 'algol', '60', 'small', 'comput', 'present', '.'], tags=['254']),\n",
       " TaggedDocument(words=['augment', '(', 'algorithm', '68', ')'], tags=['255']),\n",
       " TaggedDocument(words=['set', 'test', 'matric', '(', 'algorithm', '52', ')'], tags=['256']),\n",
       " TaggedDocument(words=['invert', '(', 'algorithm', '42', ')'], tags=['257']),\n",
       " TaggedDocument(words=['composit', 'gener', '(', 'algorithm', '72', ')'], tags=['258']),\n",
       " TaggedDocument(words=['permut', '(', 'algorithm', '71', ')'], tags=['259']),\n",
       " TaggedDocument(words=['interpol', 'aitken', '(', 'algorithm', '70', ')'], tags=['260']),\n",
       " TaggedDocument(words=['tape', 'split'], tags=['261']),\n",
       " TaggedDocument(words=['map'], tags=['262']),\n",
       " TaggedDocument(words=['librari', 'load', 'altern', 'routin', 'select'], tags=['263']),\n",
       " TaggedDocument(words=['gener', 'polyphas', 'merg', 'algorithm'], tags=['264']),\n",
       " TaggedDocument(words=['low', 'level', 'languag', 'subroutin', 'fortran', 'paper', 'describ', 'subroutin', ',', 'code', 'symbol', 'languag', 'fortran', 'code', 'program', ',', 'deal', '\"', 'special', 'arithmet', '\"', '(', '.', '.', 'multi', '-', 'precis', 'arithmet', '),', 'symbol', 'manipul', ',', 'bit', 'manipul', 'expand', 'charact', 'set', 'input', '-', 'output', ',', 'visual', 'display', '.'], tags=['265']),\n",
       " TaggedDocument(words=['fit', 'sphere', 'method', 'squar'], tags=['266']),\n",
       " TaggedDocument(words=['propos', 'improv', 'effici', 'algol', '60'], tags=['267']),\n",
       " TaggedDocument(words=['stochast', 'evalu', 'static', 'storag', 'alloc'], tags=['268']),\n",
       " TaggedDocument(words=['core', 'alloc', 'base', 'probabl'], tags=['269']),\n",
       " TaggedDocument(words=['techniqu', 'storag', 'alloc', 'algorithm'], tags=['270']),\n",
       " TaggedDocument(words=['semi', '-', 'automat', 'storag', 'alloc', 'system', 'load', 'time'], tags=['271']),\n",
       " TaggedDocument(words=['storag', 'alloc', 'scheme', 'algol', '60', 'storag', 'alloc', 'scheme', 'machin', '2048', 'instruct', 'core', 'store', 'magnet', 'drum', '.', 'drum', 'store', 'program', 'block', '/', 'data', 'direct', 'programm', 'auxiliari', 'inform', 'algol', 'program', '.', 'administr', 'routin', 'control', 'storag', 'run', 'time', 'full', '.', 'detail', '.'], tags=['272']),\n",
       " TaggedDocument(words=['experi', 'automat', 'storag', 'alloc'], tags=['273']),\n",
       " TaggedDocument(words=['dynam', 'storag', 'alloc', 'atla', 'comput', ',', 'includ', 'automat', 'back', 'store'], tags=['274']),\n",
       " TaggedDocument(words=['dynam', 'storag', 'alloc', 'inform', 'retriev', 'system'], tags=['275']),\n",
       " TaggedDocument(words=['program', 'organ', 'record', 'keep', 'dynam', 'storag', 'alloc', 'materi', 'present', 'paper', 'part', 'design', 'plan', 'core', 'alloc', 'portion', 'ascii', '-', 'matic', 'program', 'system', '.', 'project', 'ascii', '-', 'matic', 'concern', 'applic', 'comput', 'techniqu', 'activ', 'headquart', 'militari', 'intellig', 'oper', '.', '.', 'armi', '.'], tags=['276']),\n",
       " TaggedDocument(words=['problem', 'storag', 'alloc', 'multiprocessor', 'multiprogram', 'system'], tags=['277']),\n",
       " TaggedDocument(words=['gener', 'formul', 'storag', 'alloc', 'formal', 'gener', 'comput', 'storag', 'alloc', 'process', 'attempt', '.', 'comput', 'fictiti', 'comput', \"'\", 'essenti', 'ident', 'respect', 'possess', 'unbound', 'primari', 'storag', '.', 'map', 'total', 'storag', 'set', '(', 'intern', 'extern', ')', 'direct', 'address', 'set', \"'\", 'introduc', '.', 'program', 'sequenc', \"'\", 'term', '-', 'admiss', '(', 'rel', 'specif', 'execut', 'time', 'period', ')', 'map', 'underwhich', 'effect', 'data', 'refer', 'locat', 'direct', 'address', 'set', '.', 'storag', 'alloc', 'consid', 'process', 'establish', 'arbitrari', \"'\", 'program', 'sequenc', 'map', ',', 'decoupl', 'program', '-', 'admiss', 'subprogram', 'link', 'set', 'interlud', '.', 'exist', 'proof', 'term', 'complet', 'interpret', 'program', '.', 'special', 'case', 'discuss', '.', 'restrict', 'gener', \"'\", 'program', 'consid', 'practic', 'realiz', 'alloc', 'process', 'tractabl', '.'], tags=['278']),\n",
       " TaggedDocument(words=['case', 'dynam', 'storag', 'alloc'], tags=['279']),\n",
       " TaggedDocument(words=['preplan', 'approach', 'storag', 'alloc', 'compil'], tags=['280']),\n",
       " TaggedDocument(words=['put', 'hex', '^', 'recent', 'note', 'approxim', 'natur', 'antilog', 'consid', 'indirect', 'formul', 'describ', '^', '.', 'note', 'produc', 'famili', 'fast', ',', 'high', 'precis', 'emin', 'practic', 'exponenti', 'evalu', 'formula', 'deriv', 'formul', '.'], tags=['281']),\n",
       " TaggedDocument(words=['optimum', 'tape', '-', 'write', 'procedur', 'consid', 'magnet', 'tape', 'system', 'read', 'check', 'write', '.', 'error', 'occur', 'write', 'record', ',', 'program', 'error', 'routin', 'bypass', 'area', 'tape', 'tri', 'rewrit', 'record', 'area', '.', 'paper', 'evalu', 'procedur', 'basi', 'expect', 'loss', 'comput', 'time', 'develop', 'decis', 'rule', 'select', 'optimum', 'procedur', '.', 'rule', 'depend', 'critic', 'number', 'time', 'tape', 'written', 'futur', '.', 'case', 'optimum', 'procedur', 'bypass', 'area', ',', 'decis', '-', 'size', 'area', 'bypass', '-', '.', 'formula', 'develop', 'determin', 'optimum', 'area', 'bypass', 'procedur', '.'], tags=['282']),\n",
       " TaggedDocument(words=['invers', 'complex', 'matrix'], tags=['283']),\n",
       " TaggedDocument(words=['manipul', 'algebra', 'express', 'algorithm', 'algebra', 'manipul', 'express', 'form', 'sum', '{', 'cipi', ',', '=', '1', ',...,', '};', 'develop', 'conjunct', 'develop', 'program', 'system', 'analysi', 'problem', '.', 'algorithm', 'enablesu', 'deriv', '-', 'system', 'transfer', 'function', 'algebra', 'block', 'diagram', 'linear', 'continu', 'multi', '-', 'loop', 'feedback', 'system', '.', 'machin', 'represent', 'deriv', 'express', ',', ',', 'virtu', 'algorithm', ',', 'form', 'simplifi', 'task', 'compil', '.', 'algorithm', 'develop', 'purpos', 'connect', 'system', 'analysi', 'studi', '.', ',', 'applic', 'mathemat', 'devic', 'extend', 'confin', 'origin', 'problem', '.'], tags=['284']),\n",
       " TaggedDocument(words=['solut', 'tridiagon', 'matric'], tags=['285']),\n",
       " TaggedDocument(words=['iter', 'method', 'invers', 'power', 'seri'], tags=['286']),\n",
       " TaggedDocument(words=['gener', 'import', 'event', 'techniqu'], tags=['287']),\n",
       " TaggedDocument(words=['syntact', 'chart', 'algol', '60'], tags=['288']),\n",
       " TaggedDocument(words=['critic', 'path', 'schedul', '(', 'algorithm', '40', ')'], tags=['289']),\n",
       " TaggedDocument(words=['chain', 'trace', '(', 'algorithm', '69', ')'], tags=['290']),\n",
       " TaggedDocument(words=['mobol', 'preparingretriev', 'program'], tags=['291']),\n",
       " TaggedDocument(words=['inform', 'retriev', 'languag', 'legal', 'studi'], tags=['292']),\n",
       " TaggedDocument(words=['appli', 'mathemat', 'laboratori', 'david', '.', 'taylor', 'model', 'basin'], tags=['293']),\n",
       " TaggedDocument(words=['imaginari', 'number', 'system'], tags=['294']),\n",
       " TaggedDocument(words=['ration', 'approxim', 'error', 'function', 'similar', 'function'], tags=['295']),\n",
       " TaggedDocument(words=['note', 'multipl', 'precis', 'arithmet'], tags=['296']),\n",
       " TaggedDocument(words=['note', 'fit', 'great', 'circl', 'squar'], tags=['297']),\n",
       " TaggedDocument(words=['48', '-', 'bit', 'pseudo', '-', 'random', 'number', 'gener', '48', '-', 'bit', 'pseudo', '-', 'random', 'number', 'gener', ',', 'suitabl', 'comput', ',', 'test', 'statist', 'random', 'determin', 'adequaci', 'mont', 'carlo', 'program', '.', 'frequenc', 'test', ',', 'distribut', 'low', '-', 'order', 'moment', ',', 'run', ',', 'run', 'mean', 'appli', '-', 'half', 'million', 'gener', 'number', 'lie', 'interv', '(', '0', ',', '1', ')', 'set', 'integ', 'obtain', 'bit', 'gener', 'number', '.', 'test', 'substanti', 'random', 'number', 'set', 'integ', 'come', 'signific', 'bit', '.'], tags=['298']),\n",
       " TaggedDocument(words=['gener', 'polyphas', 'merg', 'algorithm'], tags=['299']),\n",
       " TaggedDocument(words=['cobol', ':', 'sampl', 'problem', 'simplifi', 'merchandis', 'control', 'problem', 'chosen', 'present', 'cobol', 'user', 'potenti', 'user', 'comput', 'system', '.', 'mythic', 'depart', 'store', ',', '\"', '.', 'languag', 'bro', '.,', '.\",', 'program', 'cobol', 'languag', 'run', 'comput', '.'], tags=['300']),\n",
       " TaggedDocument(words=['set', 'test', 'matric', '(', 'algorithm', '52', ')'], tags=['301']),\n",
       " TaggedDocument(words=['augment', '(', 'algorithm', '68', ')'], tags=['302']),\n",
       " TaggedDocument(words=['basic', 'terminolog', 'connect', 'mechan', 'languag', 'processor', 'suggest', 'paper', 'part', 'terminolog', 'work', 'univers', 'pennsylvania', \"'\", 'offic', 'comput', 'research', 'educ', '.', 'work', 'jointli', 'support', 'nation', 'scienc', 'foundat', 'air', 'forc', 'offic', 'scientif', 'research', '.'], tags=['303']),\n",
       " TaggedDocument(words=['nth', 'root', 'complex', 'number', '(', 'algorithm', '53', ')'], tags=['304']),\n",
       " TaggedDocument(words=['cram', '(', 'algorithm', '67', ')'], tags=['305']),\n",
       " TaggedDocument(words=['invr', '(', 'algorithm', '66', ')'], tags=['306']),\n",
       " TaggedDocument(words=['find', '(', 'algorithm', '65', ')'], tags=['307']),\n",
       " TaggedDocument(words=['quicksort', '(', 'algorithm', '64', ')'], tags=['308']),\n",
       " TaggedDocument(words=['partit', '(', 'algorithm', '63', ')'], tags=['309']),\n",
       " TaggedDocument(words=['set', 'associ', 'legendr', 'polynomi', 'kind', '(', 'algorithm', '62', ')'], tags=['310']),\n",
       " TaggedDocument(words=['procedur', 'rang', 'arithmet', '(', 'algorithm', '61', ')'], tags=['311']),\n",
       " TaggedDocument(words=['note', 'approxim', '^'], tags=['312']),\n",
       " TaggedDocument(words=['iter', 'method', 'invers', 'power', 'seri'], tags=['313']),\n",
       " TaggedDocument(words=['divisionless', 'method', 'integ', 'convers'], tags=['314']),\n",
       " TaggedDocument(words=['solut', 'tridiagon', 'matric'], tags=['315']),\n",
       " TaggedDocument(words=['algorithm', 'equival', 'declar'], tags=['316']),\n",
       " TaggedDocument(words=['approxim', 'curv', 'line', 'segment', 'dynam', 'program'], tags=['317']),\n",
       " TaggedDocument(words=['combat', 'vehicl', 'fire', 'stabil', '(', 'activ', 'suspens', ')'], tags=['318']),\n",
       " TaggedDocument(words=['class', 'iter', 'formula', 'histor', 'note', 'class', 'iter', 'formula', 'obtain', 'ration', 'approxim', '\"', 'euler', \"'\", 'formula', '\"', 'deriv', 'error', 'estim', '.', 'histor', 'note', 'iter', 'procedur', 'deriv', 'euler', \"'\", 'formula', 'error', 'estim', 'notat', 'simplifi', 'error', 'estim', 'suggest', 'gener', '.', 'final', 'section', 'consid', 'pade', 'approxim', '\"', 'euler', 'polynomi', '\"', 'show', 'number', 'known', 'formula', 'deriv', 'unifi', 'approach', '.', 'short', 'discuss', '\"', '\"', 'formula', '.'], tags=['319']),\n",
       " TaggedDocument(words=['logic', '-', 'structur', 'tabl', 'logic', 'tabl', 'excel', 'develop', 'express', 'logic', 'requir', 'procedur', ',', 'oper', ',', 'system', 'circuit', '.', 'set', 'rule', 'write', 'logic', 'tabl', 'explain', 'mean', 'simpl', 'exampl', '.', 'logic', 'structur', 'vend', 'machin', 'logic', 'tabl', '.', 'logic', 'tabl', '-', 'dimension', 'natur', ',', 'enabl', 'fulli', 'express', 'consid', 'sequenti', 'parallel', 'aspect', 'logic', '.', 'compil', 'directli', 'comput', 'program', 'elimin', 'need', 'flow', 'chart', 'hand', 'code', '.'], tags=['320']),\n",
       " TaggedDocument(words=['algol', '60', 'confidenti', 'algol', '60', 'report', ',*', 'encount', ',', 'describ', 'complex', 'languag', 'difficult', 'learn', '.', '\"', 'metalinguist', 'formula', '\"', 'admir', 'serv', 'purpos', 'precis', 'languag', ',', 'certainli', 'readabl', 'beginn', '.', ',', 'experi', 'shown', 'report', 'explain', 'fact', 'easi', 'learn', 'algol', 'write', 'algorithm', '.', 'languag', 'gener', 'power', 'handl', 'enorm', 'class', 'problem', '.', 'hard', 'learn', 'part', 'algol', 'present', 'compil', 'languag', ':', 'write', 'assign', 'statement', ',', '.', ',', 'lot', 'unnecessari', 'restrict', 'impos', 'compil', 'languag', 'final', 'lift', '.', 'algol', 'unobvi', 'thing', 'written', ',', 'later', ',', 'lie', 'problem', ':', 'algol', 'gener', '.', 'restrict', 'lift', 'lot', 'technic', 'detail', 'crop', 'hard', 'learn', 'correctli', '.', 'paper', 'obscur', 'featur', 'languag', 'consid', 'use', 'discuss', '.', 'remark', 'base', 'author', \"'\", 'interpret', 'algol', '60', 'report', '.'], tags=['321']),\n",
       " TaggedDocument(words=['oper', 'compat', 'system', '-', 'convent', 'gener', 'standard', 'committe', 'share', 'organ', 'devot', 'consider', 'effort', 'problem', 'oper', 'comput', 'effici', 'view', 'grow', 'number', 'program', 'system', '.', 'program', 'system', 'code', 'util', 'fix', 'set', 'hardwar', 'compon', 'recogn', 'fact', 'occupi', 'storag', 'medium', 'requir', '.', 'incompat', 'resolv', 'manual', 'set', 'comput', 'system', 'requir', '.', 'set', 'convent', 'consid', 'minim', 'comput', 'set', '-', 'time', '.', 'suffici', 'broad', 'interest', 'feel', 'comput', 'user', 'awar', '.', '-', 'georg', '.', 'ryckman', ',', 'chairman'], tags=['322']),\n",
       " TaggedDocument(words=['state', 'digit', 'comput', 'technolog', 'europ'], tags=['323']),\n",
       " TaggedDocument(words=['romberg', 'integr', '(', 'algorithm', '60', ')'], tags=['324']),\n",
       " TaggedDocument(words=['numer', 'solut', 'polynomi', 'equat', '(', 'algorithm', '30', ')'], tags=['325']),\n",
       " TaggedDocument(words=['mathsort', '(', 'algorithm', '23', ')'], tags=['326']),\n",
       " TaggedDocument(words=['zero', 'real', 'polynomi', 'result', 'procedur', '(', 'algorithm', '59', ')'], tags=['327']),\n",
       " TaggedDocument(words=['matrix', 'invers', '(', 'algorithm', '58', ')'], tags=['328']),\n",
       " TaggedDocument(words=['automat', 'abstract', 'index', 'survey', 'recommend', 'prepar', 'widespread', 'automat', 'scanner', 'read', 'document', 'transmit', 'content', 'machin', 'analysi', ',', 'report', 'present', 'concept', 'automat', 'analysi', ':', 'rel', '-', 'frequenc', 'approach', 'measur', 'signific', 'word', ',', 'word', 'group', ',', 'sentenc', '.', 'rel', '-', 'frequenc', 'approach', 'discuss', 'detail', ',', 'applic', 'problem', 'automat', 'index', 'automat', 'abstract', '.', 'includ', 'report', 'summari', 'automat', 'analysi', 'studi', 'publish', 'date', 'write', '.', 'conclus', 'point', 'sophist', 'mathemat', 'linguist', 'techniqu', 'solut', 'problem', 'automat', 'analysi', '.'], tags=['329']),\n",
       " TaggedDocument(words=['method', 'evalu', 'area', 'normal', 'function'], tags=['330']),\n",
       " TaggedDocument(words=['success', 'approxim', 'comput', 'storag', 'problem', 'ordinari', 'differenti', 'equat'], tags=['331']),\n",
       " TaggedDocument(words=['indirect', 'chain', 'method', 'address', 'secondari', 'key', 'method', 'enter', 'random', 'access', 'basi', 'key', 'briefli', 'survey', '.', 'wide', 'chain', 'method', ',', 'base', 'pseudo', '-', 'random', 'key', 'transform', ',', 'review', 'detail', '.', 'effici', 'gener', 'chain', 'method', 'permit', 'recoveri', 'addit', 'key', 'present', '.'], tags=['332']),\n",
       " TaggedDocument(words=['design', 'improv', '*', 'transmiss', '/', 'data', 'process', 'code'], tags=['333']),\n",
       " TaggedDocument(words=['divis', 'squar', 'root', 'quater', '-', 'imaginari', 'number', 'system'], tags=['334']),\n",
       " TaggedDocument(words=['numer', 'experi', 'newton', \"'\", 'method', 'nonlinear', 'parabol', 'ellipticboundari', '-', 'problem', 'gener', 'newton', \"'\", 'method', ',', 'nonlinear', 'parabol', 'equat', 'form', '(', ')-', '(', 'xx', ')=', '(', ')', 'nonlinear', 'ellipt', 'equat', '(', 'xx', ')+', '(', 'yy', ')=', 'exp', '(', ')', 'solv', 'numer', 'comparison', 'result', 'result', 'obtain', 'picard', 'iter', 'procedur', 'show', 'case', 'quisi', 'linear', 'method', 'offer', 'substanti', 'advantag', 'time', 'accuraci', '.'], tags=['335']),\n",
       " TaggedDocument(words=['practic', 'techniqu', 'determin', 'optimum', 'relax', 'factor', 'success', '-', 'relax', 'method'], tags=['336']),\n",
       " TaggedDocument(words=['survey', 'punch', 'card', 'code'], tags=['337']),\n",
       " TaggedDocument(words=['grout', 'ii', '(', 'algorithm', '43', ')'], tags=['338']),\n",
       " TaggedDocument(words=['real', 'exponenti', 'integr', '(', 'algorithm', '20', ')'], tags=['339']),\n",
       " TaggedDocument(words=['legendr', 'polynomi', '(', 'algorithm', '13', ')'], tags=['340']),\n",
       " TaggedDocument(words=['chebyschev', 'polynomi', '(', 'algorithm', '10', ')'], tags=['341']),\n",
       " TaggedDocument(words=['solut', 'polynomi', 'equat', 'barstow', '-', 'hitchcock', '(', 'algorithm', '3', ')'], tags=['342']),\n",
       " TaggedDocument(words=['frequent', 'occur', 'error', 'algol', '60', 'program', '(', 'algorithm', '25', ')'], tags=['343']),\n",
       " TaggedDocument(words=['ber', 'bei', 'function', '(', 'algorithm', '57', ')'], tags=['344']),\n",
       " TaggedDocument(words=['complet', 'ellipt', 'integr', 'kind', '(', 'algorithm', '56', ')'], tags=['345']),\n",
       " TaggedDocument(words=['complet', 'ellipt', 'integr', 'kind', '(', 'algorithm', '55', ')'], tags=['346']),\n",
       " TaggedDocument(words=['gamma', 'function', 'rang', '1', '2', '(', 'algorithm', '54', ')'], tags=['347']),\n",
       " TaggedDocument(words=['nth', 'root', 'complex', 'number', '(', 'algorithm', '53', ')'], tags=['348']),\n",
       " TaggedDocument(words=['set', 'test', 'matric'], tags=['349']),\n",
       " TaggedDocument(words=['adjust', 'invers', 'matrix', 'element', 'perturb', '(', 'algorithm', '51', ')'], tags=['350']),\n",
       " TaggedDocument(words=['invers', 'finit', 'segment', 'hilbert', 'matrix', '(', 'algorithm', '50', ')'], tags=['351']),\n",
       " TaggedDocument(words=['spheric', 'neumant', 'function', '(', 'algorithm', '49', ')'], tags=['352']),\n",
       " TaggedDocument(words=['logarithm', 'complex', 'number', '(', 'algorithm', '48', ')'], tags=['353']),\n",
       " TaggedDocument(words=['legendr', 'function', 'kind', 'real', 'imaginari', 'argument', '(', 'algorithm', '47', ')'], tags=['354']),\n",
       " TaggedDocument(words=['exponenti', 'complex', 'number', '(', 'algorithm', '46', ')'], tags=['355']),\n",
       " TaggedDocument(words=['interest', '(', 'algorithm', '45', ')'], tags=['356']),\n",
       " TaggedDocument(words=['bessel', 'function', 'comput', 'recurs', '(', 'algorithm', '44', ')'], tags=['357']),\n",
       " TaggedDocument(words=['crout', 'pivot', 'ii', '(', 'algorithm', '43', ')'], tags=['358']),\n",
       " TaggedDocument(words=['invert', '(', 'algorithm', '42', ')'], tags=['359']),\n",
       " TaggedDocument(words=['evalu', 'determin', '(', 'algorithm', '41', ')'], tags=['360']),\n",
       " TaggedDocument(words=['program', 'error', 'correct', 'decim', 'comput'], tags=['361']),\n",
       " TaggedDocument(words=['tabl', 'look', '-', 'techniqu'], tags=['362']),\n",
       " TaggedDocument(words=['approxim', 'transcendent', 'number', 'continu', 'fraction'], tags=['363']),\n",
       " TaggedDocument(words=['compil', 'subscript', 'variabl'], tags=['364']),\n",
       " TaggedDocument(words=['bessel', 'function', 'integr', 'order', 'complex', 'argument'], tags=['365']),\n",
       " TaggedDocument(words=['eigenvalu', 'symmetr', '3', '3', 'matrix'], tags=['366']),\n",
       " TaggedDocument(words=['topolog', 'order', 'list', 'randomli', '-', 'number', 'element', 'network', 'network', 'direct', 'line', 'segment', 'free', 'circular', 'element', 'assum', '.', 'line', 'identifi', 'termin', 'node', 'node', 'assum', 'number', 'non', '-', 'topolog', 'system', '.', 'list', 'line', 'numer', 'order', ',', 'simpl', 'techniqu', 'creat', 'high', 'speed', 'list', 'topolog', 'order', '.'], tags=['367']),\n",
       " TaggedDocument(words=['real', 'zero', 'arbitrari', 'function', '(', 'algorithm', '25', ')'], tags=['368']),\n",
       " TaggedDocument(words=['crout', 'pivot', '(', 'algorithm', '16', ')'], tags=['369']),\n",
       " TaggedDocument(words=['bisect', 'routin', '(', 'algorithm', '4', ')'], tags=['370']),\n",
       " TaggedDocument(words=['remark', 'algorithm', '2', '3', ',', 'algorithm', '15', 'algorithm', '25', '26'], tags=['371']),\n",
       " TaggedDocument(words=['critic', 'path', 'schedul', '(', 'algorithm', '40', ')'], tags=['372']),\n",
       " TaggedDocument(words=['correl', 'coeffici', 'matrix', 'multipl', '(', 'algorithm', '39', ')'], tags=['373']),\n",
       " TaggedDocument(words=['telescope2', '(', 'algorithm', '38', ')'], tags=['374']),\n",
       " TaggedDocument(words=['telescope1', '(', 'algorithm', '37', ')'], tags=['375']),\n",
       " TaggedDocument(words=['tchebycheff', '(', 'algorithm', '36', ')'], tags=['376']),\n",
       " TaggedDocument(words=['siev', '(', 'algorithm', '35', ')'], tags=['377']),\n",
       " TaggedDocument(words=['gener', 'techniqu', 'symbol', 'manipul', 'numer', 'calcul'], tags=['378']),\n",
       " TaggedDocument(words=['bitwis', 'oper'], tags=['379']),\n",
       " TaggedDocument(words=['comparison', 'iter', 'method', 'calcul', 'nth', 'root', 'iter', 'method', 'calcul', 'nth', 'root', '(', 'includ', 'propos', 'author', ')', 'compar', 'way', ':', '(', '1', ')', 'theoret', 'converg', 'estim', '.', '(', '2', ')', 'macrocompil', 'estim', 'machin', 'run', 'time', 'compar', 'run', 'time', 'method', 'varieti', 'input', 'data', '.'], tags=['380']),\n",
       " TaggedDocument(words=['altern', 'form', '\"', 'uncol', 'diagram', '\"'], tags=['381']),\n",
       " TaggedDocument(words=['statist', 'program', 'univers', 'north', 'carolina'], tags=['382']),\n",
       " TaggedDocument(words=['find', 'minimum', 'rout', 'network', 'turn', 'penalti'], tags=['383']),\n",
       " TaggedDocument(words=['gamma', 'function', '(', 'algorithm', '34', ')'], tags=['384']),\n",
       " TaggedDocument(words=['factori', '(', 'algorithm', '33', ')'], tags=['385']),\n",
       " TaggedDocument(words=['multint', '(', 'algorithm', '32', ')'], tags=['386']),\n",
       " TaggedDocument(words=['gamma', 'function', '(', 'algorithm', '31', ')'], tags=['387']),\n",
       " TaggedDocument(words=['solut', 'polynomi', 'equat', 'bairstow', 'hitchcock', 'method', '(', 'algorithm', '3', ')'], tags=['388']),\n",
       " TaggedDocument(words=['real', 'exponenti', 'integr', '(', 'algorithm', '20', ')'], tags=['389']),\n",
       " TaggedDocument(words=['complex', 'exponenti', 'integr', '(', 'algorithm', '13', ')'], tags=['390']),\n",
       " TaggedDocument(words=['bk', 'system', 'philco', '-', '2000'], tags=['391']),\n",
       " TaggedDocument(words=['comment', 'paper', 'parallel', 'process'], tags=['392']),\n",
       " TaggedDocument(words=['subroutin', 'symbol', 'manipul', 'algebra', 'compil'], tags=['393']),\n",
       " TaggedDocument(words=['multipl', 'program', 'data', 'process'], tags=['394']),\n",
       " TaggedDocument(words=['multipl', '-', 'precis', 'divis'], tags=['395']),\n",
       " TaggedDocument(words=['autom', 'program', 'debug', 'automat', 'debug', 'substanti', 'reduc', 'lead', '-', 'time', 'code', 'effect', 'complex', 'program', '.', 'enforc', 'analysi', 'debug', 'criteria', ',', 'result', 'verifi', 'accur', 'program', '.', 'programm', 'specifi', 'program', 'debug', ',', 'memori', 'area', ',', 'set', 'input', 'data', ',', 'maximum', 'repetit', 'loop', ',', 'checkpoint', 'inform', 'set', 'data', '.', 'execut', 'debug', 'program', 'run', 'program', 'debug', ',', 'perform', 'check', 'function', 'creat', 'trace', 'record', 'later', 'analysi', 'locat', 'error', '.', 'applic', 'flexibl', ',', 'system', 'conjunct', 'debug', 'techniqu', '.'], tags=['396']),\n",
       " TaggedDocument(words=['card', 'format', 'refer', 'inform', 'process', 'paper', 'propos', 'card', 'format', 'suitabl', 'varieti', 'refer', 'inform', 'process', '.', '80', '-', 'column', 'ibm', 'card', 'divid', 'field', '-', 'refer', 'materi', 'field', '(', 'column', '1', '-', '67', ')', 'identif', 'field', '(', 'column', '68', '-', '80', ').', 'format', 'refer', 'materi', 'flexibl', ',', 'format', 'identif', 'rigid', '.', 'refer', 'materi', 'includ', 'basic', 'index', ',', 'titl', ',', 'sourc', ',', 'class', ',', 'summari', 'cross', 'refer', 'entri', '.', 'identif', 'includ', 'basic', 'code', 'matrix', 'descriptor', ',', 'entri', 'number', ',', 'kind', ',', 'major', 'interest', ',', 'sourc', 'refer', '.', 'identif', 'choic', 'identifi', 'materi', 'person', 'gener', '.', 'card', 'format', 'suffici', 'identifi', 'materi', 'refer', 'book', ',', 'articl', ',', 'program', 'term', ',', 'hardwar', 'term', ',', 'equip', ',', 'machin', 'system', ',', 'abbrevi', ',', '.,', 'suitabl', 'standard', 'card', 'refer', 'inform', 'process', '.'], tags=['397']),\n",
       " TaggedDocument(words=['slang', 'system'], tags=['398']),\n",
       " TaggedDocument(words=['compil', 'techniqu', 'boolean', 'express', 'condit', 'statement', 'algol', '60'], tags=['399']),\n",
       " TaggedDocument(words=['comment', 'implement', 'recurs', 'procedur', 'block', 'algol', '60'], tags=['400']),\n",
       " TaggedDocument(words=['alloc', 'storag', 'array', 'algol', '60'], tags=['401']),\n",
       " TaggedDocument(words=['dynam', 'declar'], tags=['402']),\n",
       " TaggedDocument(words=['thunk', '--', 'compil', 'procedur', 'statement', 'comment', 'procedur', 'declar'], tags=['403']),\n",
       " TaggedDocument(words=['syntax', 'direct', 'compil', 'algol', '60'], tags=['404']),\n",
       " TaggedDocument(words=['algorithm', 'code', 'effici', 'arithmet', 'oper', 'exist', 'formula', 'translat', 'scheme', 'yield', 'ineffici', 'code', '.', 'method', 'reduc', 'number', 'store', 'fetch', 'oper', ',', 'evalu', 'constant', 'subexpress', 'compil', ',', 'recogn', 'equival', 'subexpress', '.'], tags=['405']),\n",
       " TaggedDocument(words=['thread', 'list', 'construct', 'combin', 'algol', 'machin', '-', 'assembl', 'processor'], tags=['406']),\n",
       " TaggedDocument(words=['madcap', ':', 'scientif', 'compil', 'display', 'formula', 'textbook', 'languag'], tags=['407']),\n",
       " TaggedDocument(words=['intern', 'organ', 'mad', 'translat'], tags=['408']),\n",
       " TaggedDocument(words=['cl', '-', '1', ',', 'environ', 'compil', 'flexibl', ',', 'larg', '-', 'scale', 'program', 'system', 'facilit', 'solut', 'inform', 'process', 'problem', 'provid', 'intercommun', 'program', '/', 'programm', 'develop', 'realiz', 'ibm', '709', '/', '7090', 'comput', '.', 'system', 'base', 'master', 'concept', 'provis', 'accept', ',', 'store', ',', 'retriev', 'descript', 'instanc', 'larg', 'complex', 'data', 'set', ',', 'algorithm', 'defin', 'data', 'set', '.', 'data', 'algorithm', 'express', 'famili', 'command', 'descript', 'languag', '.', 'concept', 'distinct', 'data', 'descript', 'content', 'descript', 'discuss', 'detail', '.'], tags=['409']),\n",
       " TaggedDocument(words=['clip', 'translat'], tags=['410']),\n",
       " TaggedDocument(words=['magnet', 'tape', 'data', 'storag', 'oracl', '-', 'algol', 'translat'], tags=['411']),\n",
       " TaggedDocument(words=['recurs', 'process', 'algol', 'translat'], tags=['412']),\n",
       " TaggedDocument(words=['basic', 'compil', 'arithmet', 'express'], tags=['413']),\n",
       " TaggedDocument(words=['ibm', '1440', 'data', 'process', 'system', 'featur', 'unit', 'ibm', '1440', 'data', 'process', 'system', ',', 'announc', 'recent', 'intern', 'busi', 'machin', 'corpor', ',', 'featur', '1311', 'disk', 'storag', 'drive', 'interchang', 'disk', 'pack', 'newli', 'develop', 'unit', '.'], tags=['414']),\n",
       " TaggedDocument(words=['digit', 'comput', 'western', 'germani'], tags=['415']),\n",
       " TaggedDocument(words=['multipl', 'shoot', 'method', '-', 'point', 'boundari', 'problem'], tags=['416']),\n",
       " TaggedDocument(words=['legal', 'implic', 'comput', 'paper', 'point', 'varieti', 'way', 'comput', 'system', 'busi', 'industri', 'involv', 'legal', 'entangl', 'suggest', 'comput', 'specialist', 'respons', 'call', 'assist', 'forestal', 'minim', 'entangl', 'plan', 'stage', '.', 'techniqu', 'suggest', 'make', 'legal', 'clearanc', 'effect', 'burden', 'technolog', 'achiev', 'favor', 'legal', 'climat', 'gener', '.', 'comput', 'specialist', 'alert', 'potenti', 'opportun', 'interpret', 'lawyer', 'technic', 'aspect', 'comput', 'system', 'involv', 'legal', 'situat', '.'], tags=['417']),\n",
       " TaggedDocument(words=['random', '(', 'algorithm', '133', ')'], tags=['418']),\n",
       " TaggedDocument(words=['magic', 'squar', '(', 'algorithm', '118', ')'], tags=['419']),\n",
       " TaggedDocument(words=['perm', '(', 'algorithm', '115', ')'], tags=['420']),\n",
       " TaggedDocument(words=['posit', 'point', 'rel', 'polygon', '(', 'algorithm', '112', ')'], tags=['421']),\n",
       " TaggedDocument(words=['combin', '(', 'algorithm', '94', ')'], tags=['422']),\n",
       " TaggedDocument(words=['matrix', 'invers', '(', 'algorithm', '58', ')'], tags=['423']),\n",
       " TaggedDocument(words=['gamma', 'function', '(', 'algorithm', '31', ')'], tags=['424']),\n",
       " TaggedDocument(words=['complet', 'ellipt', 'integr', '(', 'algorithm', '149', ')'], tags=['425']),\n",
       " TaggedDocument(words=['term', 'magic', 'squar', '(', 'algorithm', '148', ')'], tags=['426']),\n",
       " TaggedDocument(words=['psif', '(', 'algorithm', '147', ')'], tags=['427']),\n",
       " TaggedDocument(words=['multipl', 'integr', '(', 'algorithm', '146', ')'], tags=['428']),\n",
       " TaggedDocument(words=['adapt', 'nimer', 'integr', 'simpson', \"'\", 'rule', '(', 'algorithm', '145', ')'], tags=['429']),\n",
       " TaggedDocument(words=['treesort2', '(', 'algorithm', '144', ')'], tags=['430']),\n",
       " TaggedDocument(words=['treesort1', '(', 'algorithm', '143', ')'], tags=['431']),\n",
       " TaggedDocument(words=['triangular', 'regress', '(', 'algorithm', '142', ')'], tags=['432']),\n",
       " TaggedDocument(words=['fix', '-', 'world', '-', 'length', 'array', 'variabl', '-', 'word', '-', 'length', 'comput'], tags=['433']),\n",
       " TaggedDocument(words=['charact', 'manipul', '1620', 'fortran', 'ii'], tags=['434']),\n",
       " TaggedDocument(words=['decis', 'matrix', 'basi', 'simpl', 'data', 'input', 'routin', 'great', 'deal', 'time', 'effort', 'spent', 'develop', 'bigger', 'compil', 'languag', ',', 'multiprogram', 'execut', 'system', ',', '.', 'implement', 'method', 'procedur', 'instantan', ',', 'occur', 'evolutionari', 'process', ',', 'concern', 'problem', 'maintain', ',', 'improv', 'incorpor', 'idea', 'exist', 'system', '.', 'neglect', 'area', 'author', 'interest', '.', 'method', 'employ', 'decis', 'matrix', 'present', 'handl', 'standard', 'system', 'program', 'problem', ',', 'provid', 'data', 'input', 'routin', '.'], tags=['435']),\n",
       " TaggedDocument(words=['evalu', 'polynomi', 'comput'], tags=['436']),\n",
       " TaggedDocument(words=['compil', 'matrix', 'oper'], tags=['437']),\n",
       " TaggedDocument(words=['mechan', 'pragmat', ':', 'time', '-', 'motion', 'studi', 'miniatur', 'mechan', 'linguist', 'system'], tags=['438']),\n",
       " TaggedDocument(words=['-', 'line', 'digit', 'comput', 'measur', 'neurolog', 'control', 'system'], tags=['439']),\n",
       " TaggedDocument(words=['record', 'linkag', 'special', 'difficulti', 'encount', 'devis', 'reliabl', 'system', 'search', 'updat', 'larg', 'document', 'identifi', 'primarili', 'basi', 'name', 'person', 'particular', '.', 'underli', 'problem', 'make', 'nearli', 'maximum', 'item', 'identifi', 'inform', 'individu', 'unreli', 'collect', 'consider', 'discrimin', 'power', '.', 'rule', 'appli', 'gener', 'retriev', 'system', 'develop', 'methodolog', 'studi', 'linkag', 'vital', 'health', 'record', 'famili', 'group', 'demograph', 'research', 'purpos', '.', 'rule', ',', 'way', 'inform', 'util', 'match', 'optim', 'discuss', '.'], tags=['440']),\n",
       " TaggedDocument(words=['topolog', 'sort', 'larg', 'network', 'topolog', 'sort', 'procedur', 'requir', 'problem', 'involv', 'analysi', 'network', '.', 'problem', 'pert', '.', 'present', 'paper', 'present', 'gener', 'method', 'obtain', 'topolog', 'order', '.', 'permit', 'treatment', 'larger', 'network', 'handl', 'present', 'procedur', 'achiev', 'greater', 'effici', '.', 'procedur', 'adapt', 'machin', ',', 'discuss', 'term', '7090', '.', 'pert', 'network', '30', ',', '000', 'activ', 'order', 'hour', 'machin', 'time', '.', 'method', 'develop', 'byproduct', 'procedur', 'need', 'westinghous', ',', 'baltimor', '.', 'program', 'present', 'plan', 'implement', '.', 'regard', 'techniqu', ',', 'westinghous', \"'\", 'present', 'anticip', 'need', 'complet', 'serv', 'lockhe', 'program', ',', '.'], tags=['441']),\n",
       " TaggedDocument(words=['crout', 'equilibr', 'iter', '(', 'algorithm', '135', ')'], tags=['442']),\n",
       " TaggedDocument(words=['complex', 'number', 'real', 'power', '(', 'algorithm', '106', ')'], tags=['443']),\n",
       " TaggedDocument(words=['evalu', 'jacobi', 'symbol', '(', 'algorithm', '99', ')'], tags=['444']),\n",
       " TaggedDocument(words=['combin', '(', 'algorithm', '94', ')'], tags=['445']),\n",
       " TaggedDocument(words=['simpson', \"'\", 'integr', '(', 'algorithm', '84', ')'], tags=['446']),\n",
       " TaggedDocument(words=['certif', 'calcul', 'easter'], tags=['447']),\n",
       " TaggedDocument(words=['path', 'matrix', '(', 'algorithm', '141', ')'], tags=['448']),\n",
       " TaggedDocument(words=['matrix', 'invers', '(', 'algorithm', '140', ')'], tags=['449']),\n",
       " TaggedDocument(words=['solut', 'diophantin', 'equat', '(', 'algorithm', '139', ')'], tags=['450']),\n",
       " TaggedDocument(words=['nest', 'statement', 'ii', '(', 'algorithm', '138', ')'], tags=['451']),\n",
       " TaggedDocument(words=['nest', 'statement', '(', 'algorithm', '137', ')'], tags=['452']),\n",
       " TaggedDocument(words=['enlarg', 'group', '(', 'algorithm', '136', ')'], tags=['453']),\n",
       " TaggedDocument(words=['crout', 'equilibr', 'iter', '(', 'algorithm', '135', ')'], tags=['454']),\n",
       " TaggedDocument(words=['exponenti', 'seri', '(', 'algorithm', '134', ')'], tags=['455']),\n",
       " TaggedDocument(words=['random', '(', 'algorithm', '133', ')'], tags=['456']),\n",
       " TaggedDocument(words=['quantum', 'mechan', 'integr', 'slater', '-', 'type', 'integr'], tags=['457']),\n",
       " TaggedDocument(words=['coeffici', 'determin', '(', 'algorithm', '131', ')'], tags=['458']),\n",
       " TaggedDocument(words=['permut', '(', 'algorithm', '130', ')'], tags=['459']),\n",
       " TaggedDocument(words=['minifun', '(', 'algorithm', '129', ')'], tags=['460']),\n",
       " TaggedDocument(words=['code', 'medic', 'case', 'histori', 'data', 'comput', 'analysi'], tags=['461']),\n",
       " TaggedDocument(words=['comput', 'pattern', 'recognit', 'techniqu', ':', 'electrocardiograph', 'diagnosi', 'program', 'digit', 'comput', 'gener', 'pattern', 'classif', 'recognit', 'devic', 'phase', 'live', 'interest', 'artifici', 'intellig', '.', 'import', 'choos', 'class', 'signal', ',', 'present', ',', 'undergo', 'good', 'deal', 'visual', 'inspect', 'train', 'peopl', 'purpos', 'pattern', 'recognit', '.', 'comparison', 'machin', 'human', 'perform', 'obtain', '.', 'practic', 'result', 'serv', 'addit', 'motiv', '.', 'clinic', 'electrocardiogram', 'make', 'class', 'signal', '.', 'approach', 'problem', 'present', 'center', 'multipl', 'adapt', 'match', 'filter', 'classifi', 'normal', 'signal', '.', 'present', 'report', 'five', 'background', 'applic', 'method', '.'], tags=['462']),\n",
       " TaggedDocument(words=['ambigu', 'phrase', 'structur', 'languag'], tags=['463']),\n",
       " TaggedDocument(words=['syntact', 'analysi', 'digit', 'comput', 'paper', 'account', 'shadow', 'languag', 'describ', 'syntax', 'subroutin', 'enabl', 'comput', 'perform', 'syntact', 'analysi', '.', 'input', 'subroutin', 'consist', 'string', 'analyz', 'descript', 'syntax', '.', 'syntax', 'express', 'shadow', 'languag', '.', 'output', 'consist', 'trace', 'tabl', 'express', 'result', 'syntact', 'analysi', 'tabular', 'form', '.', 'version', 'subroutin', 'program', 'year', '.', 'present', 'account', 'languag', 'subroutin', 'summari', 'materi', 'previous', 'unpublish', 'report', 'addit', 'discuss', 'work', 'relat', 'gener', 'question', 'problem', '-', 'orient', 'languag', 'string', 'transform', '.'], tags=['464']),\n",
       " TaggedDocument(words=['perm', '(', 'algorithm', '115', ')'], tags=['465']),\n",
       " TaggedDocument(words=['gener', 'order', 'arithmet', '(', 'algorithm', '93', ')'], tags=['466']),\n",
       " TaggedDocument(words=['permut', 'gener', '(', 'algorithm', '87', ')'], tags=['467']),\n",
       " TaggedDocument(words=['incomplet', 'ellipt', 'integr', '(', 'algorithm', '73', ')'], tags=['468']),\n",
       " TaggedDocument(words=['critic', 'path', 'schedul', '(', 'algorithm', '40', ')'], tags=['469']),\n",
       " TaggedDocument(words=['summat', 'fourier', 'seri', '(', 'algorithm', '128', ')'], tags=['470']),\n",
       " TaggedDocument(words=['ortho', '(', 'algorithm', '127', ')'], tags=['471']),\n",
       " TaggedDocument(words=['gauss', \"'\", 'method', '(', 'algorithm', '126', ')'], tags=['472']),\n",
       " TaggedDocument(words=['weightcoeff', '(', 'algorithm', '125', ')'], tags=['473']),\n",
       " TaggedDocument(words=['input', 'data', 'organ', 'fortran'], tags=['474']),\n",
       " TaggedDocument(words=['test', 'matrix', 'invers', 'procedur'], tags=['475']),\n",
       " TaggedDocument(words=['remark', 'sampl', 'tape', '-', 'ii'], tags=['476']),\n",
       " TaggedDocument(words=['remark', 'sampl', 'tape', '-'], tags=['477']),\n",
       " TaggedDocument(words=['implement', 'stack'], tags=['478']),\n",
       " TaggedDocument(words=['dispers', 'pass', 'algorithm', 'polyphas', 'merg', 'paper', 'present', 'manner', 'dispers', 'string', 'polyphas', 'merg', '.', 'number', 'string', 'dispers', 'level', 'accept', 'polyphas', 'merg', ',', 'econom', 'techniqu', 'reach', 'level', 'polyphas', 'merg', 'shown', 'prove', '.'], tags=['479']),\n",
       " TaggedDocument(words=['quick', 'calcul', 'jacobian', 'ellipt', 'function', '(', 'corrigendum', ')'], tags=['480']),\n",
       " TaggedDocument(words=['-', 'day', 'look', 'comput'], tags=['481']),\n",
       " TaggedDocument(words=['tall', '-', 'list', 'processor', 'philco', '200', 'comput'], tags=['482']),\n",
       " TaggedDocument(words=['nonexist', 'phrase', 'structur', 'grammar', 'algol', '60', 'algol', '60', 'defin', 'partli', 'formal', 'mechan', 'phrase', 'structur', 'grammar', ',', 'partli', 'inform', 'state', 'restrict', '.', 'shown', 'formal', 'mechan', 'type', 'suffici', 'defin', 'algol', '60', '.'], tags=['483']),\n",
       " TaggedDocument(words=['hankel', 'function', '(', 'algorithm', '124', ')'], tags=['484']),\n",
       " TaggedDocument(words=['real', 'error', 'function', ',', 'erf', '(', ')', '(', 'algorithm', '123', ')'], tags=['485']),\n",
       " TaggedDocument(words=['tridiagon', 'matrix', '(', 'algorithm', '122', ')'], tags=['486']),\n",
       " TaggedDocument(words=['normdev', '(', 'algorithm', '121', ')'], tags=['487']),\n",
       " TaggedDocument(words=['heurist', 'page', 'turn', 'multiprogram', 'comput'], tags=['488']),\n",
       " TaggedDocument(words=['statu', 'ipl', '-', 'philco', '2000', 'comput', '(', 'june', '1962', ')'], tags=['489']),\n",
       " TaggedDocument(words=['program', 'method', 'printer', 'graphic', 'output'], tags=['490']),\n",
       " TaggedDocument(words=['multiprogram', 'design', 'low', 'cost', 'digit', 'comput'], tags=['491']),\n",
       " TaggedDocument(words=['analysi', 'address', 'method', 'paper', 'present', 'address', 'method', 'base', 'calcul', 'address', 'identif', 'record', '.', 'larg', 'recircul', 'type', ',', 'advantag', 'customari', '.', 'probabl', 'distribut', 'displac', 'record', 'calcul', 'address', ',', 'number', 'probe', 'requir', 'address', 'record', ',', 'comput', 'basi', 'markov', 'chain', 'model', '.', 'reader', 'interest', 'mathemat', ',', 'introduct', 'summari', 'suffici', '.'], tags=['492']),\n",
       " TaggedDocument(words=['properti', 'classif', 'method', 'design', 'process'], tags=['493']),\n",
       " TaggedDocument(words=['finit', 'sequenti', 'compact', 'process', 'adjoint', 'matric', 'arbitrari', 'integr', 'domain'], tags=['494']),\n",
       " TaggedDocument(words=['procedur', 'invert', 'larg', 'symmetr', 'matric', 'squar', 'method', 'simultan', 'adjust', 'paramet', ',', 'coeffici', 'normal', 'equat', 'element', 'symmetr', 'posit', '-', 'definit', 'matrix', '.', 'order', 'solv', 'normal', 'equat', 'evalu', 'precis', 'measur', 'result', 'paramet', ',', 'invers', 'matrix', 'coeffici', 'requir', '.', 'procedur', 'matrix', 'invers', 'take', 'advantag', 'symmetri', '.', ',', 'program', 'high', '-', 'speed', 'comput', ',', '^', '2', 'element', 'store', 'manipul', ',', '(', '+', '1', ')/', '2', 'independ', '.', 'order', 'allow', 'comput', 'memori', 'capac', 'handl', 'larger', 'matrix', ',', 'procedur', 'invert', 'symmetr', 'matrix', 'devis', '.'], tags=['495']),\n",
       " TaggedDocument(words=['set', 'matric', 'test', 'comput', 'program'], tags=['496']),\n",
       " TaggedDocument(words=['remark', 'line', 'segment', 'curv', '-', 'fit', 'dynam', 'program', 'recent', 'paper', ',', 'bellman', 'show', 'dynam', 'program', 'determin', 'solut', 'problem', 'previous', 'consid', 'stone', '.', 'problem', 'compris', 'determin', ',', ',', 'point', 'subdivis', 'interv', '(', ',', ')', 'line', 'segment', ',', 'give', 'squar', 'fit', 'function', '(', ')', 'interv', '.', 'bellman', 'confin', 'primarili', 'analyt', 'deriv', ',', 'suggest', 'briefli', ',', ',', 'solut', 'equat', 'deriv', 'point', 'subdivis', '(', ')', 'reduc', 'discret', 'search', '.', 'paper', ',', 'comput', 'procedur', 'consid', 'fulli', ',', 'similar', 'stone', \"'\", 'equat', '.', 'shown', 'equat', '(', ')', 'involv', 'minim', 'found', '.', 'addit', ',', 'shown', 'bellman', \"'\", 'method', 'appli', 'curv', '-', 'fit', 'problem', 'addit', 'constraint', 'ad', 'end', 'line', 'segment', 'curv', '.'], tags=['497']),\n",
       " TaggedDocument(words=['magic', 'squar', '(', 'algorithm', '117', '&', '118', ')'], tags=['498']),\n",
       " TaggedDocument(words=['permut', 'gener', '(', 'algorithm', '87', ')'], tags=['499']),\n",
       " TaggedDocument(words=['permut', '(', 'algorithm', '86', ')'], tags=['500']),\n",
       " TaggedDocument(words=['jacobi', '(', 'algorithm', '85', ')'], tags=['501']),\n",
       " TaggedDocument(words=['simpson', \"'\", 'integr', '(', 'algorithm', '84', ')'], tags=['502']),\n",
       " TaggedDocument(words=['ration', 'root', 'polynomi', 'integ', 'coeffici', '(', 'algorithm', '78', ')'], tags=['503']),\n",
       " TaggedDocument(words=['factor', '(', 'algorithm', '75', ')'], tags=['504']),\n",
       " TaggedDocument(words=['composit', 'gener', '(', 'algorithm', '72', ')'], tags=['505']),\n",
       " TaggedDocument(words=['permut', '(', 'algorithm', '71', ')'], tags=['506']),\n",
       " TaggedDocument(words=['partit', ',', 'quicksort', ',', 'find', '(', 'algorithm', '63', ',', '64', ',', '65', ')'], tags=['507']),\n",
       " TaggedDocument(words=['matrix', 'invers', '(', 'algorithm', '58', ')'], tags=['508']),\n",
       " TaggedDocument(words=['matrix', 'invers', '(', 'algorithm', '58', ')'], tags=['509']),\n",
       " TaggedDocument(words=['ber', 'bei', 'function', '(', 'algorithm', '57', ')'], tags=['510']),\n",
       " TaggedDocument(words=['set', 'test', 'matric', '(', 'algorithm', '52', ')'], tags=['511']),\n",
       " TaggedDocument(words=['telescop', '1', '(', 'algorithm', '37', ')'], tags=['512']),\n",
       " TaggedDocument(words=['siev', '(', 'algorithm', '35', ')'], tags=['513']),\n",
       " TaggedDocument(words=['binomi', 'coeffici', '(', 'algorithm', '19', ')'], tags=['514']),\n",
       " TaggedDocument(words=['ration', 'interpol', 'continu', 'fraction', '(', 'algorithm', '18', ')'], tags=['515']),\n",
       " TaggedDocument(words=['matrix', 'invers', 'ii', '(', 'algorithm', '120', ')'], tags=['516']),\n",
       " TaggedDocument(words=['evalu', 'pert', 'network', '(', 'algorithm', '119', ')'], tags=['517']),\n",
       " TaggedDocument(words=['magic', 'squar', '(', 'odd', 'order', ')', '(', 'algorithm', '118', ')'], tags=['518']),\n",
       " TaggedDocument(words=['magic', 'squar', '(', 'order', ')', '(', 'algorithm', '117', ')'], tags=['519']),\n",
       " TaggedDocument(words=['complex', 'divis', '(', 'algorithm', '116', ')'], tags=['520']),\n",
       " TaggedDocument(words=['perm', '(', 'algorithm', '115', ')'], tags=['521']),\n",
       " TaggedDocument(words=['gener', 'partit', 'constraint', '(', 'algorithm', '114', ')'], tags=['522']),\n",
       " TaggedDocument(words=['treesort', '(', 'algorithm', '113', ')'], tags=['523']),\n",
       " TaggedDocument(words=['posit', 'point', 'rel', 'polygon', '(', 'algorithm', '112', ')'], tags=['524']),\n",
       " TaggedDocument(words=['comput', 'techniqu', 'handl', 'analysi', 'varianc'], tags=['525']),\n",
       " TaggedDocument(words=['charact', 'manipul', 'fortran'], tags=['526']),\n",
       " TaggedDocument(words=['descript', 'list', 'concept', 'concept', 'defin', 'class', 'object', 'member', 'distinguish', 'process', 'properti', '.', 'properti', 'defin', 'mean', 'partit', 'set', 'object', 'disjoint', 'class', '.', 'formal', 'definit', 'concept', 'recurs', 'natur', '.', 'concept', 'list', 'structur', '.', '-', '-', 'correspond', 'establish', 'recurs', 'definit', 'concept', 'descript', 'list', 'structur', '.', 'definit', ',', 'descript', 'list', 'structur', 'concept', 'built', 'elementari', 'list', 'structur', 'recurs', 'process', '.', 'list', 'structur', 'obtain', 'compar', 'descript', 'list', 'structur', 'discuss', 'author', 'previou', 'public', '.'], tags=['527']),\n",
       " TaggedDocument(words=['fortran', 'busi', 'data', 'process'], tags=['528']),\n",
       " TaggedDocument(words=['regress', 'code', 'pattern', 'data', 'edit'], tags=['529']),\n",
       " TaggedDocument(words=['comput', 'method', 'radiat', 'treatment', 'plan'], tags=['530']),\n",
       " TaggedDocument(words=['person', '-', 'match', 'electron', 'method', 'record', 'linkag', 'updat', 'accomplish', 'establish', 'preassign', 'number', ',', 'payrol', 'number', ',', 'custom', 'number', ',', 'social', 'secur', 'number', '.', 'vital', 'health', 'record', ',', ',', 'uniqu', 'number', 'gener', 'preassign', 'individu', 'purpos', 'report', 'servic', 'receiv', 'health', 'depart', '.', 'order', 'determin', 'physician', 'report', 'refer', 'individu', ',', 'identif', 'compar', '.', 'labori', 'oper', 'subject', 'error', 'misspel', ',', 'marriag', ',', 'problem', '.', 'interest', 'mainten', 'psychiatr', 'case', 'regist', 'maryland', ',', 'report', 'hundr', 'psychiatr', 'agenc', 'refer', 'patient', '.', 'record', 'link', 'order', 'provid', 'undupl', 'count', 'individu', 'care', 'longitudin', 'record', 'psychiatr', 'histori', '.', 'earlier', 'paper', '[', '1', ']', 'describ', 'gener', 'procedur', 'regist', 'mainten', 'digit', 'comput', '(', 'honeywel', '800', ').', 'present', 'detail', 'initi', 'procedur', 'person', '-', 'match', 'process', 'order', 'elicit', 'comment', 'suggest', 'person', 'experi', 'match', '.'], tags=['531']),\n",
       " TaggedDocument(words=['comput', 'ration', 'approxim', 'continu', 'function'], tags=['532']),\n",
       " TaggedDocument(words=['digit', 'synthesi', 'correl', 'stationari', 'nois', 'note', 'propos', 'method', 'gener', 'stationari', 'nois', 'prescrib', 'auto', '-', 'covari', 'function', 'digit', 'method', '.', 'need', 'techniqu', 'aris', 'test', 'perform', 'data', 'process', 'engin', 'system', ',', 'input', 'corrupt', 'correl', 'nois', '(', 'known', 'form', ')', 'requir', '.', 'techniqu', 'simpl', 'produc', 'strict', '-', 'sens', 'stationari', 'nois', 'agre', 'approxim', '(', '),', 'prescrib', 'auto', '-', 'covari', 'function', '(', 'acf', '),', 'interv', '[-', '(', '0', '),', '(', '0', ')].', 'method', 'consist', 'approxim', 'spectral', 'densiti', 'period', 'process', 'spectral', 'line', ',', 'synthes', 'period', 'nois', 'random', 'phase', 'amplitud', '.', 'order', 'simplifi', 'discuss', 'statist', 'properti', 'nois', 'gener', ',', 'techniqu', 'present', 'term', 'exact', 'harmon', 'analysi', '.', 'practic', ',', 'discret', 'harmon', 'analysi', 'present', 'section', '.'], tags=['533']),\n",
       " TaggedDocument(words=['quick', 'calcul', 'jacobian', 'ellipt', 'function'], tags=['534']),\n",
       " TaggedDocument(words=['triangular', 'walk', 'pattern', '-', 'hill', 'method', 'solv', 'transcendent', 'equat'], tags=['535']),\n",
       " TaggedDocument(words=['nonlinear', 'regress', 'solut', 'simultan', 'equat', 'set', 'observ', '(', 'z1', ',...,', 'zm', ')', 'bound', 'relat', 'paramet', '(', 'a1', ',...,', ')', 'equat', '(', 'z1', ',...;', 'a1', ',...)=', '0', ',', 'frequent', 'problem', 'determin', 'set', 'valu', 'ai', 'minim', 'sum', 'squar', 'differ', 'observ', 'calcul', 'valu', 'distinguish', 'observ', ',', 'say', 'zm', '.', 'solut', 'equat', 'zm', ',', 'zm', '=', '(', 'z1', ',...;', 'a1', ',...)', 'rise', 'function', 'nonlinear', 'ai', ',', 'reli', 'version', 'gaussian', 'regress', '[', '1', ',', '2', ']', 'iter', 'scheme', 'converg', 'minim', 'set', 'valu', '.', 'shown', 'minim', 'techniqu', 'solut', 'simultan', '(', 'necessarili', 'linear', ')', 'equat', '.'], tags=['536']),\n",
       " TaggedDocument(words=['machin', 'program', 'theorem', '-', 'prove', 'program', 'proof', 'procedur', 'discuss', 'connect', 'trial', 'run', 'improv', '.'], tags=['537']),\n",
       " TaggedDocument(words=['quantum', 'mechan', 'integr', 'slater', '-', 'type', 'orbit', '(', 'algorithm', '110', ')'], tags=['538']),\n",
       " TaggedDocument(words=['definit', 'exponenti', 'integr', '(', 'algorithm', '109', ')'], tags=['539']),\n",
       " TaggedDocument(words=['definit', 'exponenti', 'integr', '(', 'algorithm', '108', ')'], tags=['540']),\n",
       " TaggedDocument(words=['simpson', \"'\", 'integr', '(', 'algorithm', '84', ')'], tags=['541']),\n",
       " TaggedDocument(words=['factor', '(', 'algorithm', '75', ')'], tags=['542']),\n",
       " TaggedDocument(words=['interpol', 'aitken', '(', 'algorithm', '70', ')'], tags=['543']),\n",
       " TaggedDocument(words=['ber', 'bei', 'function', '(', 'algorithm', '57', ')'], tags=['544']),\n",
       " TaggedDocument(words=['adjust', 'invers', 'matrix', 'element', 'perturb', '(', 'algorithm', '51', ')'], tags=['545']),\n",
       " TaggedDocument(words=['logarithm', 'complex', 'number', '(', 'algorithm', '48', ')'], tags=['546']),\n",
       " TaggedDocument(words=['gamma', 'function', '(', 'algorithm', '34', ')'], tags=['547']),\n",
       " TaggedDocument(words=['molecular', '-', 'orbit', 'calcul', 'molecular', 'interact'], tags=['548']),\n",
       " TaggedDocument(words=['quantum', 'mechan', 'integr', 'slater', '-', 'type', 'orbit'], tags=['549']),\n",
       " TaggedDocument(words=['definit', 'exponenti', 'integr', '(', 'algorithm', '109', ')'], tags=['550']),\n",
       " TaggedDocument(words=['definit', 'exponenti', 'integr', '(', 'algorithm', '108', ')'], tags=['551']),\n",
       " TaggedDocument(words=['gauss', \"'\", 'method', '(', 'algorithm', '107', ')'], tags=['552']),\n",
       " TaggedDocument(words=['complex', 'number', 'real', 'power', '(', 'algorithm', '106', ')'], tags=['553']),\n",
       " TaggedDocument(words=['newton', 'maehli', ',', '(', 'algorithm', '105', ')'], tags=['554']),\n",
       " TaggedDocument(words=['reduct', 'jacobi', '(', 'algorithm', '104', ')'], tags=['555']),\n",
       " TaggedDocument(words=['translat', 'boolean', 'express'], tags=['556']),\n",
       " TaggedDocument(words=['simul', 'comput', 'time', 'devic'], tags=['557']),\n",
       " TaggedDocument(words=['modifi', 'invers', 'procedur', 'product', 'form', 'invers', 'linear', 'program', 'code', 'paper', 'describ', 'algorithm', 'select', 'pivot', 'row', 'matrix', 'invers', 'product', 'form', 'invers', '.', 'algorithm', 'develop', 'linear', 'program', 'code', ';', ',', 'valuabl', 'invers', 'non', '-', 'dens', 'matrix', '.', 'procedur', 'paper', 'test', 'oper', 'esso', 'research', 'engin', 'ibm', '7090', 'comput', 'month', '.', 'substanti', 'comput', 'cost', 'save', 'realiz', 'procedur', '.'], tags=['558']),\n",
       " TaggedDocument(words=['solut', 'eigenvalu', 'problem', 'approxim', 'known', 'eigenvector'], tags=['559']),\n",
       " TaggedDocument(words=['commun', 'independ', 'translat', 'block'], tags=['560']),\n",
       " TaggedDocument(words=['analyt', 'differenti', 'comput'], tags=['561']),\n",
       " TaggedDocument(words=['avint', '(', 'algorithm', '77', ')'], tags=['562']),\n",
       " TaggedDocument(words=['sort', 'procedur', '(', 'algorithm', '76', ')'], tags=['563']),\n",
       " TaggedDocument(words=['cram', '(', 'algorithm', '67', ')'], tags=['564']),\n",
       " TaggedDocument(words=['invr', '(', 'algorithm', '66', ')'], tags=['565']),\n",
       " TaggedDocument(words=['matrix', 'invers', '(', 'algorithm', '58', ')'], tags=['566']),\n",
       " TaggedDocument(words=['logarithm', 'complex', 'number', '(', 'algorithm', '48', ')'], tags=['567']),\n",
       " TaggedDocument(words=['exponenti', 'complex', 'number', '(', 'algorithm', '46', ')'], tags=['568']),\n",
       " TaggedDocument(words=['binomi', 'coeffici', '(', 'algorithm', '19', ')'], tags=['569']),\n",
       " TaggedDocument(words=['simpson', \"'\", 'rule', 'integr', '(', 'algorithm', '103', ')'], tags=['570']),\n",
       " TaggedDocument(words=['permut', 'lexicograph', 'order', '(', 'algorithm', '102', ')'], tags=['571']),\n",
       " TaggedDocument(words=['add', 'item', 'chain', '-', 'link', 'list', '(', 'algorithm', '100', ')'], tags=['572']),\n",
       " TaggedDocument(words=['remov', 'item', 'chain', '-', 'link', 'list', '(', 'algorithm', '101', ')'], tags=['573']),\n",
       " TaggedDocument(words=['evalu', 'jacobi', 'symbol', '(', 'algorithm', '99', ')'], tags=['574']),\n",
       " TaggedDocument(words=['evalu', 'definit', 'complex', 'line', 'integr', '(', 'algorithm', '98', ')'], tags=['575']),\n",
       " TaggedDocument(words=['shortest', 'path', '(', 'algorithm', '97', ')'], tags=['576']),\n",
       " TaggedDocument(words=['ancestor', '(', 'algorithm', '96', ')'], tags=['577']),\n",
       " TaggedDocument(words=['gener', 'partit', 'part', '-', 'count', 'form', '(', 'algorithm', '95', ')'], tags=['578']),\n",
       " TaggedDocument(words=['combin', '(', 'algorithm', '94', ')'], tags=['579']),\n",
       " TaggedDocument(words=['gener', 'order', 'arithmet', '(', 'algorithm', '93', ')'], tags=['580']),\n",
       " TaggedDocument(words=['note', 'sampl', 'tape', '-'], tags=['581']),\n",
       " TaggedDocument(words=['lost', 'bit'], tags=['582']),\n",
       " TaggedDocument(words=['redund', 'check', 'algol', 'program'], tags=['583']),\n",
       " TaggedDocument(words=['report', 'algorithm', 'languag', 'fortran', 'ii'], tags=['584']),\n",
       " TaggedDocument(words=['initi', 'experi', 'oper', 'multiprogram', 'system', 'lewi', 'research', 'center', 'form', 'degre', 'program', 'simultan', 'oper', 'modifi', 'sperri', '-', 'rand', 'univac', 'scientif', 'model', '1103', 'comput', 'year', '.', 'simultan', 'evolv', 'initi', 'achiev', '-', 'search', 'input', 'output', 'automat', 'time', 'share', 'independ', 'code', 'problem', '.', 'import', 'machin', 'program', 'system', 'modif', 'accomplish', 'evolut', '.', 'addit', 'modif', ',', 'requir', ',', 'ad', 'facilit', 'eas', 'code', 'oper', '.', 'modif', 'proceed', 'temper', 'pace', 'insur', 'basic', 'data', '-', 'reduct', 'work', 'load', 'comput', 'center', 'complet', 'schedul', '.', 'educ', 'valuabl', 'mistak', 'made', ',', 'suggest', 'cure', 'point', 'futur', 'improv', 'emphas', 'basic', 'principl', 'multiprogram', 'system', '.', 'materi', 'follow', 'descript', 'evolut', 'program', 'hardwar', 'system', 'develop', 'present', 'multiprogram', 'system', 'lewi', 'research', 'center', '.'], tags=['585']),\n",
       " TaggedDocument(words=['simultan', 'system', 'equat', 'matrix', 'invers', 'routin', '(', 'algorithm', '92', ')'], tags=['586']),\n",
       " TaggedDocument(words=['romberg', 'integr', '(', 'algorithm', '60', ')'], tags=['587']),\n",
       " TaggedDocument(words=['chebyshev', 'curv', '-', 'fit', '(', 'algorithm', '91', ')'], tags=['588']),\n",
       " TaggedDocument(words=['evalu', 'fresnel', 'cosin', 'integr', '(', 'algorithm', '90', ')'], tags=['589']),\n",
       " TaggedDocument(words=['evalu', 'fresnel', 'sine', 'integr', '(', 'algorithm', '89', ')'], tags=['590']),\n",
       " TaggedDocument(words=['evalu', 'asymptot', 'express', 'fresnel', 'sine', 'cosin', 'integr', '(', 'algorithm', '88', ')'], tags=['591']),\n",
       " TaggedDocument(words=['cobol', 'batch', 'problem'], tags=['592']),\n",
       " TaggedDocument(words=['introduct', 'machin', '-', 'independ', 'data', 'divis'], tags=['593']),\n",
       " TaggedDocument(words=['advanc', 'input', '-', 'output', 'system', 'cobol', 'compil'], tags=['594']),\n",
       " TaggedDocument(words=['guid', 'teach', 'cobol', 'teach', 'cobol', 'divid', 'main', 'subject', 'area', '.', 'syntax', 'cobol', ',', 'syntax', 'solv', 'problem', ',', 'program', 'concept', '.', 'gener', 'accept', 'knowledg', 'hardwar', 'comput', 'logic', 'possess', 'programm', '.', 'teach', 'problem', 'aris', 'determin', 'student', 'know', 'hardwar', 'logic', 'comput', 'write', 'cobol', 'program', '.', 'unfortun', ',', 'histor', 'data', 'concern', 'student', \"'\", 'program', 'profici', 'non', '-', 'exist', ',', ',', 'difficult', 'measur', '.', 'approach', 'solv', 'problem', '?'], tags=['595']),\n",
       " TaggedDocument(words=['float', '-', 'point', 'arithmet', 'cobol', 'paper', 'basic', 'oper', 'float', '-', 'point', 'arithmet', 'examin', 'cobol', 'procedur', 'carri', ',', 'specif', 'work', 'storag', '.', 'paper', 'conclud', 'procedur', '.'], tags=['596']),\n",
       " TaggedDocument(words=['modular', 'data', 'process', 'system', 'written', 'cobol'], tags=['597']),\n",
       " TaggedDocument(words=['cobol', 'librarian', '-', 'key', 'object', 'program', 'effici', 'answer', 'question', '\"', 'cobol', 'compil', 'forc', 'gener', 'effici', 'object', 'program', '?\"', 'purpos', 'articl', 'present', 'answer', ':', 'creation', 'full', 'util', '-', 'construct', 'cobol', 'librari', '.'], tags=['598']),\n",
       " TaggedDocument(words=['report', 'writer', 'cobol'], tags=['599']),\n",
       " TaggedDocument(words=['syntact', 'chart', 'cobol', '61'], tags=['600']),\n",
       " TaggedDocument(words=['interim', 'report', 'bureau', 'ship', 'cobol', 'evalu', 'program'], tags=['601']),\n",
       " TaggedDocument(words=['cobol', 'compat'], tags=['602']),\n",
       " TaggedDocument(words=['basic', 'element', 'cobol', '61'], tags=['603']),\n",
       " TaggedDocument(words=['cobol', '?'], tags=['604']),\n",
       " TaggedDocument(words=['comput', 'simul', 'citi', 'traffic', 'simul', 'traffic', 'flow', 'citi', 'street', ',', 'nation', 'bureau', 'standard', 'data', 'process', 'techniqu', 'tabul', 'make', 'motion', 'pictur', 'vehicl', 'movement', 'model', '.', 'vehicl', 'assign', 'digit', 'identif', 'give', 'point', 'entri', 'exit', ',', 'type', 'vehicl', ',', 'desir', 'speed', ',', 'actual', 'speed', ',', 'proport', 'simul', 'field', 'data', '.', 'model', 'made', 'observ', 'consequ', 'determin', 'abil', 'real', 'street', 'carri', 'load', 'expect', 'futur', '.'], tags=['605']),\n",
       " TaggedDocument(words=['method', 'elimin', 'ambigu', 'due', 'signal', 'coincid', 'digit', 'design'], tags=['606']),\n",
       " TaggedDocument(words=['calcul', 'easter', '...'], tags=['607']),\n",
       " TaggedDocument(words=['permut', '(', 'algorithm', '71', ')'], tags=['608']),\n",
       " TaggedDocument(words=['permut', '(', 'algorithm', '71', ')'], tags=['609']),\n",
       " TaggedDocument(words=['siev', '(', 'algorithm', '35', ')'], tags=['610']),\n",
       " TaggedDocument(words=['permut', 'gener', '(', 'algorithm', '87', ')'], tags=['611']),\n",
       " TaggedDocument(words=['permut', '(', 'algorithm', '86', ')'], tags=['612']),\n",
       " TaggedDocument(words=['jacobi', '(', 'algorithm', '85', ')'], tags=['613']),\n",
       " TaggedDocument(words=['simpson', \"'\", 'integr', '(', 'algorithm', '84', ')'], tags=['614']),\n",
       " TaggedDocument(words=['address', 'multidimension', 'array', 'method', 'repres', 'function', 'variabl', 'consid', 'function', 'assum', 'valu', 'select', 'point', '-', 'dimension', 'space', '.', 'pictur', 'analyst', ',', 'element', '-', 'dimension', 'array', 'exist', 'convent', 'storag', 'linear', 'array', 'vector', '.', 'mean', 'perform', 'transform', 'set', 'indic', 'locat', 'array', 'element', '-', 'space', 'locat', '(', 'address', ')', 'element', 'storag', 'vector', 'subject', 'paper', '.', 'note', 'index', 'address', 'transform', 'comput', 'ident', 'convers', 'number', 'fix', 'mix', 'radix', 'number', 'system', '.', 'way', 'implement', 'transform', '.'], tags=['615']),\n",
       " TaggedDocument(words=['inform', 'algebra', '-', 'phase', 'report', '-', 'languag', 'structur', 'group', 'codasyl', 'develop', 'committe', 'report', 'repres', 'result', 'phase', 'work', 'languag', 'structur', 'group', '.', 'goal', 'work', 'arriv', 'proper', 'structur', 'machin', '-', 'independ', 'problem', '-', 'defin', 'languag', ',', 'system', 'level', 'data', 'process', '.', 'report', 'base', ',', 'part', ',', 'mathemat', 'model', 'call', '\"', 'inform', 'algebra', '\"', 'develop', 'primarili', '.', 'bosak', '.', 'hope', 'report', 'read', '(', ')', 'avid', 'interest', 'program', 'languag', 'design', 'implementor', ',', 'interest', 'develop', 'theoret', 'approach', 'data', 'process', ';', '(', ')', 'interest', 'understand', 'profession', 'programm', 'system', 'analyst', ';', '(', ')', 'appreci', 'businessman', '-', 'analyst', '-', 'manag', '.', 'author', 'attempt', 'exhaust', 'discours', 'report', '.', ',', 'tri', 'present', 'philosophi', 'profession', 'peopl', 'vital', 'concern', 'provid', 'work', 'languag', 'system', 'analyst', \"'\", '.', 'trust', 'idea', 'report', 'stimul', 'think', 'similar', 'line', '.', 'question', 'comment', 'welcom', ',', 'address', 'member', 'languag', 'structur', 'group', ':', 'robert', 'bosak', ',', 'system', 'develop', 'corpor', ';', 'richard', '.', 'clipping', ',', 'honeywel', 'edp', 'divis', ';', 'carey', 'dobb', ',', 'remington', 'rand', 'univac', 'divis', ';', 'roy', 'goldfing', '(', 'chairman', '),', 'ibm', 'corpor', ';', 'rene', '.', 'jasper', ',', 'navi', 'manag', 'offic', ';', 'william', 'keat', ',', 'nation', 'cash', 'regist', ';', 'georg', 'kendrick', ',', 'gener', 'electr', 'compani', ';', 'jean', '.', 'sammet', ',', 'ibm', 'corpor', '.'], tags=['616']),\n",
       " TaggedDocument(words=['poseidon', 'comput', 'form', 'part', 'control', 'system', '-', 'complet', 'automat', 'partli', 'human', '-', 'work', 'speed', 'control', 'system', '.', 'perform', 'calcul', 'data', 'process', 'fast', 'result', 'requir', 'instant', 'action', 'control', 'system', '.', 'known', 'work', '\"', 'real', 'time', '.\"'], tags=['617']),\n",
       " TaggedDocument(words=['comput', '-', 'key', 'total', 'system', 'control', ':', 'industri', 'viewpoint', 'man', '-', 'man', '-', 'machin', 'process', 'character', 'main', 'type', ',', 'market', 'type', 'shown', '1950', '1960', 'estim', '1970', '.'], tags=['618']),\n",
       " TaggedDocument(words=['retriev', 'misspel', 'name', 'airlin', 'passeng', 'record', 'system', 'paper', 'discuss', 'limit', 'problem', 'recognit', 'retriev', 'misspel', 'roster', 'hundr', 'name', ',', 'reserv', 'inventori', 'flight', 'larg', 'jet', 'airlin', '.', 'program', 'develop', 'oper', 'telefil', '(', 'store', '-', 'program', 'core', 'drum', 'memori', 'solid', '-', 'state', 'comput', ')', 'retriev', 'passeng', \"'\", 'record', 'success', ',', 'despit', 'signific', 'misspel', 'origin', 'entri', 'time', 'retriev', 'time', '.', 'procedur', 'involv', 'automat', 'score', 'techniqu', 'match', 'name', 'condens', 'form', '.', 'name', 'close', 'resembl', 'request', ',', 'phone', 'number', 'annex', ',', 'present', 'agent', 'final', 'selecton', '.', 'program', 'success', 'isol', 'retriev', 'name', 'subject', 'number', 'unusu', '(', 'usual', ')', 'misspel', '.'], tags=['619']),\n",
       " TaggedDocument(words=['ratfact', '(', 'algorithm', '78', ')'], tags=['620']),\n",
       " TaggedDocument(words=['romberg', 'integr', '(', 'algorithm', '60', ')'], tags=['621']),\n",
       " TaggedDocument(words=['optim', 'classif', 'object', '(', 'algorithm', '83', ')'], tags=['622']),\n",
       " TaggedDocument(words=['economis', 'sequenc', '2', '(', 'algorithm', '82', ')'], tags=['623']),\n",
       " TaggedDocument(words=['economis', 'sequenc', '1', '(', 'algorithm', '81', ')'], tags=['624']),\n",
       " TaggedDocument(words=['reciproc', 'gamma', 'function', 'real', 'argument', '(', 'algorithm', '80', ')'], tags=['625']),\n",
       " TaggedDocument(words=['method', 'represent', ',', 'storag', 'retriev', '13', 'random', 'code', '4', '-', 'digit', 'number', '16', 'random', 'code', '5', '-', 'digit', 'number'], tags=['626']),\n",
       " TaggedDocument(words=['knot', 'list', 'structur'], tags=['627']),\n",
       " TaggedDocument(words=['float', '-', 'point', 'number', 'represent', 'algorithm', 'languag'], tags=['628']),\n",
       " TaggedDocument(words=['wire', '-', 'binari', '-', '-', 'decim', 'convers', 'scheme'], tags=['629']),\n",
       " TaggedDocument(words=['evalu', 'autocod', 'readabl', 'requir', 'autocod', ',', 'pair', 'requir', '\"', 'easi', 'read', '\"', '\"', 'easi', 'write', '\"', 'compat', '.', 'paper', 'argu', 'readabl', 'ad', 'translat', 'process', 'programm', 'enjoy', 'utmost', 'economi', 'express', ',', 'manag', 'full', 'valid', 'cobol', 'version', 'print', 'give', 'advantag', 'readabl', 'compat', '.'], tags=['630']),\n",
       " TaggedDocument(words=['automat', '-', 'program', '-', 'languag', 'translat', 'syntact', 'analysi', '*'], tags=['631']),\n",
       " TaggedDocument(words=['vectorcardiograph', 'diagnosi', 'aid', 'algol'], tags=['632']),\n",
       " TaggedDocument(words=['simul', 'analysi', 'biochem', 'system', '(', 'iii', '.', 'analysi', 'pattern', 'recognit', ')'], tags=['633']),\n",
       " TaggedDocument(words=['manipul', 'tree', 'inform', 'retriev', '*'], tags=['634']),\n",
       " TaggedDocument(words=['note', 'multipli', 'boolean', 'matric'], tags=['635']),\n",
       " TaggedDocument(words=['tape', 'split', 'iter', 'program'], tags=['636']),\n",
       " TaggedDocument(words=['neliac', '-', 'gener', '7090', '-', '1401', 'compil', 'neliac', 'system', 'machin', 'gener', 'origin', 'neliac', 'system', 'develop', 'naval', 'electron', 'laboratori', ',', 'san', 'diego', ',', '1958', '.', 'basic', '\"', 'bootstrap', '\"', 'process', 'gener', ',', '.', '.', 'system', 'neliac', 'languag', 'gener', 'exist', 'neliac', 'compil', '.', 'experi', 'shown', 'inher', 'difficulti', '\"', 'build', 'compil', 'compil', '\";', ',', 'point', 'advantag', 'pol', 'construct', 'program', 'system', '.', 'report', 'present', 'result', 'project', 'complet', ',', '1961', 'neliac', 'system', 'gener', 'compil', 'ibm', '1401', '.', '1401', 'compil', ',', 'run', '7090', 'produc', '1401', 'program', ',', 'neliac', 'languag', 'gener', '7090', 'neliac', 'system', '.', 'reduct', 'program', 'time', 'improv', 'document', 'system', 'signific', '.'], tags=['637']),\n",
       " TaggedDocument(words=['surg', ':', 'recod', 'cobol', 'merchandis', 'control', 'algorithm'], tags=['638']),\n",
       " TaggedDocument(words=['differ', 'express', 'coeffici', '(', 'algorithm', '79', ')'], tags=['639']),\n",
       " TaggedDocument(words=['ration', 'root', 'polynomi', 'integ', 'coeffici', '(', 'algorithm', '78', ')'], tags=['640']),\n",
       " TaggedDocument(words=['interpol', ',', 'differenti', ',', 'integr', '(', 'algorithm', '77', ')'], tags=['641']),\n",
       " TaggedDocument(words=['introduct', 'algol'], tags=['642']),\n",
       " TaggedDocument(words=['simul', 'analysi', 'biochemci', 'system', '(', 'ii', '.', 'solut', 'differenti', 'equat', ')'], tags=['643']),\n",
       " TaggedDocument(words=['string', 'languag', 'symbol', 'manipul', 'base', 'algol', '60', 'artifici', 'comput', 'program', 'languag', 'propos', 'describ', 'manipul', 'string', 'charact', 'symbol', '.', 'concept', 'string', ',', 'introduc', 'algol', '60', 'report', ',', 'extend', 'ad', ':', '(', '1', ')', 'declar', 'string', ',', 'substr', ',', 'string', 'array', 'explicit', 'length', ';', '(', '2', ')', 'abil', 'concaten', 'shift', 'string', ';', '(', '3', ')', 'rank', 'symbol', 'compar', 'sting', 'boolean', 'relat', '.', 'primer', 'inform', 'descript', 'languag', 'exampl', ',', 'descript', 'experi', 'languag', 'ibm', '704', 'comput', ',', 'formal', 'descript', ',', 'algol', '60', 'report', ',', 'defin', 'propos', 'string', 'languag', '.'], tags=['644']),\n",
       " TaggedDocument(words=['invr', '(', 'algorithm', '66', ')'], tags=['645']),\n",
       " TaggedDocument(words=['invers', 'finit', 'segment', 'hilbert', 'matrix', '(', 'algorithm', '50', ')'], tags=['646']),\n",
       " TaggedDocument(words=['numer', 'solut', 'polynomi', 'equat', '(', 'algorithm', '30', ')'], tags=['647']),\n",
       " TaggedDocument(words=['sort', 'procedur', '(', 'algorithm', '76', ')'], tags=['648']),\n",
       " TaggedDocument(words=['factor', '(', 'algorithm', '75', ')'], tags=['649']),\n",
       " TaggedDocument(words=['curv', 'fit', 'constraint', '(', 'algorithm', '74', ')'], tags=['650']),\n",
       " TaggedDocument(words=['survey', 'languag', 'system', 'inform', 'retriev'], tags=['651']),\n",
       " TaggedDocument(words=['semant', 'structur', 'inform', 'system'], tags=['652']),\n",
       " TaggedDocument(words=['translat', 'retriev', 'request', 'couch', '\"', 'semiform', '\"', 'english', '-', 'languag', '*'], tags=['653']),\n",
       " TaggedDocument(words=['languag', 'problem', 'pose', 'heavili', 'structur', 'data'], tags=['654']),\n",
       " TaggedDocument(words=['comit', 'ir', 'languag', 'featur', 'make', 'comit', 'good', 'symbol', 'manipul', 'languag', 'render', 'suit', 'type', 'inform', 'retriev', 'program', '.', 'present', 'gener', 'discuss', 'uniqu', 'program', 'languag', 'examin', 'applic', '.'], tags=['655']),\n",
       " TaggedDocument(words=['inform', 'system', 'abil', 'extract', 'intellig', 'data'], tags=['656']),\n",
       " TaggedDocument(words=['inform', 'structur', 'process', 'retriev'], tags=['657']),\n",
       " TaggedDocument(words=['discuss', '-', 'pro', 'con', 'special', 'ir', 'languag'], tags=['658']),\n",
       " TaggedDocument(words=['revers', 'seri', '(', 'algorithm', '193', ')'], tags=['659']),\n",
       " TaggedDocument(words=['test', 'matric', 'determin', 'invers', '(', 'pracniqu', ')'], tags=['660']),\n",
       " TaggedDocument(words=['index', 'lambda', '-', 'notat', 'method', 'index', 'sequenti', 'store', 'element', 'spars', 'multi', '-', 'dimension', 'array', 'scheme', 'notat', '.'], tags=['661']),\n",
       " TaggedDocument(words=['shuttl', 'sort', '(', 'algorithm', '175', ')'], tags=['662']),\n",
       " TaggedDocument(words=['determin', '(', 'algorithm', '159', ')'], tags=['663']),\n",
       " TaggedDocument(words=['assign', '(', 'algorithm', '27', ')'], tags=['664']),\n",
       " TaggedDocument(words=['gauss', '-', 'seidel', '(', 'algorithm', '220', ')'], tags=['665']),\n",
       " TaggedDocument(words=['topolog', 'order', 'pert', 'network', '(', 'algorithm', '219', ')'], tags=['666']),\n",
       " TaggedDocument(words=['kutta', 'merson', '(', 'algorithm', '218', ')'], tags=['667']),\n",
       " TaggedDocument(words=['minimum', 'excess', 'cost', 'curv', '(', 'algorithm', '217', ')'], tags=['668']),\n",
       " TaggedDocument(words=['specif', 'jovial'], tags=['669']),\n",
       " TaggedDocument(words=['legal', 'implic', 'comput', 'bank', 'busi', 'introduct', 'comput', 'bank', 'busi', 'wide', 'varieti', 'legal', 'implic', 'merit', 'care', 'attent', 'earli', 'stage', '.', 'industri', 'highli', 'regul', 'govern', ',', ',', 'subject', 'statut', 'regul', '.', 'affect', 'import', 'common', 'law', 'rule', 'establish', 'court', '.', 'legal', 'ramif', 'involv', 'mechan', ',', 'signific', ',', 'econom', 'attract', 'phenomenon', 'premis', 'process', '.', 'essenti', 'identifi', 'provid', 'legal', 'aspect', ',', 'system', 'practic', 'crystal', ',', 'order', 'avoid', 'later', 'impact', 'unanticip', 'physic', 'complic', 'expens', '.', 'legal', 'aspect', 'computer', 'bank', 'busi', 'especi', 'divers', '.', 'state', ',', 'basic', 'question', 'bank', 'author', 'law', 'invest', 'facil', ',', 'directli', 'cooper', '.', 'challeng', 'question', 'relat', '-', 'premis', 'processor', ',', 'respect', 'oblig', 'disclos', 'inform', 'concern', 'bank', \"'\", 'custom', ',', 'adequaci', 'fidel', 'bond', 'coverag', ',', 'extent', 'liabil', 'improp', 'refus', 'pay', 'check', ',', 'suscept', 'regul', 'govern', 'agenc', '.', 'pertin', 'proprieti', 'data', 'process', 'bank', 'nonbank', 'entiti', 'render', 'servic', 'charg', 'bank', 'depositor', '.'], tags=['670']),\n",
       " TaggedDocument(words=['telefil', '-', 'case', 'studi', '-', 'line', 'save', 'bank', 'applic', 'develop', '-', 'line', 'comput', 'system', 'save', 'bank', 'institut', 'trace', 'earli', 'conceptu', 'need', 'bank', 'consumm', 'design', 'teleregist', 'corpor', '.', 'bank', 'equip', 'criteria', 'led', 'develop', 'telefil', 'system', 'teleregist', 'corpor', '.', 'oper', '-', 'line', '-', 'line', 'program', 'statist', 'cite', 'reliabl', 'perform', 'system', '.', 'benefit', 'bank', 'discuss', 'banker', \"'\", 'point', 'view', ';', 'indic', 'futur', 'trend', '-', 'line', 'save', 'bank', 'field', 'discuss', '.'], tags=['671']),\n",
       " TaggedDocument(words=['recent', 'develop', 'affect', 'adp', 'tax', 'administr'], tags=['672']),\n",
       " TaggedDocument(words=['account', 'classif', 'autom', 'bank'], tags=['673']),\n",
       " TaggedDocument(words=['applic', 'ibm', '1620', 'edp', 'method', 'calcul', 'format', 'constant', 'complex', 'iron'], tags=['674']),\n",
       " TaggedDocument(words=['code', 'clinic', 'laboratori', 'data', 'automat', 'storag', 'retriev', 'seri', 'clinic', 'laboratori', 'code', 'develop', 'accept', 'store', 'urin', 'analysi', ',', 'blood', 'chemistri', ',', 'hematolog', 'test', 'result', 'automat', 'data', 'process', '.', 'code', ',', 'construct', 'part', 'computer', 'hospit', 'simul', ',', 'abl', 'handl', 'result', 'laboratori', 'test', 'encount', '.', 'uniqu', 'featur', 'code', 'accept', 'convent', 'record', 'qualit', 'quantit', 'test', 'result', '.', ',', 'clinic', 'test', 'result', 'need', 'arbitrarili', 'stratifi', ',', 'standard', ',', 'alter', 'code', '.', 'paper', 'describ', 'code', 'develop', 'present', 'list', 'urin', 'analysi', 'code', '.', 'criteria', 'develop', 'code', 'outlin', 'problem', 'multipl', '-', 'synonym', 'terminolog', 'discuss', '.', 'solut', 'problem', '.', 'flexibl', ',', 'comput', '-', 'produc', ',', 'composit', 'laboratori', 'report', 'discuss', ',', 'reproduct', 'report', '.', 'paper', 'conclud', 'problem', 'remain', 'unsolv', ',', 'ten', 'year', 'wit', 'emerg', 'practic', 'autom', 'inform', 'system', 'laboratori', '.'], tags=['675']),\n",
       " TaggedDocument(words=['comput', 'type', 'incompletebeta', 'function'], tags=['676']),\n",
       " TaggedDocument(words=['length', 'string', 'merg', 'sort', 'detail', 'statist', 'length', 'maxim', 'sort', 'string', 'result', 'form', '(', 'intern', 'sort', ')', 'phase', 'merg', 'sort', 'tape', '.', 'shown', 'string', 'produc', 'altern', 'method', '(', '.', '.', 'produc', 'ascend', 'descend', 'string', 'altern', ')', 'tend', '-', 'fourth', 'long', 'method', 'produc', 'ascend', 'string', ',', 'contrari', 'statement', 'appear', 'previous', 'literatur', '.', 'slight', 'modif', 'read', '-', 'backward', 'polyphas', 'merg', 'algorithm', 'suggest', '.'], tags=['677']),\n",
       " TaggedDocument(words=['optim', 'bit', '-', 'time', 'comput', 'simul', 'major', 'compon', 'bit', '-', 'time', 'comput', 'simul', 'program', 'boolean', 'compil', '.', 'compil', 'accept', 'boolean', 'function', 'repres', 'simul', 'comput', \"'\", 'digit', 'circuit', ',', 'gener', 'set', 'machin', 'instruct', 'subsequ', 'execut', '\"', 'host', '\"', 'comput', '.', 'techniqu', 'discuss', 'increas', 'sophist', 'boolean', 'compil', 'optim', 'bit', '-', 'time', 'comput', 'simul', '.', 'techniqu', 'applic', 'gener', '-', 'purpos', 'comput', '.'], tags=['678']),\n",
       " TaggedDocument(words=['recent', 'improv', 'madcap', 'madcap', 'program', 'languag', 'admit', 'subscript', ',', 'superscript', 'form', 'display', 'formula', '.', 'basic', 'implement', 'languag', 'previou', 'paper', '[', 'madcap', ':', 'scientif', 'compil', 'display', 'formula', 'textbook', 'languag', ',', 'comm', '.', 'acm', '4', '(', 'jan', '.', '61', '),', '31', '-', '36', '].', 'paper', 'discuss', 'recent', 'improv', 'languag', 'area', ':', 'complex', 'display', ',', 'logic', 'control', ',', 'subprogram', '.', 'area', 'complex', 'display', ',', 'promin', 'improv', 'notat', 'integr', 'binomi', 'coeffici', '.', 'area', 'logic', 'control', 'chief', 'featur', 'notat', 'variabl', 'nest', 'loop', '.', 'discuss', 'subprogram', 'focus', 'madcap', \"'\", 'notat', '\"', 'procedur', '.\"'], tags=['679']),\n",
       " TaggedDocument(words=['error', '-', 'correct', 'pars', 'algorithm'], tags=['680']),\n",
       " TaggedDocument(words=['flexibl', 'abbrevi', 'word', 'comput', 'languag'], tags=['681']),\n",
       " TaggedDocument(words=['recurs', 'program', 'fortran', 'ii'], tags=['682']),\n",
       " TaggedDocument(words=['serial', 'techniqu', 'determin', 'minimum', 'path'], tags=['683']),\n",
       " TaggedDocument(words=['interpol', ',', 'differenti', ',', 'integr', '(', 'algorithm', '77', ')'], tags=['684']),\n",
       " TaggedDocument(words=['euler', 'summat', '(', 'algorithm', '8', ')'], tags=['685']),\n",
       " TaggedDocument(words=['smooth', '(', 'algorithm', '216', ')'], tags=['686']),\n",
       " TaggedDocument(words=['shank', '(', 'algorithm', '215', ')'], tags=['687']),\n",
       " TaggedDocument(words=['-', 'bessel', 'function', '(', ')(', 'algorithm', '214', ')'], tags=['688']),\n",
       " TaggedDocument(words=['report', 'visit', 'discuss', 'common', 'program', 'languag', 'czechoslovakia', 'poland', ',', '1963'], tags=['689']),\n",
       " TaggedDocument(words=['usa', 'particip', 'intern', 'standard', 'glossari', 'inform', 'process'], tags=['690']),\n",
       " TaggedDocument(words=['descript', 'apt', 'languag', 'apt', '(', 'program', 'tool', ')', 'languag', 'numer', 'control', 'program', 'metalinguist', 'notat', 'introduc', 'algol', '60', 'report', '.', 'exampl', 'apt', 'usag', 'includ', '.', 'present', 'histor', 'summari', 'develop', 'apt', 'statement', 'concern', 'present', 'statu', '.'], tags=['691']),\n",
       " TaggedDocument(words=['invers', 'test', 'matrix'], tags=['692']),\n",
       " TaggedDocument(words=['extens', 'fibonaccian', 'search', 'variabl', 'techniqu', 'fibonaccian', 'search', 'concept', 'develop', 'solv', 'optim', 'problem', 'involv', 'unimod', 'function', 'variabl', '.', 'techniqu', 'proven', 'optim', 'sens', '-', 'dimension', 'fibonaccian', 'search', '.', ',', 'valuabl', 'kind', 'calcul', '.'], tags=['693']),\n",
       " TaggedDocument(words=['comparison', 'disk', 'tape', 'princip', 'characterist', 'magnet', 'disk', 'tape', 'unit', 'summar', 'compar', '.', 'characterist', 'disk', 'illustr', 'sort', 'compar', 'tapesort', '.', 'conclus', 'present', 'disk', 'competit', 'tape', 'import', 'applic', '.'], tags=['694']),\n",
       " TaggedDocument(words=['disk', 'stretch', 'paper', 'begin', 'briefli', 'describ', 'stretch', '(', 'ibm', '7030', ')', 'comput', 'special', 'emphasi', 'organ', 'oper', 'input', '-', 'output', 'equip', '.', 'physic', 'characterist', '-', 'disk', 'system', '(', '4', ',', '194', ',', '304', '72', '-', 'bit', 'word', ',', '8', 'usec', '-', '-', 'word', 'transmiss', 'rate', ',', '.)', 'note', '.', 'time', 'limit', 'due', 'arm', 'motion', 'disk', 'rotat', 'discuss', '.', 'applic', 'disk', 'usag', 'discuss', 'separ', 'problem', 'program', 'system', 'program', 'compil', 'supervisori', 'program', '.', 'approxim', '260', ',', '000', 'word', 'disk', 'storag', 'reserv', 'storag', 'system', 'program', 'subroutin', 'librari', '.', 'problem', 'program', ',', ',', 'file', 'disk', '.', 'program', 'techniqu', 'discuss', 'transmit', 'word', 'disk', 'core', 'storag', 'minimum', 'delay', 'interrupt', 'arithmet', 'unit', '.', 'dump', 'disk', 'consid', 'recoveri', 'comput', 'malfunct', 'mathemat', 'physic', 'develop', 'calcul', '.', 'comment', 'made', 'regard', 'reliabl', ',', 'econom', ',', 'util', 'weak', 'limit', 'disk', 'system', '.', 'futur', 'applic', 'note', 'disk', 'connot', '.'], tags=['695']),\n",
       " TaggedDocument(words=['automat', 'data', 'acquisit', 'inquiri', 'system', 'disk', 'lockhe', 'missil', 'space', 'compani', 'instal', 'larg', '-', 'scale', 'automat', 'data', 'acquisit', '(', 'ada', ')', 'system', 'tie', 'compani', \"'\", 'manufactur', 'facil', 'locat', 'van', 'nuy', 'sunnyval', ',', 'california', '.', 'system', 'includ', '200', 'remot', 'input', 'station', 'collect', 'transmit', 'compani', 'oper', 'data', 'central', 'data', 'process', 'center', '.', 'rca', '301', 'edp', 'system', 'record', 'control', 'flow', 'data', 'transmit', 'data', 'process', 'center', '.', 'larg', 'capac', 'rca', '366', 'data', 'disc', 'store', 'inform', 'requir', 'provid', '-', '-', 'date', 'inform', 'respons', 'inquiri', 'receiv', 'remot', 'locat', 'inquiri', 'station', '.', 'addit', 'storag', 'data', 'disk', ',', 'system', 'record', 'incom', 'outgo', 'data', 'magnet', 'tape', 'input', 'compani', \"'\", 'convent', '-', 'line', 'busi', 'data', 'process', 'applic', '.'], tags=['696']),\n",
       " TaggedDocument(words=['numer', 'method', 'determin', 'move', 'field', 'isodos', 'curv', 'treatment', 'plan', 'radiotherapi'], tags=['697']),\n",
       " TaggedDocument(words=['data', '-', 'dial', ':', '-', 'commun', 'comput', 'ordinari', 'dial', 'telephon', 'oper', 'system', 'user', 'call', 'remot', 'locat', 'comput', 'ordinari', 'dial', 'telephon', '.', 'special', 'hardwar', 'connect', 'requir', 'user', \"'\", 'telephon', '.', 'input', 'comput', 'telephon', 'dial', ';', 'output', 'comput', 'spoken', 'form', '.', 'result', 'test', 'telephon', 'boston', 'area', 'report', '.'], tags=['698']),\n",
       " TaggedDocument(words=['contour', '-', 'map', 'program', '-', 'ray', 'crystallographi', 'fortran', 'program', 'ibm', '7090', 'system', ',', '-', 'plotter', 'produc', 'contour', 'map', '.', 'matrix', 'point', 'evenli', 'space', 'dimens', 'contour', '.', 'scale', 'factor', 'axe', 'axe', 'need', 'perpendicular', '.'], tags=['699']),\n",
       " TaggedDocument(words=['hermit', 'interpol', '(', 'algorithm', '210', ')'], tags=['700']),\n",
       " TaggedDocument(words=['shuttl', 'sort', '(', 'algorithm', '175', ')'], tags=['701']),\n",
       " TaggedDocument(words=['assign', '(', 'algorithm', '173', ')'], tags=['702']),\n",
       " TaggedDocument(words=['assign', '(', 'algorithm', '173', ')'], tags=['703']),\n",
       " TaggedDocument(words=['combinatori', 'thing', 'time', 'time', ',', 'time', '(', 'algorithm', '161', ')'], tags=['704']),\n",
       " TaggedDocument(words=['combinatori', 'thing', 'time', '(', 'algorithm', '160', ')'], tags=['705']),\n",
       " TaggedDocument(words=['fourier', 'seri', 'approxim', '(', 'algorithm', '157', ')'], tags=['706']),\n",
       " TaggedDocument(words=['erf', '(', ')', '(', 'algorithm', '123', ')'], tags=['707']),\n",
       " TaggedDocument(words=['evalu', 'fresnel', 'integr', '(', 'algorithm', '88', ',', '89', ',', '90', ')'], tags=['708']),\n",
       " TaggedDocument(words=['assign', '(', 'algorithm', '27', ')'], tags=['709']),\n",
       " TaggedDocument(words=['fresnel', 'integr', '(', 'algorithm', '213', ')'], tags=['710']),\n",
       " TaggedDocument(words=['frequenc', 'distribut', '(', 'algorithm', '212', ')'], tags=['711']),\n",
       " TaggedDocument(words=['hermit', 'interpol', '(', 'algorithm', '211', ')'], tags=['712']),\n",
       " TaggedDocument(words=['lagrangian', 'interpol', '(', 'algorithm', '210', ')'], tags=['713']),\n",
       " TaggedDocument(words=['gauss', '(', 'algorithm', '209', ')'], tags=['714']),\n",
       " TaggedDocument(words=['discret', 'convolut', '(', 'algorithm', '208', ')'], tags=['715']),\n",
       " TaggedDocument(words=['stringsort', '(', 'algorithm', '207', ')'], tags=['716']),\n",
       " TaggedDocument(words=['partit', 'algorithm', 'finit', 'set', 'partit', 'set', 'element', 'repres', '-', 'tupl', 'posit', 'integ', '.', 'algorithm', 'gener', 'repetit', '-', 'tupl', ':', '(', '1', ')', 'partit', 'set', ',', '(', '2', ')', 'partit', 'set', 'fewer', 'set', '(', '1', '<=', '<=', '),', '(', '3', ')', 'partit', 'set', 'exactli', 'set', '(', '1', '<=', '<=', ').'], tags=['717']),\n",
       " TaggedDocument(words=['experi', 'automat', 'verif', 'program', 'effect', 'compil', 'replac', 'explicit', 'verif', ',', 'cost', 'techniqu', '?'], tags=['718']),\n",
       " TaggedDocument(words=['variabl', 'width', 'stack', 'charact', 'address', ',', 'variabl', 'field', 'comput', 'permit', 'readi', 'establish', 'manipul', 'variabl', 'width', 'stack', '.', 'singl', 'machin', 'command', 'push', 'variabl', 'field', 'item', 'stack', 'pop', '.', 'avail', 'varieti', 'field', 'delimit', 'machin', 'push', 'pop', 'variabl', 'width', 'item', 'command', '.', 'stack', 'oper', 'made', 'basi', 'compil', 'decod', 'algorithm', 'proper', 'machin', 'class', 'compil', 'advantag', 'machin', 'fix', '-', 'length', 'word', '.'], tags=['719']),\n",
       " TaggedDocument(words=['format', '-', 'free', 'input', 'fortran'], tags=['720']),\n",
       " TaggedDocument(words=['report', 'propos', 'american', 'standard', 'flowchart', 'symbol', 'inform', 'process', 'paper', 'present', 'essenti', 'content', 'propos', 'american', 'standard', 'flowchart', 'symbol', 'inform', 'process', '.', 'propos', 'standard', 'prepar', 'subcommitte', 'x3', '.', '6', 'problem', 'descript', 'analysi', 'american', 'standard', 'associ', '(', 'asa', ').'], tags=['721']),\n",
       " TaggedDocument(words=['alcor', 'group', 'represent', 'algol', 'symbol'], tags=['722']),\n",
       " TaggedDocument(words=['ecma', 'subset', 'algol', '60'], tags=['723']),\n",
       " TaggedDocument(words=['profil', 'programm', 'synopsi', ':', '549', 'member', 'acm', 'particip', 'studi', 'concern', 'primarili', 'attitud', 'programm', 'career', 'job', '.', 'high', 'percentag', 'programm', 'appar', 'enter', 'career', 'accid', ';', 'proven', 'happi', 'choic', 'expect', 'remain', 'field', 'year', '.', 'princip', 'job', 'satisfact', 'relat', 'natur', 'work', ',', 'mostfind', 'job', 'offer', 'high', 'level', 'profession', 'interest', 'good', 'work', 'condit', '.', 'salari', 'advanc', 'prospect', ',', ',', 'satisfactori', '.', 'half', 'report', 'posit', 'attitud', 'programm', 'program', 'part', 'organ', '.', 'turnov', 'attribut', 'primarili', 'poor', 'manag', '-', 'salari', 'seen', 'princip', 'motiv', 'factor', 'turnov', 'programm', '.', 'natur', 'work', 'offer', 'salari', 'princip', 'determin', 'accept', 'job', '.', 'programm', 'mobil', 'expect', '.', 'programm', 'tend', 'colleagu', 'favor', 'light', ',', '.', 'person', 'vari', 'function', ',', 'system', 'programm', 'differ', 'applic', 'programm', '.', 'princip', 'problem', 'program', 'futur', 'list', 'particip', ':', 'languag', ',', 'personnel', ',', 'specif', 'applic', 'techniqu', ',', 'build', 'program', 'profess', '.'], tags=['724']),\n",
       " TaggedDocument(words=['group', 'particip', 'comput', 'demonstr'], tags=['725']),\n",
       " TaggedDocument(words=['gener', 'program', 'analysi', 'squar', 'rectangular', 'lattic', 'design', 'paper', 'describ', 'gener', '-', 'purpos', 'program', 'handl', 'incomplet', 'block', 'design', 'known', 'squar', 'rectangular', 'lattic', '.', 'flow', 'diagram', 'method', 'calcul', 'program', 'digit', 'comput', '.'], tags=['726']),\n",
       " TaggedDocument(words=['approxim', 'solut', 'delta', '(', ')=', '(', ')', '-', 'dimension', 'dirichlet', 'problem', 'delta', '(', ')=', '(', '),', 'fu', '>=', '0', ',', 'treat', 'numer', 'except', 'fast', ',', 'except', 'accur', 'numer', 'method', '.', 'program', 'detail', ',', 'numer', 'exampl', 'mathemat', 'theori', 'suppli', '.', 'extens', 'method', 'natur', '-', 'dimension', 'problem', 'mean', '4', '-', 'dimension', '.'], tags=['727']),\n",
       " TaggedDocument(words=['comput', '-', 'drawn', 'flowchart', '*', 'meet', 'need', 'improv', 'document', 'written', 'comput', 'program', ',', 'simpl', 'system', 'effect', 'commun', 'present', ',', 'shown', 'great', 'promis', '.', 'programm', 'describ', 'program', 'simpl', 'format', ',', 'comput', 'prepar', 'flow', 'chart', 'cross', '-', 'referenc', 'list', 'input', '.', 'descript', '-', '-', 'date', 'easili', ',', 'final', 'output', 'clearli', 'explain', 'origin', 'program', '.', 'system', 'prove', 'valuabl', 'debug', 'code', 'aid', '.'], tags=['728']),\n",
       " TaggedDocument(words=['gener', 'algol'], tags=['729']),\n",
       " TaggedDocument(words=['mirfag', ':', 'compil', 'base', 'standard', 'mathemat', 'notat', 'plain', 'english', 'pilot', 'version', 'compil', 'mirfag', ',', 'oper', ',', '.', 'chief', 'featur', 'system', ',', 'intend', 'solut', 'scientif', 'problem', ',', 'present', 'mathemat', 'formula', 'entir', 'standard', 'textbook', 'notat', '.', 'plain', 'english', 'organiz', 'instruct', ',', 'automat', 'error', 'diagnosi', 'indic', 'actual', 'locat', 'error', 'uncompil', 'program', ',', 'attempt', 'minim', 'fragment', 'origin', 'problem', 'statement', 'normal', 'featur', 'program', 'system', '.'], tags=['730']),\n",
       " TaggedDocument(words=['symmetr', 'list', 'processor', 'list', 'process', 'system', 'list', 'cell', 'forward', 'backward', 'link', 'datum', '.', 'system', 'intend', 'imbed', 'higher', 'level', 'languag', 'capabl', 'call', 'function', 'subroutin', 'code', 'machin', 'languag', '.', 'present', 'form', 'fortran', 'program', 'depend', 'limit', 'set', 'fortran', 'program', 'depend', 'limit', 'set', '\"', 'primit', '\"', 'machin', 'languag', 'subroutin', 'defin', '.', 'final', ',', 'set', 'field', ',', 'charact', ',', 'manipul', 'primit', 'round', 'system', '.'], tags=['731']),\n",
       " TaggedDocument(words=['mont', 'carlo', 'invers', '(', 'algorithm', '166', ')'], tags=['732']),\n",
       " TaggedDocument(words=['newton', 'interpol', 'forward', 'divid', 'differ', '(', 'algorithm', '169', ')'], tags=['733']),\n",
       " TaggedDocument(words=['newton', 'interpol', 'backward', 'divid', 'differ', '(', 'algorithm', '168', ')'], tags=['734']),\n",
       " TaggedDocument(words=['calcul', 'confluent', 'divid', 'differ', '(', 'algorithm', '167', ')'], tags=['735']),\n",
       " TaggedDocument(words=['modifi', 'hankel', 'function', '(', 'algorithm', '163', ')'], tags=['736']),\n",
       " TaggedDocument(words=['exponenti', 'seri', '(', 'algorithm', '158', ')'], tags=['737']),\n",
       " TaggedDocument(words=['fourier', 'seri', 'approxim', '(', 'algorithm', '157', ')'], tags=['738']),\n",
       " TaggedDocument(words=['minifun', '(', 'algorithm', '129', ')'], tags=['739']),\n",
       " TaggedDocument(words=['interest', '(', 'algorithm', '45', ')'], tags=['740']),\n",
       " TaggedDocument(words=['evalu', 'determin', '(', 'algorithm', '41', ')'], tags=['741']),\n",
       " TaggedDocument(words=['evalu', 'determin', '(', 'algorithm', '41', ')'], tags=['742']),\n",
       " TaggedDocument(words=['arccosin', '(', 'algorithm', '206', ')'], tags=['743']),\n",
       " TaggedDocument(words=['ativ', '(', 'algorithm', '205', ')'], tags=['744']),\n",
       " TaggedDocument(words=['steep2', '(', 'algorithm', '204', ')'], tags=['745']),\n",
       " TaggedDocument(words=['steep1', '(', 'algorithm', '203', ')'], tags=['746']),\n",
       " TaggedDocument(words=['gener', 'permut', 'lexicograph', 'order', '(', 'algorithm', '202', ')'], tags=['747']),\n",
       " TaggedDocument(words=['semi', '-', 'iter', 'process', 'evalu', 'arctang'], tags=['748']),\n",
       " TaggedDocument(words=['note', 'onstochast', 'matric'], tags=['749']),\n",
       " TaggedDocument(words=['pei', 'matrix', 'eigenvector'], tags=['750']),\n",
       " TaggedDocument(words=['note', 'set', 'test', 'matric', 'invers'], tags=['751']),\n",
       " TaggedDocument(words=['close', 'print', 'tape'], tags=['752']),\n",
       " TaggedDocument(words=['procedur', 'convert', 'logic', 'tabl', 'condit', 'effici', 'sequenc', 'test', 'instruct'], tags=['753']),\n",
       " TaggedDocument(words=['ye', 'indiscreet', 'monitor'], tags=['754']),\n",
       " TaggedDocument(words=['exponenti', 'method', 'numer', 'integr', 'ordinari', 'differenti', 'equat', 'formula', 'numer', 'integr', 'prepar', ',', 'involv', 'exponenti', 'term', '.', 'formula', 'compar', 'standard', 'integr', 'method', ',', 'shown', 'larg', 'class', 'differenti', 'equat', ',', 'exponenti', 'formula', 'superior', 'stabil', 'properti', 'larg', 'step', 'size', '.', 'formula', 'larg', 'step', 'size', 'decreas', 'total', 'comput', 'time', 'solut', 'significantli', ',', 'engin', 'problem', 'high', 'accuraci', 'need', '.'], tags=['755']),\n",
       " TaggedDocument(words=['comput', 'program', 'edit', 'new'], tags=['756']),\n",
       " TaggedDocument(words=['simul', 'traffic', 'network'], tags=['757']),\n",
       " TaggedDocument(words=['skelet', 'structur', 'pert', 'cpa', 'comput', 'program', 'introduct', 'mechan', 'pert', 'cpa', 'comput', 'program', 'provid', '.', 'major', 'compon', 'program', 'purpos', 'interrelationship', 'outlin', '.'], tags=['758']),\n",
       " TaggedDocument(words=['continu', 'oper', 'notat', 'symbol', 'manipul', 'array', 'process', 'account', 'notat', 'devic', 'formal', 'represent', 'syntax', ',', 'string', 'relationship', 'string', 'transform', 'procedur', 'comput', 'procedur', 'deal', 'array', 'function', 'variabl', '.', 'devic', 'consist', '\"', 'continu', 'oper', '\"', '\"', 'collect', '\"', 'symbol', 'analog', 'summat', 'symbol', '(', 'sigma', ')', 'continu', 'multipl', 'symbol', '(', 'pi', ')', 'convent', 'mathemat', '.'], tags=['759']),\n",
       " TaggedDocument(words=['dialect', 'fortran'], tags=['760']),\n",
       " TaggedDocument(words=['note', 'dangl', 'algol', '60', 'revis', 'algol', '60', 'propos', ',', 'elimin', 'ambigu', 'statement', 'add', 'conveni', 'languag', '.', 'discuss', 'background', 'problem', 'sketch', 'proof', 'ambigu', 'remov', 'includ', '.'], tags=['761']),\n",
       " TaggedDocument(words=['remark', 'syntax', 'symbol', 'program', 'languag'], tags=['762']),\n",
       " TaggedDocument(words=['syntax', 'control', 'gener', 'formal', 'languag', 'processor'], tags=['763']),\n",
       " TaggedDocument(words=['reduct', 'matrix', 'polynomi', 'element', '(', 'algorithm', '170', ')'], tags=['764']),\n",
       " TaggedDocument(words=['orthogon', 'polynomi', 'squar', 'surfac', 'fit', '(', 'algorithm', '164', ')'], tags=['765']),\n",
       " TaggedDocument(words=['xy', '-', 'move', 'plot', '(', 'algorithm', '162', ')'], tags=['766']),\n",
       " TaggedDocument(words=['certif', 'algorithm', '161', 'combinatori', 'thing', 'time', ',', 'time', ',', 'time', '[', '.', '.', 'wolfson', '.', '.', 'wright', ',', 'comm', '.', 'acm', ',', 'apr', '.', '1963', ']'], tags=['767']),\n",
       " TaggedDocument(words=['certif', 'algorithm', '160', 'combinatori', 'thing', 'time', '[', '.', '.', 'wolfson', '.', '.', 'wright', ',', 'comm', '.', 'acm', ',', 'apr', '.', '1963', ']'], tags=['768']),\n",
       " TaggedDocument(words=['algebra', 'set', '(', 'algorithm', '156', ')'], tags=['769']),\n",
       " TaggedDocument(words=['combin', 'order', '(', 'algorithm', '155', ')'], tags=['770']),\n",
       " TaggedDocument(words=['combin', 'lexicograph', 'order', '(', 'algorithm', '154', ')'], tags=['771']),\n",
       " TaggedDocument(words=['gomori', '(', 'algorithm', '153', ')'], tags=['772']),\n",
       " TaggedDocument(words=['matrix', 'invers', '(', 'algorithm', '140', ')'], tags=['773']),\n",
       " TaggedDocument(words=['jacobi', '(', 'algorithm', '85', ')'], tags=['774']),\n",
       " TaggedDocument(words=['interpol', ',', 'differenti', ',', 'integr', '(', 'algorithm', '77', ')'], tags=['775']),\n",
       " TaggedDocument(words=['partit', ',', 'quicksort', ',', 'find', '(', 'algorithm', '62', ',', '64', ',', '&', '65', ')'], tags=['776']),\n",
       " TaggedDocument(words=['set', 'test', 'matric', '(', 'algorithm', '52', ')'], tags=['777']),\n",
       " TaggedDocument(words=['legendr', 'function', 'kind', 'real', 'imaginari', 'argument', '(', 'algorithm', '47', ')'], tags=['778']),\n",
       " TaggedDocument(words=['crout', 'ii', '(', 'algorithm', '43', ')'], tags=['779']),\n",
       " TaggedDocument(words=['algorithm', '42', 'invert', ',', 'alg', '.', '107', 'gauss', \"'\", 'method', ',', 'alg', '.', '120', 'invers', 'ii', ',', 'gjr'], tags=['780']),\n",
       " TaggedDocument(words=['telescop', '2', '(', 'algorithm', '38', ')'], tags=['781']),\n",
       " TaggedDocument(words=['telescop', '1', '(', 'algorithm', '37', ')'], tags=['782']),\n",
       " TaggedDocument(words=['shellsort', '(', 'algorithm', '201', ')'], tags=['783']),\n",
       " TaggedDocument(words=['normal', 'random', '(', 'algorithm', '200', ')'], tags=['784']),\n",
       " TaggedDocument(words=['convers', 'calendar', 'date', 'julian', 'day', 'number', '(', 'algorithm', '199', ')'], tags=['785']),\n",
       " TaggedDocument(words=['adapt', 'integr', 'multipl', 'integr', '(', 'algorithm', '198', ')'], tags=['786']),\n",
       " TaggedDocument(words=['matrix', 'divis', '(', 'algorithm', '197', ')'], tags=['787']),\n",
       " TaggedDocument(words=['muller', \"'\", 'method', 'find', 'root', 'arbitrari', 'function', '(', 'algorithm', '196', ')'], tags=['788']),\n",
       " TaggedDocument(words=['bandsolv', '(', 'algorithm', '195', ')'], tags=['789']),\n",
       " TaggedDocument(words=['zersol', '(', 'algorithm', '194', ')'], tags=['790']),\n",
       " TaggedDocument(words=['charact', 'manipul', '7090', 'fortran'], tags=['791']),\n",
       " TaggedDocument(words=['multipl', '-', 'precis', 'binari', '-', '-', 'decim', 'integ', 'convers', 'addit', 'subtract'], tags=['792']),\n",
       " TaggedDocument(words=['map', 'list', 'structur'], tags=['793']),\n",
       " TaggedDocument(words=['list', '-', 'type', 'storag', 'techniqu', 'alphamer', 'inform', 'method', 'econom', 'term', 'space', 'time', 'propos', 'storag', 'manipul', 'charact', 'string', 'arbitrari', 'length', 'fix', 'word', '-', 'length', 'comput', '.', 'method', 'illustr', 'applic', 'algol', '-', 'type', 'identifi', 'algol', '-', 'block', 'structur', '.'], tags=['794']),\n",
       " TaggedDocument(words=['debug', 'system', 'sourc', 'languag', 'level'], tags=['795']),\n",
       " TaggedDocument(words=['sabrag', ',', 'time', '-', 'share', 'low', '-', 'cost', 'comput', 'serial', 'sabrac', 'comput', 'design', 'built', 'scientif', 'depart', 'israel', 'defens', 'ministri', '5000', '-', 'locat', 'magnet', 'drum', ',', 'main', 'store', '.', 'avoid', 'need', 'resort', 'optimum', 'program', 'techniqu', 'increas', 'effici', 'comput', '224', '-', 'word', 'ferrit', 'core', 'store', 'program', 'obey', '.', 'transfer', 'core', 'drum', 'store', 'twin', 'paper', '-', 'tape', 'input', 'output', 'channel', 'autonom', '(', 'concurr', ',', 'time', '-', 'share', ').', 'multipl', 'divis', 'order', 'autonom', ',', 'machin', 'execut', 'order', 'simultan', '.', 'function', 'natur', 'interlock', '.', 'number', 'advanc', 'order', 'facil', 'incorpor', '.', ',', '\"', 'execut', '\"', 'order', 'permit', 'temporari', 'jump', 'order', 'modifi', 'regist', 'permit', 'doubl', 'modif', 'gener', 'rel', 'address', 'subroutin', '.', 'effect', 'speed', 'machin', 'muchhigh', 'basic', 'specif', 'lead', 'expect', 'design', 'concept', 'time', 'share', 'incorpor', '\"', 'low', '-', 'cost', '\"', 'comput', '.'], tags=['796']),\n",
       " TaggedDocument(words=['american', 'standard', 'code', 'inform', 'interchang'], tags=['797']),\n",
       " TaggedDocument(words=['catalogu', 'entri', 'retriev', 'system'], tags=['798']),\n",
       " TaggedDocument(words=['design', 'separ', 'transit', '-', 'diagram', 'compil', '*', 'cobol', 'compil', 'design', 'present', 'compact', 'permit', 'rapid', ',', '-', 'pass', 'compil', 'larg', 'subset', 'cobol', 'moder', 'larg', 'comput', '.', 'version', 'compil', 'smaller', 'machin', 'requir', 'work', 'tape', 'compil', 'tape', '.', 'method', 'larg', 'applic', 'construct', 'algol', 'compil', '.'], tags=['799']),\n",
       " TaggedDocument(words=['link', 'segment', 'subprogram', 'languag', 'link', 'loader'], tags=['800']),\n",
       " TaggedDocument(words=['squar', 'solut', 'constraint', '(', 'algorithm', '177', ')'], tags=['801']),\n",
       " TaggedDocument(words=['syminv2', '(', 'algorithm', '150', ')'], tags=['802']),\n",
       " TaggedDocument(words=['syminv2', '(', 'algorithm', '150', ')'], tags=['803']),\n",
       " TaggedDocument(words=['exponenti', 'seri', '(', 'algorithm', '134', ')'], tags=['804']),\n",
       " TaggedDocument(words=['newton', 'maehli', '(', 'algorithm', '105', ')'], tags=['805']),\n",
       " TaggedDocument(words=['remark', 'certif', 'matrix', 'invers', 'procedur'], tags=['806']),\n",
       " TaggedDocument(words=['revers', 'seri', '(', 'algorithm', '193', ')'], tags=['807']),\n",
       " TaggedDocument(words=['confluent', 'hypergeometr', '(', 'algorithm', '192', ')'], tags=['808']),\n",
       " TaggedDocument(words=['hypergeometr', '(', 'algorithm', '191', ')'], tags=['809']),\n",
       " TaggedDocument(words=['complex', 'power', '(', 'algorithm', '190', ')'], tags=['810']),\n",
       " TaggedDocument(words=['smooth', '2', '(', 'algorithm', '189', ')'], tags=['811']),\n",
       " TaggedDocument(words=['smooth', '1', '(', 'algorithm', '188', ')'], tags=['812']),\n",
       " TaggedDocument(words=['differ', 'deriv', '(', 'algorithm', '187', ')'], tags=['813']),\n",
       " TaggedDocument(words=['complex', 'arithmet', '(', 'algorithm', '186', ')'], tags=['814']),\n",
       " TaggedDocument(words=['normal', 'probabl', 'curv', 'fit', '(', 'algorithm', '185', ')'], tags=['815']),\n",
       " TaggedDocument(words=['erlang', 'probabl', 'curv', 'fit', '(', 'algorithm', '184', ')'], tags=['816']),\n",
       " TaggedDocument(words=['nexcom', '(', 'algorithm', '152', ')'], tags=['817']),\n",
       " TaggedDocument(words=['realiz', 'boolean', 'connect', 'ibm', '1620'], tags=['818']),\n",
       " TaggedDocument(words=['polynomi', 'evalu', 'revis'], tags=['819']),\n",
       " TaggedDocument(words=['check', 'loop', 'network'], tags=['820']),\n",
       " TaggedDocument(words=['remark', 'sampl', 'tape', '-', 'iii'], tags=['821']),\n",
       " TaggedDocument(words=['real', '-', 'time', 'program', 'specif', 'problem', 'implement', 'larg', 'real', '-', 'time', 'applic', 'treat', ',', 'suggest', 'guidelin', 'program', 'specif', 'develop', '.', 'problem', 'delin', 'occur', 'system', 'program', '.'], tags=['822']),\n",
       " TaggedDocument(words=['syntact', 'descript', 'bc', 'nelliac'], tags=['823']),\n",
       " TaggedDocument(words=['descriptran', '-', 'autom', 'descript', 'geometri', '*', 'descript', 'geometri', 'consist', 'procedur', 'origin', 'design', 'solv', '3', '-', 'space', 'geometri', 'problem', 'graphic', 'construct', 'measur', 'comput', '.', ',', 'addit', 'unifi', 'simplifi', 'approach', 'problem', '.', 'call', 'subroutin', 'comput', 'coordin', 'correspond', 'obtain', 'graphic', 'construct', ',', '-', 'advantag', 'approach', 'descript', 'geometri', ',', 'accuraci', 'comput', 'speed', 'digit', 'comput', '.', 'descriptran', 'make', 'program', 'problem', '3', '-', 'space', 'statement', ';', 'consist', '15', 'subroutin', 'analog', 'procedur', 'descript', 'geometri', '.'], tags=['824']),\n",
       " TaggedDocument(words=['pip', ':', 'photo', '-', 'interpret', 'program', 'analysi', 'spark', '-', 'chamber', 'data', '*', 'oper', 'comput', 'program', 'process', 'photograph', 'record', 'data', '.', 'input', 'program', 'consist', 'spark', '-', 'chamber', 'photograph', 'track', 'high', '-', 'energi', 'particl', 'record', '.', 'program', 'scan', ',', 'measur', 'perform', 'preliminari', 'interpret', 'photograph', '.', 'continu', 'oper', 'process', 'rate', '5', ',', '000', 'photograph', 'frame', 'hour', 'achiev', '.'], tags=['825']),\n",
       " TaggedDocument(words=['remark', 'fortran', 'subroutin', 'time', 'seri', 'analysi'], tags=['826']),\n",
       " TaggedDocument(words=['disk', 'sort', 'sort', 'techniqu', 'ibm', '1401', 'random', 'access', 'storag', 'devic', 'evalu', '.'], tags=['827']),\n",
       " TaggedDocument(words=['incompress', 'flow', 'network', 'calcul', 'gener', 'method', 'calcul', 'flow', 'pressur', 'fluid', 'flow', 'network', 'present', '.', 'method', 'applic', 'comput', '.'], tags=['828']),\n",
       " TaggedDocument(words=['extern', 'languag', 'klipa', 'ural', '-', '2', 'digit', 'comput'], tags=['829']),\n",
       " TaggedDocument(words=['corc', '-', 'cornel', 'comput', 'languag'], tags=['830']),\n",
       " TaggedDocument(words=['real', 'error', 'function', ',', 'erf', '(', 'algorithm', '123', ')'], tags=['831']),\n",
       " TaggedDocument(words=['curv', 'fit', 'constraint', '(', 'algorithm', '74', ')'], tags=['832']),\n",
       " TaggedDocument(words=['reduct', 'symmetr', 'bandmatrix', 'tripl', 'diagon', 'form'], tags=['833']),\n",
       " TaggedDocument(words=['nonrecurs', 'adapt', 'integr', '(', 'algorithm', '182', ')'], tags=['834']),\n",
       " TaggedDocument(words=['complementari', 'error', 'function', '-', 'larg', '(', 'algorithm', '181', ')'], tags=['835']),\n",
       " TaggedDocument(words=['error', 'function', '-', 'larg', '(', 'algorithm', '180', ')'], tags=['836']),\n",
       " TaggedDocument(words=['incomplet', 'beta', 'ratio', '(', 'algorithm', '179', ')'], tags=['837']),\n",
       " TaggedDocument(words=['direct', 'search', '(', 'algorithm', '178', ')'], tags=['838']),\n",
       " TaggedDocument(words=['squar', 'solut', 'constraint', '(', 'algorithm', '177', ')'], tags=['839']),\n",
       " TaggedDocument(words=['squar', 'surfac', 'fit', '(', 'algorithm', '176', ')'], tags=['840']),\n",
       " TaggedDocument(words=['shuttl', 'sort', '(', 'algorithm', '175', ')'], tags=['841']),\n",
       " TaggedDocument(words=['posteriori', 'bound', 'polynomi', '(', 'algorithm', '174', ')'], tags=['842']),\n",
       " TaggedDocument(words=['assign', '(', 'algorithm', '173', ')'], tags=['843']),\n",
       " TaggedDocument(words=['1410', 'fortran', 'edit', 'featur'], tags=['844']),\n",
       " TaggedDocument(words=['test', 'matrix', 'determin', 'invers'], tags=['845']),\n",
       " TaggedDocument(words=['-', 'invers', 'convers', 'tabl'], tags=['846']),\n",
       " TaggedDocument(words=['penni', '-', 'match', 'program', 'logic', 'penni', '-', 'match', 'program', 'written', 'csx', '-', '1', '.'], tags=['847']),\n",
       " TaggedDocument(words=['note', 'rang', 'transform', 'squar', 'root', 'logarithm', 'germ', 'idea', 'previou', 'paper', '[', '1', ',', '2', ']', 'pick', 'year', '.', 'function', 'desir', 'transform', 'argument', 'short', 'rang', 'symmetr', '10', '.', '1', 'give', 'exampl', 'usag', 'squar', 'root', 'logarithm', 'function', 'binari', 'decim', 'machin', '.'], tags=['848']),\n",
       " TaggedDocument(words=['tree', 'structur', 'process', 'data', 'process', 'problem', ',', 'frequent', 'search', 'alter', '.', 'binari', 'search', 'techniqu', 'effici', 'search', 'larg', ',', 'organ', 'readili', 'adapt', 'alter', '.', 'convers', ',', 'chain', 'alloc', 'permit', 'effici', 'alter', 'search', 'effici', '.', 'organ', 'tree', '-', 'structur', 'discuss', ',', 'shown', 'search', 'alter', 'time', 'proport', 'slog', '(', ')', ',', 'number', 'item', 'paramet', 'tree', '.', 'shown', 'optim', 'lead', 'search', 'time', '25', 'cent', 'slower', 'binari', 'search', '.', 'tree', 'organ', 'employ', 'data', 'chain', 'consid', 'compromis', 'organ', 'binari', 'search', 'chain', '.', 'relat', 'tree', 'organ', 'multidimension', 'index', 'trie', 'structur', 'discuss', '.'], tags=['849']),\n",
       " TaggedDocument(words=['convers', ',', 'reconvers', 'comparison', 'techniqu', 'variabl', '-', 'length', 'sort', 'logic', 'convert', 'highli', 'variabl', 'input', 'record', 'format', 'easili', 'effici', 'process', 'sort', 'program', '.', 'intern', 'record', 'format', 'discuss', 'relat', '(', '1', ')', 'convers', 'input', 'format', ',', '(', '2', ')', 'reconvers', 'output', 'format', ',', '(', '3', ')', 'comparison', 'techniqu', 'intern', 'format', '.'], tags=['850']),\n",
       " TaggedDocument(words=['design', 'characterist', 'variabl', '-', 'length', 'record', 'sort', 'fix', '-', 'length', 'record', 'sort', 'techniqu', 'paper', 'describ', 'applic', 'techniqu', 'sort', 'fix', '-', 'length', 'record', 'problem', 'variabl', '-', 'length', 'record', 'sort', '.', 'techniqu', 'implement', 'sylvania', '9400', 'comput', 'system', '32', ',', '000', 'fix', '-', 'length', 'word', 'memori', '.', 'specif', ',', 'techniqu', 'sequenc', 'variabl', '-', 'length', 'record', 'unrestrict', 'size', ',', 'produc', 'long', 'initi', 'string', 'data', ',', 'merg', 'string', 'data', 'power', '-', '1', ',', 'number', 'work', 'tape', 'system', ',', 'restrict', 'volum', 'input', 'data', '.'], tags=['851']),\n",
       " TaggedDocument(words=['method', 'compar', 'time', 'requir', 'sort', 'method'], tags=['852']),\n",
       " TaggedDocument(words=['cobol', 'sort', 'verb'], tags=['853']),\n",
       " TaggedDocument(words=['characterist', 'sort', 'comput', 'system', 'random', 'access', 'storag', 'devic', 'substanti', 'differ', 'characterist', 'random', 'access', 'storag', 'tape', 'devic', 'dictat', 'concept', 'object', 'comput', 'program', 'design', 'consid', 'viewpoint', 'extern', 'medium', '.', 'true', 'case', 'sort', '.', 'tape', '-', 'orient', 'system', ',', 'major', 'sort', 'problem', 'minim', 'merg', 'time', 'despit', 'limit', 'order', 'merg', '.', 'contrast', ',', 'sort', 'random', 'access', '-', 'orient', 'system', 'encourag', 'select', 'optimum', 'order', 'merg', 'order', '.', 'problem', 'discuss', 'paper', ',', 'criteria', 'develop', 'determin', 'optimum', 'order', 'merg', 'accord', 'properti', 'random', 'access', 'storag', 'devic', '.', 'attent', 'problem', 'key', 'sort', 'versu', 'record', 'sort', 'possibl', 'disadvantag', 'key', 'sort', 'random', 'access', 'system', '.'], tags=['854']),\n",
       " TaggedDocument(words=['organ', 'structur', 'dataon', 'disk', 'memori', 'system', 'effici', 'sort', 'data', 'process', 'program', 'approach', 'organ', 'structur', 'data', 'bryant', 'disc', 'memori', 'system', 'sort', 'perform', 'data', 'process', 'function', 'present', '.', 'area', 'cover', ':', 'characterist', 'bryant', 'disc', 'system', 'bendix', '-', '20', 'rca', '301', ';', 'propos', '\"', 'chain', '\"', 'structur', 'data', ';', 'function', 'disk', 'execut', 'routin', '.', 'concept', 'sort', 'perform', 'mainten', 'process', 'propos', 'structur', 'execut', 'routin', 'discuss', '.', 'addit', ',', 'shown', 'sort', 'accomplish', 'disk', 'storag', 'work', 'area', '.'], tags=['855']),\n",
       " TaggedDocument(words=['sort', 'larg', 'volum', ',', 'random', 'access', ',', 'drum', 'storag', 'approach', 'sort', 'record', 'random', 'access', 'drum', 'memori', '.', 'sort', 'program', 'design', 'gener', ',', '-', 'gener', 'sort', ',', 'applic', 'varieti', 'record', 'statement', '.', 'descript', 'divid', 'part', '.', 'part', 'present', 'oper', 'environ', ';', 'defin', 'gener', 'solut', ';', 'part', 'describ', 'intern', 'sort', '-', 'merg', 'techniqu', '.'], tags=['856']),\n",
       " TaggedDocument(words=['sort', 'nonredund', '-', 'techniqu', 'fact', 'compil', 'typic', 'structur', ',', 'includ', 'call', '\"', 'non', '-', 'redund', ',\"', 'examin', ',', 'method', 'fact', 'sort', 'discuss', '.'], tags=['857']),\n",
       " TaggedDocument(words=['tape', 'merg', 'pattern', 'gener', 'routin', 'present', 'specifi', 'sequenc', 'merg', 'cycl', 'effect', 'merg', 'sort', 'tape', '.', 'routin', 'design', 'minim', 'elaps', 'comput', 'time', 'vari', 'power', 'merg', 'cycl', ',', 'tape', 'drive', ',', 'characterist', 'assign', 'drive', 'singl', '-', 'reel', 'drive', 'multipl', '-', 'reel', '.'], tags=['858']),\n",
       " TaggedDocument(words=['comput', 'plan', 'collat'], tags=['859']),\n",
       " TaggedDocument(words=['comparison', 'polyphas', 'oscil', 'sort', 'techniqu', 'comparison', 'oscil', 'polyphas', 'sort', 'techniqu', 'develop', 'comput', 'system', 'ten', 'tape', 'drive', '.', 'basi', 'comparison', 'total', 'read', 'write', 'requir', 'number', 'input', 'string', 'tape', 'drive', 'techniqu', '.'], tags=['860']),\n",
       " TaggedDocument(words=['read', '-', 'backward', 'polyphas', 'sort', 'read', '-', 'backward', 'polyphas', 'sort', 'effici', 'tape', 'sort', 'sort', 'techniqu', '.', 'backward', 'polyphas', 'produc', 'continu', 'merg', 'process', '-', '1', 'tape', 'total', 'number', 'tape', 'sort', 'process', '.', 'presort', 'techniqu', 'conjunct', 'polyphas', 'merg', 'sort', 'provid', 'presort', 'capabl', 'produc', 'ascend', 'descend', 'string', 'distribut', 'string', 'tape', 'requir', 'polyphas', 'merg', '.'], tags=['861']),\n",
       " TaggedDocument(words=['string', 'distribut', 'polyphas', 'sort'], tags=['862']),\n",
       " TaggedDocument(words=['multiphas', 'sort'], tags=['863']),\n",
       " TaggedDocument(words=['empir', 'studi', 'minim', 'storag', 'sort'], tags=['864']),\n",
       " TaggedDocument(words=['intern', 'tape', 'sort', 'replac', '-', 'select', 'techniqu', 'gener', 'techniqu', 'sequenc', 'unsort', 'record', 'present', '.', 'techniqu', 'shown', 'applic', 'stage', 'gener', 'sort', 'program', '(', 'format', 'initi', 'string', ')', 'sort', 'record', 'memori', 'storag', '(', 'intern', 'sort', ').', 'shown', 'record', 'memori', 'storag', ',', 'record', 'sequenc', '1', '+', 'log2', 'test', 'record', ',', 'initi', 'string', 'length', 'averag', '2n', 'random', 'input', 'record', ',', 'read', ',', 'write', 'process', 'accomplish', 'simultan', 'comput', 'permit', 'overlap', '.'], tags=['865']),\n",
       " TaggedDocument(words=['sort', 'comput'], tags=['866']),\n",
       " TaggedDocument(words=['squar', 'fit', 'plane', 'surfac', 'dynam', 'program', 'dynam', 'program', 'recent', 'stone', ',', 'bellman', 'gluss', 'determin', 'closet', 'fit', 'broken', 'line', 'segment', 'curv', 'interv', 'constraint', 'number', 'segment', 'fix', '.', 'present', 'paper', 'success', 'model', 'develop', 'extend', 'method', 'fit', 'broken', 'plane', 'segment', 'surfac', '=', '(', ',', ')', 'defin', 'type', 'subarea', '(', ',', ')-', 'space', '.', 'model', 'consid', 'rectangular', 'area', ',', 'constraint', 'plane', 'segment', 'defin', 'grid', '(', ',', ')-', 'space', '.', 'shown', 'model', 'incorpor', 'algorithm', 'success', 'approxim', 'optim', 'fit', 'type', 'close', 'area', '.', 'final', ',', 'applic', 'briefli', '.'], tags=['867']),\n",
       " TaggedDocument(words=['suggest', 'method', 'make', 'fuller', 'string', 'algol', '60'], tags=['868']),\n",
       " TaggedDocument(words=['term', 'magic', 'squar', '(', 'algorithm', '148', ')'], tags=['869']),\n",
       " TaggedDocument(words=['term', 'magic', 'squar', '(', 'algorithm', '148', ')'], tags=['870']),\n",
       " TaggedDocument(words=['psif', '(', 'algorithm', '147', ')'], tags=['871']),\n",
       " TaggedDocument(words=['adapt', 'numer', 'integr', 'simpson', \"'\", 'rule', '(', 'algorithm', '145', ')'], tags=['872']),\n",
       " TaggedDocument(words=['random', '(', 'algorithm', '133', ')'], tags=['873']),\n",
       " TaggedDocument(words=['chebyshev', 'curvefit', '(', 'algorithm', '91', ')'], tags=['874']),\n",
       " TaggedDocument(words=['incomplet', 'ellipt', 'integr', '(', 'algorithm', '73', ')'], tags=['875']),\n",
       " TaggedDocument(words=['complet', 'ellipt', 'integr', '(', 'algorithm', '149', ')'], tags=['876']),\n",
       " TaggedDocument(words=['complet', 'ellipt', 'integr', 'kind', '(', 'algorithm', '55', ')'], tags=['877']),\n",
       " TaggedDocument(words=['reduct', 'matrix', 'polynomi', 'element', '(', 'algorithm', '170', ')'], tags=['878']),\n",
       " TaggedDocument(words=['newton', 'interpol', 'forward', 'divid', 'differ', '(', 'algorithm', '169', ')'], tags=['879']),\n",
       " TaggedDocument(words=['newton', 'interpol', 'backward', 'divid', 'differ'], tags=['880']),\n",
       " TaggedDocument(words=['calcul', 'confluent', 'divid', 'differ', '(', 'algorithm', '167', ')'], tags=['881']),\n",
       " TaggedDocument(words=['mont', 'carlo', '(', 'algorithm', '166', ')'], tags=['882']),\n",
       " TaggedDocument(words=['complet', 'ellipt', 'integr', '(', 'algorithm', '165', ')'], tags=['883']),\n",
       " TaggedDocument(words=['orthogon', 'polynomi', 'squar', 'surfac', 'fit', '(', 'algorithm', '164', ')'], tags=['884']),\n",
       " TaggedDocument(words=['modifi', 'hankel', 'function', '(', 'algorithm', '163', ')'], tags=['885']),\n",
       " TaggedDocument(words=['xy', '-', 'move', 'plot', '(', 'algorithm', '162', ')'], tags=['886']),\n",
       " TaggedDocument(words=['combinatori', 'thing', 'time', ',', 'time', ',', 'time', '(', 'algorithm', '161', ')'], tags=['887']),\n",
       " TaggedDocument(words=['algorithm', '160', 'combinatori', 'thing', 'time'], tags=['888']),\n",
       " TaggedDocument(words=['offici', 'action', 'respons', 'algol', 'program', 'languag'], tags=['889']),\n",
       " TaggedDocument(words=['select', 'definit', 'select', 'definit', 'prepar', 'acm', 'standard', 'committe', \"'\", 'subcommitte', 'program', 'terminolog', 'present', 'review', 'acm', 'membership', '.'], tags=['890']),\n",
       " TaggedDocument(words=['everyman', \"'\", 'inform', 'retriev', 'system', 'inform', 'retriev', 'problem', 'solut', 'present', 'pose', 'technic', 'librari', 'limit', 'bubget', 'personnel', '.', 'solut', ',', ',', 'gener', 'applic', 'type', 'retriev', 'problem', '.', ',', 'method', 'solut', 'make', 'group', 'previous', 'dismiss', 'inform', 'retriev', 'program', 'expens', 'difficult', '(', 'program', 'stand', '-', 'point', ')', 'reconsid', 'posit', ',', 'present', 'solut', 'make', 'instal', 'inform', 'retriev', 'program', 'month', ',', 'equip', '.'], tags=['891']),\n",
       " TaggedDocument(words=['recol', '-', 'retriev', 'command', 'languag', 'interrog', 'scheme', 'retriev', 'manipul', 'data', 'record', '.', 'languag', 'interrog', 'scheme', 'select', 'record', 'logic', 'condit', 'statement', ',', 'defin', 'record', 'class', ',', 'associ', 'record', ',', 'edit', 'print', 'output', ',', 'summar', 'result', 'oper', '.', 'exampl', 'typic', 'applic', 'signific', 'featur', 'machin', 'implement', '.'], tags=['892']),\n",
       " TaggedDocument(words=['signific', 'arithmet', 'digit', 'comput', '7090', 'nyu', 'modifi', 'includ', '\"', 'signific', 'mode', '\"', 'oper', 'intend', 'facilit', 'identif', 'signific', 'bit', 'result', 'float', '-', 'point', 'arithmet', 'oper', '.', 'manner', 'float', '-', 'point', 'arithmet', 'handl', 'mode', 'discuss', '.', 'numer', 'experi', 'mode', 'comparison', 'made', 'ordinari', '\"', 'normal', 'mode', '.\"', 'exampl', 'includ', 'power', 'seri', 'evalu', ',', 'linear', 'equat', 'solut', ',', 'determin', 'evalu', 'matrix', 'invers', '.'], tags=['893']),\n",
       " TaggedDocument(words=['iter', 'factor', 'techniqu', 'polynomi', 'iter', 'techniqu', 'display', 'factor', 'arbitrari', 'degre', 'found', 'polynomi', 'variabl', '.', 'converg', 'shown', 'occur', 'jacobian', 'vanish', 'initi', 'approxim', 'factor', 'actual', 'factor', '.', 'process', 'simpli', 'program', ',', 'preliminari', 'result', 'adapt', 'digit', 'comput', '.', 'factor', 'degre', ',', 'techniqu', 'similar', 'bairstow', ',', 'present', 'method', 'simpler', '.'], tags=['894']),\n",
       " TaggedDocument(words=['comput', 'extens', 'variat', 'differ', 'method', 'present', 'comput', 'extens', 'variat', 'differ', 'method', 'develop', '.', 'tintner', '[', '1', '].'], tags=['895']),\n",
       " TaggedDocument(words=['characterist', 'valu', 'vector', 'defect', 'matric'], tags=['896']),\n",
       " TaggedDocument(words=['note', 'proof', 'non', '-', 'exist', 'phrase', 'structur', 'grammar', 'algol', '60'], tags=['897']),\n",
       " TaggedDocument(words=['random', '(', 'algorithm', '133', ')'], tags=['898']),\n",
       " TaggedDocument(words=['magic', 'squar', '(', 'algorithm', '117', '&', '118', ')'], tags=['899']),\n",
       " TaggedDocument(words=['ancestor', '(', 'algorithm', '79', ')'], tags=['900']),\n",
       " TaggedDocument(words=['differ', 'express', 'coeffici', '(', 'algorithm', '79', ')'], tags=['901']),\n",
       " TaggedDocument(words=['determin', '(', 'algorithm', '159', ')'], tags=['902']),\n",
       " TaggedDocument(words=['exponenti', 'seri', '(', 'algorithm', '134', ')'], tags=['903']),\n",
       " TaggedDocument(words=['fourier', 'seri', 'approxim', '(', 'algorithm', '157', ')'], tags=['904']),\n",
       " TaggedDocument(words=['algebra', 'set', '(', 'algorithm', '156', ')'], tags=['905']),\n",
       " TaggedDocument(words=['combin', 'order', '(', 'algorithm', '155', ')'], tags=['906']),\n",
       " TaggedDocument(words=['combin', 'lexicograph', 'order', '(', 'algorithm', '154', ')'], tags=['907']),\n",
       " TaggedDocument(words=['test', 'matrix', 'invers'], tags=['908']),\n",
       " TaggedDocument(words=['arithmet', 'declar', '(', 'corrigendum', ')'], tags=['909']),\n",
       " TaggedDocument(words=['select', 'instruct', 'trap', '7090'], tags=['910']),\n",
       " TaggedDocument(words=['variant', 'method', 'search'], tags=['911']),\n",
       " TaggedDocument(words=['address', 'array', 'yi', '-', 'dimens', 'fortran', 'analysi', 'varianc'], tags=['912']),\n",
       " TaggedDocument(words=['neliac'], tags=['913']),\n",
       " TaggedDocument(words=['jovial', 'document'], tags=['914']),\n",
       " TaggedDocument(words=['document', 'ipl', '-'], tags=['915']),\n",
       " TaggedDocument(words=['fortran'], tags=['916']),\n",
       " TaggedDocument(words=['comit'], tags=['917']),\n",
       " TaggedDocument(words=['cobol'], tags=['918']),\n",
       " TaggedDocument(words=['document', 'problem', ':', 'algol', '60'], tags=['919']),\n",
       " TaggedDocument(words=['document', 'program', 'languag'], tags=['920']),\n",
       " TaggedDocument(words=['incomplet', 'ellipt', 'integr', '(', 'algorithm', '73', ')'], tags=['921']),\n",
       " TaggedDocument(words=['multint', '(', 'algorithm', '32', ')'], tags=['922']),\n",
       " TaggedDocument(words=['gomori', '(', 'algorithm', '153', ')'], tags=['923']),\n",
       " TaggedDocument(words=['nexcom', '(', 'algorithm', '152', ')'], tags=['924']),\n",
       " TaggedDocument(words=['locat', 'vector', 'lexicograph', 'order', 'listalgorithm', '151', ')'], tags=['925']),\n",
       " TaggedDocument(words=['syminv2', '(', 'algorithm', '150', ')'], tags=['926']),\n",
       " TaggedDocument(words=['linear', 'program', 'appli', 'ultraviolet', 'absorpt', 'spectroscopi'], tags=['927']),\n",
       " TaggedDocument(words=['charact', 'manipul', 'fortran'], tags=['928']),\n",
       " TaggedDocument(words=['glossari', 'construct'], tags=['929']),\n",
       " TaggedDocument(words=['decim', '-', '-', 'binari', 'convers', 'short', 'field'], tags=['930']),\n",
       " TaggedDocument(words=['systemat', 'mistak', 'analysi', 'digit', 'comput', 'program'], tags=['931']),\n",
       " TaggedDocument(words=['matrix', 'invers', 'gauss', '-', 'jordan', 'invers', 'ii', '(', 'algorithm', '120', ')'], tags=['932']),\n",
       " TaggedDocument(words=['magic', 'squar', '(', 'algorithm', '117', '&', '118', ')'], tags=['933']),\n",
       " TaggedDocument(words=['gauss', \"'\", 'method', '(', 'algorithm', '107', ')'], tags=['934']),\n",
       " TaggedDocument(words=['calcul', 'prime', 'mean', 'gp', '(', 'algorithm', ')'], tags=['935']),\n",
       " TaggedDocument(words=['set', 'test', 'matric', '(', 'algorithm', '52', ')'], tags=['936']),\n",
       " TaggedDocument(words=['invers', 'finit', 'segment', 'hilbert', 'matrix', '(', 'algorithm', '50', ')'], tags=['937']),\n",
       " TaggedDocument(words=['invert', '(', 'algorithm', '42', ')'], tags=['938']),\n",
       " TaggedDocument(words=['gamma', 'function', '(', 'algorithm', '31', ')'], tags=['939']),\n",
       " TaggedDocument(words=['gener', 'discret', 'random', 'variabl', 'comput', 'note', 'concern', 'detail', 'instruct', 'comput', 'choos', 'thing', 'assign', 'probabl', '.', 'method', 'uniform', 'variabl', 'direct', 'comput', 'memori', 'locat', ';', 'sequenc', 'appropri', 'chosen', 'condit', 'probabl', ',', 'effici', 'memori', 'space', 'fast', 'program', 'result', '.'], tags=['940']),\n",
       " TaggedDocument(words=['recurs', 'program', 'gener', '-', 'dimension', 'integr', 'gener', 'program', 'outlin', '-', 'dimension', 'integr', 'variabl', 'limit', '.', 'program', 'recurs', 'natur', 'simpson', \"'\", 'rule', 'combin', 'repeat', 'bisect', 'attain', 'requir', 'accuraci', '.', 'develop', 'ferranti', 'mercuri', 'autocod', 'scheme', '.'], tags=['941']),\n",
       " TaggedDocument(words=['fortran', 'subroutin', 'time', 'seri', 'analysi', 'author', 'recent', 'concern', 'time', '-', 'seri', 'studi', 'constitut', 'fairli', 'typic', 'piec', 'appli', 'statist', 'research', ',', 'involv', 'extens', 'comput', 'moder', 'larg', 'quantiti', 'data', '.', 'wehav', 'found', 'numer', 'process', 'requir', 'built', 'complet', 'small', 'number', 'basic', 'oper', ',', 'set', 'fortran', 'subroutin', 'written', 'perform', '.', 'main', 'purpos', 'note', 'describ', 'subroutin', ',', 'question', 'gener', 'statist', 'program', 'topic', '[', '1', '],', 'includ', 'gener', 'remark', '.'], tags=['942']),\n",
       " TaggedDocument(words=['term', 'frequent', 'combin', 'problem', 'descript'], tags=['943']),\n",
       " TaggedDocument(words=['storag', 'search', 'properti', 'tree', '-', 'organ', 'memori', 'system', 'memori', 'list', 'properti', '[', '1', ']', 'construct', 'numer', ',', 'alphabet', 'alphanumer', 'tree', '.', 'tree', 'inform', 'storag', 'retriev', 'properti', 'applic', 'problem', 'involv', 'larg', 'quantiti', 'data', 'problem', 'quantiti', ',', 'word', 'length', 'distribut', 'store', 'inform', 'known', 'priori', ',', 'rapidli', 'process', '.', 'purpos', 'paper', 'examin', 'storag', 'search', 'properti', 'tree', '-', 'organ', 'storag', 'system', 'assum', 'memori', 'possess', 'list', 'properti', '.', 'prime', 'interest', 'applic', 'symbol', 'tabl', ',', 'dictionari', 'similar', 'store', 'search', '.'], tags=['944']),\n",
       " TaggedDocument(words=['arithmet', 'declar', ':', 'applic', 'cobol'], tags=['945']),\n",
       " TaggedDocument(words=['suggest', 'algol', '60', '(', 'rome', ')', 'issu', '-', 'report', 'american', 'standard', 'associ', 'subcommitte', 'x3', '.', '4', '.', '2'], tags=['946']),\n",
       " TaggedDocument(words=['supplement', 'algol', '60', 'report'], tags=['947']),\n",
       " TaggedDocument(words=['note', 'procedur'], tags=['948']),\n",
       " TaggedDocument(words=['integ', 'sign', 'constant', 'algol', 'remark', 'relat', 'syntax', 'semant', 'program', 'languag', '.', 'aim', 'point', ',', 'true', 'grammar', 'context', '-', 'free', 'languag', 'conceiv', 'string', '-', 'gener', 'devic', 'method', 'express', 'mean', ',', 'grammar', 'algol', 'open', 'critic', '.'], tags=['949']),\n",
       " TaggedDocument(words=['parallel', 'method', 'integr', 'ordinari', 'differenti', 'equat', 'paper', 'dedic', 'proposit', ',', 'order', 'take', 'full', 'advantag', 'real', '-', 'time', 'comput', 'highli', 'parallel', 'comput', 'expect', 'futur', ',', 'numer', 'analysi', 'recast', '\"', 'parallel', '\"', 'form', '.', 'meant', 'serial', 'algorithm', 'replac', 'algorithm', 'consist', 'subtask', 'comput', 'knowledg', 'result', 'subtask', '.', ',', 'method', 'propos', '\"', 'parallel', '\"', 'numer', 'integr', 'ordinari', 'differenti', 'equat', ',', 'process', ',', 'standard', 'method', ',', 'entir', 'serial', '.'], tags=['950']),\n",
       " TaggedDocument(words=['ration', 'chebyshev', 'approxim', 'bessel', 'function', 'integr', 'ki', '(', ')', 'reme', 'algorithm', 'approxim', 'integr', 'ki', 'ration', 'function', '.', 'relat', 'coeffici', 'approxim', 'ki1', ',', 'ki2', ',', 'ki3', 'precis', '.'], tags=['951']),\n",
       " TaggedDocument(words=['fortran', 'ii', 'chain'], tags=['952']),\n",
       " TaggedDocument(words=['scan', 'text', '1401'], tags=['953']),\n",
       " TaggedDocument(words=['note', 'calcul', 'probabl', '-', 'distribut'], tags=['954']),\n",
       " TaggedDocument(words=['class', 'matric', 'test', 'invers', 'procedur'], tags=['955']),\n",
       " TaggedDocument(words=['famili', 'test', 'matric'], tags=['956']),\n",
       " TaggedDocument(words=['method', 'partial', 'rewrit', 'magnet', 'tape'], tags=['957']),\n",
       " TaggedDocument(words=['case', 'precis'], tags=['958']),\n",
       " TaggedDocument(words=['mark', 'sens', 'port', '-', '-', 'punch', 'program', 'input'], tags=['959']),\n",
       " TaggedDocument(words=['curv', 'fit', 'format', 'fortran'], tags=['960']),\n",
       " TaggedDocument(words=['limit', 'bit', 'manipul', 'fortran', 'ii', 'techniqu', 'develop', 'manipul', 'bit', 'fortran', 'ii', '.', 'techniqu', 'allow', 'individu', 'bit', 'test', ',', 'field', 'shift', ',', 'number', 'code', 'bcd', 'convert', 'binari', '.'], tags=['961']),\n",
       " TaggedDocument(words=['doubl', '-', 'precis', 'squar', 'root', 'cdc', '-', '3600', 'januari', '1960', ',', 'late', 'han', '.', 'maehli', 'complet', 'summari', 'approxim', 'elementari', 'function', 'cdc', '-', '1604', 'comput', '.', 'approxim', 'techniqu', 'suggest', 'maehli', 'equal', 'applic', 'larg', 'comput', 'cdc', 'line', ',', '3600', '.', 'unlik', '1604', ',', ',', '3600', 'built', '-', 'doubl', '-', 'precis', 'float', '-', 'point', 'arithmet', '.', 'present', 'work', ',', 'larg', 'inspir', 'success', 'maehli', 'associ', ',', 'concern', 'extens', 'maehli', \"'\", 'idea', 'doubl', '-', 'precis', 'subroutin', '3600', '.'], tags=['962']),\n",
       " TaggedDocument(words=['rel', 'effect', 'central', 'processor', 'input', '-', 'output', 'speed', 'throughput', 'larg', 'comput', 'present', 'paper', 'techniqu', 'determin', 'rel', 'effect', 'intern', 'speed', 'comput', 'speed', 'input', '-', 'output', 'unit', 'speed', 'system', '.', 'equat', 'deriv', 'permit', 'determin', 'effect', 'hardwar', 'usag', 'measur', '.'], tags=['963']),\n",
       " TaggedDocument(words=['mechan', 'tediou', 'algebra', '-', 'coeffici', 'theoret', 'chemistri', 'tabl', 'formula', 'integr', 'involv', 'legendr', 'function', 'construct', 'mechan', 'program', 'perform', 'algebra', 'oper', '.', 'formula', 'ration', 'algebra', 'express', 'singl', 'variabl', 'construct', 'recurr', 'procedur', '.', 'interest', 'molecular', 'quantum', 'chemistri', '.', 'trivial', 'code', 'techniqu', 'write', 'relev', 'program', 'fortran', '.', 'result', 'photo', 'compos', 'photon', '-', '560', 'system', ',', 'control', 'tape', 'punch', 'directli', 'comput', 'output', ',', 'avoid', 'keyboard', ',', 'transcript', 'error', 'keyboard', 'correct', '.'], tags=['964']),\n",
       " TaggedDocument(words=['greatest', 'common', 'divisor', '(', 'algorithm', '237', '[', 'a1', '])'], tags=['965']),\n",
       " TaggedDocument(words=['evalu', 'determin', '(', 'algorithm', '224', '[', 'f3', '])'], tags=['966']),\n",
       " TaggedDocument(words=['complementari', 'error', 'function', '(', 'algorithm', '181', '[', 's15', '])'], tags=['967']),\n",
       " TaggedDocument(words=['radic', '-', 'invers', 'quasi', '-', 'random', 'point', 'sequenc', '(', 'algorithm', '247', '[', 'g5', '])'], tags=['968']),\n",
       " TaggedDocument(words=['graycod', '(', 'algorithm', '246', '[', '])'], tags=['969']),\n",
       " TaggedDocument(words=['treesort', '3', '(', 'algorithm', '[', 'm1', '])'], tags=['970']),\n",
       " TaggedDocument(words=['time', 'share', 'traffic', 'control', 'program', 'toronto', 'traffic', 'signal', 'control', 'system', 'consist', 'varieti', 'logic', 'distinct', 'comput', 'program', ',', 'compet', 'machin', 'time', '.', 'satisfi', 'demand', ',', 'time', '-', 'share', 'program', 'written', 'purpos', 'execut', ',', 'order', 'predefin', 'prioriti', ',', 'subprogram', 'real', '-', 'time', 'system', '.', 'paper', 'interest', 'aspect', 'time', '-', 'share', 'program', 'outlin', '.'], tags=['971']),\n",
       " TaggedDocument(words=['execut', 'system', 'implement', 'finit', '-', 'state', 'automaton', '473l', 'command', 'control', 'system', 'air', 'forc', 'permit', 'oper', 'access', 'larg', 'data', 'comput', '.', 'man', '-', 'machin', 'interfac', 'satisfi', 'commun', 'consol', 'oper', 'enter', 'queri', 'view', 'repli', '.', 'data', 'link', 'permit', 'remot', 'station', 'send', 'messag', ',', 'statu', 'report', 'inventori', 'directli', 'comput', '.', 'inform', 'receiv', '-', 'line', 'data', 'link', 'updat', 'data', 'store', 'disk', '.', '473l', 'program', 'system', 'divid', 'execut', 'control', 'program', 'compon', 'process', 'prioriti', '.', 'prioriti', 'permit', 'system', 'sensit', 'consol', 'input', 'permit', 'oper', 'consol', 'time', 'share', 'central', 'processor', '.', 'execut', 'control', 'program', 'orderli', 'transit', 'control', 'program', 'system', 'compon', '.', 'major', 'emphasi', 'paper', 'techniqu', 'definit', 'finit', '-', 'state', 'automaton', 'organ', 'execut', 'control', 'program', '.'], tags=['972']),\n",
       " TaggedDocument(words=['estim', 'heart', 'paramet', 'skin', 'potenti', 'measur', 'fundament', 'problem', 'vector', 'cardiographi', 'estim', 'state', 'heart', 'basi', 'skin', 'potenti', 'measur', '.', 'mathemat', 'model', 'relat', 'ventricular', 'dipol', 'surfac', 'potenti', 'sketch', '.', 'shown', 'invers', 'problem', '-', 'determin', 'electr', 'heart', 'paramet', 'basi', 'skin', 'potenti', 'measur', '-', 'view', 'nonlinear', 'multipoint', 'boundari', 'problem', '.', 'feasibl', 'solut', ',', 'employ', 'quasilinear', 'high', '-', 'speed', 'digit', 'comput', ',', '.'], tags=['973']),\n",
       " TaggedDocument(words=['techniqu', 'read', 'gapless', 'tape', 'make', 'electrocardiograph', 'analysi', 'feasibl', 'ibm', '7090', 'studi', 'arrhythmia', 'higher', 'frequenc', 'compon', 'electrocardiogram', ',', 'long', 'seri', 'patient', 'heart', 'cycl', 'examin', 'valid', 'comparison', 'heart', 'beat', 'made', '.', 'techniqu', 'present', 'automat', 'analysi', 'long', 'seri', 'heart', 'cycl', 'digit', 'comput', '.'], tags=['974']),\n",
       " TaggedDocument(words=['program', 'work', 'intern', 'standard', 'vocabulari', 'comput', 'inform', 'process'], tags=['975']),\n",
       " TaggedDocument(words=['fresnel', 'integr', '(', 'algorithm', '213', '[', 's20', '])'], tags=['976']),\n",
       " TaggedDocument(words=['convers', 'calendar', 'date', 'julian', 'day', 'number', '(', 'algorithm', '199', '[', '])'], tags=['977']),\n",
       " TaggedDocument(words=['fresnel', 'integr', '(', 'algorithm', '244', '[', 's20', '])'], tags=['978']),\n",
       " TaggedDocument(words=['logarithm', 'complex', 'number', '(', 'algorithm', '243', '[', 'b3', '])'], tags=['979']),\n",
       " TaggedDocument(words=['multipl', '-', 'precis', 'arithmet', 'exact', 'calcul', '3', '-', ',', '6', '-', '9', '-', 'symbol', 'paper', 'system', 'gener', '-', 'purpos', 'multipl', '-', 'precis', 'fix', '-', 'point', 'routin', 'subroutin', 'calcul', 'exactli', 'quantum', '-', 'mechan', '3', '-', ',', '6', '-', '9', '-', 'symbol', 'larg', 'argument', '.'], tags=['980']),\n",
       " TaggedDocument(words=['round', 'problem', 'commerci', 'data', 'process', 'common', 'requir', 'commerci', 'data', 'process', 'sum', 'set', 'number', ',', 'round', 'gener', 'understood', 'manner', ',', 'equal', 'sum', 'number', 'round', 'individu', '.', 'round', 'procedur', 'accomplish', '.', 'procedur', 'depend', 'number', 'accumul', 'vari', 'sign', ',', 'sum', 'vari', 'sign', ',', 'number', 'sum', 'recogn', 'prior', 'round', '.'], tags=['981']),\n",
       " TaggedDocument(words=['induct', 'approach', 'languag', 'translat', 'possibl', 'natur', 'languag', 'translat', 'mean', 'fix', 'oper', 'translat', 'consid', '.', 'concept', 'sentenc', 'translat', 'motiv', 'work', 'inform', 'present', ',', 'measur', 'physic', 'similar', 'pair', 'string', 'discuss', ',', 'notion', 'play', 'central', 'role', 'propos', 'type', 'translat', '.', 'experiment', 'evid', 'present', 'support', 'premis', 'concept', 'base', '.'], tags=['982']),\n",
       " TaggedDocument(words=['take', '-', 'reel', '-', 'inch', 'perfor', 'tape', 'inform', 'interchang', '(', 'propos', 'american', 'standard', ')'], tags=['983']),\n",
       " TaggedDocument(words=['report', 'input', '-', 'output', 'procedur', 'algol', '60', '(', 'ifip', ')'], tags=['984']),\n",
       " TaggedDocument(words=['report', 'subset', 'algol', '60', '(', 'ifip', ')'], tags=['985']),\n",
       " TaggedDocument(words=['propos', 'amend', 'propos', 'american', 'standard', 'specif', 'gener', '-', 'purpos', 'paper', 'card', 'inform', 'process'], tags=['986']),\n",
       " TaggedDocument(words=['fortran', '.', 'basic', 'fortran', '(', 'program', 'languag', 'inform', 'process', 'automat', 'data', 'process', 'system', ')'], tags=['987']),\n",
       " TaggedDocument(words=['histori', 'summari', 'fortran', 'standard', 'develop', 'asa'], tags=['988']),\n",
       " TaggedDocument(words=['method', 'syntax', 'specif'], tags=['989']),\n",
       " TaggedDocument(words=['constraint', '-', 'type', 'statement', 'program', 'languag', 'propos', 'made', 'includ', 'program', 'languag', 'statement', 'impli', 'relat', 'variabl', 'explicit', 'assign', 'statement', '.', 'compil', 'set', 'newtonian', 'iter', 'make', 'purpos', 'routin', 'formal', 'differenti', '.'], tags=['990']),\n",
       " TaggedDocument(words=['gamma', 'function', 'control', 'accuraci', '(', 'algorithm', '225', '[', 's14', '])'], tags=['991']),\n",
       " TaggedDocument(words=['gamma', 'function', '(', 'algorithm', '221', '[', 's14', '])'], tags=['992']),\n",
       " TaggedDocument(words=['kutta', 'merson', '(', 'algorithm', '218', '[', 'd2', '])'], tags=['993']),\n",
       " TaggedDocument(words=['stringsort', '(', 'algorithm', '207', '[', 'm1', '])'], tags=['994']),\n",
       " TaggedDocument(words=['steep1', '(', 'algorithm', '203', '[', 'e4', '])'], tags=['995']),\n",
       " TaggedDocument(words=['permut', 'set', 'repetit', '(', 'algorithm', '242', '[', 'g6', '])'], tags=['996']),\n",
       " TaggedDocument(words=['patent', 'protect', 'comput', 'program'], tags=['997']),\n",
       " TaggedDocument(words=['comput', 'program', 'patent'], tags=['998']),\n",
       " TaggedDocument(words=['joint', 'inventorship', 'comput'], tags=['999']),\n",
       " TaggedDocument(words=['comput', 'patent', 'disclosur'], tags=['1000']),\n",
       " ...]"
      ]
     },
     "execution_count": 143,
     "metadata": {},
     "output_type": "execute_result"
    }
   ],
   "source": [
    " [TaggedDocument(doc, [i]) for i, doc in doc_repr_2]"
   ]
  },
  {
   "cell_type": "code",
   "execution_count": 156,
   "metadata": {
    "deletable": false,
    "nbgrader": {
     "cell_type": "code",
     "checksum": "1f60fdeb97febb7f4a6fd5bf109aac20",
     "grade": false,
     "grade_id": "cell-680facdcc98a19ab",
     "locked": false,
     "schema_version": 3,
     "solution": true,
     "task": false
    }
   },
   "outputs": [
    {
     "name": "stderr",
     "output_type": "stream",
     "text": [
      "2022-02-25 00:17:30,313 : INFO : adding document #0 to Dictionary(0 unique tokens: [])\n",
      "2022-02-25 00:17:30,417 : INFO : built Dictionary(5937 unique tokens: ['-', 'algebra', 'intern', 'languag', 'preliminari']...) from 3204 documents (total 115969 corpus positions)\n",
      "2022-02-25 00:17:30,417 : INFO : Dictionary lifecycle event {'msg': \"built Dictionary(5937 unique tokens: ['-', 'algebra', 'intern', 'languag', 'preliminari']...) from 3204 documents (total 115969 corpus positions)\", 'datetime': '2022-02-25T00:17:30.417314', 'gensim': '4.1.2', 'python': '3.9.7 (default, Sep 16 2021, 16:59:28) [MSC v.1916 64 bit (AMD64)]', 'platform': 'Windows-10-10.0.19042-SP0', 'event': 'created'}\n",
      "2022-02-25 00:17:30,425 : INFO : discarding 4740 tokens: [('repeat', 8), ('glossari', 7), ('inspect', 8), ('uncol', 2), ('rung', 9), ('secant', 2), ('.', 1603), ('acceler', 6), ('diverg', 3), ('induc', 9)]...\n",
      "2022-02-25 00:17:30,425 : INFO : keeping 1197 tokens which were in no less than 10 and no more than 1602 (=50.0%) documents\n",
      "2022-02-25 00:17:30,425 : INFO : resulting dictionary: Dictionary(1197 unique tokens: ['-', 'algebra', 'intern', 'languag', 'preliminari']...)\n",
      "2022-02-25 00:17:30,489 : INFO : collecting all words and their counts\n",
      "2022-02-25 00:17:30,489 : INFO : PROGRESS: at example #0, processed 0 words (0/s), 0 word types, 0 tags\n",
      "2022-02-25 00:17:30,529 : INFO : collected 5937 word types and 3204 unique tags from a corpus of 3204 examples and 115969 words\n",
      "2022-02-25 00:17:30,529 : INFO : Creating a fresh vocabulary\n",
      "2022-02-25 00:17:30,537 : INFO : Doc2Vec lifecycle event {'msg': 'effective_min_count=5 retains 2069 unique words (34.8492504631969%% of original 5937, drops 3868)', 'datetime': '2022-02-25T00:17:30.537307', 'gensim': '4.1.2', 'python': '3.9.7 (default, Sep 16 2021, 16:59:28) [MSC v.1916 64 bit (AMD64)]', 'platform': 'Windows-10-10.0.19042-SP0', 'event': 'prepare_vocab'}\n",
      "2022-02-25 00:17:30,537 : INFO : Doc2Vec lifecycle event {'msg': 'effective_min_count=5 leaves 109261 word corpus (94.21569557381714%% of original 115969, drops 6708)', 'datetime': '2022-02-25T00:17:30.537307', 'gensim': '4.1.2', 'python': '3.9.7 (default, Sep 16 2021, 16:59:28) [MSC v.1916 64 bit (AMD64)]', 'platform': 'Windows-10-10.0.19042-SP0', 'event': 'prepare_vocab'}\n",
      "2022-02-25 00:17:30,553 : INFO : deleting the raw counts dictionary of 5937 items\n",
      "2022-02-25 00:17:30,553 : INFO : sample=0.001 downsamples 44 most-common words\n",
      "2022-02-25 00:17:30,553 : INFO : Doc2Vec lifecycle event {'msg': 'downsampling leaves estimated 84994.13994831842 word corpus (77.8%% of prior 109261)', 'datetime': '2022-02-25T00:17:30.553308', 'gensim': '4.1.2', 'python': '3.9.7 (default, Sep 16 2021, 16:59:28) [MSC v.1916 64 bit (AMD64)]', 'platform': 'Windows-10-10.0.19042-SP0', 'event': 'prepare_vocab'}\n",
      "2022-02-25 00:17:30,583 : INFO : estimated required memory for 2069 words and 100 dimensions: 4612100 bytes\n",
      "2022-02-25 00:17:30,583 : INFO : resetting layer weights\n",
      "2022-02-25 00:17:30,589 : INFO : Doc2Vec lifecycle event {'msg': 'training model with 3 workers on 2069 vocabulary and 100 features, using sg=0 hs=0 sample=0.001 negative=5 window=5 shrink_windows=True', 'datetime': '2022-02-25T00:17:30.589033', 'gensim': '4.1.2', 'python': '3.9.7 (default, Sep 16 2021, 16:59:28) [MSC v.1916 64 bit (AMD64)]', 'platform': 'Windows-10-10.0.19042-SP0', 'event': 'train'}\n",
      "2022-02-25 00:17:30,802 : INFO : worker thread finished; awaiting finish of 2 more threads\n",
      "2022-02-25 00:17:30,813 : INFO : worker thread finished; awaiting finish of 1 more threads\n",
      "2022-02-25 00:17:30,813 : INFO : worker thread finished; awaiting finish of 0 more threads\n",
      "2022-02-25 00:17:30,813 : INFO : EPOCH - 1 : training on 115969 raw words (88316 effective words) took 0.2s, 391705 effective words/s\n",
      "2022-02-25 00:17:31,015 : INFO : worker thread finished; awaiting finish of 2 more threads\n",
      "2022-02-25 00:17:31,019 : INFO : worker thread finished; awaiting finish of 1 more threads\n",
      "2022-02-25 00:17:31,019 : INFO : worker thread finished; awaiting finish of 0 more threads\n",
      "2022-02-25 00:17:31,019 : INFO : EPOCH - 2 : training on 115969 raw words (88222 effective words) took 0.2s, 440209 effective words/s\n",
      "2022-02-25 00:17:31,216 : INFO : worker thread finished; awaiting finish of 2 more threads\n",
      "2022-02-25 00:17:31,229 : INFO : worker thread finished; awaiting finish of 1 more threads\n",
      "2022-02-25 00:17:31,229 : INFO : worker thread finished; awaiting finish of 0 more threads\n",
      "2022-02-25 00:17:31,229 : INFO : EPOCH - 3 : training on 115969 raw words (88234 effective words) took 0.2s, 428536 effective words/s\n",
      "2022-02-25 00:17:31,426 : INFO : worker thread finished; awaiting finish of 2 more threads\n",
      "2022-02-25 00:17:31,436 : INFO : worker thread finished; awaiting finish of 1 more threads\n",
      "2022-02-25 00:17:31,444 : INFO : worker thread finished; awaiting finish of 0 more threads\n",
      "2022-02-25 00:17:31,444 : INFO : EPOCH - 4 : training on 115969 raw words (88257 effective words) took 0.2s, 430580 effective words/s\n",
      "2022-02-25 00:17:31,633 : INFO : worker thread finished; awaiting finish of 2 more threads\n",
      "2022-02-25 00:17:31,652 : INFO : worker thread finished; awaiting finish of 1 more threads\n",
      "2022-02-25 00:17:31,652 : INFO : worker thread finished; awaiting finish of 0 more threads\n",
      "2022-02-25 00:17:31,652 : INFO : EPOCH - 5 : training on 115969 raw words (88217 effective words) took 0.2s, 428501 effective words/s\n",
      "2022-02-25 00:17:31,854 : INFO : worker thread finished; awaiting finish of 2 more threads\n",
      "2022-02-25 00:17:31,867 : INFO : worker thread finished; awaiting finish of 1 more threads\n",
      "2022-02-25 00:17:31,867 : INFO : worker thread finished; awaiting finish of 0 more threads\n",
      "2022-02-25 00:17:31,867 : INFO : EPOCH - 6 : training on 115969 raw words (88229 effective words) took 0.2s, 420750 effective words/s\n",
      "2022-02-25 00:17:32,072 : INFO : worker thread finished; awaiting finish of 2 more threads\n",
      "2022-02-25 00:17:32,080 : INFO : worker thread finished; awaiting finish of 1 more threads\n",
      "2022-02-25 00:17:32,080 : INFO : worker thread finished; awaiting finish of 0 more threads\n",
      "2022-02-25 00:17:32,080 : INFO : EPOCH - 7 : training on 115969 raw words (88409 effective words) took 0.2s, 426534 effective words/s\n",
      "2022-02-25 00:17:32,275 : INFO : worker thread finished; awaiting finish of 2 more threads\n",
      "2022-02-25 00:17:32,288 : INFO : worker thread finished; awaiting finish of 1 more threads\n",
      "2022-02-25 00:17:32,296 : INFO : worker thread finished; awaiting finish of 0 more threads\n",
      "2022-02-25 00:17:32,296 : INFO : EPOCH - 8 : training on 115969 raw words (88288 effective words) took 0.2s, 421916 effective words/s\n",
      "2022-02-25 00:17:32,499 : INFO : worker thread finished; awaiting finish of 2 more threads\n",
      "2022-02-25 00:17:32,500 : INFO : worker thread finished; awaiting finish of 1 more threads\n",
      "2022-02-25 00:17:32,503 : INFO : worker thread finished; awaiting finish of 0 more threads\n",
      "2022-02-25 00:17:32,503 : INFO : EPOCH - 9 : training on 115969 raw words (88100 effective words) took 0.2s, 441164 effective words/s\n",
      "2022-02-25 00:17:32,733 : INFO : worker thread finished; awaiting finish of 2 more threads\n",
      "2022-02-25 00:17:32,741 : INFO : worker thread finished; awaiting finish of 1 more threads\n",
      "2022-02-25 00:17:32,741 : INFO : worker thread finished; awaiting finish of 0 more threads\n",
      "2022-02-25 00:17:32,741 : INFO : EPOCH - 10 : training on 115969 raw words (88002 effective words) took 0.2s, 367022 effective words/s\n",
      "2022-02-25 00:17:32,741 : INFO : Doc2Vec lifecycle event {'msg': 'training on 1159690 raw words (882274 effective words) took 2.2s, 408699 effective words/s', 'datetime': '2022-02-25T00:17:32.741352', 'gensim': '4.1.2', 'python': '3.9.7 (default, Sep 16 2021, 16:59:28) [MSC v.1916 64 bit (AMD64)]', 'platform': 'Windows-10-10.0.19042-SP0', 'event': 'train'}\n",
      "2022-02-25 00:17:32,749 : INFO : Doc2Vec lifecycle event {'params': 'Doc2Vec(dm/m,d100,n5,w5,mc5,s0.001,t3)', 'datetime': '2022-02-25T00:17:32.749352', 'gensim': '4.1.2', 'python': '3.9.7 (default, Sep 16 2021, 16:59:28) [MSC v.1916 64 bit (AMD64)]', 'platform': 'Windows-10-10.0.19042-SP0', 'event': 'created'}\n"
     ]
    },
    {
     "data": {
      "text/plain": [
       "[(1, 0.49949846),\n",
       " (2, -0.039985016),\n",
       " (3, 0.19750366),\n",
       " (4, -0.65001965),\n",
       " (5, -0.10841065),\n",
       " (6, -0.65111035),\n",
       " (7, -0.4246166),\n",
       " (8, 0.6037428),\n",
       " (9, -0.18886188),\n",
       " (10, -0.45899415),\n",
       " (11, -0.20919418),\n",
       " (12, -0.41874272),\n",
       " (13, -0.08584555),\n",
       " (14, 0.24442929),\n",
       " (15, -0.30452102),\n",
       " (16, -0.11584875),\n",
       " (17, 0.08221954),\n",
       " (18, -0.2522177),\n",
       " (19, -0.104895994),\n",
       " (20, -0.9082421),\n",
       " (21, -0.16695832),\n",
       " (22, 0.107528575),\n",
       " (23, -0.3328955),\n",
       " (24, 0.12420214),\n",
       " (25, 0.081661135),\n",
       " (26, 0.0022884165),\n",
       " (27, -0.29474685),\n",
       " (28, -0.11380861),\n",
       " (29, -0.08551041),\n",
       " (30, -0.14638342),\n",
       " (31, 0.24135013),\n",
       " (32, -0.0051967),\n",
       " (33, 0.18375838),\n",
       " (34, -0.37234035),\n",
       " (35, -0.061769668),\n",
       " (36, 0.21362482),\n",
       " (37, 0.5155964),\n",
       " (38, -0.2581897),\n",
       " (39, -0.063329585),\n",
       " (40, -0.35270485),\n",
       " (41, -0.029936614),\n",
       " (42, -0.5999422),\n",
       " (43, -0.13126993),\n",
       " (44, -0.16555075),\n",
       " (45, -0.0777787),\n",
       " (46, 0.12241222),\n",
       " (47, -0.10325371),\n",
       " (48, 0.60082304),\n",
       " (49, -0.33187383),\n",
       " (50, 0.18166283),\n",
       " (51, -0.38242403),\n",
       " (52, -0.5107893),\n",
       " (53, 0.18559414),\n",
       " (54, 0.3789962),\n",
       " (55, -0.45246977),\n",
       " (56, 0.096888416),\n",
       " (57, -0.070736736),\n",
       " (58, -0.09851145),\n",
       " (59, -0.1619696),\n",
       " (60, 0.30130115),\n",
       " (61, -0.065909624),\n",
       " (62, -0.031580456),\n",
       " (63, -0.09929261),\n",
       " (64, -0.2603945),\n",
       " (65, -0.33913416),\n",
       " (66, 0.3537756),\n",
       " (67, -0.12030999),\n",
       " (68, -0.4648717),\n",
       " (69, -0.09179546),\n",
       " (70, 0.05734012),\n",
       " (71, -0.011939884),\n",
       " (72, 0.13437992),\n",
       " (73, 0.36886382),\n",
       " (74, -0.1342318),\n",
       " (75, 0.58206016),\n",
       " (76, 0.38660035),\n",
       " (77, 0.16025877),\n",
       " (78, -0.10214067),\n",
       " (79, -0.074812606),\n",
       " (80, 0.27007604),\n",
       " (81, 0.2730597),\n",
       " (82, 0.18147461),\n",
       " (83, -0.10048899),\n",
       " (84, 0.18772162),\n",
       " (85, 0.08835136),\n",
       " (86, 0.29683858),\n",
       " (87, -0.31337085),\n",
       " (88, -0.026250873),\n",
       " (89, 0.51308155),\n",
       " (90, 0.423181),\n",
       " (91, 0.337448),\n",
       " (92, 0.112422526),\n",
       " (93, -0.7348198),\n",
       " (94, 0.44091532),\n",
       " (95, 0.4560929),\n",
       " (96, 0.4893509),\n",
       " (97, -0.4165506),\n",
       " (98, -0.60556436),\n",
       " (99, -0.116390474),\n",
       " (100, -0.04108559)]"
      ]
     },
     "execution_count": 156,
     "metadata": {},
     "output_type": "execute_result"
    }
   ],
   "source": [
    "# TODO: Implement this! (10 points)\n",
    "class D2VRetrievalModel(VectorSpaceRetrievalModel):\n",
    "    def __init__(self, doc_repr):\n",
    "        super().__init__(doc_repr)\n",
    "        \n",
    "        self.vector_size= 100\n",
    "        self.min_count = 1\n",
    "        self.epochs = 20\n",
    "        \n",
    "        # YOUR CODE HERE\n",
    "        self.taggeddocuments = [TaggedDocument(doc, [i]) for i, doc in doc_repr]\n",
    "        \n",
    "    def train_model(self):\n",
    "        # YOUR CODE HERE\n",
    "        self.model = Doc2Vec(self.taggeddocuments)\n",
    "    \n",
    "    def vectorize_documents(self):\n",
    "        \"\"\"\n",
    "            Returns a doc_id -> vector dictionary\n",
    "        \"\"\"\n",
    "        # YOUR CODE HERE\n",
    "        vectordict ={}\n",
    "        for doc_id,tokens in self.doc_repr:\n",
    "            vector = None\n",
    "            for token in tokens:\n",
    "                if token in self.model.wv:  \n",
    "                    if vector is None:\n",
    "                        vector = self.model.wv[token]\n",
    "                    else:\n",
    "                        vector += self.model.wv[token]\n",
    "                    vector = vector/len(tokens)\n",
    "                else:\n",
    "                    pass\n",
    "                \n",
    "            if vector is None:\n",
    "                vector = [0]*self.model.vector_size\n",
    "            \n",
    "            vector =  [(i+1, vector[i]) for i in range(len(vector))]\n",
    "            \n",
    "            vectordict[doc_id] = vector\n",
    "        return vectordict\n",
    "\n",
    "    def vectorize_query(self, query):\n",
    "        query = process_text(query, **config_2)\n",
    "        # YOUR CODE HERE\n",
    "        vector = None\n",
    "        \n",
    "        for token in query:\n",
    "            if token in self.model.wv:\n",
    "                if vector is None:\n",
    "                    vector = self.model.wv[token]\n",
    "                else:\n",
    "                    vector =+ self.model.wv[token]\n",
    "                vector = vector/len(query)\n",
    "            else:\n",
    "                pass\n",
    "        if vector is None:\n",
    "            vector = [0]*self.model.vector_size\n",
    "        \n",
    "        vector =  [(i+1, vector[i]) for i in range(len(vector))]\n",
    "        return vector\n",
    "        \n",
    "d2v = D2VRetrievalModel(doc_repr_2)\n",
    "d2v.train_model()\n",
    "\n",
    "\n",
    "# # you can now get an LSI vector for a given query in the following way:\n",
    "d2v.vectorize_query(\"report\")"
   ]
  },
  {
   "cell_type": "code",
   "execution_count": null,
   "metadata": {
    "deletable": false,
    "editable": false,
    "nbgrader": {
     "cell_type": "code",
     "checksum": "e83a363a9d4f136efbdde1426a83925e",
     "grade": true,
     "grade_id": "cell-5e2c5e0c9a2e8cb5",
     "locked": true,
     "points": 0,
     "schema_version": 3,
     "solution": false,
     "task": false
    }
   },
   "outputs": [],
   "source": [
    "#### Please do not change this. This cell is used for grading."
   ]
  },
  {
   "cell_type": "markdown",
   "metadata": {
    "deletable": false,
    "editable": false,
    "nbgrader": {
     "cell_type": "markdown",
     "checksum": "5bb46bf6b9be1e0ca66f0b0bc6260ecb",
     "grade": false,
     "grade_id": "cell-8a49d414f798a595",
     "locked": true,
     "points": 10,
     "schema_version": 3,
     "solution": false,
     "task": true
    }
   },
   "source": [
    "\\#### Please do not change this. This cell is used for grading."
   ]
  },
  {
   "cell_type": "code",
   "execution_count": 157,
   "metadata": {},
   "outputs": [
    {
     "data": {
      "application/vnd.jupyter.widget-view+json": {
       "model_id": "951b6612810d49d48407393b99d35462",
       "version_major": 2,
       "version_minor": 0
      },
      "text/plain": [
       "Text(value='', description='Search Bar')"
      ]
     },
     "metadata": {},
     "output_type": "display_data"
    },
    {
     "name": "stdout",
     "output_type": "stream",
     "text": [
      "Searching for: 'hi' (SEARCH FN: <bound method DenseRetrievalRanker.search of <__main__.DenseRetrievalRanker object at 0x000002B6CD2D9640>>)\n"
     ]
    },
    {
     "data": {
      "text/html": [
       "<ul><li>Document #1(0): Preliminary Report-International Algebraic Language\n",
       "</li><li>Document #2(0): Extraction of Roots by Repeated Subtractions for Digital Computers\n",
       "</li><li>Document #3(0): Techniques Department on Matrix Program Schemes\n",
       "</li><li>Document #4(0): Glossary of Computer Engineering and Programming Terminology\n",
       "</li><li>Document #5(0): Two Square-Root Approximations\n",
       "</li></ul>"
      ],
      "text/plain": [
       "<IPython.core.display.HTML object>"
      ]
     },
     "metadata": {},
     "output_type": "display_data"
    },
    {
     "name": "stdout",
     "output_type": "stream",
     "text": [
      "Searching for: 'problem' (SEARCH FN: <bound method DenseRetrievalRanker.search of <__main__.DenseRetrievalRanker object at 0x000002B6CD2D9640>>)\n"
     ]
    },
    {
     "data": {
      "text/html": [
       "<ul><li>Document #2482(0.9996970706611513): ...for the Deadlock <strong>Problem</strong> Mixtures of dete...... to the deadlock <strong>problem</strong> than any one of ...</li><li>Document #416(0.9972935024095396): Multiple Shooting Method for Two-Point Boundary Value Problems\n",
       "</li><li>Document #2671(0.9972005036269839): ... a Combinatorial <strong>Problem</strong> of Burnett and C...</li><li>Document #1313(0.9968543805409471): Construction of Nonlinear Programming Test Problems\n",
       "</li><li>Document #2256(0.9902815105954811): ...gramming Control <strong>Problem</strong> ...</li></ul>"
      ],
      "text/plain": [
       "<IPython.core.display.HTML object>"
      ]
     },
     "metadata": {},
     "output_type": "display_data"
    },
    {
     "name": "stdout",
     "output_type": "stream",
     "text": [
      "Searching for: 'problem' (SEARCH FN: <bound method DenseRetrievalRanker.search of <__main__.DenseRetrievalRanker object at 0x000002B6CD2D9640>>)\n"
     ]
    },
    {
     "data": {
      "text/html": [
       "<ul><li>Document #2482(0.9996970706611513): ...for the Deadlock <strong>Problem</strong> Mixtures of dete...... to the deadlock <strong>problem</strong> than any one of ...</li><li>Document #416(0.9972935024095396): Multiple Shooting Method for Two-Point Boundary Value Problems\n",
       "</li><li>Document #2671(0.9972005036269839): ... a Combinatorial <strong>Problem</strong> of Burnett and C...</li><li>Document #1313(0.9968543805409471): Construction of Nonlinear Programming Test Problems\n",
       "</li><li>Document #2256(0.9902815105954811): ...gramming Control <strong>Problem</strong> ...</li></ul>"
      ],
      "text/plain": [
       "<IPython.core.display.HTML object>"
      ]
     },
     "metadata": {},
     "output_type": "display_data"
    },
    {
     "name": "stdout",
     "output_type": "stream",
     "text": [
      "Searching for: 'how to be rich fast' (SEARCH FN: <bound method DenseRetrievalRanker.search of <__main__.DenseRetrievalRanker object at 0x000002B6CD2D9640>>)\n"
     ]
    },
    {
     "data": {
      "text/html": [
       "<ul><li>Document #2190(0.9726775694940871): Function Minimization\n",
       "</li><li>Document #1963(0.9557896416431118): Condition Numbers of PEI Matrices\n",
       "</li><li>Document #683(0.9546165498398231): ...Serial Technique <strong>to</strong> Determine Minimu...</li><li>Document #2908(0.9530907066313246): A Note On Reflection-Free Permutation Enumeration\n",
       "</li><li>Document #2067(0.9529668010070377): Comment on Lawler's Multilevel Boolean Minimization\n",
       "</li></ul>"
      ],
      "text/plain": [
       "<IPython.core.display.HTML object>"
      ]
     },
     "metadata": {},
     "output_type": "display_data"
    },
    {
     "name": "stdout",
     "output_type": "stream",
     "text": [
      "Searching for: 'how to be rich fast' (SEARCH FN: <bound method DenseRetrievalRanker.search of <__main__.DenseRetrievalRanker object at 0x000002B6CD2D9640>>)\n"
     ]
    },
    {
     "data": {
      "text/html": [
       "<ul><li>Document #2190(0.9726775694940871): Function Minimization\n",
       "</li><li>Document #1963(0.9557896416431118): Condition Numbers of PEI Matrices\n",
       "</li><li>Document #683(0.9546165498398231): ...Serial Technique <strong>to</strong> Determine Minimu...</li><li>Document #2908(0.9530907066313246): A Note On Reflection-Free Permutation Enumeration\n",
       "</li><li>Document #2067(0.9529668010070377): Comment on Lawler's Multilevel Boolean Minimization\n",
       "</li></ul>"
      ],
      "text/plain": [
       "<IPython.core.display.HTML object>"
      ]
     },
     "metadata": {},
     "output_type": "display_data"
    }
   ],
   "source": [
    "drm_d2v = DenseRetrievalRanker(d2v, cosine_sim)\n",
    "\n",
    "# test your LDA model\n",
    "search_fn = drm_d2v.search\n",
    "\n",
    "text = widgets.Text(description=\"Search Bar\", width=200)\n",
    "display(text)\n",
    "\n",
    "\n",
    "text.on_submit(handle_submit_2)"
   ]
  },
  {
   "cell_type": "markdown",
   "metadata": {
    "deletable": false,
    "editable": false,
    "nbgrader": {
     "cell_type": "markdown",
     "checksum": "363ec36c1d03d9f9e1c2045a6e193c14",
     "grade": false,
     "grade_id": "cell-3529ae29eece7b97",
     "locked": true,
     "schema_version": 3,
     "solution": false,
     "task": false
    }
   },
   "source": [
    "---\n",
    "## Section 9: Re-ranking (10 points) <a class=\"anchor\" id=\"reranking\"></a>\n",
    "\n",
    "[Back to Part 2](#part2)\n",
    "\n",
    "To motivate the re-ranking perspective (i.e retrieve with lexical method + rerank with a semantic method), let's search using semantic methods and compare it to BM25's performance, along with their runtime:\n"
   ]
  },
  {
   "cell_type": "code",
   "execution_count": null,
   "metadata": {
    "deletable": false,
    "editable": false,
    "nbgrader": {
     "cell_type": "code",
     "checksum": "5755f70e3eb28abc65d14d80125338af",
     "grade": false,
     "grade_id": "cell-f8f43bf5ae383128",
     "locked": true,
     "schema_version": 3,
     "solution": false,
     "task": false
    }
   },
   "outputs": [],
   "source": [
    "query = \"algebraic functions\"\n",
    "print(\"BM25: \")\n",
    "%timeit bm25_search(query, 2)\n",
    "print(\"LSI: \")\n",
    "%timeit drm_lsi.search(query)\n",
    "print(\"LDA: \")\n",
    "%timeit drm_lda.search(query)\n",
    "print(\"W2V: \")\n",
    "%timeit drm_w2v.search(query)\n",
    "print(\"W2V(Pretrained): \")\n",
    "%timeit drm_w2v_pretrained.search(query)\n",
    "print(\"D2V:\")\n",
    "%timeit drm_d2v.search(query)"
   ]
  },
  {
   "cell_type": "markdown",
   "metadata": {
    "deletable": false,
    "editable": false,
    "nbgrader": {
     "cell_type": "markdown",
     "checksum": "ae398da0a8c23c95bcbb0023b7ec6f34",
     "grade": false,
     "grade_id": "cell-db5ff09f97841af7",
     "locked": true,
     "schema_version": 3,
     "solution": false,
     "task": false
    }
   },
   "source": [
    "---\n",
    "\n",
    "**Implementation (10 points):**\n",
    "Re-ranking involves retrieving a small set of documents using simple but fast methods like BM25 and then re-ranking them with the aid of semantic methods such as LDA or LSI. Implement the following class, which takes in an `initial_retrieval_fn` - the initial retrieval function and `vsrm` - an instance of the `VectorSpaceRetrievalModel` class (i.e LSI/LDA) as input. The search function should first retrieve an initial list of K documents, and then these documents are re-ranked using a semantic method. This not only makes retrieval faster, but semantic methods perform poorly when used in isolation, as you will find out."
   ]
  },
  {
   "cell_type": "code",
   "execution_count": null,
   "metadata": {
    "deletable": false,
    "nbgrader": {
     "cell_type": "code",
     "checksum": "63b6b05a676a2ae3f08d8bed1bc59428",
     "grade": false,
     "grade_id": "cell-5bf47600d1a0c507",
     "locked": false,
     "schema_version": 3,
     "solution": true,
     "task": false
    }
   },
   "outputs": [],
   "source": [
    "# TODO: Implement this! (10 points)\n",
    "class DenseRerankingModel:\n",
    "    def __init__(self, initial_retrieval_fn, vsrm, similarity_fn):\n",
    "        \"\"\"\n",
    "            initial_retrieval_fn: takes in a query and returns a list of [(doc_id, score)] (sorted)\n",
    "            vsrm: instance of `VectorSpaceRetrievalModel`\n",
    "            similarity_fn: function instance that takes in two vectors \n",
    "                            and returns a similarity score e.g cosine_sim defined earlier\n",
    "        \"\"\"\n",
    "        self.ret = initial_retrieval_fn\n",
    "        self.vsrm = vsrm\n",
    "        self.similarity_fn = similarity_fn\n",
    "        self.vectorized_documents = vsrm.vectorize_documents()\n",
    "        \n",
    "        assert len(self.vectorized_documents) == len(doc_repr_2)\n",
    "    \n",
    "    def search(self, query, K=50):\n",
    "        \"\"\"\n",
    "            First, retrieve the top K results using the retrieval function\n",
    "            Then, re-rank the results using the VSRM instance\n",
    "        \"\"\"\n",
    "        # YOUR CODE HERE\n",
    "        raise NotImplementedError()"
   ]
  },
  {
   "cell_type": "code",
   "execution_count": null,
   "metadata": {
    "deletable": false,
    "editable": false,
    "nbgrader": {
     "cell_type": "code",
     "checksum": "334ab5af96976265cace682ab82a7387",
     "grade": true,
     "grade_id": "cell-52c6d18a4c0b4882",
     "locked": true,
     "points": 0,
     "schema_version": 3,
     "solution": false,
     "task": false
    }
   },
   "outputs": [],
   "source": [
    "##### Function check\n",
    "bm25_search_2 = partial(bm25_search, index_set=2)\n",
    "lsi_rerank = DenseRerankingModel(bm25_search_2, lsi, cosine_sim)\n",
    "lda_rerank = DenseRerankingModel(bm25_search_2, lda, jenson_shannon_sim)\n",
    "w2v_rerank = DenseRerankingModel(bm25_search_2, w2v, cosine_sim)\n",
    "w2v_pretrained_rerank = DenseRerankingModel(bm25_search_2, w2v_pretrained, cosine_sim)\n",
    "d2v_rerank = DenseRerankingModel(bm25_search_2, d2v, cosine_sim)\n",
    "\n",
    "##### "
   ]
  },
  {
   "cell_type": "markdown",
   "metadata": {
    "deletable": false,
    "editable": false,
    "nbgrader": {
     "cell_type": "markdown",
     "checksum": "bd904253f45f84e63bab3a69729058fc",
     "grade": false,
     "grade_id": "cell-93215dfe6bcf7cff",
     "locked": true,
     "points": 10,
     "schema_version": 3,
     "solution": false,
     "task": true
    }
   },
   "source": [
    "\\#### Please do not change this. This cell is used for grading."
   ]
  },
  {
   "cell_type": "markdown",
   "metadata": {
    "deletable": false,
    "editable": false,
    "nbgrader": {
     "cell_type": "markdown",
     "checksum": "b592e60292bfe3d9ef2930a354c4077a",
     "grade": false,
     "grade_id": "cell-aa694ff55fa91e7d",
     "locked": true,
     "schema_version": 3,
     "solution": false,
     "task": false
    }
   },
   "source": [
    "---\n",
    "Now, let us time the new search functions:"
   ]
  },
  {
   "cell_type": "code",
   "execution_count": null,
   "metadata": {
    "deletable": false,
    "editable": false,
    "nbgrader": {
     "cell_type": "code",
     "checksum": "338c7e3528cba266a865a061287c0e38",
     "grade": false,
     "grade_id": "cell-5edbd481562ad91f",
     "locked": true,
     "schema_version": 3,
     "solution": false,
     "task": false
    }
   },
   "outputs": [],
   "source": [
    "query = \"algebraic functions\"\n",
    "print(\"BM25: \")\n",
    "%timeit bm25_search(query, 2)\n",
    "print(\"LSI: \")\n",
    "%timeit lsi_rerank.search(query)\n",
    "print(\"LDA: \")\n",
    "%timeit lda_rerank.search(query)\n",
    "print(\"W2V: \")\n",
    "%timeit w2v_rerank.search(query)\n",
    "print(\"W2V(Pretrained): \")\n",
    "%timeit w2v_pretrained_rerank.search(query)\n",
    "print(\"D2V:\")\n",
    "%timeit d2v_rerank.search(query)"
   ]
  },
  {
   "cell_type": "markdown",
   "metadata": {
    "deletable": false,
    "editable": false,
    "nbgrader": {
     "cell_type": "markdown",
     "checksum": "c45c5e3f015b2de89d9d39ae3766368b",
     "grade": false,
     "grade_id": "cell-85c50f2ab9eec301",
     "locked": true,
     "schema_version": 3,
     "solution": false,
     "task": false
    }
   },
   "source": [
    "---\n",
    "As you can see, it is much faster (but BM25 is still orders of magnitude faster)."
   ]
  },
  {
   "cell_type": "markdown",
   "metadata": {
    "deletable": false,
    "editable": false,
    "nbgrader": {
     "cell_type": "markdown",
     "checksum": "1e2f3388e3807659f303fe31a75a010e",
     "grade": false,
     "grade_id": "cell-5071bb99b2af61cb",
     "locked": true,
     "schema_version": 3,
     "solution": false,
     "task": false
    }
   },
   "source": [
    "---\n",
    "## Section 10: Evaluation & Analysis (30 points) <a class=\"anchor\" id=\"reranking_eval\"></a>\n",
    "\n",
    "[Back to Part 2](#part2)\n",
    "\n",
    "[Previously](#evaluation) we have implemented some evaluation metrics and used them for measuring the ranking performance of term-based IR algorithms. In this section, we will do the same for semantic methods, both with and without re-ranking.\n",
    "\n",
    "### Section 10.1: Plot (10 points)\n",
    "\n",
    "First, gather the results. The results should consider the index set, the different search functions and different metrics. Plot the results in bar charts, per metric, with clear labels.\n",
    "\n",
    "Then, gather only the re-ranking models, and plot and compare them with the results obtained in part 1 (only index set 2)."
   ]
  },
  {
   "cell_type": "code",
   "execution_count": null,
   "metadata": {
    "deletable": false,
    "editable": false,
    "nbgrader": {
     "cell_type": "code",
     "checksum": "4fe81520ac6413a803838913fd64de03",
     "grade": false,
     "grade_id": "cell-b672fe6dfae0b1ce",
     "locked": true,
     "schema_version": 3,
     "solution": false,
     "task": false
    }
   },
   "outputs": [],
   "source": [
    "list_of_sem_search_fns = [\n",
    "    (\"lda\", drm_lda.search),\n",
    "    (\"lsi\", drm_lsi.search),\n",
    "    (\"w2v\", drm_w2v.search),\n",
    "    (\"w2v_pretrained\", drm_w2v_pretrained.search),\n",
    "    (\"d2v\", drm_d2v.search),\n",
    "    (\"lsi_rr\", lsi_rerank.search),\n",
    "    (\"lda_rr\", lda_rerank.search),\n",
    "    (\"w2v_rr\", w2v_rerank.search),\n",
    "    (\"w2v_pretrained_rr\", w2v_pretrained_rerank.search),\n",
    "    (\"d2v_rr\", d2v_rerank.search),\n",
    "    \n",
    "]"
   ]
  },
  {
   "cell_type": "code",
   "execution_count": null,
   "metadata": {
    "deletable": false,
    "nbgrader": {
     "cell_type": "code",
     "checksum": "54707c4afac084299aeefa047259b4a9",
     "grade": true,
     "grade_id": "cell-7dd8273b0f5a3c22",
     "locked": false,
     "points": 10,
     "schema_version": 3,
     "solution": true,
     "task": false
    }
   },
   "outputs": [],
   "source": [
    "# YOUR CODE HERE\n",
    "raise NotImplementedError()"
   ]
  },
  {
   "cell_type": "markdown",
   "metadata": {
    "deletable": false,
    "editable": false,
    "nbgrader": {
     "cell_type": "markdown",
     "checksum": "a8a3b6189bdde66704c694d85e38d049",
     "grade": false,
     "grade_id": "cell-deb2ef3daa306e82",
     "locked": true,
     "schema_version": 3,
     "solution": false,
     "task": false
    }
   },
   "source": [
    "### Section 10.2: Summary (20 points)\n",
    "\n",
    "Your summary should compare methods from Part 1 and Part 2 (only for index set 2). State what you expected to see in the results, followed by either supporting evidence *or* justify why the results did not support your expectations. Consider the availability of data, scalability, domain/type of data, etc."
   ]
  },
  {
   "cell_type": "markdown",
   "metadata": {
    "deletable": false,
    "nbgrader": {
     "cell_type": "markdown",
     "checksum": "ff97c43837d10bff6aaffa75e1492887",
     "grade": true,
     "grade_id": "cell-ec5dd7d9cf59dd86",
     "locked": false,
     "points": 20,
     "schema_version": 3,
     "solution": true,
     "task": false
    }
   },
   "source": [
    "YOUR ANSWER HERE"
   ]
  }
 ],
 "metadata": {
  "kernelspec": {
   "display_name": "Python [conda env:mlm]",
   "language": "python",
   "name": "conda-env-mlm-py"
  },
  "language_info": {
   "codemirror_mode": {
    "name": "ipython",
    "version": 3
   },
   "file_extension": ".py",
   "mimetype": "text/x-python",
   "name": "python",
   "nbconvert_exporter": "python",
   "pygments_lexer": "ipython3",
   "version": "3.9.7"
  },
  "toc": {
   "base_numbering": 1,
   "nav_menu": {},
   "number_sections": true,
   "sideBar": true,
   "skip_h1_title": false,
   "title_cell": "Table of Contents",
   "title_sidebar": "Contents",
   "toc_cell": false,
   "toc_position": {},
   "toc_section_display": true,
   "toc_window_display": false
  }
 },
 "nbformat": 4,
 "nbformat_minor": 4
}
