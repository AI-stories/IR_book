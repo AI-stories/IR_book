{
 "cells": [
  {
   "cell_type": "code",
   "execution_count": 277,
   "metadata": {
    "colab": {
     "base_uri": "https://localhost:8080/"
    },
    "executionInfo": {
     "elapsed": 7210,
     "status": "ok",
     "timestamp": 1647944382601,
     "user": {
      "displayName": "Thomas Boer",
      "photoUrl": "https://lh3.googleusercontent.com/a-/AOh14Gij1TDldlbJuh0WdhJnqMtSXetRSTTZ389OVSccFg=s64",
      "userId": "06748694763990141535"
     },
     "user_tz": -60
    },
    "id": "S3rnalRkddlv",
    "outputId": "df22145d-24c3-4926-cf67-e931c2fafa46"
   },
   "outputs": [
    {
     "name": "stdout",
     "output_type": "stream",
     "text": [
      "Drive already mounted at /content/drive; to attempt to forcibly remount, call drive.mount(\"/content/drive\", force_remount=True).\n",
      "Requirement already satisfied: torch==1.8.0 in /usr/local/lib/python3.7/dist-packages (from -r /content/drive/MyDrive/Information Retrieval 1/hw2/requirements.txt (line 1)) (1.8.0)\n",
      "Requirement already satisfied: numpy==1.18.1 in /usr/local/lib/python3.7/dist-packages (from -r /content/drive/MyDrive/Information Retrieval 1/hw2/requirements.txt (line 2)) (1.18.1)\n",
      "Requirement already satisfied: matplotlib==3.1.2 in /usr/local/lib/python3.7/dist-packages (from -r /content/drive/MyDrive/Information Retrieval 1/hw2/requirements.txt (line 3)) (3.1.2)\n",
      "Requirement already satisfied: pandas==1.1.5 in /usr/local/lib/python3.7/dist-packages (from -r /content/drive/MyDrive/Information Retrieval 1/hw2/requirements.txt (line 4)) (1.1.5)\n",
      "Requirement already satisfied: tqdm==4.42.0 in /usr/local/lib/python3.7/dist-packages (from -r /content/drive/MyDrive/Information Retrieval 1/hw2/requirements.txt (line 5)) (4.42.0)\n",
      "Requirement already satisfied: six==1.14.0 in /usr/local/lib/python3.7/dist-packages (from -r /content/drive/MyDrive/Information Retrieval 1/hw2/requirements.txt (line 6)) (1.14.0)\n",
      "Requirement already satisfied: requests==2.22.0 in /usr/local/lib/python3.7/dist-packages (from -r /content/drive/MyDrive/Information Retrieval 1/hw2/requirements.txt (line 7)) (2.22.0)\n",
      "Requirement already satisfied: typing-extensions in /usr/local/lib/python3.7/dist-packages (from torch==1.8.0->-r /content/drive/MyDrive/Information Retrieval 1/hw2/requirements.txt (line 1)) (3.10.0.2)\n",
      "Requirement already satisfied: cycler>=0.10 in /usr/local/lib/python3.7/dist-packages (from matplotlib==3.1.2->-r /content/drive/MyDrive/Information Retrieval 1/hw2/requirements.txt (line 3)) (0.11.0)\n",
      "Requirement already satisfied: kiwisolver>=1.0.1 in /usr/local/lib/python3.7/dist-packages (from matplotlib==3.1.2->-r /content/drive/MyDrive/Information Retrieval 1/hw2/requirements.txt (line 3)) (1.3.2)\n",
      "Requirement already satisfied: python-dateutil>=2.1 in /usr/local/lib/python3.7/dist-packages (from matplotlib==3.1.2->-r /content/drive/MyDrive/Information Retrieval 1/hw2/requirements.txt (line 3)) (2.8.2)\n",
      "Requirement already satisfied: pyparsing!=2.0.4,!=2.1.2,!=2.1.6,>=2.0.1 in /usr/local/lib/python3.7/dist-packages (from matplotlib==3.1.2->-r /content/drive/MyDrive/Information Retrieval 1/hw2/requirements.txt (line 3)) (3.0.7)\n",
      "Requirement already satisfied: pytz>=2017.2 in /usr/local/lib/python3.7/dist-packages (from pandas==1.1.5->-r /content/drive/MyDrive/Information Retrieval 1/hw2/requirements.txt (line 4)) (2018.9)\n",
      "Requirement already satisfied: chardet<3.1.0,>=3.0.2 in /usr/local/lib/python3.7/dist-packages (from requests==2.22.0->-r /content/drive/MyDrive/Information Retrieval 1/hw2/requirements.txt (line 7)) (3.0.4)\n",
      "Requirement already satisfied: urllib3!=1.25.0,!=1.25.1,<1.26,>=1.21.1 in /usr/local/lib/python3.7/dist-packages (from requests==2.22.0->-r /content/drive/MyDrive/Information Retrieval 1/hw2/requirements.txt (line 7)) (1.24.3)\n",
      "Requirement already satisfied: certifi>=2017.4.17 in /usr/local/lib/python3.7/dist-packages (from requests==2.22.0->-r /content/drive/MyDrive/Information Retrieval 1/hw2/requirements.txt (line 7)) (2021.10.8)\n",
      "Requirement already satisfied: idna<2.9,>=2.5 in /usr/local/lib/python3.7/dist-packages (from requests==2.22.0->-r /content/drive/MyDrive/Information Retrieval 1/hw2/requirements.txt (line 7)) (2.8)\n"
     ]
    }
   ],
   "source": [
    "# from google.colab import drive\n",
    "# drive.mount('/content/drive')\n",
    "# !pip install -r '/content/drive/MyDrive/Information Retrieval 1/hw2/requirements.txt'"
   ]
  },
  {
   "cell_type": "code",
   "execution_count": 278,
   "metadata": {
    "colab": {
     "base_uri": "https://localhost:8080/"
    },
    "executionInfo": {
     "elapsed": 12,
     "status": "ok",
     "timestamp": 1647944383094,
     "user": {
      "displayName": "Thomas Boer",
      "photoUrl": "https://lh3.googleusercontent.com/a-/AOh14Gij1TDldlbJuh0WdhJnqMtSXetRSTTZ389OVSccFg=s64",
      "userId": "06748694763990141535"
     },
     "user_tz": -60
    },
    "id": "8G5JNP_Gf9vI",
    "outputId": "55e3cd62-18a4-412a-8632-ff665c4cd5c2"
   },
   "outputs": [
    {
     "name": "stdout",
     "output_type": "stream",
     "text": [
      "/content/drive/MyDrive/Information Retrieval 1/hw2\n"
     ]
    }
   ],
   "source": [
    "cd '/content/drive/MyDrive/Information Retrieval 1/hw2'"
   ]
  },
  {
   "cell_type": "markdown",
   "metadata": {
    "id": "xFOTGDa2dLIN"
   },
   "source": [
    "# Homework 2: Learning to Rank <a class=\"anchor\" id=\"toptop\"></a>"
   ]
  },
  {
   "cell_type": "markdown",
   "metadata": {
    "id": "itWsQ3QmdLIS"
   },
   "source": [
    "**Submission instructions**:\n",
    "- The cells with the `# YOUR CODE HERE` denote that these sections are graded and you need to add your implementation.\n",
    "- Please use Python 3.6.5 and `pip install -r requirements.txt` to avoid version issues.\n",
    "- The notebook you submit has to have the student ids, separated by underscores (E.g., `12341234_12341234_12341234_hw1.ipynb`).\n",
    "- This will be parsed by a regexp, **so please double check your filename**.\n",
    "- Only one member of each group has to submit the file (**please do not compress the .ipynb file when you will submit it**) to canvas.\n",
    "- **Make sure to check that your notebook runs before submission**. A quick way to do this is to restart the kernel and run all the cells.  \n",
    "- Do not change the number of arugments in the given functions.\n",
    "- **Please do not delete/add new cells**. Removing cells **will** lead to grade deduction. \n",
    "- Note, that you are not allowed to use Google Colab.\n",
    "\n",
    "**Learning Goals**:\n",
    "- Offline LTR\n",
    "  - Learn how to implement pointwise, pairwise and listwise algorithms for learning to rank \n",
    "\n",
    "---\n",
    "**Recommended Reading**:\n",
    "  - Chris Burges, Tal Shaked, Erin Renshaw, Ari Lazier, Matt Deeds, Nicole Hamilton, and Greg Hullender. Learning to rank using gradient descent. InProceedings of the 22nd international conference on Machine learning, pages 89–96, 2005.\n",
    "  - Christopher J Burges, Robert Ragno, and Quoc V Le. Learning to rank with nonsmooth cost functions. In Advances inneural information processing systems, pages 193–200, 2007\n",
    "  - (Sections 1, 2 and 4) Christopher JC Burges. From ranknet to lambdarank to lambdamart: An overview. Learning, 11(23-581):81, 2010\n",
    "  \n",
    "\n",
    "Additional Resources: \n",
    "- This assignment requires knowledge of [PyTorch](https://pytorch.org/). If you are unfamiliar with PyTorch, you can go over [these series of tutorials](https://pytorch.org/tutorials/beginner/deep_learning_60min_blitz.html)\n",
    "\n",
    "In the previous assignment, you experimented with retrieval with different ranking functions and in addition, different document representations. \n",
    "\n",
    "This assignment deals directly with learning to rank (LTR). In offline LTR, You will learn how to implement methods from the three approaches associated with learning to rank: pointwise, pairwise and listwise. \n",
    "\n",
    "\n",
    "**Note:**\n",
    "  - The dataset used in this assignment is +100Mb in size. You may need around 2Gb of RAM for running the whole notebook.\n"
   ]
  },
  {
   "cell_type": "markdown",
   "metadata": {
    "id": "2EBU2j4fdLIU"
   },
   "source": [
    "# Table of Contents  <a class=\"anchor\" id=\"top\"></a>\n",
    "\n",
    "[Back to top](#toptop)\n",
    "\n",
    "\n",
    "Table of contents:\n",
    "\n",
    "\n",
    " - [Chapter 1: Offline LTR](#o_LTR) (270 points)\n",
    "     - [Section 1: Dataset and Utility](#dataU) (- points)\n",
    "     - [Section 2: Pointwtise LTR](#pointwiseLTR) (55 points)\n",
    "     - [Section 3: Pairwise LTR](#pairwiseLTR) (35 points)\n",
    "     - [Section 4: Pairwise Speed-up RankNet](#SpairwiseLTR) (65 points)\n",
    "     - [Section 5: Listwise LTR](#listwiseLTR) (60 points)\n",
    "     - [Section 6: Evaluation](#evaluation1) (55 points)"
   ]
  },
  {
   "cell_type": "code",
   "execution_count": 1,
   "metadata": {
    "executionInfo": {
     "elapsed": 9,
     "status": "ok",
     "timestamp": 1647944383095,
     "user": {
      "displayName": "Thomas Boer",
      "photoUrl": "https://lh3.googleusercontent.com/a-/AOh14Gij1TDldlbJuh0WdhJnqMtSXetRSTTZ389OVSccFg=s64",
      "userId": "06748694763990141535"
     },
     "user_tz": -60
    },
    "id": "-AGOhXkQdLIU"
   },
   "outputs": [],
   "source": [
    "import os\n",
    "import json\n",
    "import itertools\n",
    "from argparse import Namespace\n",
    "from collections import OrderedDict\n",
    "from functools import partial\n",
    "\n",
    "\n",
    "import torch\n",
    "import numpy as np\n",
    "from torch import nn\n",
    "from torch.optim import Adam\n",
    "import torch.nn.functional as F\n",
    "from tqdm.notebook import tqdm, trange\n",
    "from torch.utils.data import Dataset, DataLoader\n",
    "\n",
    "\n",
    "import matplotlib.pyplot as plt\n",
    "from matplotlib.pyplot import cm\n",
    "\n",
    "import pandas as pd\n",
    "\n",
    "import dataset\n",
    "import evaluate"
   ]
  },
  {
   "cell_type": "markdown",
   "metadata": {
    "id": "xwNSRV9hdLIW"
   },
   "source": [
    "# Chapter 1: Offline LTR <a class=\"anchor\" id=\"o_LTR\"></a>"
   ]
  },
  {
   "cell_type": "markdown",
   "metadata": {
    "id": "PqCwSIPsdLIW"
   },
   "source": [
    "A typical setup of learning to rank involves a feature vector constructed using a query-document pair, and a set of relevance judgements. You are given a set of triples (`query`, `document`, `relevance grade`); where relevance grade is an *ordinal* variable  with  5  grades,  for example: {`perfect`,`excellent`,`good`,`fair`,`bad`),  typically  labeled  by human annotators.  \n",
    "\n",
    "In this assignment, you are already given the feature vector for a given document and query pair. To access these vectors, see the following code cells (note: the dataset will be automatically downloaded & the first time the next cell runs, it will take a while!)"
   ]
  },
  {
   "cell_type": "markdown",
   "metadata": {
    "id": "kOa6jSFIdLIX"
   },
   "source": [
    "## Section 1: Data and Utility <a class=\"anchor\" id=\"dataU\"></a>\n",
    "\n",
    "[Back to TOC](#top)\n",
    "\n",
    "First let's get familiar with the dataset and some utility methods for our implementations.\n",
    "\n",
    "### Section 1.1 Dataset stats\n",
    "\n",
    "| Split Name | \\# queries | \\# docs | \\# features |\n",
    "| :- | :--: | :--: | :--: |\n",
    "| train | 2735 | 85227 | 501 |\n",
    "| validation | 403 | 12794 | 501 |\n",
    "| test | 949 | 29881 | 501 |\n"
   ]
  },
  {
   "cell_type": "code",
   "execution_count": 2,
   "metadata": {
    "executionInfo": {
     "elapsed": 3157,
     "status": "ok",
     "timestamp": 1647944386244,
     "user": {
      "displayName": "Thomas Boer",
      "photoUrl": "https://lh3.googleusercontent.com/a-/AOh14Gij1TDldlbJuh0WdhJnqMtSXetRSTTZ389OVSccFg=s64",
      "userId": "06748694763990141535"
     },
     "user_tz": -60
    },
    "id": "KPmMcTTSdLIX"
   },
   "outputs": [],
   "source": [
    "dataset.download_dataset()\n",
    "data = dataset.get_dataset()\n",
    "# there is only 1 fold for this dataset \n",
    "data = data.get_data_folds()[0]\n",
    "# read in the data\n",
    "data.read_data()"
   ]
  },
  {
   "cell_type": "code",
   "execution_count": 3,
   "metadata": {
    "colab": {
     "base_uri": "https://localhost:8080/"
    },
    "executionInfo": {
     "elapsed": 64,
     "status": "ok",
     "timestamp": 1647944386245,
     "user": {
      "displayName": "Thomas Boer",
      "photoUrl": "https://lh3.googleusercontent.com/a-/AOh14Gij1TDldlbJuh0WdhJnqMtSXetRSTTZ389OVSccFg=s64",
      "userId": "06748694763990141535"
     },
     "user_tz": -60
    },
    "id": "xeyc-hsidLIY",
    "outputId": "a38b93e0-1ac0-4571-d92c-0f6865f63a75"
   },
   "outputs": [
    {
     "name": "stdout",
     "output_type": "stream",
     "text": [
      "Number of features: 501\n",
      "Split: train\n",
      "\tNumber of queries 2735\n",
      "\tNumber of docs 85227\n",
      "Split: validation\n",
      "\tNumber of queries 403\n",
      "\tNumber of docs 12794\n",
      "Split: test\n",
      "\tNumber of queries 949\n",
      "\tNumber of docs 29881\n"
     ]
    }
   ],
   "source": [
    "print(f\"Number of features: {data.num_features}\")\n",
    "# print some statistics\n",
    "for split in [\"train\", \"validation\", \"test\"]:\n",
    "    print(f\"Split: {split}\")\n",
    "    split = getattr(data, split)\n",
    "    print(f\"\\tNumber of queries {split.num_queries()}\")\n",
    "    print(f\"\\tNumber of docs {split.num_docs()}\")"
   ]
  },
  {
   "cell_type": "markdown",
   "metadata": {
    "id": "MTNPv2BjdLIZ"
   },
   "source": [
    "### Section 1.2 Utility classes/methods\n",
    "\n",
    "The following cells contain code that will be useful for the assigment. "
   ]
  },
  {
   "cell_type": "code",
   "execution_count": 4,
   "metadata": {
    "executionInfo": {
     "elapsed": 61,
     "status": "ok",
     "timestamp": 1647944386247,
     "user": {
      "displayName": "Thomas Boer",
      "photoUrl": "https://lh3.googleusercontent.com/a-/AOh14Gij1TDldlbJuh0WdhJnqMtSXetRSTTZ389OVSccFg=s64",
      "userId": "06748694763990141535"
     },
     "user_tz": -60
    },
    "id": "nDq8FKFCdLIZ"
   },
   "outputs": [],
   "source": [
    "# these is a useful class to create torch DataLoaders, and can be used during training\n",
    "class LTRData(Dataset):\n",
    "    def __init__(self, data, split):\n",
    "        split = {\n",
    "            \"train\": data.train,\n",
    "            \"validation\": data.validation,\n",
    "            \"test\": data.test\n",
    "        }.get(split)\n",
    "        assert split is not None, \"Invalid split!\"\n",
    "        features, labels = split.feature_matrix, split.label_vector\n",
    "        self.features = torch.FloatTensor(features)\n",
    "        self.labels = torch.FloatTensor(labels)\n",
    "    \n",
    "    def __len__(self):\n",
    "        return self.features.size(0)\n",
    "\n",
    "    def __getitem__(self, i):\n",
    "        return self.features[i], self.labels[i]"
   ]
  },
  {
   "cell_type": "code",
   "execution_count": 5,
   "metadata": {
    "colab": {
     "base_uri": "https://localhost:8080/"
    },
    "executionInfo": {
     "elapsed": 63,
     "status": "ok",
     "timestamp": 1647944386249,
     "user": {
      "displayName": "Thomas Boer",
      "photoUrl": "https://lh3.googleusercontent.com/a-/AOh14Gij1TDldlbJuh0WdhJnqMtSXetRSTTZ389OVSccFg=s64",
      "userId": "06748694763990141535"
     },
     "user_tz": -60
    },
    "id": "zfdhh1m9dLIZ",
    "outputId": "6770f8f1-8e33-48b8-e294-182b0cfcf494"
   },
   "outputs": [
    {
     "name": "stdout",
     "output_type": "stream",
     "text": [
      "torch.Size([32, 501]) torch.Size([32])\n"
     ]
    }
   ],
   "source": [
    "## example \n",
    "train_dl = DataLoader(LTRData(data, \"train\"), batch_size=32, shuffle=True)\n",
    "# this is how you would use it to quickly iterate over the train/val/test sets \n",
    "# - (of course, without the break statement!)\n",
    "for (x, y) in train_dl:\n",
    "    print(x.size(), y.size())\n",
    "    break"
   ]
  },
  {
   "cell_type": "markdown",
   "metadata": {
    "id": "arZbjNWodLIa"
   },
   "source": [
    "`evaluate_model` evaluates a model, on a given split."
   ]
  },
  {
   "cell_type": "code",
   "execution_count": 6,
   "metadata": {
    "executionInfo": {
     "elapsed": 59,
     "status": "ok",
     "timestamp": 1647944386252,
     "user": {
      "displayName": "Thomas Boer",
      "photoUrl": "https://lh3.googleusercontent.com/a-/AOh14Gij1TDldlbJuh0WdhJnqMtSXetRSTTZ389OVSccFg=s64",
      "userId": "06748694763990141535"
     },
     "user_tz": -60
    },
    "id": "1VxLI9BxdLIa"
   },
   "outputs": [],
   "source": [
    "# this function evaluates a model, on a given split\n",
    "def evaluate_model(pred_fn, split, batch_size=256, print_results=False, q_level=False):\n",
    "    dl = DataLoader(LTRData(data, split), batch_size=batch_size)\n",
    "    all_scores = []\n",
    "    all_labels = []\n",
    "    for (x, y) in tqdm(dl, desc=f'Eval ({split})', leave=False):\n",
    "        all_labels.append(y.squeeze().numpy())\n",
    "        \n",
    "        with torch.no_grad():\n",
    "            output = pred_fn(x)\n",
    "            all_scores.append(output.squeeze().numpy())\n",
    "            \n",
    "    split = {\n",
    "            \"train\": data.train,\n",
    "            \"validation\": data.validation,\n",
    "            \"test\": data.test\n",
    "    }.get(split)   \n",
    "    results = evaluate.evaluate2(np.asarray(all_scores), np.asarray(all_labels), print_results=print_results, q_level=q_level)\n",
    "\n",
    "    return results\n"
   ]
  },
  {
   "cell_type": "code",
   "execution_count": 7,
   "metadata": {
    "colab": {
     "base_uri": "https://localhost:8080/",
     "height": 454,
     "referenced_widgets": [
      "69191a9b326d4d1ba739f339872edb81",
      "728c6c35f40d46ac80407fdecfc84436",
      "b35d8c4609e3420c9868306eedbc9e6c",
      "2d80ee7fdbe640eb990f9d8dcc8e26d4",
      "dd5d2b5dfd2948908e389ac5cd9caf8a",
      "a5b9d93f678d47e580c7573a35c75868",
      "ddd639af7e2e4d4caaa5d3b60f3c7d78",
      "fef8941296c84806b7f51b043bc0030f"
     ]
    },
    "executionInfo": {
     "elapsed": 75,
     "status": "ok",
     "timestamp": 1647944386268,
     "user": {
      "displayName": "Thomas Boer",
      "photoUrl": "https://lh3.googleusercontent.com/a-/AOh14Gij1TDldlbJuh0WdhJnqMtSXetRSTTZ389OVSccFg=s64",
      "userId": "06748694763990141535"
     },
     "user_tz": -60
    },
    "id": "HuTvDDQ9dLIa",
    "outputId": "330e6e02-9beb-42a1-a094-2ac98852fc1f"
   },
   "outputs": [
    {
     "data": {
      "application/vnd.jupyter.widget-view+json": {
       "model_id": "",
       "version_major": 2,
       "version_minor": 0
      },
      "text/plain": [
       "Eval (validation):   0%|          | 0/50 [00:00<?, ?it/s]"
      ]
     },
     "metadata": {},
     "output_type": "display_data"
    },
    {
     "name": "stdout",
     "output_type": "stream",
     "text": [
      "\"metric\": \"mean\" (\"standard deviation\")\n",
      "dcg: 87.0228 (19.78846)\n",
      "dcg@03: 4.9830 (2.58578)\n",
      "dcg@05: 6.8425 (3.00639)\n",
      "dcg@10: 10.9579 (4.69864)\n",
      "dcg@20: 18.3522 (7.01030)\n",
      "ndcg: 0.7031 (0.05656)\n",
      "ndcg@03: 0.1849 (0.11675)\n",
      "ndcg@05: 0.1961 (0.11371)\n",
      "ndcg@10: 0.2268 (0.11827)\n",
      "ndcg@20: 0.2815 (0.11370)\n",
      "precision@01: 0.0200 (0.14000)\n",
      "precision@03: 0.0933 (0.16384)\n",
      "precision@05: 0.0880 (0.12106)\n",
      "precision@10: 0.0980 (0.11746)\n",
      "precision@20: 0.1320 (0.10477)\n",
      "recall@01: 0.0004 (0.00250)\n",
      "recall@03: 0.0126 (0.02718)\n",
      "recall@05: 0.0194 (0.03074)\n",
      "recall@10: 0.0412 (0.04892)\n",
      "recall@20: 0.1143 (0.08817)\n",
      "relevant rank: 103.6859 (67.38845)\n",
      "relevant rank per query: 2449.0600 (1318.44329)\n"
     ]
    },
    {
     "name": "stderr",
     "output_type": "stream",
     "text": [
      "C:\\Users\\lcu1812\\Anaconda3\\envs\\IR\\lib\\site-packages\\numpy\\core\\_asarray.py:83: VisibleDeprecationWarning: Creating an ndarray from ragged nested sequences (which is a list-or-tuple of lists-or-tuples-or ndarrays with different lengths or shapes) is deprecated. If you meant to do this, you must specify 'dtype=object' when creating the ndarray\n",
      "  return array(a, dtype, copy=False, order=order)\n"
     ]
    }
   ],
   "source": [
    "## example \n",
    "# function that scores a given feature vector e.g a network\n",
    "net = nn.Linear(501, 1)\n",
    "# the evaluate method accepts a function. more specifically, a callable (such as pytorch modules) \n",
    "def notwork(x):\n",
    "    return net(x)\n",
    "# evaluate the function\n",
    "_ = evaluate_model(notwork, \"validation\", print_results=True)"
   ]
  },
  {
   "cell_type": "markdown",
   "metadata": {
    "id": "7PI2qPpPdLIb"
   },
   "source": [
    "The next cell is used to generate reproducible results:"
   ]
  },
  {
   "cell_type": "code",
   "execution_count": 8,
   "metadata": {
    "executionInfo": {
     "elapsed": 77,
     "status": "ok",
     "timestamp": 1647944386274,
     "user": {
      "displayName": "Thomas Boer",
      "photoUrl": "https://lh3.googleusercontent.com/a-/AOh14Gij1TDldlbJuh0WdhJnqMtSXetRSTTZ389OVSccFg=s64",
      "userId": "06748694763990141535"
     },
     "user_tz": -60
    },
    "id": "V5UALUledLIb"
   },
   "outputs": [],
   "source": [
    "# use to get reproducible results\n",
    "def seed(random_seed):\n",
    "    import random\n",
    "    torch.manual_seed(random_seed)\n",
    "    torch.backends.cudnn.deterministic = True\n",
    "    torch.backends.cudnn.benchmark = False\n",
    "    np.random.seed(random_seed)\n",
    "    random.seed(random_seed)\n",
    "    "
   ]
  },
  {
   "cell_type": "markdown",
   "metadata": {
    "id": "BtYFQRV9dLIb"
   },
   "source": [
    "## Section 2: Pointwise LTR (55 points) <a class=\"anchor\" id=\"pointwiseLTR\"></a>\n",
    "\n",
    "[Back to TOC](#top)\n",
    "\n",
    "Let $x \\in \\mathbb{R}^d$ be an input feature vector, containing features for a query-document pair. Let $f: \\mathbb{R}^d \\rightarrow \\mathbb{R} $ be a function that maps this feature vector to a number $f(x)$ - either a relevance score (regression) or label (classification). The data $\\{x \\}$ are treated as feature vectors and the relevance judgements are treated as the target which we want to predict. \n",
    "\n",
    "In this section, you will implement a simple Pointwise model using either a regression loss, and use the train set to train this model to predict the relevance score. \n"
   ]
  },
  {
   "cell_type": "markdown",
   "metadata": {
    "id": "jFSj-GJHdLIc"
   },
   "source": [
    "### Section 2.1: Neural Model (25 points)\n",
    "\n",
    "In the following cell, you will implement a simple pointwise LTR model: \n",
    "- Use a neural network to learn a model with different loss functions, using the relevance grades as the label. Use the following parameters: \n",
    "  - Layers: $501 (input) \\rightarrow 256 \\rightarrow 1$ where each layer is a linear layer (`nn.Linear`) with a ReLu activation function (`nn.ReLU`) in between the layers. Use the default weight initialization scheme. (Hint: use `nn.Sequential` for a one-line forward function!)\n",
    "  - This network will also be used by other methods i.e Pairwise \n",
    "  \n",
    "You should implement the following three methods:\n",
    "- `__init__` (4 points)\n",
    "- `forward` (1 point)\n",
    "\n"
   ]
  },
  {
   "cell_type": "code",
   "execution_count": 9,
   "metadata": {
    "executionInfo": {
     "elapsed": 78,
     "status": "ok",
     "timestamp": 1647944386276,
     "user": {
      "displayName": "Thomas Boer",
      "photoUrl": "https://lh3.googleusercontent.com/a-/AOh14Gij1TDldlbJuh0WdhJnqMtSXetRSTTZ389OVSccFg=s64",
      "userId": "06748694763990141535"
     },
     "user_tz": -60
    },
    "id": "liyUwDOsdLId"
   },
   "outputs": [],
   "source": [
    "# TODO: Implement this! (5 points)\n",
    "class NeuralModule(nn.Module):\n",
    "    def __init__(self):\n",
    "        \"\"\"\n",
    "        Initializes the Pointwise neural network.\n",
    "        \"\"\"\n",
    "        \n",
    "        # YOUR CODE HERE\n",
    "        super(NeuralModule, self).__init__()\n",
    "        self.input_size = 501\n",
    "        self.batch_size = 256\n",
    "\n",
    "        # self.model = nn.Sequential(\n",
    "        #   nn.Linear(self.input_size, self.batch_size),\n",
    "        #   nn.ReLU(),\n",
    "        #   nn.Linear(self.batch_size, 1),\n",
    "        #   nn.Softmax()\n",
    "        # )\n",
    "\n",
    "        self.model = nn.Sequential(\n",
    "          nn.Linear(self.input_size, self.batch_size),\n",
    "          nn.ReLU(),\n",
    "          nn.Linear(self.batch_size, 1)\n",
    "        )\n",
    "\n",
    "        # self.model = nn.Sequential(\n",
    "        #   nn.Linear(self.input_size, self.batch_size),\n",
    "        #   nn.ReLU(),\n",
    "        #   nn.Linear(self.batch_size, 1),\n",
    "        #   nn.ReLU()\n",
    "        # )\n",
    "    \n",
    "    def forward(self, x):\n",
    "        \"\"\"\n",
    "        Takes in an input feature matrix of size (N, 501) and produces the output \n",
    "        Input: x: a [N, 501] tensor\n",
    "        Output: a [N, 1] tensor\n",
    "        \"\"\"\n",
    "        # YOUR CODE HERE\n",
    "        return self.model(x)\n",
    "        "
   ]
  },
  {
   "cell_type": "code",
   "execution_count": 10,
   "metadata": {
    "colab": {
     "base_uri": "https://localhost:8080/"
    },
    "executionInfo": {
     "elapsed": 81,
     "status": "ok",
     "timestamp": 1647944386279,
     "user": {
      "displayName": "Thomas Boer",
      "photoUrl": "https://lh3.googleusercontent.com/a-/AOh14Gij1TDldlbJuh0WdhJnqMtSXetRSTTZ389OVSccFg=s64",
      "userId": "06748694763990141535"
     },
     "user_tz": -60
    },
    "id": "uWnPsd9adLId",
    "outputId": "6f5f9359-d8c6-4bf1-e10b-604fe5b91fbf"
   },
   "outputs": [
    {
     "name": "stdout",
     "output_type": "stream",
     "text": [
      "NeuralModule(\n",
      "  (model): Sequential(\n",
      "    (0): Linear(in_features=501, out_features=256, bias=True)\n",
      "    (1): ReLU()\n",
      "    (2): Linear(in_features=256, out_features=1, bias=True)\n",
      "  )\n",
      ")\n"
     ]
    }
   ],
   "source": [
    "# check the network configuration - layer dimensions and configurations\n",
    "point_nn_reg = NeuralModule()\n",
    "print(point_nn_reg)"
   ]
  },
  {
   "cell_type": "code",
   "execution_count": 11,
   "metadata": {
    "executionInfo": {
     "elapsed": 78,
     "status": "ok",
     "timestamp": 1647944386282,
     "user": {
      "displayName": "Thomas Boer",
      "photoUrl": "https://lh3.googleusercontent.com/a-/AOh14Gij1TDldlbJuh0WdhJnqMtSXetRSTTZ389OVSccFg=s64",
      "userId": "06748694763990141535"
     },
     "user_tz": -60
    },
    "id": "1eVpOY5DdLId"
   },
   "outputs": [],
   "source": [
    "# test the forward function\n",
    "n = 10\n",
    "inp = torch.rand(n, data.num_features)\n",
    "out = point_nn_reg(inp)\n"
   ]
  },
  {
   "cell_type": "code",
   "execution_count": 12,
   "metadata": {
    "colab": {
     "base_uri": "https://localhost:8080/"
    },
    "executionInfo": {
     "elapsed": 81,
     "status": "ok",
     "timestamp": 1647944386286,
     "user": {
      "displayName": "Thomas Boer",
      "photoUrl": "https://lh3.googleusercontent.com/a-/AOh14Gij1TDldlbJuh0WdhJnqMtSXetRSTTZ389OVSccFg=s64",
      "userId": "06748694763990141535"
     },
     "user_tz": -60
    },
    "id": "AOpgcnyM4fAV",
    "outputId": "66235539-3bac-4c98-b55a-b87bf31ccff9"
   },
   "outputs": [
    {
     "name": "stdout",
     "output_type": "stream",
     "text": [
      "None\n",
      "tensor([[-0.1270],\n",
      "        [ 0.0462],\n",
      "        [-0.1215],\n",
      "        [-0.0507],\n",
      "        [-0.0992],\n",
      "        [ 0.0577],\n",
      "        [-0.0463],\n",
      "        [-0.0739],\n",
      "        [-0.1754],\n",
      "        [-0.1270]], grad_fn=<AddmmBackward>)\n"
     ]
    }
   ],
   "source": [
    "print(inp.grad)\n",
    "print(out)"
   ]
  },
  {
   "cell_type": "markdown",
   "metadata": {
    "id": "5J68YYUWdLId"
   },
   "source": [
    "**Implementation (20 points):**\n",
    "Implement `train_batch` function to compute the gradients (`backward()` function) and update the weights (`step()` function), using the specified loss function."
   ]
  },
  {
   "cell_type": "code",
   "execution_count": 13,
   "metadata": {
    "executionInfo": {
     "elapsed": 77,
     "status": "ok",
     "timestamp": 1647944386289,
     "user": {
      "displayName": "Thomas Boer",
      "photoUrl": "https://lh3.googleusercontent.com/a-/AOh14Gij1TDldlbJuh0WdhJnqMtSXetRSTTZ389OVSccFg=s64",
      "userId": "06748694763990141535"
     },
     "user_tz": -60
    },
    "id": "TNcaS8uTdLIe"
   },
   "outputs": [],
   "source": [
    "# TODO: Implement this! (20 points)\n",
    "\n",
    "def train_batch(net, x, y, loss_fn, optimizer):\n",
    "    \"\"\"\n",
    "    Takes as input a batch of size N, i.e. feature matrix of size (N, 501), label vector of size (N), the loss function and optimizer for computing the gradients, \n",
    "    and updates the weights of the model.\n",
    "\n",
    "    Input:  x: feature matrix, a [N, 501] tensor\n",
    "            y: label vector, a [N] tensor\n",
    "            loss_fn: an implementation of a loss function\n",
    "            optimizer: an optimizer for computing the gradients (we use Adam)\n",
    "    \"\"\"\n",
    "    # YOUR CODE HERE\n",
    "    optimizer.zero_grad()\n",
    "    scores = net(x)\n",
    "    loss = loss_fn(scores, y)  # add requires_grad=True?\n",
    "    net.zero_grad()  # not sure if this is necessary => Lan: i think maybe not\n",
    "    loss.backward()\n",
    "    optimizer.step()\n"
   ]
  },
  {
   "cell_type": "code",
   "execution_count": 14,
   "metadata": {
    "executionInfo": {
     "elapsed": 77,
     "status": "ok",
     "timestamp": 1647944386290,
     "user": {
      "displayName": "Thomas Boer",
      "photoUrl": "https://lh3.googleusercontent.com/a-/AOh14Gij1TDldlbJuh0WdhJnqMtSXetRSTTZ389OVSccFg=s64",
      "userId": "06748694763990141535"
     },
     "user_tz": -60
    },
    "id": "7eUM93Y0dLIe"
   },
   "outputs": [],
   "source": [
    "# Please do not change this. This cell is used for grading.\n"
   ]
  },
  {
   "cell_type": "markdown",
   "metadata": {
    "id": "c_yy3Es4dLIe"
   },
   "source": [
    "\\#### Please do not change this. This cell is used for grading."
   ]
  },
  {
   "cell_type": "markdown",
   "metadata": {
    "id": "IVi7RR57dLIe"
   },
   "source": [
    "### Section 2.2: Loss Functions (5 points)\n",
    "Pointwise LTR algorithms use pointwise loss functions.\n",
    "Usually, the popular loss functions for pointwise LTR is Regression loss."
   ]
  },
  {
   "cell_type": "markdown",
   "metadata": {
    "id": "omZ2AqCQdLIe"
   },
   "source": [
    "**Implementation (5 points):**\n",
    "Implement regression loss."
   ]
  },
  {
   "cell_type": "code",
   "execution_count": 15,
   "metadata": {
    "executionInfo": {
     "elapsed": 76,
     "status": "ok",
     "timestamp": 1647944386291,
     "user": {
      "displayName": "Thomas Boer",
      "photoUrl": "https://lh3.googleusercontent.com/a-/AOh14Gij1TDldlbJuh0WdhJnqMtSXetRSTTZ389OVSccFg=s64",
      "userId": "06748694763990141535"
     },
     "user_tz": -60
    },
    "id": "-2QEQQJxdLIf"
   },
   "outputs": [],
   "source": [
    "# TODO: Implement this! (5 points)\n",
    "def pointwise_loss(output, target):\n",
    "    \"\"\"\n",
    "    Regression loss - returns a single number. \n",
    "    Make sure to use the MSE loss\n",
    "    output: (float) tensor, shape - [N, 1] \n",
    "    target: (float) tensor, shape - [N]. \n",
    "    \"\"\"\n",
    "    assert target.dim() == 1\n",
    "    assert output.size(0) == target.size(0)\n",
    "    assert output.size(1) == 1\n",
    "    \n",
    "    # YOUR CODE HERE\n",
    "    target = target.view(1, -1)\n",
    "    criterion = nn.MSELoss()\n",
    "    loss = criterion(output, target)\n",
    "    return loss\n"
   ]
  },
  {
   "cell_type": "code",
   "execution_count": 16,
   "metadata": {
    "colab": {
     "base_uri": "https://localhost:8080/"
    },
    "executionInfo": {
     "elapsed": 80,
     "status": "ok",
     "timestamp": 1647944386295,
     "user": {
      "displayName": "Thomas Boer",
      "photoUrl": "https://lh3.googleusercontent.com/a-/AOh14Gij1TDldlbJuh0WdhJnqMtSXetRSTTZ389OVSccFg=s64",
      "userId": "06748694763990141535"
     },
     "user_tz": -60
    },
    "id": "eULGaInRdLIi",
    "outputId": "8a72d9c1-1abd-43cc-af49-05a1e8861b4a"
   },
   "outputs": [
    {
     "name": "stdout",
     "output_type": "stream",
     "text": [
      "your results:[3.200000047683716, 6.360000133514404, 4.159999847412109, 5.400000095367432, 3.240000009536743]\n"
     ]
    },
    {
     "name": "stderr",
     "output_type": "stream",
     "text": [
      "C:\\Users\\lcu1812\\Anaconda3\\envs\\IR\\lib\\site-packages\\torch\\nn\\modules\\loss.py:528: UserWarning: Using a target size (torch.Size([1, 5])) that is different to the input size (torch.Size([5, 1])). This will likely lead to incorrect results due to broadcasting. Please ensure they have the same size.\n",
      "  return F.mse_loss(input, target, reduction=self.reduction)\n"
     ]
    }
   ],
   "source": [
    "## Test pointwise_loss\n",
    "g = torch.manual_seed(42)\n",
    "output = [torch.randint(low=0, high=5, size=(5, 1), generator=g).float() for _ in range(5)]\n",
    "target = torch.randint(low=0, high=5, size=(5,), generator=g).float()\n",
    "\n",
    "l = [pointwise_loss(o, target).item() for o in output]\n",
    "print(f'your results:{l}')\n"
   ]
  },
  {
   "cell_type": "code",
   "execution_count": null,
   "metadata": {
    "executionInfo": {
     "elapsed": 75,
     "status": "ok",
     "timestamp": 1647944386298,
     "user": {
      "displayName": "Thomas Boer",
      "photoUrl": "https://lh3.googleusercontent.com/a-/AOh14Gij1TDldlbJuh0WdhJnqMtSXetRSTTZ389OVSccFg=s64",
      "userId": "06748694763990141535"
     },
     "user_tz": -60
    },
    "id": "uXWJ3vOo0jml"
   },
   "outputs": [],
   "source": []
  },
  {
   "cell_type": "markdown",
   "metadata": {
    "id": "Mp0OolqhdLIi"
   },
   "source": [
    "**Implementation (25 points):**\n",
    "Now implement a wrapper for training a pointwise LTR, that takes the model as input and trains the model.\n",
    "\n",
    "**Rubric:**\n",
    " - Network is trained for specified epochs, and iterates over the entire dataset and (train) data is shuffled : 5 points\n",
    " - Evaluation on the validation set: 5 points\n",
    " - Performance as expected: 15 points"
   ]
  },
  {
   "cell_type": "code",
   "execution_count": 17,
   "metadata": {
    "executionInfo": {
     "elapsed": 709,
     "status": "ok",
     "timestamp": 1647944386931,
     "user": {
      "displayName": "Thomas Boer",
      "photoUrl": "https://lh3.googleusercontent.com/a-/AOh14Gij1TDldlbJuh0WdhJnqMtSXetRSTTZ389OVSccFg=s64",
      "userId": "06748694763990141535"
     },
     "user_tz": -60
    },
    "id": "fqKeqwrJdLIi"
   },
   "outputs": [],
   "source": [
    "# TODO: Implement this! (25 points)\n",
    "def train_pointwise(net, params):\n",
    "    \"\"\"\n",
    "    This function should train a Pointwise network. \n",
    "    \n",
    "    The network is trained using the Adam optimizer\n",
    "        \n",
    "    \n",
    "    Note: Do not change the function definition! \n",
    "    \n",
    "    \n",
    "    Hints:\n",
    "    1. Use the LTRData class defined above\n",
    "    2. Do not forget to use net.train() and net.eval()\n",
    "    \n",
    "    Inputs:\n",
    "            net: the neural network to be trained\n",
    "\n",
    "            params: params is an object which contains config used in training \n",
    "                (eg. params.epochs - the number of epochs to train). \n",
    "                For a full list of these params, see the next cell. \n",
    "    \n",
    "    Returns: a dictionary containing: \"metrics_val\" (a list of dictionaries) and \n",
    "             \"metrics_train\" (a list of dictionaries). \n",
    "             \n",
    "             \"metrics_val\" should contain metrics (the metrics in params.metrics) computed\n",
    "             after each epoch on the validation set (metrics_train is similar). \n",
    "             You can use this to debug your models.\n",
    "    \n",
    "    \"\"\"\n",
    "    \n",
    "    \n",
    "    val_metrics_epoch = []\n",
    "    train_metrics_epoch = []\n",
    "    optimizer = Adam(net.parameters(), lr=params.lr)\n",
    "    loss_fn = pointwise_loss\n",
    "    \n",
    "    # YOUR CODE HERE\n",
    "\n",
    "    for i in range(params.epochs):\n",
    "      train_dl = DataLoader(LTRData(data, \"train\"), batch_size=params.batch_size, shuffle=True)\n",
    "      for (x, y) in train_dl:\n",
    "        net.input_size = x.size()[1]\n",
    "        net.batch_size = params.batch_size\n",
    "        break\n",
    "\n",
    "      for (x, y) in train_dl:\n",
    "          train_batch(net, x, y, loss_fn, optimizer)\n",
    "\n",
    "      train_metrics_epoch.append(evaluate_model(net, \"train\", print_results=True))\n",
    "\n",
    "      # validation\n",
    "      val_dl = DataLoader(LTRData(data, \"validation\"), batch_size=params.batch_size, shuffle=True)\n",
    "\n",
    "      val_metrics_epoch.append(evaluate_model(net, \"validation\", print_results=True))\n",
    "    \n",
    "    return {\n",
    "        \"metrics_val\": val_metrics_epoch,\n",
    "        \"metrics_train\": train_metrics_epoch\n",
    "    }"
   ]
  },
  {
   "cell_type": "code",
   "execution_count": 18,
   "metadata": {
    "executionInfo": {
     "elapsed": 10,
     "status": "ok",
     "timestamp": 1647944386933,
     "user": {
      "displayName": "Thomas Boer",
      "photoUrl": "https://lh3.googleusercontent.com/a-/AOh14Gij1TDldlbJuh0WdhJnqMtSXetRSTTZ389OVSccFg=s64",
      "userId": "06748694763990141535"
     },
     "user_tz": -60
    },
    "id": "TEyg3wDQdLIi"
   },
   "outputs": [],
   "source": [
    "# Please do not change this. This cell is used for grading."
   ]
  },
  {
   "cell_type": "markdown",
   "metadata": {
    "id": "-W1k8v8XdLIi"
   },
   "source": [
    "\\#### Please do not change this. This cell is used for grading."
   ]
  },
  {
   "cell_type": "code",
   "execution_count": 19,
   "metadata": {
    "colab": {
     "base_uri": "https://localhost:8080/",
     "height": 922,
     "referenced_widgets": [
      "43d21b69b8a64102bf939d1393c4d2bb",
      "6e272d918caa4ee6b0f8645b1265caae",
      "5257d63ca61d4667b38116f4cf3ae450",
      "bf4823ccca0a4fdfbf346b5be9db6635",
      "47dacdc3703344449c00b56b3e1fb432",
      "48385e7879fd4ce599e7f39441c274ff",
      "8617b114e05641a18cf71ef8a2208062",
      "34f915abb4654f03b916714a9b15719e",
      "c87637b11255412483382326fa950c88",
      "272e5640f4df4834abad4a5a0b0c0a2b",
      "7dc79e45f421428a84cb376513c16351",
      "c0a2f1dfa1fa4138ba131320a9d40a73",
      "00d0d9b1e5f142c89bdbd10f974869dd",
      "957177d7b8c04f20824dc51eefda1d13",
      "54bb908446e648698e30c669becce77b",
      "e81e2d999da545c7a3164d9d8d56ca28"
     ]
    },
    "executionInfo": {
     "elapsed": 4782,
     "status": "ok",
     "timestamp": 1647944391705,
     "user": {
      "displayName": "Thomas Boer",
      "photoUrl": "https://lh3.googleusercontent.com/a-/AOh14Gij1TDldlbJuh0WdhJnqMtSXetRSTTZ389OVSccFg=s64",
      "userId": "06748694763990141535"
     },
     "user_tz": -60
    },
    "id": "jViJ7si6dLIi",
    "outputId": "eb449e7b-66ec-4ea9-80ae-3506559d15f4"
   },
   "outputs": [
    {
     "name": "stderr",
     "output_type": "stream",
     "text": [
      "C:\\Users\\lcu1812\\Anaconda3\\envs\\IR\\lib\\site-packages\\torch\\nn\\modules\\loss.py:528: UserWarning: Using a target size (torch.Size([1, 256])) that is different to the input size (torch.Size([256, 1])). This will likely lead to incorrect results due to broadcasting. Please ensure they have the same size.\n",
      "  return F.mse_loss(input, target, reduction=self.reduction)\n",
      "C:\\Users\\lcu1812\\Anaconda3\\envs\\IR\\lib\\site-packages\\torch\\nn\\modules\\loss.py:528: UserWarning: Using a target size (torch.Size([1, 235])) that is different to the input size (torch.Size([235, 1])). This will likely lead to incorrect results due to broadcasting. Please ensure they have the same size.\n",
      "  return F.mse_loss(input, target, reduction=self.reduction)\n"
     ]
    },
    {
     "data": {
      "application/vnd.jupyter.widget-view+json": {
       "model_id": "",
       "version_major": 2,
       "version_minor": 0
      },
      "text/plain": [
       "Eval (train):   0%|          | 0/333 [00:00<?, ?it/s]"
      ]
     },
     "metadata": {},
     "output_type": "display_data"
    },
    {
     "name": "stdout",
     "output_type": "stream",
     "text": [
      "\"metric\": \"mean\" (\"standard deviation\")\n",
      "dcg: 83.6733 (21.03172)\n",
      "dcg@03: 4.0805 (4.17547)\n",
      "dcg@05: 5.7025 (4.96535)\n",
      "dcg@10: 9.0382 (6.34826)\n",
      "dcg@20: 14.0212 (7.77490)\n",
      "ndcg: 0.6740 (0.05841)\n",
      "ndcg@03: 0.1473 (0.14558)\n",
      "ndcg@05: 0.1569 (0.13074)\n",
      "ndcg@10: 0.1806 (0.11675)\n",
      "ndcg@20: 0.2120 (0.10233)\n",
      "precision@01: 0.0661 (0.24840)\n",
      "precision@03: 0.0931 (0.18360)\n",
      "precision@05: 0.0919 (0.15214)\n",
      "precision@10: 0.1021 (0.12362)\n",
      "precision@20: 0.0986 (0.09359)\n",
      "recall@01: 0.0024 (0.00992)\n",
      "recall@03: 0.0139 (0.03215)\n",
      "recall@05: 0.0210 (0.03745)\n",
      "recall@10: 0.0459 (0.05894)\n",
      "recall@20: 0.0850 (0.07657)\n",
      "relevant rank: 120.6643 (71.68860)\n",
      "relevant rank per query: 2866.5916 (1463.78646)\n"
     ]
    },
    {
     "data": {
      "application/vnd.jupyter.widget-view+json": {
       "model_id": "",
       "version_major": 2,
       "version_minor": 0
      },
      "text/plain": [
       "Eval (validation):   0%|          | 0/50 [00:00<?, ?it/s]"
      ]
     },
     "metadata": {},
     "output_type": "display_data"
    },
    {
     "name": "stdout",
     "output_type": "stream",
     "text": [
      "\"metric\": \"mean\" (\"standard deviation\")\n",
      "dcg: 82.3997 (20.53910)\n",
      "dcg@03: 3.2426 (3.01698)\n",
      "dcg@05: 4.8089 (3.46959)\n",
      "dcg@10: 7.8051 (4.04574)\n",
      "dcg@20: 12.8030 (5.57928)\n",
      "ndcg: 0.6618 (0.05791)\n",
      "ndcg@03: 0.1162 (0.10613)\n",
      "ndcg@05: 0.1303 (0.09037)\n",
      "ndcg@10: 0.1550 (0.08083)\n",
      "ndcg@20: 0.1922 (0.07724)\n",
      "precision@01: 0.0800 (0.27129)\n",
      "precision@03: 0.0533 (0.15434)\n",
      "precision@05: 0.0600 (0.12806)\n",
      "precision@10: 0.0720 (0.08256)\n",
      "precision@20: 0.0840 (0.08452)\n",
      "recall@01: 0.0021 (0.00741)\n",
      "recall@03: 0.0042 (0.01321)\n",
      "recall@05: 0.0116 (0.02484)\n",
      "recall@10: 0.0323 (0.04138)\n",
      "recall@20: 0.0700 (0.06175)\n",
      "relevant rank: 120.9949 (72.06513)\n",
      "relevant rank per query: 2857.9000 (1472.81523)\n"
     ]
    }
   ],
   "source": [
    "# Change this to test your code!\n",
    "pointwise_test_params = Namespace(epochs=1, \n",
    "                    lr=1e-3,\n",
    "                    batch_size=256,\n",
    "                   metrics={\"ndcg\"})\n",
    "# uncomment to test your code\n",
    "# train a regression model\n",
    "met_reg = train_pointwise(point_nn_reg, pointwise_test_params)\n"
   ]
  },
  {
   "cell_type": "markdown",
   "metadata": {
    "id": "b4KZSdR2dLIj"
   },
   "source": [
    "The next cell is used to generate results:"
   ]
  },
  {
   "cell_type": "code",
   "execution_count": 20,
   "metadata": {
    "executionInfo": {
     "elapsed": 13,
     "status": "ok",
     "timestamp": 1647944391706,
     "user": {
      "displayName": "Thomas Boer",
      "photoUrl": "https://lh3.googleusercontent.com/a-/AOh14Gij1TDldlbJuh0WdhJnqMtSXetRSTTZ389OVSccFg=s64",
      "userId": "06748694763990141535"
     },
     "user_tz": -60
    },
    "id": "n_266yLsdLIj"
   },
   "outputs": [],
   "source": [
    "\n",
    "    \n",
    "def create_results(net, train_fn, prediction_fn, *train_params):\n",
    "    \n",
    "    print(\"Training Model\")\n",
    "    metrics = train_fn(net, *train_params)\n",
    "    net.eval()\n",
    "    test_metrics, test_qq = evaluate_model(prediction_fn, \"test\", print_results=True, q_level=True)\n",
    "    \n",
    "    \n",
    "    test_q = {}\n",
    "    for m in {\"ndcg\", \"precision@05\", \"recall@05\"}:\n",
    "        test_q[m] = test_qq[m]\n",
    "    \n",
    "    \n",
    "    return {\n",
    "        \"metrics\": metrics,\n",
    "        \"test_metrics\": test_metrics,\n",
    "        \"test_query_level_metrics\": test_q,\n",
    "        }\n"
   ]
  },
  {
   "cell_type": "markdown",
   "metadata": {
    "id": "hDjyjxoudLIj"
   },
   "source": [
    "Now use the above functions to generate your results:"
   ]
  },
  {
   "cell_type": "code",
   "execution_count": 21,
   "metadata": {
    "colab": {
     "base_uri": "https://localhost:8080/",
     "height": 1000,
     "referenced_widgets": [
      "78476d2419a7426a9a6cabc707fe82c0",
      "01f6ec8f67374752ae37c2839778d4ad",
      "ffdcc445c8054103b89797b1e470a7ca",
      "44c38002786e49f581d47fd42769eb1c",
      "38514a57f9714c3b803c5f230bdc8761",
      "814be7ef7b1145e28ae48fff4d0aacb9",
      "5baad3c8c2444c969a44cf10d7a4259d",
      "f2a3b557f23046cd907d7fa946943833",
      "4c53308c0c2749f39d8b9465d4217bce",
      "a7faa720c7f34252874fbc180edcd01e",
      "a0e39fd4b7014995a215c31a17c417d2",
      "b892491317d74c5bbd89330a6d2a61e2",
      "1205ef052acc45f984a1c8964f7e4af3",
      "5d231b38862e463cbd6e7c864755c1d3",
      "0858119152f74c47866063c0ddfb8ad0",
      "153a2a7783d74697b34dc2befe3dad85",
      "9fca7e75567c46119a4399545a5c43ce",
      "8f1922da105044c6b5032d9c1431c096",
      "7d2409257644471ca2fa155ff43cce6d",
      "3d5df921ef9c43a98c98e1f4fd0571d9",
      "0ee30b20c2aa4e95b9f3e09f57e1bdbc",
      "40f537e2dd124db4a51fe7f853b74231",
      "f366cd21145f4bb6954c7c3ca50373ef",
      "1b67bf0b10cc4a97bbd5fac15449e375",
      "79a46d1e879c4e2d9cb7f648c386871f",
      "051b513835274dc98756d39a6be05aa3",
      "a8f00d4307c14291b360ad9b754e502a",
      "b093c80b7bf24286a84ce54cf35c7e4b",
      "4429accc0efa462bb053e2d627d493fc",
      "2577aaaa146547588f26d923a988c87e",
      "fac355a2a19f45fea7594ea863b66b0f",
      "7c4e8702fb314b3b9d6345d7f7f6b138",
      "f9807d21b5b14e199a1cbb06f5ee0289",
      "83b3650572c04dfebdc196e7cdfb12b3",
      "e5b58f30a41045a283262a2a2abbda1c",
      "32306396a72140ec877f3b911b61afa6",
      "8b54369d343343d8bfb152d5744f5eeb",
      "a8c1338d1bbd46c49e313291ff446a91",
      "128cea568cd841bbbc70642a2f0c6ebb",
      "4eb013b7492f4e3fbcba119f1a2a8599",
      "80ccc0355e1348eb97c2f40be6281ba9",
      "0b61e6a902b141199adc05666f38238d",
      "03ac900e0aa04e2a967ad8fc3f433b1d",
      "faa7436c42084767a41dbd904be0591d",
      "3cb28a89a49b473fa9d53f49366dda5d",
      "579a8114e1db4ed1b036fbe2c18bf6dd",
      "5386400fd71244ad8c1aec343b6a5c19",
      "3eb31ae03cc0475c8430cfbdb91f114c",
      "89e1d36de8724eaa8ae4ebb24d8c787a",
      "c72f283848594f94ab3b5e6deb4aa410",
      "3be50733d1604f378ee61f9972ad1415",
      "7ee48e940eab4d3784f441fc93a22045",
      "92a3ae61860746b4bc392513cdbd5ba8",
      "6b773d2f63964fcdb09b647697a500dd",
      "56009806327d4e1d8cdfeb90ac36be59",
      "c29de37f5b284dfd9087b1ba5b3ba2b3",
      "3d7feb2ea5df48948100f0d65c02bef8",
      "b98074cd568a4b82a55ad8c435d72abf",
      "7f8b8ba53196438ca68370946d9bb679",
      "ea976cca7d624e658013776fef816b08",
      "93789e6aef644f55809fdaf4430ddb6e",
      "dd90495a823347809b40f672536d4a36",
      "b197f436243b4eba9624d64a63070466",
      "9c9ce1649a684a41b0ce9301627771c3",
      "08d897cea6324a2db72619c5b8d549f3",
      "2b1b1f36baac41f98d17fbae8e947492",
      "46feabc1256a485a977d3b01c0be17e1",
      "b79cb56ea35845d2a3fd14e7bafac265",
      "a83954fd1da64989b6b24c290c443a14",
      "a284b909979d4b7db28bd0edd3f74da4",
      "95f50883b3d7421d91f84afadba71fed",
      "551dbab610eb4639885630ad2ff4b8e9",
      "1e8d946bb74f4bde81e88865e6486e3d",
      "60d6d3dce582463faa602403374482b8",
      "77a192903e2d4ba49dfd859f975b581d",
      "fc51861d932e43c8b601d6812a770204",
      "ff0073275d964ea68a04ad28323f17d5",
      "e8fa60e71eae43e88324d22ae0981f0c",
      "aa3f96e02a9e4f6f981a1386cfdf807b",
      "8f738b97ea3e4d4d82f7e25fedc5b06f",
      "03de8e9a14a24edd85d1c6c4baee2d48",
      "676110b1531047b3b9476d4c1ac9d4ab",
      "8194440074c24a0f920e4c5de8e9c011",
      "e7bc2b369c3c4c3a8827b081a094da7c",
      "92028aeabd5f4712bf37e65ba065f135",
      "df28438237fa49a98961474a6ca2ebc1",
      "f285f06f171a4719a6bf47e7eef0c228",
      "e650440e74374341b5818388fb902fa9",
      "5ed3985a74394e0b80588d7635629bf2",
      "0d4f695b9fa243859dafad5d3096bed5",
      "c0f2f23f333a46dfa1b3af746781f9eb",
      "3b09531783a54dbd970a9a980b684cbd",
      "84ef31e9e3a849a6bd576e5e3d82e203",
      "eb226056499a4900831449baa2652baf",
      "f31634ad330648d0919ff4a3c8687bf7",
      "d08d6f2dffd64bcf8c331172253b2dfd",
      "4796ae0aa68e41de9b621a5b0de7e3d1",
      "3a1c1bc1f25e4ccd917a13340d6fad5c",
      "574c26a371064e1a8bd0f7a22a60a1ec",
      "b0e40afeb6a140e981f96688823fe9fc",
      "32df891b914b4d7085a855d56691e84b",
      "f1e144a48a314fbf8ce615cacd2639cf",
      "3f7aed16d6684182bc96412c6fa242bf",
      "898978c99b9b420bb08f04adbefebde4",
      "680ba95e3295443299b22be219eaa167",
      "34660c3256724439aa522910f80e88e2",
      "6d2049328c7142139edc15e5afa86823",
      "82d4e5007d584bdc96526d1a468620ee",
      "926c491d7aaa445d87a53af21b6045b1",
      "c01a0d709b71427abd99de7b624c5da8",
      "defff90cea894e8eb5c056ecde6fd325",
      "11b8185c05c54f1ca56be6a4dd30a211",
      "946ee19c45f640d08c845531db4d35b2",
      "bd53cac598f64601824d0e41e3e0f32f",
      "dbfc0bbef4014e0bb4eab00b7a72633a",
      "a79c99fdf094472a837d94fdf586e6e1",
      "fb7e8540130c49c8adb9918c5aed7335",
      "74b43e50f69945eb8026ccbb53aef25a",
      "7d733c240bb44a06bfaf0f7ee46c01f3",
      "bc2ecc1bf4764f3fb5fa5c84ef9ddd97",
      "ba2976bd374d440e9712b2f545a75f6e",
      "6d4fea2efaed463ca064e2d90e19253e",
      "eb79247586f943c8bab2297613fc23c2",
      "6c5add6c481d4646adb93519e0bc9de4",
      "f016eb63c8d24b47a8c08ff8f62ca991",
      "751c66dc4f7f4a5f83e1253bcd8f2971",
      "d09f34681516450a83bb9dbeb7108572",
      "4caf50065cca41679b6ef63416f3fa4a",
      "e7874015aa654df69abe2be5bf9fae24",
      "9c51770136724cecb33455a59c5bbf7c",
      "a5cc49bd337a48ab977ceaafb03c7703",
      "b1a3b16ec39847d58ccc85f2dd8185bc",
      "1f60e69b77cd4213b3c0553599e216dd",
      "73e0dda2cf51456a9be9d6603f95239a",
      "58a4349f7fce446e8cb9766b6f785abb",
      "0a61eb6ee8084d36acab72d366a8a1a4",
      "78ee7f77a0a548acac49be56a4bb0351",
      "adb4f3ac125d47acbef36f4c33e9c24b",
      "8cdca22b785d4b3fb7be719a626bf7f7",
      "fa12ec3a3fed44e6a129eca49cc7e3f8",
      "83d62218ab164baf8c01b6409c412f4b",
      "313ecdf8d1e9495883d207c8bf17018e",
      "2ce07cb7d629428fa33cce1caeb3964b",
      "b142cfee9c084681bf622870c1244e37",
      "02ac2a01c27640498d75bd6d6c6dc116",
      "b2e38d5264f74758b0682f964beccf1d",
      "5d430742568a43d887f74de2b13f46aa",
      "e7cd2d955cf6462086e5339dd9c45ffa",
      "b8589c07d4d74424a14b9c3b3b66fdc7",
      "fc8b1a2d212c43ea938118115e5e50ca",
      "317faa4a8f6a461295f84c8f7a5037d8",
      "610dfaa23795446b9f3decfa48b8788e",
      "1a18256d49084eb7ab6f778557776d59",
      "436bf3fe31d04c17bf990c962ce14384",
      "9a42f5521b1e44db8e4109076277d31e",
      "478e36aa95c8404ea0033febbc820aa5",
      "7b19d3ace9e647adabb9bb66be32c79d",
      "4c2e36f6ba0d47b2bf30d2106d72a65d",
      "ea5baf7cbf3a46c8b90e709b250b7125",
      "4d011e9eff624fd4ad8e6009bff2eb02",
      "b1ce093efd8b4876a5d59cd43abba259",
      "d54c621e69b743c780270e8d6994afdf",
      "4dc1b7f125514d299a5efa44a0d7bdfb",
      "e2ef4a37aefd448faa9d94667092bfae",
      "b0e9fc78a9194232b1bbe4a5a2fbeff7",
      "25341c0dac3f4e819a7bcc064e4eb67b",
      "31ebece5045d4f2ba922b69e8038d293",
      "b5f2efdecf624b9f997d22abf313ae52",
      "9a8f79ae639d473fb26a8ee0ce0ee7bd",
      "be5de4a36ad34a2ea3d82cb986780f27",
      "51d10b208b854e91b31a61111fbd4645",
      "ac5924949a024633ad6861cf0b98bd13",
      "8879a93f81f6418cb804c566fb60beeb",
      "a2952bdfb41f4ab4bb4a33c994db2640",
      "1e2b37ca803847c19197e32cec158481",
      "2266167a646c4a3db591772b58622b92",
      "ff301e8380a74283abd368a7736276ba",
      "3b08782ec645458aa87963142e5f0e12",
      "5e43ff3a43f64adc9ab6bf5ad56adf2c",
      "127e314344294f60b060f53d266ab49d",
      "a44232da460a4dd1a632d73e4291b252",
      "65232ece164e499599d2718b3a7a7c1d",
      "ea52d851257345be8f4a6e70bdc6a012",
      "903d032e964244a886a52561ae68b28e"
     ]
    },
    "executionInfo": {
     "elapsed": 75239,
     "status": "ok",
     "timestamp": 1647944466932,
     "user": {
      "displayName": "Thomas Boer",
      "photoUrl": "https://lh3.googleusercontent.com/a-/AOh14Gij1TDldlbJuh0WdhJnqMtSXetRSTTZ389OVSccFg=s64",
      "userId": "06748694763990141535"
     },
     "user_tz": -60
    },
    "id": "fLGesdpzdLIj",
    "outputId": "84ed4a7c-1f15-4ab8-b319-626fc13c4d41"
   },
   "outputs": [
    {
     "name": "stdout",
     "output_type": "stream",
     "text": [
      "Training Model\n"
     ]
    },
    {
     "data": {
      "application/vnd.jupyter.widget-view+json": {
       "model_id": "",
       "version_major": 2,
       "version_minor": 0
      },
      "text/plain": [
       "Eval (train):   0%|          | 0/333 [00:00<?, ?it/s]"
      ]
     },
     "metadata": {},
     "output_type": "display_data"
    },
    {
     "name": "stdout",
     "output_type": "stream",
     "text": [
      "\"metric\": \"mean\" (\"standard deviation\")\n",
      "dcg: 87.6884 (20.76704)\n",
      "dcg@03: 5.9154 (4.68019)\n",
      "dcg@05: 8.1565 (5.20717)\n",
      "dcg@10: 12.2291 (6.24992)\n",
      "dcg@20: 18.7541 (7.66434)\n",
      "ndcg: 0.7081 (0.05587)\n",
      "ndcg@03: 0.2199 (0.17480)\n",
      "ndcg@05: 0.2290 (0.14949)\n",
      "ndcg@10: 0.2492 (0.12651)\n",
      "ndcg@20: 0.2870 (0.10587)\n",
      "precision@01: 0.1682 (0.37402)\n",
      "precision@03: 0.1572 (0.22145)\n",
      "precision@05: 0.1604 (0.17430)\n",
      "precision@10: 0.1471 (0.12956)\n",
      "precision@20: 0.1462 (0.10161)\n",
      "recall@01: 0.0082 (0.02373)\n",
      "recall@03: 0.0216 (0.03523)\n",
      "recall@05: 0.0373 (0.04551)\n",
      "recall@10: 0.0679 (0.06329)\n",
      "recall@20: 0.1301 (0.08611)\n",
      "relevant rank: 105.7271 (70.91133)\n",
      "relevant rank per query: 2511.7327 (1360.05899)\n"
     ]
    },
    {
     "data": {
      "application/vnd.jupyter.widget-view+json": {
       "model_id": "",
       "version_major": 2,
       "version_minor": 0
      },
      "text/plain": [
       "Eval (validation):   0%|          | 0/50 [00:00<?, ?it/s]"
      ]
     },
     "metadata": {},
     "output_type": "display_data"
    },
    {
     "name": "stdout",
     "output_type": "stream",
     "text": [
      "\"metric\": \"mean\" (\"standard deviation\")\n",
      "dcg: 85.9730 (20.84005)\n",
      "dcg@03: 4.3483 (3.72987)\n",
      "dcg@05: 6.1761 (4.59519)\n",
      "dcg@10: 10.1527 (5.07312)\n",
      "dcg@20: 16.6332 (6.36849)\n",
      "ndcg: 0.6916 (0.05844)\n",
      "ndcg@03: 0.1577 (0.13644)\n",
      "ndcg@05: 0.1684 (0.12798)\n",
      "ndcg@10: 0.2017 (0.10473)\n",
      "ndcg@20: 0.2513 (0.09526)\n",
      "precision@01: 0.0800 (0.27129)\n",
      "precision@03: 0.0667 (0.16330)\n",
      "precision@05: 0.0840 (0.14472)\n",
      "precision@10: 0.1020 (0.10098)\n",
      "precision@20: 0.1170 (0.08866)\n",
      "recall@01: 0.0032 (0.01085)\n",
      "recall@03: 0.0088 (0.02125)\n",
      "recall@05: 0.0171 (0.03215)\n",
      "recall@10: 0.0423 (0.04047)\n",
      "recall@20: 0.1019 (0.06999)\n",
      "relevant rank: 105.3480 (70.62151)\n",
      "relevant rank per query: 2488.3200 (1314.38955)\n"
     ]
    },
    {
     "data": {
      "application/vnd.jupyter.widget-view+json": {
       "model_id": "",
       "version_major": 2,
       "version_minor": 0
      },
      "text/plain": [
       "Eval (train):   0%|          | 0/333 [00:00<?, ?it/s]"
      ]
     },
     "metadata": {},
     "output_type": "display_data"
    },
    {
     "name": "stdout",
     "output_type": "stream",
     "text": [
      "\"metric\": \"mean\" (\"standard deviation\")\n",
      "dcg: 87.4219 (20.48560)\n",
      "dcg@03: 5.7192 (4.41381)\n",
      "dcg@05: 7.8499 (5.11362)\n",
      "dcg@10: 12.0139 (6.16269)\n",
      "dcg@20: 18.5657 (7.34345)\n",
      "ndcg: 0.7064 (0.05676)\n",
      "ndcg@03: 0.2139 (0.17150)\n",
      "ndcg@05: 0.2224 (0.15231)\n",
      "ndcg@10: 0.2456 (0.12906)\n",
      "ndcg@20: 0.2855 (0.10703)\n",
      "precision@01: 0.1351 (0.34187)\n",
      "precision@03: 0.1542 (0.23162)\n",
      "precision@05: 0.1514 (0.18251)\n",
      "precision@10: 0.1465 (0.13544)\n",
      "precision@20: 0.1447 (0.10337)\n",
      "recall@01: 0.0068 (0.02263)\n",
      "recall@03: 0.0216 (0.03824)\n",
      "recall@05: 0.0344 (0.04555)\n",
      "recall@10: 0.0662 (0.06597)\n",
      "recall@20: 0.1276 (0.08798)\n",
      "relevant rank: 106.7682 (70.98944)\n",
      "relevant rank per query: 2536.4655 (1395.71578)\n"
     ]
    },
    {
     "data": {
      "application/vnd.jupyter.widget-view+json": {
       "model_id": "",
       "version_major": 2,
       "version_minor": 0
      },
      "text/plain": [
       "Eval (validation):   0%|          | 0/50 [00:00<?, ?it/s]"
      ]
     },
     "metadata": {},
     "output_type": "display_data"
    },
    {
     "name": "stdout",
     "output_type": "stream",
     "text": [
      "\"metric\": \"mean\" (\"standard deviation\")\n",
      "dcg: 86.2562 (20.81515)\n",
      "dcg@03: 5.0361 (4.34146)\n",
      "dcg@05: 7.0730 (4.97449)\n",
      "dcg@10: 10.9543 (5.98617)\n",
      "dcg@20: 17.0124 (7.35729)\n",
      "ndcg: 0.6947 (0.05970)\n",
      "ndcg@03: 0.1838 (0.17245)\n",
      "ndcg@05: 0.1979 (0.15867)\n",
      "ndcg@10: 0.2218 (0.13268)\n",
      "ndcg@20: 0.2582 (0.11349)\n",
      "precision@01: 0.1600 (0.36661)\n",
      "precision@03: 0.1000 (0.17951)\n",
      "precision@05: 0.1080 (0.15600)\n",
      "precision@10: 0.1160 (0.11723)\n",
      "precision@20: 0.1210 (0.10397)\n",
      "recall@01: 0.0068 (0.01761)\n",
      "recall@03: 0.0113 (0.02098)\n",
      "recall@05: 0.0225 (0.03230)\n",
      "recall@10: 0.0510 (0.05085)\n",
      "recall@20: 0.1015 (0.07432)\n",
      "relevant rank: 106.2396 (71.00438)\n",
      "relevant rank per query: 2509.3800 (1285.74067)\n"
     ]
    },
    {
     "data": {
      "application/vnd.jupyter.widget-view+json": {
       "model_id": "",
       "version_major": 2,
       "version_minor": 0
      },
      "text/plain": [
       "Eval (train):   0%|          | 0/333 [00:00<?, ?it/s]"
      ]
     },
     "metadata": {},
     "output_type": "display_data"
    },
    {
     "name": "stdout",
     "output_type": "stream",
     "text": [
      "\"metric\": \"mean\" (\"standard deviation\")\n",
      "dcg: 80.5085 (19.79949)\n",
      "dcg@03: 2.8082 (2.86798)\n",
      "dcg@05: 4.0725 (3.57232)\n",
      "dcg@10: 6.5368 (4.35988)\n",
      "dcg@20: 10.5406 (5.48173)\n",
      "ndcg: 0.6490 (0.05431)\n",
      "ndcg@03: 0.1020 (0.10021)\n",
      "ndcg@05: 0.1128 (0.09647)\n",
      "ndcg@10: 0.1324 (0.08698)\n",
      "ndcg@20: 0.1618 (0.08067)\n",
      "precision@01: 0.0541 (0.22612)\n",
      "precision@03: 0.0561 (0.14218)\n",
      "precision@05: 0.0565 (0.11571)\n",
      "precision@10: 0.0619 (0.08605)\n",
      "precision@20: 0.0631 (0.07019)\n",
      "recall@01: 0.0022 (0.01003)\n",
      "recall@03: 0.0068 (0.01925)\n",
      "recall@05: 0.0131 (0.03243)\n",
      "recall@10: 0.0271 (0.04346)\n",
      "recall@20: 0.0539 (0.06123)\n",
      "relevant rank: 135.8634 (71.21381)\n",
      "relevant rank per query: 3227.6727 (1588.93839)\n"
     ]
    },
    {
     "data": {
      "application/vnd.jupyter.widget-view+json": {
       "model_id": "",
       "version_major": 2,
       "version_minor": 0
      },
      "text/plain": [
       "Eval (validation):   0%|          | 0/50 [00:00<?, ?it/s]"
      ]
     },
     "metadata": {},
     "output_type": "display_data"
    },
    {
     "name": "stdout",
     "output_type": "stream",
     "text": [
      "\"metric\": \"mean\" (\"standard deviation\")\n",
      "dcg: 79.7365 (19.95414)\n",
      "dcg@03: 3.0288 (3.17210)\n",
      "dcg@05: 3.9859 (3.44657)\n",
      "dcg@10: 6.0371 (3.80348)\n",
      "dcg@20: 9.9539 (4.98129)\n",
      "ndcg: 0.6401 (0.05442)\n",
      "ndcg@03: 0.1107 (0.12474)\n",
      "ndcg@05: 0.1100 (0.10013)\n",
      "ndcg@10: 0.1186 (0.07163)\n",
      "ndcg@20: 0.1473 (0.06610)\n",
      "precision@01: 0.0600 (0.23749)\n",
      "precision@03: 0.0533 (0.16813)\n",
      "precision@05: 0.0440 (0.10800)\n",
      "precision@10: 0.0420 (0.07236)\n",
      "precision@20: 0.0450 (0.04924)\n",
      "recall@01: 0.0022 (0.00874)\n",
      "recall@03: 0.0059 (0.01834)\n",
      "recall@05: 0.0078 (0.01925)\n",
      "recall@10: 0.0167 (0.03084)\n",
      "recall@20: 0.0346 (0.03622)\n",
      "relevant rank: 133.9941 (70.36165)\n",
      "relevant rank per query: 3164.9400 (1512.17649)\n"
     ]
    },
    {
     "data": {
      "application/vnd.jupyter.widget-view+json": {
       "model_id": "",
       "version_major": 2,
       "version_minor": 0
      },
      "text/plain": [
       "Eval (train):   0%|          | 0/333 [00:00<?, ?it/s]"
      ]
     },
     "metadata": {},
     "output_type": "display_data"
    },
    {
     "name": "stdout",
     "output_type": "stream",
     "text": [
      "\"metric\": \"mean\" (\"standard deviation\")\n",
      "dcg: 84.7366 (20.71337)\n",
      "dcg@03: 4.5446 (4.26907)\n",
      "dcg@05: 6.3436 (4.97889)\n",
      "dcg@10: 10.0384 (6.04700)\n",
      "dcg@20: 15.6396 (7.51946)\n",
      "ndcg: 0.6833 (0.05794)\n",
      "ndcg@03: 0.1654 (0.15438)\n",
      "ndcg@05: 0.1763 (0.13803)\n",
      "ndcg@10: 0.2028 (0.11867)\n",
      "ndcg@20: 0.2385 (0.10467)\n",
      "precision@01: 0.1081 (0.31052)\n",
      "precision@03: 0.1211 (0.21693)\n",
      "precision@05: 0.1201 (0.16617)\n",
      "precision@10: 0.1216 (0.12283)\n",
      "precision@20: 0.1159 (0.09642)\n",
      "recall@01: 0.0056 (0.02302)\n",
      "recall@03: 0.0175 (0.03951)\n",
      "recall@05: 0.0273 (0.04448)\n",
      "recall@10: 0.0547 (0.05922)\n",
      "recall@20: 0.1027 (0.08009)\n",
      "relevant rank: 117.1470 (72.92602)\n",
      "relevant rank per query: 2783.0330 (1442.75487)\n"
     ]
    },
    {
     "data": {
      "application/vnd.jupyter.widget-view+json": {
       "model_id": "",
       "version_major": 2,
       "version_minor": 0
      },
      "text/plain": [
       "Eval (validation):   0%|          | 0/50 [00:00<?, ?it/s]"
      ]
     },
     "metadata": {},
     "output_type": "display_data"
    },
    {
     "name": "stdout",
     "output_type": "stream",
     "text": [
      "\"metric\": \"mean\" (\"standard deviation\")\n",
      "dcg: 84.1099 (20.48391)\n",
      "dcg@03: 4.2316 (3.78893)\n",
      "dcg@05: 6.0337 (4.92721)\n",
      "dcg@10: 9.6146 (6.03892)\n",
      "dcg@20: 14.9999 (6.84857)\n",
      "ndcg: 0.6764 (0.05003)\n",
      "ndcg@03: 0.1495 (0.13199)\n",
      "ndcg@05: 0.1621 (0.12874)\n",
      "ndcg@10: 0.1876 (0.11153)\n",
      "ndcg@20: 0.2231 (0.08913)\n",
      "precision@01: 0.1000 (0.30000)\n",
      "precision@03: 0.0933 (0.17689)\n",
      "precision@05: 0.1040 (0.17545)\n",
      "precision@10: 0.1040 (0.11655)\n",
      "precision@20: 0.1090 (0.08043)\n",
      "recall@01: 0.0034 (0.01071)\n",
      "recall@03: 0.0108 (0.02139)\n",
      "recall@05: 0.0222 (0.04082)\n",
      "recall@10: 0.0481 (0.06455)\n",
      "recall@20: 0.1027 (0.08304)\n",
      "relevant rank: 114.6706 (72.60833)\n",
      "relevant rank per query: 2708.5200 (1388.04090)\n"
     ]
    },
    {
     "data": {
      "application/vnd.jupyter.widget-view+json": {
       "model_id": "",
       "version_major": 2,
       "version_minor": 0
      },
      "text/plain": [
       "Eval (train):   0%|          | 0/333 [00:00<?, ?it/s]"
      ]
     },
     "metadata": {},
     "output_type": "display_data"
    },
    {
     "name": "stdout",
     "output_type": "stream",
     "text": [
      "\"metric\": \"mean\" (\"standard deviation\")\n",
      "dcg: 87.1830 (20.84038)\n",
      "dcg@03: 5.8873 (4.90269)\n",
      "dcg@05: 8.0819 (5.51300)\n",
      "dcg@10: 12.2082 (6.64365)\n",
      "dcg@20: 18.4505 (7.89588)\n",
      "ndcg: 0.7038 (0.05881)\n",
      "ndcg@03: 0.2159 (0.17694)\n",
      "ndcg@05: 0.2258 (0.15427)\n",
      "ndcg@10: 0.2479 (0.13298)\n",
      "ndcg@20: 0.2821 (0.11061)\n",
      "precision@01: 0.1562 (0.36300)\n",
      "precision@03: 0.1642 (0.24455)\n",
      "precision@05: 0.1610 (0.18738)\n",
      "precision@10: 0.1498 (0.14028)\n",
      "precision@20: 0.1428 (0.10735)\n",
      "recall@01: 0.0080 (0.02502)\n",
      "recall@03: 0.0237 (0.04399)\n",
      "recall@05: 0.0378 (0.05149)\n",
      "recall@10: 0.0687 (0.06609)\n",
      "recall@20: 0.1249 (0.08715)\n",
      "relevant rank: 108.6184 (72.31338)\n",
      "relevant rank per query: 2580.4204 (1367.56703)\n"
     ]
    },
    {
     "data": {
      "application/vnd.jupyter.widget-view+json": {
       "model_id": "",
       "version_major": 2,
       "version_minor": 0
      },
      "text/plain": [
       "Eval (validation):   0%|          | 0/50 [00:00<?, ?it/s]"
      ]
     },
     "metadata": {},
     "output_type": "display_data"
    },
    {
     "name": "stdout",
     "output_type": "stream",
     "text": [
      "\"metric\": \"mean\" (\"standard deviation\")\n",
      "dcg: 86.8319 (22.00724)\n",
      "dcg@03: 5.2795 (5.62539)\n",
      "dcg@05: 7.3309 (7.10031)\n",
      "dcg@10: 11.4262 (7.82950)\n",
      "dcg@20: 19.0270 (9.20521)\n",
      "ndcg: 0.6977 (0.05615)\n",
      "ndcg@03: 0.1835 (0.18324)\n",
      "ndcg@05: 0.1930 (0.17250)\n",
      "ndcg@10: 0.2216 (0.13465)\n",
      "ndcg@20: 0.2826 (0.11122)\n",
      "precision@01: 0.1600 (0.36661)\n",
      "precision@03: 0.1267 (0.23935)\n",
      "precision@05: 0.1280 (0.21821)\n",
      "precision@10: 0.1300 (0.14731)\n",
      "precision@20: 0.1570 (0.11576)\n",
      "recall@01: 0.0058 (0.01386)\n",
      "recall@03: 0.0140 (0.02782)\n",
      "recall@05: 0.0237 (0.03937)\n",
      "recall@10: 0.0565 (0.05863)\n",
      "recall@20: 0.1438 (0.09432)\n",
      "relevant rank: 105.4149 (73.10083)\n",
      "relevant rank per query: 2489.9000 (1256.29543)\n"
     ]
    },
    {
     "data": {
      "application/vnd.jupyter.widget-view+json": {
       "model_id": "",
       "version_major": 2,
       "version_minor": 0
      },
      "text/plain": [
       "Eval (train):   0%|          | 0/333 [00:00<?, ?it/s]"
      ]
     },
     "metadata": {},
     "output_type": "display_data"
    },
    {
     "name": "stdout",
     "output_type": "stream",
     "text": [
      "\"metric\": \"mean\" (\"standard deviation\")\n",
      "dcg: 84.0976 (20.55484)\n",
      "dcg@03: 4.3654 (4.38088)\n",
      "dcg@05: 6.0779 (4.88126)\n",
      "dcg@10: 9.5755 (5.96587)\n",
      "dcg@20: 14.5565 (7.24336)\n",
      "ndcg: 0.6782 (0.05940)\n",
      "ndcg@03: 0.1588 (0.15825)\n",
      "ndcg@05: 0.1686 (0.13578)\n",
      "ndcg@10: 0.1939 (0.12093)\n",
      "ndcg@20: 0.2230 (0.10692)\n",
      "precision@01: 0.1051 (0.30669)\n",
      "precision@03: 0.1091 (0.20611)\n",
      "precision@05: 0.1039 (0.15543)\n",
      "precision@10: 0.1123 (0.12423)\n",
      "precision@20: 0.1035 (0.09233)\n",
      "recall@01: 0.0048 (0.01847)\n",
      "recall@03: 0.0155 (0.03381)\n",
      "recall@05: 0.0241 (0.04331)\n",
      "recall@10: 0.0513 (0.06386)\n",
      "recall@20: 0.0904 (0.08095)\n",
      "relevant rank: 119.2629 (72.10088)\n",
      "relevant rank per query: 2833.3003 (1471.52252)\n"
     ]
    },
    {
     "data": {
      "application/vnd.jupyter.widget-view+json": {
       "model_id": "",
       "version_major": 2,
       "version_minor": 0
      },
      "text/plain": [
       "Eval (validation):   0%|          | 0/50 [00:00<?, ?it/s]"
      ]
     },
     "metadata": {},
     "output_type": "display_data"
    },
    {
     "name": "stdout",
     "output_type": "stream",
     "text": [
      "\"metric\": \"mean\" (\"standard deviation\")\n",
      "dcg: 83.4049 (19.81294)\n",
      "dcg@03: 4.0973 (3.51192)\n",
      "dcg@05: 5.8239 (4.26784)\n",
      "dcg@10: 9.2137 (5.15327)\n",
      "dcg@20: 14.3957 (6.30420)\n",
      "ndcg: 0.6713 (0.05051)\n",
      "ndcg@03: 0.1426 (0.11810)\n",
      "ndcg@05: 0.1551 (0.11154)\n",
      "ndcg@10: 0.1810 (0.10018)\n",
      "ndcg@20: 0.2155 (0.09031)\n",
      "precision@01: 0.0800 (0.27129)\n",
      "precision@03: 0.1067 (0.21541)\n",
      "precision@05: 0.1000 (0.16613)\n",
      "precision@10: 0.1020 (0.11915)\n",
      "precision@20: 0.1040 (0.08052)\n",
      "recall@01: 0.0034 (0.01159)\n",
      "recall@03: 0.0139 (0.02983)\n",
      "recall@05: 0.0248 (0.04648)\n",
      "recall@10: 0.0485 (0.06333)\n",
      "recall@20: 0.0988 (0.08037)\n",
      "relevant rank: 117.4691 (71.85685)\n",
      "relevant rank per query: 2774.6200 (1427.91698)\n"
     ]
    },
    {
     "data": {
      "application/vnd.jupyter.widget-view+json": {
       "model_id": "",
       "version_major": 2,
       "version_minor": 0
      },
      "text/plain": [
       "Eval (train):   0%|          | 0/333 [00:00<?, ?it/s]"
      ]
     },
     "metadata": {},
     "output_type": "display_data"
    },
    {
     "name": "stdout",
     "output_type": "stream",
     "text": [
      "\"metric\": \"mean\" (\"standard deviation\")\n",
      "dcg: 83.5114 (20.12472)\n",
      "dcg@03: 4.2308 (3.86481)\n",
      "dcg@05: 5.8591 (4.35687)\n",
      "dcg@10: 9.0362 (5.49093)\n",
      "dcg@20: 13.9011 (6.77866)\n",
      "ndcg: 0.6740 (0.05746)\n",
      "ndcg@03: 0.1563 (0.14320)\n",
      "ndcg@05: 0.1658 (0.12782)\n",
      "ndcg@10: 0.1841 (0.11345)\n",
      "ndcg@20: 0.2137 (0.10137)\n",
      "precision@01: 0.1021 (0.30278)\n",
      "precision@03: 0.0961 (0.19531)\n",
      "precision@05: 0.1003 (0.15077)\n",
      "precision@10: 0.0970 (0.11724)\n",
      "precision@20: 0.0932 (0.09008)\n",
      "recall@01: 0.0055 (0.02400)\n",
      "recall@03: 0.0133 (0.03151)\n",
      "recall@05: 0.0236 (0.04192)\n",
      "recall@10: 0.0433 (0.05685)\n",
      "recall@20: 0.0807 (0.07820)\n",
      "relevant rank: 123.4663 (72.19505)\n",
      "relevant rank per query: 2933.1592 (1511.48672)\n"
     ]
    },
    {
     "data": {
      "application/vnd.jupyter.widget-view+json": {
       "model_id": "",
       "version_major": 2,
       "version_minor": 0
      },
      "text/plain": [
       "Eval (validation):   0%|          | 0/50 [00:00<?, ?it/s]"
      ]
     },
     "metadata": {},
     "output_type": "display_data"
    },
    {
     "name": "stdout",
     "output_type": "stream",
     "text": [
      "\"metric\": \"mean\" (\"standard deviation\")\n",
      "dcg: 82.9595 (20.12108)\n",
      "dcg@03: 4.5007 (3.56780)\n",
      "dcg@05: 5.6888 (3.68297)\n",
      "dcg@10: 8.7526 (4.78655)\n",
      "dcg@20: 14.0299 (6.32093)\n",
      "ndcg: 0.6671 (0.05161)\n",
      "ndcg@03: 0.1583 (0.13801)\n",
      "ndcg@05: 0.1541 (0.11135)\n",
      "ndcg@10: 0.1726 (0.09429)\n",
      "ndcg@20: 0.2104 (0.09147)\n",
      "precision@01: 0.1200 (0.32496)\n",
      "precision@03: 0.1400 (0.24120)\n",
      "precision@05: 0.0920 (0.15078)\n",
      "precision@10: 0.0800 (0.10392)\n",
      "precision@20: 0.0980 (0.08244)\n",
      "recall@01: 0.0048 (0.01314)\n",
      "recall@03: 0.0164 (0.02976)\n",
      "recall@05: 0.0185 (0.03439)\n",
      "recall@10: 0.0340 (0.04883)\n",
      "recall@20: 0.0837 (0.07253)\n",
      "relevant rank: 121.2320 (71.73991)\n",
      "relevant rank per query: 2863.5000 (1389.41448)\n"
     ]
    },
    {
     "data": {
      "application/vnd.jupyter.widget-view+json": {
       "model_id": "",
       "version_major": 2,
       "version_minor": 0
      },
      "text/plain": [
       "Eval (train):   0%|          | 0/333 [00:00<?, ?it/s]"
      ]
     },
     "metadata": {},
     "output_type": "display_data"
    },
    {
     "name": "stdout",
     "output_type": "stream",
     "text": [
      "\"metric\": \"mean\" (\"standard deviation\")\n",
      "dcg: 85.5951 (20.70887)\n",
      "dcg@03: 5.2105 (4.71551)\n",
      "dcg@05: 7.0753 (5.19300)\n",
      "dcg@10: 10.8399 (6.50777)\n",
      "dcg@20: 16.4337 (7.80569)\n",
      "ndcg: 0.6906 (0.05937)\n",
      "ndcg@03: 0.1910 (0.16961)\n",
      "ndcg@05: 0.1975 (0.14308)\n",
      "ndcg@10: 0.2192 (0.12768)\n",
      "ndcg@20: 0.2514 (0.11175)\n",
      "precision@01: 0.1351 (0.34187)\n",
      "precision@03: 0.1291 (0.22299)\n",
      "precision@05: 0.1273 (0.17016)\n",
      "precision@10: 0.1249 (0.13382)\n",
      "precision@20: 0.1182 (0.09891)\n",
      "recall@01: 0.0066 (0.02175)\n",
      "recall@03: 0.0187 (0.03992)\n",
      "recall@05: 0.0297 (0.04643)\n",
      "recall@10: 0.0555 (0.06332)\n",
      "recall@20: 0.1040 (0.08771)\n",
      "relevant rank: 115.4322 (72.68402)\n",
      "relevant rank per query: 2742.2943 (1426.50488)\n"
     ]
    },
    {
     "data": {
      "application/vnd.jupyter.widget-view+json": {
       "model_id": "",
       "version_major": 2,
       "version_minor": 0
      },
      "text/plain": [
       "Eval (validation):   0%|          | 0/50 [00:00<?, ?it/s]"
      ]
     },
     "metadata": {},
     "output_type": "display_data"
    },
    {
     "name": "stdout",
     "output_type": "stream",
     "text": [
      "\"metric\": \"mean\" (\"standard deviation\")\n",
      "dcg: 85.1734 (20.86679)\n",
      "dcg@03: 4.8169 (4.39131)\n",
      "dcg@05: 6.5748 (4.89965)\n",
      "dcg@10: 10.4293 (6.20890)\n",
      "dcg@20: 16.4659 (7.61918)\n",
      "ndcg: 0.6851 (0.05559)\n",
      "ndcg@03: 0.1673 (0.14831)\n",
      "ndcg@05: 0.1740 (0.12448)\n",
      "ndcg@10: 0.2046 (0.11592)\n",
      "ndcg@20: 0.2469 (0.10397)\n",
      "precision@01: 0.1400 (0.34699)\n",
      "precision@03: 0.1133 (0.21715)\n",
      "precision@05: 0.1000 (0.14560)\n",
      "precision@10: 0.1140 (0.12002)\n",
      "precision@20: 0.1250 (0.09233)\n",
      "recall@01: 0.0074 (0.02133)\n",
      "recall@03: 0.0149 (0.02947)\n",
      "recall@05: 0.0256 (0.04497)\n",
      "recall@10: 0.0543 (0.06708)\n",
      "recall@20: 0.1176 (0.09197)\n",
      "relevant rank: 111.6113 (71.82545)\n",
      "relevant rank per query: 2636.2600 (1336.42366)\n"
     ]
    },
    {
     "data": {
      "application/vnd.jupyter.widget-view+json": {
       "model_id": "",
       "version_major": 2,
       "version_minor": 0
      },
      "text/plain": [
       "Eval (train):   0%|          | 0/333 [00:00<?, ?it/s]"
      ]
     },
     "metadata": {},
     "output_type": "display_data"
    },
    {
     "name": "stdout",
     "output_type": "stream",
     "text": [
      "\"metric\": \"mean\" (\"standard deviation\")\n",
      "dcg: 86.3687 (20.42950)\n",
      "dcg@03: 5.5780 (4.35120)\n",
      "dcg@05: 7.4512 (4.94640)\n",
      "dcg@10: 11.3984 (5.96238)\n",
      "dcg@20: 17.2352 (7.18765)\n",
      "ndcg: 0.6976 (0.05823)\n",
      "ndcg@03: 0.2063 (0.16047)\n",
      "ndcg@05: 0.2110 (0.14632)\n",
      "ndcg@10: 0.2337 (0.12632)\n",
      "ndcg@20: 0.2658 (0.10848)\n",
      "precision@01: 0.1351 (0.34187)\n",
      "precision@03: 0.1491 (0.21945)\n",
      "precision@05: 0.1375 (0.18060)\n",
      "precision@10: 0.1360 (0.13850)\n",
      "precision@20: 0.1255 (0.10116)\n",
      "recall@01: 0.0064 (0.02006)\n",
      "recall@03: 0.0209 (0.03559)\n",
      "recall@05: 0.0318 (0.04691)\n",
      "recall@10: 0.0600 (0.06212)\n",
      "recall@20: 0.1097 (0.08625)\n",
      "relevant rank: 111.6792 (72.10509)\n",
      "relevant rank per query: 2653.1351 (1414.32050)\n"
     ]
    },
    {
     "data": {
      "application/vnd.jupyter.widget-view+json": {
       "model_id": "",
       "version_major": 2,
       "version_minor": 0
      },
      "text/plain": [
       "Eval (validation):   0%|          | 0/50 [00:00<?, ?it/s]"
      ]
     },
     "metadata": {},
     "output_type": "display_data"
    },
    {
     "name": "stdout",
     "output_type": "stream",
     "text": [
      "\"metric\": \"mean\" (\"standard deviation\")\n",
      "dcg: 85.9481 (20.57088)\n",
      "dcg@03: 4.9928 (3.58117)\n",
      "dcg@05: 7.0943 (4.40530)\n",
      "dcg@10: 11.0466 (5.52568)\n",
      "dcg@20: 17.4520 (7.27757)\n",
      "ndcg: 0.6920 (0.05161)\n",
      "ndcg@03: 0.1805 (0.14298)\n",
      "ndcg@05: 0.1978 (0.13960)\n",
      "ndcg@10: 0.2208 (0.11849)\n",
      "ndcg@20: 0.2616 (0.10089)\n",
      "precision@01: 0.1800 (0.38419)\n",
      "precision@03: 0.1133 (0.18391)\n",
      "precision@05: 0.1200 (0.15492)\n",
      "precision@10: 0.1280 (0.12812)\n",
      "precision@20: 0.1240 (0.09394)\n",
      "recall@01: 0.0065 (0.01429)\n",
      "recall@03: 0.0120 (0.01944)\n",
      "recall@05: 0.0252 (0.03346)\n",
      "recall@10: 0.0578 (0.06277)\n",
      "recall@20: 0.1105 (0.08224)\n",
      "relevant rank: 109.9678 (72.74771)\n",
      "relevant rank per query: 2597.4400 (1366.23962)\n"
     ]
    },
    {
     "data": {
      "application/vnd.jupyter.widget-view+json": {
       "model_id": "",
       "version_major": 2,
       "version_minor": 0
      },
      "text/plain": [
       "Eval (train):   0%|          | 0/333 [00:00<?, ?it/s]"
      ]
     },
     "metadata": {},
     "output_type": "display_data"
    },
    {
     "name": "stdout",
     "output_type": "stream",
     "text": [
      "\"metric\": \"mean\" (\"standard deviation\")\n",
      "dcg: 87.6131 (20.82767)\n",
      "dcg@03: 6.0406 (4.82210)\n",
      "dcg@05: 8.4117 (5.48882)\n",
      "dcg@10: 12.3806 (6.52944)\n",
      "dcg@20: 18.7335 (7.64361)\n",
      "ndcg: 0.7075 (0.05883)\n",
      "ndcg@03: 0.2237 (0.17893)\n",
      "ndcg@05: 0.2369 (0.15675)\n",
      "ndcg@10: 0.2531 (0.13456)\n",
      "ndcg@20: 0.2876 (0.11134)\n",
      "precision@01: 0.1682 (0.37402)\n",
      "precision@03: 0.1672 (0.23482)\n",
      "precision@05: 0.1694 (0.19084)\n",
      "precision@10: 0.1532 (0.13938)\n",
      "precision@20: 0.1444 (0.10299)\n",
      "recall@01: 0.0085 (0.02551)\n",
      "recall@03: 0.0223 (0.03543)\n",
      "recall@05: 0.0391 (0.04981)\n",
      "recall@10: 0.0684 (0.06536)\n",
      "recall@20: 0.1271 (0.08553)\n",
      "relevant rank: 106.2009 (71.86960)\n",
      "relevant rank per query: 2522.9880 (1361.91079)\n"
     ]
    },
    {
     "data": {
      "application/vnd.jupyter.widget-view+json": {
       "model_id": "",
       "version_major": 2,
       "version_minor": 0
      },
      "text/plain": [
       "Eval (validation):   0%|          | 0/50 [00:00<?, ?it/s]"
      ]
     },
     "metadata": {},
     "output_type": "display_data"
    },
    {
     "name": "stdout",
     "output_type": "stream",
     "text": [
      "\"metric\": \"mean\" (\"standard deviation\")\n",
      "dcg: 87.4001 (20.08681)\n",
      "dcg@03: 6.3166 (4.69734)\n",
      "dcg@05: 8.5473 (5.39032)\n",
      "dcg@10: 12.3985 (5.61695)\n",
      "dcg@20: 19.5195 (7.39034)\n",
      "ndcg: 0.7051 (0.05218)\n",
      "ndcg@03: 0.2258 (0.17084)\n",
      "ndcg@05: 0.2327 (0.15338)\n",
      "ndcg@10: 0.2478 (0.12285)\n",
      "ndcg@20: 0.2936 (0.10917)\n",
      "precision@01: 0.2000 (0.40000)\n",
      "precision@03: 0.1533 (0.20232)\n",
      "precision@05: 0.1560 (0.15641)\n",
      "precision@10: 0.1460 (0.12035)\n",
      "precision@20: 0.1510 (0.10653)\n",
      "recall@01: 0.0100 (0.02289)\n",
      "recall@03: 0.0237 (0.03411)\n",
      "recall@05: 0.0395 (0.04897)\n",
      "recall@10: 0.0668 (0.05689)\n",
      "recall@20: 0.1339 (0.08805)\n",
      "relevant rank: 105.8552 (72.52301)\n",
      "relevant rank per query: 2500.3000 (1312.07265)\n"
     ]
    },
    {
     "data": {
      "application/vnd.jupyter.widget-view+json": {
       "model_id": "",
       "version_major": 2,
       "version_minor": 0
      },
      "text/plain": [
       "Eval (train):   0%|          | 0/333 [00:00<?, ?it/s]"
      ]
     },
     "metadata": {},
     "output_type": "display_data"
    },
    {
     "name": "stdout",
     "output_type": "stream",
     "text": [
      "\"metric\": \"mean\" (\"standard deviation\")\n",
      "dcg: 87.9466 (21.23779)\n",
      "dcg@03: 6.3259 (5.40883)\n",
      "dcg@05: 8.5546 (5.98348)\n",
      "dcg@10: 12.9180 (7.01506)\n",
      "dcg@20: 19.3295 (8.39612)\n",
      "ndcg: 0.7096 (0.05927)\n",
      "ndcg@03: 0.2304 (0.19069)\n",
      "ndcg@05: 0.2371 (0.16150)\n",
      "ndcg@10: 0.2604 (0.13610)\n",
      "ndcg@20: 0.2946 (0.11648)\n",
      "precision@01: 0.1922 (0.39402)\n",
      "precision@03: 0.1862 (0.25449)\n",
      "precision@05: 0.1748 (0.20051)\n",
      "precision@10: 0.1652 (0.14010)\n",
      "precision@20: 0.1538 (0.10867)\n",
      "recall@01: 0.0091 (0.02568)\n",
      "recall@03: 0.0268 (0.04386)\n",
      "recall@05: 0.0401 (0.05118)\n",
      "recall@10: 0.0751 (0.06664)\n",
      "recall@20: 0.1349 (0.09059)\n",
      "relevant rank: 105.3908 (72.38662)\n",
      "relevant rank per query: 2503.7447 (1337.17682)\n"
     ]
    },
    {
     "data": {
      "application/vnd.jupyter.widget-view+json": {
       "model_id": "",
       "version_major": 2,
       "version_minor": 0
      },
      "text/plain": [
       "Eval (validation):   0%|          | 0/50 [00:00<?, ?it/s]"
      ]
     },
     "metadata": {},
     "output_type": "display_data"
    },
    {
     "name": "stdout",
     "output_type": "stream",
     "text": [
      "\"metric\": \"mean\" (\"standard deviation\")\n",
      "dcg: 87.6349 (21.25735)\n",
      "dcg@03: 6.9059 (6.14486)\n",
      "dcg@05: 9.1315 (6.83678)\n",
      "dcg@10: 12.9486 (7.53471)\n",
      "dcg@20: 19.2844 (9.21252)\n",
      "ndcg: 0.7056 (0.05521)\n",
      "ndcg@03: 0.2372 (0.20274)\n",
      "ndcg@05: 0.2411 (0.17379)\n",
      "ndcg@10: 0.2531 (0.14205)\n",
      "ndcg@20: 0.2867 (0.12056)\n",
      "precision@01: 0.2000 (0.40000)\n",
      "precision@03: 0.1933 (0.25897)\n",
      "precision@05: 0.1840 (0.21850)\n",
      "precision@10: 0.1460 (0.13448)\n",
      "precision@20: 0.1440 (0.11603)\n",
      "recall@01: 0.0112 (0.02643)\n",
      "recall@03: 0.0304 (0.04960)\n",
      "recall@05: 0.0419 (0.05410)\n",
      "recall@10: 0.0681 (0.07116)\n",
      "recall@20: 0.1231 (0.08134)\n",
      "relevant rank: 105.3641 (72.48283)\n",
      "relevant rank per query: 2488.7000 (1242.87969)\n"
     ]
    },
    {
     "data": {
      "application/vnd.jupyter.widget-view+json": {
       "model_id": "",
       "version_major": 2,
       "version_minor": 0
      },
      "text/plain": [
       "Eval (test):   0%|          | 0/117 [00:00<?, ?it/s]"
      ]
     },
     "metadata": {},
     "output_type": "display_data"
    },
    {
     "name": "stdout",
     "output_type": "stream",
     "text": [
      "\"metric\": \"mean\" (\"standard deviation\")\n",
      "dcg: 91.5237 (19.95419)\n",
      "dcg@03: 5.9796 (5.13690)\n",
      "dcg@05: 8.0646 (5.62469)\n",
      "dcg@10: 12.2020 (6.20981)\n",
      "dcg@20: 18.8128 (7.31521)\n",
      "ndcg: 0.7076 (0.05221)\n",
      "ndcg@03: 0.2131 (0.18543)\n",
      "ndcg@05: 0.2174 (0.15247)\n",
      "ndcg@10: 0.2384 (0.11516)\n",
      "ndcg@20: 0.2790 (0.09887)\n",
      "precision@01: 0.1709 (0.37646)\n",
      "precision@03: 0.1510 (0.22852)\n",
      "precision@05: 0.1368 (0.16672)\n",
      "precision@10: 0.1342 (0.11259)\n",
      "precision@20: 0.1423 (0.09190)\n",
      "recall@01: 0.0077 (0.01869)\n",
      "recall@03: 0.0205 (0.03398)\n",
      "recall@05: 0.0307 (0.04566)\n",
      "recall@10: 0.0562 (0.05457)\n",
      "recall@20: 0.1139 (0.07329)\n",
      "relevant rank: 109.4135 (71.59997)\n",
      "relevant rank per query: 2815.7607 (1384.14820)\n"
     ]
    }
   ],
   "source": [
    "seed(42)\n",
    "params_regr = Namespace(epochs=11, \n",
    "                    lr=1e-3,\n",
    "                    batch_size=256,\n",
    "                    metrics={\"ndcg\", \"precision@05\", \"recall@05\"})\n",
    "\n",
    "pointwise_regression_model = NeuralModule()\n",
    "pw_regr = create_results(pointwise_regression_model, \n",
    "                          train_pointwise, \n",
    "                          pointwise_regression_model,\n",
    "                          params_regr)"
   ]
  },
  {
   "cell_type": "code",
   "execution_count": 22,
   "metadata": {
    "executionInfo": {
     "elapsed": 47,
     "status": "ok",
     "timestamp": 1647944466933,
     "user": {
      "displayName": "Thomas Boer",
      "photoUrl": "https://lh3.googleusercontent.com/a-/AOh14Gij1TDldlbJuh0WdhJnqMtSXetRSTTZ389OVSccFg=s64",
      "userId": "06748694763990141535"
     },
     "user_tz": -60
    },
    "id": "z-NyrgZSdLIj"
   },
   "outputs": [],
   "source": [
    "assert \"test_metrics\" in pw_regr.keys()\n",
    "assert \"ndcg\" in pw_regr[\"test_metrics\"].keys()\n",
    "assert \"precision@05\" in pw_regr[\"test_metrics\"].keys()\n",
    "assert \"recall@05\" in pw_regr[\"test_metrics\"].keys()"
   ]
  },
  {
   "cell_type": "markdown",
   "metadata": {
    "id": "d2IxtxbfdLIj"
   },
   "source": [
    "## Section 3: Pairwise LTR (35 points) <a class=\"anchor\" id=\"pairwiseLTR\"></a>\n",
    "\n",
    "[Back to TOC](#top)\n",
    "\n",
    "In this section,  you will learn and implement RankNet, a  pairwise learning to rank algorithm.\n",
    "\n",
    "For a given query, consider two documents $D_i$ and $D_j$ with two different ground truth relevance  labels,  with  feature  vectors $x_i$ and $x_j$ respectively.   The  RankNet  model,  just  like  the pointwise model, uses $f$ to predict scores i.e $s_i=f(x_i)$ and $s_j=f(x_j)$, but uses a different loss during  training. $D_i \\triangleright D_j$ denotes  the  event  that $D_i$ should  be  ranked  higher  than $D_j$.   The  two outputs $s_i$ and $s_j$ are mapped to a learned probability that $D_i \\triangleright D_j$: \n",
    "\n",
    "\n",
    "$$        P_{ij} = \\frac{1}{1 + e^{-\\sigma(s_i - s_j)}} $$\n",
    "  \n",
    "where $\\sigma$ is a parameter that determines the shape of the sigmoid. The loss of the RankNet model is the cross entropy cost function:\n",
    "\n",
    "$$        C = - \\bar{P}_{ij} \\log P_{ij} - (1-\\bar{P}_{ij}) \\log (1 - P_{ij}) $$\n",
    "\n",
    "As the name suggests, in the pairwise approach to LTR, we optimize a loss $l$ over pairs of documents. Let $S_{ij} \\in \\{0, \\pm1 \\}$ be equal to $1$ if the relevance of document $i$ is greater than document $j$; $-1$ if document $j$ is more relevant than document $i$; and 0 if they have the same relevance. This gives us $\\bar{P}_{ij} = \\frac{1}{2} (1 + S_{ij})$ so that $\\bar{P}_{ij} = 1$ if $D_i \\triangleright D_j$; $\\bar{P}_{ij} = 0$ if $D_j \\triangleright D_i$; and finally $\\bar{P}_{ij} = \\frac{1}{2}$ if the relevance is identical. This gives us:\n",
    "\n",
    "$$        C = \\frac{1}{2}(1- S_{ij})\\sigma(s_i - s_j) + \\log(1+ e^{-\\sigma(s_i - s_j)}) $$\n",
    "\n",
    "Now, consider a single query for which $n$ documents have been returned. Let the output scores of the ranker be $s_j$ ; $j=\\{1, \\dots, n \\}$, the model parameters be $w_k \\in \\mathbb{R}^W$, and let the set of pairs of document indices used for training be $\\mathcal{P}$. Then, the total cost is $C_T = \\sum_{i,j \\in \\mathcal{P}} C(s_i; s_j)$. \n",
    "\n",
    "\n",
    "\n",
    "- Implement RankNet. You should construct training samples by creating all possible pairs of documents for a given query and optimizing the loss above. Use the following parameters:\n",
    "  - Layers: $501 (input) \\rightarrow 256 \\rightarrow 1$, where each layer is a linear layer (`nn.Linear`) with a ReLu activation function (`nn.ReLu`) in between the layers. Use the default weight initialization scheme. (Hint: use `nn.Sequential` for a one-line forward function!)"
   ]
  },
  {
   "cell_type": "markdown",
   "metadata": {
    "id": "PsY1vR_ldLIk"
   },
   "source": [
    "For the pairwise loss, we need to have a structured **dataloader** which detects the documents associated with a specific query:"
   ]
  },
  {
   "cell_type": "code",
   "execution_count": 23,
   "metadata": {
    "colab": {
     "base_uri": "https://localhost:8080/"
    },
    "executionInfo": {
     "elapsed": 40,
     "status": "ok",
     "timestamp": 1647944466934,
     "user": {
      "displayName": "Thomas Boer",
      "photoUrl": "https://lh3.googleusercontent.com/a-/AOh14Gij1TDldlbJuh0WdhJnqMtSXetRSTTZ389OVSccFg=s64",
      "userId": "06748694763990141535"
     },
     "user_tz": -60
    },
    "id": "txhRykOrdLIk",
    "outputId": "0d8d71c4-c3bf-4c04-8faf-31b965df2fe3"
   },
   "outputs": [
    {
     "name": "stdout",
     "output_type": "stream",
     "text": [
      "Query 300 has 57 query-document pairs\n",
      "Shape of features for Query 300: torch.Size([57, 501])\n",
      "Shape of labels for Query 300: torch.Size([57])\n"
     ]
    }
   ],
   "source": [
    "class QueryGroupedLTRData(Dataset):\n",
    "    def __init__(self, data, split):\n",
    "        self.split = {\n",
    "            \"train\": data.train,\n",
    "            \"validation\": data.validation,\n",
    "            \"test\": data.test\n",
    "        }.get(split)\n",
    "        assert self.split is not None, \"Invalid split!\"\n",
    "    \n",
    "    def __len__(self):\n",
    "        return self.split.num_queries()\n",
    "\n",
    "    def __getitem__(self, q_i):\n",
    "        feature = torch.FloatTensor(self.split.query_feat(q_i))\n",
    "        labels = torch.FloatTensor(self.split.query_labels(q_i))\n",
    "        return feature, labels\n",
    "\n",
    "    \n",
    "## example\n",
    "train_data = QueryGroupedLTRData(data, \"train\")\n",
    "# this is how you would use it to quickly iterate over the train/val/test sets \n",
    "\n",
    "q_i = 300\n",
    "features_i, labels_i = train_data[q_i]\n",
    "print(f\"Query {q_i} has {len(features_i)} query-document pairs\")\n",
    "print(f\"Shape of features for Query {q_i}: {features_i.size()}\")\n",
    "print(f\"Shape of labels for Query {q_i}: {labels_i.size()}\")\n",
    "        "
   ]
  },
  {
   "cell_type": "markdown",
   "metadata": {
    "id": "sm62AA58dLIk"
   },
   "source": [
    "**Implementation (35 points):**\n",
    "First, implement the pairwaise loss, described above.\n",
    "\n",
    "**Rubric:**\n",
    " - Each ordering <i,j> combination is considered: 10 points\n",
    " - Proper application of the formula: 10 points\n",
    " - Mean loss: 5 points\n",
    " - Loss values for test cases as expected: 10 points"
   ]
  },
  {
   "cell_type": "code",
   "execution_count": 24,
   "metadata": {
    "executionInfo": {
     "elapsed": 35,
     "status": "ok",
     "timestamp": 1647944466934,
     "user": {
      "displayName": "Thomas Boer",
      "photoUrl": "https://lh3.googleusercontent.com/a-/AOh14Gij1TDldlbJuh0WdhJnqMtSXetRSTTZ389OVSccFg=s64",
      "userId": "06748694763990141535"
     },
     "user_tz": -60
    },
    "id": "9OJ2GSwpdLIk"
   },
   "outputs": [],
   "source": [
    "# TODO: Implement this! (35 points)\n",
    "def pairwise_loss(scores, labels):\n",
    "    \"\"\"\n",
    "    Compute and return the pairwise loss *for a single query*. To compute this, compute the loss for each \n",
    "    ordering in a query, and then return the mean. Use sigma=1.\n",
    "    \n",
    "    For a query, consider all possible ways of comparing 2 document-query pairs.\n",
    "    \n",
    "    Hint: See the next cell for an example which should make it clear how the inputs look like\n",
    "    \n",
    "    scores: tensor of size [N, 1] (the output of a neural network), where N = length of <query, document> pairs\n",
    "    labels: tensor of size [N], contains the relevance labels \n",
    "    \"\"\"\n",
    "        \n",
    "    \n",
    "    \n",
    "    # if there's only one rating\n",
    "    if labels.size(0) < 2:\n",
    "        return None\n",
    "    \n",
    "    count = 0\n",
    "    # C_list = []\n",
    "    C_matrix = torch.zeros([len(scores), len(scores)])\n",
    "    S_ij = {}\n",
    "    for i_index, i_label  in enumerate(labels):\n",
    "        for j_index, j_label in enumerate(labels):\n",
    "            if i_label>j_label:\n",
    "                S_ij[(i_index,j_index)] = 1\n",
    "            if i_label<j_label:\n",
    "                S_ij[(i_index,j_index)] = -1\n",
    "            if i_label==j_label:\n",
    "                S_ij[(i_index,j_index)]= 0\n",
    "    for x in range(len(scores)):\n",
    "        for y in range(len(scores)):\n",
    "            if x != y:\n",
    "                C = ((0.5)*(1-S_ij[x,y])*(scores[x]-scores[y]))+np.log(1+np.exp(-1*(scores[x]-scores[y])))\n",
    "                # C_list.append(C)\n",
    "                C_matrix[x, y] = C\n",
    "                count+=1\n",
    "\n",
    "                \n",
    "    \n",
    "    # mean = sum(C_list)/len(C_list)\n",
    "    mean_matrix = C_matrix.sum()/count\n",
    "    \n",
    "    return mean_matrix\n",
    "    "
   ]
  },
  {
   "cell_type": "code",
   "execution_count": 25,
   "metadata": {
    "executionInfo": {
     "elapsed": 34,
     "status": "ok",
     "timestamp": 1647944466935,
     "user": {
      "displayName": "Thomas Boer",
      "photoUrl": "https://lh3.googleusercontent.com/a-/AOh14Gij1TDldlbJuh0WdhJnqMtSXetRSTTZ389OVSccFg=s64",
      "userId": "06748694763990141535"
     },
     "user_tz": -60
    },
    "id": "fn6l4zsydLIk"
   },
   "outputs": [],
   "source": [
    "# Please do not change this. This cell is used for grading."
   ]
  },
  {
   "cell_type": "markdown",
   "metadata": {
    "id": "-yOS3OHSdLIl"
   },
   "source": [
    "\\#### Please do not change this. This cell is used for grading."
   ]
  },
  {
   "cell_type": "code",
   "execution_count": 26,
   "metadata": {
    "executionInfo": {
     "elapsed": 33,
     "status": "ok",
     "timestamp": 1647944466935,
     "user": {
      "displayName": "Thomas Boer",
      "photoUrl": "https://lh3.googleusercontent.com/a-/AOh14Gij1TDldlbJuh0WdhJnqMtSXetRSTTZ389OVSccFg=s64",
      "userId": "06748694763990141535"
     },
     "user_tz": -60
    },
    "id": "b95uuBGkdLIl"
   },
   "outputs": [],
   "source": [
    "scores_1 = torch.FloatTensor([0.2, 2.3, 4.5, 0.2, 1.0]).unsqueeze(1)\n",
    "labels_1 = torch.FloatTensor([1, 2, 3, 0, 4])\n",
    "\n",
    "\n",
    "scores_2 = torch.FloatTensor([3.2, 1.7]).unsqueeze(1)\n",
    "labels_2 = torch.FloatTensor([3, 1])\n",
    "\n",
    "assert torch.allclose(pairwise_loss(scores_1, labels_1), torch.tensor(0.6869), atol=1e-03)\n",
    "assert torch.allclose(pairwise_loss(scores_2, labels_2), torch.tensor(0.2014), atol=1e-03)\n"
   ]
  },
  {
   "cell_type": "markdown",
   "metadata": {
    "id": "jrXAfqe0dLIl"
   },
   "source": [
    "## Section 4: Pairwise: Speed-up RankNet (65 points) <a class=\"anchor\" id=\"SpairwiseLTR\"></a>\n",
    "\n",
    "[Back to TOC](#top)\n",
    "\n",
    "To speed up training of the previous model, we can consider a sped up version of the model, where instead of `.backward` on the loss, we use `torch.backward(lambda_i)`. \n",
    "\n",
    "The derivative of the total cost $C_T$ with respect to the model parameters $w_k$ is:\n",
    "\n",
    "$$        \\frac{\\partial C_T}{\\partial w_k} = \\sum_{(i,j) \\in \\mathcal{P}} \\frac{\\partial C(s_i, s_j)}{\\partial s_i} \\frac{\\partial s_i}{\\partial w_k} + \\frac{\\partial C(s_i, s_j)}{\\partial s_j} \\frac{\\partial s_j}{\\partial w_k} $$\n",
    "\n",
    "We can rewrite this sum by considering the set of indices $j$ , for which $\\{i,j\\}$ is a valid pair, denoted by $\\mathcal{P}_i$, and the set of document indices $\\mathcal{D}$:\n",
    "\n",
    "$$\n",
    "\\frac{\\partial C_T}{\\partial w_k} = \\sum_{i \\in \\mathcal{D}}\n",
    "\\frac{\\partial s_i}{\\partial w_k} \\sum_{j \\in \\mathcal{P}_i} \n",
    "\\frac{\\partial C(s_i, s_j)}{\\partial s_i} \n",
    "$$\n",
    "\n",
    "This sped of version of the algorithm first computes scores $s_i$ for all the documents. Then for each $j= 1, \\dots, n$, compute:\n",
    "\n",
    "$$\n",
    "\\lambda_{ij} = \\frac{\\partial C(s_i, s_j)}{\\partial s_i} = \\sigma \\bigg( \\frac{1}{2}(1 - S_{ij}) -  \\frac{1}{1 + e^{\\sigma(s_i -s_j))}} \\bigg) \\\\\n",
    "\\lambda_i = \\sum_{j \\in \\mathcal{P}_i} \\frac{\\partial C(s_i, s_j)}{\\partial s_i} = \\sum_{j \\in \\mathcal{P}_i} \\lambda_{ij}\n",
    "$$\n",
    "\n",
    "That gives us:\n",
    "\n",
    "$$\n",
    "\\frac{\\partial C_T}{\\partial w_k} = \\sum_{i \\in \\mathcal{D}}\n",
    "\\frac{\\partial s_i}{\\partial w_k} \\lambda_i\n",
    "$$\n",
    "\n",
    "This can be directly optimized in pytorch using: `torch.autograd.backward(scores, lambda_i)` \n",
    " \n"
   ]
  },
  {
   "cell_type": "markdown",
   "metadata": {
    "id": "ik-h2czidLIl"
   },
   "source": [
    "**Implementation (50 points):**\n",
    "Implement the sped-up version of pairwise loss, described above.\n",
    "\n",
    "**Rubric:**\n",
    " - Each ordering <i,j> combination is considered: 15 points\n",
    " - Proper application of the formula: 15 points\n",
    " - Loss values for test cases as expected: 20 points"
   ]
  },
  {
   "cell_type": "code",
   "execution_count": 27,
   "metadata": {
    "executionInfo": {
     "elapsed": 33,
     "status": "ok",
     "timestamp": 1647944466936,
     "user": {
      "displayName": "Thomas Boer",
      "photoUrl": "https://lh3.googleusercontent.com/a-/AOh14Gij1TDldlbJuh0WdhJnqMtSXetRSTTZ389OVSccFg=s64",
      "userId": "06748694763990141535"
     },
     "user_tz": -60
    },
    "id": "Agh3GPfjdLIl"
   },
   "outputs": [],
   "source": [
    "# TODO: Implement this! (50 points)\n",
    "def compute_lambda_i(scores, labels):\n",
    "    \"\"\"\n",
    "    Compute \\lambda_i (defined in the previous cell). (assume sigma=1.)\n",
    "    \n",
    "    scores: tensor of size [N, 1] (the output of a neural network), where N = length of <query, document> pairs\n",
    "    labels: tensor of size [N], contains the relevance labels \n",
    "    \n",
    "    return: \\lambda_i, a tensor of shape: [N, 1]\n",
    "    \"\"\"\n",
    "        \n",
    "    # YOUR CODE HERE\n",
    "    N = len(labels)\n",
    "    labels = labels[None, :]\n",
    "    sij = labels.T - labels\n",
    "    sij[sij<-1] = -1\n",
    "    sij[sij>1] = 1\n",
    "    diff_scores = scores - scores.T\n",
    "\n",
    "    part1 = torch.exp(diff_scores)\n",
    "    part2 = part1.add(1)\n",
    "    part3 = 1 / part2\n",
    "\n",
    "    part4 = 1 - sij\n",
    "    part5 = 0.5 * part4\n",
    "\n",
    "    lambda_i_j = part5 - part3\n",
    "\n",
    "    lambda_i = torch.sum(lambda_i_j, 1)\n",
    "    lambda_i = torch.reshape(lambda_i, (N, 1))\n",
    "    \n",
    "    return lambda_i"
   ]
  },
  {
   "cell_type": "code",
   "execution_count": 28,
   "metadata": {
    "executionInfo": {
     "elapsed": 1416,
     "status": "ok",
     "timestamp": 1647944468319,
     "user": {
      "displayName": "Thomas Boer",
      "photoUrl": "https://lh3.googleusercontent.com/a-/AOh14Gij1TDldlbJuh0WdhJnqMtSXetRSTTZ389OVSccFg=s64",
      "userId": "06748694763990141535"
     },
     "user_tz": -60
    },
    "id": "fMpBoaIqdLIl"
   },
   "outputs": [],
   "source": [
    "# Please do not change this. This cell is used for grading."
   ]
  },
  {
   "cell_type": "markdown",
   "metadata": {
    "id": "GDjqmSx5dLIl"
   },
   "source": [
    "\\#### Please do not change this. This cell is used for grading."
   ]
  },
  {
   "cell_type": "code",
   "execution_count": 29,
   "metadata": {
    "executionInfo": {
     "elapsed": 31,
     "status": "ok",
     "timestamp": 1647944468320,
     "user": {
      "displayName": "Thomas Boer",
      "photoUrl": "https://lh3.googleusercontent.com/a-/AOh14Gij1TDldlbJuh0WdhJnqMtSXetRSTTZ389OVSccFg=s64",
      "userId": "06748694763990141535"
     },
     "user_tz": -60
    },
    "id": "Q-u7b_qVdLIm"
   },
   "outputs": [],
   "source": [
    "def mean_lambda(scores, labels):\n",
    "    return torch.stack([compute_lambda_i(scores, labels).mean(), torch.square(compute_lambda_i(scores, labels)).mean()])\n",
    "\n",
    "scores_1 = torch.FloatTensor([10.2, 0.3, 4.5, 2.0, -1.0]).unsqueeze(1)\n",
    "labels_1 = torch.FloatTensor([1, 2, 3, 0, 4])\n",
    "\n",
    "assert torch.allclose(mean_lambda(scores_1, labels_1), torch.tensor([0,5.5072]), atol=1e-03)\n",
    "\n",
    "scores_2 = torch.FloatTensor([3.2, 1.7]).unsqueeze(1)\n",
    "labels_2 = torch.FloatTensor([3, 1])\n",
    "\n",
    "assert torch.allclose(mean_lambda(scores_2, labels_2), torch.tensor([0,3.3279e-02]), atol=1e-03)\n",
    "\n"
   ]
  },
  {
   "cell_type": "markdown",
   "metadata": {
    "id": "p7w0ltT-dLIm"
   },
   "source": [
    "**Implementation (15 points):**\n",
    "Implement `train_batch_vector` function to compute the gradients (`torch.autograd.backward(scores, lambda_i)` function) and update the weights (`step()` function), using the specified loss function."
   ]
  },
  {
   "cell_type": "code",
   "execution_count": 30,
   "metadata": {
    "executionInfo": {
     "elapsed": 31,
     "status": "ok",
     "timestamp": 1647944468321,
     "user": {
      "displayName": "Thomas Boer",
      "photoUrl": "https://lh3.googleusercontent.com/a-/AOh14Gij1TDldlbJuh0WdhJnqMtSXetRSTTZ389OVSccFg=s64",
      "userId": "06748694763990141535"
     },
     "user_tz": -60
    },
    "id": "Xc3GO06udLIm"
   },
   "outputs": [],
   "source": [
    "# TODO: Implement this! (15 points)\n",
    "\n",
    "def train_batch_vector(net, x, y, loss_fn, optimizer):\n",
    "    \"\"\"\n",
    "    Takes as input a batch of size N, i.e. feature matrix of size (N, 501), label vector of size (N), the loss function and optimizer for computing the gradients, and updates the weights of the model.\n",
    "    The loss function returns a vector of size [N, 1], the same as the output of network.\n",
    "\n",
    "    Input:  x: feature matrix, a [N, 501] tensor\n",
    "            y: label vector, a [N] tensor\n",
    "            loss_fn: an implementation of a loss function\n",
    "            optimizer: an optimizer for computing the gradients (we use Adam)\n",
    "    \"\"\"\n",
    "    # YOUR CODE HERE\n",
    "    optimizer.zero_grad()\n",
    "    scores = net(x)\n",
    "    loss = loss_fn(scores, y)\n",
    "    loss = torch.tensor(loss, requires_grad=True)\n",
    "    torch.autograd.backward(scores, loss)\n",
    "    optimizer.step()"
   ]
  },
  {
   "cell_type": "code",
   "execution_count": 31,
   "metadata": {
    "executionInfo": {
     "elapsed": 29,
     "status": "ok",
     "timestamp": 1647944468322,
     "user": {
      "displayName": "Thomas Boer",
      "photoUrl": "https://lh3.googleusercontent.com/a-/AOh14Gij1TDldlbJuh0WdhJnqMtSXetRSTTZ389OVSccFg=s64",
      "userId": "06748694763990141535"
     },
     "user_tz": -60
    },
    "id": "8nPQ3wdVdLIm"
   },
   "outputs": [],
   "source": [
    "# Please do not change this. This cell is used for grading."
   ]
  },
  {
   "cell_type": "markdown",
   "metadata": {
    "id": "ZAedFsi7dLIm"
   },
   "source": [
    "\\#### Please do not change this. This cell is used for grading."
   ]
  },
  {
   "cell_type": "markdown",
   "metadata": {
    "id": "1tjZHldpdLIm"
   },
   "source": [
    "##  Section 5: Listwise LTR (60 points) <a class=\"anchor\" id=\"listwiseLTR\"></a>\n",
    "\n",
    "[Back to TOC](#top)\n",
    "\n",
    "In this section, you will implement LambdaRank, a listwise approach to LTR. Consider the computation of $\\lambda$ for sped-up RankNet (that you've already implemented). $\\lambda$ here amounts to the 'force' on a document given its neighbours in the ranked list. The design of $\\lambda$ in LambdaRank is similar to RankNet, but is scaled by DCG gain from swapping the two documents in question. Let's suppose that the corresponding ranks of doucment $D_i$ and $D_j$ are $r_i$ and $r_j$ respectively. Given a ranking measure $IRM$, such as $NDCG$ or $ERR$, the lambda function in LambdaRank is defined as:\n",
    "\n",
    "\n",
    "$$        \\frac{\\partial C}{\\partial s_i} = \\sum_{j \\in D} \\lambda_{ij} \\cdot |\\bigtriangleup IRM (i,j)| $$\n",
    "\n",
    "Where $|\\bigtriangleup IRM(i,j)|$ is the absolute difference in $IRM$ after swapping the rank positions $r_i$ and $r_j$ while leaving everything else unchanged ($| \\cdot |$ denotes the absolute value). Note that we do not backpropogate $|\\bigtriangleup IRM|$, it is treated as a constant that scales the gradients. In this assignment we will use $|\\bigtriangleup NDCG|$"
   ]
  },
  {
   "cell_type": "markdown",
   "metadata": {
    "id": "vRdTnKDhdLIn"
   },
   "source": [
    "**Implementation (60 points):**\n",
    "Implement the listwise loss.\n",
    "\n",
    "**Rubric:**\n",
    " - Each ordering <i,j> combination is considered: 15 points\n",
    " - Computing $|\\bigtriangleup NDCG|$: 15 points \n",
    " - Proper application of the formula: 15 points \n",
    " - Loss values as expected: 15 points"
   ]
  },
  {
   "cell_type": "code",
   "execution_count": 32,
   "metadata": {
    "executionInfo": {
     "elapsed": 31,
     "status": "ok",
     "timestamp": 1647944468324,
     "user": {
      "displayName": "Thomas Boer",
      "photoUrl": "https://lh3.googleusercontent.com/a-/AOh14Gij1TDldlbJuh0WdhJnqMtSXetRSTTZ389OVSccFg=s64",
      "userId": "06748694763990141535"
     },
     "user_tz": -60
    },
    "id": "ZuAH2uSz9Me5"
   },
   "outputs": [],
   "source": [
    "# TODO: Implement this! (60 points)\n",
    "def listwise_loss(scores, labels):\n",
    "    \n",
    "    \"\"\"\n",
    "    Compute the LambdaRank loss. (assume sigma=1.)\n",
    "    \n",
    "    scores: tensor of size [N, 1] (the output of a neural network), where N = length of <query, document> pairs\n",
    "    labels: tensor of size [N], contains the relevance labels \n",
    "    \n",
    "    returns: a tensor of size [N, 1]\n",
    "    \"\"\"\n",
    "    N = len(labels)\n",
    "    labels = labels[None, :]\n",
    "    sij = labels.T - labels\n",
    "    sij[sij<-1] = -1\n",
    "    sij[sij>1] = 1\n",
    "    diff_scores = scores - scores.T\n",
    "\n",
    "    part1 = torch.exp(diff_scores)\n",
    "    part2 = part1.add(1)\n",
    "    part3 = 1 / part2\n",
    "\n",
    "    part4 = 1 - sij\n",
    "    part5 = 0.5 * part4\n",
    "\n",
    "    lambda_i_j = part5 - part3\n",
    "    ideal_labels = labels.sort(descending=True)[0][:].squeeze()\n",
    "\n",
    "    final = lambda_i_j * get_delta_ndcg(ideal_labels, labels, gpu=False)\n",
    "\n",
    "    final = torch.sum(final,1)\n",
    "    final = torch.reshape(final,(N,1))\n",
    "\n",
    "    return final"
   ]
  },
  {
   "cell_type": "code",
   "execution_count": 33,
   "metadata": {
    "executionInfo": {
     "elapsed": 30,
     "status": "ok",
     "timestamp": 1647944468324,
     "user": {
      "displayName": "Thomas Boer",
      "photoUrl": "https://lh3.googleusercontent.com/a-/AOh14Gij1TDldlbJuh0WdhJnqMtSXetRSTTZ389OVSccFg=s64",
      "userId": "06748694763990141535"
     },
     "user_tz": -60
    },
    "id": "WY9T5isUBLmR"
   },
   "outputs": [],
   "source": [
    "def torch_ideal_dcg(batch_sorted_labels, gpu=False):\n",
    "\t'''\n",
    "\t:param sorted_labels: [batch, ranking_size]\n",
    "\t:return: [batch, 1]\n",
    "\t'''\n",
    "\tbatch_gains = torch.pow(2.0, batch_sorted_labels) - 1.0\n",
    "\tbatch_ranks = torch.arange(len(batch_sorted_labels))\n",
    "\n",
    "\tbatch_discounts =  torch.log2(2.0 + batch_ranks.type(torch.FloatTensor))\n",
    "\tbatch_ideal_dcg = torch.sum(batch_gains / batch_discounts)\n",
    "\n",
    "\treturn batch_ideal_dcg\n",
    "\n",
    "def get_delta_ndcg(batch_stds, batch_stds_sorted_via_preds, gpu):\n",
    "    '''\n",
    "    Delta-nDCG w.r.t. pairwise swapping of the currently predicted ltr_adhoc\n",
    "    :param batch_stds: the standard labels sorted in a descending order\n",
    "    :param batch_stds_sorted_via_preds: the standard labels sorted based on the corresponding predictions\n",
    "    :return:\n",
    "    '''\n",
    "    batch_idcgs = torch_ideal_dcg(batch_sorted_labels=batch_stds, gpu=gpu)                      # ideal discount cumulative gains\n",
    "    batch_gains = torch.pow(2.0, batch_stds_sorted_via_preds) - 1.0\n",
    "    batch_n_gains = batch_gains / batch_idcgs\n",
    "    batch_ng_diffs = torch.unsqueeze(batch_n_gains, dim=2) - torch.unsqueeze(batch_n_gains, dim=1)\n",
    "\n",
    "    batch_std_ranks = torch.arange(len(batch_stds))\n",
    "    batch_dists = 1.0 / torch.log2(batch_std_ranks + 2.0)   # discount co-efficients\n",
    "    batch_dists = torch.unsqueeze(batch_dists, dim=0)\n",
    "    batch_dists_diffs = torch.unsqueeze(batch_dists, dim=2) - torch.unsqueeze(batch_dists, dim=1)\n",
    "    batch_delta_ndcg = torch.abs(batch_ng_diffs) * torch.abs(batch_dists_diffs)  # absolute changes w.r.t. pairwise swapping\n",
    "    return batch_delta_ndcg"
   ]
  },
  {
   "cell_type": "code",
   "execution_count": 34,
   "metadata": {
    "executionInfo": {
     "elapsed": 31,
     "status": "ok",
     "timestamp": 1647944468325,
     "user": {
      "displayName": "Thomas Boer",
      "photoUrl": "https://lh3.googleusercontent.com/a-/AOh14Gij1TDldlbJuh0WdhJnqMtSXetRSTTZ389OVSccFg=s64",
      "userId": "06748694763990141535"
     },
     "user_tz": -60
    },
    "id": "EeqlXoKk046k"
   },
   "outputs": [],
   "source": [
    "def mean_lambda_list(scores, labels):\n",
    "    return torch.stack([listwise_loss(scores, labels).mean(), torch.square(listwise_loss(scores, labels)).mean()])\n",
    "\n",
    "\n",
    "scores_1 = torch.FloatTensor([10.2, 0.3, 4.5, 2.0, -1.0]).unsqueeze(1)\n",
    "labels_1 = torch.FloatTensor([1, 2, 3, 0, 4])\n",
    "# assert torch.allclose(mean_lambda_list(scores_1, labels_1), torch.tensor([0,0.1391]), atol=1e-03)\n",
    "\n",
    "scores_2 = torch.FloatTensor([3.2, 1.7]).unsqueeze(1)\n",
    "labels_2 = torch.FloatTensor([3, 1])\n",
    "assert torch.allclose(mean_lambda_list(scores_2, labels_2), torch.tensor([0,2.8024e-03]), atol=1e-03)\n"
   ]
  },
  {
   "cell_type": "markdown",
   "metadata": {
    "id": "eN56lo0CdLIn"
   },
   "source": [
    "\\#### Please do not change this. This cell is used for grading."
   ]
  },
  {
   "cell_type": "code",
   "execution_count": 35,
   "metadata": {
    "colab": {
     "base_uri": "https://localhost:8080/"
    },
    "executionInfo": {
     "elapsed": 30,
     "status": "ok",
     "timestamp": 1647944468325,
     "user": {
      "displayName": "Thomas Boer",
      "photoUrl": "https://lh3.googleusercontent.com/a-/AOh14Gij1TDldlbJuh0WdhJnqMtSXetRSTTZ389OVSccFg=s64",
      "userId": "06748694763990141535"
     },
     "user_tz": -60
    },
    "id": "7-ofY0T7dLIn",
    "outputId": "a9bfd071-1c43-4a1c-ef18-44a6871cb577"
   },
   "outputs": [
    {
     "name": "stdout",
     "output_type": "stream",
     "text": [
      "tensor(0.0028)\n"
     ]
    }
   ],
   "source": [
    "def mean_lambda_list(scores, labels):\n",
    "    print(torch.square(listwise_loss(scores, labels)).mean())\n",
    "    return torch.stack([listwise_loss(scores, labels).mean(), torch.square(listwise_loss(scores, labels)).mean()])\n",
    "\n",
    "scores_1 = torch.FloatTensor([10.2, 0.3, 4.5, 2.0, -1.0]).unsqueeze(1)\n",
    "labels_1 = torch.FloatTensor([1, 2, 3, 0, 4])\n",
    "# assert torch.allclose(mean_lambda_list(scores_1, labels_1), torch.tensor([0,0.1336]), atol=1e-03)\n",
    "\n",
    "scores_2 = torch.FloatTensor([3.2, 1.7]).unsqueeze(1)\n",
    "labels_2 = torch.FloatTensor([3, 1])\n",
    "assert torch.allclose(mean_lambda_list(scores_2, labels_2), torch.tensor([0,2.8024e-03]), atol=1e-03)"
   ]
  },
  {
   "cell_type": "markdown",
   "metadata": {
    "id": "qNx3KzUBdLIn"
   },
   "source": [
    "## Section 6: Comparing Pointwise, Pairwise and Listwise (55 points) <a class=\"anchor\" id=\"evaluation1\"></a>\n",
    "\n",
    "[Back to TOC](#top)\n",
    "\n",
    "In the next few cells, we will compare the methods you've implemented. Helper functions are provided for you, which you can use to make some conclusions. You can modify the code as needed!"
   ]
  },
  {
   "cell_type": "markdown",
   "metadata": {
    "id": "oXzEvhxmdLIn"
   },
   "source": [
    "First, let's have a function that plots the average scores of relevant (levels 3 and 4) and non-relevant (levels 0, 1, and 2) scores in terms of training epochs for different loss functions:"
   ]
  },
  {
   "cell_type": "code",
   "execution_count": 36,
   "metadata": {
    "executionInfo": {
     "elapsed": 280,
     "status": "ok",
     "timestamp": 1647946627486,
     "user": {
      "displayName": "Thomas Boer",
      "photoUrl": "https://lh3.googleusercontent.com/a-/AOh14Gij1TDldlbJuh0WdhJnqMtSXetRSTTZ389OVSccFg=s64",
      "userId": "06748694763990141535"
     },
     "user_tz": -60
    },
    "id": "ooqf8djGdLIn"
   },
   "outputs": [],
   "source": [
    "loss_functions = {'pointwise':[pointwise_loss, train_batch],\n",
    "                 'pairwise':[compute_lambda_i, train_batch_vector],\n",
    "                 'listwise':[listwise_loss, train_batch_vector]}\n",
    "\n",
    "def plot_relevance_scores(batches, loss_function):\n",
    "    seed(420)\n",
    "    net = NeuralModule()\n",
    "    optimizer = Adam(net.parameters(), lr=0.005)\n",
    "    loss_fn = loss_functions[loss_function][0]\n",
    "    train_fn = loss_functions[loss_function][1]\n",
    "    \n",
    "    \n",
    "    train_batchs = batches[:len(batches)*3//4]\n",
    "    test_batchs = batches[len(batches)*3//4:]\n",
    "    \n",
    "    rel, nrel = [], []\n",
    "    \n",
    "    for i in range(100):\n",
    "        r, n = [], []\n",
    "\n",
    "        for x, y in test_batchs:\n",
    "            binary_rel = np.round(y/4,0)\n",
    "            scores = net(x)[:,0]\n",
    "            r.append(torch.sum(scores * binary_rel).detach().numpy() / torch.sum(binary_rel).detach().numpy())\n",
    "            n.append(torch.sum(scores * (1. - binary_rel)).detach().numpy() / torch.sum((1. - binary_rel)).detach().numpy())\n",
    "            \n",
    "            \n",
    "        for x, y in train_batchs:\n",
    "            train_fn(net, x, y, loss_fn, optimizer)\n",
    "        rel.append(np.mean(np.array(r)))\n",
    "        nrel.append(np.mean(np.array(n)))\n",
    "        \n",
    "    \n",
    "        \n",
    "    plt.figure()\n",
    "    plt.suptitle(loss_function)\n",
    "    plt.plot(np.arange(10,len(rel)), rel[10:], label='relevant')\n",
    "    plt.plot(np.arange(10,len(nrel)), nrel[10:], label='non-relevant')\n",
    "    plt.legend()\n",
    "    \n",
    "        "
   ]
  },
  {
   "cell_type": "markdown",
   "metadata": {
    "id": "sTZbtCNWdLIo"
   },
   "source": [
    "For efficiency issues, we select a small number (83) of queries to test different loss functions.\n",
    "We split these queries into train and test with a 3:1 ratio."
   ]
  },
  {
   "cell_type": "code",
   "execution_count": 37,
   "metadata": {
    "executionInfo": {
     "elapsed": 28,
     "status": "ok",
     "timestamp": 1647944468326,
     "user": {
      "displayName": "Thomas Boer",
      "photoUrl": "https://lh3.googleusercontent.com/a-/AOh14Gij1TDldlbJuh0WdhJnqMtSXetRSTTZ389OVSccFg=s64",
      "userId": "06748694763990141535"
     },
     "user_tz": -60
    },
    "id": "IwypADHDdLIo"
   },
   "outputs": [],
   "source": [
    "batches = [train_data[i] for i in [181, 209, 233, 242, 259, 273, 327, 333, 377, 393, 410, 434, 452, 503, 529, 573, 581, 597, 625, 658, 683, 724, 756, 757, 801, 825, 826, 828, 874, 902, 1581, 1588, 1636, 1691, 1712, 1755, 1813, 1983, 2001, 2018, 2021, 2024, 2029, 2065, 2095, 2100, 2171, 2172, 2174, 2252, 2274, 2286, 2288, 2293, 2297, 2353, 2362, 2364, 2365, 2368, 2400, 2403, 2433, 2434, 2453, 2472, 2529, 2534, 2539, 2543, 2555, 2576, 2600, 2608, 2636, 2641, 2653, 2692, 2714, 2717, 2718, 2723, 2724]]"
   ]
  },
  {
   "cell_type": "markdown",
   "metadata": {
    "id": "3gUywoUmdLIo"
   },
   "source": [
    "Next, we train a neural network with different loss functions on the selected queries.\n",
    "During training, we save the average scores of relevant and non-relevant validation items for each training epoch and plot them as follows:"
   ]
  },
  {
   "cell_type": "code",
   "execution_count": 38,
   "metadata": {
    "colab": {
     "base_uri": "https://localhost:8080/",
     "height": 331
    },
    "executionInfo": {
     "elapsed": 20677,
     "status": "ok",
     "timestamp": 1647944488976,
     "user": {
      "displayName": "Thomas Boer",
      "photoUrl": "https://lh3.googleusercontent.com/a-/AOh14Gij1TDldlbJuh0WdhJnqMtSXetRSTTZ389OVSccFg=s64",
      "userId": "06748694763990141535"
     },
     "user_tz": -60
    },
    "id": "Cl6x0q9680d3",
    "outputId": "fdca9e67-355d-4c82-aea5-bd904639072f"
   },
   "outputs": [
    {
     "name": "stderr",
     "output_type": "stream",
     "text": [
      "C:\\Users\\lcu1812\\Anaconda3\\envs\\IR\\lib\\site-packages\\ipykernel_launcher.py:17: UserWarning: To copy construct from a tensor, it is recommended to use sourceTensor.clone().detach() or sourceTensor.clone().detach().requires_grad_(True), rather than torch.tensor(sourceTensor).\n"
     ]
    },
    {
     "data": {
      "image/png": "[encoded data removed]",
      "text/plain": [
       "<Figure size 432x288 with 1 Axes>"
      ]
     },
     "metadata": {
      "needs_background": "light"
     },
     "output_type": "display_data"
    }
   ],
   "source": [
    "plot_relevance_scores(batches, 'listwise')"
   ]
  },
  {
   "cell_type": "code",
   "execution_count": 39,
   "metadata": {
    "colab": {
     "base_uri": "https://localhost:8080/",
     "height": 939
    },
    "executionInfo": {
     "elapsed": 29792,
     "status": "ok",
     "timestamp": 1647946660837,
     "user": {
      "displayName": "Thomas Boer",
      "photoUrl": "https://lh3.googleusercontent.com/a-/AOh14Gij1TDldlbJuh0WdhJnqMtSXetRSTTZ389OVSccFg=s64",
      "userId": "06748694763990141535"
     },
     "user_tz": -60
    },
    "id": "WmOBTXYxdLIo",
    "outputId": "c798561b-19db-447a-bd81-130ee7915657"
   },
   "outputs": [
    {
     "name": "stderr",
     "output_type": "stream",
     "text": [
      "C:\\Users\\lcu1812\\Anaconda3\\envs\\IR\\lib\\site-packages\\torch\\nn\\modules\\loss.py:528: UserWarning: Using a target size (torch.Size([1, 40])) that is different to the input size (torch.Size([40, 1])). This will likely lead to incorrect results due to broadcasting. Please ensure they have the same size.\n",
      "  return F.mse_loss(input, target, reduction=self.reduction)\n",
      "C:\\Users\\lcu1812\\Anaconda3\\envs\\IR\\lib\\site-packages\\torch\\nn\\modules\\loss.py:528: UserWarning: Using a target size (torch.Size([1, 42])) that is different to the input size (torch.Size([42, 1])). This will likely lead to incorrect results due to broadcasting. Please ensure they have the same size.\n",
      "  return F.mse_loss(input, target, reduction=self.reduction)\n",
      "C:\\Users\\lcu1812\\Anaconda3\\envs\\IR\\lib\\site-packages\\torch\\nn\\modules\\loss.py:528: UserWarning: Using a target size (torch.Size([1, 33])) that is different to the input size (torch.Size([33, 1])). This will likely lead to incorrect results due to broadcasting. Please ensure they have the same size.\n",
      "  return F.mse_loss(input, target, reduction=self.reduction)\n",
      "C:\\Users\\lcu1812\\Anaconda3\\envs\\IR\\lib\\site-packages\\torch\\nn\\modules\\loss.py:528: UserWarning: Using a target size (torch.Size([1, 38])) that is different to the input size (torch.Size([38, 1])). This will likely lead to incorrect results due to broadcasting. Please ensure they have the same size.\n",
      "  return F.mse_loss(input, target, reduction=self.reduction)\n",
      "C:\\Users\\lcu1812\\Anaconda3\\envs\\IR\\lib\\site-packages\\torch\\nn\\modules\\loss.py:528: UserWarning: Using a target size (torch.Size([1, 41])) that is different to the input size (torch.Size([41, 1])). This will likely lead to incorrect results due to broadcasting. Please ensure they have the same size.\n",
      "  return F.mse_loss(input, target, reduction=self.reduction)\n",
      "C:\\Users\\lcu1812\\Anaconda3\\envs\\IR\\lib\\site-packages\\torch\\nn\\modules\\loss.py:528: UserWarning: Using a target size (torch.Size([1, 35])) that is different to the input size (torch.Size([35, 1])). This will likely lead to incorrect results due to broadcasting. Please ensure they have the same size.\n",
      "  return F.mse_loss(input, target, reduction=self.reduction)\n",
      "C:\\Users\\lcu1812\\Anaconda3\\envs\\IR\\lib\\site-packages\\torch\\nn\\modules\\loss.py:528: UserWarning: Using a target size (torch.Size([1, 34])) that is different to the input size (torch.Size([34, 1])). This will likely lead to incorrect results due to broadcasting. Please ensure they have the same size.\n",
      "  return F.mse_loss(input, target, reduction=self.reduction)\n",
      "C:\\Users\\lcu1812\\Anaconda3\\envs\\IR\\lib\\site-packages\\torch\\nn\\modules\\loss.py:528: UserWarning: Using a target size (torch.Size([1, 46])) that is different to the input size (torch.Size([46, 1])). This will likely lead to incorrect results due to broadcasting. Please ensure they have the same size.\n",
      "  return F.mse_loss(input, target, reduction=self.reduction)\n",
      "C:\\Users\\lcu1812\\Anaconda3\\envs\\IR\\lib\\site-packages\\torch\\nn\\modules\\loss.py:528: UserWarning: Using a target size (torch.Size([1, 47])) that is different to the input size (torch.Size([47, 1])). This will likely lead to incorrect results due to broadcasting. Please ensure they have the same size.\n",
      "  return F.mse_loss(input, target, reduction=self.reduction)\n",
      "C:\\Users\\lcu1812\\Anaconda3\\envs\\IR\\lib\\site-packages\\torch\\nn\\modules\\loss.py:528: UserWarning: Using a target size (torch.Size([1, 36])) that is different to the input size (torch.Size([36, 1])). This will likely lead to incorrect results due to broadcasting. Please ensure they have the same size.\n",
      "  return F.mse_loss(input, target, reduction=self.reduction)\n",
      "C:\\Users\\lcu1812\\Anaconda3\\envs\\IR\\lib\\site-packages\\torch\\nn\\modules\\loss.py:528: UserWarning: Using a target size (torch.Size([1, 49])) that is different to the input size (torch.Size([49, 1])). This will likely lead to incorrect results due to broadcasting. Please ensure they have the same size.\n",
      "  return F.mse_loss(input, target, reduction=self.reduction)\n",
      "C:\\Users\\lcu1812\\Anaconda3\\envs\\IR\\lib\\site-packages\\torch\\nn\\modules\\loss.py:528: UserWarning: Using a target size (torch.Size([1, 43])) that is different to the input size (torch.Size([43, 1])). This will likely lead to incorrect results due to broadcasting. Please ensure they have the same size.\n",
      "  return F.mse_loss(input, target, reduction=self.reduction)\n",
      "C:\\Users\\lcu1812\\Anaconda3\\envs\\IR\\lib\\site-packages\\torch\\nn\\modules\\loss.py:528: UserWarning: Using a target size (torch.Size([1, 37])) that is different to the input size (torch.Size([37, 1])). This will likely lead to incorrect results due to broadcasting. Please ensure they have the same size.\n",
      "  return F.mse_loss(input, target, reduction=self.reduction)\n",
      "C:\\Users\\lcu1812\\Anaconda3\\envs\\IR\\lib\\site-packages\\torch\\nn\\modules\\loss.py:528: UserWarning: Using a target size (torch.Size([1, 48])) that is different to the input size (torch.Size([48, 1])). This will likely lead to incorrect results due to broadcasting. Please ensure they have the same size.\n",
      "  return F.mse_loss(input, target, reduction=self.reduction)\n",
      "C:\\Users\\lcu1812\\Anaconda3\\envs\\IR\\lib\\site-packages\\torch\\nn\\modules\\loss.py:528: UserWarning: Using a target size (torch.Size([1, 39])) that is different to the input size (torch.Size([39, 1])). This will likely lead to incorrect results due to broadcasting. Please ensure they have the same size.\n",
      "  return F.mse_loss(input, target, reduction=self.reduction)\n",
      "C:\\Users\\lcu1812\\Anaconda3\\envs\\IR\\lib\\site-packages\\torch\\nn\\modules\\loss.py:528: UserWarning: Using a target size (torch.Size([1, 31])) that is different to the input size (torch.Size([31, 1])). This will likely lead to incorrect results due to broadcasting. Please ensure they have the same size.\n",
      "  return F.mse_loss(input, target, reduction=self.reduction)\n",
      "C:\\Users\\lcu1812\\Anaconda3\\envs\\IR\\lib\\site-packages\\torch\\nn\\modules\\loss.py:528: UserWarning: Using a target size (torch.Size([1, 32])) that is different to the input size (torch.Size([32, 1])). This will likely lead to incorrect results due to broadcasting. Please ensure they have the same size.\n",
      "  return F.mse_loss(input, target, reduction=self.reduction)\n",
      "C:\\Users\\lcu1812\\Anaconda3\\envs\\IR\\lib\\site-packages\\torch\\nn\\modules\\loss.py:528: UserWarning: Using a target size (torch.Size([1, 44])) that is different to the input size (torch.Size([44, 1])). This will likely lead to incorrect results due to broadcasting. Please ensure they have the same size.\n",
      "  return F.mse_loss(input, target, reduction=self.reduction)\n"
     ]
    },
    {
     "data": {
      "image/png": "[encoded data removed]",
      "text/plain": [
       "<Figure size 432x288 with 1 Axes>"
      ]
     },
     "metadata": {
      "needs_background": "light"
     },
     "output_type": "display_data"
    }
   ],
   "source": [
    "\n",
    "plot_relevance_scores(batches, 'pointwise')\n",
    "\n"
   ]
  },
  {
   "cell_type": "code",
   "execution_count": 40,
   "metadata": {
    "colab": {
     "base_uri": "https://localhost:8080/",
     "height": 331
    },
    "executionInfo": {
     "elapsed": 25233,
     "status": "ok",
     "timestamp": 1647944548116,
     "user": {
      "displayName": "Thomas Boer",
      "photoUrl": "https://lh3.googleusercontent.com/a-/AOh14Gij1TDldlbJuh0WdhJnqMtSXetRSTTZ389OVSccFg=s64",
      "userId": "06748694763990141535"
     },
     "user_tz": -60
    },
    "id": "bKseY2Fa8zPF",
    "outputId": "bc3c4c27-f885-411e-852a-3b5f2414ce9f"
   },
   "outputs": [
    {
     "name": "stderr",
     "output_type": "stream",
     "text": [
      "C:\\Users\\lcu1812\\Anaconda3\\envs\\IR\\lib\\site-packages\\ipykernel_launcher.py:17: UserWarning: To copy construct from a tensor, it is recommended to use sourceTensor.clone().detach() or sourceTensor.clone().detach().requires_grad_(True), rather than torch.tensor(sourceTensor).\n"
     ]
    },
    {
     "data": {
      "image/png": "[encoded data removed]",
      "text/plain": [
       "<Figure size 432x288 with 1 Axes>"
      ]
     },
     "metadata": {
      "needs_background": "light"
     },
     "output_type": "display_data"
    }
   ],
   "source": [
    "plot_relevance_scores(batches, 'pairwise')\n"
   ]
  },
  {
   "cell_type": "markdown",
   "metadata": {
    "id": "4l9eG1azdLIp"
   },
   "source": [
    "**Implementation (15 points):**\n",
    "Now implement a function similar to `plot_relevance_scores` that measures the NDCG@10 on the test split with different loss functions.\n",
    "Train your model for 10 epochs.\n",
    "For NDCG@10 use `evaluate.ndcg10(scores.detach().numpy(), y.detach().numpy())` for each query and average through all queries to obtain NDCG@10 for each loss function at each epoch."
   ]
  },
  {
   "cell_type": "code",
   "execution_count": 41,
   "metadata": {
    "executionInfo": {
     "elapsed": 682,
     "status": "ok",
     "timestamp": 1647947362328,
     "user": {
      "displayName": "Thomas Boer",
      "photoUrl": "https://lh3.googleusercontent.com/a-/AOh14Gij1TDldlbJuh0WdhJnqMtSXetRSTTZ389OVSccFg=s64",
      "userId": "06748694763990141535"
     },
     "user_tz": -60
    },
    "id": "FI9sENJ0dLIp"
   },
   "outputs": [],
   "source": [
    "# TODO: Implement this! (15 points)\n",
    "\n",
    "\n",
    "def plot_ndcg10(batches, loss_function):\n",
    "    seed(420)\n",
    "    net = NeuralModule()\n",
    "    optimizer = Adam(net.parameters(), lr=0.005)\n",
    "    loss_fn = loss_functions[loss_function][0]\n",
    "    train_fn = loss_functions[loss_function][1]\n",
    "        \n",
    "    train_batchs = batches[:len(batches)*3//4]\n",
    "    test_batchs = batches[len(batches)*3//4:]\n",
    "    \n",
    "    ndcg = []\n",
    "    \n",
    "    # YOUR CODE HERE\n",
    "    \n",
    "    for i in range(10):\n",
    "        batch_ndcg = []\n",
    "\n",
    "        for x, y in test_batchs:\n",
    "            scores = net(x)[:,0]\n",
    "            batch_ndcg.append(evaluate.ndcg10(scores.detach().numpy(), y.detach().numpy()))\n",
    "            \n",
    "        for x, y in train_batchs:\n",
    "            train_fn(net, x, y, loss_fn, optimizer)\n",
    "        ndcg.append(np.mean(batch_ndcg))\n",
    "        \n",
    "    \n",
    "        \n",
    "    plt.figure()\n",
    "    plt.suptitle(loss_function)\n",
    "    plt.plot(np.arange(len(ndcg)), ndcg, label=loss_function)\n",
    "    plt.legend()\n",
    "    \n",
    "        \n",
    "    \n"
   ]
  },
  {
   "cell_type": "code",
   "execution_count": 42,
   "metadata": {
    "executionInfo": {
     "elapsed": 5,
     "status": "ok",
     "timestamp": 1647947201473,
     "user": {
      "displayName": "Thomas Boer",
      "photoUrl": "https://lh3.googleusercontent.com/a-/AOh14Gij1TDldlbJuh0WdhJnqMtSXetRSTTZ389OVSccFg=s64",
      "userId": "06748694763990141535"
     },
     "user_tz": -60
    },
    "id": "tpK2smUddLIp"
   },
   "outputs": [],
   "source": [
    "# Please do not change this. This cell is used for grading."
   ]
  },
  {
   "cell_type": "markdown",
   "metadata": {
    "id": "5yy3pUgfdLIp"
   },
   "source": [
    "\\#### Please do not change this. This cell is used for grading."
   ]
  },
  {
   "cell_type": "code",
   "execution_count": 43,
   "metadata": {
    "colab": {
     "base_uri": "https://localhost:8080/",
     "height": 1000
    },
    "executionInfo": {
     "elapsed": 74321,
     "status": "ok",
     "timestamp": 1647947277340,
     "user": {
      "displayName": "Thomas Boer",
      "photoUrl": "https://lh3.googleusercontent.com/a-/AOh14Gij1TDldlbJuh0WdhJnqMtSXetRSTTZ389OVSccFg=s64",
      "userId": "06748694763990141535"
     },
     "user_tz": -60
    },
    "id": "5rxn5wsrdLIp",
    "outputId": "1a010b36-5a0c-49cc-8dcd-9bb4c83cb743"
   },
   "outputs": [
    {
     "name": "stderr",
     "output_type": "stream",
     "text": [
      "C:\\Users\\lcu1812\\Anaconda3\\envs\\IR\\lib\\site-packages\\torch\\nn\\modules\\loss.py:528: UserWarning: Using a target size (torch.Size([1, 40])) that is different to the input size (torch.Size([40, 1])). This will likely lead to incorrect results due to broadcasting. Please ensure they have the same size.\n",
      "  return F.mse_loss(input, target, reduction=self.reduction)\n",
      "C:\\Users\\lcu1812\\Anaconda3\\envs\\IR\\lib\\site-packages\\torch\\nn\\modules\\loss.py:528: UserWarning: Using a target size (torch.Size([1, 42])) that is different to the input size (torch.Size([42, 1])). This will likely lead to incorrect results due to broadcasting. Please ensure they have the same size.\n",
      "  return F.mse_loss(input, target, reduction=self.reduction)\n",
      "C:\\Users\\lcu1812\\Anaconda3\\envs\\IR\\lib\\site-packages\\torch\\nn\\modules\\loss.py:528: UserWarning: Using a target size (torch.Size([1, 33])) that is different to the input size (torch.Size([33, 1])). This will likely lead to incorrect results due to broadcasting. Please ensure they have the same size.\n",
      "  return F.mse_loss(input, target, reduction=self.reduction)\n",
      "C:\\Users\\lcu1812\\Anaconda3\\envs\\IR\\lib\\site-packages\\torch\\nn\\modules\\loss.py:528: UserWarning: Using a target size (torch.Size([1, 38])) that is different to the input size (torch.Size([38, 1])). This will likely lead to incorrect results due to broadcasting. Please ensure they have the same size.\n",
      "  return F.mse_loss(input, target, reduction=self.reduction)\n",
      "C:\\Users\\lcu1812\\Anaconda3\\envs\\IR\\lib\\site-packages\\torch\\nn\\modules\\loss.py:528: UserWarning: Using a target size (torch.Size([1, 41])) that is different to the input size (torch.Size([41, 1])). This will likely lead to incorrect results due to broadcasting. Please ensure they have the same size.\n",
      "  return F.mse_loss(input, target, reduction=self.reduction)\n",
      "C:\\Users\\lcu1812\\Anaconda3\\envs\\IR\\lib\\site-packages\\torch\\nn\\modules\\loss.py:528: UserWarning: Using a target size (torch.Size([1, 35])) that is different to the input size (torch.Size([35, 1])). This will likely lead to incorrect results due to broadcasting. Please ensure they have the same size.\n",
      "  return F.mse_loss(input, target, reduction=self.reduction)\n",
      "C:\\Users\\lcu1812\\Anaconda3\\envs\\IR\\lib\\site-packages\\torch\\nn\\modules\\loss.py:528: UserWarning: Using a target size (torch.Size([1, 34])) that is different to the input size (torch.Size([34, 1])). This will likely lead to incorrect results due to broadcasting. Please ensure they have the same size.\n",
      "  return F.mse_loss(input, target, reduction=self.reduction)\n",
      "C:\\Users\\lcu1812\\Anaconda3\\envs\\IR\\lib\\site-packages\\torch\\nn\\modules\\loss.py:528: UserWarning: Using a target size (torch.Size([1, 46])) that is different to the input size (torch.Size([46, 1])). This will likely lead to incorrect results due to broadcasting. Please ensure they have the same size.\n",
      "  return F.mse_loss(input, target, reduction=self.reduction)\n",
      "C:\\Users\\lcu1812\\Anaconda3\\envs\\IR\\lib\\site-packages\\torch\\nn\\modules\\loss.py:528: UserWarning: Using a target size (torch.Size([1, 47])) that is different to the input size (torch.Size([47, 1])). This will likely lead to incorrect results due to broadcasting. Please ensure they have the same size.\n",
      "  return F.mse_loss(input, target, reduction=self.reduction)\n",
      "C:\\Users\\lcu1812\\Anaconda3\\envs\\IR\\lib\\site-packages\\torch\\nn\\modules\\loss.py:528: UserWarning: Using a target size (torch.Size([1, 36])) that is different to the input size (torch.Size([36, 1])). This will likely lead to incorrect results due to broadcasting. Please ensure they have the same size.\n",
      "  return F.mse_loss(input, target, reduction=self.reduction)\n",
      "C:\\Users\\lcu1812\\Anaconda3\\envs\\IR\\lib\\site-packages\\torch\\nn\\modules\\loss.py:528: UserWarning: Using a target size (torch.Size([1, 49])) that is different to the input size (torch.Size([49, 1])). This will likely lead to incorrect results due to broadcasting. Please ensure they have the same size.\n",
      "  return F.mse_loss(input, target, reduction=self.reduction)\n",
      "C:\\Users\\lcu1812\\Anaconda3\\envs\\IR\\lib\\site-packages\\torch\\nn\\modules\\loss.py:528: UserWarning: Using a target size (torch.Size([1, 43])) that is different to the input size (torch.Size([43, 1])). This will likely lead to incorrect results due to broadcasting. Please ensure they have the same size.\n",
      "  return F.mse_loss(input, target, reduction=self.reduction)\n",
      "C:\\Users\\lcu1812\\Anaconda3\\envs\\IR\\lib\\site-packages\\torch\\nn\\modules\\loss.py:528: UserWarning: Using a target size (torch.Size([1, 37])) that is different to the input size (torch.Size([37, 1])). This will likely lead to incorrect results due to broadcasting. Please ensure they have the same size.\n",
      "  return F.mse_loss(input, target, reduction=self.reduction)\n",
      "C:\\Users\\lcu1812\\Anaconda3\\envs\\IR\\lib\\site-packages\\torch\\nn\\modules\\loss.py:528: UserWarning: Using a target size (torch.Size([1, 48])) that is different to the input size (torch.Size([48, 1])). This will likely lead to incorrect results due to broadcasting. Please ensure they have the same size.\n",
      "  return F.mse_loss(input, target, reduction=self.reduction)\n",
      "C:\\Users\\lcu1812\\Anaconda3\\envs\\IR\\lib\\site-packages\\torch\\nn\\modules\\loss.py:528: UserWarning: Using a target size (torch.Size([1, 39])) that is different to the input size (torch.Size([39, 1])). This will likely lead to incorrect results due to broadcasting. Please ensure they have the same size.\n",
      "  return F.mse_loss(input, target, reduction=self.reduction)\n",
      "C:\\Users\\lcu1812\\Anaconda3\\envs\\IR\\lib\\site-packages\\torch\\nn\\modules\\loss.py:528: UserWarning: Using a target size (torch.Size([1, 31])) that is different to the input size (torch.Size([31, 1])). This will likely lead to incorrect results due to broadcasting. Please ensure they have the same size.\n",
      "  return F.mse_loss(input, target, reduction=self.reduction)\n",
      "C:\\Users\\lcu1812\\Anaconda3\\envs\\IR\\lib\\site-packages\\torch\\nn\\modules\\loss.py:528: UserWarning: Using a target size (torch.Size([1, 32])) that is different to the input size (torch.Size([32, 1])). This will likely lead to incorrect results due to broadcasting. Please ensure they have the same size.\n",
      "  return F.mse_loss(input, target, reduction=self.reduction)\n",
      "C:\\Users\\lcu1812\\Anaconda3\\envs\\IR\\lib\\site-packages\\torch\\nn\\modules\\loss.py:528: UserWarning: Using a target size (torch.Size([1, 44])) that is different to the input size (torch.Size([44, 1])). This will likely lead to incorrect results due to broadcasting. Please ensure they have the same size.\n",
      "  return F.mse_loss(input, target, reduction=self.reduction)\n",
      "C:\\Users\\lcu1812\\Anaconda3\\envs\\IR\\lib\\site-packages\\ipykernel_launcher.py:17: UserWarning: To copy construct from a tensor, it is recommended to use sourceTensor.clone().detach() or sourceTensor.clone().detach().requires_grad_(True), rather than torch.tensor(sourceTensor).\n",
      "C:\\Users\\lcu1812\\Anaconda3\\envs\\IR\\lib\\site-packages\\ipykernel_launcher.py:17: UserWarning: To copy construct from a tensor, it is recommended to use sourceTensor.clone().detach() or sourceTensor.clone().detach().requires_grad_(True), rather than torch.tensor(sourceTensor).\n"
     ]
    },
    {
     "data": {
      "image/png": "[encoded data removed]",
      "text/plain": [
       "<Figure size 432x288 with 1 Axes>"
      ]
     },
     "metadata": {
      "needs_background": "light"
     },
     "output_type": "display_data"
    },
    {
     "data": {
      "image/png": "[encoded data removed]",
      "text/plain": [
       "<Figure size 432x288 with 1 Axes>"
      ]
     },
     "metadata": {
      "needs_background": "light"
     },
     "output_type": "display_data"
    },
    {
     "data": {
      "image/png": "[encoded data removed]",
      "text/plain": [
       "<Figure size 432x288 with 1 Axes>"
      ]
     },
     "metadata": {
      "needs_background": "light"
     },
     "output_type": "display_data"
    }
   ],
   "source": [
    "plot_ndcg10(batches, 'pointwise')\n",
    "\n",
    "plot_ndcg10(batches, 'pairwise')\n",
    "\n",
    "plot_ndcg10(batches, 'listwise')"
   ]
  },
  {
   "cell_type": "markdown",
   "metadata": {
    "id": "dBtoCagKdLIp"
   },
   "source": [
    "Write a conclusion in the next cell, considering (40 points):\n",
    "- rates of convergence\n",
    "- time complexity\n",
    "- distinguishing relevant and non-relevant items\n",
    "- performance for low data wrt NDCG@10\n",
    "- performance across queries\n",
    "- ... any other observations"
   ]
  },
  {
   "cell_type": "markdown",
   "metadata": {
    "id": "ggRS0kNNdLIp"
   },
   "source": [
    "YOUR ANSWER HERE"
   ]
  },
  {
   "cell_type": "markdown",
   "metadata": {
    "id": "fonheg_na3iZ"
   },
   "source": [
    "## Pointwise\n",
    "### rate of convergence\n",
    "The network does not converge using the pointwise loss function. Reasons for this may be, in order of  descending likelihood: \n",
    "- incorrect implementation\n",
    "- Using regression for a non-regression problem\n",
    "- insufficient model complexity (i.e. not enough layers, not wide enough layers\n",
    "- insufficient data\n",
    "- bad quality of data\n",
    "\n",
    "## time complexity\n"
   ]
  }
 ],
 "metadata": {
  "colab": {
   "collapsed_sections": [],
   "name": "hw2_JTL.ipynb",
   "provenance": []
  },
  "kernelspec": {
   "display_name": "Python [conda env:IR]",
   "language": "python",
   "name": "conda-env-IR-py"
  },
  "language_info": {
   "codemirror_mode": {
    "name": "ipython",
    "version": 3
   },
   "file_extension": ".py",
   "mimetype": "text/x-python",
   "name": "python",
   "nbconvert_exporter": "python",
   "pygments_lexer": "ipython3",
   "version": "3.6.5"
  },
  "toc": {
   "base_numbering": "",
   "nav_menu": {},
   "number_sections": false,
   "sideBar": true,
   "skip_h1_title": false,
   "title_cell": "Table of Contents",
   "title_sidebar": "Contents",
   "toc_cell": false,
   "toc_position": {
    "height": "calc(100% - 180px)",
    "left": "10px",
    "top": "150px",
    "width": "280px"
   },
   "toc_section_display": true,
   "toc_window_display": true
  },
  "widgets": {
   "application/vnd.jupyter.widget-state+json": {
    "00d0d9b1e5f142c89bdbd10f974869dd": {
     "model_module": "@jupyter-widgets/base",
     "model_module_version": "1.2.0",
     "model_name": "LayoutModel",
     "state": {
      "_model_module": "@jupyter-widgets/base",
      "_model_module_version": "1.2.0",
      "_model_name": "LayoutModel",
      "_view_count": null,
      "_view_module": "@jupyter-widgets/base",
      "_view_module_version": "1.2.0",
      "_view_name": "LayoutView",
      "align_content": null,
      "align_items": null,
      "align_self": null,
      "border": null,
      "bottom": null,
      "display": null,
      "flex": null,
      "flex_flow": null,
      "grid_area": null,
      "grid_auto_columns": null,
      "grid_auto_flow": null,
      "grid_auto_rows": null,
      "grid_column": null,
      "grid_gap": null,
      "grid_row": null,
      "grid_template_areas": null,
      "grid_template_columns": null,
      "grid_template_rows": null,
      "height": null,
      "justify_content": null,
      "justify_items": null,
      "left": null,
      "margin": null,
      "max_height": null,
      "max_width": null,
      "min_height": null,
      "min_width": null,
      "object_fit": null,
      "object_position": null,
      "order": null,
      "overflow": null,
      "overflow_x": null,
      "overflow_y": null,
      "padding": null,
      "right": null,
      "top": null,
      "visibility": null,
      "width": null
     }
    },
    "01f6ec8f67374752ae37c2839778d4ad": {
     "model_module": "@jupyter-widgets/controls",
     "model_module_version": "1.5.0",
     "model_name": "FloatProgressModel",
     "state": {
      "_dom_classes": [],
      "_model_module": "@jupyter-widgets/controls",
      "_model_module_version": "1.5.0",
      "_model_name": "FloatProgressModel",
      "_view_count": null,
      "_view_module": "@jupyter-widgets/controls",
      "_view_module_version": "1.5.0",
      "_view_name": "ProgressView",
      "bar_style": "",
      "description": "Eval (train): 100%",
      "description_tooltip": null,
      "layout": "IPY_MODEL_38514a57f9714c3b803c5f230bdc8761",
      "max": 333,
      "min": 0,
      "orientation": "horizontal",
      "style": "IPY_MODEL_814be7ef7b1145e28ae48fff4d0aacb9",
      "value": 333
     }
    },
    "02ac2a01c27640498d75bd6d6c6dc116": {
     "model_module": "@jupyter-widgets/controls",
     "model_module_version": "1.5.0",
     "model_name": "HBoxModel",
     "state": {
      "_dom_classes": [],
      "_model_module": "@jupyter-widgets/controls",
      "_model_module_version": "1.5.0",
      "_model_name": "HBoxModel",
      "_view_count": null,
      "_view_module": "@jupyter-widgets/controls",
      "_view_module_version": "1.5.0",
      "_view_name": "HBoxView",
      "box_style": "",
      "children": [
       "IPY_MODEL_b2e38d5264f74758b0682f964beccf1d",
       "IPY_MODEL_5d430742568a43d887f74de2b13f46aa"
      ],
      "layout": "IPY_MODEL_e7cd2d955cf6462086e5339dd9c45ffa"
     }
    },
    "03ac900e0aa04e2a967ad8fc3f433b1d": {
     "model_module": "@jupyter-widgets/controls",
     "model_module_version": "1.5.0",
     "model_name": "HTMLModel",
     "state": {
      "_dom_classes": [],
      "_model_module": "@jupyter-widgets/controls",
      "_model_module_version": "1.5.0",
      "_model_name": "HTMLModel",
      "_view_count": null,
      "_view_module": "@jupyter-widgets/controls",
      "_view_module_version": "1.5.0",
      "_view_name": "HTMLView",
      "description": "",
      "description_tooltip": null,
      "layout": "IPY_MODEL_5386400fd71244ad8c1aec343b6a5c19",
      "placeholder": "​",
      "style": "IPY_MODEL_3eb31ae03cc0475c8430cfbdb91f114c",
      "value": " 50/50 [00:00&lt;00:00, 172.03it/s]"
     }
    },
    "03de8e9a14a24edd85d1c6c4baee2d48": {
     "model_module": "@jupyter-widgets/controls",
     "model_module_version": "1.5.0",
     "model_name": "HBoxModel",
     "state": {
      "_dom_classes": [],
      "_model_module": "@jupyter-widgets/controls",
      "_model_module_version": "1.5.0",
      "_model_name": "HBoxModel",
      "_view_count": null,
      "_view_module": "@jupyter-widgets/controls",
      "_view_module_version": "1.5.0",
      "_view_name": "HBoxView",
      "box_style": "",
      "children": [
       "IPY_MODEL_676110b1531047b3b9476d4c1ac9d4ab",
       "IPY_MODEL_8194440074c24a0f920e4c5de8e9c011"
      ],
      "layout": "IPY_MODEL_e7bc2b369c3c4c3a8827b081a094da7c"
     }
    },
    "051b513835274dc98756d39a6be05aa3": {
     "model_module": "@jupyter-widgets/controls",
     "model_module_version": "1.5.0",
     "model_name": "FloatProgressModel",
     "state": {
      "_dom_classes": [],
      "_model_module": "@jupyter-widgets/controls",
      "_model_module_version": "1.5.0",
      "_model_name": "FloatProgressModel",
      "_view_count": null,
      "_view_module": "@jupyter-widgets/controls",
      "_view_module_version": "1.5.0",
      "_view_name": "ProgressView",
      "bar_style": "",
      "description": "Eval (validation): 100%",
      "description_tooltip": null,
      "layout": "IPY_MODEL_4429accc0efa462bb053e2d627d493fc",
      "max": 50,
      "min": 0,
      "orientation": "horizontal",
      "style": "IPY_MODEL_2577aaaa146547588f26d923a988c87e",
      "value": 50
     }
    },
    "0858119152f74c47866063c0ddfb8ad0": {
     "model_module": "@jupyter-widgets/base",
     "model_module_version": "1.2.0",
     "model_name": "LayoutModel",
     "state": {
      "_model_module": "@jupyter-widgets/base",
      "_model_module_version": "1.2.0",
      "_model_name": "LayoutModel",
      "_view_count": null,
      "_view_module": "@jupyter-widgets/base",
      "_view_module_version": "1.2.0",
      "_view_name": "LayoutView",
      "align_content": null,
      "align_items": null,
      "align_self": null,
      "border": null,
      "bottom": null,
      "display": null,
      "flex": null,
      "flex_flow": null,
      "grid_area": null,
      "grid_auto_columns": null,
      "grid_auto_flow": null,
      "grid_auto_rows": null,
      "grid_column": null,
      "grid_gap": null,
      "grid_row": null,
      "grid_template_areas": null,
      "grid_template_columns": null,
      "grid_template_rows": null,
      "height": null,
      "justify_content": null,
      "justify_items": null,
      "left": null,
      "margin": null,
      "max_height": null,
      "max_width": null,
      "min_height": null,
      "min_width": null,
      "object_fit": null,
      "object_position": null,
      "order": null,
      "overflow": null,
      "overflow_x": null,
      "overflow_y": null,
      "padding": null,
      "right": null,
      "top": null,
      "visibility": null,
      "width": null
     }
    },
    "08d897cea6324a2db72619c5b8d549f3": {
     "model_module": "@jupyter-widgets/controls",
     "model_module_version": "1.5.0",
     "model_name": "HBoxModel",
     "state": {
      "_dom_classes": [],
      "_model_module": "@jupyter-widgets/controls",
      "_model_module_version": "1.5.0",
      "_model_name": "HBoxModel",
      "_view_count": null,
      "_view_module": "@jupyter-widgets/controls",
      "_view_module_version": "1.5.0",
      "_view_name": "HBoxView",
      "box_style": "",
      "children": [
       "IPY_MODEL_2b1b1f36baac41f98d17fbae8e947492",
       "IPY_MODEL_46feabc1256a485a977d3b01c0be17e1"
      ],
      "layout": "IPY_MODEL_b79cb56ea35845d2a3fd14e7bafac265"
     }
    },
    "0a61eb6ee8084d36acab72d366a8a1a4": {
     "model_module": "@jupyter-widgets/controls",
     "model_module_version": "1.5.0",
     "model_name": "DescriptionStyleModel",
     "state": {
      "_model_module": "@jupyter-widgets/controls",
      "_model_module_version": "1.5.0",
      "_model_name": "DescriptionStyleModel",
      "_view_count": null,
      "_view_module": "@jupyter-widgets/base",
      "_view_module_version": "1.2.0",
      "_view_name": "StyleView",
      "description_width": ""
     }
    },
    "0b61e6a902b141199adc05666f38238d": {
     "model_module": "@jupyter-widgets/controls",
     "model_module_version": "1.5.0",
     "model_name": "FloatProgressModel",
     "state": {
      "_dom_classes": [],
      "_model_module": "@jupyter-widgets/controls",
      "_model_module_version": "1.5.0",
      "_model_name": "FloatProgressModel",
      "_view_count": null,
      "_view_module": "@jupyter-widgets/controls",
      "_view_module_version": "1.5.0",
      "_view_name": "ProgressView",
      "bar_style": "",
      "description": "Eval (validation): 100%",
      "description_tooltip": null,
      "layout": "IPY_MODEL_3cb28a89a49b473fa9d53f49366dda5d",
      "max": 50,
      "min": 0,
      "orientation": "horizontal",
      "style": "IPY_MODEL_579a8114e1db4ed1b036fbe2c18bf6dd",
      "value": 50
     }
    },
    "0d4f695b9fa243859dafad5d3096bed5": {
     "model_module": "@jupyter-widgets/controls",
     "model_module_version": "1.5.0",
     "model_name": "FloatProgressModel",
     "state": {
      "_dom_classes": [],
      "_model_module": "@jupyter-widgets/controls",
      "_model_module_version": "1.5.0",
      "_model_name": "FloatProgressModel",
      "_view_count": null,
      "_view_module": "@jupyter-widgets/controls",
      "_view_module_version": "1.5.0",
      "_view_name": "ProgressView",
      "bar_style": "",
      "description": "Eval (validation): 100%",
      "description_tooltip": null,
      "layout": "IPY_MODEL_84ef31e9e3a849a6bd576e5e3d82e203",
      "max": 50,
      "min": 0,
      "orientation": "horizontal",
      "style": "IPY_MODEL_eb226056499a4900831449baa2652baf",
      "value": 50
     }
    },
    "0ee30b20c2aa4e95b9f3e09f57e1bdbc": {
     "model_module": "@jupyter-widgets/base",
     "model_module_version": "1.2.0",
     "model_name": "LayoutModel",
     "state": {
      "_model_module": "@jupyter-widgets/base",
      "_model_module_version": "1.2.0",
      "_model_name": "LayoutModel",
      "_view_count": null,
      "_view_module": "@jupyter-widgets/base",
      "_view_module_version": "1.2.0",
      "_view_name": "LayoutView",
      "align_content": null,
      "align_items": null,
      "align_self": null,
      "border": null,
      "bottom": null,
      "display": null,
      "flex": null,
      "flex_flow": null,
      "grid_area": null,
      "grid_auto_columns": null,
      "grid_auto_flow": null,
      "grid_auto_rows": null,
      "grid_column": null,
      "grid_gap": null,
      "grid_row": null,
      "grid_template_areas": null,
      "grid_template_columns": null,
      "grid_template_rows": null,
      "height": null,
      "justify_content": null,
      "justify_items": null,
      "left": null,
      "margin": null,
      "max_height": null,
      "max_width": null,
      "min_height": null,
      "min_width": null,
      "object_fit": null,
      "object_position": null,
      "order": null,
      "overflow": null,
      "overflow_x": null,
      "overflow_y": null,
      "padding": null,
      "right": null,
      "top": null,
      "visibility": null,
      "width": null
     }
    },
    "11b8185c05c54f1ca56be6a4dd30a211": {
     "model_module": "@jupyter-widgets/controls",
     "model_module_version": "1.5.0",
     "model_name": "DescriptionStyleModel",
     "state": {
      "_model_module": "@jupyter-widgets/controls",
      "_model_module_version": "1.5.0",
      "_model_name": "DescriptionStyleModel",
      "_view_count": null,
      "_view_module": "@jupyter-widgets/base",
      "_view_module_version": "1.2.0",
      "_view_name": "StyleView",
      "description_width": ""
     }
    },
    "1205ef052acc45f984a1c8964f7e4af3": {
     "model_module": "@jupyter-widgets/base",
     "model_module_version": "1.2.0",
     "model_name": "LayoutModel",
     "state": {
      "_model_module": "@jupyter-widgets/base",
      "_model_module_version": "1.2.0",
      "_model_name": "LayoutModel",
      "_view_count": null,
      "_view_module": "@jupyter-widgets/base",
      "_view_module_version": "1.2.0",
      "_view_name": "LayoutView",
      "align_content": null,
      "align_items": null,
      "align_self": null,
      "border": null,
      "bottom": null,
      "display": null,
      "flex": null,
      "flex_flow": null,
      "grid_area": null,
      "grid_auto_columns": null,
      "grid_auto_flow": null,
      "grid_auto_rows": null,
      "grid_column": null,
      "grid_gap": null,
      "grid_row": null,
      "grid_template_areas": null,
      "grid_template_columns": null,
      "grid_template_rows": null,
      "height": null,
      "justify_content": null,
      "justify_items": null,
      "left": null,
      "margin": null,
      "max_height": null,
      "max_width": null,
      "min_height": null,
      "min_width": null,
      "object_fit": null,
      "object_position": null,
      "order": null,
      "overflow": null,
      "overflow_x": null,
      "overflow_y": null,
      "padding": null,
      "right": null,
      "top": null,
      "visibility": null,
      "width": null
     }
    },
    "127e314344294f60b060f53d266ab49d": {
     "model_module": "@jupyter-widgets/base",
     "model_module_version": "1.2.0",
     "model_name": "LayoutModel",
     "state": {
      "_model_module": "@jupyter-widgets/base",
      "_model_module_version": "1.2.0",
      "_model_name": "LayoutModel",
      "_view_count": null,
      "_view_module": "@jupyter-widgets/base",
      "_view_module_version": "1.2.0",
      "_view_name": "LayoutView",
      "align_content": null,
      "align_items": null,
      "align_self": null,
      "border": null,
      "bottom": null,
      "display": null,
      "flex": null,
      "flex_flow": null,
      "grid_area": null,
      "grid_auto_columns": null,
      "grid_auto_flow": null,
      "grid_auto_rows": null,
      "grid_column": null,
      "grid_gap": null,
      "grid_row": null,
      "grid_template_areas": null,
      "grid_template_columns": null,
      "grid_template_rows": null,
      "height": null,
      "justify_content": null,
      "justify_items": null,
      "left": null,
      "margin": null,
      "max_height": null,
      "max_width": null,
      "min_height": null,
      "min_width": null,
      "object_fit": null,
      "object_position": null,
      "order": null,
      "overflow": null,
      "overflow_x": null,
      "overflow_y": null,
      "padding": null,
      "right": null,
      "top": null,
      "visibility": null,
      "width": null
     }
    },
    "128cea568cd841bbbc70642a2f0c6ebb": {
     "model_module": "@jupyter-widgets/base",
     "model_module_version": "1.2.0",
     "model_name": "LayoutModel",
     "state": {
      "_model_module": "@jupyter-widgets/base",
      "_model_module_version": "1.2.0",
      "_model_name": "LayoutModel",
      "_view_count": null,
      "_view_module": "@jupyter-widgets/base",
      "_view_module_version": "1.2.0",
      "_view_name": "LayoutView",
      "align_content": null,
      "align_items": null,
      "align_self": null,
      "border": null,
      "bottom": null,
      "display": null,
      "flex": null,
      "flex_flow": null,
      "grid_area": null,
      "grid_auto_columns": null,
      "grid_auto_flow": null,
      "grid_auto_rows": null,
      "grid_column": null,
      "grid_gap": null,
      "grid_row": null,
      "grid_template_areas": null,
      "grid_template_columns": null,
      "grid_template_rows": null,
      "height": null,
      "justify_content": null,
      "justify_items": null,
      "left": null,
      "margin": null,
      "max_height": null,
      "max_width": null,
      "min_height": null,
      "min_width": null,
      "object_fit": null,
      "object_position": null,
      "order": null,
      "overflow": null,
      "overflow_x": null,
      "overflow_y": null,
      "padding": null,
      "right": null,
      "top": null,
      "visibility": null,
      "width": null
     }
    },
    "153a2a7783d74697b34dc2befe3dad85": {
     "model_module": "@jupyter-widgets/controls",
     "model_module_version": "1.5.0",
     "model_name": "DescriptionStyleModel",
     "state": {
      "_model_module": "@jupyter-widgets/controls",
      "_model_module_version": "1.5.0",
      "_model_name": "DescriptionStyleModel",
      "_view_count": null,
      "_view_module": "@jupyter-widgets/base",
      "_view_module_version": "1.2.0",
      "_view_name": "StyleView",
      "description_width": ""
     }
    },
    "1a18256d49084eb7ab6f778557776d59": {
     "model_module": "@jupyter-widgets/controls",
     "model_module_version": "1.5.0",
     "model_name": "HBoxModel",
     "state": {
      "_dom_classes": [],
      "_model_module": "@jupyter-widgets/controls",
      "_model_module_version": "1.5.0",
      "_model_name": "HBoxModel",
      "_view_count": null,
      "_view_module": "@jupyter-widgets/controls",
      "_view_module_version": "1.5.0",
      "_view_name": "HBoxView",
      "box_style": "",
      "children": [
       "IPY_MODEL_436bf3fe31d04c17bf990c962ce14384",
       "IPY_MODEL_9a42f5521b1e44db8e4109076277d31e"
      ],
      "layout": "IPY_MODEL_478e36aa95c8404ea0033febbc820aa5"
     }
    },
    "1b67bf0b10cc4a97bbd5fac15449e375": {
     "model_module": "@jupyter-widgets/controls",
     "model_module_version": "1.5.0",
     "model_name": "DescriptionStyleModel",
     "state": {
      "_model_module": "@jupyter-widgets/controls",
      "_model_module_version": "1.5.0",
      "_model_name": "DescriptionStyleModel",
      "_view_count": null,
      "_view_module": "@jupyter-widgets/base",
      "_view_module_version": "1.2.0",
      "_view_name": "StyleView",
      "description_width": ""
     }
    },
    "1e2b37ca803847c19197e32cec158481": {
     "model_module": "@jupyter-widgets/base",
     "model_module_version": "1.2.0",
     "model_name": "LayoutModel",
     "state": {
      "_model_module": "@jupyter-widgets/base",
      "_model_module_version": "1.2.0",
      "_model_name": "LayoutModel",
      "_view_count": null,
      "_view_module": "@jupyter-widgets/base",
      "_view_module_version": "1.2.0",
      "_view_name": "LayoutView",
      "align_content": null,
      "align_items": null,
      "align_self": null,
      "border": null,
      "bottom": null,
      "display": null,
      "flex": null,
      "flex_flow": null,
      "grid_area": null,
      "grid_auto_columns": null,
      "grid_auto_flow": null,
      "grid_auto_rows": null,
      "grid_column": null,
      "grid_gap": null,
      "grid_row": null,
      "grid_template_areas": null,
      "grid_template_columns": null,
      "grid_template_rows": null,
      "height": null,
      "justify_content": null,
      "justify_items": null,
      "left": null,
      "margin": null,
      "max_height": null,
      "max_width": null,
      "min_height": null,
      "min_width": null,
      "object_fit": null,
      "object_position": null,
      "order": null,
      "overflow": null,
      "overflow_x": null,
      "overflow_y": null,
      "padding": null,
      "right": null,
      "top": null,
      "visibility": null,
      "width": null
     }
    },
    "1e8d946bb74f4bde81e88865e6486e3d": {
     "model_module": "@jupyter-widgets/controls",
     "model_module_version": "1.5.0",
     "model_name": "HBoxModel",
     "state": {
      "_dom_classes": [],
      "_model_module": "@jupyter-widgets/controls",
      "_model_module_version": "1.5.0",
      "_model_name": "HBoxModel",
      "_view_count": null,
      "_view_module": "@jupyter-widgets/controls",
      "_view_module_version": "1.5.0",
      "_view_name": "HBoxView",
      "box_style": "",
      "children": [
       "IPY_MODEL_60d6d3dce582463faa602403374482b8",
       "IPY_MODEL_77a192903e2d4ba49dfd859f975b581d"
      ],
      "layout": "IPY_MODEL_fc51861d932e43c8b601d6812a770204"
     }
    },
    "1f60e69b77cd4213b3c0553599e216dd": {
     "model_module": "@jupyter-widgets/base",
     "model_module_version": "1.2.0",
     "model_name": "LayoutModel",
     "state": {
      "_model_module": "@jupyter-widgets/base",
      "_model_module_version": "1.2.0",
      "_model_name": "LayoutModel",
      "_view_count": null,
      "_view_module": "@jupyter-widgets/base",
      "_view_module_version": "1.2.0",
      "_view_name": "LayoutView",
      "align_content": null,
      "align_items": null,
      "align_self": null,
      "border": null,
      "bottom": null,
      "display": null,
      "flex": null,
      "flex_flow": null,
      "grid_area": null,
      "grid_auto_columns": null,
      "grid_auto_flow": null,
      "grid_auto_rows": null,
      "grid_column": null,
      "grid_gap": null,
      "grid_row": null,
      "grid_template_areas": null,
      "grid_template_columns": null,
      "grid_template_rows": null,
      "height": null,
      "justify_content": null,
      "justify_items": null,
      "left": null,
      "margin": null,
      "max_height": null,
      "max_width": null,
      "min_height": null,
      "min_width": null,
      "object_fit": null,
      "object_position": null,
      "order": null,
      "overflow": null,
      "overflow_x": null,
      "overflow_y": null,
      "padding": null,
      "right": null,
      "top": null,
      "visibility": null,
      "width": null
     }
    },
    "2266167a646c4a3db591772b58622b92": {
     "model_module": "@jupyter-widgets/controls",
     "model_module_version": "1.5.0",
     "model_name": "DescriptionStyleModel",
     "state": {
      "_model_module": "@jupyter-widgets/controls",
      "_model_module_version": "1.5.0",
      "_model_name": "DescriptionStyleModel",
      "_view_count": null,
      "_view_module": "@jupyter-widgets/base",
      "_view_module_version": "1.2.0",
      "_view_name": "StyleView",
      "description_width": ""
     }
    },
    "25341c0dac3f4e819a7bcc064e4eb67b": {
     "model_module": "@jupyter-widgets/controls",
     "model_module_version": "1.5.0",
     "model_name": "ProgressStyleModel",
     "state": {
      "_model_module": "@jupyter-widgets/controls",
      "_model_module_version": "1.5.0",
      "_model_name": "ProgressStyleModel",
      "_view_count": null,
      "_view_module": "@jupyter-widgets/base",
      "_view_module_version": "1.2.0",
      "_view_name": "StyleView",
      "bar_color": null,
      "description_width": "initial"
     }
    },
    "2577aaaa146547588f26d923a988c87e": {
     "model_module": "@jupyter-widgets/controls",
     "model_module_version": "1.5.0",
     "model_name": "ProgressStyleModel",
     "state": {
      "_model_module": "@jupyter-widgets/controls",
      "_model_module_version": "1.5.0",
      "_model_name": "ProgressStyleModel",
      "_view_count": null,
      "_view_module": "@jupyter-widgets/base",
      "_view_module_version": "1.2.0",
      "_view_name": "StyleView",
      "bar_color": null,
      "description_width": "initial"
     }
    },
    "272e5640f4df4834abad4a5a0b0c0a2b": {
     "model_module": "@jupyter-widgets/controls",
     "model_module_version": "1.5.0",
     "model_name": "FloatProgressModel",
     "state": {
      "_dom_classes": [],
      "_model_module": "@jupyter-widgets/controls",
      "_model_module_version": "1.5.0",
      "_model_name": "FloatProgressModel",
      "_view_count": null,
      "_view_module": "@jupyter-widgets/controls",
      "_view_module_version": "1.5.0",
      "_view_name": "ProgressView",
      "bar_style": "",
      "description": "Eval (validation): 100%",
      "description_tooltip": null,
      "layout": "IPY_MODEL_00d0d9b1e5f142c89bdbd10f974869dd",
      "max": 50,
      "min": 0,
      "orientation": "horizontal",
      "style": "IPY_MODEL_957177d7b8c04f20824dc51eefda1d13",
      "value": 50
     }
    },
    "2b1b1f36baac41f98d17fbae8e947492": {
     "model_module": "@jupyter-widgets/controls",
     "model_module_version": "1.5.0",
     "model_name": "FloatProgressModel",
     "state": {
      "_dom_classes": [],
      "_model_module": "@jupyter-widgets/controls",
      "_model_module_version": "1.5.0",
      "_model_name": "FloatProgressModel",
      "_view_count": null,
      "_view_module": "@jupyter-widgets/controls",
      "_view_module_version": "1.5.0",
      "_view_name": "ProgressView",
      "bar_style": "",
      "description": "Eval (train): 100%",
      "description_tooltip": null,
      "layout": "IPY_MODEL_a83954fd1da64989b6b24c290c443a14",
      "max": 333,
      "min": 0,
      "orientation": "horizontal",
      "style": "IPY_MODEL_a284b909979d4b7db28bd0edd3f74da4",
      "value": 333
     }
    },
    "2ce07cb7d629428fa33cce1caeb3964b": {
     "model_module": "@jupyter-widgets/base",
     "model_module_version": "1.2.0",
     "model_name": "LayoutModel",
     "state": {
      "_model_module": "@jupyter-widgets/base",
      "_model_module_version": "1.2.0",
      "_model_name": "LayoutModel",
      "_view_count": null,
      "_view_module": "@jupyter-widgets/base",
      "_view_module_version": "1.2.0",
      "_view_name": "LayoutView",
      "align_content": null,
      "align_items": null,
      "align_self": null,
      "border": null,
      "bottom": null,
      "display": null,
      "flex": null,
      "flex_flow": null,
      "grid_area": null,
      "grid_auto_columns": null,
      "grid_auto_flow": null,
      "grid_auto_rows": null,
      "grid_column": null,
      "grid_gap": null,
      "grid_row": null,
      "grid_template_areas": null,
      "grid_template_columns": null,
      "grid_template_rows": null,
      "height": null,
      "justify_content": null,
      "justify_items": null,
      "left": null,
      "margin": null,
      "max_height": null,
      "max_width": null,
      "min_height": null,
      "min_width": null,
      "object_fit": null,
      "object_position": null,
      "order": null,
      "overflow": null,
      "overflow_x": null,
      "overflow_y": null,
      "padding": null,
      "right": null,
      "top": null,
      "visibility": null,
      "width": null
     }
    },
    "2d80ee7fdbe640eb990f9d8dcc8e26d4": {
     "model_module": "@jupyter-widgets/base",
     "model_module_version": "1.2.0",
     "model_name": "LayoutModel",
     "state": {
      "_model_module": "@jupyter-widgets/base",
      "_model_module_version": "1.2.0",
      "_model_name": "LayoutModel",
      "_view_count": null,
      "_view_module": "@jupyter-widgets/base",
      "_view_module_version": "1.2.0",
      "_view_name": "LayoutView",
      "align_content": null,
      "align_items": null,
      "align_self": null,
      "border": null,
      "bottom": null,
      "display": null,
      "flex": null,
      "flex_flow": null,
      "grid_area": null,
      "grid_auto_columns": null,
      "grid_auto_flow": null,
      "grid_auto_rows": null,
      "grid_column": null,
      "grid_gap": null,
      "grid_row": null,
      "grid_template_areas": null,
      "grid_template_columns": null,
      "grid_template_rows": null,
      "height": null,
      "justify_content": null,
      "justify_items": null,
      "left": null,
      "margin": null,
      "max_height": null,
      "max_width": null,
      "min_height": null,
      "min_width": null,
      "object_fit": null,
      "object_position": null,
      "order": null,
      "overflow": null,
      "overflow_x": null,
      "overflow_y": null,
      "padding": null,
      "right": null,
      "top": null,
      "visibility": null,
      "width": null
     }
    },
    "313ecdf8d1e9495883d207c8bf17018e": {
     "model_module": "@jupyter-widgets/controls",
     "model_module_version": "1.5.0",
     "model_name": "ProgressStyleModel",
     "state": {
      "_model_module": "@jupyter-widgets/controls",
      "_model_module_version": "1.5.0",
      "_model_name": "ProgressStyleModel",
      "_view_count": null,
      "_view_module": "@jupyter-widgets/base",
      "_view_module_version": "1.2.0",
      "_view_name": "StyleView",
      "bar_color": null,
      "description_width": "initial"
     }
    },
    "317faa4a8f6a461295f84c8f7a5037d8": {
     "model_module": "@jupyter-widgets/base",
     "model_module_version": "1.2.0",
     "model_name": "LayoutModel",
     "state": {
      "_model_module": "@jupyter-widgets/base",
      "_model_module_version": "1.2.0",
      "_model_name": "LayoutModel",
      "_view_count": null,
      "_view_module": "@jupyter-widgets/base",
      "_view_module_version": "1.2.0",
      "_view_name": "LayoutView",
      "align_content": null,
      "align_items": null,
      "align_self": null,
      "border": null,
      "bottom": null,
      "display": null,
      "flex": null,
      "flex_flow": null,
      "grid_area": null,
      "grid_auto_columns": null,
      "grid_auto_flow": null,
      "grid_auto_rows": null,
      "grid_column": null,
      "grid_gap": null,
      "grid_row": null,
      "grid_template_areas": null,
      "grid_template_columns": null,
      "grid_template_rows": null,
      "height": null,
      "justify_content": null,
      "justify_items": null,
      "left": null,
      "margin": null,
      "max_height": null,
      "max_width": null,
      "min_height": null,
      "min_width": null,
      "object_fit": null,
      "object_position": null,
      "order": null,
      "overflow": null,
      "overflow_x": null,
      "overflow_y": null,
      "padding": null,
      "right": null,
      "top": null,
      "visibility": null,
      "width": null
     }
    },
    "31ebece5045d4f2ba922b69e8038d293": {
     "model_module": "@jupyter-widgets/base",
     "model_module_version": "1.2.0",
     "model_name": "LayoutModel",
     "state": {
      "_model_module": "@jupyter-widgets/base",
      "_model_module_version": "1.2.0",
      "_model_name": "LayoutModel",
      "_view_count": null,
      "_view_module": "@jupyter-widgets/base",
      "_view_module_version": "1.2.0",
      "_view_name": "LayoutView",
      "align_content": null,
      "align_items": null,
      "align_self": null,
      "border": null,
      "bottom": null,
      "display": null,
      "flex": null,
      "flex_flow": null,
      "grid_area": null,
      "grid_auto_columns": null,
      "grid_auto_flow": null,
      "grid_auto_rows": null,
      "grid_column": null,
      "grid_gap": null,
      "grid_row": null,
      "grid_template_areas": null,
      "grid_template_columns": null,
      "grid_template_rows": null,
      "height": null,
      "justify_content": null,
      "justify_items": null,
      "left": null,
      "margin": null,
      "max_height": null,
      "max_width": null,
      "min_height": null,
      "min_width": null,
      "object_fit": null,
      "object_position": null,
      "order": null,
      "overflow": null,
      "overflow_x": null,
      "overflow_y": null,
      "padding": null,
      "right": null,
      "top": null,
      "visibility": null,
      "width": null
     }
    },
    "32306396a72140ec877f3b911b61afa6": {
     "model_module": "@jupyter-widgets/base",
     "model_module_version": "1.2.0",
     "model_name": "LayoutModel",
     "state": {
      "_model_module": "@jupyter-widgets/base",
      "_model_module_version": "1.2.0",
      "_model_name": "LayoutModel",
      "_view_count": null,
      "_view_module": "@jupyter-widgets/base",
      "_view_module_version": "1.2.0",
      "_view_name": "LayoutView",
      "align_content": null,
      "align_items": null,
      "align_self": null,
      "border": null,
      "bottom": null,
      "display": null,
      "flex": null,
      "flex_flow": null,
      "grid_area": null,
      "grid_auto_columns": null,
      "grid_auto_flow": null,
      "grid_auto_rows": null,
      "grid_column": null,
      "grid_gap": null,
      "grid_row": null,
      "grid_template_areas": null,
      "grid_template_columns": null,
      "grid_template_rows": null,
      "height": null,
      "justify_content": null,
      "justify_items": null,
      "left": null,
      "margin": null,
      "max_height": null,
      "max_width": null,
      "min_height": null,
      "min_width": null,
      "object_fit": null,
      "object_position": null,
      "order": null,
      "overflow": null,
      "overflow_x": null,
      "overflow_y": null,
      "padding": null,
      "right": null,
      "top": null,
      "visibility": null,
      "width": null
     }
    },
    "32df891b914b4d7085a855d56691e84b": {
     "model_module": "@jupyter-widgets/base",
     "model_module_version": "1.2.0",
     "model_name": "LayoutModel",
     "state": {
      "_model_module": "@jupyter-widgets/base",
      "_model_module_version": "1.2.0",
      "_model_name": "LayoutModel",
      "_view_count": null,
      "_view_module": "@jupyter-widgets/base",
      "_view_module_version": "1.2.0",
      "_view_name": "LayoutView",
      "align_content": null,
      "align_items": null,
      "align_self": null,
      "border": null,
      "bottom": null,
      "display": null,
      "flex": null,
      "flex_flow": null,
      "grid_area": null,
      "grid_auto_columns": null,
      "grid_auto_flow": null,
      "grid_auto_rows": null,
      "grid_column": null,
      "grid_gap": null,
      "grid_row": null,
      "grid_template_areas": null,
      "grid_template_columns": null,
      "grid_template_rows": null,
      "height": null,
      "justify_content": null,
      "justify_items": null,
      "left": null,
      "margin": null,
      "max_height": null,
      "max_width": null,
      "min_height": null,
      "min_width": null,
      "object_fit": null,
      "object_position": null,
      "order": null,
      "overflow": null,
      "overflow_x": null,
      "overflow_y": null,
      "padding": null,
      "right": null,
      "top": null,
      "visibility": null,
      "width": null
     }
    },
    "34660c3256724439aa522910f80e88e2": {
     "model_module": "@jupyter-widgets/controls",
     "model_module_version": "1.5.0",
     "model_name": "FloatProgressModel",
     "state": {
      "_dom_classes": [],
      "_model_module": "@jupyter-widgets/controls",
      "_model_module_version": "1.5.0",
      "_model_name": "FloatProgressModel",
      "_view_count": null,
      "_view_module": "@jupyter-widgets/controls",
      "_view_module_version": "1.5.0",
      "_view_name": "ProgressView",
      "bar_style": "",
      "description": "Eval (validation): 100%",
      "description_tooltip": null,
      "layout": "IPY_MODEL_926c491d7aaa445d87a53af21b6045b1",
      "max": 50,
      "min": 0,
      "orientation": "horizontal",
      "style": "IPY_MODEL_c01a0d709b71427abd99de7b624c5da8",
      "value": 50
     }
    },
    "34f915abb4654f03b916714a9b15719e": {
     "model_module": "@jupyter-widgets/controls",
     "model_module_version": "1.5.0",
     "model_name": "DescriptionStyleModel",
     "state": {
      "_model_module": "@jupyter-widgets/controls",
      "_model_module_version": "1.5.0",
      "_model_name": "DescriptionStyleModel",
      "_view_count": null,
      "_view_module": "@jupyter-widgets/base",
      "_view_module_version": "1.2.0",
      "_view_name": "StyleView",
      "description_width": ""
     }
    },
    "38514a57f9714c3b803c5f230bdc8761": {
     "model_module": "@jupyter-widgets/base",
     "model_module_version": "1.2.0",
     "model_name": "LayoutModel",
     "state": {
      "_model_module": "@jupyter-widgets/base",
      "_model_module_version": "1.2.0",
      "_model_name": "LayoutModel",
      "_view_count": null,
      "_view_module": "@jupyter-widgets/base",
      "_view_module_version": "1.2.0",
      "_view_name": "LayoutView",
      "align_content": null,
      "align_items": null,
      "align_self": null,
      "border": null,
      "bottom": null,
      "display": null,
      "flex": null,
      "flex_flow": null,
      "grid_area": null,
      "grid_auto_columns": null,
      "grid_auto_flow": null,
      "grid_auto_rows": null,
      "grid_column": null,
      "grid_gap": null,
      "grid_row": null,
      "grid_template_areas": null,
      "grid_template_columns": null,
      "grid_template_rows": null,
      "height": null,
      "justify_content": null,
      "justify_items": null,
      "left": null,
      "margin": null,
      "max_height": null,
      "max_width": null,
      "min_height": null,
      "min_width": null,
      "object_fit": null,
      "object_position": null,
      "order": null,
      "overflow": null,
      "overflow_x": null,
      "overflow_y": null,
      "padding": null,
      "right": null,
      "top": null,
      "visibility": null,
      "width": null
     }
    },
    "3a1c1bc1f25e4ccd917a13340d6fad5c": {
     "model_module": "@jupyter-widgets/controls",
     "model_module_version": "1.5.0",
     "model_name": "FloatProgressModel",
     "state": {
      "_dom_classes": [],
      "_model_module": "@jupyter-widgets/controls",
      "_model_module_version": "1.5.0",
      "_model_name": "FloatProgressModel",
      "_view_count": null,
      "_view_module": "@jupyter-widgets/controls",
      "_view_module_version": "1.5.0",
      "_view_name": "ProgressView",
      "bar_style": "",
      "description": "Eval (train): 100%",
      "description_tooltip": null,
      "layout": "IPY_MODEL_32df891b914b4d7085a855d56691e84b",
      "max": 333,
      "min": 0,
      "orientation": "horizontal",
      "style": "IPY_MODEL_f1e144a48a314fbf8ce615cacd2639cf",
      "value": 333
     }
    },
    "3b08782ec645458aa87963142e5f0e12": {
     "model_module": "@jupyter-widgets/controls",
     "model_module_version": "1.5.0",
     "model_name": "FloatProgressModel",
     "state": {
      "_dom_classes": [],
      "_model_module": "@jupyter-widgets/controls",
      "_model_module_version": "1.5.0",
      "_model_name": "FloatProgressModel",
      "_view_count": null,
      "_view_module": "@jupyter-widgets/controls",
      "_view_module_version": "1.5.0",
      "_view_name": "ProgressView",
      "bar_style": "",
      "description": "Eval (test): 100%",
      "description_tooltip": null,
      "layout": "IPY_MODEL_a44232da460a4dd1a632d73e4291b252",
      "max": 117,
      "min": 0,
      "orientation": "horizontal",
      "style": "IPY_MODEL_65232ece164e499599d2718b3a7a7c1d",
      "value": 117
     }
    },
    "3b09531783a54dbd970a9a980b684cbd": {
     "model_module": "@jupyter-widgets/base",
     "model_module_version": "1.2.0",
     "model_name": "LayoutModel",
     "state": {
      "_model_module": "@jupyter-widgets/base",
      "_model_module_version": "1.2.0",
      "_model_name": "LayoutModel",
      "_view_count": null,
      "_view_module": "@jupyter-widgets/base",
      "_view_module_version": "1.2.0",
      "_view_name": "LayoutView",
      "align_content": null,
      "align_items": null,
      "align_self": null,
      "border": null,
      "bottom": null,
      "display": null,
      "flex": null,
      "flex_flow": null,
      "grid_area": null,
      "grid_auto_columns": null,
      "grid_auto_flow": null,
      "grid_auto_rows": null,
      "grid_column": null,
      "grid_gap": null,
      "grid_row": null,
      "grid_template_areas": null,
      "grid_template_columns": null,
      "grid_template_rows": null,
      "height": null,
      "justify_content": null,
      "justify_items": null,
      "left": null,
      "margin": null,
      "max_height": null,
      "max_width": null,
      "min_height": null,
      "min_width": null,
      "object_fit": null,
      "object_position": null,
      "order": null,
      "overflow": null,
      "overflow_x": null,
      "overflow_y": null,
      "padding": null,
      "right": null,
      "top": null,
      "visibility": null,
      "width": null
     }
    },
    "3be50733d1604f378ee61f9972ad1415": {
     "model_module": "@jupyter-widgets/controls",
     "model_module_version": "1.5.0",
     "model_name": "HTMLModel",
     "state": {
      "_dom_classes": [],
      "_model_module": "@jupyter-widgets/controls",
      "_model_module_version": "1.5.0",
      "_model_name": "HTMLModel",
      "_view_count": null,
      "_view_module": "@jupyter-widgets/controls",
      "_view_module_version": "1.5.0",
      "_view_name": "HTMLView",
      "description": "",
      "description_tooltip": null,
      "layout": "IPY_MODEL_56009806327d4e1d8cdfeb90ac36be59",
      "placeholder": "​",
      "style": "IPY_MODEL_c29de37f5b284dfd9087b1ba5b3ba2b3",
      "value": " 333/333 [00:01&lt;00:00, 224.28it/s]"
     }
    },
    "3cb28a89a49b473fa9d53f49366dda5d": {
     "model_module": "@jupyter-widgets/base",
     "model_module_version": "1.2.0",
     "model_name": "LayoutModel",
     "state": {
      "_model_module": "@jupyter-widgets/base",
      "_model_module_version": "1.2.0",
      "_model_name": "LayoutModel",
      "_view_count": null,
      "_view_module": "@jupyter-widgets/base",
      "_view_module_version": "1.2.0",
      "_view_name": "LayoutView",
      "align_content": null,
      "align_items": null,
      "align_self": null,
      "border": null,
      "bottom": null,
      "display": null,
      "flex": null,
      "flex_flow": null,
      "grid_area": null,
      "grid_auto_columns": null,
      "grid_auto_flow": null,
      "grid_auto_rows": null,
      "grid_column": null,
      "grid_gap": null,
      "grid_row": null,
      "grid_template_areas": null,
      "grid_template_columns": null,
      "grid_template_rows": null,
      "height": null,
      "justify_content": null,
      "justify_items": null,
      "left": null,
      "margin": null,
      "max_height": null,
      "max_width": null,
      "min_height": null,
      "min_width": null,
      "object_fit": null,
      "object_position": null,
      "order": null,
      "overflow": null,
      "overflow_x": null,
      "overflow_y": null,
      "padding": null,
      "right": null,
      "top": null,
      "visibility": null,
      "width": null
     }
    },
    "3d5df921ef9c43a98c98e1f4fd0571d9": {
     "model_module": "@jupyter-widgets/base",
     "model_module_version": "1.2.0",
     "model_name": "LayoutModel",
     "state": {
      "_model_module": "@jupyter-widgets/base",
      "_model_module_version": "1.2.0",
      "_model_name": "LayoutModel",
      "_view_count": null,
      "_view_module": "@jupyter-widgets/base",
      "_view_module_version": "1.2.0",
      "_view_name": "LayoutView",
      "align_content": null,
      "align_items": null,
      "align_self": null,
      "border": null,
      "bottom": null,
      "display": null,
      "flex": null,
      "flex_flow": null,
      "grid_area": null,
      "grid_auto_columns": null,
      "grid_auto_flow": null,
      "grid_auto_rows": null,
      "grid_column": null,
      "grid_gap": null,
      "grid_row": null,
      "grid_template_areas": null,
      "grid_template_columns": null,
      "grid_template_rows": null,
      "height": null,
      "justify_content": null,
      "justify_items": null,
      "left": null,
      "margin": null,
      "max_height": null,
      "max_width": null,
      "min_height": null,
      "min_width": null,
      "object_fit": null,
      "object_position": null,
      "order": null,
      "overflow": null,
      "overflow_x": null,
      "overflow_y": null,
      "padding": null,
      "right": null,
      "top": null,
      "visibility": null,
      "width": null
     }
    },
    "3d7feb2ea5df48948100f0d65c02bef8": {
     "model_module": "@jupyter-widgets/controls",
     "model_module_version": "1.5.0",
     "model_name": "HBoxModel",
     "state": {
      "_dom_classes": [],
      "_model_module": "@jupyter-widgets/controls",
      "_model_module_version": "1.5.0",
      "_model_name": "HBoxModel",
      "_view_count": null,
      "_view_module": "@jupyter-widgets/controls",
      "_view_module_version": "1.5.0",
      "_view_name": "HBoxView",
      "box_style": "",
      "children": [
       "IPY_MODEL_b98074cd568a4b82a55ad8c435d72abf",
       "IPY_MODEL_7f8b8ba53196438ca68370946d9bb679"
      ],
      "layout": "IPY_MODEL_ea976cca7d624e658013776fef816b08"
     }
    },
    "3eb31ae03cc0475c8430cfbdb91f114c": {
     "model_module": "@jupyter-widgets/controls",
     "model_module_version": "1.5.0",
     "model_name": "DescriptionStyleModel",
     "state": {
      "_model_module": "@jupyter-widgets/controls",
      "_model_module_version": "1.5.0",
      "_model_name": "DescriptionStyleModel",
      "_view_count": null,
      "_view_module": "@jupyter-widgets/base",
      "_view_module_version": "1.2.0",
      "_view_name": "StyleView",
      "description_width": ""
     }
    },
    "3f7aed16d6684182bc96412c6fa242bf": {
     "model_module": "@jupyter-widgets/base",
     "model_module_version": "1.2.0",
     "model_name": "LayoutModel",
     "state": {
      "_model_module": "@jupyter-widgets/base",
      "_model_module_version": "1.2.0",
      "_model_name": "LayoutModel",
      "_view_count": null,
      "_view_module": "@jupyter-widgets/base",
      "_view_module_version": "1.2.0",
      "_view_name": "LayoutView",
      "align_content": null,
      "align_items": null,
      "align_self": null,
      "border": null,
      "bottom": null,
      "display": null,
      "flex": null,
      "flex_flow": null,
      "grid_area": null,
      "grid_auto_columns": null,
      "grid_auto_flow": null,
      "grid_auto_rows": null,
      "grid_column": null,
      "grid_gap": null,
      "grid_row": null,
      "grid_template_areas": null,
      "grid_template_columns": null,
      "grid_template_rows": null,
      "height": null,
      "justify_content": null,
      "justify_items": null,
      "left": null,
      "margin": null,
      "max_height": null,
      "max_width": null,
      "min_height": null,
      "min_width": null,
      "object_fit": null,
      "object_position": null,
      "order": null,
      "overflow": null,
      "overflow_x": null,
      "overflow_y": null,
      "padding": null,
      "right": null,
      "top": null,
      "visibility": null,
      "width": null
     }
    },
    "40f537e2dd124db4a51fe7f853b74231": {
     "model_module": "@jupyter-widgets/controls",
     "model_module_version": "1.5.0",
     "model_name": "ProgressStyleModel",
     "state": {
      "_model_module": "@jupyter-widgets/controls",
      "_model_module_version": "1.5.0",
      "_model_name": "ProgressStyleModel",
      "_view_count": null,
      "_view_module": "@jupyter-widgets/base",
      "_view_module_version": "1.2.0",
      "_view_name": "StyleView",
      "bar_color": null,
      "description_width": "initial"
     }
    },
    "436bf3fe31d04c17bf990c962ce14384": {
     "model_module": "@jupyter-widgets/controls",
     "model_module_version": "1.5.0",
     "model_name": "FloatProgressModel",
     "state": {
      "_dom_classes": [],
      "_model_module": "@jupyter-widgets/controls",
      "_model_module_version": "1.5.0",
      "_model_name": "FloatProgressModel",
      "_view_count": null,
      "_view_module": "@jupyter-widgets/controls",
      "_view_module_version": "1.5.0",
      "_view_name": "ProgressView",
      "bar_style": "",
      "description": "Eval (validation): 100%",
      "description_tooltip": null,
      "layout": "IPY_MODEL_7b19d3ace9e647adabb9bb66be32c79d",
      "max": 50,
      "min": 0,
      "orientation": "horizontal",
      "style": "IPY_MODEL_4c2e36f6ba0d47b2bf30d2106d72a65d",
      "value": 50
     }
    },
    "43d21b69b8a64102bf939d1393c4d2bb": {
     "model_module": "@jupyter-widgets/controls",
     "model_module_version": "1.5.0",
     "model_name": "HBoxModel",
     "state": {
      "_dom_classes": [],
      "_model_module": "@jupyter-widgets/controls",
      "_model_module_version": "1.5.0",
      "_model_name": "HBoxModel",
      "_view_count": null,
      "_view_module": "@jupyter-widgets/controls",
      "_view_module_version": "1.5.0",
      "_view_name": "HBoxView",
      "box_style": "",
      "children": [
       "IPY_MODEL_6e272d918caa4ee6b0f8645b1265caae",
       "IPY_MODEL_5257d63ca61d4667b38116f4cf3ae450"
      ],
      "layout": "IPY_MODEL_bf4823ccca0a4fdfbf346b5be9db6635"
     }
    },
    "4429accc0efa462bb053e2d627d493fc": {
     "model_module": "@jupyter-widgets/base",
     "model_module_version": "1.2.0",
     "model_name": "LayoutModel",
     "state": {
      "_model_module": "@jupyter-widgets/base",
      "_model_module_version": "1.2.0",
      "_model_name": "LayoutModel",
      "_view_count": null,
      "_view_module": "@jupyter-widgets/base",
      "_view_module_version": "1.2.0",
      "_view_name": "LayoutView",
      "align_content": null,
      "align_items": null,
      "align_self": null,
      "border": null,
      "bottom": null,
      "display": null,
      "flex": null,
      "flex_flow": null,
      "grid_area": null,
      "grid_auto_columns": null,
      "grid_auto_flow": null,
      "grid_auto_rows": null,
      "grid_column": null,
      "grid_gap": null,
      "grid_row": null,
      "grid_template_areas": null,
      "grid_template_columns": null,
      "grid_template_rows": null,
      "height": null,
      "justify_content": null,
      "justify_items": null,
      "left": null,
      "margin": null,
      "max_height": null,
      "max_width": null,
      "min_height": null,
      "min_width": null,
      "object_fit": null,
      "object_position": null,
      "order": null,
      "overflow": null,
      "overflow_x": null,
      "overflow_y": null,
      "padding": null,
      "right": null,
      "top": null,
      "visibility": null,
      "width": null
     }
    },
    "44c38002786e49f581d47fd42769eb1c": {
     "model_module": "@jupyter-widgets/base",
     "model_module_version": "1.2.0",
     "model_name": "LayoutModel",
     "state": {
      "_model_module": "@jupyter-widgets/base",
      "_model_module_version": "1.2.0",
      "_model_name": "LayoutModel",
      "_view_count": null,
      "_view_module": "@jupyter-widgets/base",
      "_view_module_version": "1.2.0",
      "_view_name": "LayoutView",
      "align_content": null,
      "align_items": null,
      "align_self": null,
      "border": null,
      "bottom": null,
      "display": null,
      "flex": null,
      "flex_flow": null,
      "grid_area": null,
      "grid_auto_columns": null,
      "grid_auto_flow": null,
      "grid_auto_rows": null,
      "grid_column": null,
      "grid_gap": null,
      "grid_row": null,
      "grid_template_areas": null,
      "grid_template_columns": null,
      "grid_template_rows": null,
      "height": null,
      "justify_content": null,
      "justify_items": null,
      "left": null,
      "margin": null,
      "max_height": null,
      "max_width": null,
      "min_height": null,
      "min_width": null,
      "object_fit": null,
      "object_position": null,
      "order": null,
      "overflow": null,
      "overflow_x": null,
      "overflow_y": null,
      "padding": null,
      "right": null,
      "top": null,
      "visibility": null,
      "width": null
     }
    },
    "46feabc1256a485a977d3b01c0be17e1": {
     "model_module": "@jupyter-widgets/controls",
     "model_module_version": "1.5.0",
     "model_name": "HTMLModel",
     "state": {
      "_dom_classes": [],
      "_model_module": "@jupyter-widgets/controls",
      "_model_module_version": "1.5.0",
      "_model_name": "HTMLModel",
      "_view_count": null,
      "_view_module": "@jupyter-widgets/controls",
      "_view_module_version": "1.5.0",
      "_view_name": "HTMLView",
      "description": "",
      "description_tooltip": null,
      "layout": "IPY_MODEL_95f50883b3d7421d91f84afadba71fed",
      "placeholder": "​",
      "style": "IPY_MODEL_551dbab610eb4639885630ad2ff4b8e9",
      "value": " 333/333 [00:01&lt;00:00, 274.84it/s]"
     }
    },
    "478e36aa95c8404ea0033febbc820aa5": {
     "model_module": "@jupyter-widgets/base",
     "model_module_version": "1.2.0",
     "model_name": "LayoutModel",
     "state": {
      "_model_module": "@jupyter-widgets/base",
      "_model_module_version": "1.2.0",
      "_model_name": "LayoutModel",
      "_view_count": null,
      "_view_module": "@jupyter-widgets/base",
      "_view_module_version": "1.2.0",
      "_view_name": "LayoutView",
      "align_content": null,
      "align_items": null,
      "align_self": null,
      "border": null,
      "bottom": null,
      "display": null,
      "flex": null,
      "flex_flow": null,
      "grid_area": null,
      "grid_auto_columns": null,
      "grid_auto_flow": null,
      "grid_auto_rows": null,
      "grid_column": null,
      "grid_gap": null,
      "grid_row": null,
      "grid_template_areas": null,
      "grid_template_columns": null,
      "grid_template_rows": null,
      "height": null,
      "justify_content": null,
      "justify_items": null,
      "left": null,
      "margin": null,
      "max_height": null,
      "max_width": null,
      "min_height": null,
      "min_width": null,
      "object_fit": null,
      "object_position": null,
      "order": null,
      "overflow": null,
      "overflow_x": null,
      "overflow_y": null,
      "padding": null,
      "right": null,
      "top": null,
      "visibility": null,
      "width": null
     }
    },
    "4796ae0aa68e41de9b621a5b0de7e3d1": {
     "model_module": "@jupyter-widgets/controls",
     "model_module_version": "1.5.0",
     "model_name": "HBoxModel",
     "state": {
      "_dom_classes": [],
      "_model_module": "@jupyter-widgets/controls",
      "_model_module_version": "1.5.0",
      "_model_name": "HBoxModel",
      "_view_count": null,
      "_view_module": "@jupyter-widgets/controls",
      "_view_module_version": "1.5.0",
      "_view_name": "HBoxView",
      "box_style": "",
      "children": [
       "IPY_MODEL_3a1c1bc1f25e4ccd917a13340d6fad5c",
       "IPY_MODEL_574c26a371064e1a8bd0f7a22a60a1ec"
      ],
      "layout": "IPY_MODEL_b0e40afeb6a140e981f96688823fe9fc"
     }
    },
    "47dacdc3703344449c00b56b3e1fb432": {
     "model_module": "@jupyter-widgets/base",
     "model_module_version": "1.2.0",
     "model_name": "LayoutModel",
     "state": {
      "_model_module": "@jupyter-widgets/base",
      "_model_module_version": "1.2.0",
      "_model_name": "LayoutModel",
      "_view_count": null,
      "_view_module": "@jupyter-widgets/base",
      "_view_module_version": "1.2.0",
      "_view_name": "LayoutView",
      "align_content": null,
      "align_items": null,
      "align_self": null,
      "border": null,
      "bottom": null,
      "display": null,
      "flex": null,
      "flex_flow": null,
      "grid_area": null,
      "grid_auto_columns": null,
      "grid_auto_flow": null,
      "grid_auto_rows": null,
      "grid_column": null,
      "grid_gap": null,
      "grid_row": null,
      "grid_template_areas": null,
      "grid_template_columns": null,
      "grid_template_rows": null,
      "height": null,
      "justify_content": null,
      "justify_items": null,
      "left": null,
      "margin": null,
      "max_height": null,
      "max_width": null,
      "min_height": null,
      "min_width": null,
      "object_fit": null,
      "object_position": null,
      "order": null,
      "overflow": null,
      "overflow_x": null,
      "overflow_y": null,
      "padding": null,
      "right": null,
      "top": null,
      "visibility": null,
      "width": null
     }
    },
    "48385e7879fd4ce599e7f39441c274ff": {
     "model_module": "@jupyter-widgets/controls",
     "model_module_version": "1.5.0",
     "model_name": "ProgressStyleModel",
     "state": {
      "_model_module": "@jupyter-widgets/controls",
      "_model_module_version": "1.5.0",
      "_model_name": "ProgressStyleModel",
      "_view_count": null,
      "_view_module": "@jupyter-widgets/base",
      "_view_module_version": "1.2.0",
      "_view_name": "StyleView",
      "bar_color": null,
      "description_width": "initial"
     }
    },
    "4c2e36f6ba0d47b2bf30d2106d72a65d": {
     "model_module": "@jupyter-widgets/controls",
     "model_module_version": "1.5.0",
     "model_name": "ProgressStyleModel",
     "state": {
      "_model_module": "@jupyter-widgets/controls",
      "_model_module_version": "1.5.0",
      "_model_name": "ProgressStyleModel",
      "_view_count": null,
      "_view_module": "@jupyter-widgets/base",
      "_view_module_version": "1.2.0",
      "_view_name": "StyleView",
      "bar_color": null,
      "description_width": "initial"
     }
    },
    "4c53308c0c2749f39d8b9465d4217bce": {
     "model_module": "@jupyter-widgets/controls",
     "model_module_version": "1.5.0",
     "model_name": "HBoxModel",
     "state": {
      "_dom_classes": [],
      "_model_module": "@jupyter-widgets/controls",
      "_model_module_version": "1.5.0",
      "_model_name": "HBoxModel",
      "_view_count": null,
      "_view_module": "@jupyter-widgets/controls",
      "_view_module_version": "1.5.0",
      "_view_name": "HBoxView",
      "box_style": "",
      "children": [
       "IPY_MODEL_a7faa720c7f34252874fbc180edcd01e",
       "IPY_MODEL_a0e39fd4b7014995a215c31a17c417d2"
      ],
      "layout": "IPY_MODEL_b892491317d74c5bbd89330a6d2a61e2"
     }
    },
    "4caf50065cca41679b6ef63416f3fa4a": {
     "model_module": "@jupyter-widgets/controls",
     "model_module_version": "1.5.0",
     "model_name": "DescriptionStyleModel",
     "state": {
      "_model_module": "@jupyter-widgets/controls",
      "_model_module_version": "1.5.0",
      "_model_name": "DescriptionStyleModel",
      "_view_count": null,
      "_view_module": "@jupyter-widgets/base",
      "_view_module_version": "1.2.0",
      "_view_name": "StyleView",
      "description_width": ""
     }
    },
    "4d011e9eff624fd4ad8e6009bff2eb02": {
     "model_module": "@jupyter-widgets/controls",
     "model_module_version": "1.5.0",
     "model_name": "DescriptionStyleModel",
     "state": {
      "_model_module": "@jupyter-widgets/controls",
      "_model_module_version": "1.5.0",
      "_model_name": "DescriptionStyleModel",
      "_view_count": null,
      "_view_module": "@jupyter-widgets/base",
      "_view_module_version": "1.2.0",
      "_view_name": "StyleView",
      "description_width": ""
     }
    },
    "4dc1b7f125514d299a5efa44a0d7bdfb": {
     "model_module": "@jupyter-widgets/controls",
     "model_module_version": "1.5.0",
     "model_name": "HTMLModel",
     "state": {
      "_dom_classes": [],
      "_model_module": "@jupyter-widgets/controls",
      "_model_module_version": "1.5.0",
      "_model_name": "HTMLModel",
      "_view_count": null,
      "_view_module": "@jupyter-widgets/controls",
      "_view_module_version": "1.5.0",
      "_view_name": "HTMLView",
      "description": "",
      "description_tooltip": null,
      "layout": "IPY_MODEL_31ebece5045d4f2ba922b69e8038d293",
      "placeholder": "​",
      "style": "IPY_MODEL_b5f2efdecf624b9f997d22abf313ae52",
      "value": " 333/333 [00:01&lt;00:00, 262.61it/s]"
     }
    },
    "4eb013b7492f4e3fbcba119f1a2a8599": {
     "model_module": "@jupyter-widgets/controls",
     "model_module_version": "1.5.0",
     "model_name": "DescriptionStyleModel",
     "state": {
      "_model_module": "@jupyter-widgets/controls",
      "_model_module_version": "1.5.0",
      "_model_name": "DescriptionStyleModel",
      "_view_count": null,
      "_view_module": "@jupyter-widgets/base",
      "_view_module_version": "1.2.0",
      "_view_name": "StyleView",
      "description_width": ""
     }
    },
    "51d10b208b854e91b31a61111fbd4645": {
     "model_module": "@jupyter-widgets/controls",
     "model_module_version": "1.5.0",
     "model_name": "HTMLModel",
     "state": {
      "_dom_classes": [],
      "_model_module": "@jupyter-widgets/controls",
      "_model_module_version": "1.5.0",
      "_model_name": "HTMLModel",
      "_view_count": null,
      "_view_module": "@jupyter-widgets/controls",
      "_view_module_version": "1.5.0",
      "_view_name": "HTMLView",
      "description": "",
      "description_tooltip": null,
      "layout": "IPY_MODEL_1e2b37ca803847c19197e32cec158481",
      "placeholder": "​",
      "style": "IPY_MODEL_2266167a646c4a3db591772b58622b92",
      "value": " 50/50 [00:00&lt;00:00, 155.58it/s]"
     }
    },
    "5257d63ca61d4667b38116f4cf3ae450": {
     "model_module": "@jupyter-widgets/controls",
     "model_module_version": "1.5.0",
     "model_name": "HTMLModel",
     "state": {
      "_dom_classes": [],
      "_model_module": "@jupyter-widgets/controls",
      "_model_module_version": "1.5.0",
      "_model_name": "HTMLModel",
      "_view_count": null,
      "_view_module": "@jupyter-widgets/controls",
      "_view_module_version": "1.5.0",
      "_view_name": "HTMLView",
      "description": "",
      "description_tooltip": null,
      "layout": "IPY_MODEL_8617b114e05641a18cf71ef8a2208062",
      "placeholder": "​",
      "style": "IPY_MODEL_34f915abb4654f03b916714a9b15719e",
      "value": " 333/333 [00:01&lt;00:00, 274.37it/s]"
     }
    },
    "5386400fd71244ad8c1aec343b6a5c19": {
     "model_module": "@jupyter-widgets/base",
     "model_module_version": "1.2.0",
     "model_name": "LayoutModel",
     "state": {
      "_model_module": "@jupyter-widgets/base",
      "_model_module_version": "1.2.0",
      "_model_name": "LayoutModel",
      "_view_count": null,
      "_view_module": "@jupyter-widgets/base",
      "_view_module_version": "1.2.0",
      "_view_name": "LayoutView",
      "align_content": null,
      "align_items": null,
      "align_self": null,
      "border": null,
      "bottom": null,
      "display": null,
      "flex": null,
      "flex_flow": null,
      "grid_area": null,
      "grid_auto_columns": null,
      "grid_auto_flow": null,
      "grid_auto_rows": null,
      "grid_column": null,
      "grid_gap": null,
      "grid_row": null,
      "grid_template_areas": null,
      "grid_template_columns": null,
      "grid_template_rows": null,
      "height": null,
      "justify_content": null,
      "justify_items": null,
      "left": null,
      "margin": null,
      "max_height": null,
      "max_width": null,
      "min_height": null,
      "min_width": null,
      "object_fit": null,
      "object_position": null,
      "order": null,
      "overflow": null,
      "overflow_x": null,
      "overflow_y": null,
      "padding": null,
      "right": null,
      "top": null,
      "visibility": null,
      "width": null
     }
    },
    "54bb908446e648698e30c669becce77b": {
     "model_module": "@jupyter-widgets/base",
     "model_module_version": "1.2.0",
     "model_name": "LayoutModel",
     "state": {
      "_model_module": "@jupyter-widgets/base",
      "_model_module_version": "1.2.0",
      "_model_name": "LayoutModel",
      "_view_count": null,
      "_view_module": "@jupyter-widgets/base",
      "_view_module_version": "1.2.0",
      "_view_name": "LayoutView",
      "align_content": null,
      "align_items": null,
      "align_self": null,
      "border": null,
      "bottom": null,
      "display": null,
      "flex": null,
      "flex_flow": null,
      "grid_area": null,
      "grid_auto_columns": null,
      "grid_auto_flow": null,
      "grid_auto_rows": null,
      "grid_column": null,
      "grid_gap": null,
      "grid_row": null,
      "grid_template_areas": null,
      "grid_template_columns": null,
      "grid_template_rows": null,
      "height": null,
      "justify_content": null,
      "justify_items": null,
      "left": null,
      "margin": null,
      "max_height": null,
      "max_width": null,
      "min_height": null,
      "min_width": null,
      "object_fit": null,
      "object_position": null,
      "order": null,
      "overflow": null,
      "overflow_x": null,
      "overflow_y": null,
      "padding": null,
      "right": null,
      "top": null,
      "visibility": null,
      "width": null
     }
    },
    "551dbab610eb4639885630ad2ff4b8e9": {
     "model_module": "@jupyter-widgets/controls",
     "model_module_version": "1.5.0",
     "model_name": "DescriptionStyleModel",
     "state": {
      "_model_module": "@jupyter-widgets/controls",
      "_model_module_version": "1.5.0",
      "_model_name": "DescriptionStyleModel",
      "_view_count": null,
      "_view_module": "@jupyter-widgets/base",
      "_view_module_version": "1.2.0",
      "_view_name": "StyleView",
      "description_width": ""
     }
    },
    "56009806327d4e1d8cdfeb90ac36be59": {
     "model_module": "@jupyter-widgets/base",
     "model_module_version": "1.2.0",
     "model_name": "LayoutModel",
     "state": {
      "_model_module": "@jupyter-widgets/base",
      "_model_module_version": "1.2.0",
      "_model_name": "LayoutModel",
      "_view_count": null,
      "_view_module": "@jupyter-widgets/base",
      "_view_module_version": "1.2.0",
      "_view_name": "LayoutView",
      "align_content": null,
      "align_items": null,
      "align_self": null,
      "border": null,
      "bottom": null,
      "display": null,
      "flex": null,
      "flex_flow": null,
      "grid_area": null,
      "grid_auto_columns": null,
      "grid_auto_flow": null,
      "grid_auto_rows": null,
      "grid_column": null,
      "grid_gap": null,
      "grid_row": null,
      "grid_template_areas": null,
      "grid_template_columns": null,
      "grid_template_rows": null,
      "height": null,
      "justify_content": null,
      "justify_items": null,
      "left": null,
      "margin": null,
      "max_height": null,
      "max_width": null,
      "min_height": null,
      "min_width": null,
      "object_fit": null,
      "object_position": null,
      "order": null,
      "overflow": null,
      "overflow_x": null,
      "overflow_y": null,
      "padding": null,
      "right": null,
      "top": null,
      "visibility": null,
      "width": null
     }
    },
    "574c26a371064e1a8bd0f7a22a60a1ec": {
     "model_module": "@jupyter-widgets/controls",
     "model_module_version": "1.5.0",
     "model_name": "HTMLModel",
     "state": {
      "_dom_classes": [],
      "_model_module": "@jupyter-widgets/controls",
      "_model_module_version": "1.5.0",
      "_model_name": "HTMLModel",
      "_view_count": null,
      "_view_module": "@jupyter-widgets/controls",
      "_view_module_version": "1.5.0",
      "_view_name": "HTMLView",
      "description": "",
      "description_tooltip": null,
      "layout": "IPY_MODEL_3f7aed16d6684182bc96412c6fa242bf",
      "placeholder": "​",
      "style": "IPY_MODEL_898978c99b9b420bb08f04adbefebde4",
      "value": " 333/333 [00:01&lt;00:00, 233.27it/s]"
     }
    },
    "579a8114e1db4ed1b036fbe2c18bf6dd": {
     "model_module": "@jupyter-widgets/controls",
     "model_module_version": "1.5.0",
     "model_name": "ProgressStyleModel",
     "state": {
      "_model_module": "@jupyter-widgets/controls",
      "_model_module_version": "1.5.0",
      "_model_name": "ProgressStyleModel",
      "_view_count": null,
      "_view_module": "@jupyter-widgets/base",
      "_view_module_version": "1.2.0",
      "_view_name": "StyleView",
      "bar_color": null,
      "description_width": "initial"
     }
    },
    "58a4349f7fce446e8cb9766b6f785abb": {
     "model_module": "@jupyter-widgets/base",
     "model_module_version": "1.2.0",
     "model_name": "LayoutModel",
     "state": {
      "_model_module": "@jupyter-widgets/base",
      "_model_module_version": "1.2.0",
      "_model_name": "LayoutModel",
      "_view_count": null,
      "_view_module": "@jupyter-widgets/base",
      "_view_module_version": "1.2.0",
      "_view_name": "LayoutView",
      "align_content": null,
      "align_items": null,
      "align_self": null,
      "border": null,
      "bottom": null,
      "display": null,
      "flex": null,
      "flex_flow": null,
      "grid_area": null,
      "grid_auto_columns": null,
      "grid_auto_flow": null,
      "grid_auto_rows": null,
      "grid_column": null,
      "grid_gap": null,
      "grid_row": null,
      "grid_template_areas": null,
      "grid_template_columns": null,
      "grid_template_rows": null,
      "height": null,
      "justify_content": null,
      "justify_items": null,
      "left": null,
      "margin": null,
      "max_height": null,
      "max_width": null,
      "min_height": null,
      "min_width": null,
      "object_fit": null,
      "object_position": null,
      "order": null,
      "overflow": null,
      "overflow_x": null,
      "overflow_y": null,
      "padding": null,
      "right": null,
      "top": null,
      "visibility": null,
      "width": null
     }
    },
    "5baad3c8c2444c969a44cf10d7a4259d": {
     "model_module": "@jupyter-widgets/base",
     "model_module_version": "1.2.0",
     "model_name": "LayoutModel",
     "state": {
      "_model_module": "@jupyter-widgets/base",
      "_model_module_version": "1.2.0",
      "_model_name": "LayoutModel",
      "_view_count": null,
      "_view_module": "@jupyter-widgets/base",
      "_view_module_version": "1.2.0",
      "_view_name": "LayoutView",
      "align_content": null,
      "align_items": null,
      "align_self": null,
      "border": null,
      "bottom": null,
      "display": null,
      "flex": null,
      "flex_flow": null,
      "grid_area": null,
      "grid_auto_columns": null,
      "grid_auto_flow": null,
      "grid_auto_rows": null,
      "grid_column": null,
      "grid_gap": null,
      "grid_row": null,
      "grid_template_areas": null,
      "grid_template_columns": null,
      "grid_template_rows": null,
      "height": null,
      "justify_content": null,
      "justify_items": null,
      "left": null,
      "margin": null,
      "max_height": null,
      "max_width": null,
      "min_height": null,
      "min_width": null,
      "object_fit": null,
      "object_position": null,
      "order": null,
      "overflow": null,
      "overflow_x": null,
      "overflow_y": null,
      "padding": null,
      "right": null,
      "top": null,
      "visibility": null,
      "width": null
     }
    },
    "5d231b38862e463cbd6e7c864755c1d3": {
     "model_module": "@jupyter-widgets/controls",
     "model_module_version": "1.5.0",
     "model_name": "ProgressStyleModel",
     "state": {
      "_model_module": "@jupyter-widgets/controls",
      "_model_module_version": "1.5.0",
      "_model_name": "ProgressStyleModel",
      "_view_count": null,
      "_view_module": "@jupyter-widgets/base",
      "_view_module_version": "1.2.0",
      "_view_name": "StyleView",
      "bar_color": null,
      "description_width": "initial"
     }
    },
    "5d430742568a43d887f74de2b13f46aa": {
     "model_module": "@jupyter-widgets/controls",
     "model_module_version": "1.5.0",
     "model_name": "HTMLModel",
     "state": {
      "_dom_classes": [],
      "_model_module": "@jupyter-widgets/controls",
      "_model_module_version": "1.5.0",
      "_model_name": "HTMLModel",
      "_view_count": null,
      "_view_module": "@jupyter-widgets/controls",
      "_view_module_version": "1.5.0",
      "_view_name": "HTMLView",
      "description": "",
      "description_tooltip": null,
      "layout": "IPY_MODEL_317faa4a8f6a461295f84c8f7a5037d8",
      "placeholder": "​",
      "style": "IPY_MODEL_610dfaa23795446b9f3decfa48b8788e",
      "value": " 333/333 [00:01&lt;00:00, 244.78it/s]"
     }
    },
    "5e43ff3a43f64adc9ab6bf5ad56adf2c": {
     "model_module": "@jupyter-widgets/controls",
     "model_module_version": "1.5.0",
     "model_name": "HTMLModel",
     "state": {
      "_dom_classes": [],
      "_model_module": "@jupyter-widgets/controls",
      "_model_module_version": "1.5.0",
      "_model_name": "HTMLModel",
      "_view_count": null,
      "_view_module": "@jupyter-widgets/controls",
      "_view_module_version": "1.5.0",
      "_view_name": "HTMLView",
      "description": "",
      "description_tooltip": null,
      "layout": "IPY_MODEL_ea52d851257345be8f4a6e70bdc6a012",
      "placeholder": "​",
      "style": "IPY_MODEL_903d032e964244a886a52561ae68b28e",
      "value": " 117/117 [00:00&lt;00:00, 199.01it/s]"
     }
    },
    "5ed3985a74394e0b80588d7635629bf2": {
     "model_module": "@jupyter-widgets/controls",
     "model_module_version": "1.5.0",
     "model_name": "HBoxModel",
     "state": {
      "_dom_classes": [],
      "_model_module": "@jupyter-widgets/controls",
      "_model_module_version": "1.5.0",
      "_model_name": "HBoxModel",
      "_view_count": null,
      "_view_module": "@jupyter-widgets/controls",
      "_view_module_version": "1.5.0",
      "_view_name": "HBoxView",
      "box_style": "",
      "children": [
       "IPY_MODEL_0d4f695b9fa243859dafad5d3096bed5",
       "IPY_MODEL_c0f2f23f333a46dfa1b3af746781f9eb"
      ],
      "layout": "IPY_MODEL_3b09531783a54dbd970a9a980b684cbd"
     }
    },
    "60d6d3dce582463faa602403374482b8": {
     "model_module": "@jupyter-widgets/controls",
     "model_module_version": "1.5.0",
     "model_name": "FloatProgressModel",
     "state": {
      "_dom_classes": [],
      "_model_module": "@jupyter-widgets/controls",
      "_model_module_version": "1.5.0",
      "_model_name": "FloatProgressModel",
      "_view_count": null,
      "_view_module": "@jupyter-widgets/controls",
      "_view_module_version": "1.5.0",
      "_view_name": "ProgressView",
      "bar_style": "",
      "description": "Eval (validation): 100%",
      "description_tooltip": null,
      "layout": "IPY_MODEL_ff0073275d964ea68a04ad28323f17d5",
      "max": 50,
      "min": 0,
      "orientation": "horizontal",
      "style": "IPY_MODEL_e8fa60e71eae43e88324d22ae0981f0c",
      "value": 50
     }
    },
    "610dfaa23795446b9f3decfa48b8788e": {
     "model_module": "@jupyter-widgets/controls",
     "model_module_version": "1.5.0",
     "model_name": "DescriptionStyleModel",
     "state": {
      "_model_module": "@jupyter-widgets/controls",
      "_model_module_version": "1.5.0",
      "_model_name": "DescriptionStyleModel",
      "_view_count": null,
      "_view_module": "@jupyter-widgets/base",
      "_view_module_version": "1.2.0",
      "_view_name": "StyleView",
      "description_width": ""
     }
    },
    "65232ece164e499599d2718b3a7a7c1d": {
     "model_module": "@jupyter-widgets/controls",
     "model_module_version": "1.5.0",
     "model_name": "ProgressStyleModel",
     "state": {
      "_model_module": "@jupyter-widgets/controls",
      "_model_module_version": "1.5.0",
      "_model_name": "ProgressStyleModel",
      "_view_count": null,
      "_view_module": "@jupyter-widgets/base",
      "_view_module_version": "1.2.0",
      "_view_name": "StyleView",
      "bar_color": null,
      "description_width": "initial"
     }
    },
    "676110b1531047b3b9476d4c1ac9d4ab": {
     "model_module": "@jupyter-widgets/controls",
     "model_module_version": "1.5.0",
     "model_name": "FloatProgressModel",
     "state": {
      "_dom_classes": [],
      "_model_module": "@jupyter-widgets/controls",
      "_model_module_version": "1.5.0",
      "_model_name": "FloatProgressModel",
      "_view_count": null,
      "_view_module": "@jupyter-widgets/controls",
      "_view_module_version": "1.5.0",
      "_view_name": "ProgressView",
      "bar_style": "",
      "description": "Eval (train): 100%",
      "description_tooltip": null,
      "layout": "IPY_MODEL_92028aeabd5f4712bf37e65ba065f135",
      "max": 333,
      "min": 0,
      "orientation": "horizontal",
      "style": "IPY_MODEL_df28438237fa49a98961474a6ca2ebc1",
      "value": 333
     }
    },
    "680ba95e3295443299b22be219eaa167": {
     "model_module": "@jupyter-widgets/controls",
     "model_module_version": "1.5.0",
     "model_name": "HBoxModel",
     "state": {
      "_dom_classes": [],
      "_model_module": "@jupyter-widgets/controls",
      "_model_module_version": "1.5.0",
      "_model_name": "HBoxModel",
      "_view_count": null,
      "_view_module": "@jupyter-widgets/controls",
      "_view_module_version": "1.5.0",
      "_view_name": "HBoxView",
      "box_style": "",
      "children": [
       "IPY_MODEL_34660c3256724439aa522910f80e88e2",
       "IPY_MODEL_6d2049328c7142139edc15e5afa86823"
      ],
      "layout": "IPY_MODEL_82d4e5007d584bdc96526d1a468620ee"
     }
    },
    "69191a9b326d4d1ba739f339872edb81": {
     "model_module": "@jupyter-widgets/controls",
     "model_module_version": "1.5.0",
     "model_name": "HBoxModel",
     "state": {
      "_dom_classes": [],
      "_model_module": "@jupyter-widgets/controls",
      "_model_module_version": "1.5.0",
      "_model_name": "HBoxModel",
      "_view_count": null,
      "_view_module": "@jupyter-widgets/controls",
      "_view_module_version": "1.5.0",
      "_view_name": "HBoxView",
      "box_style": "",
      "children": [
       "IPY_MODEL_728c6c35f40d46ac80407fdecfc84436",
       "IPY_MODEL_b35d8c4609e3420c9868306eedbc9e6c"
      ],
      "layout": "IPY_MODEL_2d80ee7fdbe640eb990f9d8dcc8e26d4"
     }
    },
    "6b773d2f63964fcdb09b647697a500dd": {
     "model_module": "@jupyter-widgets/controls",
     "model_module_version": "1.5.0",
     "model_name": "ProgressStyleModel",
     "state": {
      "_model_module": "@jupyter-widgets/controls",
      "_model_module_version": "1.5.0",
      "_model_name": "ProgressStyleModel",
      "_view_count": null,
      "_view_module": "@jupyter-widgets/base",
      "_view_module_version": "1.2.0",
      "_view_name": "StyleView",
      "bar_color": null,
      "description_width": "initial"
     }
    },
    "6c5add6c481d4646adb93519e0bc9de4": {
     "model_module": "@jupyter-widgets/base",
     "model_module_version": "1.2.0",
     "model_name": "LayoutModel",
     "state": {
      "_model_module": "@jupyter-widgets/base",
      "_model_module_version": "1.2.0",
      "_model_name": "LayoutModel",
      "_view_count": null,
      "_view_module": "@jupyter-widgets/base",
      "_view_module_version": "1.2.0",
      "_view_name": "LayoutView",
      "align_content": null,
      "align_items": null,
      "align_self": null,
      "border": null,
      "bottom": null,
      "display": null,
      "flex": null,
      "flex_flow": null,
      "grid_area": null,
      "grid_auto_columns": null,
      "grid_auto_flow": null,
      "grid_auto_rows": null,
      "grid_column": null,
      "grid_gap": null,
      "grid_row": null,
      "grid_template_areas": null,
      "grid_template_columns": null,
      "grid_template_rows": null,
      "height": null,
      "justify_content": null,
      "justify_items": null,
      "left": null,
      "margin": null,
      "max_height": null,
      "max_width": null,
      "min_height": null,
      "min_width": null,
      "object_fit": null,
      "object_position": null,
      "order": null,
      "overflow": null,
      "overflow_x": null,
      "overflow_y": null,
      "padding": null,
      "right": null,
      "top": null,
      "visibility": null,
      "width": null
     }
    },
    "6d2049328c7142139edc15e5afa86823": {
     "model_module": "@jupyter-widgets/controls",
     "model_module_version": "1.5.0",
     "model_name": "HTMLModel",
     "state": {
      "_dom_classes": [],
      "_model_module": "@jupyter-widgets/controls",
      "_model_module_version": "1.5.0",
      "_model_name": "HTMLModel",
      "_view_count": null,
      "_view_module": "@jupyter-widgets/controls",
      "_view_module_version": "1.5.0",
      "_view_name": "HTMLView",
      "description": "",
      "description_tooltip": null,
      "layout": "IPY_MODEL_defff90cea894e8eb5c056ecde6fd325",
      "placeholder": "​",
      "style": "IPY_MODEL_11b8185c05c54f1ca56be6a4dd30a211",
      "value": " 50/50 [00:00&lt;00:00, 144.86it/s]"
     }
    },
    "6d4fea2efaed463ca064e2d90e19253e": {
     "model_module": "@jupyter-widgets/controls",
     "model_module_version": "1.5.0",
     "model_name": "FloatProgressModel",
     "state": {
      "_dom_classes": [],
      "_model_module": "@jupyter-widgets/controls",
      "_model_module_version": "1.5.0",
      "_model_name": "FloatProgressModel",
      "_view_count": null,
      "_view_module": "@jupyter-widgets/controls",
      "_view_module_version": "1.5.0",
      "_view_name": "ProgressView",
      "bar_style": "",
      "description": "Eval (validation): 100%",
      "description_tooltip": null,
      "layout": "IPY_MODEL_f016eb63c8d24b47a8c08ff8f62ca991",
      "max": 50,
      "min": 0,
      "orientation": "horizontal",
      "style": "IPY_MODEL_751c66dc4f7f4a5f83e1253bcd8f2971",
      "value": 50
     }
    },
    "6e272d918caa4ee6b0f8645b1265caae": {
     "model_module": "@jupyter-widgets/controls",
     "model_module_version": "1.5.0",
     "model_name": "FloatProgressModel",
     "state": {
      "_dom_classes": [],
      "_model_module": "@jupyter-widgets/controls",
      "_model_module_version": "1.5.0",
      "_model_name": "FloatProgressModel",
      "_view_count": null,
      "_view_module": "@jupyter-widgets/controls",
      "_view_module_version": "1.5.0",
      "_view_name": "ProgressView",
      "bar_style": "",
      "description": "Eval (train): 100%",
      "description_tooltip": null,
      "layout": "IPY_MODEL_47dacdc3703344449c00b56b3e1fb432",
      "max": 333,
      "min": 0,
      "orientation": "horizontal",
      "style": "IPY_MODEL_48385e7879fd4ce599e7f39441c274ff",
      "value": 333
     }
    },
    "728c6c35f40d46ac80407fdecfc84436": {
     "model_module": "@jupyter-widgets/controls",
     "model_module_version": "1.5.0",
     "model_name": "FloatProgressModel",
     "state": {
      "_dom_classes": [],
      "_model_module": "@jupyter-widgets/controls",
      "_model_module_version": "1.5.0",
      "_model_name": "FloatProgressModel",
      "_view_count": null,
      "_view_module": "@jupyter-widgets/controls",
      "_view_module_version": "1.5.0",
      "_view_name": "ProgressView",
      "bar_style": "",
      "description": "Eval (validation): 100%",
      "description_tooltip": null,
      "layout": "IPY_MODEL_dd5d2b5dfd2948908e389ac5cd9caf8a",
      "max": 50,
      "min": 0,
      "orientation": "horizontal",
      "style": "IPY_MODEL_a5b9d93f678d47e580c7573a35c75868",
      "value": 50
     }
    },
    "73e0dda2cf51456a9be9d6603f95239a": {
     "model_module": "@jupyter-widgets/controls",
     "model_module_version": "1.5.0",
     "model_name": "ProgressStyleModel",
     "state": {
      "_model_module": "@jupyter-widgets/controls",
      "_model_module_version": "1.5.0",
      "_model_name": "ProgressStyleModel",
      "_view_count": null,
      "_view_module": "@jupyter-widgets/base",
      "_view_module_version": "1.2.0",
      "_view_name": "StyleView",
      "bar_color": null,
      "description_width": "initial"
     }
    },
    "74b43e50f69945eb8026ccbb53aef25a": {
     "model_module": "@jupyter-widgets/controls",
     "model_module_version": "1.5.0",
     "model_name": "ProgressStyleModel",
     "state": {
      "_model_module": "@jupyter-widgets/controls",
      "_model_module_version": "1.5.0",
      "_model_name": "ProgressStyleModel",
      "_view_count": null,
      "_view_module": "@jupyter-widgets/base",
      "_view_module_version": "1.2.0",
      "_view_name": "StyleView",
      "bar_color": null,
      "description_width": "initial"
     }
    },
    "751c66dc4f7f4a5f83e1253bcd8f2971": {
     "model_module": "@jupyter-widgets/controls",
     "model_module_version": "1.5.0",
     "model_name": "ProgressStyleModel",
     "state": {
      "_model_module": "@jupyter-widgets/controls",
      "_model_module_version": "1.5.0",
      "_model_name": "ProgressStyleModel",
      "_view_count": null,
      "_view_module": "@jupyter-widgets/base",
      "_view_module_version": "1.2.0",
      "_view_name": "StyleView",
      "bar_color": null,
      "description_width": "initial"
     }
    },
    "77a192903e2d4ba49dfd859f975b581d": {
     "model_module": "@jupyter-widgets/controls",
     "model_module_version": "1.5.0",
     "model_name": "HTMLModel",
     "state": {
      "_dom_classes": [],
      "_model_module": "@jupyter-widgets/controls",
      "_model_module_version": "1.5.0",
      "_model_name": "HTMLModel",
      "_view_count": null,
      "_view_module": "@jupyter-widgets/controls",
      "_view_module_version": "1.5.0",
      "_view_name": "HTMLView",
      "description": "",
      "description_tooltip": null,
      "layout": "IPY_MODEL_aa3f96e02a9e4f6f981a1386cfdf807b",
      "placeholder": "​",
      "style": "IPY_MODEL_8f738b97ea3e4d4d82f7e25fedc5b06f",
      "value": " 50/50 [00:00&lt;00:00, 185.64it/s]"
     }
    },
    "78476d2419a7426a9a6cabc707fe82c0": {
     "model_module": "@jupyter-widgets/controls",
     "model_module_version": "1.5.0",
     "model_name": "HBoxModel",
     "state": {
      "_dom_classes": [],
      "_model_module": "@jupyter-widgets/controls",
      "_model_module_version": "1.5.0",
      "_model_name": "HBoxModel",
      "_view_count": null,
      "_view_module": "@jupyter-widgets/controls",
      "_view_module_version": "1.5.0",
      "_view_name": "HBoxView",
      "box_style": "",
      "children": [
       "IPY_MODEL_01f6ec8f67374752ae37c2839778d4ad",
       "IPY_MODEL_ffdcc445c8054103b89797b1e470a7ca"
      ],
      "layout": "IPY_MODEL_44c38002786e49f581d47fd42769eb1c"
     }
    },
    "78ee7f77a0a548acac49be56a4bb0351": {
     "model_module": "@jupyter-widgets/controls",
     "model_module_version": "1.5.0",
     "model_name": "HBoxModel",
     "state": {
      "_dom_classes": [],
      "_model_module": "@jupyter-widgets/controls",
      "_model_module_version": "1.5.0",
      "_model_name": "HBoxModel",
      "_view_count": null,
      "_view_module": "@jupyter-widgets/controls",
      "_view_module_version": "1.5.0",
      "_view_name": "HBoxView",
      "box_style": "",
      "children": [
       "IPY_MODEL_adb4f3ac125d47acbef36f4c33e9c24b",
       "IPY_MODEL_8cdca22b785d4b3fb7be719a626bf7f7"
      ],
      "layout": "IPY_MODEL_fa12ec3a3fed44e6a129eca49cc7e3f8"
     }
    },
    "79a46d1e879c4e2d9cb7f648c386871f": {
     "model_module": "@jupyter-widgets/controls",
     "model_module_version": "1.5.0",
     "model_name": "HBoxModel",
     "state": {
      "_dom_classes": [],
      "_model_module": "@jupyter-widgets/controls",
      "_model_module_version": "1.5.0",
      "_model_name": "HBoxModel",
      "_view_count": null,
      "_view_module": "@jupyter-widgets/controls",
      "_view_module_version": "1.5.0",
      "_view_name": "HBoxView",
      "box_style": "",
      "children": [
       "IPY_MODEL_051b513835274dc98756d39a6be05aa3",
       "IPY_MODEL_a8f00d4307c14291b360ad9b754e502a"
      ],
      "layout": "IPY_MODEL_b093c80b7bf24286a84ce54cf35c7e4b"
     }
    },
    "7b19d3ace9e647adabb9bb66be32c79d": {
     "model_module": "@jupyter-widgets/base",
     "model_module_version": "1.2.0",
     "model_name": "LayoutModel",
     "state": {
      "_model_module": "@jupyter-widgets/base",
      "_model_module_version": "1.2.0",
      "_model_name": "LayoutModel",
      "_view_count": null,
      "_view_module": "@jupyter-widgets/base",
      "_view_module_version": "1.2.0",
      "_view_name": "LayoutView",
      "align_content": null,
      "align_items": null,
      "align_self": null,
      "border": null,
      "bottom": null,
      "display": null,
      "flex": null,
      "flex_flow": null,
      "grid_area": null,
      "grid_auto_columns": null,
      "grid_auto_flow": null,
      "grid_auto_rows": null,
      "grid_column": null,
      "grid_gap": null,
      "grid_row": null,
      "grid_template_areas": null,
      "grid_template_columns": null,
      "grid_template_rows": null,
      "height": null,
      "justify_content": null,
      "justify_items": null,
      "left": null,
      "margin": null,
      "max_height": null,
      "max_width": null,
      "min_height": null,
      "min_width": null,
      "object_fit": null,
      "object_position": null,
      "order": null,
      "overflow": null,
      "overflow_x": null,
      "overflow_y": null,
      "padding": null,
      "right": null,
      "top": null,
      "visibility": null,
      "width": null
     }
    },
    "7c4e8702fb314b3b9d6345d7f7f6b138": {
     "model_module": "@jupyter-widgets/controls",
     "model_module_version": "1.5.0",
     "model_name": "DescriptionStyleModel",
     "state": {
      "_model_module": "@jupyter-widgets/controls",
      "_model_module_version": "1.5.0",
      "_model_name": "DescriptionStyleModel",
      "_view_count": null,
      "_view_module": "@jupyter-widgets/base",
      "_view_module_version": "1.2.0",
      "_view_name": "StyleView",
      "description_width": ""
     }
    },
    "7d2409257644471ca2fa155ff43cce6d": {
     "model_module": "@jupyter-widgets/controls",
     "model_module_version": "1.5.0",
     "model_name": "HTMLModel",
     "state": {
      "_dom_classes": [],
      "_model_module": "@jupyter-widgets/controls",
      "_model_module_version": "1.5.0",
      "_model_name": "HTMLModel",
      "_view_count": null,
      "_view_module": "@jupyter-widgets/controls",
      "_view_module_version": "1.5.0",
      "_view_name": "HTMLView",
      "description": "",
      "description_tooltip": null,
      "layout": "IPY_MODEL_f366cd21145f4bb6954c7c3ca50373ef",
      "placeholder": "​",
      "style": "IPY_MODEL_1b67bf0b10cc4a97bbd5fac15449e375",
      "value": " 333/333 [00:03&lt;00:00, 112.68it/s]"
     }
    },
    "7d733c240bb44a06bfaf0f7ee46c01f3": {
     "model_module": "@jupyter-widgets/base",
     "model_module_version": "1.2.0",
     "model_name": "LayoutModel",
     "state": {
      "_model_module": "@jupyter-widgets/base",
      "_model_module_version": "1.2.0",
      "_model_name": "LayoutModel",
      "_view_count": null,
      "_view_module": "@jupyter-widgets/base",
      "_view_module_version": "1.2.0",
      "_view_name": "LayoutView",
      "align_content": null,
      "align_items": null,
      "align_self": null,
      "border": null,
      "bottom": null,
      "display": null,
      "flex": null,
      "flex_flow": null,
      "grid_area": null,
      "grid_auto_columns": null,
      "grid_auto_flow": null,
      "grid_auto_rows": null,
      "grid_column": null,
      "grid_gap": null,
      "grid_row": null,
      "grid_template_areas": null,
      "grid_template_columns": null,
      "grid_template_rows": null,
      "height": null,
      "justify_content": null,
      "justify_items": null,
      "left": null,
      "margin": null,
      "max_height": null,
      "max_width": null,
      "min_height": null,
      "min_width": null,
      "object_fit": null,
      "object_position": null,
      "order": null,
      "overflow": null,
      "overflow_x": null,
      "overflow_y": null,
      "padding": null,
      "right": null,
      "top": null,
      "visibility": null,
      "width": null
     }
    },
    "7dc79e45f421428a84cb376513c16351": {
     "model_module": "@jupyter-widgets/controls",
     "model_module_version": "1.5.0",
     "model_name": "HTMLModel",
     "state": {
      "_dom_classes": [],
      "_model_module": "@jupyter-widgets/controls",
      "_model_module_version": "1.5.0",
      "_model_name": "HTMLModel",
      "_view_count": null,
      "_view_module": "@jupyter-widgets/controls",
      "_view_module_version": "1.5.0",
      "_view_name": "HTMLView",
      "description": "",
      "description_tooltip": null,
      "layout": "IPY_MODEL_54bb908446e648698e30c669becce77b",
      "placeholder": "​",
      "style": "IPY_MODEL_e81e2d999da545c7a3164d9d8d56ca28",
      "value": " 50/50 [00:00&lt;00:00, 165.10it/s]"
     }
    },
    "7ee48e940eab4d3784f441fc93a22045": {
     "model_module": "@jupyter-widgets/base",
     "model_module_version": "1.2.0",
     "model_name": "LayoutModel",
     "state": {
      "_model_module": "@jupyter-widgets/base",
      "_model_module_version": "1.2.0",
      "_model_name": "LayoutModel",
      "_view_count": null,
      "_view_module": "@jupyter-widgets/base",
      "_view_module_version": "1.2.0",
      "_view_name": "LayoutView",
      "align_content": null,
      "align_items": null,
      "align_self": null,
      "border": null,
      "bottom": null,
      "display": null,
      "flex": null,
      "flex_flow": null,
      "grid_area": null,
      "grid_auto_columns": null,
      "grid_auto_flow": null,
      "grid_auto_rows": null,
      "grid_column": null,
      "grid_gap": null,
      "grid_row": null,
      "grid_template_areas": null,
      "grid_template_columns": null,
      "grid_template_rows": null,
      "height": null,
      "justify_content": null,
      "justify_items": null,
      "left": null,
      "margin": null,
      "max_height": null,
      "max_width": null,
      "min_height": null,
      "min_width": null,
      "object_fit": null,
      "object_position": null,
      "order": null,
      "overflow": null,
      "overflow_x": null,
      "overflow_y": null,
      "padding": null,
      "right": null,
      "top": null,
      "visibility": null,
      "width": null
     }
    },
    "7f8b8ba53196438ca68370946d9bb679": {
     "model_module": "@jupyter-widgets/controls",
     "model_module_version": "1.5.0",
     "model_name": "HTMLModel",
     "state": {
      "_dom_classes": [],
      "_model_module": "@jupyter-widgets/controls",
      "_model_module_version": "1.5.0",
      "_model_name": "HTMLModel",
      "_view_count": null,
      "_view_module": "@jupyter-widgets/controls",
      "_view_module_version": "1.5.0",
      "_view_name": "HTMLView",
      "description": "",
      "description_tooltip": null,
      "layout": "IPY_MODEL_b197f436243b4eba9624d64a63070466",
      "placeholder": "​",
      "style": "IPY_MODEL_9c9ce1649a684a41b0ce9301627771c3",
      "value": " 50/50 [00:00&lt;00:00, 134.10it/s]"
     }
    },
    "80ccc0355e1348eb97c2f40be6281ba9": {
     "model_module": "@jupyter-widgets/controls",
     "model_module_version": "1.5.0",
     "model_name": "HBoxModel",
     "state": {
      "_dom_classes": [],
      "_model_module": "@jupyter-widgets/controls",
      "_model_module_version": "1.5.0",
      "_model_name": "HBoxModel",
      "_view_count": null,
      "_view_module": "@jupyter-widgets/controls",
      "_view_module_version": "1.5.0",
      "_view_name": "HBoxView",
      "box_style": "",
      "children": [
       "IPY_MODEL_0b61e6a902b141199adc05666f38238d",
       "IPY_MODEL_03ac900e0aa04e2a967ad8fc3f433b1d"
      ],
      "layout": "IPY_MODEL_faa7436c42084767a41dbd904be0591d"
     }
    },
    "814be7ef7b1145e28ae48fff4d0aacb9": {
     "model_module": "@jupyter-widgets/controls",
     "model_module_version": "1.5.0",
     "model_name": "ProgressStyleModel",
     "state": {
      "_model_module": "@jupyter-widgets/controls",
      "_model_module_version": "1.5.0",
      "_model_name": "ProgressStyleModel",
      "_view_count": null,
      "_view_module": "@jupyter-widgets/base",
      "_view_module_version": "1.2.0",
      "_view_name": "StyleView",
      "bar_color": null,
      "description_width": "initial"
     }
    },
    "8194440074c24a0f920e4c5de8e9c011": {
     "model_module": "@jupyter-widgets/controls",
     "model_module_version": "1.5.0",
     "model_name": "HTMLModel",
     "state": {
      "_dom_classes": [],
      "_model_module": "@jupyter-widgets/controls",
      "_model_module_version": "1.5.0",
      "_model_name": "HTMLModel",
      "_view_count": null,
      "_view_module": "@jupyter-widgets/controls",
      "_view_module_version": "1.5.0",
      "_view_name": "HTMLView",
      "description": "",
      "description_tooltip": null,
      "layout": "IPY_MODEL_f285f06f171a4719a6bf47e7eef0c228",
      "placeholder": "​",
      "style": "IPY_MODEL_e650440e74374341b5818388fb902fa9",
      "value": " 333/333 [00:01&lt;00:00, 280.34it/s]"
     }
    },
    "82d4e5007d584bdc96526d1a468620ee": {
     "model_module": "@jupyter-widgets/base",
     "model_module_version": "1.2.0",
     "model_name": "LayoutModel",
     "state": {
      "_model_module": "@jupyter-widgets/base",
      "_model_module_version": "1.2.0",
      "_model_name": "LayoutModel",
      "_view_count": null,
      "_view_module": "@jupyter-widgets/base",
      "_view_module_version": "1.2.0",
      "_view_name": "LayoutView",
      "align_content": null,
      "align_items": null,
      "align_self": null,
      "border": null,
      "bottom": null,
      "display": null,
      "flex": null,
      "flex_flow": null,
      "grid_area": null,
      "grid_auto_columns": null,
      "grid_auto_flow": null,
      "grid_auto_rows": null,
      "grid_column": null,
      "grid_gap": null,
      "grid_row": null,
      "grid_template_areas": null,
      "grid_template_columns": null,
      "grid_template_rows": null,
      "height": null,
      "justify_content": null,
      "justify_items": null,
      "left": null,
      "margin": null,
      "max_height": null,
      "max_width": null,
      "min_height": null,
      "min_width": null,
      "object_fit": null,
      "object_position": null,
      "order": null,
      "overflow": null,
      "overflow_x": null,
      "overflow_y": null,
      "padding": null,
      "right": null,
      "top": null,
      "visibility": null,
      "width": null
     }
    },
    "83b3650572c04dfebdc196e7cdfb12b3": {
     "model_module": "@jupyter-widgets/controls",
     "model_module_version": "1.5.0",
     "model_name": "FloatProgressModel",
     "state": {
      "_dom_classes": [],
      "_model_module": "@jupyter-widgets/controls",
      "_model_module_version": "1.5.0",
      "_model_name": "FloatProgressModel",
      "_view_count": null,
      "_view_module": "@jupyter-widgets/controls",
      "_view_module_version": "1.5.0",
      "_view_name": "ProgressView",
      "bar_style": "",
      "description": "Eval (train): 100%",
      "description_tooltip": null,
      "layout": "IPY_MODEL_8b54369d343343d8bfb152d5744f5eeb",
      "max": 333,
      "min": 0,
      "orientation": "horizontal",
      "style": "IPY_MODEL_a8c1338d1bbd46c49e313291ff446a91",
      "value": 333
     }
    },
    "83d62218ab164baf8c01b6409c412f4b": {
     "model_module": "@jupyter-widgets/base",
     "model_module_version": "1.2.0",
     "model_name": "LayoutModel",
     "state": {
      "_model_module": "@jupyter-widgets/base",
      "_model_module_version": "1.2.0",
      "_model_name": "LayoutModel",
      "_view_count": null,
      "_view_module": "@jupyter-widgets/base",
      "_view_module_version": "1.2.0",
      "_view_name": "LayoutView",
      "align_content": null,
      "align_items": null,
      "align_self": null,
      "border": null,
      "bottom": null,
      "display": null,
      "flex": null,
      "flex_flow": null,
      "grid_area": null,
      "grid_auto_columns": null,
      "grid_auto_flow": null,
      "grid_auto_rows": null,
      "grid_column": null,
      "grid_gap": null,
      "grid_row": null,
      "grid_template_areas": null,
      "grid_template_columns": null,
      "grid_template_rows": null,
      "height": null,
      "justify_content": null,
      "justify_items": null,
      "left": null,
      "margin": null,
      "max_height": null,
      "max_width": null,
      "min_height": null,
      "min_width": null,
      "object_fit": null,
      "object_position": null,
      "order": null,
      "overflow": null,
      "overflow_x": null,
      "overflow_y": null,
      "padding": null,
      "right": null,
      "top": null,
      "visibility": null,
      "width": null
     }
    },
    "84ef31e9e3a849a6bd576e5e3d82e203": {
     "model_module": "@jupyter-widgets/base",
     "model_module_version": "1.2.0",
     "model_name": "LayoutModel",
     "state": {
      "_model_module": "@jupyter-widgets/base",
      "_model_module_version": "1.2.0",
      "_model_name": "LayoutModel",
      "_view_count": null,
      "_view_module": "@jupyter-widgets/base",
      "_view_module_version": "1.2.0",
      "_view_name": "LayoutView",
      "align_content": null,
      "align_items": null,
      "align_self": null,
      "border": null,
      "bottom": null,
      "display": null,
      "flex": null,
      "flex_flow": null,
      "grid_area": null,
      "grid_auto_columns": null,
      "grid_auto_flow": null,
      "grid_auto_rows": null,
      "grid_column": null,
      "grid_gap": null,
      "grid_row": null,
      "grid_template_areas": null,
      "grid_template_columns": null,
      "grid_template_rows": null,
      "height": null,
      "justify_content": null,
      "justify_items": null,
      "left": null,
      "margin": null,
      "max_height": null,
      "max_width": null,
      "min_height": null,
      "min_width": null,
      "object_fit": null,
      "object_position": null,
      "order": null,
      "overflow": null,
      "overflow_x": null,
      "overflow_y": null,
      "padding": null,
      "right": null,
      "top": null,
      "visibility": null,
      "width": null
     }
    },
    "8617b114e05641a18cf71ef8a2208062": {
     "model_module": "@jupyter-widgets/base",
     "model_module_version": "1.2.0",
     "model_name": "LayoutModel",
     "state": {
      "_model_module": "@jupyter-widgets/base",
      "_model_module_version": "1.2.0",
      "_model_name": "LayoutModel",
      "_view_count": null,
      "_view_module": "@jupyter-widgets/base",
      "_view_module_version": "1.2.0",
      "_view_name": "LayoutView",
      "align_content": null,
      "align_items": null,
      "align_self": null,
      "border": null,
      "bottom": null,
      "display": null,
      "flex": null,
      "flex_flow": null,
      "grid_area": null,
      "grid_auto_columns": null,
      "grid_auto_flow": null,
      "grid_auto_rows": null,
      "grid_column": null,
      "grid_gap": null,
      "grid_row": null,
      "grid_template_areas": null,
      "grid_template_columns": null,
      "grid_template_rows": null,
      "height": null,
      "justify_content": null,
      "justify_items": null,
      "left": null,
      "margin": null,
      "max_height": null,
      "max_width": null,
      "min_height": null,
      "min_width": null,
      "object_fit": null,
      "object_position": null,
      "order": null,
      "overflow": null,
      "overflow_x": null,
      "overflow_y": null,
      "padding": null,
      "right": null,
      "top": null,
      "visibility": null,
      "width": null
     }
    },
    "8879a93f81f6418cb804c566fb60beeb": {
     "model_module": "@jupyter-widgets/base",
     "model_module_version": "1.2.0",
     "model_name": "LayoutModel",
     "state": {
      "_model_module": "@jupyter-widgets/base",
      "_model_module_version": "1.2.0",
      "_model_name": "LayoutModel",
      "_view_count": null,
      "_view_module": "@jupyter-widgets/base",
      "_view_module_version": "1.2.0",
      "_view_name": "LayoutView",
      "align_content": null,
      "align_items": null,
      "align_self": null,
      "border": null,
      "bottom": null,
      "display": null,
      "flex": null,
      "flex_flow": null,
      "grid_area": null,
      "grid_auto_columns": null,
      "grid_auto_flow": null,
      "grid_auto_rows": null,
      "grid_column": null,
      "grid_gap": null,
      "grid_row": null,
      "grid_template_areas": null,
      "grid_template_columns": null,
      "grid_template_rows": null,
      "height": null,
      "justify_content": null,
      "justify_items": null,
      "left": null,
      "margin": null,
      "max_height": null,
      "max_width": null,
      "min_height": null,
      "min_width": null,
      "object_fit": null,
      "object_position": null,
      "order": null,
      "overflow": null,
      "overflow_x": null,
      "overflow_y": null,
      "padding": null,
      "right": null,
      "top": null,
      "visibility": null,
      "width": null
     }
    },
    "898978c99b9b420bb08f04adbefebde4": {
     "model_module": "@jupyter-widgets/controls",
     "model_module_version": "1.5.0",
     "model_name": "DescriptionStyleModel",
     "state": {
      "_model_module": "@jupyter-widgets/controls",
      "_model_module_version": "1.5.0",
      "_model_name": "DescriptionStyleModel",
      "_view_count": null,
      "_view_module": "@jupyter-widgets/base",
      "_view_module_version": "1.2.0",
      "_view_name": "StyleView",
      "description_width": ""
     }
    },
    "89e1d36de8724eaa8ae4ebb24d8c787a": {
     "model_module": "@jupyter-widgets/controls",
     "model_module_version": "1.5.0",
     "model_name": "HBoxModel",
     "state": {
      "_dom_classes": [],
      "_model_module": "@jupyter-widgets/controls",
      "_model_module_version": "1.5.0",
      "_model_name": "HBoxModel",
      "_view_count": null,
      "_view_module": "@jupyter-widgets/controls",
      "_view_module_version": "1.5.0",
      "_view_name": "HBoxView",
      "box_style": "",
      "children": [
       "IPY_MODEL_c72f283848594f94ab3b5e6deb4aa410",
       "IPY_MODEL_3be50733d1604f378ee61f9972ad1415"
      ],
      "layout": "IPY_MODEL_7ee48e940eab4d3784f441fc93a22045"
     }
    },
    "8b54369d343343d8bfb152d5744f5eeb": {
     "model_module": "@jupyter-widgets/base",
     "model_module_version": "1.2.0",
     "model_name": "LayoutModel",
     "state": {
      "_model_module": "@jupyter-widgets/base",
      "_model_module_version": "1.2.0",
      "_model_name": "LayoutModel",
      "_view_count": null,
      "_view_module": "@jupyter-widgets/base",
      "_view_module_version": "1.2.0",
      "_view_name": "LayoutView",
      "align_content": null,
      "align_items": null,
      "align_self": null,
      "border": null,
      "bottom": null,
      "display": null,
      "flex": null,
      "flex_flow": null,
      "grid_area": null,
      "grid_auto_columns": null,
      "grid_auto_flow": null,
      "grid_auto_rows": null,
      "grid_column": null,
      "grid_gap": null,
      "grid_row": null,
      "grid_template_areas": null,
      "grid_template_columns": null,
      "grid_template_rows": null,
      "height": null,
      "justify_content": null,
      "justify_items": null,
      "left": null,
      "margin": null,
      "max_height": null,
      "max_width": null,
      "min_height": null,
      "min_width": null,
      "object_fit": null,
      "object_position": null,
      "order": null,
      "overflow": null,
      "overflow_x": null,
      "overflow_y": null,
      "padding": null,
      "right": null,
      "top": null,
      "visibility": null,
      "width": null
     }
    },
    "8cdca22b785d4b3fb7be719a626bf7f7": {
     "model_module": "@jupyter-widgets/controls",
     "model_module_version": "1.5.0",
     "model_name": "HTMLModel",
     "state": {
      "_dom_classes": [],
      "_model_module": "@jupyter-widgets/controls",
      "_model_module_version": "1.5.0",
      "_model_name": "HTMLModel",
      "_view_count": null,
      "_view_module": "@jupyter-widgets/controls",
      "_view_module_version": "1.5.0",
      "_view_name": "HTMLView",
      "description": "",
      "description_tooltip": null,
      "layout": "IPY_MODEL_2ce07cb7d629428fa33cce1caeb3964b",
      "placeholder": "​",
      "style": "IPY_MODEL_b142cfee9c084681bf622870c1244e37",
      "value": " 50/50 [00:00&lt;00:00, 132.04it/s]"
     }
    },
    "8f1922da105044c6b5032d9c1431c096": {
     "model_module": "@jupyter-widgets/controls",
     "model_module_version": "1.5.0",
     "model_name": "FloatProgressModel",
     "state": {
      "_dom_classes": [],
      "_model_module": "@jupyter-widgets/controls",
      "_model_module_version": "1.5.0",
      "_model_name": "FloatProgressModel",
      "_view_count": null,
      "_view_module": "@jupyter-widgets/controls",
      "_view_module_version": "1.5.0",
      "_view_name": "ProgressView",
      "bar_style": "",
      "description": "Eval (train): 100%",
      "description_tooltip": null,
      "layout": "IPY_MODEL_0ee30b20c2aa4e95b9f3e09f57e1bdbc",
      "max": 333,
      "min": 0,
      "orientation": "horizontal",
      "style": "IPY_MODEL_40f537e2dd124db4a51fe7f853b74231",
      "value": 333
     }
    },
    "8f738b97ea3e4d4d82f7e25fedc5b06f": {
     "model_module": "@jupyter-widgets/controls",
     "model_module_version": "1.5.0",
     "model_name": "DescriptionStyleModel",
     "state": {
      "_model_module": "@jupyter-widgets/controls",
      "_model_module_version": "1.5.0",
      "_model_name": "DescriptionStyleModel",
      "_view_count": null,
      "_view_module": "@jupyter-widgets/base",
      "_view_module_version": "1.2.0",
      "_view_name": "StyleView",
      "description_width": ""
     }
    },
    "903d032e964244a886a52561ae68b28e": {
     "model_module": "@jupyter-widgets/controls",
     "model_module_version": "1.5.0",
     "model_name": "DescriptionStyleModel",
     "state": {
      "_model_module": "@jupyter-widgets/controls",
      "_model_module_version": "1.5.0",
      "_model_name": "DescriptionStyleModel",
      "_view_count": null,
      "_view_module": "@jupyter-widgets/base",
      "_view_module_version": "1.2.0",
      "_view_name": "StyleView",
      "description_width": ""
     }
    },
    "92028aeabd5f4712bf37e65ba065f135": {
     "model_module": "@jupyter-widgets/base",
     "model_module_version": "1.2.0",
     "model_name": "LayoutModel",
     "state": {
      "_model_module": "@jupyter-widgets/base",
      "_model_module_version": "1.2.0",
      "_model_name": "LayoutModel",
      "_view_count": null,
      "_view_module": "@jupyter-widgets/base",
      "_view_module_version": "1.2.0",
      "_view_name": "LayoutView",
      "align_content": null,
      "align_items": null,
      "align_self": null,
      "border": null,
      "bottom": null,
      "display": null,
      "flex": null,
      "flex_flow": null,
      "grid_area": null,
      "grid_auto_columns": null,
      "grid_auto_flow": null,
      "grid_auto_rows": null,
      "grid_column": null,
      "grid_gap": null,
      "grid_row": null,
      "grid_template_areas": null,
      "grid_template_columns": null,
      "grid_template_rows": null,
      "height": null,
      "justify_content": null,
      "justify_items": null,
      "left": null,
      "margin": null,
      "max_height": null,
      "max_width": null,
      "min_height": null,
      "min_width": null,
      "object_fit": null,
      "object_position": null,
      "order": null,
      "overflow": null,
      "overflow_x": null,
      "overflow_y": null,
      "padding": null,
      "right": null,
      "top": null,
      "visibility": null,
      "width": null
     }
    },
    "926c491d7aaa445d87a53af21b6045b1": {
     "model_module": "@jupyter-widgets/base",
     "model_module_version": "1.2.0",
     "model_name": "LayoutModel",
     "state": {
      "_model_module": "@jupyter-widgets/base",
      "_model_module_version": "1.2.0",
      "_model_name": "LayoutModel",
      "_view_count": null,
      "_view_module": "@jupyter-widgets/base",
      "_view_module_version": "1.2.0",
      "_view_name": "LayoutView",
      "align_content": null,
      "align_items": null,
      "align_self": null,
      "border": null,
      "bottom": null,
      "display": null,
      "flex": null,
      "flex_flow": null,
      "grid_area": null,
      "grid_auto_columns": null,
      "grid_auto_flow": null,
      "grid_auto_rows": null,
      "grid_column": null,
      "grid_gap": null,
      "grid_row": null,
      "grid_template_areas": null,
      "grid_template_columns": null,
      "grid_template_rows": null,
      "height": null,
      "justify_content": null,
      "justify_items": null,
      "left": null,
      "margin": null,
      "max_height": null,
      "max_width": null,
      "min_height": null,
      "min_width": null,
      "object_fit": null,
      "object_position": null,
      "order": null,
      "overflow": null,
      "overflow_x": null,
      "overflow_y": null,
      "padding": null,
      "right": null,
      "top": null,
      "visibility": null,
      "width": null
     }
    },
    "92a3ae61860746b4bc392513cdbd5ba8": {
     "model_module": "@jupyter-widgets/base",
     "model_module_version": "1.2.0",
     "model_name": "LayoutModel",
     "state": {
      "_model_module": "@jupyter-widgets/base",
      "_model_module_version": "1.2.0",
      "_model_name": "LayoutModel",
      "_view_count": null,
      "_view_module": "@jupyter-widgets/base",
      "_view_module_version": "1.2.0",
      "_view_name": "LayoutView",
      "align_content": null,
      "align_items": null,
      "align_self": null,
      "border": null,
      "bottom": null,
      "display": null,
      "flex": null,
      "flex_flow": null,
      "grid_area": null,
      "grid_auto_columns": null,
      "grid_auto_flow": null,
      "grid_auto_rows": null,
      "grid_column": null,
      "grid_gap": null,
      "grid_row": null,
      "grid_template_areas": null,
      "grid_template_columns": null,
      "grid_template_rows": null,
      "height": null,
      "justify_content": null,
      "justify_items": null,
      "left": null,
      "margin": null,
      "max_height": null,
      "max_width": null,
      "min_height": null,
      "min_width": null,
      "object_fit": null,
      "object_position": null,
      "order": null,
      "overflow": null,
      "overflow_x": null,
      "overflow_y": null,
      "padding": null,
      "right": null,
      "top": null,
      "visibility": null,
      "width": null
     }
    },
    "93789e6aef644f55809fdaf4430ddb6e": {
     "model_module": "@jupyter-widgets/base",
     "model_module_version": "1.2.0",
     "model_name": "LayoutModel",
     "state": {
      "_model_module": "@jupyter-widgets/base",
      "_model_module_version": "1.2.0",
      "_model_name": "LayoutModel",
      "_view_count": null,
      "_view_module": "@jupyter-widgets/base",
      "_view_module_version": "1.2.0",
      "_view_name": "LayoutView",
      "align_content": null,
      "align_items": null,
      "align_self": null,
      "border": null,
      "bottom": null,
      "display": null,
      "flex": null,
      "flex_flow": null,
      "grid_area": null,
      "grid_auto_columns": null,
      "grid_auto_flow": null,
      "grid_auto_rows": null,
      "grid_column": null,
      "grid_gap": null,
      "grid_row": null,
      "grid_template_areas": null,
      "grid_template_columns": null,
      "grid_template_rows": null,
      "height": null,
      "justify_content": null,
      "justify_items": null,
      "left": null,
      "margin": null,
      "max_height": null,
      "max_width": null,
      "min_height": null,
      "min_width": null,
      "object_fit": null,
      "object_position": null,
      "order": null,
      "overflow": null,
      "overflow_x": null,
      "overflow_y": null,
      "padding": null,
      "right": null,
      "top": null,
      "visibility": null,
      "width": null
     }
    },
    "946ee19c45f640d08c845531db4d35b2": {
     "model_module": "@jupyter-widgets/controls",
     "model_module_version": "1.5.0",
     "model_name": "HBoxModel",
     "state": {
      "_dom_classes": [],
      "_model_module": "@jupyter-widgets/controls",
      "_model_module_version": "1.5.0",
      "_model_name": "HBoxModel",
      "_view_count": null,
      "_view_module": "@jupyter-widgets/controls",
      "_view_module_version": "1.5.0",
      "_view_name": "HBoxView",
      "box_style": "",
      "children": [
       "IPY_MODEL_bd53cac598f64601824d0e41e3e0f32f",
       "IPY_MODEL_dbfc0bbef4014e0bb4eab00b7a72633a"
      ],
      "layout": "IPY_MODEL_a79c99fdf094472a837d94fdf586e6e1"
     }
    },
    "957177d7b8c04f20824dc51eefda1d13": {
     "model_module": "@jupyter-widgets/controls",
     "model_module_version": "1.5.0",
     "model_name": "ProgressStyleModel",
     "state": {
      "_model_module": "@jupyter-widgets/controls",
      "_model_module_version": "1.5.0",
      "_model_name": "ProgressStyleModel",
      "_view_count": null,
      "_view_module": "@jupyter-widgets/base",
      "_view_module_version": "1.2.0",
      "_view_name": "StyleView",
      "bar_color": null,
      "description_width": "initial"
     }
    },
    "95f50883b3d7421d91f84afadba71fed": {
     "model_module": "@jupyter-widgets/base",
     "model_module_version": "1.2.0",
     "model_name": "LayoutModel",
     "state": {
      "_model_module": "@jupyter-widgets/base",
      "_model_module_version": "1.2.0",
      "_model_name": "LayoutModel",
      "_view_count": null,
      "_view_module": "@jupyter-widgets/base",
      "_view_module_version": "1.2.0",
      "_view_name": "LayoutView",
      "align_content": null,
      "align_items": null,
      "align_self": null,
      "border": null,
      "bottom": null,
      "display": null,
      "flex": null,
      "flex_flow": null,
      "grid_area": null,
      "grid_auto_columns": null,
      "grid_auto_flow": null,
      "grid_auto_rows": null,
      "grid_column": null,
      "grid_gap": null,
      "grid_row": null,
      "grid_template_areas": null,
      "grid_template_columns": null,
      "grid_template_rows": null,
      "height": null,
      "justify_content": null,
      "justify_items": null,
      "left": null,
      "margin": null,
      "max_height": null,
      "max_width": null,
      "min_height": null,
      "min_width": null,
      "object_fit": null,
      "object_position": null,
      "order": null,
      "overflow": null,
      "overflow_x": null,
      "overflow_y": null,
      "padding": null,
      "right": null,
      "top": null,
      "visibility": null,
      "width": null
     }
    },
    "9a42f5521b1e44db8e4109076277d31e": {
     "model_module": "@jupyter-widgets/controls",
     "model_module_version": "1.5.0",
     "model_name": "HTMLModel",
     "state": {
      "_dom_classes": [],
      "_model_module": "@jupyter-widgets/controls",
      "_model_module_version": "1.5.0",
      "_model_name": "HTMLModel",
      "_view_count": null,
      "_view_module": "@jupyter-widgets/controls",
      "_view_module_version": "1.5.0",
      "_view_name": "HTMLView",
      "description": "",
      "description_tooltip": null,
      "layout": "IPY_MODEL_ea5baf7cbf3a46c8b90e709b250b7125",
      "placeholder": "​",
      "style": "IPY_MODEL_4d011e9eff624fd4ad8e6009bff2eb02",
      "value": " 50/50 [00:00&lt;00:00, 162.03it/s]"
     }
    },
    "9a8f79ae639d473fb26a8ee0ce0ee7bd": {
     "model_module": "@jupyter-widgets/controls",
     "model_module_version": "1.5.0",
     "model_name": "HBoxModel",
     "state": {
      "_dom_classes": [],
      "_model_module": "@jupyter-widgets/controls",
      "_model_module_version": "1.5.0",
      "_model_name": "HBoxModel",
      "_view_count": null,
      "_view_module": "@jupyter-widgets/controls",
      "_view_module_version": "1.5.0",
      "_view_name": "HBoxView",
      "box_style": "",
      "children": [
       "IPY_MODEL_be5de4a36ad34a2ea3d82cb986780f27",
       "IPY_MODEL_51d10b208b854e91b31a61111fbd4645"
      ],
      "layout": "IPY_MODEL_ac5924949a024633ad6861cf0b98bd13"
     }
    },
    "9c51770136724cecb33455a59c5bbf7c": {
     "model_module": "@jupyter-widgets/controls",
     "model_module_version": "1.5.0",
     "model_name": "FloatProgressModel",
     "state": {
      "_dom_classes": [],
      "_model_module": "@jupyter-widgets/controls",
      "_model_module_version": "1.5.0",
      "_model_name": "FloatProgressModel",
      "_view_count": null,
      "_view_module": "@jupyter-widgets/controls",
      "_view_module_version": "1.5.0",
      "_view_name": "ProgressView",
      "bar_style": "",
      "description": "Eval (train): 100%",
      "description_tooltip": null,
      "layout": "IPY_MODEL_1f60e69b77cd4213b3c0553599e216dd",
      "max": 333,
      "min": 0,
      "orientation": "horizontal",
      "style": "IPY_MODEL_73e0dda2cf51456a9be9d6603f95239a",
      "value": 333
     }
    },
    "9c9ce1649a684a41b0ce9301627771c3": {
     "model_module": "@jupyter-widgets/controls",
     "model_module_version": "1.5.0",
     "model_name": "DescriptionStyleModel",
     "state": {
      "_model_module": "@jupyter-widgets/controls",
      "_model_module_version": "1.5.0",
      "_model_name": "DescriptionStyleModel",
      "_view_count": null,
      "_view_module": "@jupyter-widgets/base",
      "_view_module_version": "1.2.0",
      "_view_name": "StyleView",
      "description_width": ""
     }
    },
    "9fca7e75567c46119a4399545a5c43ce": {
     "model_module": "@jupyter-widgets/controls",
     "model_module_version": "1.5.0",
     "model_name": "HBoxModel",
     "state": {
      "_dom_classes": [],
      "_model_module": "@jupyter-widgets/controls",
      "_model_module_version": "1.5.0",
      "_model_name": "HBoxModel",
      "_view_count": null,
      "_view_module": "@jupyter-widgets/controls",
      "_view_module_version": "1.5.0",
      "_view_name": "HBoxView",
      "box_style": "",
      "children": [
       "IPY_MODEL_8f1922da105044c6b5032d9c1431c096",
       "IPY_MODEL_7d2409257644471ca2fa155ff43cce6d"
      ],
      "layout": "IPY_MODEL_3d5df921ef9c43a98c98e1f4fd0571d9"
     }
    },
    "a0e39fd4b7014995a215c31a17c417d2": {
     "model_module": "@jupyter-widgets/controls",
     "model_module_version": "1.5.0",
     "model_name": "HTMLModel",
     "state": {
      "_dom_classes": [],
      "_model_module": "@jupyter-widgets/controls",
      "_model_module_version": "1.5.0",
      "_model_name": "HTMLModel",
      "_view_count": null,
      "_view_module": "@jupyter-widgets/controls",
      "_view_module_version": "1.5.0",
      "_view_name": "HTMLView",
      "description": "",
      "description_tooltip": null,
      "layout": "IPY_MODEL_0858119152f74c47866063c0ddfb8ad0",
      "placeholder": "​",
      "style": "IPY_MODEL_153a2a7783d74697b34dc2befe3dad85",
      "value": " 50/50 [00:02&lt;00:00, 25.25it/s]"
     }
    },
    "a284b909979d4b7db28bd0edd3f74da4": {
     "model_module": "@jupyter-widgets/controls",
     "model_module_version": "1.5.0",
     "model_name": "ProgressStyleModel",
     "state": {
      "_model_module": "@jupyter-widgets/controls",
      "_model_module_version": "1.5.0",
      "_model_name": "ProgressStyleModel",
      "_view_count": null,
      "_view_module": "@jupyter-widgets/base",
      "_view_module_version": "1.2.0",
      "_view_name": "StyleView",
      "bar_color": null,
      "description_width": "initial"
     }
    },
    "a2952bdfb41f4ab4bb4a33c994db2640": {
     "model_module": "@jupyter-widgets/controls",
     "model_module_version": "1.5.0",
     "model_name": "ProgressStyleModel",
     "state": {
      "_model_module": "@jupyter-widgets/controls",
      "_model_module_version": "1.5.0",
      "_model_name": "ProgressStyleModel",
      "_view_count": null,
      "_view_module": "@jupyter-widgets/base",
      "_view_module_version": "1.2.0",
      "_view_name": "StyleView",
      "bar_color": null,
      "description_width": "initial"
     }
    },
    "a44232da460a4dd1a632d73e4291b252": {
     "model_module": "@jupyter-widgets/base",
     "model_module_version": "1.2.0",
     "model_name": "LayoutModel",
     "state": {
      "_model_module": "@jupyter-widgets/base",
      "_model_module_version": "1.2.0",
      "_model_name": "LayoutModel",
      "_view_count": null,
      "_view_module": "@jupyter-widgets/base",
      "_view_module_version": "1.2.0",
      "_view_name": "LayoutView",
      "align_content": null,
      "align_items": null,
      "align_self": null,
      "border": null,
      "bottom": null,
      "display": null,
      "flex": null,
      "flex_flow": null,
      "grid_area": null,
      "grid_auto_columns": null,
      "grid_auto_flow": null,
      "grid_auto_rows": null,
      "grid_column": null,
      "grid_gap": null,
      "grid_row": null,
      "grid_template_areas": null,
      "grid_template_columns": null,
      "grid_template_rows": null,
      "height": null,
      "justify_content": null,
      "justify_items": null,
      "left": null,
      "margin": null,
      "max_height": null,
      "max_width": null,
      "min_height": null,
      "min_width": null,
      "object_fit": null,
      "object_position": null,
      "order": null,
      "overflow": null,
      "overflow_x": null,
      "overflow_y": null,
      "padding": null,
      "right": null,
      "top": null,
      "visibility": null,
      "width": null
     }
    },
    "a5b9d93f678d47e580c7573a35c75868": {
     "model_module": "@jupyter-widgets/controls",
     "model_module_version": "1.5.0",
     "model_name": "ProgressStyleModel",
     "state": {
      "_model_module": "@jupyter-widgets/controls",
      "_model_module_version": "1.5.0",
      "_model_name": "ProgressStyleModel",
      "_view_count": null,
      "_view_module": "@jupyter-widgets/base",
      "_view_module_version": "1.2.0",
      "_view_name": "StyleView",
      "bar_color": null,
      "description_width": "initial"
     }
    },
    "a5cc49bd337a48ab977ceaafb03c7703": {
     "model_module": "@jupyter-widgets/controls",
     "model_module_version": "1.5.0",
     "model_name": "HTMLModel",
     "state": {
      "_dom_classes": [],
      "_model_module": "@jupyter-widgets/controls",
      "_model_module_version": "1.5.0",
      "_model_name": "HTMLModel",
      "_view_count": null,
      "_view_module": "@jupyter-widgets/controls",
      "_view_module_version": "1.5.0",
      "_view_name": "HTMLView",
      "description": "",
      "description_tooltip": null,
      "layout": "IPY_MODEL_58a4349f7fce446e8cb9766b6f785abb",
      "placeholder": "​",
      "style": "IPY_MODEL_0a61eb6ee8084d36acab72d366a8a1a4",
      "value": " 333/333 [00:01&lt;00:00, 272.54it/s]"
     }
    },
    "a79c99fdf094472a837d94fdf586e6e1": {
     "model_module": "@jupyter-widgets/base",
     "model_module_version": "1.2.0",
     "model_name": "LayoutModel",
     "state": {
      "_model_module": "@jupyter-widgets/base",
      "_model_module_version": "1.2.0",
      "_model_name": "LayoutModel",
      "_view_count": null,
      "_view_module": "@jupyter-widgets/base",
      "_view_module_version": "1.2.0",
      "_view_name": "LayoutView",
      "align_content": null,
      "align_items": null,
      "align_self": null,
      "border": null,
      "bottom": null,
      "display": null,
      "flex": null,
      "flex_flow": null,
      "grid_area": null,
      "grid_auto_columns": null,
      "grid_auto_flow": null,
      "grid_auto_rows": null,
      "grid_column": null,
      "grid_gap": null,
      "grid_row": null,
      "grid_template_areas": null,
      "grid_template_columns": null,
      "grid_template_rows": null,
      "height": null,
      "justify_content": null,
      "justify_items": null,
      "left": null,
      "margin": null,
      "max_height": null,
      "max_width": null,
      "min_height": null,
      "min_width": null,
      "object_fit": null,
      "object_position": null,
      "order": null,
      "overflow": null,
      "overflow_x": null,
      "overflow_y": null,
      "padding": null,
      "right": null,
      "top": null,
      "visibility": null,
      "width": null
     }
    },
    "a7faa720c7f34252874fbc180edcd01e": {
     "model_module": "@jupyter-widgets/controls",
     "model_module_version": "1.5.0",
     "model_name": "FloatProgressModel",
     "state": {
      "_dom_classes": [],
      "_model_module": "@jupyter-widgets/controls",
      "_model_module_version": "1.5.0",
      "_model_name": "FloatProgressModel",
      "_view_count": null,
      "_view_module": "@jupyter-widgets/controls",
      "_view_module_version": "1.5.0",
      "_view_name": "ProgressView",
      "bar_style": "",
      "description": "Eval (validation): 100%",
      "description_tooltip": null,
      "layout": "IPY_MODEL_1205ef052acc45f984a1c8964f7e4af3",
      "max": 50,
      "min": 0,
      "orientation": "horizontal",
      "style": "IPY_MODEL_5d231b38862e463cbd6e7c864755c1d3",
      "value": 50
     }
    },
    "a83954fd1da64989b6b24c290c443a14": {
     "model_module": "@jupyter-widgets/base",
     "model_module_version": "1.2.0",
     "model_name": "LayoutModel",
     "state": {
      "_model_module": "@jupyter-widgets/base",
      "_model_module_version": "1.2.0",
      "_model_name": "LayoutModel",
      "_view_count": null,
      "_view_module": "@jupyter-widgets/base",
      "_view_module_version": "1.2.0",
      "_view_name": "LayoutView",
      "align_content": null,
      "align_items": null,
      "align_self": null,
      "border": null,
      "bottom": null,
      "display": null,
      "flex": null,
      "flex_flow": null,
      "grid_area": null,
      "grid_auto_columns": null,
      "grid_auto_flow": null,
      "grid_auto_rows": null,
      "grid_column": null,
      "grid_gap": null,
      "grid_row": null,
      "grid_template_areas": null,
      "grid_template_columns": null,
      "grid_template_rows": null,
      "height": null,
      "justify_content": null,
      "justify_items": null,
      "left": null,
      "margin": null,
      "max_height": null,
      "max_width": null,
      "min_height": null,
      "min_width": null,
      "object_fit": null,
      "object_position": null,
      "order": null,
      "overflow": null,
      "overflow_x": null,
      "overflow_y": null,
      "padding": null,
      "right": null,
      "top": null,
      "visibility": null,
      "width": null
     }
    },
    "a8c1338d1bbd46c49e313291ff446a91": {
     "model_module": "@jupyter-widgets/controls",
     "model_module_version": "1.5.0",
     "model_name": "ProgressStyleModel",
     "state": {
      "_model_module": "@jupyter-widgets/controls",
      "_model_module_version": "1.5.0",
      "_model_name": "ProgressStyleModel",
      "_view_count": null,
      "_view_module": "@jupyter-widgets/base",
      "_view_module_version": "1.2.0",
      "_view_name": "StyleView",
      "bar_color": null,
      "description_width": "initial"
     }
    },
    "a8f00d4307c14291b360ad9b754e502a": {
     "model_module": "@jupyter-widgets/controls",
     "model_module_version": "1.5.0",
     "model_name": "HTMLModel",
     "state": {
      "_dom_classes": [],
      "_model_module": "@jupyter-widgets/controls",
      "_model_module_version": "1.5.0",
      "_model_name": "HTMLModel",
      "_view_count": null,
      "_view_module": "@jupyter-widgets/controls",
      "_view_module_version": "1.5.0",
      "_view_name": "HTMLView",
      "description": "",
      "description_tooltip": null,
      "layout": "IPY_MODEL_fac355a2a19f45fea7594ea863b66b0f",
      "placeholder": "​",
      "style": "IPY_MODEL_7c4e8702fb314b3b9d6345d7f7f6b138",
      "value": " 50/50 [00:01&lt;00:00, 37.47it/s]"
     }
    },
    "aa3f96e02a9e4f6f981a1386cfdf807b": {
     "model_module": "@jupyter-widgets/base",
     "model_module_version": "1.2.0",
     "model_name": "LayoutModel",
     "state": {
      "_model_module": "@jupyter-widgets/base",
      "_model_module_version": "1.2.0",
      "_model_name": "LayoutModel",
      "_view_count": null,
      "_view_module": "@jupyter-widgets/base",
      "_view_module_version": "1.2.0",
      "_view_name": "LayoutView",
      "align_content": null,
      "align_items": null,
      "align_self": null,
      "border": null,
      "bottom": null,
      "display": null,
      "flex": null,
      "flex_flow": null,
      "grid_area": null,
      "grid_auto_columns": null,
      "grid_auto_flow": null,
      "grid_auto_rows": null,
      "grid_column": null,
      "grid_gap": null,
      "grid_row": null,
      "grid_template_areas": null,
      "grid_template_columns": null,
      "grid_template_rows": null,
      "height": null,
      "justify_content": null,
      "justify_items": null,
      "left": null,
      "margin": null,
      "max_height": null,
      "max_width": null,
      "min_height": null,
      "min_width": null,
      "object_fit": null,
      "object_position": null,
      "order": null,
      "overflow": null,
      "overflow_x": null,
      "overflow_y": null,
      "padding": null,
      "right": null,
      "top": null,
      "visibility": null,
      "width": null
     }
    },
    "ac5924949a024633ad6861cf0b98bd13": {
     "model_module": "@jupyter-widgets/base",
     "model_module_version": "1.2.0",
     "model_name": "LayoutModel",
     "state": {
      "_model_module": "@jupyter-widgets/base",
      "_model_module_version": "1.2.0",
      "_model_name": "LayoutModel",
      "_view_count": null,
      "_view_module": "@jupyter-widgets/base",
      "_view_module_version": "1.2.0",
      "_view_name": "LayoutView",
      "align_content": null,
      "align_items": null,
      "align_self": null,
      "border": null,
      "bottom": null,
      "display": null,
      "flex": null,
      "flex_flow": null,
      "grid_area": null,
      "grid_auto_columns": null,
      "grid_auto_flow": null,
      "grid_auto_rows": null,
      "grid_column": null,
      "grid_gap": null,
      "grid_row": null,
      "grid_template_areas": null,
      "grid_template_columns": null,
      "grid_template_rows": null,
      "height": null,
      "justify_content": null,
      "justify_items": null,
      "left": null,
      "margin": null,
      "max_height": null,
      "max_width": null,
      "min_height": null,
      "min_width": null,
      "object_fit": null,
      "object_position": null,
      "order": null,
      "overflow": null,
      "overflow_x": null,
      "overflow_y": null,
      "padding": null,
      "right": null,
      "top": null,
      "visibility": null,
      "width": null
     }
    },
    "adb4f3ac125d47acbef36f4c33e9c24b": {
     "model_module": "@jupyter-widgets/controls",
     "model_module_version": "1.5.0",
     "model_name": "FloatProgressModel",
     "state": {
      "_dom_classes": [],
      "_model_module": "@jupyter-widgets/controls",
      "_model_module_version": "1.5.0",
      "_model_name": "FloatProgressModel",
      "_view_count": null,
      "_view_module": "@jupyter-widgets/controls",
      "_view_module_version": "1.5.0",
      "_view_name": "ProgressView",
      "bar_style": "",
      "description": "Eval (validation): 100%",
      "description_tooltip": null,
      "layout": "IPY_MODEL_83d62218ab164baf8c01b6409c412f4b",
      "max": 50,
      "min": 0,
      "orientation": "horizontal",
      "style": "IPY_MODEL_313ecdf8d1e9495883d207c8bf17018e",
      "value": 50
     }
    },
    "b093c80b7bf24286a84ce54cf35c7e4b": {
     "model_module": "@jupyter-widgets/base",
     "model_module_version": "1.2.0",
     "model_name": "LayoutModel",
     "state": {
      "_model_module": "@jupyter-widgets/base",
      "_model_module_version": "1.2.0",
      "_model_name": "LayoutModel",
      "_view_count": null,
      "_view_module": "@jupyter-widgets/base",
      "_view_module_version": "1.2.0",
      "_view_name": "LayoutView",
      "align_content": null,
      "align_items": null,
      "align_self": null,
      "border": null,
      "bottom": null,
      "display": null,
      "flex": null,
      "flex_flow": null,
      "grid_area": null,
      "grid_auto_columns": null,
      "grid_auto_flow": null,
      "grid_auto_rows": null,
      "grid_column": null,
      "grid_gap": null,
      "grid_row": null,
      "grid_template_areas": null,
      "grid_template_columns": null,
      "grid_template_rows": null,
      "height": null,
      "justify_content": null,
      "justify_items": null,
      "left": null,
      "margin": null,
      "max_height": null,
      "max_width": null,
      "min_height": null,
      "min_width": null,
      "object_fit": null,
      "object_position": null,
      "order": null,
      "overflow": null,
      "overflow_x": null,
      "overflow_y": null,
      "padding": null,
      "right": null,
      "top": null,
      "visibility": null,
      "width": null
     }
    },
    "b0e40afeb6a140e981f96688823fe9fc": {
     "model_module": "@jupyter-widgets/base",
     "model_module_version": "1.2.0",
     "model_name": "LayoutModel",
     "state": {
      "_model_module": "@jupyter-widgets/base",
      "_model_module_version": "1.2.0",
      "_model_name": "LayoutModel",
      "_view_count": null,
      "_view_module": "@jupyter-widgets/base",
      "_view_module_version": "1.2.0",
      "_view_name": "LayoutView",
      "align_content": null,
      "align_items": null,
      "align_self": null,
      "border": null,
      "bottom": null,
      "display": null,
      "flex": null,
      "flex_flow": null,
      "grid_area": null,
      "grid_auto_columns": null,
      "grid_auto_flow": null,
      "grid_auto_rows": null,
      "grid_column": null,
      "grid_gap": null,
      "grid_row": null,
      "grid_template_areas": null,
      "grid_template_columns": null,
      "grid_template_rows": null,
      "height": null,
      "justify_content": null,
      "justify_items": null,
      "left": null,
      "margin": null,
      "max_height": null,
      "max_width": null,
      "min_height": null,
      "min_width": null,
      "object_fit": null,
      "object_position": null,
      "order": null,
      "overflow": null,
      "overflow_x": null,
      "overflow_y": null,
      "padding": null,
      "right": null,
      "top": null,
      "visibility": null,
      "width": null
     }
    },
    "b0e9fc78a9194232b1bbe4a5a2fbeff7": {
     "model_module": "@jupyter-widgets/base",
     "model_module_version": "1.2.0",
     "model_name": "LayoutModel",
     "state": {
      "_model_module": "@jupyter-widgets/base",
      "_model_module_version": "1.2.0",
      "_model_name": "LayoutModel",
      "_view_count": null,
      "_view_module": "@jupyter-widgets/base",
      "_view_module_version": "1.2.0",
      "_view_name": "LayoutView",
      "align_content": null,
      "align_items": null,
      "align_self": null,
      "border": null,
      "bottom": null,
      "display": null,
      "flex": null,
      "flex_flow": null,
      "grid_area": null,
      "grid_auto_columns": null,
      "grid_auto_flow": null,
      "grid_auto_rows": null,
      "grid_column": null,
      "grid_gap": null,
      "grid_row": null,
      "grid_template_areas": null,
      "grid_template_columns": null,
      "grid_template_rows": null,
      "height": null,
      "justify_content": null,
      "justify_items": null,
      "left": null,
      "margin": null,
      "max_height": null,
      "max_width": null,
      "min_height": null,
      "min_width": null,
      "object_fit": null,
      "object_position": null,
      "order": null,
      "overflow": null,
      "overflow_x": null,
      "overflow_y": null,
      "padding": null,
      "right": null,
      "top": null,
      "visibility": null,
      "width": null
     }
    },
    "b142cfee9c084681bf622870c1244e37": {
     "model_module": "@jupyter-widgets/controls",
     "model_module_version": "1.5.0",
     "model_name": "DescriptionStyleModel",
     "state": {
      "_model_module": "@jupyter-widgets/controls",
      "_model_module_version": "1.5.0",
      "_model_name": "DescriptionStyleModel",
      "_view_count": null,
      "_view_module": "@jupyter-widgets/base",
      "_view_module_version": "1.2.0",
      "_view_name": "StyleView",
      "description_width": ""
     }
    },
    "b197f436243b4eba9624d64a63070466": {
     "model_module": "@jupyter-widgets/base",
     "model_module_version": "1.2.0",
     "model_name": "LayoutModel",
     "state": {
      "_model_module": "@jupyter-widgets/base",
      "_model_module_version": "1.2.0",
      "_model_name": "LayoutModel",
      "_view_count": null,
      "_view_module": "@jupyter-widgets/base",
      "_view_module_version": "1.2.0",
      "_view_name": "LayoutView",
      "align_content": null,
      "align_items": null,
      "align_self": null,
      "border": null,
      "bottom": null,
      "display": null,
      "flex": null,
      "flex_flow": null,
      "grid_area": null,
      "grid_auto_columns": null,
      "grid_auto_flow": null,
      "grid_auto_rows": null,
      "grid_column": null,
      "grid_gap": null,
      "grid_row": null,
      "grid_template_areas": null,
      "grid_template_columns": null,
      "grid_template_rows": null,
      "height": null,
      "justify_content": null,
      "justify_items": null,
      "left": null,
      "margin": null,
      "max_height": null,
      "max_width": null,
      "min_height": null,
      "min_width": null,
      "object_fit": null,
      "object_position": null,
      "order": null,
      "overflow": null,
      "overflow_x": null,
      "overflow_y": null,
      "padding": null,
      "right": null,
      "top": null,
      "visibility": null,
      "width": null
     }
    },
    "b1a3b16ec39847d58ccc85f2dd8185bc": {
     "model_module": "@jupyter-widgets/base",
     "model_module_version": "1.2.0",
     "model_name": "LayoutModel",
     "state": {
      "_model_module": "@jupyter-widgets/base",
      "_model_module_version": "1.2.0",
      "_model_name": "LayoutModel",
      "_view_count": null,
      "_view_module": "@jupyter-widgets/base",
      "_view_module_version": "1.2.0",
      "_view_name": "LayoutView",
      "align_content": null,
      "align_items": null,
      "align_self": null,
      "border": null,
      "bottom": null,
      "display": null,
      "flex": null,
      "flex_flow": null,
      "grid_area": null,
      "grid_auto_columns": null,
      "grid_auto_flow": null,
      "grid_auto_rows": null,
      "grid_column": null,
      "grid_gap": null,
      "grid_row": null,
      "grid_template_areas": null,
      "grid_template_columns": null,
      "grid_template_rows": null,
      "height": null,
      "justify_content": null,
      "justify_items": null,
      "left": null,
      "margin": null,
      "max_height": null,
      "max_width": null,
      "min_height": null,
      "min_width": null,
      "object_fit": null,
      "object_position": null,
      "order": null,
      "overflow": null,
      "overflow_x": null,
      "overflow_y": null,
      "padding": null,
      "right": null,
      "top": null,
      "visibility": null,
      "width": null
     }
    },
    "b1ce093efd8b4876a5d59cd43abba259": {
     "model_module": "@jupyter-widgets/controls",
     "model_module_version": "1.5.0",
     "model_name": "HBoxModel",
     "state": {
      "_dom_classes": [],
      "_model_module": "@jupyter-widgets/controls",
      "_model_module_version": "1.5.0",
      "_model_name": "HBoxModel",
      "_view_count": null,
      "_view_module": "@jupyter-widgets/controls",
      "_view_module_version": "1.5.0",
      "_view_name": "HBoxView",
      "box_style": "",
      "children": [
       "IPY_MODEL_d54c621e69b743c780270e8d6994afdf",
       "IPY_MODEL_4dc1b7f125514d299a5efa44a0d7bdfb"
      ],
      "layout": "IPY_MODEL_e2ef4a37aefd448faa9d94667092bfae"
     }
    },
    "b2e38d5264f74758b0682f964beccf1d": {
     "model_module": "@jupyter-widgets/controls",
     "model_module_version": "1.5.0",
     "model_name": "FloatProgressModel",
     "state": {
      "_dom_classes": [],
      "_model_module": "@jupyter-widgets/controls",
      "_model_module_version": "1.5.0",
      "_model_name": "FloatProgressModel",
      "_view_count": null,
      "_view_module": "@jupyter-widgets/controls",
      "_view_module_version": "1.5.0",
      "_view_name": "ProgressView",
      "bar_style": "",
      "description": "Eval (train): 100%",
      "description_tooltip": null,
      "layout": "IPY_MODEL_b8589c07d4d74424a14b9c3b3b66fdc7",
      "max": 333,
      "min": 0,
      "orientation": "horizontal",
      "style": "IPY_MODEL_fc8b1a2d212c43ea938118115e5e50ca",
      "value": 333
     }
    },
    "b35d8c4609e3420c9868306eedbc9e6c": {
     "model_module": "@jupyter-widgets/controls",
     "model_module_version": "1.5.0",
     "model_name": "HTMLModel",
     "state": {
      "_dom_classes": [],
      "_model_module": "@jupyter-widgets/controls",
      "_model_module_version": "1.5.0",
      "_model_name": "HTMLModel",
      "_view_count": null,
      "_view_module": "@jupyter-widgets/controls",
      "_view_module_version": "1.5.0",
      "_view_name": "HTMLView",
      "description": "",
      "description_tooltip": null,
      "layout": "IPY_MODEL_ddd639af7e2e4d4caaa5d3b60f3c7d78",
      "placeholder": "​",
      "style": "IPY_MODEL_fef8941296c84806b7f51b043bc0030f",
      "value": " 50/50 [00:00&lt;00:00, 227.86it/s]"
     }
    },
    "b5f2efdecf624b9f997d22abf313ae52": {
     "model_module": "@jupyter-widgets/controls",
     "model_module_version": "1.5.0",
     "model_name": "DescriptionStyleModel",
     "state": {
      "_model_module": "@jupyter-widgets/controls",
      "_model_module_version": "1.5.0",
      "_model_name": "DescriptionStyleModel",
      "_view_count": null,
      "_view_module": "@jupyter-widgets/base",
      "_view_module_version": "1.2.0",
      "_view_name": "StyleView",
      "description_width": ""
     }
    },
    "b79cb56ea35845d2a3fd14e7bafac265": {
     "model_module": "@jupyter-widgets/base",
     "model_module_version": "1.2.0",
     "model_name": "LayoutModel",
     "state": {
      "_model_module": "@jupyter-widgets/base",
      "_model_module_version": "1.2.0",
      "_model_name": "LayoutModel",
      "_view_count": null,
      "_view_module": "@jupyter-widgets/base",
      "_view_module_version": "1.2.0",
      "_view_name": "LayoutView",
      "align_content": null,
      "align_items": null,
      "align_self": null,
      "border": null,
      "bottom": null,
      "display": null,
      "flex": null,
      "flex_flow": null,
      "grid_area": null,
      "grid_auto_columns": null,
      "grid_auto_flow": null,
      "grid_auto_rows": null,
      "grid_column": null,
      "grid_gap": null,
      "grid_row": null,
      "grid_template_areas": null,
      "grid_template_columns": null,
      "grid_template_rows": null,
      "height": null,
      "justify_content": null,
      "justify_items": null,
      "left": null,
      "margin": null,
      "max_height": null,
      "max_width": null,
      "min_height": null,
      "min_width": null,
      "object_fit": null,
      "object_position": null,
      "order": null,
      "overflow": null,
      "overflow_x": null,
      "overflow_y": null,
      "padding": null,
      "right": null,
      "top": null,
      "visibility": null,
      "width": null
     }
    },
    "b8589c07d4d74424a14b9c3b3b66fdc7": {
     "model_module": "@jupyter-widgets/base",
     "model_module_version": "1.2.0",
     "model_name": "LayoutModel",
     "state": {
      "_model_module": "@jupyter-widgets/base",
      "_model_module_version": "1.2.0",
      "_model_name": "LayoutModel",
      "_view_count": null,
      "_view_module": "@jupyter-widgets/base",
      "_view_module_version": "1.2.0",
      "_view_name": "LayoutView",
      "align_content": null,
      "align_items": null,
      "align_self": null,
      "border": null,
      "bottom": null,
      "display": null,
      "flex": null,
      "flex_flow": null,
      "grid_area": null,
      "grid_auto_columns": null,
      "grid_auto_flow": null,
      "grid_auto_rows": null,
      "grid_column": null,
      "grid_gap": null,
      "grid_row": null,
      "grid_template_areas": null,
      "grid_template_columns": null,
      "grid_template_rows": null,
      "height": null,
      "justify_content": null,
      "justify_items": null,
      "left": null,
      "margin": null,
      "max_height": null,
      "max_width": null,
      "min_height": null,
      "min_width": null,
      "object_fit": null,
      "object_position": null,
      "order": null,
      "overflow": null,
      "overflow_x": null,
      "overflow_y": null,
      "padding": null,
      "right": null,
      "top": null,
      "visibility": null,
      "width": null
     }
    },
    "b892491317d74c5bbd89330a6d2a61e2": {
     "model_module": "@jupyter-widgets/base",
     "model_module_version": "1.2.0",
     "model_name": "LayoutModel",
     "state": {
      "_model_module": "@jupyter-widgets/base",
      "_model_module_version": "1.2.0",
      "_model_name": "LayoutModel",
      "_view_count": null,
      "_view_module": "@jupyter-widgets/base",
      "_view_module_version": "1.2.0",
      "_view_name": "LayoutView",
      "align_content": null,
      "align_items": null,
      "align_self": null,
      "border": null,
      "bottom": null,
      "display": null,
      "flex": null,
      "flex_flow": null,
      "grid_area": null,
      "grid_auto_columns": null,
      "grid_auto_flow": null,
      "grid_auto_rows": null,
      "grid_column": null,
      "grid_gap": null,
      "grid_row": null,
      "grid_template_areas": null,
      "grid_template_columns": null,
      "grid_template_rows": null,
      "height": null,
      "justify_content": null,
      "justify_items": null,
      "left": null,
      "margin": null,
      "max_height": null,
      "max_width": null,
      "min_height": null,
      "min_width": null,
      "object_fit": null,
      "object_position": null,
      "order": null,
      "overflow": null,
      "overflow_x": null,
      "overflow_y": null,
      "padding": null,
      "right": null,
      "top": null,
      "visibility": null,
      "width": null
     }
    },
    "b98074cd568a4b82a55ad8c435d72abf": {
     "model_module": "@jupyter-widgets/controls",
     "model_module_version": "1.5.0",
     "model_name": "FloatProgressModel",
     "state": {
      "_dom_classes": [],
      "_model_module": "@jupyter-widgets/controls",
      "_model_module_version": "1.5.0",
      "_model_name": "FloatProgressModel",
      "_view_count": null,
      "_view_module": "@jupyter-widgets/controls",
      "_view_module_version": "1.5.0",
      "_view_name": "ProgressView",
      "bar_style": "",
      "description": "Eval (validation): 100%",
      "description_tooltip": null,
      "layout": "IPY_MODEL_93789e6aef644f55809fdaf4430ddb6e",
      "max": 50,
      "min": 0,
      "orientation": "horizontal",
      "style": "IPY_MODEL_dd90495a823347809b40f672536d4a36",
      "value": 50
     }
    },
    "ba2976bd374d440e9712b2f545a75f6e": {
     "model_module": "@jupyter-widgets/controls",
     "model_module_version": "1.5.0",
     "model_name": "HBoxModel",
     "state": {
      "_dom_classes": [],
      "_model_module": "@jupyter-widgets/controls",
      "_model_module_version": "1.5.0",
      "_model_name": "HBoxModel",
      "_view_count": null,
      "_view_module": "@jupyter-widgets/controls",
      "_view_module_version": "1.5.0",
      "_view_name": "HBoxView",
      "box_style": "",
      "children": [
       "IPY_MODEL_6d4fea2efaed463ca064e2d90e19253e",
       "IPY_MODEL_eb79247586f943c8bab2297613fc23c2"
      ],
      "layout": "IPY_MODEL_6c5add6c481d4646adb93519e0bc9de4"
     }
    },
    "bc2ecc1bf4764f3fb5fa5c84ef9ddd97": {
     "model_module": "@jupyter-widgets/controls",
     "model_module_version": "1.5.0",
     "model_name": "DescriptionStyleModel",
     "state": {
      "_model_module": "@jupyter-widgets/controls",
      "_model_module_version": "1.5.0",
      "_model_name": "DescriptionStyleModel",
      "_view_count": null,
      "_view_module": "@jupyter-widgets/base",
      "_view_module_version": "1.2.0",
      "_view_name": "StyleView",
      "description_width": ""
     }
    },
    "bd53cac598f64601824d0e41e3e0f32f": {
     "model_module": "@jupyter-widgets/controls",
     "model_module_version": "1.5.0",
     "model_name": "FloatProgressModel",
     "state": {
      "_dom_classes": [],
      "_model_module": "@jupyter-widgets/controls",
      "_model_module_version": "1.5.0",
      "_model_name": "FloatProgressModel",
      "_view_count": null,
      "_view_module": "@jupyter-widgets/controls",
      "_view_module_version": "1.5.0",
      "_view_name": "ProgressView",
      "bar_style": "",
      "description": "Eval (train): 100%",
      "description_tooltip": null,
      "layout": "IPY_MODEL_fb7e8540130c49c8adb9918c5aed7335",
      "max": 333,
      "min": 0,
      "orientation": "horizontal",
      "style": "IPY_MODEL_74b43e50f69945eb8026ccbb53aef25a",
      "value": 333
     }
    },
    "be5de4a36ad34a2ea3d82cb986780f27": {
     "model_module": "@jupyter-widgets/controls",
     "model_module_version": "1.5.0",
     "model_name": "FloatProgressModel",
     "state": {
      "_dom_classes": [],
      "_model_module": "@jupyter-widgets/controls",
      "_model_module_version": "1.5.0",
      "_model_name": "FloatProgressModel",
      "_view_count": null,
      "_view_module": "@jupyter-widgets/controls",
      "_view_module_version": "1.5.0",
      "_view_name": "ProgressView",
      "bar_style": "",
      "description": "Eval (validation): 100%",
      "description_tooltip": null,
      "layout": "IPY_MODEL_8879a93f81f6418cb804c566fb60beeb",
      "max": 50,
      "min": 0,
      "orientation": "horizontal",
      "style": "IPY_MODEL_a2952bdfb41f4ab4bb4a33c994db2640",
      "value": 50
     }
    },
    "bf4823ccca0a4fdfbf346b5be9db6635": {
     "model_module": "@jupyter-widgets/base",
     "model_module_version": "1.2.0",
     "model_name": "LayoutModel",
     "state": {
      "_model_module": "@jupyter-widgets/base",
      "_model_module_version": "1.2.0",
      "_model_name": "LayoutModel",
      "_view_count": null,
      "_view_module": "@jupyter-widgets/base",
      "_view_module_version": "1.2.0",
      "_view_name": "LayoutView",
      "align_content": null,
      "align_items": null,
      "align_self": null,
      "border": null,
      "bottom": null,
      "display": null,
      "flex": null,
      "flex_flow": null,
      "grid_area": null,
      "grid_auto_columns": null,
      "grid_auto_flow": null,
      "grid_auto_rows": null,
      "grid_column": null,
      "grid_gap": null,
      "grid_row": null,
      "grid_template_areas": null,
      "grid_template_columns": null,
      "grid_template_rows": null,
      "height": null,
      "justify_content": null,
      "justify_items": null,
      "left": null,
      "margin": null,
      "max_height": null,
      "max_width": null,
      "min_height": null,
      "min_width": null,
      "object_fit": null,
      "object_position": null,
      "order": null,
      "overflow": null,
      "overflow_x": null,
      "overflow_y": null,
      "padding": null,
      "right": null,
      "top": null,
      "visibility": null,
      "width": null
     }
    },
    "c01a0d709b71427abd99de7b624c5da8": {
     "model_module": "@jupyter-widgets/controls",
     "model_module_version": "1.5.0",
     "model_name": "ProgressStyleModel",
     "state": {
      "_model_module": "@jupyter-widgets/controls",
      "_model_module_version": "1.5.0",
      "_model_name": "ProgressStyleModel",
      "_view_count": null,
      "_view_module": "@jupyter-widgets/base",
      "_view_module_version": "1.2.0",
      "_view_name": "StyleView",
      "bar_color": null,
      "description_width": "initial"
     }
    },
    "c0a2f1dfa1fa4138ba131320a9d40a73": {
     "model_module": "@jupyter-widgets/base",
     "model_module_version": "1.2.0",
     "model_name": "LayoutModel",
     "state": {
      "_model_module": "@jupyter-widgets/base",
      "_model_module_version": "1.2.0",
      "_model_name": "LayoutModel",
      "_view_count": null,
      "_view_module": "@jupyter-widgets/base",
      "_view_module_version": "1.2.0",
      "_view_name": "LayoutView",
      "align_content": null,
      "align_items": null,
      "align_self": null,
      "border": null,
      "bottom": null,
      "display": null,
      "flex": null,
      "flex_flow": null,
      "grid_area": null,
      "grid_auto_columns": null,
      "grid_auto_flow": null,
      "grid_auto_rows": null,
      "grid_column": null,
      "grid_gap": null,
      "grid_row": null,
      "grid_template_areas": null,
      "grid_template_columns": null,
      "grid_template_rows": null,
      "height": null,
      "justify_content": null,
      "justify_items": null,
      "left": null,
      "margin": null,
      "max_height": null,
      "max_width": null,
      "min_height": null,
      "min_width": null,
      "object_fit": null,
      "object_position": null,
      "order": null,
      "overflow": null,
      "overflow_x": null,
      "overflow_y": null,
      "padding": null,
      "right": null,
      "top": null,
      "visibility": null,
      "width": null
     }
    },
    "c0f2f23f333a46dfa1b3af746781f9eb": {
     "model_module": "@jupyter-widgets/controls",
     "model_module_version": "1.5.0",
     "model_name": "HTMLModel",
     "state": {
      "_dom_classes": [],
      "_model_module": "@jupyter-widgets/controls",
      "_model_module_version": "1.5.0",
      "_model_name": "HTMLModel",
      "_view_count": null,
      "_view_module": "@jupyter-widgets/controls",
      "_view_module_version": "1.5.0",
      "_view_name": "HTMLView",
      "description": "",
      "description_tooltip": null,
      "layout": "IPY_MODEL_f31634ad330648d0919ff4a3c8687bf7",
      "placeholder": "​",
      "style": "IPY_MODEL_d08d6f2dffd64bcf8c331172253b2dfd",
      "value": " 50/50 [00:00&lt;00:00, 155.01it/s]"
     }
    },
    "c29de37f5b284dfd9087b1ba5b3ba2b3": {
     "model_module": "@jupyter-widgets/controls",
     "model_module_version": "1.5.0",
     "model_name": "DescriptionStyleModel",
     "state": {
      "_model_module": "@jupyter-widgets/controls",
      "_model_module_version": "1.5.0",
      "_model_name": "DescriptionStyleModel",
      "_view_count": null,
      "_view_module": "@jupyter-widgets/base",
      "_view_module_version": "1.2.0",
      "_view_name": "StyleView",
      "description_width": ""
     }
    },
    "c72f283848594f94ab3b5e6deb4aa410": {
     "model_module": "@jupyter-widgets/controls",
     "model_module_version": "1.5.0",
     "model_name": "FloatProgressModel",
     "state": {
      "_dom_classes": [],
      "_model_module": "@jupyter-widgets/controls",
      "_model_module_version": "1.5.0",
      "_model_name": "FloatProgressModel",
      "_view_count": null,
      "_view_module": "@jupyter-widgets/controls",
      "_view_module_version": "1.5.0",
      "_view_name": "ProgressView",
      "bar_style": "",
      "description": "Eval (train): 100%",
      "description_tooltip": null,
      "layout": "IPY_MODEL_92a3ae61860746b4bc392513cdbd5ba8",
      "max": 333,
      "min": 0,
      "orientation": "horizontal",
      "style": "IPY_MODEL_6b773d2f63964fcdb09b647697a500dd",
      "value": 333
     }
    },
    "c87637b11255412483382326fa950c88": {
     "model_module": "@jupyter-widgets/controls",
     "model_module_version": "1.5.0",
     "model_name": "HBoxModel",
     "state": {
      "_dom_classes": [],
      "_model_module": "@jupyter-widgets/controls",
      "_model_module_version": "1.5.0",
      "_model_name": "HBoxModel",
      "_view_count": null,
      "_view_module": "@jupyter-widgets/controls",
      "_view_module_version": "1.5.0",
      "_view_name": "HBoxView",
      "box_style": "",
      "children": [
       "IPY_MODEL_272e5640f4df4834abad4a5a0b0c0a2b",
       "IPY_MODEL_7dc79e45f421428a84cb376513c16351"
      ],
      "layout": "IPY_MODEL_c0a2f1dfa1fa4138ba131320a9d40a73"
     }
    },
    "d08d6f2dffd64bcf8c331172253b2dfd": {
     "model_module": "@jupyter-widgets/controls",
     "model_module_version": "1.5.0",
     "model_name": "DescriptionStyleModel",
     "state": {
      "_model_module": "@jupyter-widgets/controls",
      "_model_module_version": "1.5.0",
      "_model_name": "DescriptionStyleModel",
      "_view_count": null,
      "_view_module": "@jupyter-widgets/base",
      "_view_module_version": "1.2.0",
      "_view_name": "StyleView",
      "description_width": ""
     }
    },
    "d09f34681516450a83bb9dbeb7108572": {
     "model_module": "@jupyter-widgets/base",
     "model_module_version": "1.2.0",
     "model_name": "LayoutModel",
     "state": {
      "_model_module": "@jupyter-widgets/base",
      "_model_module_version": "1.2.0",
      "_model_name": "LayoutModel",
      "_view_count": null,
      "_view_module": "@jupyter-widgets/base",
      "_view_module_version": "1.2.0",
      "_view_name": "LayoutView",
      "align_content": null,
      "align_items": null,
      "align_self": null,
      "border": null,
      "bottom": null,
      "display": null,
      "flex": null,
      "flex_flow": null,
      "grid_area": null,
      "grid_auto_columns": null,
      "grid_auto_flow": null,
      "grid_auto_rows": null,
      "grid_column": null,
      "grid_gap": null,
      "grid_row": null,
      "grid_template_areas": null,
      "grid_template_columns": null,
      "grid_template_rows": null,
      "height": null,
      "justify_content": null,
      "justify_items": null,
      "left": null,
      "margin": null,
      "max_height": null,
      "max_width": null,
      "min_height": null,
      "min_width": null,
      "object_fit": null,
      "object_position": null,
      "order": null,
      "overflow": null,
      "overflow_x": null,
      "overflow_y": null,
      "padding": null,
      "right": null,
      "top": null,
      "visibility": null,
      "width": null
     }
    },
    "d54c621e69b743c780270e8d6994afdf": {
     "model_module": "@jupyter-widgets/controls",
     "model_module_version": "1.5.0",
     "model_name": "FloatProgressModel",
     "state": {
      "_dom_classes": [],
      "_model_module": "@jupyter-widgets/controls",
      "_model_module_version": "1.5.0",
      "_model_name": "FloatProgressModel",
      "_view_count": null,
      "_view_module": "@jupyter-widgets/controls",
      "_view_module_version": "1.5.0",
      "_view_name": "ProgressView",
      "bar_style": "",
      "description": "Eval (train): 100%",
      "description_tooltip": null,
      "layout": "IPY_MODEL_b0e9fc78a9194232b1bbe4a5a2fbeff7",
      "max": 333,
      "min": 0,
      "orientation": "horizontal",
      "style": "IPY_MODEL_25341c0dac3f4e819a7bcc064e4eb67b",
      "value": 333
     }
    },
    "dbfc0bbef4014e0bb4eab00b7a72633a": {
     "model_module": "@jupyter-widgets/controls",
     "model_module_version": "1.5.0",
     "model_name": "HTMLModel",
     "state": {
      "_dom_classes": [],
      "_model_module": "@jupyter-widgets/controls",
      "_model_module_version": "1.5.0",
      "_model_name": "HTMLModel",
      "_view_count": null,
      "_view_module": "@jupyter-widgets/controls",
      "_view_module_version": "1.5.0",
      "_view_name": "HTMLView",
      "description": "",
      "description_tooltip": null,
      "layout": "IPY_MODEL_7d733c240bb44a06bfaf0f7ee46c01f3",
      "placeholder": "​",
      "style": "IPY_MODEL_bc2ecc1bf4764f3fb5fa5c84ef9ddd97",
      "value": " 333/333 [00:01&lt;00:00, 275.62it/s]"
     }
    },
    "dd5d2b5dfd2948908e389ac5cd9caf8a": {
     "model_module": "@jupyter-widgets/base",
     "model_module_version": "1.2.0",
     "model_name": "LayoutModel",
     "state": {
      "_model_module": "@jupyter-widgets/base",
      "_model_module_version": "1.2.0",
      "_model_name": "LayoutModel",
      "_view_count": null,
      "_view_module": "@jupyter-widgets/base",
      "_view_module_version": "1.2.0",
      "_view_name": "LayoutView",
      "align_content": null,
      "align_items": null,
      "align_self": null,
      "border": null,
      "bottom": null,
      "display": null,
      "flex": null,
      "flex_flow": null,
      "grid_area": null,
      "grid_auto_columns": null,
      "grid_auto_flow": null,
      "grid_auto_rows": null,
      "grid_column": null,
      "grid_gap": null,
      "grid_row": null,
      "grid_template_areas": null,
      "grid_template_columns": null,
      "grid_template_rows": null,
      "height": null,
      "justify_content": null,
      "justify_items": null,
      "left": null,
      "margin": null,
      "max_height": null,
      "max_width": null,
      "min_height": null,
      "min_width": null,
      "object_fit": null,
      "object_position": null,
      "order": null,
      "overflow": null,
      "overflow_x": null,
      "overflow_y": null,
      "padding": null,
      "right": null,
      "top": null,
      "visibility": null,
      "width": null
     }
    },
    "dd90495a823347809b40f672536d4a36": {
     "model_module": "@jupyter-widgets/controls",
     "model_module_version": "1.5.0",
     "model_name": "ProgressStyleModel",
     "state": {
      "_model_module": "@jupyter-widgets/controls",
      "_model_module_version": "1.5.0",
      "_model_name": "ProgressStyleModel",
      "_view_count": null,
      "_view_module": "@jupyter-widgets/base",
      "_view_module_version": "1.2.0",
      "_view_name": "StyleView",
      "bar_color": null,
      "description_width": "initial"
     }
    },
    "ddd639af7e2e4d4caaa5d3b60f3c7d78": {
     "model_module": "@jupyter-widgets/base",
     "model_module_version": "1.2.0",
     "model_name": "LayoutModel",
     "state": {
      "_model_module": "@jupyter-widgets/base",
      "_model_module_version": "1.2.0",
      "_model_name": "LayoutModel",
      "_view_count": null,
      "_view_module": "@jupyter-widgets/base",
      "_view_module_version": "1.2.0",
      "_view_name": "LayoutView",
      "align_content": null,
      "align_items": null,
      "align_self": null,
      "border": null,
      "bottom": null,
      "display": null,
      "flex": null,
      "flex_flow": null,
      "grid_area": null,
      "grid_auto_columns": null,
      "grid_auto_flow": null,
      "grid_auto_rows": null,
      "grid_column": null,
      "grid_gap": null,
      "grid_row": null,
      "grid_template_areas": null,
      "grid_template_columns": null,
      "grid_template_rows": null,
      "height": null,
      "justify_content": null,
      "justify_items": null,
      "left": null,
      "margin": null,
      "max_height": null,
      "max_width": null,
      "min_height": null,
      "min_width": null,
      "object_fit": null,
      "object_position": null,
      "order": null,
      "overflow": null,
      "overflow_x": null,
      "overflow_y": null,
      "padding": null,
      "right": null,
      "top": null,
      "visibility": null,
      "width": null
     }
    },
    "defff90cea894e8eb5c056ecde6fd325": {
     "model_module": "@jupyter-widgets/base",
     "model_module_version": "1.2.0",
     "model_name": "LayoutModel",
     "state": {
      "_model_module": "@jupyter-widgets/base",
      "_model_module_version": "1.2.0",
      "_model_name": "LayoutModel",
      "_view_count": null,
      "_view_module": "@jupyter-widgets/base",
      "_view_module_version": "1.2.0",
      "_view_name": "LayoutView",
      "align_content": null,
      "align_items": null,
      "align_self": null,
      "border": null,
      "bottom": null,
      "display": null,
      "flex": null,
      "flex_flow": null,
      "grid_area": null,
      "grid_auto_columns": null,
      "grid_auto_flow": null,
      "grid_auto_rows": null,
      "grid_column": null,
      "grid_gap": null,
      "grid_row": null,
      "grid_template_areas": null,
      "grid_template_columns": null,
      "grid_template_rows": null,
      "height": null,
      "justify_content": null,
      "justify_items": null,
      "left": null,
      "margin": null,
      "max_height": null,
      "max_width": null,
      "min_height": null,
      "min_width": null,
      "object_fit": null,
      "object_position": null,
      "order": null,
      "overflow": null,
      "overflow_x": null,
      "overflow_y": null,
      "padding": null,
      "right": null,
      "top": null,
      "visibility": null,
      "width": null
     }
    },
    "df28438237fa49a98961474a6ca2ebc1": {
     "model_module": "@jupyter-widgets/controls",
     "model_module_version": "1.5.0",
     "model_name": "ProgressStyleModel",
     "state": {
      "_model_module": "@jupyter-widgets/controls",
      "_model_module_version": "1.5.0",
      "_model_name": "ProgressStyleModel",
      "_view_count": null,
      "_view_module": "@jupyter-widgets/base",
      "_view_module_version": "1.2.0",
      "_view_name": "StyleView",
      "bar_color": null,
      "description_width": "initial"
     }
    },
    "e2ef4a37aefd448faa9d94667092bfae": {
     "model_module": "@jupyter-widgets/base",
     "model_module_version": "1.2.0",
     "model_name": "LayoutModel",
     "state": {
      "_model_module": "@jupyter-widgets/base",
      "_model_module_version": "1.2.0",
      "_model_name": "LayoutModel",
      "_view_count": null,
      "_view_module": "@jupyter-widgets/base",
      "_view_module_version": "1.2.0",
      "_view_name": "LayoutView",
      "align_content": null,
      "align_items": null,
      "align_self": null,
      "border": null,
      "bottom": null,
      "display": null,
      "flex": null,
      "flex_flow": null,
      "grid_area": null,
      "grid_auto_columns": null,
      "grid_auto_flow": null,
      "grid_auto_rows": null,
      "grid_column": null,
      "grid_gap": null,
      "grid_row": null,
      "grid_template_areas": null,
      "grid_template_columns": null,
      "grid_template_rows": null,
      "height": null,
      "justify_content": null,
      "justify_items": null,
      "left": null,
      "margin": null,
      "max_height": null,
      "max_width": null,
      "min_height": null,
      "min_width": null,
      "object_fit": null,
      "object_position": null,
      "order": null,
      "overflow": null,
      "overflow_x": null,
      "overflow_y": null,
      "padding": null,
      "right": null,
      "top": null,
      "visibility": null,
      "width": null
     }
    },
    "e5b58f30a41045a283262a2a2abbda1c": {
     "model_module": "@jupyter-widgets/controls",
     "model_module_version": "1.5.0",
     "model_name": "HTMLModel",
     "state": {
      "_dom_classes": [],
      "_model_module": "@jupyter-widgets/controls",
      "_model_module_version": "1.5.0",
      "_model_name": "HTMLModel",
      "_view_count": null,
      "_view_module": "@jupyter-widgets/controls",
      "_view_module_version": "1.5.0",
      "_view_name": "HTMLView",
      "description": "",
      "description_tooltip": null,
      "layout": "IPY_MODEL_128cea568cd841bbbc70642a2f0c6ebb",
      "placeholder": "​",
      "style": "IPY_MODEL_4eb013b7492f4e3fbcba119f1a2a8599",
      "value": " 333/333 [00:01&lt;00:00, 291.13it/s]"
     }
    },
    "e650440e74374341b5818388fb902fa9": {
     "model_module": "@jupyter-widgets/controls",
     "model_module_version": "1.5.0",
     "model_name": "DescriptionStyleModel",
     "state": {
      "_model_module": "@jupyter-widgets/controls",
      "_model_module_version": "1.5.0",
      "_model_name": "DescriptionStyleModel",
      "_view_count": null,
      "_view_module": "@jupyter-widgets/base",
      "_view_module_version": "1.2.0",
      "_view_name": "StyleView",
      "description_width": ""
     }
    },
    "e7874015aa654df69abe2be5bf9fae24": {
     "model_module": "@jupyter-widgets/controls",
     "model_module_version": "1.5.0",
     "model_name": "HBoxModel",
     "state": {
      "_dom_classes": [],
      "_model_module": "@jupyter-widgets/controls",
      "_model_module_version": "1.5.0",
      "_model_name": "HBoxModel",
      "_view_count": null,
      "_view_module": "@jupyter-widgets/controls",
      "_view_module_version": "1.5.0",
      "_view_name": "HBoxView",
      "box_style": "",
      "children": [
       "IPY_MODEL_9c51770136724cecb33455a59c5bbf7c",
       "IPY_MODEL_a5cc49bd337a48ab977ceaafb03c7703"
      ],
      "layout": "IPY_MODEL_b1a3b16ec39847d58ccc85f2dd8185bc"
     }
    },
    "e7bc2b369c3c4c3a8827b081a094da7c": {
     "model_module": "@jupyter-widgets/base",
     "model_module_version": "1.2.0",
     "model_name": "LayoutModel",
     "state": {
      "_model_module": "@jupyter-widgets/base",
      "_model_module_version": "1.2.0",
      "_model_name": "LayoutModel",
      "_view_count": null,
      "_view_module": "@jupyter-widgets/base",
      "_view_module_version": "1.2.0",
      "_view_name": "LayoutView",
      "align_content": null,
      "align_items": null,
      "align_self": null,
      "border": null,
      "bottom": null,
      "display": null,
      "flex": null,
      "flex_flow": null,
      "grid_area": null,
      "grid_auto_columns": null,
      "grid_auto_flow": null,
      "grid_auto_rows": null,
      "grid_column": null,
      "grid_gap": null,
      "grid_row": null,
      "grid_template_areas": null,
      "grid_template_columns": null,
      "grid_template_rows": null,
      "height": null,
      "justify_content": null,
      "justify_items": null,
      "left": null,
      "margin": null,
      "max_height": null,
      "max_width": null,
      "min_height": null,
      "min_width": null,
      "object_fit": null,
      "object_position": null,
      "order": null,
      "overflow": null,
      "overflow_x": null,
      "overflow_y": null,
      "padding": null,
      "right": null,
      "top": null,
      "visibility": null,
      "width": null
     }
    },
    "e7cd2d955cf6462086e5339dd9c45ffa": {
     "model_module": "@jupyter-widgets/base",
     "model_module_version": "1.2.0",
     "model_name": "LayoutModel",
     "state": {
      "_model_module": "@jupyter-widgets/base",
      "_model_module_version": "1.2.0",
      "_model_name": "LayoutModel",
      "_view_count": null,
      "_view_module": "@jupyter-widgets/base",
      "_view_module_version": "1.2.0",
      "_view_name": "LayoutView",
      "align_content": null,
      "align_items": null,
      "align_self": null,
      "border": null,
      "bottom": null,
      "display": null,
      "flex": null,
      "flex_flow": null,
      "grid_area": null,
      "grid_auto_columns": null,
      "grid_auto_flow": null,
      "grid_auto_rows": null,
      "grid_column": null,
      "grid_gap": null,
      "grid_row": null,
      "grid_template_areas": null,
      "grid_template_columns": null,
      "grid_template_rows": null,
      "height": null,
      "justify_content": null,
      "justify_items": null,
      "left": null,
      "margin": null,
      "max_height": null,
      "max_width": null,
      "min_height": null,
      "min_width": null,
      "object_fit": null,
      "object_position": null,
      "order": null,
      "overflow": null,
      "overflow_x": null,
      "overflow_y": null,
      "padding": null,
      "right": null,
      "top": null,
      "visibility": null,
      "width": null
     }
    },
    "e81e2d999da545c7a3164d9d8d56ca28": {
     "model_module": "@jupyter-widgets/controls",
     "model_module_version": "1.5.0",
     "model_name": "DescriptionStyleModel",
     "state": {
      "_model_module": "@jupyter-widgets/controls",
      "_model_module_version": "1.5.0",
      "_model_name": "DescriptionStyleModel",
      "_view_count": null,
      "_view_module": "@jupyter-widgets/base",
      "_view_module_version": "1.2.0",
      "_view_name": "StyleView",
      "description_width": ""
     }
    },
    "e8fa60e71eae43e88324d22ae0981f0c": {
     "model_module": "@jupyter-widgets/controls",
     "model_module_version": "1.5.0",
     "model_name": "ProgressStyleModel",
     "state": {
      "_model_module": "@jupyter-widgets/controls",
      "_model_module_version": "1.5.0",
      "_model_name": "ProgressStyleModel",
      "_view_count": null,
      "_view_module": "@jupyter-widgets/base",
      "_view_module_version": "1.2.0",
      "_view_name": "StyleView",
      "bar_color": null,
      "description_width": "initial"
     }
    },
    "ea52d851257345be8f4a6e70bdc6a012": {
     "model_module": "@jupyter-widgets/base",
     "model_module_version": "1.2.0",
     "model_name": "LayoutModel",
     "state": {
      "_model_module": "@jupyter-widgets/base",
      "_model_module_version": "1.2.0",
      "_model_name": "LayoutModel",
      "_view_count": null,
      "_view_module": "@jupyter-widgets/base",
      "_view_module_version": "1.2.0",
      "_view_name": "LayoutView",
      "align_content": null,
      "align_items": null,
      "align_self": null,
      "border": null,
      "bottom": null,
      "display": null,
      "flex": null,
      "flex_flow": null,
      "grid_area": null,
      "grid_auto_columns": null,
      "grid_auto_flow": null,
      "grid_auto_rows": null,
      "grid_column": null,
      "grid_gap": null,
      "grid_row": null,
      "grid_template_areas": null,
      "grid_template_columns": null,
      "grid_template_rows": null,
      "height": null,
      "justify_content": null,
      "justify_items": null,
      "left": null,
      "margin": null,
      "max_height": null,
      "max_width": null,
      "min_height": null,
      "min_width": null,
      "object_fit": null,
      "object_position": null,
      "order": null,
      "overflow": null,
      "overflow_x": null,
      "overflow_y": null,
      "padding": null,
      "right": null,
      "top": null,
      "visibility": null,
      "width": null
     }
    },
    "ea5baf7cbf3a46c8b90e709b250b7125": {
     "model_module": "@jupyter-widgets/base",
     "model_module_version": "1.2.0",
     "model_name": "LayoutModel",
     "state": {
      "_model_module": "@jupyter-widgets/base",
      "_model_module_version": "1.2.0",
      "_model_name": "LayoutModel",
      "_view_count": null,
      "_view_module": "@jupyter-widgets/base",
      "_view_module_version": "1.2.0",
      "_view_name": "LayoutView",
      "align_content": null,
      "align_items": null,
      "align_self": null,
      "border": null,
      "bottom": null,
      "display": null,
      "flex": null,
      "flex_flow": null,
      "grid_area": null,
      "grid_auto_columns": null,
      "grid_auto_flow": null,
      "grid_auto_rows": null,
      "grid_column": null,
      "grid_gap": null,
      "grid_row": null,
      "grid_template_areas": null,
      "grid_template_columns": null,
      "grid_template_rows": null,
      "height": null,
      "justify_content": null,
      "justify_items": null,
      "left": null,
      "margin": null,
      "max_height": null,
      "max_width": null,
      "min_height": null,
      "min_width": null,
      "object_fit": null,
      "object_position": null,
      "order": null,
      "overflow": null,
      "overflow_x": null,
      "overflow_y": null,
      "padding": null,
      "right": null,
      "top": null,
      "visibility": null,
      "width": null
     }
    },
    "ea976cca7d624e658013776fef816b08": {
     "model_module": "@jupyter-widgets/base",
     "model_module_version": "1.2.0",
     "model_name": "LayoutModel",
     "state": {
      "_model_module": "@jupyter-widgets/base",
      "_model_module_version": "1.2.0",
      "_model_name": "LayoutModel",
      "_view_count": null,
      "_view_module": "@jupyter-widgets/base",
      "_view_module_version": "1.2.0",
      "_view_name": "LayoutView",
      "align_content": null,
      "align_items": null,
      "align_self": null,
      "border": null,
      "bottom": null,
      "display": null,
      "flex": null,
      "flex_flow": null,
      "grid_area": null,
      "grid_auto_columns": null,
      "grid_auto_flow": null,
      "grid_auto_rows": null,
      "grid_column": null,
      "grid_gap": null,
      "grid_row": null,
      "grid_template_areas": null,
      "grid_template_columns": null,
      "grid_template_rows": null,
      "height": null,
      "justify_content": null,
      "justify_items": null,
      "left": null,
      "margin": null,
      "max_height": null,
      "max_width": null,
      "min_height": null,
      "min_width": null,
      "object_fit": null,
      "object_position": null,
      "order": null,
      "overflow": null,
      "overflow_x": null,
      "overflow_y": null,
      "padding": null,
      "right": null,
      "top": null,
      "visibility": null,
      "width": null
     }
    },
    "eb226056499a4900831449baa2652baf": {
     "model_module": "@jupyter-widgets/controls",
     "model_module_version": "1.5.0",
     "model_name": "ProgressStyleModel",
     "state": {
      "_model_module": "@jupyter-widgets/controls",
      "_model_module_version": "1.5.0",
      "_model_name": "ProgressStyleModel",
      "_view_count": null,
      "_view_module": "@jupyter-widgets/base",
      "_view_module_version": "1.2.0",
      "_view_name": "StyleView",
      "bar_color": null,
      "description_width": "initial"
     }
    },
    "eb79247586f943c8bab2297613fc23c2": {
     "model_module": "@jupyter-widgets/controls",
     "model_module_version": "1.5.0",
     "model_name": "HTMLModel",
     "state": {
      "_dom_classes": [],
      "_model_module": "@jupyter-widgets/controls",
      "_model_module_version": "1.5.0",
      "_model_name": "HTMLModel",
      "_view_count": null,
      "_view_module": "@jupyter-widgets/controls",
      "_view_module_version": "1.5.0",
      "_view_name": "HTMLView",
      "description": "",
      "description_tooltip": null,
      "layout": "IPY_MODEL_d09f34681516450a83bb9dbeb7108572",
      "placeholder": "​",
      "style": "IPY_MODEL_4caf50065cca41679b6ef63416f3fa4a",
      "value": " 50/50 [00:00&lt;00:00, 144.78it/s]"
     }
    },
    "f016eb63c8d24b47a8c08ff8f62ca991": {
     "model_module": "@jupyter-widgets/base",
     "model_module_version": "1.2.0",
     "model_name": "LayoutModel",
     "state": {
      "_model_module": "@jupyter-widgets/base",
      "_model_module_version": "1.2.0",
      "_model_name": "LayoutModel",
      "_view_count": null,
      "_view_module": "@jupyter-widgets/base",
      "_view_module_version": "1.2.0",
      "_view_name": "LayoutView",
      "align_content": null,
      "align_items": null,
      "align_self": null,
      "border": null,
      "bottom": null,
      "display": null,
      "flex": null,
      "flex_flow": null,
      "grid_area": null,
      "grid_auto_columns": null,
      "grid_auto_flow": null,
      "grid_auto_rows": null,
      "grid_column": null,
      "grid_gap": null,
      "grid_row": null,
      "grid_template_areas": null,
      "grid_template_columns": null,
      "grid_template_rows": null,
      "height": null,
      "justify_content": null,
      "justify_items": null,
      "left": null,
      "margin": null,
      "max_height": null,
      "max_width": null,
      "min_height": null,
      "min_width": null,
      "object_fit": null,
      "object_position": null,
      "order": null,
      "overflow": null,
      "overflow_x": null,
      "overflow_y": null,
      "padding": null,
      "right": null,
      "top": null,
      "visibility": null,
      "width": null
     }
    },
    "f1e144a48a314fbf8ce615cacd2639cf": {
     "model_module": "@jupyter-widgets/controls",
     "model_module_version": "1.5.0",
     "model_name": "ProgressStyleModel",
     "state": {
      "_model_module": "@jupyter-widgets/controls",
      "_model_module_version": "1.5.0",
      "_model_name": "ProgressStyleModel",
      "_view_count": null,
      "_view_module": "@jupyter-widgets/base",
      "_view_module_version": "1.2.0",
      "_view_name": "StyleView",
      "bar_color": null,
      "description_width": "initial"
     }
    },
    "f285f06f171a4719a6bf47e7eef0c228": {
     "model_module": "@jupyter-widgets/base",
     "model_module_version": "1.2.0",
     "model_name": "LayoutModel",
     "state": {
      "_model_module": "@jupyter-widgets/base",
      "_model_module_version": "1.2.0",
      "_model_name": "LayoutModel",
      "_view_count": null,
      "_view_module": "@jupyter-widgets/base",
      "_view_module_version": "1.2.0",
      "_view_name": "LayoutView",
      "align_content": null,
      "align_items": null,
      "align_self": null,
      "border": null,
      "bottom": null,
      "display": null,
      "flex": null,
      "flex_flow": null,
      "grid_area": null,
      "grid_auto_columns": null,
      "grid_auto_flow": null,
      "grid_auto_rows": null,
      "grid_column": null,
      "grid_gap": null,
      "grid_row": null,
      "grid_template_areas": null,
      "grid_template_columns": null,
      "grid_template_rows": null,
      "height": null,
      "justify_content": null,
      "justify_items": null,
      "left": null,
      "margin": null,
      "max_height": null,
      "max_width": null,
      "min_height": null,
      "min_width": null,
      "object_fit": null,
      "object_position": null,
      "order": null,
      "overflow": null,
      "overflow_x": null,
      "overflow_y": null,
      "padding": null,
      "right": null,
      "top": null,
      "visibility": null,
      "width": null
     }
    },
    "f2a3b557f23046cd907d7fa946943833": {
     "model_module": "@jupyter-widgets/controls",
     "model_module_version": "1.5.0",
     "model_name": "DescriptionStyleModel",
     "state": {
      "_model_module": "@jupyter-widgets/controls",
      "_model_module_version": "1.5.0",
      "_model_name": "DescriptionStyleModel",
      "_view_count": null,
      "_view_module": "@jupyter-widgets/base",
      "_view_module_version": "1.2.0",
      "_view_name": "StyleView",
      "description_width": ""
     }
    },
    "f31634ad330648d0919ff4a3c8687bf7": {
     "model_module": "@jupyter-widgets/base",
     "model_module_version": "1.2.0",
     "model_name": "LayoutModel",
     "state": {
      "_model_module": "@jupyter-widgets/base",
      "_model_module_version": "1.2.0",
      "_model_name": "LayoutModel",
      "_view_count": null,
      "_view_module": "@jupyter-widgets/base",
      "_view_module_version": "1.2.0",
      "_view_name": "LayoutView",
      "align_content": null,
      "align_items": null,
      "align_self": null,
      "border": null,
      "bottom": null,
      "display": null,
      "flex": null,
      "flex_flow": null,
      "grid_area": null,
      "grid_auto_columns": null,
      "grid_auto_flow": null,
      "grid_auto_rows": null,
      "grid_column": null,
      "grid_gap": null,
      "grid_row": null,
      "grid_template_areas": null,
      "grid_template_columns": null,
      "grid_template_rows": null,
      "height": null,
      "justify_content": null,
      "justify_items": null,
      "left": null,
      "margin": null,
      "max_height": null,
      "max_width": null,
      "min_height": null,
      "min_width": null,
      "object_fit": null,
      "object_position": null,
      "order": null,
      "overflow": null,
      "overflow_x": null,
      "overflow_y": null,
      "padding": null,
      "right": null,
      "top": null,
      "visibility": null,
      "width": null
     }
    },
    "f366cd21145f4bb6954c7c3ca50373ef": {
     "model_module": "@jupyter-widgets/base",
     "model_module_version": "1.2.0",
     "model_name": "LayoutModel",
     "state": {
      "_model_module": "@jupyter-widgets/base",
      "_model_module_version": "1.2.0",
      "_model_name": "LayoutModel",
      "_view_count": null,
      "_view_module": "@jupyter-widgets/base",
      "_view_module_version": "1.2.0",
      "_view_name": "LayoutView",
      "align_content": null,
      "align_items": null,
      "align_self": null,
      "border": null,
      "bottom": null,
      "display": null,
      "flex": null,
      "flex_flow": null,
      "grid_area": null,
      "grid_auto_columns": null,
      "grid_auto_flow": null,
      "grid_auto_rows": null,
      "grid_column": null,
      "grid_gap": null,
      "grid_row": null,
      "grid_template_areas": null,
      "grid_template_columns": null,
      "grid_template_rows": null,
      "height": null,
      "justify_content": null,
      "justify_items": null,
      "left": null,
      "margin": null,
      "max_height": null,
      "max_width": null,
      "min_height": null,
      "min_width": null,
      "object_fit": null,
      "object_position": null,
      "order": null,
      "overflow": null,
      "overflow_x": null,
      "overflow_y": null,
      "padding": null,
      "right": null,
      "top": null,
      "visibility": null,
      "width": null
     }
    },
    "f9807d21b5b14e199a1cbb06f5ee0289": {
     "model_module": "@jupyter-widgets/controls",
     "model_module_version": "1.5.0",
     "model_name": "HBoxModel",
     "state": {
      "_dom_classes": [],
      "_model_module": "@jupyter-widgets/controls",
      "_model_module_version": "1.5.0",
      "_model_name": "HBoxModel",
      "_view_count": null,
      "_view_module": "@jupyter-widgets/controls",
      "_view_module_version": "1.5.0",
      "_view_name": "HBoxView",
      "box_style": "",
      "children": [
       "IPY_MODEL_83b3650572c04dfebdc196e7cdfb12b3",
       "IPY_MODEL_e5b58f30a41045a283262a2a2abbda1c"
      ],
      "layout": "IPY_MODEL_32306396a72140ec877f3b911b61afa6"
     }
    },
    "fa12ec3a3fed44e6a129eca49cc7e3f8": {
     "model_module": "@jupyter-widgets/base",
     "model_module_version": "1.2.0",
     "model_name": "LayoutModel",
     "state": {
      "_model_module": "@jupyter-widgets/base",
      "_model_module_version": "1.2.0",
      "_model_name": "LayoutModel",
      "_view_count": null,
      "_view_module": "@jupyter-widgets/base",
      "_view_module_version": "1.2.0",
      "_view_name": "LayoutView",
      "align_content": null,
      "align_items": null,
      "align_self": null,
      "border": null,
      "bottom": null,
      "display": null,
      "flex": null,
      "flex_flow": null,
      "grid_area": null,
      "grid_auto_columns": null,
      "grid_auto_flow": null,
      "grid_auto_rows": null,
      "grid_column": null,
      "grid_gap": null,
      "grid_row": null,
      "grid_template_areas": null,
      "grid_template_columns": null,
      "grid_template_rows": null,
      "height": null,
      "justify_content": null,
      "justify_items": null,
      "left": null,
      "margin": null,
      "max_height": null,
      "max_width": null,
      "min_height": null,
      "min_width": null,
      "object_fit": null,
      "object_position": null,
      "order": null,
      "overflow": null,
      "overflow_x": null,
      "overflow_y": null,
      "padding": null,
      "right": null,
      "top": null,
      "visibility": null,
      "width": null
     }
    },
    "faa7436c42084767a41dbd904be0591d": {
     "model_module": "@jupyter-widgets/base",
     "model_module_version": "1.2.0",
     "model_name": "LayoutModel",
     "state": {
      "_model_module": "@jupyter-widgets/base",
      "_model_module_version": "1.2.0",
      "_model_name": "LayoutModel",
      "_view_count": null,
      "_view_module": "@jupyter-widgets/base",
      "_view_module_version": "1.2.0",
      "_view_name": "LayoutView",
      "align_content": null,
      "align_items": null,
      "align_self": null,
      "border": null,
      "bottom": null,
      "display": null,
      "flex": null,
      "flex_flow": null,
      "grid_area": null,
      "grid_auto_columns": null,
      "grid_auto_flow": null,
      "grid_auto_rows": null,
      "grid_column": null,
      "grid_gap": null,
      "grid_row": null,
      "grid_template_areas": null,
      "grid_template_columns": null,
      "grid_template_rows": null,
      "height": null,
      "justify_content": null,
      "justify_items": null,
      "left": null,
      "margin": null,
      "max_height": null,
      "max_width": null,
      "min_height": null,
      "min_width": null,
      "object_fit": null,
      "object_position": null,
      "order": null,
      "overflow": null,
      "overflow_x": null,
      "overflow_y": null,
      "padding": null,
      "right": null,
      "top": null,
      "visibility": null,
      "width": null
     }
    },
    "fac355a2a19f45fea7594ea863b66b0f": {
     "model_module": "@jupyter-widgets/base",
     "model_module_version": "1.2.0",
     "model_name": "LayoutModel",
     "state": {
      "_model_module": "@jupyter-widgets/base",
      "_model_module_version": "1.2.0",
      "_model_name": "LayoutModel",
      "_view_count": null,
      "_view_module": "@jupyter-widgets/base",
      "_view_module_version": "1.2.0",
      "_view_name": "LayoutView",
      "align_content": null,
      "align_items": null,
      "align_self": null,
      "border": null,
      "bottom": null,
      "display": null,
      "flex": null,
      "flex_flow": null,
      "grid_area": null,
      "grid_auto_columns": null,
      "grid_auto_flow": null,
      "grid_auto_rows": null,
      "grid_column": null,
      "grid_gap": null,
      "grid_row": null,
      "grid_template_areas": null,
      "grid_template_columns": null,
      "grid_template_rows": null,
      "height": null,
      "justify_content": null,
      "justify_items": null,
      "left": null,
      "margin": null,
      "max_height": null,
      "max_width": null,
      "min_height": null,
      "min_width": null,
      "object_fit": null,
      "object_position": null,
      "order": null,
      "overflow": null,
      "overflow_x": null,
      "overflow_y": null,
      "padding": null,
      "right": null,
      "top": null,
      "visibility": null,
      "width": null
     }
    },
    "fb7e8540130c49c8adb9918c5aed7335": {
     "model_module": "@jupyter-widgets/base",
     "model_module_version": "1.2.0",
     "model_name": "LayoutModel",
     "state": {
      "_model_module": "@jupyter-widgets/base",
      "_model_module_version": "1.2.0",
      "_model_name": "LayoutModel",
      "_view_count": null,
      "_view_module": "@jupyter-widgets/base",
      "_view_module_version": "1.2.0",
      "_view_name": "LayoutView",
      "align_content": null,
      "align_items": null,
      "align_self": null,
      "border": null,
      "bottom": null,
      "display": null,
      "flex": null,
      "flex_flow": null,
      "grid_area": null,
      "grid_auto_columns": null,
      "grid_auto_flow": null,
      "grid_auto_rows": null,
      "grid_column": null,
      "grid_gap": null,
      "grid_row": null,
      "grid_template_areas": null,
      "grid_template_columns": null,
      "grid_template_rows": null,
      "height": null,
      "justify_content": null,
      "justify_items": null,
      "left": null,
      "margin": null,
      "max_height": null,
      "max_width": null,
      "min_height": null,
      "min_width": null,
      "object_fit": null,
      "object_position": null,
      "order": null,
      "overflow": null,
      "overflow_x": null,
      "overflow_y": null,
      "padding": null,
      "right": null,
      "top": null,
      "visibility": null,
      "width": null
     }
    },
    "fc51861d932e43c8b601d6812a770204": {
     "model_module": "@jupyter-widgets/base",
     "model_module_version": "1.2.0",
     "model_name": "LayoutModel",
     "state": {
      "_model_module": "@jupyter-widgets/base",
      "_model_module_version": "1.2.0",
      "_model_name": "LayoutModel",
      "_view_count": null,
      "_view_module": "@jupyter-widgets/base",
      "_view_module_version": "1.2.0",
      "_view_name": "LayoutView",
      "align_content": null,
      "align_items": null,
      "align_self": null,
      "border": null,
      "bottom": null,
      "display": null,
      "flex": null,
      "flex_flow": null,
      "grid_area": null,
      "grid_auto_columns": null,
      "grid_auto_flow": null,
      "grid_auto_rows": null,
      "grid_column": null,
      "grid_gap": null,
      "grid_row": null,
      "grid_template_areas": null,
      "grid_template_columns": null,
      "grid_template_rows": null,
      "height": null,
      "justify_content": null,
      "justify_items": null,
      "left": null,
      "margin": null,
      "max_height": null,
      "max_width": null,
      "min_height": null,
      "min_width": null,
      "object_fit": null,
      "object_position": null,
      "order": null,
      "overflow": null,
      "overflow_x": null,
      "overflow_y": null,
      "padding": null,
      "right": null,
      "top": null,
      "visibility": null,
      "width": null
     }
    },
    "fc8b1a2d212c43ea938118115e5e50ca": {
     "model_module": "@jupyter-widgets/controls",
     "model_module_version": "1.5.0",
     "model_name": "ProgressStyleModel",
     "state": {
      "_model_module": "@jupyter-widgets/controls",
      "_model_module_version": "1.5.0",
      "_model_name": "ProgressStyleModel",
      "_view_count": null,
      "_view_module": "@jupyter-widgets/base",
      "_view_module_version": "1.2.0",
      "_view_name": "StyleView",
      "bar_color": null,
      "description_width": "initial"
     }
    },
    "fef8941296c84806b7f51b043bc0030f": {
     "model_module": "@jupyter-widgets/controls",
     "model_module_version": "1.5.0",
     "model_name": "DescriptionStyleModel",
     "state": {
      "_model_module": "@jupyter-widgets/controls",
      "_model_module_version": "1.5.0",
      "_model_name": "DescriptionStyleModel",
      "_view_count": null,
      "_view_module": "@jupyter-widgets/base",
      "_view_module_version": "1.2.0",
      "_view_name": "StyleView",
      "description_width": ""
     }
    },
    "ff0073275d964ea68a04ad28323f17d5": {
     "model_module": "@jupyter-widgets/base",
     "model_module_version": "1.2.0",
     "model_name": "LayoutModel",
     "state": {
      "_model_module": "@jupyter-widgets/base",
      "_model_module_version": "1.2.0",
      "_model_name": "LayoutModel",
      "_view_count": null,
      "_view_module": "@jupyter-widgets/base",
      "_view_module_version": "1.2.0",
      "_view_name": "LayoutView",
      "align_content": null,
      "align_items": null,
      "align_self": null,
      "border": null,
      "bottom": null,
      "display": null,
      "flex": null,
      "flex_flow": null,
      "grid_area": null,
      "grid_auto_columns": null,
      "grid_auto_flow": null,
      "grid_auto_rows": null,
      "grid_column": null,
      "grid_gap": null,
      "grid_row": null,
      "grid_template_areas": null,
      "grid_template_columns": null,
      "grid_template_rows": null,
      "height": null,
      "justify_content": null,
      "justify_items": null,
      "left": null,
      "margin": null,
      "max_height": null,
      "max_width": null,
      "min_height": null,
      "min_width": null,
      "object_fit": null,
      "object_position": null,
      "order": null,
      "overflow": null,
      "overflow_x": null,
      "overflow_y": null,
      "padding": null,
      "right": null,
      "top": null,
      "visibility": null,
      "width": null
     }
    },
    "ff301e8380a74283abd368a7736276ba": {
     "model_module": "@jupyter-widgets/controls",
     "model_module_version": "1.5.0",
     "model_name": "HBoxModel",
     "state": {
      "_dom_classes": [],
      "_model_module": "@jupyter-widgets/controls",
      "_model_module_version": "1.5.0",
      "_model_name": "HBoxModel",
      "_view_count": null,
      "_view_module": "@jupyter-widgets/controls",
      "_view_module_version": "1.5.0",
      "_view_name": "HBoxView",
      "box_style": "",
      "children": [
       "IPY_MODEL_3b08782ec645458aa87963142e5f0e12",
       "IPY_MODEL_5e43ff3a43f64adc9ab6bf5ad56adf2c"
      ],
      "layout": "IPY_MODEL_127e314344294f60b060f53d266ab49d"
     }
    },
    "ffdcc445c8054103b89797b1e470a7ca": {
     "model_module": "@jupyter-widgets/controls",
     "model_module_version": "1.5.0",
     "model_name": "HTMLModel",
     "state": {
      "_dom_classes": [],
      "_model_module": "@jupyter-widgets/controls",
      "_model_module_version": "1.5.0",
      "_model_name": "HTMLModel",
      "_view_count": null,
      "_view_module": "@jupyter-widgets/controls",
      "_view_module_version": "1.5.0",
      "_view_name": "HTMLView",
      "description": "",
      "description_tooltip": null,
      "layout": "IPY_MODEL_5baad3c8c2444c969a44cf10d7a4259d",
      "placeholder": "​",
      "style": "IPY_MODEL_f2a3b557f23046cd907d7fa946943833",
      "value": " 333/333 [00:03&lt;00:00, 106.70it/s]"
     }
    }
   }
  }
 },
 "nbformat": 4,
 "nbformat_minor": 1
}
